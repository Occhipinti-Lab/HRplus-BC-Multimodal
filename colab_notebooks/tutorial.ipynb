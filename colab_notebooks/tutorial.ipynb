{
 "cells": [
  {
   "cell_type": "code",
   "execution_count": null,
   "id": "bdb13099",
   "metadata": {},
   "outputs": [],
   "source": [
    "# --- Install dependencies ---\n",
    "!pip install -r requirements.txt\n",
    "\n",
    "# --- Clone the main repo ---\n",
    "!git clone https://github.com/Occhipinti-Lab/HRplus-BC-Multimodal.git\n",
    "%cd HRplus-BC-Multimodal\n",
    "\n",
    "# --- Mount Google Drive if data is private ---\n",
    "from google.colab import drive\n",
    "drive.mount('/content/drive')\n",
    "\n",
    "# --- Define data paths ---\n",
    "import os\n",
    "DATA_PATH = \"/content/drive/MyDrive/HRplus_BC_data/\"\n",
    "os.makedirs(DATA_PATH, exist_ok=True)\n",
    "\n",
    "# --- Example: Load sample data ---\n",
    "import pandas as pd\n",
    "expr = pd.read_csv(f\"{DATA_PATH}/transcriptomics.csv\")\n",
    "flux = pd.read_csv(f\"{DATA_PATH}/fluxomics.csv\")\n",
    "\n",
    "print(expr.shape, flux.shape)\n",
    "expr.head()\n"
   ]
  },
  {
   "cell_type": "code",
   "execution_count": null,
   "id": "0e70378d",
   "metadata": {},
   "outputs": [],
   "source": []
  }
 ],
 "metadata": {
  "language_info": {
   "name": "python"
  }
 },
 "nbformat": 4,
 "nbformat_minor": 5
}
