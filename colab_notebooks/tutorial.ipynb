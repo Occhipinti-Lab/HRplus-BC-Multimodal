{
 "cells": [
  {
   "cell_type": "code",
   "execution_count": null,
   "id": "bdb13099",
   "metadata": {},
   "outputs": [],
   "source": [
    "# --- Environment setup for Google Colab ---\n",
    "!git clone https://github.com/Occhipinti-Lab/HRplus-BC-Multimodal.git\n",
    "%cd HRplus-BC-Multimodal\n",
    "!pip install -r requirements.txt\n",
    "\n",
    "from google.colab import drive\n",
    "drive.mount('/content/drive')"
   ]
  }
 ],
 "metadata": {
  "language_info": {
   "name": "python"
  }
 },
 "nbformat": 4,
 "nbformat_minor": 5
}
