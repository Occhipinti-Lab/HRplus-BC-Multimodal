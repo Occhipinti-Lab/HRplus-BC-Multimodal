{
  "nbformat": 4,
  "nbformat_minor": 0,
  "metadata": {
    "colab": {
      "provenance": [],
      "gpuType": "T4"
    },
    "kernelspec": {
      "name": "python3",
      "display_name": "Python 3"
    },
    "language_info": {
      "name": "python"
    }
  },
  "cells": [
    {
      "cell_type": "markdown",
      "source": [
        "# **Introduction**\n",
        "\n",
        "This notebook processes single-cell RNA sequencing data from the GSE300475 dataset to prepare it for downstream multimodal analysis. It covers downloading and extracting the raw data files, loading and annotating the gene expression matrix with patient and response metadata, and performing normalization, log-transformation, and selection of highly variable genes to reduce noise and focus on informative features. Key preprocessing steps are visualized, including gene variability and dimensionality reduction using PCA, both before and after filtering. Finally, the processed gene expression data is exported along with cell-level metadata to support integration with other data modalities and enable machine learning modeling of treatment response in breast cancer."
      ],
      "metadata": {
        "id": "q7LQPs4fTWhF"
      }
    },
    {
      "cell_type": "markdown",
      "source": [
        "**Step 1**: *Reset Google Drive Mount in Colab*\n",
        "\n",
        "* This step ensures that any previous Google Drive mount is safely removed before starting fresh.\n",
        "* First, the code tries to unmount Google Drive using `drive.flush_and_unmount()`. If Drive isn’t mounted yet, it catches and prints the exception.\n",
        "* Then it checks if the `/content/drive` folder still exists, and removes it using `shutil.rmtree()`. This clears any leftover mount point data.\n",
        "* This is helpful when switching accounts, resolving permission errors, or restarting workflows cleanly.\n",
        "* After this step, you're ready to freshly mount Google Drive again."
      ],
      "metadata": {
        "id": "JqAlrUCUDX6R"
      }
    },
    {
      "cell_type": "code",
      "source": [
        "!pip install scanpy"
      ],
      "metadata": {
        "colab": {
          "base_uri": "https://localhost:8080/"
        },
        "id": "c6LjohKtNVoX",
        "outputId": "406af4cd-6d4e-40df-883f-bc2ee8d5a41f"
      },
      "execution_count": null,
      "outputs": [
        {
          "output_type": "stream",
          "name": "stdout",
          "text": [
            "Collecting scanpy\n",
            "  Downloading scanpy-1.11.4-py3-none-any.whl.metadata (9.2 kB)\n",
            "Collecting anndata>=0.8 (from scanpy)\n",
            "  Downloading anndata-0.12.2-py3-none-any.whl.metadata (9.6 kB)\n",
            "Requirement already satisfied: h5py>=3.7.0 in /usr/local/lib/python3.12/dist-packages (from scanpy) (3.14.0)\n",
            "Requirement already satisfied: joblib in /usr/local/lib/python3.12/dist-packages (from scanpy) (1.5.2)\n",
            "Collecting legacy-api-wrap>=1.4.1 (from scanpy)\n",
            "  Downloading legacy_api_wrap-1.4.1-py3-none-any.whl.metadata (2.1 kB)\n",
            "Requirement already satisfied: matplotlib>=3.7.5 in /usr/local/lib/python3.12/dist-packages (from scanpy) (3.10.0)\n",
            "Requirement already satisfied: natsort in /usr/local/lib/python3.12/dist-packages (from scanpy) (8.4.0)\n",
            "Requirement already satisfied: networkx>=2.7.1 in /usr/local/lib/python3.12/dist-packages (from scanpy) (3.5)\n",
            "Requirement already satisfied: numba>=0.57.1 in /usr/local/lib/python3.12/dist-packages (from scanpy) (0.60.0)\n",
            "Requirement already satisfied: numpy>=1.24.1 in /usr/local/lib/python3.12/dist-packages (from scanpy) (2.0.2)\n",
            "Requirement already satisfied: packaging>=21.3 in /usr/local/lib/python3.12/dist-packages (from scanpy) (25.0)\n",
            "Requirement already satisfied: pandas>=1.5.3 in /usr/local/lib/python3.12/dist-packages (from scanpy) (2.2.2)\n",
            "Requirement already satisfied: patsy!=1.0.0 in /usr/local/lib/python3.12/dist-packages (from scanpy) (1.0.1)\n",
            "Requirement already satisfied: pynndescent>=0.5.13 in /usr/local/lib/python3.12/dist-packages (from scanpy) (0.5.13)\n",
            "Requirement already satisfied: scikit-learn>=1.1.3 in /usr/local/lib/python3.12/dist-packages (from scanpy) (1.6.1)\n",
            "Requirement already satisfied: scipy>=1.8.1 in /usr/local/lib/python3.12/dist-packages (from scanpy) (1.16.2)\n",
            "Requirement already satisfied: seaborn>=0.13.2 in /usr/local/lib/python3.12/dist-packages (from scanpy) (0.13.2)\n",
            "Collecting session-info2 (from scanpy)\n",
            "  Downloading session_info2-0.2.2-py3-none-any.whl.metadata (3.4 kB)\n",
            "Requirement already satisfied: statsmodels>=0.14.5 in /usr/local/lib/python3.12/dist-packages (from scanpy) (0.14.5)\n",
            "Requirement already satisfied: tqdm in /usr/local/lib/python3.12/dist-packages (from scanpy) (4.67.1)\n",
            "Requirement already satisfied: typing-extensions in /usr/local/lib/python3.12/dist-packages (from scanpy) (4.15.0)\n",
            "Requirement already satisfied: umap-learn>=0.5.6 in /usr/local/lib/python3.12/dist-packages (from scanpy) (0.5.9.post2)\n",
            "Collecting array-api-compat>=1.7.1 (from anndata>=0.8->scanpy)\n",
            "  Downloading array_api_compat-1.12.0-py3-none-any.whl.metadata (2.5 kB)\n",
            "Collecting zarr!=3.0.*,>=2.18.7 (from anndata>=0.8->scanpy)\n",
            "  Downloading zarr-3.1.3-py3-none-any.whl.metadata (10 kB)\n",
            "Requirement already satisfied: contourpy>=1.0.1 in /usr/local/lib/python3.12/dist-packages (from matplotlib>=3.7.5->scanpy) (1.3.3)\n",
            "Requirement already satisfied: cycler>=0.10 in /usr/local/lib/python3.12/dist-packages (from matplotlib>=3.7.5->scanpy) (0.12.1)\n",
            "Requirement already satisfied: fonttools>=4.22.0 in /usr/local/lib/python3.12/dist-packages (from matplotlib>=3.7.5->scanpy) (4.60.1)\n",
            "Requirement already satisfied: kiwisolver>=1.3.1 in /usr/local/lib/python3.12/dist-packages (from matplotlib>=3.7.5->scanpy) (1.4.9)\n",
            "Requirement already satisfied: pillow>=8 in /usr/local/lib/python3.12/dist-packages (from matplotlib>=3.7.5->scanpy) (11.3.0)\n",
            "Requirement already satisfied: pyparsing>=2.3.1 in /usr/local/lib/python3.12/dist-packages (from matplotlib>=3.7.5->scanpy) (3.2.5)\n",
            "Requirement already satisfied: python-dateutil>=2.7 in /usr/local/lib/python3.12/dist-packages (from matplotlib>=3.7.5->scanpy) (2.9.0.post0)\n",
            "Requirement already satisfied: llvmlite<0.44,>=0.43.0dev0 in /usr/local/lib/python3.12/dist-packages (from numba>=0.57.1->scanpy) (0.43.0)\n",
            "Requirement already satisfied: pytz>=2020.1 in /usr/local/lib/python3.12/dist-packages (from pandas>=1.5.3->scanpy) (2025.2)\n",
            "Requirement already satisfied: tzdata>=2022.7 in /usr/local/lib/python3.12/dist-packages (from pandas>=1.5.3->scanpy) (2025.2)\n",
            "Requirement already satisfied: threadpoolctl>=3.1.0 in /usr/local/lib/python3.12/dist-packages (from scikit-learn>=1.1.3->scanpy) (3.6.0)\n",
            "Requirement already satisfied: six>=1.5 in /usr/local/lib/python3.12/dist-packages (from python-dateutil>=2.7->matplotlib>=3.7.5->scanpy) (1.17.0)\n",
            "Collecting donfig>=0.8 (from zarr!=3.0.*,>=2.18.7->anndata>=0.8->scanpy)\n",
            "  Downloading donfig-0.8.1.post1-py3-none-any.whl.metadata (5.0 kB)\n",
            "Collecting numcodecs>=0.14 (from numcodecs[crc32c]>=0.14->zarr!=3.0.*,>=2.18.7->anndata>=0.8->scanpy)\n",
            "  Downloading numcodecs-0.16.3-cp312-cp312-manylinux_2_17_x86_64.manylinux2014_x86_64.whl.metadata (3.3 kB)\n",
            "Requirement already satisfied: pyyaml in /usr/local/lib/python3.12/dist-packages (from donfig>=0.8->zarr!=3.0.*,>=2.18.7->anndata>=0.8->scanpy) (6.0.3)\n",
            "Collecting crc32c>=2.7 (from numcodecs[crc32c]>=0.14->zarr!=3.0.*,>=2.18.7->anndata>=0.8->scanpy)\n",
            "  Downloading crc32c-2.7.1-cp312-cp312-manylinux_2_5_x86_64.manylinux1_x86_64.manylinux_2_17_x86_64.manylinux2014_x86_64.whl.metadata (7.3 kB)\n",
            "Downloading scanpy-1.11.4-py3-none-any.whl (2.1 MB)\n",
            "\u001b[2K   \u001b[90m━━━━━━━━━━━━━━━━━━━━━━━━━━━━━━━━━━━━━━━━\u001b[0m \u001b[32m2.1/2.1 MB\u001b[0m \u001b[31m22.8 MB/s\u001b[0m eta \u001b[36m0:00:00\u001b[0m\n",
            "\u001b[?25hDownloading anndata-0.12.2-py3-none-any.whl (169 kB)\n",
            "\u001b[2K   \u001b[90m━━━━━━━━━━━━━━━━━━━━━━━━━━━━━━━━━━━━━━━━\u001b[0m \u001b[32m169.9/169.9 kB\u001b[0m \u001b[31m6.4 MB/s\u001b[0m eta \u001b[36m0:00:00\u001b[0m\n",
            "\u001b[?25hDownloading legacy_api_wrap-1.4.1-py3-none-any.whl (10.0 kB)\n",
            "Downloading session_info2-0.2.2-py3-none-any.whl (16 kB)\n",
            "Downloading array_api_compat-1.12.0-py3-none-any.whl (58 kB)\n",
            "\u001b[2K   \u001b[90m━━━━━━━━━━━━━━━━━━━━━━━━━━━━━━━━━━━━━━━━\u001b[0m \u001b[32m58.2/58.2 kB\u001b[0m \u001b[31m3.1 MB/s\u001b[0m eta \u001b[36m0:00:00\u001b[0m\n",
            "\u001b[?25hDownloading zarr-3.1.3-py3-none-any.whl (276 kB)\n",
            "\u001b[2K   \u001b[90m━━━━━━━━━━━━━━━━━━━━━━━━━━━━━━━━━━━━━━━━\u001b[0m \u001b[32m276.4/276.4 kB\u001b[0m \u001b[31m9.6 MB/s\u001b[0m eta \u001b[36m0:00:00\u001b[0m\n",
            "\u001b[?25hDownloading donfig-0.8.1.post1-py3-none-any.whl (21 kB)\n",
            "Downloading numcodecs-0.16.3-cp312-cp312-manylinux_2_17_x86_64.manylinux2014_x86_64.whl (8.8 MB)\n",
            "\u001b[2K   \u001b[90m━━━━━━━━━━━━━━━━━━━━━━━━━━━━━━━━━━━━━━━━\u001b[0m \u001b[32m8.8/8.8 MB\u001b[0m \u001b[31m44.5 MB/s\u001b[0m eta \u001b[36m0:00:00\u001b[0m\n",
            "\u001b[?25hDownloading crc32c-2.7.1-cp312-cp312-manylinux_2_5_x86_64.manylinux1_x86_64.manylinux_2_17_x86_64.manylinux2014_x86_64.whl (53 kB)\n",
            "\u001b[2K   \u001b[90m━━━━━━━━━━━━━━━━━━━━━━━━━━━━━━━━━━━━━━━━\u001b[0m \u001b[32m53.5/53.5 kB\u001b[0m \u001b[31m2.7 MB/s\u001b[0m eta \u001b[36m0:00:00\u001b[0m\n",
            "\u001b[?25hInstalling collected packages: session-info2, numcodecs, legacy-api-wrap, donfig, crc32c, array-api-compat, zarr, anndata, scanpy\n",
            "Successfully installed anndata-0.12.2 array-api-compat-1.12.0 crc32c-2.7.1 donfig-0.8.1.post1 legacy-api-wrap-1.4.1 numcodecs-0.16.3 scanpy-1.11.4 session-info2-0.2.2 zarr-3.1.3\n"
          ]
        }
      ]
    },
    {
      "cell_type": "code",
      "source": [
        "import shutil\n",
        "import os\n",
        "import scanpy as sc\n",
        "\n",
        "# Try unmount if already mounted\n",
        "try:\n",
        "    from google.colab import drive\n",
        "    drive.flush_and_unmount()\n",
        "except Exception as e:\n",
        "    print(\"Unmount failed or not mounted yet:\", e)\n",
        "\n",
        "# Now remove the folder manually if it still exists\n",
        "if os.path.exists(\"/content/drive\"):\n",
        "    shutil.rmtree(\"/content/drive\", ignore_errors=True)\n",
        "\n",
        "print(\"Cleaned /content/drive. Now you can mount again.\")"
      ],
      "metadata": {
        "id": "U0uHrNY0sdMV",
        "colab": {
          "base_uri": "https://localhost:8080/"
        },
        "outputId": "3fe98ea2-b74b-4073-911f-4c9f9d28405f"
      },
      "execution_count": null,
      "outputs": [
        {
          "output_type": "stream",
          "name": "stdout",
          "text": [
            "Drive not mounted, so nothing to flush and unmount.\n",
            "Cleaned /content/drive. Now you can mount again.\n"
          ]
        }
      ]
    },
    {
      "cell_type": "markdown",
      "source": [
        "**Step 2**: *Mount Google Drive*\n",
        "\n",
        "* After cleaning up any previous mount (Step 1), we now freshly mount Google Drive into the Colab environment.\n",
        "* The method `drive.mount('/content/drive')` prompts you to authenticate using your Google account.\n",
        "* Once authenticated, it creates a virtual mount point at `/content/drive` where all your Drive files can be accessed just like a local directory.\n",
        "* This is essential for reading datasets, saving outputs, or loading pre-existing files from Google Drive."
      ],
      "metadata": {
        "id": "ddqXRqPlEFiA"
      }
    },
    {
      "cell_type": "code",
      "source": [
        "from google.colab import drive\n",
        "drive.mount('/content/drive')"
      ],
      "metadata": {
        "id": "iWU5B_yusuzE",
        "colab": {
          "base_uri": "https://localhost:8080/"
        },
        "outputId": "db20aea7-2df2-4450-c19c-038b90165cf3"
      },
      "execution_count": null,
      "outputs": [
        {
          "output_type": "stream",
          "name": "stdout",
          "text": [
            "Mounted at /content/drive\n"
          ]
        }
      ]
    },
    {
      "cell_type": "markdown",
      "source": [
        "**Step 3**: *Download and Extract TCR Data Archive from GEO*\n",
        "\n",
        "* This step handles the download and extraction of the **TCR-seq dataset (GSE300475)** from the NCBI GEO repository.\n",
        "* We **force re-mount** Google Drive (`force_remount=True`) to ensure a clean mount in case of residual connections or folder conflicts.\n",
        "* The `.tar` archive is then downloaded directly into your Google Drive under `/MyDrive`.\n",
        "* We use Python's `tarfile` module to extract the contents to a new folder, `/MyDrive/GSE300475_extracted`, making all files accessible for downstream processing.\n",
        "\n",
        "**File downloaded**:\n",
        "`GSE300475_RAW.tar` (566 MB)\n",
        "\n",
        "**Extraction folder**:\n",
        "`/content/drive/MyDrive/GSE300475_extracted`\n",
        "\n",
        "**Expected Output Summary**:\n",
        "\n",
        "* `Mounted at /content/drive`\n",
        "* Confirmation of successful download via `wget`\n",
        "* `Extraction complete.` after untarring the contents"
      ],
      "metadata": {
        "id": "Et1RW7JyEn2z"
      }
    },
    {
      "cell_type": "code",
      "execution_count": null,
      "metadata": {
        "id": "My2jFIjeSnIw",
        "colab": {
          "base_uri": "https://localhost:8080/"
        },
        "outputId": "833586a9-ff6e-4691-c4d3-04dae9041ab8"
      },
      "outputs": [
        {
          "output_type": "stream",
          "name": "stdout",
          "text": [
            "Mounted at /content/drive\n",
            "--2025-10-04 18:33:38--  https://ftp.ncbi.nlm.nih.gov/geo/series/GSE300nnn/GSE300475/suppl/GSE300475_RAW.tar\n",
            "Resolving ftp.ncbi.nlm.nih.gov (ftp.ncbi.nlm.nih.gov)... 130.14.250.11, 130.14.250.12, 130.14.250.13, ...\n",
            "Connecting to ftp.ncbi.nlm.nih.gov (ftp.ncbi.nlm.nih.gov)|130.14.250.11|:443... connected.\n",
            "HTTP request sent, awaiting response... 200 OK\n",
            "Length: 592977920 (566M) [application/x-tar]\n",
            "Saving to: ‘/content/drive/MyDrive/Data/rawdata/GSE300475_RAW.tar’\n",
            "\n",
            "/content/drive/MyDr 100%[===================>] 565.51M  31.6MB/s    in 20s     \n",
            "\n",
            "2025-10-04 18:33:59 (27.7 MB/s) - ‘/content/drive/MyDrive/Data/rawdata/GSE300475_RAW.tar’ saved [592977920/592977920]\n",
            "\n"
          ]
        },
        {
          "output_type": "stream",
          "name": "stderr",
          "text": [
            "/tmp/ipython-input-2095760645.py:15: DeprecationWarning: Python 3.14 will, by default, filter extracted tar archives and reject files or modify their metadata. Use the filter argument to control this behavior.\n",
            "  tar.extractall(path=extract_path)\n"
          ]
        },
        {
          "output_type": "stream",
          "name": "stdout",
          "text": [
            "Extraction complete.\n"
          ]
        }
      ],
      "source": [
        "# Mount Google Drive (force remount to avoid folder conflict)\n",
        "from google.colab import drive\n",
        "drive.mount('/content/drive', force_remount=True)\n",
        "\n",
        "# Change this path to where you want to store it\n",
        "download_path = '/content/drive/MyDrive/Data/rawdata/GSE300475_RAW.tar'\n",
        "\n",
        "# Download the TAR archive\n",
        "!wget -O \"$download_path\" \"https://ftp.ncbi.nlm.nih.gov/geo/series/GSE300nnn/GSE300475/suppl/GSE300475_RAW.tar\"\n",
        "\n",
        "# Extract it\n",
        "import tarfile\n",
        "extract_path = '/content/drive/MyDrive/Data/rawdata'\n",
        "with tarfile.open(download_path, 'r') as tar:\n",
        "    tar.extractall(path=extract_path)\n",
        "\n",
        "print(\"Extraction complete.\")"
      ]
    },
    {
      "cell_type": "markdown",
      "source": [
        "**Step 4**: *Install Scanpy Library*\n",
        "\n",
        "* This step installs the `scanpy` package, which is a comprehensive Python library for analyzing single-cell RNA-seq data.\n",
        "\n",
        "* It provides tools for data preprocessing, dimensionality reduction, clustering, visualization, and differential expression analysis.\n",
        "\n",
        "* Installation is done using `pip` and will work only within the current Colab session unless re-installed after a restart.\n",
        "\n",
        "* Installed package: `scanpy`\n",
        "\n",
        "* Automatically includes key dependencies such as `anndata`, `numpy`, `pandas`, `scikit-learn`, `matplotlib`, and `scipy`."
      ],
      "metadata": {
        "id": "Q7k7SgfkFS9o"
      }
    },
    {
      "cell_type": "markdown",
      "source": [
        "**Step 5**: *Load and Combine Single-Cell Gene Expression Data from Multiple Samples*\n",
        "\n",
        "* The extracted directory containing 10X Genomics formatted data is scanned to identify all samples by detecting barcode files (`barcodes.tsv.gz`).\n",
        "\n",
        "* Sample prefixes are automatically extracted from filenames for batch loading.\n",
        "\n",
        "* Each sample is loaded individually using Scanpy’s `read_10x_mtx` function with gene IDs as variable names.\n",
        "\n",
        "* A new observation column `sample_id` is added to each AnnData object to keep track of the sample origin.\n",
        "\n",
        "* All sample AnnData objects are concatenated into a single combined AnnData object for unified downstream analysis.\n",
        "\n",
        "* A warning about duplicate observation (cell) names appears because different samples may have overlapping barcode IDs; this can be resolved later if needed by calling `.obs_names_make_unique()`.\n",
        "\n",
        "* The combined dataset contains approximately 100,067 cells and 36,601 genes.\n",
        "\n",
        "* The final combined AnnData object is saved to Google Drive in `.h5ad` format for persistent storage and future use.\n",
        "\n",
        "* Input path: `/content/drive/MyDrive/GSE300475_extracted`\n",
        "\n",
        "* Output file: `/content/drive/MyDrive/MultimodalCSVs/gene_expression_combined_raw.h5ad`"
      ],
      "metadata": {
        "id": "UECj6II1FnAK"
      }
    },
    {
      "cell_type": "code",
      "source": [
        "# Path to the extracted directory\n",
        "extract_path = '/content/drive/MyDrive/Data/rawdata'\n",
        "\n",
        "# List all barcodes files to detect the sample prefixes automatically\n",
        "sample_prefixes = sorted([\n",
        "    f.split('_')[0] + \"_\" + f.split('_')[1]\n",
        "    for f in os.listdir(extract_path)\n",
        "    if f.endswith('barcodes.tsv.gz')\n",
        "])\n",
        "\n",
        "# Load each sample individually\n",
        "adatas = []\n",
        "\n",
        "for sample in sample_prefixes:\n",
        "    print(f\"Loading: {sample}\")\n",
        "    adata = sc.read_10x_mtx(\n",
        "        extract_path,\n",
        "        var_names='gene_ids',\n",
        "        prefix=sample + \"_\",\n",
        "        cache=True\n",
        "    )\n",
        "    adata.obs['sample_id'] = sample\n",
        "    adatas.append(adata)\n",
        "\n",
        "# Concatenate all AnnData objects\n",
        "print(\"Concatenating samples...\")\n",
        "combined_adata = sc.concat(adatas, label='sample_id', keys=sample_prefixes)\n",
        "\n",
        "print(f\"Combined shape: {combined_adata.shape}\")\n",
        "print(\"Saving combined AnnData to disk...\")\n",
        "\n",
        "# Save the combined AnnData to Google Drive\n",
        "save_path = '/content/drive/MyDrive/Data/rawdata/gene_expression_combined_raw.h5ad'\n",
        "os.makedirs('/content/drive/MyDrive/Data/rawdata', exist_ok=True)\n",
        "combined_adata.write(save_path)\n",
        "\n",
        "print(f\"Saved to: {save_path}\")"
      ],
      "metadata": {
        "id": "nsQ8drOMtU_x",
        "colab": {
          "base_uri": "https://localhost:8080/"
        },
        "outputId": "adee5f00-8e7b-4298-c3f8-1cefb6a62b3f"
      },
      "execution_count": null,
      "outputs": [
        {
          "output_type": "stream",
          "name": "stdout",
          "text": [
            "Loading: GSM9061665_S1\n",
            "Loading: GSM9061666_S2\n",
            "Loading: GSM9061667_S3\n",
            "Loading: GSM9061668_S4\n",
            "Loading: GSM9061669_S5\n",
            "Loading: GSM9061670_S6\n",
            "Loading: GSM9061671_S7\n",
            "Loading: GSM9061672_S8\n",
            "Loading: GSM9061673_S9\n",
            "Loading: GSM9061674_S10\n",
            "Loading: GSM9061675_S11\n",
            "Concatenating samples...\n"
          ]
        },
        {
          "output_type": "stream",
          "name": "stderr",
          "text": [
            "/usr/local/lib/python3.12/dist-packages/anndata/_core/anndata.py:1791: UserWarning: Observation names are not unique. To make them unique, call `.obs_names_make_unique`.\n",
            "  utils.warn_names_duplicates(\"obs\")\n"
          ]
        },
        {
          "output_type": "stream",
          "name": "stdout",
          "text": [
            "Combined shape: (100067, 36601)\n",
            "Saving combined AnnData to disk...\n",
            "Saved to: /content/drive/MyDrive/Data/rawdata/gene_expression_combined_raw.h5ad\n"
          ]
        }
      ]
    },
    {
      "cell_type": "markdown",
      "source": [
        "**Step 6**: *Annotate Cells with Patient ID and Treatment Response Labels*\n",
        "\n",
        "* The previously saved combined AnnData object is loaded from disk.\n",
        "\n",
        "* A mapping dictionary links the original sample IDs (`sample_id`) to patient IDs (`patient_id`), standardizing sample names to meaningful patient codes (e.g., `\"GSM9061665_S1\"` → `\"PT1\"`).\n",
        "\n",
        "* Known responder and non-responder patient sets are defined based on clinical metadata.\n",
        "\n",
        "* Each cell is annotated with its corresponding patient ID using the mapping.\n",
        "\n",
        "* A new categorical column `response` is added, classifying cells as `\"Responder\"`, `\"Non-responder\"`, or `\"Unknown\"` depending on patient membership in responder/non-responder groups.\n",
        "\n",
        "* Cells with unknown response status (e.g., samples labeled `\"Week1\"` or `\"Week3\"`) are filtered out to focus the analysis on well-defined response groups.\n",
        "\n",
        "* The filtered and annotated AnnData object is saved back to Google Drive.\n",
        "\n",
        "* The final dataset contains 58,177 cells and 36,601 genes, with about 19,201 responder cells and 38,976 non-responder cells.\n",
        "\n",
        "* Input file: `/content/drive/MyDrive/MultimodalCSVs/gene_expression_combined_raw.h5ad`\n",
        "\n",
        "* Output file: `/content/drive/MyDrive/MultimodalCSVs/gene_expression_annotated.h5ad`"
      ],
      "metadata": {
        "id": "c1w8kU_VGCAr"
      }
    },
    {
      "cell_type": "code",
      "source": [
        "import pandas as pd\n",
        "\n",
        "# Load your saved raw data\n",
        "adata = sc.read_h5ad(\"/content/drive/MyDrive/Data/rawdata/gene_expression_combined_raw.h5ad\")\n",
        "\n",
        "# Mapping from GSM ID to patient ID\n",
        "gsm_to_patient = {\n",
        "    \"GSM9061665_S1\": \"PT1\",\n",
        "    \"GSM9061666_S2\": \"PT6\",\n",
        "    \"GSM9061667_S3\": \"PT7\",\n",
        "    \"GSM9061668_S4\": \"PT13\",\n",
        "    \"GSM9061669_S5\": \"PT15\",\n",
        "    \"GSM9061670_S6\": \"Week3\",\n",
        "    \"GSM9061671_S7\": \"Week3_addition\",\n",
        "    \"GSM9061672_S8\": \"PT15_add\",\n",
        "    \"GSM9061673_S9\": \"PT11\",\n",
        "    \"GSM9061674_S10\": \"PT5\",\n",
        "    \"GSM9061675_S11\": \"Week1\"\n",
        "}\n",
        "\n",
        "# Known responders/non-responders\n",
        "responder_pts = {\"PT1\", \"PT7\", \"PT15\"}\n",
        "non_responder_pts = {\"PT5\", \"PT6\", \"PT11\", \"PT13\"}\n",
        "\n",
        "# Add patient_id to obs\n",
        "adata.obs['patient_id'] = adata.obs['sample_id'].map(gsm_to_patient)\n",
        "\n",
        "# Add response label\n",
        "def classify_response(pid):\n",
        "    if pid in responder_pts:\n",
        "        return \"Responder\"\n",
        "    elif pid in non_responder_pts:\n",
        "        return \"Non-responder\"\n",
        "    else:\n",
        "        return \"Unknown\"\n",
        "\n",
        "adata.obs['response'] = adata.obs['patient_id'].map(classify_response)\n",
        "\n",
        "# Remove cells with unknown response\n",
        "adata = adata[adata.obs['response'] != \"Unknown\"].copy()\n",
        "\n",
        "# Save the annotated file\n",
        "annotated_path = \"/content/drive/MyDrive/Data/rawdata/gene_expression_annotated.h5ad\"\n",
        "adata.write(annotated_path)\n",
        "print(f\"Annotated AnnData saved to:\\n{annotated_path}\")\n",
        "print(f\"Final shape: {adata.shape}\")\n",
        "adata.obs['response'].value_counts()"
      ],
      "metadata": {
        "id": "4DOilcBjo7Sx",
        "colab": {
          "base_uri": "https://localhost:8080/",
          "height": 323
        },
        "outputId": "80b96c4e-40ce-4432-8801-5c9564240f16"
      },
      "execution_count": null,
      "outputs": [
        {
          "output_type": "stream",
          "name": "stderr",
          "text": [
            "/usr/local/lib/python3.12/dist-packages/anndata/_core/anndata.py:1791: UserWarning: Observation names are not unique. To make them unique, call `.obs_names_make_unique`.\n",
            "  utils.warn_names_duplicates(\"obs\")\n",
            "/usr/local/lib/python3.12/dist-packages/anndata/_core/anndata.py:1791: UserWarning: Observation names are not unique. To make them unique, call `.obs_names_make_unique`.\n",
            "  utils.warn_names_duplicates(\"obs\")\n"
          ]
        },
        {
          "output_type": "stream",
          "name": "stdout",
          "text": [
            "Annotated AnnData saved to:\n",
            "/content/drive/MyDrive/Data/rawdata/gene_expression_annotated.h5ad\n",
            "Final shape: (58177, 36601)\n"
          ]
        },
        {
          "output_type": "execute_result",
          "data": {
            "text/plain": [
              "response\n",
              "Non-responder    38976\n",
              "Responder        19201\n",
              "Name: count, dtype: int64"
            ],
            "text/html": [
              "<div>\n",
              "<style scoped>\n",
              "    .dataframe tbody tr th:only-of-type {\n",
              "        vertical-align: middle;\n",
              "    }\n",
              "\n",
              "    .dataframe tbody tr th {\n",
              "        vertical-align: top;\n",
              "    }\n",
              "\n",
              "    .dataframe thead th {\n",
              "        text-align: right;\n",
              "    }\n",
              "</style>\n",
              "<table border=\"1\" class=\"dataframe\">\n",
              "  <thead>\n",
              "    <tr style=\"text-align: right;\">\n",
              "      <th></th>\n",
              "      <th>count</th>\n",
              "    </tr>\n",
              "    <tr>\n",
              "      <th>response</th>\n",
              "      <th></th>\n",
              "    </tr>\n",
              "  </thead>\n",
              "  <tbody>\n",
              "    <tr>\n",
              "      <th>Non-responder</th>\n",
              "      <td>38976</td>\n",
              "    </tr>\n",
              "    <tr>\n",
              "      <th>Responder</th>\n",
              "      <td>19201</td>\n",
              "    </tr>\n",
              "  </tbody>\n",
              "</table>\n",
              "</div><br><label><b>dtype:</b> int64</label>"
            ]
          },
          "metadata": {},
          "execution_count": 6
        }
      ]
    }
  ]
}