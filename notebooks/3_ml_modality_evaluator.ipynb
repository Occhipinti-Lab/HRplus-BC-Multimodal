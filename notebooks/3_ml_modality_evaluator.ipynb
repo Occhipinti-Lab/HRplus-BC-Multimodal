{
 "cells": [
  {
   "cell_type": "code",
   "execution_count": 2,
   "id": "c23fa498",
   "metadata": {},
   "outputs": [],
   "source": [
    "import warnings\n",
    "warnings.filterwarnings(\"ignore\")"
   ]
  },
  {
   "cell_type": "code",
   "execution_count": 4,
   "id": "6f44161f",
   "metadata": {},
   "outputs": [
    {
     "name": "stdout",
     "output_type": "stream",
     "text": [
      "🔧 TUNE_MODE: ON | Optuna Trials: 20\n"
     ]
    }
   ],
   "source": [
    "import pandas as pd\n",
    "import numpy as np\n",
    "import gc\n",
    "import time\n",
    "from pathlib import Path\n",
    "from tqdm.auto import tqdm\n",
    "from datetime import datetime\n",
    "\n",
    "from sklearn.model_selection import train_test_split\n",
    "from sklearn.preprocessing import StandardScaler\n",
    "from sklearn.metrics import (\n",
    "    accuracy_score, precision_score, recall_score, f1_score, roc_auc_score,\n",
    "    matthews_corrcoef, brier_score_loss\n",
    ")\n",
    "from sklearn.linear_model import LogisticRegression\n",
    "from sklearn.ensemble import RandomForestClassifier\n",
    "import xgboost as xgb\n",
    "from tensorflow.keras import models, layers, optimizers\n",
    "from tensorflow.keras.callbacks import EarlyStopping\n",
    "\n",
    "import shap\n",
    "import optuna\n",
    "\n",
    "# ============================================================\n",
    "# ⚙️ Global Configuration\n",
    "# ============================================================\n",
    "base_dir = Path().resolve()\n",
    "results_dir = base_dir / \"results\"\n",
    "results_dir.mkdir(exist_ok=True)\n",
    "\n",
    "TUNE_MODE = True   # ✅ set False for quick run\n",
    "N_TRIALS = 20\n",
    "SEED = 42\n",
    "\n",
    "print(f\"🔧 TUNE_MODE: {'ON' if TUNE_MODE else 'OFF'} | Optuna Trials: {N_TRIALS}\")"
   ]
  },
  {
   "cell_type": "code",
   "execution_count": 11,
   "id": "1d2f4ff4",
   "metadata": {},
   "outputs": [],
   "source": [
    "# Select Number of Feature for Each Modality\n",
    "tr_n = 250\n",
    "fl_n = 200"
   ]
  },
  {
   "cell_type": "code",
   "execution_count": 5,
   "id": "34842e56",
   "metadata": {},
   "outputs": [],
   "source": [
    "# Evaluation Function for each model\n",
    "def evaluate_model(model, X_test, y_test, model_name):\n",
    "    \"\"\"Evaluate multiple classification metrics.\"\"\"\n",
    "    if hasattr(model, \"predict_proba\"):\n",
    "        y_prob = model.predict_proba(X_test)[:, 1]\n",
    "        y_pred = (y_prob > 0.5).astype(int)\n",
    "    else:\n",
    "        y_prob = model.predict(X_test)\n",
    "        y_pred = (y_prob > 0.5).astype(int)\n",
    "\n",
    "    acc = accuracy_score(y_test, y_pred)\n",
    "    prec = precision_score(y_test, y_pred)\n",
    "    rec = recall_score(y_test, y_pred)\n",
    "    f1 = f1_score(y_test, y_pred)\n",
    "    auc = roc_auc_score(y_test, y_prob)\n",
    "    mcc = matthews_corrcoef(y_test, y_pred)\n",
    "    brier = brier_score_loss(y_test, y_prob)\n",
    "\n",
    "    print(f\"✅ {model_name}: acc={acc:.3f}, f1={f1:.3f}, auc={auc:.3f}, mcc={mcc:.3f}, brier={brier:.3f}\")\n",
    "    return acc, prec, rec, f1, auc, mcc, brier"
   ]
  },
  {
   "cell_type": "code",
   "execution_count": 9,
   "id": "dbed63e0",
   "metadata": {},
   "outputs": [],
   "source": [
    "# Load Transcriptomics and Fluxomics data\n",
    "def load_transcriptomic(base_dir, meta):\n",
    "    trans = pd.read_csv(base_dir.parent / \"dataset/transcriptomic_hvg.csv\", index_col=0)\n",
    "    trans = pd.merge(trans, meta[[\"response\"]], left_index=True, right_index=True, how=\"inner\")\n",
    "    trans = trans.loc[:, ~trans.columns.str.upper().str.startswith(\"MT-\")]\n",
    "    trans[\"response\"] = trans[\"response\"].map({\"Responder\": 1, \"Non-responder\": 0})\n",
    "    y = trans[\"response\"].astype(np.int8)\n",
    "    X = trans.drop(columns=[\"response\"]).astype(np.float32)\n",
    "    return X, y\n",
    "\n",
    "\n",
    "def load_fluxomic(base_dir):\n",
    "    flux = pd.read_csv(base_dir.parent / \"dataset/fluxomics.csv\", index_col=0)\n",
    "    rxns = [c for c in flux.columns if c != \"response\" and not c.startswith(\"EX_\")]\n",
    "    flux = flux[rxns + [\"response\"]]\n",
    "    flux[\"response\"] = flux[\"response\"].map({\"Responder\": 1, \"Non-responder\": 0})\n",
    "    y = flux[\"response\"].astype(np.int8)\n",
    "    X = flux.drop(columns=[\"response\"]).astype(np.float32)\n",
    "    return X, y"
   ]
  },
  {
   "cell_type": "code",
   "execution_count": 12,
   "id": "865673f5",
   "metadata": {},
   "outputs": [
    {
     "name": "stdout",
     "output_type": "stream",
     "text": [
      "✅ Data loaded and selected.\n"
     ]
    }
   ],
   "source": [
    "# Load Meta Data and select features\n",
    "meta = pd.read_csv(base_dir.parent / \"dataset/metadata.csv\", index_col=0)\n",
    "hvg_genes = pd.read_csv(base_dir.parent / \"dataset/hvg_genes.csv\", header=None).squeeze().tolist()\n",
    "\n",
    "X_trans, y_trans = load_transcriptomic(base_dir, meta)\n",
    "X_flux, y_flux = load_fluxomic(base_dir)\n",
    "\n",
    "# select top features\n",
    "tr_top = [g for g in hvg_genes if g in X_trans.columns][:tr_n]\n",
    "fl_top = X_flux.var().sort_values(ascending=False).index[:fl_n]\n",
    "\n",
    "X_tr_250 = X_trans[tr_top]\n",
    "X_fl_200 = X_flux[fl_top]\n",
    "\n",
    "# multimodal merge\n",
    "X_multi_full = pd.merge(X_trans, X_flux, left_index=True, right_index=True, how=\"inner\")\n",
    "y_multi = meta.loc[X_multi_full.index, \"response\"].map({\"Responder\": 1, \"Non-responder\": 0}).astype(np.int8)\n",
    "X_multi = X_multi_full[list(tr_top) + list(fl_top)]\n",
    "print(\"✅ Data loaded and selected.\")\n"
   ]
  },
  {
   "cell_type": "code",
   "execution_count": 13,
   "id": "d1db2658",
   "metadata": {},
   "outputs": [],
   "source": [
    "# Optuna Objective Functions\n",
    "def tune_logreg(trial, X_train, X_val, y_train, y_val):\n",
    "    C = trial.suggest_float(\"C\", 1e-3, 100, log=True)\n",
    "    model = LogisticRegression(solver=\"lbfgs\", max_iter=1000, C=C)\n",
    "    model.fit(X_train, y_train)\n",
    "    preds = model.predict_proba(X_val)[:, 1]\n",
    "    return roc_auc_score(y_val, preds)\n",
    "\n",
    "\n",
    "def tune_rf(trial, X_train, X_val, y_train, y_val):\n",
    "    params = {\n",
    "        \"n_estimators\": trial.suggest_int(\"n_estimators\", 200, 800, step=200),\n",
    "        \"max_depth\": trial.suggest_int(\"max_depth\", 6, 16),\n",
    "        \"min_samples_split\": trial.suggest_int(\"min_samples_split\", 2, 6),\n",
    "        \"min_samples_leaf\": trial.suggest_int(\"min_samples_leaf\", 1, 4),\n",
    "        \"max_features\": trial.suggest_categorical(\"max_features\", [\"sqrt\", \"log2\"]),\n",
    "    }\n",
    "    model = RandomForestClassifier(random_state=SEED, n_jobs=-1, **params)\n",
    "    model.fit(X_train, y_train)\n",
    "    preds = model.predict_proba(X_val)[:, 1]\n",
    "    return roc_auc_score(y_val, preds)\n",
    "\n",
    "\n",
    "def tune_xgb(trial, X_train, X_val, y_train, y_val):\n",
    "    params = {\n",
    "        \"objective\": \"binary:logistic\",\n",
    "        \"eval_metric\": \"auc\",\n",
    "        \"tree_method\": \"hist\",\n",
    "        \"learning_rate\": trial.suggest_float(\"learning_rate\", 0.01, 0.3, log=True),\n",
    "        \"max_depth\": trial.suggest_int(\"max_depth\", 4, 12),\n",
    "        \"subsample\": trial.suggest_float(\"subsample\", 0.6, 1.0),\n",
    "        \"colsample_bytree\": trial.suggest_float(\"colsample_bytree\", 0.6, 1.0),\n",
    "        \"n_estimators\": trial.suggest_int(\"n_estimators\", 200, 1000, step=200)\n",
    "    }\n",
    "    model = xgb.XGBClassifier(**params, n_jobs=-1, random_state=SEED, verbosity=0)\n",
    "    model.fit(X_train, y_train)\n",
    "    preds = model.predict_proba(X_val)[:, 1]\n",
    "    return roc_auc_score(y_val, preds)\n",
    "\n",
    "\n",
    "def tune_ann(trial, X_train, X_val, y_train, y_val):\n",
    "    lr = trial.suggest_float(\"lr\", 1e-4, 1e-2, log=True)\n",
    "    dropout = trial.suggest_float(\"dropout\", 0.2, 0.6)\n",
    "    n1 = trial.suggest_int(\"n1\", 32, 128, step=32)\n",
    "    n2 = trial.suggest_int(\"n2\", 16, 64, step=16)\n",
    "\n",
    "    model = models.Sequential([\n",
    "        layers.Input(shape=(X_train.shape[1],)),\n",
    "        layers.Dense(n1, activation=\"relu\"),\n",
    "        layers.Dropout(dropout),\n",
    "        layers.Dense(n2, activation=\"relu\"),\n",
    "        layers.Dense(1, activation=\"sigmoid\")\n",
    "    ])\n",
    "    model.compile(optimizer=optimizers.Adam(learning_rate=lr),\n",
    "                  loss=\"binary_crossentropy\", metrics=[\"accuracy\"])\n",
    "    early = EarlyStopping(patience=5, restore_best_weights=True)\n",
    "    model.fit(X_train, y_train, validation_data=(X_val, y_val),\n",
    "              epochs=30, batch_size=32, verbose=0, callbacks=[early])\n",
    "    preds = model.predict(X_val)\n",
    "    return roc_auc_score(y_val, preds)\n"
   ]
  },
  {
   "cell_type": "code",
   "execution_count": 14,
   "id": "f5c5659e",
   "metadata": {},
   "outputs": [],
   "source": [
    "# Build Models (Logistic Regression, Random Forest, XGBoost and ANN)\n",
    "def build_models(X_train, y_train):\n",
    "    if not TUNE_MODE:\n",
    "        return {\n",
    "            \"LogReg\": (LogisticRegression(C=0.5, solver=\"lbfgs\", max_iter=1000), None),\n",
    "            \"RandomForest\": (RandomForestClassifier(n_estimators=500, max_depth=10, n_jobs=-1, random_state=SEED), None),\n",
    "            \"XGBoost\": (xgb.XGBClassifier(learning_rate=0.05, max_depth=8, n_estimators=800,\n",
    "                                          subsample=0.9, colsample_bytree=0.8, n_jobs=-1, verbosity=0), None),\n",
    "            \"ANN\": (None, None)\n",
    "        }\n",
    "    else:\n",
    "        X_t, X_v, y_t, y_v = train_test_split(X_train, y_train, test_size=0.2, stratify=y_train, random_state=SEED)\n",
    "        print(\"🎯 Running Optuna tuning for all models...\")\n",
    "        models_out = {}\n",
    "\n",
    "        for name, tuner in zip(\n",
    "            [\"LogReg\", \"RandomForest\", \"XGBoost\", \"ANN\"],\n",
    "            [tune_logreg, tune_rf, tune_xgb, tune_ann]\n",
    "        ):\n",
    "            study = optuna.create_study(direction=\"maximize\")\n",
    "            study.optimize(lambda trial: tuner(trial, X_t, X_v, y_t, y_v), n_trials=N_TRIALS, show_progress_bar=True)\n",
    "            print(f\"✅ {name} best AUC={study.best_value:.3f} | params={study.best_params}\")\n",
    "\n",
    "            if name == \"LogReg\":\n",
    "                model = LogisticRegression(**study.best_params, solver=\"lbfgs\", max_iter=1000)\n",
    "            elif name == \"RandomForest\":\n",
    "                model = RandomForestClassifier(**study.best_params, random_state=SEED, n_jobs=-1)\n",
    "            elif name == \"XGBoost\":\n",
    "                model = xgb.XGBClassifier(**study.best_params, n_jobs=-1, random_state=SEED, verbosity=0)\n",
    "            else:\n",
    "                model = None  # ANN uses params only\n",
    "\n",
    "            models_out[name] = (model, study.best_params)\n",
    "\n",
    "        return models_out\n"
   ]
  },
  {
   "cell_type": "code",
   "execution_count": 15,
   "id": "02940efa",
   "metadata": {},
   "outputs": [
    {
     "name": "stdout",
     "output_type": "stream",
     "text": [
      "\n",
      "==============================\n",
      "🧬 Transcriptomic (250)\n",
      "==============================\n"
     ]
    },
    {
     "name": "stderr",
     "output_type": "stream",
     "text": [
      "[I 2025-10-13 23:06:37,390] A new study created in memory with name: no-name-d44b7014-9284-47c6-b4fc-13d970fcb650\n"
     ]
    },
    {
     "name": "stdout",
     "output_type": "stream",
     "text": [
      "🎯 Running Optuna tuning for all models...\n"
     ]
    },
    {
     "name": "stderr",
     "output_type": "stream",
     "text": [
      "Best trial: 0. Best value: 0.870769:   5%|▌         | 1/20 [00:00<00:18,  1.01it/s]"
     ]
    },
    {
     "name": "stdout",
     "output_type": "stream",
     "text": [
      "[I 2025-10-13 23:06:38,382] Trial 0 finished with value: 0.8707689630813163 and parameters: {'C': 0.00438265076200387}. Best is trial 0 with value: 0.8707689630813163.\n"
     ]
    },
    {
     "name": "stderr",
     "output_type": "stream",
     "text": [
      "Best trial: 1. Best value: 0.871719:  10%|█         | 2/20 [00:02<00:25,  1.42s/it]"
     ]
    },
    {
     "name": "stdout",
     "output_type": "stream",
     "text": [
      "[I 2025-10-13 23:06:40,101] Trial 1 finished with value: 0.8717193970439308 and parameters: {'C': 0.30099533063392253}. Best is trial 1 with value: 0.8717193970439308.\n"
     ]
    },
    {
     "name": "stderr",
     "output_type": "stream",
     "text": [
      "Best trial: 2. Best value: 0.871749:  15%|█▌        | 3/20 [00:04<00:24,  1.44s/it]"
     ]
    },
    {
     "name": "stdout",
     "output_type": "stream",
     "text": [
      "[I 2025-10-13 23:06:41,561] Trial 2 finished with value: 0.8717492869042474 and parameters: {'C': 0.26706979698971417}. Best is trial 2 with value: 0.8717492869042474.\n"
     ]
    },
    {
     "name": "stderr",
     "output_type": "stream",
     "text": [
      "Best trial: 2. Best value: 0.871749:  20%|██        | 4/20 [00:05<00:22,  1.41s/it]"
     ]
    },
    {
     "name": "stdout",
     "output_type": "stream",
     "text": [
      "[I 2025-10-13 23:06:42,921] Trial 3 finished with value: 0.8717277280475512 and parameters: {'C': 0.031473885893366485}. Best is trial 2 with value: 0.8717492869042474.\n"
     ]
    },
    {
     "name": "stderr",
     "output_type": "stream",
     "text": [
      "Best trial: 2. Best value: 0.871749:  25%|██▌       | 5/20 [00:06<00:19,  1.32s/it]"
     ]
    },
    {
     "name": "stdout",
     "output_type": "stream",
     "text": [
      "[I 2025-10-13 23:06:44,091] Trial 4 finished with value: 0.8716427645297156 and parameters: {'C': 0.017063803219519544}. Best is trial 2 with value: 0.8717492869042474.\n"
     ]
    },
    {
     "name": "stderr",
     "output_type": "stream",
     "text": [
      "Best trial: 2. Best value: 0.871749:  30%|███       | 6/20 [00:08<00:19,  1.37s/it]"
     ]
    },
    {
     "name": "stdout",
     "output_type": "stream",
     "text": [
      "[I 2025-10-13 23:06:45,551] Trial 5 finished with value: 0.8717455983682935 and parameters: {'C': 3.32880847584228}. Best is trial 2 with value: 0.8717492869042474.\n"
     ]
    },
    {
     "name": "stderr",
     "output_type": "stream",
     "text": [
      "Best trial: 2. Best value: 0.871749:  35%|███▌      | 7/20 [00:09<00:19,  1.47s/it]"
     ]
    },
    {
     "name": "stdout",
     "output_type": "stream",
     "text": [
      "[I 2025-10-13 23:06:47,220] Trial 6 finished with value: 0.8717161536761094 and parameters: {'C': 0.04179553657793301}. Best is trial 2 with value: 0.8717492869042474.\n"
     ]
    },
    {
     "name": "stderr",
     "output_type": "stream",
     "text": [
      "Best trial: 2. Best value: 0.871749:  40%|████      | 8/20 [00:11<00:18,  1.53s/it]"
     ]
    },
    {
     "name": "stdout",
     "output_type": "stream",
     "text": [
      "[I 2025-10-13 23:06:48,890] Trial 7 finished with value: 0.8717401291598101 and parameters: {'C': 75.62606835265285}. Best is trial 2 with value: 0.8717492869042474.\n"
     ]
    },
    {
     "name": "stderr",
     "output_type": "stream",
     "text": [
      "Best trial: 2. Best value: 0.871749:  45%|████▌     | 9/20 [00:13<00:16,  1.53s/it]"
     ]
    },
    {
     "name": "stdout",
     "output_type": "stream",
     "text": [
      "[I 2025-10-13 23:06:50,434] Trial 8 finished with value: 0.8717466794909007 and parameters: {'C': 15.878775246616662}. Best is trial 2 with value: 0.8717492869042474.\n"
     ]
    },
    {
     "name": "stderr",
     "output_type": "stream",
     "text": [
      "Best trial: 2. Best value: 0.871749:  50%|█████     | 10/20 [00:14<00:15,  1.54s/it]"
     ]
    },
    {
     "name": "stdout",
     "output_type": "stream",
     "text": [
      "[I 2025-10-13 23:06:51,973] Trial 9 finished with value: 0.8717340875922993 and parameters: {'C': 0.03842447025978804}. Best is trial 2 with value: 0.8717492869042474.\n"
     ]
    },
    {
     "name": "stderr",
     "output_type": "stream",
     "text": [
      "Best trial: 2. Best value: 0.871749:  55%|█████▌    | 11/20 [00:16<00:13,  1.54s/it]"
     ]
    },
    {
     "name": "stdout",
     "output_type": "stream",
     "text": [
      "[I 2025-10-13 23:06:53,523] Trial 10 finished with value: 0.8717404471370473 and parameters: {'C': 1.0922911113637426}. Best is trial 2 with value: 0.8717492869042474.\n"
     ]
    },
    {
     "name": "stderr",
     "output_type": "stream",
     "text": [
      "Best trial: 2. Best value: 0.871749:  60%|██████    | 12/20 [00:17<00:12,  1.54s/it]"
     ]
    },
    {
     "name": "stdout",
     "output_type": "stream",
     "text": [
      "[I 2025-10-13 23:06:55,065] Trial 11 finished with value: 0.871747124659033 and parameters: {'C': 22.405281632052404}. Best is trial 2 with value: 0.8717492869042474.\n"
     ]
    },
    {
     "name": "stderr",
     "output_type": "stream",
     "text": [
      "Best trial: 2. Best value: 0.871749:  65%|██████▌   | 13/20 [00:19<00:10,  1.55s/it]"
     ]
    },
    {
     "name": "stdout",
     "output_type": "stream",
     "text": [
      "[I 2025-10-13 23:06:56,641] Trial 12 finished with value: 0.8717438176957639 and parameters: {'C': 1.2139576012375775}. Best is trial 2 with value: 0.8717492869042474.\n"
     ]
    },
    {
     "name": "stderr",
     "output_type": "stream",
     "text": [
      "Best trial: 2. Best value: 0.871749:  70%|███████   | 14/20 [00:20<00:09,  1.52s/it]"
     ]
    },
    {
     "name": "stdout",
     "output_type": "stream",
     "text": [
      "[I 2025-10-13 23:06:58,088] Trial 13 finished with value: 0.8717321797288748 and parameters: {'C': 0.2840369269443425}. Best is trial 2 with value: 0.8717492869042474.\n"
     ]
    },
    {
     "name": "stderr",
     "output_type": "stream",
     "text": [
      "Best trial: 2. Best value: 0.871749:  75%|███████▌  | 15/20 [00:22<00:07,  1.56s/it]"
     ]
    },
    {
     "name": "stdout",
     "output_type": "stream",
     "text": [
      "[I 2025-10-13 23:06:59,751] Trial 14 finished with value: 0.87174012915981 and parameters: {'C': 81.78479418716654}. Best is trial 2 with value: 0.8717492869042474.\n"
     ]
    },
    {
     "name": "stderr",
     "output_type": "stream",
     "text": [
      "Best trial: 2. Best value: 0.871749:  80%|████████  | 16/20 [00:23<00:06,  1.56s/it]"
     ]
    },
    {
     "name": "stdout",
     "output_type": "stream",
     "text": [
      "[I 2025-10-13 23:07:01,313] Trial 15 finished with value: 0.8717446444365811 and parameters: {'C': 7.664122508815563}. Best is trial 2 with value: 0.8717492869042474.\n"
     ]
    },
    {
     "name": "stderr",
     "output_type": "stream",
     "text": [
      "Best trial: 16. Best value: 0.871758:  85%|████████▌ | 17/20 [00:25<00:04,  1.54s/it]"
     ]
    },
    {
     "name": "stdout",
     "output_type": "stream",
     "text": [
      "[I 2025-10-13 23:07:02,818] Trial 16 finished with value: 0.8717584446486847 and parameters: {'C': 0.1645492095336972}. Best is trial 16 with value: 0.8717584446486847.\n"
     ]
    },
    {
     "name": "stderr",
     "output_type": "stream",
     "text": [
      "Best trial: 16. Best value: 0.871758:  90%|█████████ | 18/20 [00:26<00:02,  1.32s/it]"
     ]
    },
    {
     "name": "stdout",
     "output_type": "stream",
     "text": [
      "[I 2025-10-13 23:07:03,599] Trial 17 finished with value: 0.8666012990260484 and parameters: {'C': 0.0011985411086991803}. Best is trial 16 with value: 0.8717584446486847.\n"
     ]
    },
    {
     "name": "stderr",
     "output_type": "stream",
     "text": [
      "Best trial: 16. Best value: 0.871758:  95%|█████████▌| 19/20 [00:27<00:01,  1.40s/it]"
     ]
    },
    {
     "name": "stdout",
     "output_type": "stream",
     "text": [
      "[I 2025-10-13 23:07:05,178] Trial 18 finished with value: 0.8717452167956086 and parameters: {'C': 0.12587420585084097}. Best is trial 16 with value: 0.8717584446486847.\n"
     ]
    },
    {
     "name": "stderr",
     "output_type": "stream",
     "text": [
      "Best trial: 16. Best value: 0.871758: 100%|██████████| 20/20 [00:29<00:00,  1.46s/it]\n",
      "[I 2025-10-13 23:07:06,659] A new study created in memory with name: no-name-2ab24c70-9aea-4650-8545-04c51db77c30\n"
     ]
    },
    {
     "name": "stdout",
     "output_type": "stream",
     "text": [
      "[I 2025-10-13 23:07:06,630] Trial 19 finished with value: 0.8717459799409782 and parameters: {'C': 1.132536510221219}. Best is trial 16 with value: 0.8717584446486847.\n",
      "✅ LogReg best AUC=0.872 | params={'C': 0.1645492095336972}\n"
     ]
    },
    {
     "name": "stderr",
     "output_type": "stream",
     "text": [
      "Best trial: 0. Best value: 0.866742:   5%|▌         | 1/20 [00:02<00:46,  2.46s/it]"
     ]
    },
    {
     "name": "stdout",
     "output_type": "stream",
     "text": [
      "[I 2025-10-13 23:07:09,122] Trial 0 finished with value: 0.8667418449649832 and parameters: {'n_estimators': 400, 'max_depth': 14, 'min_samples_split': 5, 'min_samples_leaf': 4, 'max_features': 'log2'}. Best is trial 0 with value: 0.8667418449649832.\n"
     ]
    },
    {
     "name": "stderr",
     "output_type": "stream",
     "text": [
      "Best trial: 1. Best value: 0.891133:  10%|█         | 2/20 [00:06<01:01,  3.42s/it]"
     ]
    },
    {
     "name": "stdout",
     "output_type": "stream",
     "text": [
      "[I 2025-10-13 23:07:13,202] Trial 1 finished with value: 0.8911330521057852 and parameters: {'n_estimators': 400, 'max_depth': 16, 'min_samples_split': 5, 'min_samples_leaf': 3, 'max_features': 'sqrt'}. Best is trial 1 with value: 0.8911330521057852.\n"
     ]
    },
    {
     "name": "stderr",
     "output_type": "stream",
     "text": [
      "Best trial: 1. Best value: 0.891133:  15%|█▌        | 3/20 [00:08<00:46,  2.71s/it]"
     ]
    },
    {
     "name": "stdout",
     "output_type": "stream",
     "text": [
      "[I 2025-10-13 23:07:15,081] Trial 2 finished with value: 0.8838145516050346 and parameters: {'n_estimators': 200, 'max_depth': 13, 'min_samples_split': 6, 'min_samples_leaf': 3, 'max_features': 'sqrt'}. Best is trial 1 with value: 0.8911330521057852.\n"
     ]
    },
    {
     "name": "stderr",
     "output_type": "stream",
     "text": [
      "Best trial: 1. Best value: 0.891133:  20%|██        | 4/20 [00:11<00:47,  2.97s/it]"
     ]
    },
    {
     "name": "stdout",
     "output_type": "stream",
     "text": [
      "[I 2025-10-13 23:07:18,453] Trial 3 finished with value: 0.8625163090525065 and parameters: {'n_estimators': 600, 'max_depth': 12, 'min_samples_split': 5, 'min_samples_leaf': 2, 'max_features': 'log2'}. Best is trial 1 with value: 0.8911330521057852.\n"
     ]
    },
    {
     "name": "stderr",
     "output_type": "stream",
     "text": [
      "Best trial: 1. Best value: 0.891133:  25%|██▌       | 5/20 [00:13<00:39,  2.62s/it]"
     ]
    },
    {
     "name": "stdout",
     "output_type": "stream",
     "text": [
      "[I 2025-10-13 23:07:20,460] Trial 4 finished with value: 0.844856234859514 and parameters: {'n_estimators': 400, 'max_depth': 8, 'min_samples_split': 6, 'min_samples_leaf': 4, 'max_features': 'log2'}. Best is trial 1 with value: 0.8911330521057852.\n"
     ]
    },
    {
     "name": "stderr",
     "output_type": "stream",
     "text": [
      "Best trial: 1. Best value: 0.891133:  30%|███       | 6/20 [00:16<00:38,  2.72s/it]"
     ]
    },
    {
     "name": "stdout",
     "output_type": "stream",
     "text": [
      "[I 2025-10-13 23:07:23,353] Trial 5 finished with value: 0.8629356574332013 and parameters: {'n_estimators': 400, 'max_depth': 8, 'min_samples_split': 5, 'min_samples_leaf': 1, 'max_features': 'sqrt'}. Best is trial 1 with value: 0.8911330521057852.\n"
     ]
    },
    {
     "name": "stderr",
     "output_type": "stream",
     "text": [
      "Best trial: 6. Best value: 0.891312:  35%|███▌      | 7/20 [00:20<00:41,  3.19s/it]"
     ]
    },
    {
     "name": "stdout",
     "output_type": "stream",
     "text": [
      "[I 2025-10-13 23:07:27,514] Trial 6 finished with value: 0.8913121368858937 and parameters: {'n_estimators': 400, 'max_depth': 16, 'min_samples_split': 2, 'min_samples_leaf': 1, 'max_features': 'sqrt'}. Best is trial 6 with value: 0.8913121368858937.\n"
     ]
    },
    {
     "name": "stderr",
     "output_type": "stream",
     "text": [
      "Best trial: 6. Best value: 0.891312:  40%|████      | 8/20 [00:25<00:45,  3.81s/it]"
     ]
    },
    {
     "name": "stdout",
     "output_type": "stream",
     "text": [
      "[I 2025-10-13 23:07:32,657] Trial 7 finished with value: 0.8809204499810359 and parameters: {'n_estimators': 600, 'max_depth': 12, 'min_samples_split': 6, 'min_samples_leaf': 4, 'max_features': 'sqrt'}. Best is trial 6 with value: 0.8913121368858937.\n"
     ]
    },
    {
     "name": "stderr",
     "output_type": "stream",
     "text": [
      "Best trial: 6. Best value: 0.891312:  45%|████▌     | 9/20 [00:29<00:41,  3.80s/it]"
     ]
    },
    {
     "name": "stdout",
     "output_type": "stream",
     "text": [
      "[I 2025-10-13 23:07:36,446] Trial 8 finished with value: 0.8413014401316273 and parameters: {'n_estimators': 800, 'max_depth': 7, 'min_samples_split': 3, 'min_samples_leaf': 4, 'max_features': 'log2'}. Best is trial 6 with value: 0.8913121368858937.\n"
     ]
    },
    {
     "name": "stderr",
     "output_type": "stream",
     "text": [
      "Best trial: 6. Best value: 0.891312:  50%|█████     | 10/20 [00:37<00:49,  4.96s/it]"
     ]
    },
    {
     "name": "stdout",
     "output_type": "stream",
     "text": [
      "[I 2025-10-13 23:07:44,007] Trial 9 finished with value: 0.8885887254429359 and parameters: {'n_estimators': 800, 'max_depth': 15, 'min_samples_split': 4, 'min_samples_leaf': 4, 'max_features': 'sqrt'}. Best is trial 6 with value: 0.8913121368858937.\n"
     ]
    },
    {
     "name": "stderr",
     "output_type": "stream",
     "text": [
      "Best trial: 6. Best value: 0.891312:  55%|█████▌    | 11/20 [00:39<00:35,  3.96s/it]"
     ]
    },
    {
     "name": "stdout",
     "output_type": "stream",
     "text": [
      "[I 2025-10-13 23:07:45,702] Trial 10 finished with value: 0.8726508795631958 and parameters: {'n_estimators': 200, 'max_depth': 10, 'min_samples_split': 2, 'min_samples_leaf': 1, 'max_features': 'sqrt'}. Best is trial 6 with value: 0.8913121368858937.\n"
     ]
    },
    {
     "name": "stderr",
     "output_type": "stream",
     "text": [
      "Best trial: 11. Best value: 0.891382:  60%|██████    | 12/20 [00:43<00:32,  4.02s/it]"
     ]
    },
    {
     "name": "stdout",
     "output_type": "stream",
     "text": [
      "[I 2025-10-13 23:07:49,860] Trial 11 finished with value: 0.8913819646872285 and parameters: {'n_estimators': 400, 'max_depth': 16, 'min_samples_split': 2, 'min_samples_leaf': 2, 'max_features': 'sqrt'}. Best is trial 11 with value: 0.8913819646872285.\n"
     ]
    },
    {
     "name": "stderr",
     "output_type": "stream",
     "text": [
      "Best trial: 11. Best value: 0.891382:  65%|██████▌   | 13/20 [00:45<00:24,  3.43s/it]"
     ]
    },
    {
     "name": "stdout",
     "output_type": "stream",
     "text": [
      "[I 2025-10-13 23:07:51,932] Trial 12 finished with value: 0.8903475211384907 and parameters: {'n_estimators': 200, 'max_depth': 16, 'min_samples_split': 2, 'min_samples_leaf': 2, 'max_features': 'sqrt'}. Best is trial 11 with value: 0.8913819646872285.\n"
     ]
    },
    {
     "name": "stderr",
     "output_type": "stream",
     "text": [
      "Best trial: 11. Best value: 0.891382:  70%|███████   | 14/20 [00:51<00:24,  4.15s/it]"
     ]
    },
    {
     "name": "stdout",
     "output_type": "stream",
     "text": [
      "[I 2025-10-13 23:07:57,738] Trial 13 finished with value: 0.8879759833064493 and parameters: {'n_estimators': 600, 'max_depth': 14, 'min_samples_split': 3, 'min_samples_leaf': 1, 'max_features': 'sqrt'}. Best is trial 11 with value: 0.8913819646872285.\n"
     ]
    },
    {
     "name": "stderr",
     "output_type": "stream",
     "text": [
      "Best trial: 11. Best value: 0.891382:  75%|███████▌  | 15/20 [00:54<00:19,  3.85s/it]"
     ]
    },
    {
     "name": "stdout",
     "output_type": "stream",
     "text": [
      "[I 2025-10-13 23:08:00,896] Trial 14 finished with value: 0.8737208729670761 and parameters: {'n_estimators': 400, 'max_depth': 10, 'min_samples_split': 3, 'min_samples_leaf': 2, 'max_features': 'sqrt'}. Best is trial 11 with value: 0.8913819646872285.\n"
     ]
    },
    {
     "name": "stderr",
     "output_type": "stream",
     "text": [
      "Best trial: 15. Best value: 0.891747:  80%|████████  | 16/20 [01:00<00:18,  4.62s/it]"
     ]
    },
    {
     "name": "stdout",
     "output_type": "stream",
     "text": [
      "[I 2025-10-13 23:08:07,309] Trial 15 finished with value: 0.8917474477239062 and parameters: {'n_estimators': 600, 'max_depth': 16, 'min_samples_split': 2, 'min_samples_leaf': 1, 'max_features': 'sqrt'}. Best is trial 15 with value: 0.8917474477239062.\n"
     ]
    },
    {
     "name": "stderr",
     "output_type": "stream",
     "text": [
      "Best trial: 15. Best value: 0.891747:  85%|████████▌ | 17/20 [01:06<00:15,  5.02s/it]"
     ]
    },
    {
     "name": "stdout",
     "output_type": "stream",
     "text": [
      "[I 2025-10-13 23:08:13,263] Trial 16 finished with value: 0.8876754948170982 and parameters: {'n_estimators': 600, 'max_depth': 14, 'min_samples_split': 3, 'min_samples_leaf': 2, 'max_features': 'sqrt'}. Best is trial 15 with value: 0.8917474477239062.\n"
     ]
    },
    {
     "name": "stderr",
     "output_type": "stream",
     "text": [
      "Best trial: 15. Best value: 0.891747:  90%|█████████ | 18/20 [01:14<00:11,  5.87s/it]"
     ]
    },
    {
     "name": "stdout",
     "output_type": "stream",
     "text": [
      "[I 2025-10-13 23:08:21,093] Trial 17 finished with value: 0.8892491005695862 and parameters: {'n_estimators': 800, 'max_depth': 15, 'min_samples_split': 2, 'min_samples_leaf': 3, 'max_features': 'sqrt'}. Best is trial 15 with value: 0.8917474477239062.\n"
     ]
    },
    {
     "name": "stderr",
     "output_type": "stream",
     "text": [
      "Best trial: 15. Best value: 0.891747:  95%|█████████▌| 19/20 [01:17<00:05,  5.10s/it]"
     ]
    },
    {
     "name": "stdout",
     "output_type": "stream",
     "text": [
      "[I 2025-10-13 23:08:24,403] Trial 18 finished with value: 0.8578464953439229 and parameters: {'n_estimators': 600, 'max_depth': 11, 'min_samples_split': 4, 'min_samples_leaf': 1, 'max_features': 'log2'}. Best is trial 15 with value: 0.8917474477239062.\n"
     ]
    },
    {
     "name": "stderr",
     "output_type": "stream",
     "text": [
      "Best trial: 15. Best value: 0.891747: 100%|██████████| 20/20 [01:23<00:00,  4.19s/it]\n",
      "[I 2025-10-13 23:08:30,427] A new study created in memory with name: no-name-6d2fa09d-3246-4951-ba78-39a46a12dcb6\n"
     ]
    },
    {
     "name": "stdout",
     "output_type": "stream",
     "text": [
      "[I 2025-10-13 23:08:30,418] Trial 19 finished with value: 0.8899447075741416 and parameters: {'n_estimators': 600, 'max_depth': 15, 'min_samples_split': 2, 'min_samples_leaf': 2, 'max_features': 'sqrt'}. Best is trial 15 with value: 0.8917474477239062.\n",
      "✅ RandomForest best AUC=0.892 | params={'n_estimators': 600, 'max_depth': 16, 'min_samples_split': 2, 'min_samples_leaf': 1, 'max_features': 'sqrt'}\n"
     ]
    },
    {
     "name": "stderr",
     "output_type": "stream",
     "text": [
      "Best trial: 0. Best value: 0.91508:   5%|▌         | 1/20 [00:38<12:18, 38.85s/it]"
     ]
    },
    {
     "name": "stdout",
     "output_type": "stream",
     "text": [
      "[I 2025-10-13 23:09:09,278] Trial 0 finished with value: 0.9150796634732425 and parameters: {'learning_rate': 0.22602819993566425, 'max_depth': 11, 'subsample': 0.7503826250915572, 'colsample_bytree': 0.8885910927542859, 'n_estimators': 800}. Best is trial 0 with value: 0.9150796634732425.\n"
     ]
    },
    {
     "name": "stderr",
     "output_type": "stream",
     "text": [
      "Best trial: 1. Best value: 0.919258:  10%|█         | 2/20 [00:58<08:16, 27.60s/it]"
     ]
    },
    {
     "name": "stdout",
     "output_type": "stream",
     "text": [
      "[I 2025-10-13 23:09:29,001] Trial 1 finished with value: 0.919257820777345 and parameters: {'learning_rate': 0.026081696000070275, 'max_depth': 6, 'subsample': 0.6720906509607955, 'colsample_bytree': 0.6866427847695109, 'n_estimators': 800}. Best is trial 1 with value: 0.919257820777345.\n"
     ]
    },
    {
     "name": "stderr",
     "output_type": "stream",
     "text": [
      "Best trial: 1. Best value: 0.919258:  15%|█▌        | 3/20 [01:07<05:24, 19.07s/it]"
     ]
    },
    {
     "name": "stdout",
     "output_type": "stream",
     "text": [
      "[I 2025-10-13 23:09:37,920] Trial 2 finished with value: 0.909427141112447 and parameters: {'learning_rate': 0.026275395618007104, 'max_depth': 8, 'subsample': 0.8635242733711488, 'colsample_bytree': 0.8055234301707985, 'n_estimators': 200}. Best is trial 1 with value: 0.919257820777345.\n"
     ]
    },
    {
     "name": "stderr",
     "output_type": "stream",
     "text": [
      "Best trial: 1. Best value: 0.919258:  20%|██        | 4/20 [01:20<04:26, 16.66s/it]"
     ]
    },
    {
     "name": "stdout",
     "output_type": "stream",
     "text": [
      "[I 2025-10-13 23:09:50,888] Trial 3 finished with value: 0.917943843439201 and parameters: {'learning_rate': 0.14081580930367418, 'max_depth': 6, 'subsample': 0.8827397971260018, 'colsample_bytree': 0.7577310128178497, 'n_estimators': 400}. Best is trial 1 with value: 0.919257820777345.\n"
     ]
    },
    {
     "name": "stderr",
     "output_type": "stream",
     "text": [
      "Best trial: 1. Best value: 0.919258:  25%|██▌       | 5/20 [01:35<04:01, 16.12s/it]"
     ]
    },
    {
     "name": "stdout",
     "output_type": "stream",
     "text": [
      "[I 2025-10-13 23:10:06,034] Trial 4 finished with value: 0.9050103100939457 and parameters: {'learning_rate': 0.014027819057687598, 'max_depth': 4, 'subsample': 0.6702529875524702, 'colsample_bytree': 0.7742526313400344, 'n_estimators': 800}. Best is trial 1 with value: 0.919257820777345.\n"
     ]
    },
    {
     "name": "stderr",
     "output_type": "stream",
     "text": [
      "Best trial: 1. Best value: 0.919258:  30%|███       | 6/20 [01:56<04:06, 17.60s/it]"
     ]
    },
    {
     "name": "stdout",
     "output_type": "stream",
     "text": [
      "[I 2025-10-13 23:10:26,500] Trial 5 finished with value: 0.9078130568576371 and parameters: {'learning_rate': 0.017446973326124857, 'max_depth': 4, 'subsample': 0.7385203340726636, 'colsample_bytree': 0.7931564816705742, 'n_estimators': 800}. Best is trial 1 with value: 0.919257820777345.\n"
     ]
    },
    {
     "name": "stderr",
     "output_type": "stream",
     "text": [
      "Best trial: 1. Best value: 0.919258:  35%|███▌      | 7/20 [02:24<04:35, 21.16s/it]"
     ]
    },
    {
     "name": "stdout",
     "output_type": "stream",
     "text": [
      "[I 2025-10-13 23:10:54,993] Trial 6 finished with value: 0.9190683063438494 and parameters: {'learning_rate': 0.11507948681356134, 'max_depth': 10, 'subsample': 0.8608717359482696, 'colsample_bytree': 0.7230414629620538, 'n_estimators': 400}. Best is trial 1 with value: 0.919257820777345.\n"
     ]
    },
    {
     "name": "stderr",
     "output_type": "stream",
     "text": [
      "Best trial: 1. Best value: 0.919258:  40%|████      | 8/20 [03:00<05:11, 25.95s/it]"
     ]
    },
    {
     "name": "stdout",
     "output_type": "stream",
     "text": [
      "[I 2025-10-13 23:11:31,222] Trial 7 finished with value: 0.9071612671163967 and parameters: {'learning_rate': 0.013626047801125404, 'max_depth': 12, 'subsample': 0.9482650728003903, 'colsample_bytree': 0.7901701174196499, 'n_estimators': 200}. Best is trial 1 with value: 0.919257820777345.\n"
     ]
    },
    {
     "name": "stderr",
     "output_type": "stream",
     "text": [
      "Best trial: 1. Best value: 0.919258:  45%|████▌     | 9/20 [03:08<03:43, 20.28s/it]"
     ]
    },
    {
     "name": "stdout",
     "output_type": "stream",
     "text": [
      "[I 2025-10-13 23:11:39,021] Trial 8 finished with value: 0.8964469287087404 and parameters: {'learning_rate': 0.01751152214893521, 'max_depth': 4, 'subsample': 0.7140016946804708, 'colsample_bytree': 0.8749965529529513, 'n_estimators': 400}. Best is trial 1 with value: 0.919257820777345.\n"
     ]
    },
    {
     "name": "stderr",
     "output_type": "stream",
     "text": [
      "Best trial: 9. Best value: 0.919977:  50%|█████     | 10/20 [03:26<03:16, 19.63s/it]"
     ]
    },
    {
     "name": "stdout",
     "output_type": "stream",
     "text": [
      "[I 2025-10-13 23:11:57,203] Trial 9 finished with value: 0.9199774032656008 and parameters: {'learning_rate': 0.038629562620565785, 'max_depth': 9, 'subsample': 0.8597456696160177, 'colsample_bytree': 0.8003386914331245, 'n_estimators': 400}. Best is trial 9 with value: 0.9199774032656008.\n"
     ]
    },
    {
     "name": "stderr",
     "output_type": "stream",
     "text": [
      "Best trial: 10. Best value: 0.921205:  55%|█████▌    | 11/20 [04:05<03:49, 25.44s/it]"
     ]
    },
    {
     "name": "stdout",
     "output_type": "stream",
     "text": [
      "[I 2025-10-13 23:12:35,829] Trial 10 finished with value: 0.9212048589974458 and parameters: {'learning_rate': 0.06321189896926668, 'max_depth': 9, 'subsample': 0.9947936090284417, 'colsample_bytree': 0.9809805589502616, 'n_estimators': 1000}. Best is trial 10 with value: 0.9212048589974458.\n"
     ]
    },
    {
     "name": "stderr",
     "output_type": "stream",
     "text": [
      "Best trial: 10. Best value: 0.921205:  60%|██████    | 12/20 [04:44<03:56, 29.50s/it]"
     ]
    },
    {
     "name": "stdout",
     "output_type": "stream",
     "text": [
      "[I 2025-10-13 23:13:14,617] Trial 11 finished with value: 0.9204968508806316 and parameters: {'learning_rate': 0.06221997704411929, 'max_depth': 9, 'subsample': 0.9876141963730098, 'colsample_bytree': 0.9774905136910688, 'n_estimators': 1000}. Best is trial 10 with value: 0.9212048589974458.\n"
     ]
    },
    {
     "name": "stderr",
     "output_type": "stream",
     "text": [
      "Best trial: 12. Best value: 0.921295:  65%|██████▌   | 13/20 [05:19<03:38, 31.19s/it]"
     ]
    },
    {
     "name": "stdout",
     "output_type": "stream",
     "text": [
      "[I 2025-10-13 23:13:49,694] Trial 12 finished with value: 0.9212945921738424 and parameters: {'learning_rate': 0.07264826468857866, 'max_depth': 8, 'subsample': 0.9992234632776118, 'colsample_bytree': 0.9702676704434665, 'n_estimators': 1000}. Best is trial 12 with value: 0.9212945921738424.\n"
     ]
    },
    {
     "name": "stderr",
     "output_type": "stream",
     "text": [
      "Best trial: 12. Best value: 0.921295:  70%|███████   | 14/20 [05:47<03:01, 30.24s/it]"
     ]
    },
    {
     "name": "stdout",
     "output_type": "stream",
     "text": [
      "[I 2025-10-13 23:14:17,742] Trial 13 finished with value: 0.9212848620703779 and parameters: {'learning_rate': 0.06980516983003414, 'max_depth': 7, 'subsample': 0.9853489222578706, 'colsample_bytree': 0.9954072559386319, 'n_estimators': 1000}. Best is trial 12 with value: 0.9212945921738424.\n"
     ]
    },
    {
     "name": "stderr",
     "output_type": "stream",
     "text": [
      "Best trial: 12. Best value: 0.921295:  75%|███████▌  | 15/20 [06:15<02:27, 29.48s/it]"
     ]
    },
    {
     "name": "stdout",
     "output_type": "stream",
     "text": [
      "[I 2025-10-13 23:14:45,450] Trial 14 finished with value: 0.9197187605806925 and parameters: {'learning_rate': 0.09750434352655553, 'max_depth': 7, 'subsample': 0.921079889531358, 'colsample_bytree': 0.6104567531126989, 'n_estimators': 1000}. Best is trial 12 with value: 0.9212945921738424.\n"
     ]
    },
    {
     "name": "stderr",
     "output_type": "stream",
     "text": [
      "Best trial: 12. Best value: 0.921295:  80%|████████  | 16/20 [06:35<01:46, 26.64s/it]"
     ]
    },
    {
     "name": "stdout",
     "output_type": "stream",
     "text": [
      "[I 2025-10-13 23:15:05,487] Trial 15 finished with value: 0.9209980466022352 and parameters: {'learning_rate': 0.042422187638849, 'max_depth': 7, 'subsample': 0.610990566771572, 'colsample_bytree': 0.933123585485825, 'n_estimators': 600}. Best is trial 12 with value: 0.9212945921738424.\n"
     ]
    },
    {
     "name": "stderr",
     "output_type": "stream",
     "text": [
      "Best trial: 12. Best value: 0.921295:  85%|████████▌ | 17/20 [07:05<01:23, 27.89s/it]"
     ]
    },
    {
     "name": "stdout",
     "output_type": "stream",
     "text": [
      "[I 2025-10-13 23:15:36,271] Trial 16 finished with value: 0.912892679629793 and parameters: {'learning_rate': 0.2869385051112557, 'max_depth': 6, 'subsample': 0.8037978039138544, 'colsample_bytree': 0.9173609922343386, 'n_estimators': 1000}. Best is trial 12 with value: 0.9212945921738424.\n"
     ]
    },
    {
     "name": "stderr",
     "output_type": "stream",
     "text": [
      "Best trial: 12. Best value: 0.921295:  90%|█████████ | 18/20 [07:26<00:51, 25.64s/it]"
     ]
    },
    {
     "name": "stdout",
     "output_type": "stream",
     "text": [
      "[I 2025-10-13 23:15:56,678] Trial 17 finished with value: 0.9210198280429976 and parameters: {'learning_rate': 0.08323235096400845, 'max_depth': 8, 'subsample': 0.9384571418811181, 'colsample_bytree': 0.9903304410166048, 'n_estimators': 600}. Best is trial 12 with value: 0.9212945921738424.\n"
     ]
    },
    {
     "name": "stderr",
     "output_type": "stream",
     "text": [
      "Best trial: 12. Best value: 0.921295:  95%|█████████▌| 19/20 [07:55<00:26, 26.69s/it]"
     ]
    },
    {
     "name": "stdout",
     "output_type": "stream",
     "text": [
      "[I 2025-10-13 23:16:25,802] Trial 18 finished with value: 0.9184478055627701 and parameters: {'learning_rate': 0.19554408285771704, 'max_depth': 7, 'subsample': 0.9724221634403118, 'colsample_bytree': 0.866152195961366, 'n_estimators': 1000}. Best is trial 12 with value: 0.9212945921738424.\n"
     ]
    },
    {
     "name": "stderr",
     "output_type": "stream",
     "text": [
      "Best trial: 12. Best value: 0.921295: 100%|██████████| 20/20 [08:12<00:00, 24.63s/it]\n",
      "[I 2025-10-13 23:16:43,012] A new study created in memory with name: no-name-15afb6a7-bdc5-4664-8c82-fcfbb55587c1\n"
     ]
    },
    {
     "name": "stdout",
     "output_type": "stream",
     "text": [
      "[I 2025-10-13 23:16:43,002] Trial 19 finished with value: 0.9204191372438089 and parameters: {'learning_rate': 0.042378272826789194, 'max_depth': 5, 'subsample': 0.8228825149942373, 'colsample_bytree': 0.949732540382223, 'n_estimators': 800}. Best is trial 12 with value: 0.9212945921738424.\n",
      "✅ XGBoost best AUC=0.921 | params={'learning_rate': 0.07264826468857866, 'max_depth': 8, 'subsample': 0.9992234632776118, 'colsample_bytree': 0.9702676704434665, 'n_estimators': 1000}\n"
     ]
    },
    {
     "name": "stderr",
     "output_type": "stream",
     "text": [
      "  0%|          | 0/20 [00:00<?, ?it/s]2025-10-13 23:16:43.019371: E external/local_xla/xla/stream_executor/cuda/cuda_platform.cc:51] failed call to cuInit: INTERNAL: CUDA error: Failed call to cuInit: UNKNOWN ERROR (303)\n"
     ]
    },
    {
     "name": "stdout",
     "output_type": "stream",
     "text": [
      "\u001b[1m265/265\u001b[0m \u001b[32m━━━━━━━━━━━━━━━━━━━━\u001b[0m\u001b[37m\u001b[0m \u001b[1m0s\u001b[0m 911us/step\n"
     ]
    },
    {
     "name": "stderr",
     "output_type": "stream",
     "text": [
      "Best trial: 0. Best value: 0.901606:   5%|▌         | 1/20 [00:25<08:00, 25.29s/it]"
     ]
    },
    {
     "name": "stdout",
     "output_type": "stream",
     "text": [
      "[I 2025-10-13 23:17:08,293] Trial 0 finished with value: 0.9016064591606571 and parameters: {'lr': 0.0005976286180999513, 'dropout': 0.21380621203095249, 'n1': 32, 'n2': 64}. Best is trial 0 with value: 0.9016064591606571.\n",
      "\u001b[1m265/265\u001b[0m \u001b[32m━━━━━━━━━━━━━━━━━━━━\u001b[0m\u001b[37m\u001b[0m \u001b[1m0s\u001b[0m 1ms/step  \n"
     ]
    },
    {
     "name": "stderr",
     "output_type": "stream",
     "text": [
      "Best trial: 0. Best value: 0.901606:  10%|█         | 2/20 [01:14<11:45, 39.21s/it]"
     ]
    },
    {
     "name": "stdout",
     "output_type": "stream",
     "text": [
      "[I 2025-10-13 23:17:57,256] Trial 1 finished with value: 0.8937681930676384 and parameters: {'lr': 0.00012914470351369533, 'dropout': 0.5730672918056605, 'n1': 64, 'n2': 16}. Best is trial 0 with value: 0.9016064591606571.\n",
      "\u001b[1m265/265\u001b[0m \u001b[32m━━━━━━━━━━━━━━━━━━━━\u001b[0m\u001b[37m\u001b[0m \u001b[1m0s\u001b[0m 886us/step\n"
     ]
    },
    {
     "name": "stderr",
     "output_type": "stream",
     "text": [
      "Best trial: 0. Best value: 0.901606:  15%|█▌        | 3/20 [02:02<12:20, 43.57s/it]"
     ]
    },
    {
     "name": "stdout",
     "output_type": "stream",
     "text": [
      "[I 2025-10-13 23:18:46,007] Trial 2 finished with value: 0.8879436132236813 and parameters: {'lr': 0.0001335071525152042, 'dropout': 0.5932814781479724, 'n1': 32, 'n2': 64}. Best is trial 0 with value: 0.9016064591606571.\n",
      "\u001b[1m265/265\u001b[0m \u001b[32m━━━━━━━━━━━━━━━━━━━━\u001b[0m\u001b[37m\u001b[0m \u001b[1m0s\u001b[0m 953us/step\n"
     ]
    },
    {
     "name": "stderr",
     "output_type": "stream",
     "text": [
      "Best trial: 0. Best value: 0.901606:  20%|██        | 4/20 [02:42<11:09, 41.84s/it]"
     ]
    },
    {
     "name": "stdout",
     "output_type": "stream",
     "text": [
      "[I 2025-10-13 23:19:25,192] Trial 3 finished with value: 0.8937787817096441 and parameters: {'lr': 0.00024853603138150215, 'dropout': 0.5935033149532261, 'n1': 64, 'n2': 48}. Best is trial 0 with value: 0.9016064591606571.\n",
      "\u001b[1m265/265\u001b[0m \u001b[32m━━━━━━━━━━━━━━━━━━━━\u001b[0m\u001b[37m\u001b[0m \u001b[1m0s\u001b[0m 903us/step\n"
     ]
    },
    {
     "name": "stderr",
     "output_type": "stream",
     "text": [
      "Best trial: 4. Best value: 0.905515:  25%|██▌       | 5/20 [03:10<09:15, 37.02s/it]"
     ]
    },
    {
     "name": "stdout",
     "output_type": "stream",
     "text": [
      "[I 2025-10-13 23:19:53,663] Trial 4 finished with value: 0.9055147809810945 and parameters: {'lr': 0.0015891483852252994, 'dropout': 0.37119968355778865, 'n1': 128, 'n2': 64}. Best is trial 4 with value: 0.9055147809810945.\n",
      "\u001b[1m265/265\u001b[0m \u001b[32m━━━━━━━━━━━━━━━━━━━━\u001b[0m\u001b[37m\u001b[0m \u001b[1m0s\u001b[0m 881us/step\n"
     ]
    },
    {
     "name": "stderr",
     "output_type": "stream",
     "text": [
      "Best trial: 4. Best value: 0.905515:  30%|███       | 6/20 [03:55<09:16, 39.77s/it]"
     ]
    },
    {
     "name": "stdout",
     "output_type": "stream",
     "text": [
      "[I 2025-10-13 23:20:38,778] Trial 5 finished with value: 0.9048560593360787 and parameters: {'lr': 0.00042318738194200027, 'dropout': 0.4824093554248377, 'n1': 96, 'n2': 32}. Best is trial 4 with value: 0.9055147809810945.\n",
      "\u001b[1m265/265\u001b[0m \u001b[32m━━━━━━━━━━━━━━━━━━━━\u001b[0m\u001b[37m\u001b[0m \u001b[1m0s\u001b[0m 916us/step\n"
     ]
    },
    {
     "name": "stderr",
     "output_type": "stream",
     "text": [
      "Best trial: 4. Best value: 0.905515:  35%|███▌      | 7/20 [04:20<07:34, 34.97s/it]"
     ]
    },
    {
     "name": "stdout",
     "output_type": "stream",
     "text": [
      "[I 2025-10-13 23:21:03,859] Trial 6 finished with value: 0.9002030348256302 and parameters: {'lr': 0.0007542801756751413, 'dropout': 0.26051476957067066, 'n1': 32, 'n2': 48}. Best is trial 4 with value: 0.9055147809810945.\n",
      "\u001b[1m265/265\u001b[0m \u001b[32m━━━━━━━━━━━━━━━━━━━━\u001b[0m\u001b[37m\u001b[0m \u001b[1m0s\u001b[0m 983us/step\n"
     ]
    },
    {
     "name": "stderr",
     "output_type": "stream",
     "text": [
      "Best trial: 7. Best value: 0.906549:  40%|████      | 8/20 [04:51<06:42, 33.55s/it]"
     ]
    },
    {
     "name": "stdout",
     "output_type": "stream",
     "text": [
      "[I 2025-10-13 23:21:34,359] Trial 7 finished with value: 0.9065492245298326 and parameters: {'lr': 0.002106404184869791, 'dropout': 0.4023728215935133, 'n1': 128, 'n2': 16}. Best is trial 7 with value: 0.9065492245298326.\n",
      "\u001b[1m265/265\u001b[0m \u001b[32m━━━━━━━━━━━━━━━━━━━━\u001b[0m\u001b[37m\u001b[0m \u001b[1m0s\u001b[0m 995us/step\n"
     ]
    },
    {
     "name": "stderr",
     "output_type": "stream",
     "text": [
      "Best trial: 7. Best value: 0.906549:  45%|████▌     | 9/20 [05:26<06:15, 34.12s/it]"
     ]
    },
    {
     "name": "stdout",
     "output_type": "stream",
     "text": [
      "[I 2025-10-13 23:22:09,744] Trial 8 finished with value: 0.9045894672202354 and parameters: {'lr': 0.000858661676279244, 'dropout': 0.5108339354436872, 'n1': 128, 'n2': 48}. Best is trial 7 with value: 0.9065492245298326.\n",
      "\u001b[1m265/265\u001b[0m \u001b[32m━━━━━━━━━━━━━━━━━━━━\u001b[0m\u001b[37m\u001b[0m \u001b[1m0s\u001b[0m 929us/step\n"
     ]
    },
    {
     "name": "stderr",
     "output_type": "stream",
     "text": [
      "Best trial: 7. Best value: 0.906549:  50%|█████     | 10/20 [06:03<05:49, 34.96s/it]"
     ]
    },
    {
     "name": "stdout",
     "output_type": "stream",
     "text": [
      "[I 2025-10-13 23:22:46,570] Trial 9 finished with value: 0.9022711587777363 and parameters: {'lr': 0.001571664340898102, 'dropout': 0.4595189264746424, 'n1': 64, 'n2': 16}. Best is trial 7 with value: 0.9065492245298326.\n",
      "\u001b[1m265/265\u001b[0m \u001b[32m━━━━━━━━━━━━━━━━━━━━\u001b[0m\u001b[37m\u001b[0m \u001b[1m0s\u001b[0m 1ms/step\n"
     ]
    },
    {
     "name": "stderr",
     "output_type": "stream",
     "text": [
      "Best trial: 7. Best value: 0.906549:  50%|█████     | 10/20 [06:35<05:49, 34.96s/it]"
     ]
    },
    {
     "name": "stdout",
     "output_type": "stream",
     "text": [
      "[I 2025-10-13 23:23:18,604] Trial 10 finished with value: 0.89926776837724 and parameters: {'lr': 0.006948123983386176, 'dropout': 0.3390594340513058, 'n1': 96, 'n2': 32}. Best is trial 7 with value: 0.9065492245298326.\n"
     ]
    },
    {
     "name": "stderr",
     "output_type": "stream",
     "text": [
      "Best trial: 7. Best value: 0.906549:  55%|█████▌    | 11/20 [06:35<05:06, 34.06s/it]"
     ]
    },
    {
     "name": "stdout",
     "output_type": "stream",
     "text": [
      "\u001b[1m265/265\u001b[0m \u001b[32m━━━━━━━━━━━━━━━━━━━━\u001b[0m\u001b[37m\u001b[0m \u001b[1m0s\u001b[0m 945us/step\n"
     ]
    },
    {
     "name": "stderr",
     "output_type": "stream",
     "text": [
      "Best trial: 7. Best value: 0.906549:  60%|██████    | 12/20 [07:01<04:13, 31.66s/it]"
     ]
    },
    {
     "name": "stdout",
     "output_type": "stream",
     "text": [
      "[I 2025-10-13 23:23:44,774] Trial 11 finished with value: 0.9034544792690289 and parameters: {'lr': 0.002751745623043662, 'dropout': 0.36867790207370477, 'n1': 128, 'n2': 16}. Best is trial 7 with value: 0.9065492245298326.\n",
      "\u001b[1m265/265\u001b[0m \u001b[32m━━━━━━━━━━━━━━━━━━━━\u001b[0m\u001b[37m\u001b[0m \u001b[1m0s\u001b[0m 983us/step\n"
     ]
    },
    {
     "name": "stderr",
     "output_type": "stream",
     "text": [
      "Best trial: 7. Best value: 0.906549:  65%|██████▌   | 13/20 [07:31<03:37, 31.13s/it]"
     ]
    },
    {
     "name": "stdout",
     "output_type": "stream",
     "text": [
      "[I 2025-10-13 23:24:14,680] Trial 12 finished with value: 0.9040269654872594 and parameters: {'lr': 0.0024975623247041104, 'dropout': 0.41488583294347176, 'n1': 128, 'n2': 32}. Best is trial 7 with value: 0.9065492245298326.\n",
      "\u001b[1m265/265\u001b[0m \u001b[32m━━━━━━━━━━━━━━━━━━━━\u001b[0m\u001b[37m\u001b[0m \u001b[1m0s\u001b[0m 968us/step\n"
     ]
    },
    {
     "name": "stderr",
     "output_type": "stream",
     "text": [
      "Best trial: 7. Best value: 0.906549:  70%|███████   | 14/20 [07:49<02:41, 26.99s/it]"
     ]
    },
    {
     "name": "stdout",
     "output_type": "stream",
     "text": [
      "[I 2025-10-13 23:24:32,111] Trial 13 finished with value: 0.8935991563682318 and parameters: {'lr': 0.0059105610631803316, 'dropout': 0.3118928174625029, 'n1': 96, 'n2': 64}. Best is trial 7 with value: 0.9065492245298326.\n",
      "\u001b[1m265/265\u001b[0m \u001b[32m━━━━━━━━━━━━━━━━━━━━\u001b[0m\u001b[37m\u001b[0m \u001b[1m0s\u001b[0m 965us/step\n"
     ]
    },
    {
     "name": "stderr",
     "output_type": "stream",
     "text": [
      "Best trial: 14. Best value: 0.90738:  75%|███████▌  | 15/20 [08:19<02:20, 28.15s/it]"
     ]
    },
    {
     "name": "stdout",
     "output_type": "stream",
     "text": [
      "[I 2025-10-13 23:25:02,954] Trial 14 finished with value: 0.907379653883049 and parameters: {'lr': 0.0017147475414376616, 'dropout': 0.3971832535815409, 'n1': 128, 'n2': 32}. Best is trial 14 with value: 0.907379653883049.\n",
      "\u001b[1m265/265\u001b[0m \u001b[32m━━━━━━━━━━━━━━━━━━━━\u001b[0m\u001b[37m\u001b[0m \u001b[1m0s\u001b[0m 910us/step\n"
     ]
    },
    {
     "name": "stderr",
     "output_type": "stream",
     "text": [
      "                                                                                    \r"
     ]
    },
    {
     "name": "stdout",
     "output_type": "stream",
     "text": [
      "[I 2025-10-13 23:25:33,279] Trial 15 finished with value: 0.9056779033038851 and parameters: {'lr': 0.0030990686725484006, 'dropout': 0.42560053444051116, 'n1': 96, 'n2': 16}. Best is trial 14 with value: 0.907379653883049.\n"
     ]
    },
    {
     "name": "stderr",
     "output_type": "stream",
     "text": [
      "Best trial: 14. Best value: 0.90738:  80%|████████  | 16/20 [08:50<01:55, 28.81s/it]"
     ]
    },
    {
     "name": "stdout",
     "output_type": "stream",
     "text": [
      "\u001b[1m265/265\u001b[0m \u001b[32m━━━━━━━━━━━━━━━━━━━━\u001b[0m\u001b[37m\u001b[0m \u001b[1m0s\u001b[0m 923us/step\n"
     ]
    },
    {
     "name": "stderr",
     "output_type": "stream",
     "text": [
      "Best trial: 14. Best value: 0.90738:  85%|████████▌ | 17/20 [09:11<01:19, 26.56s/it]"
     ]
    },
    {
     "name": "stdout",
     "output_type": "stream",
     "text": [
      "[I 2025-10-13 23:25:54,613] Trial 16 finished with value: 0.904224556542585 and parameters: {'lr': 0.00418339466958933, 'dropout': 0.29529176303460164, 'n1': 128, 'n2': 32}. Best is trial 14 with value: 0.907379653883049.\n",
      "\u001b[1m265/265\u001b[0m \u001b[32m━━━━━━━━━━━━━━━━━━━━\u001b[0m\u001b[37m\u001b[0m \u001b[1m0s\u001b[0m 958us/step\n"
     ]
    },
    {
     "name": "stderr",
     "output_type": "stream",
     "text": [
      "Best trial: 14. Best value: 0.90738:  90%|█████████ | 18/20 [09:30<00:48, 24.12s/it]"
     ]
    },
    {
     "name": "stdout",
     "output_type": "stream",
     "text": [
      "[I 2025-10-13 23:26:13,063] Trial 17 finished with value: 0.8859267472022456 and parameters: {'lr': 0.00973900983592664, 'dropout': 0.5265819047742007, 'n1': 128, 'n2': 16}. Best is trial 14 with value: 0.907379653883049.\n",
      "\u001b[1m265/265\u001b[0m \u001b[32m━━━━━━━━━━━━━━━━━━━━\u001b[0m\u001b[37m\u001b[0m \u001b[1m0s\u001b[0m 979us/step\n"
     ]
    },
    {
     "name": "stderr",
     "output_type": "stream",
     "text": [
      "Best trial: 14. Best value: 0.90738:  95%|█████████▌| 19/20 [09:54<00:24, 24.26s/it]"
     ]
    },
    {
     "name": "stdout",
     "output_type": "stream",
     "text": [
      "[I 2025-10-13 23:26:37,644] Trial 18 finished with value: 0.9039120803113837 and parameters: {'lr': 0.0014078271630975515, 'dropout': 0.45066421111398214, 'n1': 96, 'n2': 32}. Best is trial 14 with value: 0.907379653883049.\n",
      "\u001b[1m265/265\u001b[0m \u001b[32m━━━━━━━━━━━━━━━━━━━━\u001b[0m\u001b[37m\u001b[0m \u001b[1m0s\u001b[0m 869us/step\n"
     ]
    },
    {
     "name": "stderr",
     "output_type": "stream",
     "text": [
      "Best trial: 14. Best value: 0.90738: 100%|██████████| 20/20 [10:26<00:00, 31.31s/it]"
     ]
    },
    {
     "name": "stdout",
     "output_type": "stream",
     "text": [
      "[I 2025-10-13 23:27:09,269] Trial 19 finished with value: 0.9037818050372174 and parameters: {'lr': 0.00042787545910701063, 'dropout': 0.3881668408327209, 'n1': 128, 'n2': 16}. Best is trial 14 with value: 0.907379653883049.\n",
      "✅ ANN best AUC=0.907 | params={'lr': 0.0017147475414376616, 'dropout': 0.3971832535815409, 'n1': 128, 'n2': 32}\n",
      "\n",
      "🚀 Training LogReg ...\n"
     ]
    },
    {
     "name": "stderr",
     "output_type": "stream",
     "text": [
      "\n"
     ]
    },
    {
     "name": "stdout",
     "output_type": "stream",
     "text": [
      "✅ LogReg: acc=0.799, f1=0.684, auc=0.873, mcc=0.537, brier=0.135\n",
      "\n",
      "🚀 Training RandomForest ...\n",
      "✅ RandomForest: acc=0.815, f1=0.702, auc=0.894, mcc=0.570, brier=0.132\n",
      "\n",
      "🚀 Training XGBoost ...\n",
      "✅ XGBoost: acc=0.844, f1=0.761, auc=0.921, mcc=0.645, brier=0.108\n",
      "\n",
      "🚀 Training ANN ...\n",
      "\u001b[1m331/331\u001b[0m \u001b[32m━━━━━━━━━━━━━━━━━━━━\u001b[0m\u001b[37m\u001b[0m \u001b[1m0s\u001b[0m 926us/step\n",
      "\n",
      "==============================\n",
      "🧬 Fluxomic (200)\n",
      "==============================\n"
     ]
    },
    {
     "name": "stderr",
     "output_type": "stream",
     "text": [
      "[I 2025-10-13 23:28:33,631] A new study created in memory with name: no-name-9de1212e-cc37-4140-96b0-0dbfa3dac1df\n"
     ]
    },
    {
     "name": "stdout",
     "output_type": "stream",
     "text": [
      "🎯 Running Optuna tuning for all models...\n"
     ]
    },
    {
     "name": "stderr",
     "output_type": "stream",
     "text": [
      "Best trial: 0. Best value: 0.556461:   5%|▌         | 1/20 [00:07<02:19,  7.33s/it]"
     ]
    },
    {
     "name": "stdout",
     "output_type": "stream",
     "text": [
      "[I 2025-10-13 23:28:40,943] Trial 0 finished with value: 0.5564613501791463 and parameters: {'C': 1.0934111420223303}. Best is trial 0 with value: 0.5564613501791463.\n"
     ]
    },
    {
     "name": "stderr",
     "output_type": "stream",
     "text": [
      "Best trial: 1. Best value: 0.556495:  10%|█         | 2/20 [00:14<02:05,  6.99s/it]"
     ]
    },
    {
     "name": "stdout",
     "output_type": "stream",
     "text": [
      "[I 2025-10-13 23:28:47,715] Trial 1 finished with value: 0.5564951538326764 and parameters: {'C': 2.678867629987083}. Best is trial 1 with value: 0.5564951538326764.\n"
     ]
    },
    {
     "name": "stderr",
     "output_type": "stream",
     "text": [
      "Best trial: 1. Best value: 0.556495:  15%|█▌        | 3/20 [00:17<01:32,  5.43s/it]"
     ]
    },
    {
     "name": "stdout",
     "output_type": "stream",
     "text": [
      "[I 2025-10-13 23:28:51,271] Trial 2 finished with value: 0.5547587272370821 and parameters: {'C': 0.027632121857852812}. Best is trial 1 with value: 0.5564951538326764.\n"
     ]
    },
    {
     "name": "stderr",
     "output_type": "stream",
     "text": [
      "Best trial: 1. Best value: 0.556495:  20%|██        | 4/20 [00:19<01:05,  4.11s/it]"
     ]
    },
    {
     "name": "stdout",
     "output_type": "stream",
     "text": [
      "[I 2025-10-13 23:28:53,361] Trial 3 finished with value: 0.5534562118935452 and parameters: {'C': 0.009617337003425366}. Best is trial 1 with value: 0.5564951538326764.\n"
     ]
    },
    {
     "name": "stderr",
     "output_type": "stream",
     "text": [
      "Best trial: 1. Best value: 0.556495:  25%|██▌       | 5/20 [00:26<01:14,  4.96s/it]"
     ]
    },
    {
     "name": "stdout",
     "output_type": "stream",
     "text": [
      "[I 2025-10-13 23:28:59,821] Trial 4 finished with value: 0.5562560532313101 and parameters: {'C': 5.499736546183464}. Best is trial 1 with value: 0.5564951538326764.\n"
     ]
    },
    {
     "name": "stderr",
     "output_type": "stream",
     "text": [
      "Best trial: 1. Best value: 0.556495:  30%|███       | 6/20 [00:31<01:09,  4.96s/it]"
     ]
    },
    {
     "name": "stdout",
     "output_type": "stream",
     "text": [
      "[I 2025-10-13 23:29:04,808] Trial 5 finished with value: 0.5560127190317175 and parameters: {'C': 0.30035418360354726}. Best is trial 1 with value: 0.5564951538326764.\n"
     ]
    },
    {
     "name": "stderr",
     "output_type": "stream",
     "text": [
      "Best trial: 1. Best value: 0.556495:  35%|███▌      | 7/20 [00:36<01:06,  5.10s/it]"
     ]
    },
    {
     "name": "stdout",
     "output_type": "stream",
     "text": [
      "[I 2025-10-13 23:29:10,189] Trial 6 finished with value: 0.5562566394218338 and parameters: {'C': 3.2999763095461163}. Best is trial 1 with value: 0.5564951538326764.\n"
     ]
    },
    {
     "name": "stderr",
     "output_type": "stream",
     "text": [
      "Best trial: 1. Best value: 0.556495:  40%|████      | 8/20 [00:42<01:06,  5.51s/it]"
     ]
    },
    {
     "name": "stdout",
     "output_type": "stream",
     "text": [
      "[I 2025-10-13 23:29:16,591] Trial 7 finished with value: 0.5564048804920353 and parameters: {'C': 0.8191817464704856}. Best is trial 1 with value: 0.5564951538326764.\n"
     ]
    },
    {
     "name": "stderr",
     "output_type": "stream",
     "text": [
      "Best trial: 1. Best value: 0.556495:  45%|████▌     | 9/20 [00:47<00:55,  5.06s/it]"
     ]
    },
    {
     "name": "stdout",
     "output_type": "stream",
     "text": [
      "[I 2025-10-13 23:29:20,641] Trial 8 finished with value: 0.5558740524067354 and parameters: {'C': 0.13203318533512226}. Best is trial 1 with value: 0.5564951538326764.\n"
     ]
    },
    {
     "name": "stderr",
     "output_type": "stream",
     "text": [
      "Best trial: 1. Best value: 0.556495:  50%|█████     | 10/20 [00:52<00:52,  5.29s/it]"
     ]
    },
    {
     "name": "stdout",
     "output_type": "stream",
     "text": [
      "[I 2025-10-13 23:29:26,441] Trial 9 finished with value: 0.5563191664110225 and parameters: {'C': 3.0160142675992776}. Best is trial 1 with value: 0.5564951538326764.\n"
     ]
    },
    {
     "name": "stderr",
     "output_type": "stream",
     "text": [
      "Best trial: 1. Best value: 0.556495:  55%|█████▌    | 11/20 [00:59<00:52,  5.81s/it]"
     ]
    },
    {
     "name": "stdout",
     "output_type": "stream",
     "text": [
      "[I 2025-10-13 23:29:33,447] Trial 10 finished with value: 0.5560888586675108 and parameters: {'C': 52.04032537840898}. Best is trial 1 with value: 0.5564951538326764.\n"
     ]
    },
    {
     "name": "stderr",
     "output_type": "stream",
     "text": [
      "Best trial: 1. Best value: 0.556495:  60%|██████    | 12/20 [01:00<00:34,  4.29s/it]"
     ]
    },
    {
     "name": "stdout",
     "output_type": "stream",
     "text": [
      "[I 2025-10-13 23:29:34,247] Trial 11 finished with value: 0.5515507018980197 and parameters: {'C': 0.0014758116152905976}. Best is trial 1 with value: 0.5564951538326764.\n"
     ]
    },
    {
     "name": "stderr",
     "output_type": "stream",
     "text": [
      "Best trial: 1. Best value: 0.556495:  65%|██████▌   | 13/20 [01:06<00:33,  4.79s/it]"
     ]
    },
    {
     "name": "stdout",
     "output_type": "stream",
     "text": [
      "[I 2025-10-13 23:29:40,171] Trial 12 finished with value: 0.5562681678354654 and parameters: {'C': 27.45427413090952}. Best is trial 1 with value: 0.5564951538326764.\n"
     ]
    },
    {
     "name": "stderr",
     "output_type": "stream",
     "text": [
      "Best trial: 1. Best value: 0.556495:  70%|███████   | 14/20 [01:12<00:30,  5.12s/it]"
     ]
    },
    {
     "name": "stdout",
     "output_type": "stream",
     "text": [
      "[I 2025-10-13 23:29:46,084] Trial 13 finished with value: 0.5563057491612591 and parameters: {'C': 0.9003246473768127}. Best is trial 1 with value: 0.5564951538326764.\n"
     ]
    },
    {
     "name": "stderr",
     "output_type": "stream",
     "text": [
      "Best trial: 1. Best value: 0.556495:  75%|███████▌  | 15/20 [01:18<00:26,  5.33s/it]"
     ]
    },
    {
     "name": "stdout",
     "output_type": "stream",
     "text": [
      "[I 2025-10-13 23:29:51,890] Trial 14 finished with value: 0.5562399655580501 and parameters: {'C': 10.906169708720599}. Best is trial 1 with value: 0.5564951538326764.\n"
     ]
    },
    {
     "name": "stderr",
     "output_type": "stream",
     "text": [
      "Best trial: 1. Best value: 0.556495:  80%|████████  | 16/20 [01:21<00:19,  4.79s/it]"
     ]
    },
    {
     "name": "stdout",
     "output_type": "stream",
     "text": [
      "[I 2025-10-13 23:29:55,426] Trial 15 finished with value: 0.5558393369012796 and parameters: {'C': 0.0791235124827925}. Best is trial 1 with value: 0.5564951538326764.\n"
     ]
    },
    {
     "name": "stderr",
     "output_type": "stream",
     "text": [
      "Best trial: 1. Best value: 0.556495:  85%|████████▌ | 17/20 [01:27<00:15,  5.10s/it]"
     ]
    },
    {
     "name": "stdout",
     "output_type": "stream",
     "text": [
      "[I 2025-10-13 23:30:01,260] Trial 16 finished with value: 0.5562957839223571 and parameters: {'C': 0.6163956915924894}. Best is trial 1 with value: 0.5564951538326764.\n"
     ]
    },
    {
     "name": "stderr",
     "output_type": "stream",
     "text": [
      "Best trial: 1. Best value: 0.556495:  90%|█████████ | 18/20 [01:33<00:10,  5.22s/it]"
     ]
    },
    {
     "name": "stdout",
     "output_type": "stream",
     "text": [
      "[I 2025-10-13 23:30:06,771] Trial 17 finished with value: 0.5564243550438763 and parameters: {'C': 85.27368999967622}. Best is trial 1 with value: 0.5564951538326764.\n"
     ]
    },
    {
     "name": "stderr",
     "output_type": "stream",
     "text": [
      "Best trial: 1. Best value: 0.556495:  95%|█████████▌| 19/20 [01:39<00:05,  5.57s/it]"
     ]
    },
    {
     "name": "stdout",
     "output_type": "stream",
     "text": [
      "[I 2025-10-13 23:30:13,122] Trial 18 finished with value: 0.556304772177053 and parameters: {'C': 15.559252060446905}. Best is trial 1 with value: 0.5564951538326764.\n"
     ]
    },
    {
     "name": "stderr",
     "output_type": "stream",
     "text": [
      "Best trial: 1. Best value: 0.556495: 100%|██████████| 20/20 [01:45<00:00,  5.30s/it]\n",
      "[I 2025-10-13 23:30:19,560] A new study created in memory with name: no-name-e1236e11-fbbd-4175-8023-f28d3a5eb328\n"
     ]
    },
    {
     "name": "stdout",
     "output_type": "stream",
     "text": [
      "[I 2025-10-13 23:30:19,549] Trial 19 finished with value: 0.5562774166192829 and parameters: {'C': 2.11736491117265}. Best is trial 1 with value: 0.5564951538326764.\n",
      "✅ LogReg best AUC=0.556 | params={'C': 2.678867629987083}\n"
     ]
    },
    {
     "name": "stderr",
     "output_type": "stream",
     "text": [
      "Best trial: 0. Best value: 0.591894:   5%|▌         | 1/20 [00:02<00:50,  2.67s/it]"
     ]
    },
    {
     "name": "stdout",
     "output_type": "stream",
     "text": [
      "[I 2025-10-13 23:30:22,229] Trial 0 finished with value: 0.5918935712485272 and parameters: {'n_estimators': 200, 'max_depth': 10, 'min_samples_split': 4, 'min_samples_leaf': 1, 'max_features': 'log2'}. Best is trial 0 with value: 0.5918935712485272.\n"
     ]
    },
    {
     "name": "stderr",
     "output_type": "stream",
     "text": [
      "Best trial: 1. Best value: 0.595885:  10%|█         | 2/20 [00:07<01:15,  4.19s/it]"
     ]
    },
    {
     "name": "stdout",
     "output_type": "stream",
     "text": [
      "[I 2025-10-13 23:30:27,482] Trial 1 finished with value: 0.5958849425240191 and parameters: {'n_estimators': 200, 'max_depth': 11, 'min_samples_split': 5, 'min_samples_leaf': 1, 'max_features': 'sqrt'}. Best is trial 1 with value: 0.5958849425240191.\n"
     ]
    },
    {
     "name": "stderr",
     "output_type": "stream",
     "text": [
      "Best trial: 1. Best value: 0.595885:  15%|█▌        | 3/20 [00:27<03:09, 11.15s/it]"
     ]
    },
    {
     "name": "stdout",
     "output_type": "stream",
     "text": [
      "[I 2025-10-13 23:30:46,915] Trial 2 finished with value: 0.5900722772915653 and parameters: {'n_estimators': 600, 'max_depth': 16, 'min_samples_split': 2, 'min_samples_leaf': 4, 'max_features': 'sqrt'}. Best is trial 1 with value: 0.5958849425240191.\n"
     ]
    },
    {
     "name": "stderr",
     "output_type": "stream",
     "text": [
      "Best trial: 1. Best value: 0.595885:  20%|██        | 4/20 [00:37<02:52, 10.76s/it]"
     ]
    },
    {
     "name": "stdout",
     "output_type": "stream",
     "text": [
      "[I 2025-10-13 23:30:57,069] Trial 3 finished with value: 0.5882018735951781 and parameters: {'n_estimators': 600, 'max_depth': 15, 'min_samples_split': 5, 'min_samples_leaf': 1, 'max_features': 'log2'}. Best is trial 1 with value: 0.5958849425240191.\n"
     ]
    },
    {
     "name": "stderr",
     "output_type": "stream",
     "text": [
      "Best trial: 1. Best value: 0.595885:  25%|██▌       | 5/20 [00:44<02:20,  9.36s/it]"
     ]
    },
    {
     "name": "stdout",
     "output_type": "stream",
     "text": [
      "[I 2025-10-13 23:31:03,950] Trial 4 finished with value: 0.5920479673192269 and parameters: {'n_estimators': 800, 'max_depth': 6, 'min_samples_split': 2, 'min_samples_leaf': 4, 'max_features': 'log2'}. Best is trial 1 with value: 0.5958849425240191.\n"
     ]
    },
    {
     "name": "stderr",
     "output_type": "stream",
     "text": [
      "Best trial: 1. Best value: 0.595885:  30%|███       | 6/20 [00:56<02:26, 10.44s/it]"
     ]
    },
    {
     "name": "stdout",
     "output_type": "stream",
     "text": [
      "[I 2025-10-13 23:31:16,483] Trial 5 finished with value: 0.591425595813818 and parameters: {'n_estimators': 400, 'max_depth': 15, 'min_samples_split': 6, 'min_samples_leaf': 4, 'max_features': 'sqrt'}. Best is trial 1 with value: 0.5958849425240191.\n"
     ]
    },
    {
     "name": "stderr",
     "output_type": "stream",
     "text": [
      "Best trial: 1. Best value: 0.595885:  35%|███▌      | 7/20 [01:03<01:58,  9.08s/it]"
     ]
    },
    {
     "name": "stdout",
     "output_type": "stream",
     "text": [
      "[I 2025-10-13 23:31:22,767] Trial 6 finished with value: 0.5937866084123551 and parameters: {'n_estimators': 400, 'max_depth': 6, 'min_samples_split': 4, 'min_samples_leaf': 1, 'max_features': 'sqrt'}. Best is trial 1 with value: 0.5958849425240191.\n"
     ]
    },
    {
     "name": "stderr",
     "output_type": "stream",
     "text": [
      "Best trial: 1. Best value: 0.595885:  40%|████      | 8/20 [01:05<01:21,  6.77s/it]"
     ]
    },
    {
     "name": "stdout",
     "output_type": "stream",
     "text": [
      "[I 2025-10-13 23:31:24,606] Trial 7 finished with value: 0.5911464062938625 and parameters: {'n_estimators': 200, 'max_depth': 6, 'min_samples_split': 4, 'min_samples_leaf': 2, 'max_features': 'log2'}. Best is trial 1 with value: 0.5958849425240191.\n"
     ]
    },
    {
     "name": "stderr",
     "output_type": "stream",
     "text": [
      "Best trial: 1. Best value: 0.595885:  45%|████▌     | 9/20 [01:11<01:12,  6.62s/it]"
     ]
    },
    {
     "name": "stdout",
     "output_type": "stream",
     "text": [
      "[I 2025-10-13 23:31:30,894] Trial 8 finished with value: 0.5892157226719607 and parameters: {'n_estimators': 200, 'max_depth': 14, 'min_samples_split': 4, 'min_samples_leaf': 3, 'max_features': 'sqrt'}. Best is trial 1 with value: 0.5958849425240191.\n"
     ]
    },
    {
     "name": "stderr",
     "output_type": "stream",
     "text": [
      "Best trial: 1. Best value: 0.595885:  50%|█████     | 10/20 [01:16<01:02,  6.21s/it]"
     ]
    },
    {
     "name": "stdout",
     "output_type": "stream",
     "text": [
      "[I 2025-10-13 23:31:36,175] Trial 9 finished with value: 0.5949470051200485 and parameters: {'n_estimators': 200, 'max_depth': 11, 'min_samples_split': 5, 'min_samples_leaf': 3, 'max_features': 'sqrt'}. Best is trial 1 with value: 0.5958849425240191.\n"
     ]
    },
    {
     "name": "stderr",
     "output_type": "stream",
     "text": [
      "Best trial: 10. Best value: 0.596094:  55%|█████▌    | 11/20 [01:26<01:06,  7.42s/it]"
     ]
    },
    {
     "name": "stdout",
     "output_type": "stream",
     "text": [
      "[I 2025-10-13 23:31:46,354] Trial 10 finished with value: 0.5960937566149973 and parameters: {'n_estimators': 400, 'max_depth': 11, 'min_samples_split': 6, 'min_samples_leaf': 2, 'max_features': 'sqrt'}. Best is trial 10 with value: 0.5960937566149973.\n"
     ]
    },
    {
     "name": "stderr",
     "output_type": "stream",
     "text": [
      "Best trial: 10. Best value: 0.596094:  60%|██████    | 12/20 [01:37<01:06,  8.28s/it]"
     ]
    },
    {
     "name": "stdout",
     "output_type": "stream",
     "text": [
      "[I 2025-10-13 23:31:56,578] Trial 11 finished with value: 0.5960937566149973 and parameters: {'n_estimators': 400, 'max_depth': 11, 'min_samples_split': 6, 'min_samples_leaf': 2, 'max_features': 'sqrt'}. Best is trial 10 with value: 0.5960937566149973.\n"
     ]
    },
    {
     "name": "stderr",
     "output_type": "stream",
     "text": [
      "Best trial: 12. Best value: 0.596906:  65%|██████▌   | 13/20 [01:46<00:59,  8.52s/it]"
     ]
    },
    {
     "name": "stdout",
     "output_type": "stream",
     "text": [
      "[I 2025-10-13 23:32:05,665] Trial 12 finished with value: 0.5969055002256833 and parameters: {'n_estimators': 400, 'max_depth': 9, 'min_samples_split': 6, 'min_samples_leaf': 2, 'max_features': 'sqrt'}. Best is trial 12 with value: 0.5969055002256833.\n"
     ]
    },
    {
     "name": "stderr",
     "output_type": "stream",
     "text": [
      "Best trial: 13. Best value: 0.597271:  70%|███████   | 14/20 [01:59<01:00, 10.01s/it]"
     ]
    },
    {
     "name": "stdout",
     "output_type": "stream",
     "text": [
      "[I 2025-10-13 23:32:19,111] Trial 13 finished with value: 0.597271087715596 and parameters: {'n_estimators': 600, 'max_depth': 9, 'min_samples_split': 6, 'min_samples_leaf': 2, 'max_features': 'sqrt'}. Best is trial 13 with value: 0.597271087715596.\n"
     ]
    },
    {
     "name": "stderr",
     "output_type": "stream",
     "text": [
      "Best trial: 14. Best value: 0.597626:  75%|███████▌  | 15/20 [02:15<00:59, 11.81s/it]"
     ]
    },
    {
     "name": "stdout",
     "output_type": "stream",
     "text": [
      "[I 2025-10-13 23:32:35,093] Trial 14 finished with value: 0.5976259935115222 and parameters: {'n_estimators': 800, 'max_depth': 8, 'min_samples_split': 6, 'min_samples_leaf': 3, 'max_features': 'sqrt'}. Best is trial 14 with value: 0.5976259935115222.\n"
     ]
    },
    {
     "name": "stderr",
     "output_type": "stream",
     "text": [
      "Best trial: 14. Best value: 0.597626:  80%|████████  | 16/20 [02:31<00:52, 13.00s/it]"
     ]
    },
    {
     "name": "stdout",
     "output_type": "stream",
     "text": [
      "[I 2025-10-13 23:32:50,860] Trial 15 finished with value: 0.5976259935115222 and parameters: {'n_estimators': 800, 'max_depth': 8, 'min_samples_split': 3, 'min_samples_leaf': 3, 'max_features': 'sqrt'}. Best is trial 14 with value: 0.5976259935115222.\n"
     ]
    },
    {
     "name": "stderr",
     "output_type": "stream",
     "text": [
      "Best trial: 14. Best value: 0.597626:  85%|████████▌ | 17/20 [02:47<00:41, 13.88s/it]"
     ]
    },
    {
     "name": "stdout",
     "output_type": "stream",
     "text": [
      "[I 2025-10-13 23:33:06,801] Trial 16 finished with value: 0.5976259935115222 and parameters: {'n_estimators': 800, 'max_depth': 8, 'min_samples_split': 3, 'min_samples_leaf': 3, 'max_features': 'sqrt'}. Best is trial 14 with value: 0.5976259935115222.\n"
     ]
    },
    {
     "name": "stderr",
     "output_type": "stream",
     "text": [
      "Best trial: 14. Best value: 0.597626:  90%|█████████ | 18/20 [03:01<00:27, 13.93s/it]"
     ]
    },
    {
     "name": "stdout",
     "output_type": "stream",
     "text": [
      "[I 2025-10-13 23:33:20,830] Trial 17 finished with value: 0.5957859088916635 and parameters: {'n_estimators': 800, 'max_depth': 7, 'min_samples_split': 3, 'min_samples_leaf': 3, 'max_features': 'sqrt'}. Best is trial 14 with value: 0.5976259935115222.\n"
     ]
    },
    {
     "name": "stderr",
     "output_type": "stream",
     "text": [
      "Best trial: 14. Best value: 0.597626:  95%|█████████▌| 19/20 [03:10<00:12, 12.37s/it]"
     ]
    },
    {
     "name": "stdout",
     "output_type": "stream",
     "text": [
      "[I 2025-10-13 23:33:29,574] Trial 18 finished with value: 0.5954648393154076 and parameters: {'n_estimators': 800, 'max_depth': 8, 'min_samples_split': 3, 'min_samples_leaf': 3, 'max_features': 'log2'}. Best is trial 14 with value: 0.5976259935115222.\n"
     ]
    },
    {
     "name": "stderr",
     "output_type": "stream",
     "text": [
      "Best trial: 14. Best value: 0.597626: 100%|██████████| 20/20 [03:27<00:00, 10.36s/it]\n",
      "[I 2025-10-13 23:33:46,756] A new study created in memory with name: no-name-4b1d8643-7bb3-4175-a732-0fa8cbee3caf\n"
     ]
    },
    {
     "name": "stdout",
     "output_type": "stream",
     "text": [
      "[I 2025-10-13 23:33:46,751] Trial 19 finished with value: 0.5944962571735065 and parameters: {'n_estimators': 600, 'max_depth': 13, 'min_samples_split': 3, 'min_samples_leaf': 4, 'max_features': 'sqrt'}. Best is trial 14 with value: 0.5976259935115222.\n",
      "✅ RandomForest best AUC=0.598 | params={'n_estimators': 800, 'max_depth': 8, 'min_samples_split': 6, 'min_samples_leaf': 3, 'max_features': 'sqrt'}\n"
     ]
    },
    {
     "name": "stderr",
     "output_type": "stream",
     "text": [
      "Best trial: 0. Best value: 0.572903:   5%|▌         | 1/20 [01:05<20:51, 65.88s/it]"
     ]
    },
    {
     "name": "stdout",
     "output_type": "stream",
     "text": [
      "[I 2025-10-13 23:34:52,631] Trial 0 finished with value: 0.5729032453461358 and parameters: {'learning_rate': 0.022884551684262892, 'max_depth': 12, 'subsample': 0.9933175070646004, 'colsample_bytree': 0.8673150362357602, 'n_estimators': 800}. Best is trial 0 with value: 0.5729032453461358.\n"
     ]
    },
    {
     "name": "stderr",
     "output_type": "stream",
     "text": [
      "Best trial: 0. Best value: 0.572903:  10%|█         | 2/20 [01:30<12:27, 41.55s/it]"
     ]
    },
    {
     "name": "stdout",
     "output_type": "stream",
     "text": [
      "[I 2025-10-13 23:35:17,152] Trial 1 finished with value: 0.5553318261723648 and parameters: {'learning_rate': 0.2164669761978604, 'max_depth': 6, 'subsample': 0.9291363686518115, 'colsample_bytree': 0.8348289119051678, 'n_estimators': 1000}. Best is trial 0 with value: 0.5729032453461358.\n"
     ]
    },
    {
     "name": "stderr",
     "output_type": "stream",
     "text": [
      "Best trial: 0. Best value: 0.572903:  15%|█▌        | 3/20 [01:49<08:55, 31.52s/it]"
     ]
    },
    {
     "name": "stdout",
     "output_type": "stream",
     "text": [
      "[I 2025-10-13 23:35:36,728] Trial 2 finished with value: 0.556030011652165 and parameters: {'learning_rate': 0.11704647656989285, 'max_depth': 6, 'subsample': 0.7797214904789654, 'colsample_bytree': 0.6197647291660514, 'n_estimators': 800}. Best is trial 0 with value: 0.5729032453461358.\n"
     ]
    },
    {
     "name": "stderr",
     "output_type": "stream",
     "text": [
      "Best trial: 3. Best value: 0.593011:  20%|██        | 4/20 [02:06<06:47, 25.47s/it]"
     ]
    },
    {
     "name": "stdout",
     "output_type": "stream",
     "text": [
      "[I 2025-10-13 23:35:52,926] Trial 3 finished with value: 0.593010752688172 and parameters: {'learning_rate': 0.01700948111725739, 'max_depth': 8, 'subsample': 0.8517752866422758, 'colsample_bytree': 0.623312470376486, 'n_estimators': 400}. Best is trial 3 with value: 0.593010752688172.\n"
     ]
    },
    {
     "name": "stderr",
     "output_type": "stream",
     "text": [
      "Best trial: 3. Best value: 0.593011:  25%|██▌       | 5/20 [02:44<07:29, 29.94s/it]"
     ]
    },
    {
     "name": "stdout",
     "output_type": "stream",
     "text": [
      "[I 2025-10-13 23:36:30,805] Trial 4 finished with value: 0.5696177451595317 and parameters: {'learning_rate': 0.039071272956623423, 'max_depth': 12, 'subsample': 0.8013892943569183, 'colsample_bytree': 0.9125672220792302, 'n_estimators': 400}. Best is trial 3 with value: 0.593010752688172.\n"
     ]
    },
    {
     "name": "stderr",
     "output_type": "stream",
     "text": [
      "Best trial: 3. Best value: 0.593011:  30%|███       | 6/20 [03:15<07:04, 30.35s/it]"
     ]
    },
    {
     "name": "stdout",
     "output_type": "stream",
     "text": [
      "[I 2025-10-13 23:37:01,947] Trial 5 finished with value: 0.5700219560917245 and parameters: {'learning_rate': 0.0418949697665478, 'max_depth': 9, 'subsample': 0.8405656689228135, 'colsample_bytree': 0.9059855424807963, 'n_estimators': 600}. Best is trial 3 with value: 0.593010752688172.\n"
     ]
    },
    {
     "name": "stderr",
     "output_type": "stream",
     "text": [
      "Best trial: 3. Best value: 0.593011:  35%|███▌      | 7/20 [03:54<07:12, 33.26s/it]"
     ]
    },
    {
     "name": "stdout",
     "output_type": "stream",
     "text": [
      "[I 2025-10-13 23:37:41,184] Trial 6 finished with value: 0.5631250663535107 and parameters: {'learning_rate': 0.05731180372012227, 'max_depth': 8, 'subsample': 0.724764146038625, 'colsample_bytree': 0.6642957129403873, 'n_estimators': 1000}. Best is trial 3 with value: 0.593010752688172.\n"
     ]
    },
    {
     "name": "stderr",
     "output_type": "stream",
     "text": [
      "Best trial: 3. Best value: 0.593011:  40%|████      | 8/20 [04:10<05:32, 27.73s/it]"
     ]
    },
    {
     "name": "stdout",
     "output_type": "stream",
     "text": [
      "[I 2025-10-13 23:37:57,087] Trial 7 finished with value: 0.5899189559034922 and parameters: {'learning_rate': 0.014518904655271064, 'max_depth': 11, 'subsample': 0.9424916958471935, 'colsample_bytree': 0.6866233692351985, 'n_estimators': 200}. Best is trial 3 with value: 0.593010752688172.\n"
     ]
    },
    {
     "name": "stderr",
     "output_type": "stream",
     "text": [
      "Best trial: 3. Best value: 0.593011:  45%|████▌     | 9/20 [04:22<04:10, 22.82s/it]"
     ]
    },
    {
     "name": "stdout",
     "output_type": "stream",
     "text": [
      "[I 2025-10-13 23:38:09,098] Trial 8 finished with value: 0.5529108267435748 and parameters: {'learning_rate': 0.15817929745843648, 'max_depth': 10, 'subsample': 0.64837784555599, 'colsample_bytree': 0.7091267951725986, 'n_estimators': 200}. Best is trial 3 with value: 0.593010752688172.\n"
     ]
    },
    {
     "name": "stderr",
     "output_type": "stream",
     "text": [
      "Best trial: 3. Best value: 0.593011:  50%|█████     | 10/20 [04:39<03:30, 21.10s/it]"
     ]
    },
    {
     "name": "stdout",
     "output_type": "stream",
     "text": [
      "[I 2025-10-13 23:38:26,348] Trial 9 finished with value: 0.5918235866132322 and parameters: {'learning_rate': 0.019150047193577976, 'max_depth': 11, 'subsample': 0.8812631434891507, 'colsample_bytree': 0.9618918407920249, 'n_estimators': 200}. Best is trial 3 with value: 0.593010752688172.\n"
     ]
    },
    {
     "name": "stderr",
     "output_type": "stream",
     "text": [
      "Best trial: 10. Best value: 0.59997:  55%|█████▌    | 11/20 [04:56<02:59, 19.92s/it]"
     ]
    },
    {
     "name": "stdout",
     "output_type": "stream",
     "text": [
      "[I 2025-10-13 23:38:43,602] Trial 10 finished with value: 0.5999696483573314 and parameters: {'learning_rate': 0.010120096413414392, 'max_depth': 8, 'subsample': 0.6996300220444339, 'colsample_bytree': 0.7692176338282807, 'n_estimators': 400}. Best is trial 10 with value: 0.5999696483573314.\n"
     ]
    },
    {
     "name": "stderr",
     "output_type": "stream",
     "text": [
      "Best trial: 11. Best value: 0.603015:  60%|██████    | 12/20 [05:03<02:07, 15.90s/it]"
     ]
    },
    {
     "name": "stdout",
     "output_type": "stream",
     "text": [
      "[I 2025-10-13 23:38:50,310] Trial 11 finished with value: 0.6030148755615217 and parameters: {'learning_rate': 0.010318199377710972, 'max_depth': 4, 'subsample': 0.6150398567750124, 'colsample_bytree': 0.7584098511860411, 'n_estimators': 400}. Best is trial 11 with value: 0.6030148755615217.\n"
     ]
    },
    {
     "name": "stderr",
     "output_type": "stream",
     "text": [
      "Best trial: 11. Best value: 0.603015:  65%|██████▌   | 13/20 [05:10<01:33, 13.34s/it]"
     ]
    },
    {
     "name": "stdout",
     "output_type": "stream",
     "text": [
      "[I 2025-10-13 23:38:57,741] Trial 12 finished with value: 0.6022053790145095 and parameters: {'learning_rate': 0.010056431221482521, 'max_depth': 4, 'subsample': 0.6002702260030912, 'colsample_bytree': 0.7706949346269868, 'n_estimators': 400}. Best is trial 11 with value: 0.6030148755615217.\n"
     ]
    },
    {
     "name": "stderr",
     "output_type": "stream",
     "text": [
      "Best trial: 11. Best value: 0.603015:  70%|███████   | 14/20 [05:24<01:20, 13.34s/it]"
     ]
    },
    {
     "name": "stdout",
     "output_type": "stream",
     "text": [
      "[I 2025-10-13 23:39:11,074] Trial 13 finished with value: 0.6023205003201251 and parameters: {'learning_rate': 0.010305658770228456, 'max_depth': 5, 'subsample': 0.6025124118355243, 'colsample_bytree': 0.7644218214869013, 'n_estimators': 600}. Best is trial 11 with value: 0.6030148755615217.\n"
     ]
    },
    {
     "name": "stderr",
     "output_type": "stream",
     "text": [
      "Best trial: 11. Best value: 0.603015:  75%|███████▌  | 15/20 [05:34<01:01, 12.38s/it]"
     ]
    },
    {
     "name": "stdout",
     "output_type": "stream",
     "text": [
      "[I 2025-10-13 23:39:21,255] Trial 14 finished with value: 0.6008107666264801 and parameters: {'learning_rate': 0.02814953027751379, 'max_depth': 4, 'subsample': 0.6044896348727562, 'colsample_bytree': 0.759137113539445, 'n_estimators': 600}. Best is trial 11 with value: 0.6030148755615217.\n"
     ]
    },
    {
     "name": "stderr",
     "output_type": "stream",
     "text": [
      "Best trial: 11. Best value: 0.603015:  80%|████████  | 16/20 [05:56<01:00, 15.24s/it]"
     ]
    },
    {
     "name": "stdout",
     "output_type": "stream",
     "text": [
      "[I 2025-10-13 23:39:43,132] Trial 15 finished with value: 0.5718378440694128 and parameters: {'learning_rate': 0.07345391234183321, 'max_depth': 6, 'subsample': 0.6861198552236778, 'colsample_bytree': 0.8107221644782108, 'n_estimators': 800}. Best is trial 11 with value: 0.6030148755615217.\n"
     ]
    },
    {
     "name": "stderr",
     "output_type": "stream",
     "text": [
      "Best trial: 11. Best value: 0.603015:  85%|████████▌ | 17/20 [06:09<00:43, 14.50s/it]"
     ]
    },
    {
     "name": "stdout",
     "output_type": "stream",
     "text": [
      "[I 2025-10-13 23:39:55,920] Trial 16 finished with value: 0.6006227948652316 and parameters: {'learning_rate': 0.013370158812098605, 'max_depth': 5, 'subsample': 0.748778522383715, 'colsample_bytree': 0.7300726707737171, 'n_estimators': 600}. Best is trial 11 with value: 0.6030148755615217.\n"
     ]
    },
    {
     "name": "stderr",
     "output_type": "stream",
     "text": [
      "Best trial: 11. Best value: 0.603015:  90%|█████████ | 18/20 [06:18<00:25, 12.80s/it]"
     ]
    },
    {
     "name": "stdout",
     "output_type": "stream",
     "text": [
      "[I 2025-10-13 23:40:04,762] Trial 17 finished with value: 0.5992498063942965 and parameters: {'learning_rate': 0.033706604919154476, 'max_depth': 5, 'subsample': 0.655201113578861, 'colsample_bytree': 0.841438018322072, 'n_estimators': 400}. Best is trial 11 with value: 0.6030148755615217.\n"
     ]
    },
    {
     "name": "stderr",
     "output_type": "stream",
     "text": [
      "Best trial: 11. Best value: 0.603015:  95%|█████████▌| 19/20 [06:38<00:15, 15.16s/it]"
     ]
    },
    {
     "name": "stdout",
     "output_type": "stream",
     "text": [
      "[I 2025-10-13 23:40:25,423] Trial 18 finished with value: 0.5679188673235909 and parameters: {'learning_rate': 0.08493731399736018, 'max_depth': 7, 'subsample': 0.6480636155672779, 'colsample_bytree': 0.7296744722611561, 'n_estimators': 600}. Best is trial 11 with value: 0.6030148755615217.\n"
     ]
    },
    {
     "name": "stderr",
     "output_type": "stream",
     "text": [
      "Best trial: 11. Best value: 0.603015: 100%|██████████| 20/20 [06:51<00:00, 20.57s/it]\n",
      "[I 2025-10-13 23:40:38,173] A new study created in memory with name: no-name-dad4f313-0420-4bac-8f5f-8806e191e292\n"
     ]
    },
    {
     "name": "stdout",
     "output_type": "stream",
     "text": [
      "[I 2025-10-13 23:40:38,169] Trial 19 finished with value: 0.6013895646362981 and parameters: {'learning_rate': 0.022657482400329117, 'max_depth': 4, 'subsample': 0.6276593238098122, 'colsample_bytree': 0.6549097472368769, 'n_estimators': 800}. Best is trial 11 with value: 0.6030148755615217.\n",
      "✅ XGBoost best AUC=0.603 | params={'learning_rate': 0.010318199377710972, 'max_depth': 4, 'subsample': 0.6150398567750124, 'colsample_bytree': 0.7584098511860411, 'n_estimators': 400}\n"
     ]
    },
    {
     "name": "stderr",
     "output_type": "stream",
     "text": [
      "  0%|          | 0/20 [00:00<?, ?it/s]"
     ]
    },
    {
     "name": "stdout",
     "output_type": "stream",
     "text": [
      "\u001b[1m260/260\u001b[0m \u001b[32m━━━━━━━━━━━━━━━━━━━━\u001b[0m\u001b[37m\u001b[0m \u001b[1m0s\u001b[0m 922us/step\n"
     ]
    },
    {
     "name": "stderr",
     "output_type": "stream",
     "text": [
      "Best trial: 0. Best value: 0.570824:   5%|▌         | 1/20 [00:31<10:05, 31.88s/it]"
     ]
    },
    {
     "name": "stdout",
     "output_type": "stream",
     "text": [
      "[I 2025-10-13 23:41:10,048] Trial 0 finished with value: 0.5708239624264901 and parameters: {'lr': 0.0008785392814623577, 'dropout': 0.23167363134547064, 'n1': 64, 'n2': 32}. Best is trial 0 with value: 0.5708239624264901.\n",
      "\u001b[1m260/260\u001b[0m \u001b[32m━━━━━━━━━━━━━━━━━━━━\u001b[0m\u001b[37m\u001b[0m \u001b[1m0s\u001b[0m 855us/step\n"
     ]
    },
    {
     "name": "stderr",
     "output_type": "stream",
     "text": [
      "Best trial: 0. Best value: 0.570824:  10%|█         | 2/20 [00:49<06:57, 23.21s/it]"
     ]
    },
    {
     "name": "stdout",
     "output_type": "stream",
     "text": [
      "[I 2025-10-13 23:41:27,193] Trial 1 finished with value: 0.5009322708955753 and parameters: {'lr': 0.009349900400896784, 'dropout': 0.45447479100441396, 'n1': 64, 'n2': 64}. Best is trial 0 with value: 0.5708239624264901.\n",
      "\u001b[1m260/260\u001b[0m \u001b[32m━━━━━━━━━━━━━━━━━━━━\u001b[0m\u001b[37m\u001b[0m \u001b[1m0s\u001b[0m 929us/step\n"
     ]
    },
    {
     "name": "stderr",
     "output_type": "stream",
     "text": [
      "Best trial: 0. Best value: 0.570824:  15%|█▌        | 3/20 [01:14<06:55, 24.44s/it]"
     ]
    },
    {
     "name": "stdout",
     "output_type": "stream",
     "text": [
      "[I 2025-10-13 23:41:53,100] Trial 2 finished with value: 0.5692761914810885 and parameters: {'lr': 0.00022234149071549626, 'dropout': 0.49336209838974576, 'n1': 128, 'n2': 32}. Best is trial 0 with value: 0.5708239624264901.\n",
      "\u001b[1m260/260\u001b[0m \u001b[32m━━━━━━━━━━━━━━━━━━━━\u001b[0m\u001b[37m\u001b[0m \u001b[1m0s\u001b[0m 866us/step\n"
     ]
    },
    {
     "name": "stderr",
     "output_type": "stream",
     "text": [
      "Best trial: 0. Best value: 0.570824:  20%|██        | 4/20 [01:27<05:15, 19.73s/it]"
     ]
    },
    {
     "name": "stdout",
     "output_type": "stream",
     "text": [
      "[I 2025-10-13 23:42:05,616] Trial 3 finished with value: 0.5562789472278724 and parameters: {'lr': 0.006490905777845479, 'dropout': 0.20731016964666393, 'n1': 64, 'n2': 48}. Best is trial 0 with value: 0.5708239624264901.\n",
      "\u001b[1m260/260\u001b[0m \u001b[32m━━━━━━━━━━━━━━━━━━━━\u001b[0m\u001b[37m\u001b[0m \u001b[1m0s\u001b[0m 828us/step\n"
     ]
    },
    {
     "name": "stderr",
     "output_type": "stream",
     "text": [
      "Best trial: 0. Best value: 0.570824:  25%|██▌       | 5/20 [01:43<04:37, 18.52s/it]"
     ]
    },
    {
     "name": "stdout",
     "output_type": "stream",
     "text": [
      "[I 2025-10-13 23:42:21,998] Trial 4 finished with value: 0.5653657470639997 and parameters: {'lr': 0.0013450382385323742, 'dropout': 0.30546650045701595, 'n1': 32, 'n2': 48}. Best is trial 0 with value: 0.5708239624264901.\n",
      "\u001b[1m260/260\u001b[0m \u001b[32m━━━━━━━━━━━━━━━━━━━━\u001b[0m\u001b[37m\u001b[0m \u001b[1m0s\u001b[0m 957us/step\n"
     ]
    },
    {
     "name": "stderr",
     "output_type": "stream",
     "text": [
      "Best trial: 5. Best value: 0.576477:  30%|███       | 6/20 [02:14<05:19, 22.82s/it]"
     ]
    },
    {
     "name": "stdout",
     "output_type": "stream",
     "text": [
      "[I 2025-10-13 23:42:53,155] Trial 5 finished with value: 0.5764774117994942 and parameters: {'lr': 0.0023743336068062487, 'dropout': 0.34615557191011725, 'n1': 64, 'n2': 32}. Best is trial 5 with value: 0.5764774117994942.\n",
      "\u001b[1m260/260\u001b[0m \u001b[32m━━━━━━━━━━━━━━━━━━━━\u001b[0m\u001b[37m\u001b[0m \u001b[1m0s\u001b[0m 901us/step\n"
     ]
    },
    {
     "name": "stderr",
     "output_type": "stream",
     "text": [
      "Best trial: 5. Best value: 0.576477:  35%|███▌      | 7/20 [02:28<04:17, 19.84s/it]"
     ]
    },
    {
     "name": "stdout",
     "output_type": "stream",
     "text": [
      "[I 2025-10-13 23:43:06,861] Trial 6 finished with value: 0.5551684418469691 and parameters: {'lr': 0.0054972933881703955, 'dropout': 0.5266262048319303, 'n1': 32, 'n2': 48}. Best is trial 5 with value: 0.5764774117994942.\n",
      "\u001b[1m260/260\u001b[0m \u001b[32m━━━━━━━━━━━━━━━━━━━━\u001b[0m\u001b[37m\u001b[0m \u001b[1m0s\u001b[0m 863us/step\n"
     ]
    },
    {
     "name": "stderr",
     "output_type": "stream",
     "text": [
      "Best trial: 5. Best value: 0.576477:  40%|████      | 8/20 [02:39<03:24, 17.02s/it]"
     ]
    },
    {
     "name": "stdout",
     "output_type": "stream",
     "text": [
      "[I 2025-10-13 23:43:17,834] Trial 7 finished with value: 0.5229438878891083 and parameters: {'lr': 0.009109547645545878, 'dropout': 0.3077083599718042, 'n1': 96, 'n2': 48}. Best is trial 5 with value: 0.5764774117994942.\n",
      "\u001b[1m260/260\u001b[0m \u001b[32m━━━━━━━━━━━━━━━━━━━━\u001b[0m\u001b[37m\u001b[0m \u001b[1m0s\u001b[0m 858us/step\n"
     ]
    },
    {
     "name": "stderr",
     "output_type": "stream",
     "text": [
      "Best trial: 5. Best value: 0.576477:  45%|████▌     | 9/20 [02:59<03:18, 18.04s/it]"
     ]
    },
    {
     "name": "stdout",
     "output_type": "stream",
     "text": [
      "[I 2025-10-13 23:43:38,109] Trial 8 finished with value: 0.5692657051839434 and parameters: {'lr': 0.0021431439526288553, 'dropout': 0.3184081762614362, 'n1': 64, 'n2': 32}. Best is trial 5 with value: 0.5764774117994942.\n",
      "\u001b[1m260/260\u001b[0m \u001b[32m━━━━━━━━━━━━━━━━━━━━\u001b[0m\u001b[37m\u001b[0m \u001b[1m0s\u001b[0m 935us/step\n"
     ]
    },
    {
     "name": "stderr",
     "output_type": "stream",
     "text": [
      "Best trial: 5. Best value: 0.576477:  50%|█████     | 10/20 [03:33<03:49, 22.92s/it]"
     ]
    },
    {
     "name": "stdout",
     "output_type": "stream",
     "text": [
      "[I 2025-10-13 23:44:11,966] Trial 9 finished with value: 0.5736087907736217 and parameters: {'lr': 0.00029663876672148865, 'dropout': 0.4667656410953599, 'n1': 128, 'n2': 32}. Best is trial 5 with value: 0.5764774117994942.\n",
      "\u001b[1m260/260\u001b[0m \u001b[32m━━━━━━━━━━━━━━━━━━━━\u001b[0m\u001b[37m\u001b[0m \u001b[1m0s\u001b[0m 905us/step\n"
     ]
    },
    {
     "name": "stderr",
     "output_type": "stream",
     "text": [
      "Best trial: 5. Best value: 0.576477:  55%|█████▌    | 11/20 [03:56<03:24, 22.77s/it]"
     ]
    },
    {
     "name": "stdout",
     "output_type": "stream",
     "text": [
      "[I 2025-10-13 23:44:34,399] Trial 10 finished with value: 0.572527985712583 and parameters: {'lr': 0.0006614963184656745, 'dropout': 0.38581824853240804, 'n1': 96, 'n2': 16}. Best is trial 5 with value: 0.5764774117994942.\n",
      "\u001b[1m260/260\u001b[0m \u001b[32m━━━━━━━━━━━━━━━━━━━━\u001b[0m\u001b[37m\u001b[0m \u001b[1m0s\u001b[0m 872us/step\n"
     ]
    },
    {
     "name": "stderr",
     "output_type": "stream",
     "text": [
      "Best trial: 5. Best value: 0.576477:  60%|██████    | 12/20 [04:48<04:13, 31.72s/it]"
     ]
    },
    {
     "name": "stdout",
     "output_type": "stream",
     "text": [
      "[I 2025-10-13 23:45:26,595] Trial 11 finished with value: 0.5703116644749654 and parameters: {'lr': 0.00014817269767310689, 'dropout': 0.5822237924678051, 'n1': 128, 'n2': 16}. Best is trial 5 with value: 0.5764774117994942.\n",
      "\u001b[1m260/260\u001b[0m \u001b[32m━━━━━━━━━━━━━━━━━━━━\u001b[0m\u001b[37m\u001b[0m \u001b[1m0s\u001b[0m 947us/step\n"
     ]
    },
    {
     "name": "stderr",
     "output_type": "stream",
     "text": [
      "Best trial: 5. Best value: 0.576477:  65%|██████▌   | 13/20 [05:11<03:24, 29.15s/it]"
     ]
    },
    {
     "name": "stdout",
     "output_type": "stream",
     "text": [
      "[I 2025-10-13 23:45:49,830] Trial 12 finished with value: 0.5685230669227668 and parameters: {'lr': 0.00035172030255934154, 'dropout': 0.3983269201045669, 'n1': 96, 'n2': 16}. Best is trial 5 with value: 0.5764774117994942.\n",
      "\u001b[1m260/260\u001b[0m \u001b[32m━━━━━━━━━━━━━━━━━━━━\u001b[0m\u001b[37m\u001b[0m \u001b[1m0s\u001b[0m 967us/step\n"
     ]
    },
    {
     "name": "stderr",
     "output_type": "stream",
     "text": [
      "Best trial: 5. Best value: 0.576477:  65%|██████▌   | 13/20 [05:39<03:24, 29.15s/it]"
     ]
    },
    {
     "name": "stdout",
     "output_type": "stream",
     "text": [
      "[I 2025-10-13 23:46:17,267] Trial 13 finished with value: 0.5630410131456481 and parameters: {'lr': 0.0030025158902671897, 'dropout': 0.44082865169035734, 'n1': 128, 'n2': 32}. Best is trial 5 with value: 0.5764774117994942.\n"
     ]
    },
    {
     "name": "stderr",
     "output_type": "stream",
     "text": [
      "Best trial: 5. Best value: 0.576477:  70%|███████   | 14/20 [05:39<02:51, 28.63s/it]"
     ]
    },
    {
     "name": "stdout",
     "output_type": "stream",
     "text": [
      "\u001b[1m260/260\u001b[0m \u001b[32m━━━━━━━━━━━━━━━━━━━━\u001b[0m\u001b[37m\u001b[0m \u001b[1m0s\u001b[0m 899us/step\n"
     ]
    },
    {
     "name": "stderr",
     "output_type": "stream",
     "text": [
      "Best trial: 5. Best value: 0.576477:  75%|███████▌  | 15/20 [06:01<02:13, 26.75s/it]"
     ]
    },
    {
     "name": "stdout",
     "output_type": "stream",
     "text": [
      "[I 2025-10-13 23:46:39,649] Trial 14 finished with value: 0.564626300284563 and parameters: {'lr': 0.00047441761391542884, 'dropout': 0.35931975009055095, 'n1': 96, 'n2': 64}. Best is trial 5 with value: 0.5764774117994942.\n",
      "\u001b[1m260/260\u001b[0m \u001b[32m━━━━━━━━━━━━━━━━━━━━\u001b[0m\u001b[37m\u001b[0m \u001b[1m0s\u001b[0m 926us/step\n"
     ]
    },
    {
     "name": "stderr",
     "output_type": "stream",
     "text": [
      "Best trial: 5. Best value: 0.576477:  80%|████████  | 16/20 [06:47<02:10, 32.57s/it]"
     ]
    },
    {
     "name": "stdout",
     "output_type": "stream",
     "text": [
      "[I 2025-10-13 23:47:25,723] Trial 15 finished with value: 0.5655917235108644 and parameters: {'lr': 0.00011053746949487844, 'dropout': 0.5499250472606534, 'n1': 32, 'n2': 32}. Best is trial 5 with value: 0.5764774117994942.\n",
      "\u001b[1m260/260\u001b[0m \u001b[32m━━━━━━━━━━━━━━━━━━━━\u001b[0m\u001b[37m\u001b[0m \u001b[1m0s\u001b[0m 1ms/step  \n"
     ]
    },
    {
     "name": "stderr",
     "output_type": "stream",
     "text": [
      "Best trial: 5. Best value: 0.576477:  85%|████████▌ | 17/20 [07:07<01:26, 28.77s/it]"
     ]
    },
    {
     "name": "stdout",
     "output_type": "stream",
     "text": [
      "[I 2025-10-13 23:47:45,660] Trial 16 finished with value: 0.5704462603324222 and parameters: {'lr': 0.0018490494550838742, 'dropout': 0.4619725316399385, 'n1': 128, 'n2': 16}. Best is trial 5 with value: 0.5764774117994942.\n",
      "\u001b[1m260/260\u001b[0m \u001b[32m━━━━━━━━━━━━━━━━━━━━\u001b[0m\u001b[37m\u001b[0m \u001b[1m0s\u001b[0m 1ms/step  \n"
     ]
    },
    {
     "name": "stderr",
     "output_type": "stream",
     "text": [
      "Best trial: 5. Best value: 0.576477:  90%|█████████ | 18/20 [07:22<00:49, 24.62s/it]"
     ]
    },
    {
     "name": "stdout",
     "output_type": "stream",
     "text": [
      "[I 2025-10-13 23:48:00,623] Trial 17 finished with value: 0.5606888259711061 and parameters: {'lr': 0.00030471413154154435, 'dropout': 0.3525980727039265, 'n1': 96, 'n2': 32}. Best is trial 5 with value: 0.5764774117994942.\n",
      "\u001b[1m260/260\u001b[0m \u001b[32m━━━━━━━━━━━━━━━━━━━━\u001b[0m\u001b[37m\u001b[0m \u001b[1m0s\u001b[0m 927us/step\n"
     ]
    },
    {
     "name": "stderr",
     "output_type": "stream",
     "text": [
      "Best trial: 5. Best value: 0.576477:  95%|█████████▌| 19/20 [07:39<00:22, 22.48s/it]"
     ]
    },
    {
     "name": "stdout",
     "output_type": "stream",
     "text": [
      "[I 2025-10-13 23:48:18,103] Trial 18 finished with value: 0.5591783432562363 and parameters: {'lr': 0.0034243272124928072, 'dropout': 0.4317559778346854, 'n1': 64, 'n2': 48}. Best is trial 5 with value: 0.5764774117994942.\n",
      "\u001b[1m260/260\u001b[0m \u001b[32m━━━━━━━━━━━━━━━━━━━━\u001b[0m\u001b[37m\u001b[0m \u001b[1m0s\u001b[0m 922us/step\n"
     ]
    },
    {
     "name": "stderr",
     "output_type": "stream",
     "text": [
      "Best trial: 19. Best value: 0.578879: 100%|██████████| 20/20 [08:10<00:00, 24.54s/it]"
     ]
    },
    {
     "name": "stdout",
     "output_type": "stream",
     "text": [
      "[I 2025-10-13 23:48:49,010] Trial 19 finished with value: 0.5788788064118823 and parameters: {'lr': 0.00145440974522045, 'dropout': 0.25391263171158607, 'n1': 32, 'n2': 16}. Best is trial 19 with value: 0.5788788064118823.\n",
      "✅ ANN best AUC=0.579 | params={'lr': 0.00145440974522045, 'dropout': 0.25391263171158607, 'n1': 32, 'n2': 16}\n",
      "\n",
      "🚀 Training LogReg ...\n"
     ]
    },
    {
     "name": "stderr",
     "output_type": "stream",
     "text": [
      "\n"
     ]
    },
    {
     "name": "stdout",
     "output_type": "stream",
     "text": [
      "✅ LogReg: acc=0.663, f1=0.005, auc=0.553, mcc=-0.000, brier=0.222\n",
      "\n",
      "🚀 Training RandomForest ...\n",
      "✅ RandomForest: acc=0.664, f1=0.000, auc=0.586, mcc=0.000, brier=0.219\n",
      "\n",
      "🚀 Training XGBoost ...\n",
      "✅ XGBoost: acc=0.663, f1=0.000, auc=0.589, mcc=-0.007, brier=0.219\n",
      "\n",
      "🚀 Training ANN ...\n",
      "\u001b[1m324/324\u001b[0m \u001b[32m━━━━━━━━━━━━━━━━━━━━\u001b[0m\u001b[37m\u001b[0m \u001b[1m0s\u001b[0m 845us/step\n",
      "\n",
      "==============================\n",
      "🧬 Multimodal (250+200)\n",
      "==============================\n"
     ]
    },
    {
     "name": "stderr",
     "output_type": "stream",
     "text": [
      "[I 2025-10-13 23:49:54,829] A new study created in memory with name: no-name-a954ffed-306a-46ac-b3e4-4e57ee8a3d6e\n"
     ]
    },
    {
     "name": "stdout",
     "output_type": "stream",
     "text": [
      "🎯 Running Optuna tuning for all models...\n"
     ]
    },
    {
     "name": "stderr",
     "output_type": "stream",
     "text": [
      "Best trial: 0. Best value: 0.866983:   5%|▌         | 1/20 [00:09<02:51,  9.00s/it]"
     ]
    },
    {
     "name": "stdout",
     "output_type": "stream",
     "text": [
      "[I 2025-10-13 23:50:03,834] Trial 0 finished with value: 0.8669830774739625 and parameters: {'C': 7.232826795647608}. Best is trial 0 with value: 0.8669830774739625.\n"
     ]
    },
    {
     "name": "stderr",
     "output_type": "stream",
     "text": [
      "Best trial: 1. Best value: 0.867281:  10%|█         | 2/20 [00:13<01:49,  6.11s/it]"
     ]
    },
    {
     "name": "stdout",
     "output_type": "stream",
     "text": [
      "[I 2025-10-13 23:50:07,909] Trial 1 finished with value: 0.8672805219616168 and parameters: {'C': 0.06138910438815036}. Best is trial 1 with value: 0.8672805219616168.\n"
     ]
    },
    {
     "name": "stderr",
     "output_type": "stream",
     "text": [
      "Best trial: 1. Best value: 0.867281:  15%|█▌        | 3/20 [00:17<01:31,  5.38s/it]"
     ]
    },
    {
     "name": "stdout",
     "output_type": "stream",
     "text": [
      "[I 2025-10-13 23:50:12,421] Trial 2 finished with value: 0.867108125022579 and parameters: {'C': 0.21069951322550715}. Best is trial 1 with value: 0.8672805219616168.\n"
     ]
    },
    {
     "name": "stderr",
     "output_type": "stream",
     "text": [
      "Best trial: 1. Best value: 0.867281:  20%|██        | 4/20 [00:22<01:21,  5.08s/it]"
     ]
    },
    {
     "name": "stdout",
     "output_type": "stream",
     "text": [
      "[I 2025-10-13 23:50:17,035] Trial 3 finished with value: 0.8671674943844818 and parameters: {'C': 0.15352731228860964}. Best is trial 1 with value: 0.8672805219616168.\n"
     ]
    },
    {
     "name": "stderr",
     "output_type": "stream",
     "text": [
      "Best trial: 1. Best value: 0.867281:  25%|██▌       | 5/20 [00:28<01:23,  5.59s/it]"
     ]
    },
    {
     "name": "stdout",
     "output_type": "stream",
     "text": [
      "[I 2025-10-13 23:50:23,523] Trial 4 finished with value: 0.8671198129506492 and parameters: {'C': 0.4310038677790695}. Best is trial 1 with value: 0.8672805219616168.\n"
     ]
    },
    {
     "name": "stderr",
     "output_type": "stream",
     "text": [
      "Best trial: 1. Best value: 0.867281:  30%|███       | 6/20 [00:36<01:28,  6.31s/it]"
     ]
    },
    {
     "name": "stdout",
     "output_type": "stream",
     "text": [
      "[I 2025-10-13 23:50:31,236] Trial 5 finished with value: 0.8669569124531684 and parameters: {'C': 12.075352151411932}. Best is trial 1 with value: 0.8672805219616168.\n"
     ]
    },
    {
     "name": "stderr",
     "output_type": "stream",
     "text": [
      "Best trial: 1. Best value: 0.867281:  35%|███▌      | 7/20 [00:38<01:04,  4.95s/it]"
     ]
    },
    {
     "name": "stdout",
     "output_type": "stream",
     "text": [
      "[I 2025-10-13 23:50:33,373] Trial 6 finished with value: 0.8672101951671479 and parameters: {'C': 0.003274375426105822}. Best is trial 1 with value: 0.8672805219616168.\n"
     ]
    },
    {
     "name": "stderr",
     "output_type": "stream",
     "text": [
      "Best trial: 1. Best value: 0.867281:  40%|████      | 8/20 [00:46<01:12,  6.05s/it]"
     ]
    },
    {
     "name": "stdout",
     "output_type": "stream",
     "text": [
      "[I 2025-10-13 23:50:41,766] Trial 7 finished with value: 0.8669814836655894 and parameters: {'C': 13.246279633758313}. Best is trial 1 with value: 0.8672805219616168.\n"
     ]
    },
    {
     "name": "stderr",
     "output_type": "stream",
     "text": [
      "Best trial: 1. Best value: 0.867281:  45%|████▌     | 9/20 [00:56<01:16,  6.99s/it]"
     ]
    },
    {
     "name": "stdout",
     "output_type": "stream",
     "text": [
      "[I 2025-10-13 23:50:50,833] Trial 8 finished with value: 0.8669682683378279 and parameters: {'C': 12.701532758422168}. Best is trial 1 with value: 0.8672805219616168.\n"
     ]
    },
    {
     "name": "stderr",
     "output_type": "stream",
     "text": [
      "Best trial: 1. Best value: 0.867281:  50%|█████     | 10/20 [01:00<01:03,  6.34s/it]"
     ]
    },
    {
     "name": "stdout",
     "output_type": "stream",
     "text": [
      "[I 2025-10-13 23:50:55,714] Trial 9 finished with value: 0.867060310771382 and parameters: {'C': 0.22208620561540546}. Best is trial 1 with value: 0.8672805219616168.\n"
     ]
    },
    {
     "name": "stderr",
     "output_type": "stream",
     "text": [
      "Best trial: 1. Best value: 0.867281:  55%|█████▌    | 11/20 [01:02<00:44,  4.98s/it]"
     ]
    },
    {
     "name": "stdout",
     "output_type": "stream",
     "text": [
      "[I 2025-10-13 23:50:57,602] Trial 10 finished with value: 0.8664591129712625 and parameters: {'C': 0.002080636501356923}. Best is trial 1 with value: 0.8672805219616168.\n"
     ]
    },
    {
     "name": "stderr",
     "output_type": "stream",
     "text": [
      "Best trial: 1. Best value: 0.867281:  60%|██████    | 12/20 [01:05<00:33,  4.19s/it]"
     ]
    },
    {
     "name": "stdout",
     "output_type": "stream",
     "text": [
      "[I 2025-10-13 23:51:00,019] Trial 11 finished with value: 0.8671500953097407 and parameters: {'C': 0.0030642456459022216}. Best is trial 1 with value: 0.8672805219616168.\n"
     ]
    },
    {
     "name": "stderr",
     "output_type": "stream",
     "text": [
      "Best trial: 12. Best value: 0.867559:  65%|██████▌   | 13/20 [01:08<00:27,  4.00s/it]"
     ]
    },
    {
     "name": "stdout",
     "output_type": "stream",
     "text": [
      "[I 2025-10-13 23:51:03,563] Trial 12 finished with value: 0.8675594384269324 and parameters: {'C': 0.014288467685260047}. Best is trial 12 with value: 0.8675594384269324.\n"
     ]
    },
    {
     "name": "stderr",
     "output_type": "stream",
     "text": [
      "Best trial: 12. Best value: 0.867559:  70%|███████   | 14/20 [01:12<00:24,  4.00s/it]"
     ]
    },
    {
     "name": "stdout",
     "output_type": "stream",
     "text": [
      "[I 2025-10-13 23:51:07,575] Trial 13 finished with value: 0.8674162613080704 and parameters: {'C': 0.024127973797770947}. Best is trial 12 with value: 0.8675594384269324.\n"
     ]
    },
    {
     "name": "stderr",
     "output_type": "stream",
     "text": [
      "Best trial: 12. Best value: 0.867559:  75%|███████▌  | 15/20 [01:16<00:19,  3.93s/it]"
     ]
    },
    {
     "name": "stdout",
     "output_type": "stream",
     "text": [
      "[I 2025-10-13 23:51:11,323] Trial 14 finished with value: 0.8675080381068955 and parameters: {'C': 0.018114577731089026}. Best is trial 12 with value: 0.8675594384269324.\n"
     ]
    },
    {
     "name": "stderr",
     "output_type": "stream",
     "text": [
      "Best trial: 12. Best value: 0.867559:  80%|████████  | 16/20 [01:20<00:15,  3.99s/it]"
     ]
    },
    {
     "name": "stdout",
     "output_type": "stream",
     "text": [
      "[I 2025-10-13 23:51:15,441] Trial 15 finished with value: 0.8674946899617697 and parameters: {'C': 0.020068680120889207}. Best is trial 12 with value: 0.8675594384269324.\n"
     ]
    },
    {
     "name": "stderr",
     "output_type": "stream",
     "text": [
      "Best trial: 12. Best value: 0.867559:  85%|████████▌ | 17/20 [01:28<00:15,  5.02s/it]"
     ]
    },
    {
     "name": "stdout",
     "output_type": "stream",
     "text": [
      "[I 2025-10-13 23:51:22,880] Trial 16 finished with value: 0.8669998788705636 and parameters: {'C': 1.6081179788000997}. Best is trial 12 with value: 0.8675594384269324.\n"
     ]
    },
    {
     "name": "stderr",
     "output_type": "stream",
     "text": [
      "Best trial: 12. Best value: 0.867559:  90%|█████████ | 18/20 [01:31<00:09,  4.54s/it]"
     ]
    },
    {
     "name": "stdout",
     "output_type": "stream",
     "text": [
      "[I 2025-10-13 23:51:26,314] Trial 17 finished with value: 0.8675578446185591 and parameters: {'C': 0.014610274186613866}. Best is trial 12 with value: 0.8675594384269324.\n"
     ]
    },
    {
     "name": "stderr",
     "output_type": "stream",
     "text": [
      "Best trial: 12. Best value: 0.867559:  95%|█████████▌| 19/20 [01:38<00:05,  5.21s/it]"
     ]
    },
    {
     "name": "stdout",
     "output_type": "stream",
     "text": [
      "[I 2025-10-13 23:51:33,070] Trial 18 finished with value: 0.8669959607583126 and parameters: {'C': 79.66855847290684}. Best is trial 12 with value: 0.8675594384269324.\n"
     ]
    },
    {
     "name": "stderr",
     "output_type": "stream",
     "text": [
      "Best trial: 19. Best value: 0.867615: 100%|██████████| 20/20 [01:41<00:00,  5.06s/it]\n",
      "[I 2025-10-13 23:51:35,984] A new study created in memory with name: no-name-9a5ac742-1a58-45bf-86ef-598c88273abe\n"
     ]
    },
    {
     "name": "stdout",
     "output_type": "stream",
     "text": [
      "[I 2025-10-13 23:51:35,967] Trial 19 finished with value: 0.8676148232679022 and parameters: {'C': 0.00770943859741174}. Best is trial 19 with value: 0.8676148232679022.\n",
      "✅ LogReg best AUC=0.868 | params={'C': 0.00770943859741174}\n"
     ]
    },
    {
     "name": "stderr",
     "output_type": "stream",
     "text": [
      "Best trial: 0. Best value: 0.850971:   5%|▌         | 1/20 [00:03<01:12,  3.80s/it]"
     ]
    },
    {
     "name": "stdout",
     "output_type": "stream",
     "text": [
      "[I 2025-10-13 23:51:39,783] Trial 0 finished with value: 0.8509708152436082 and parameters: {'n_estimators': 200, 'max_depth': 8, 'min_samples_split': 2, 'min_samples_leaf': 4, 'max_features': 'sqrt'}. Best is trial 0 with value: 0.8509708152436082.\n"
     ]
    },
    {
     "name": "stderr",
     "output_type": "stream",
     "text": [
      "Best trial: 1. Best value: 0.85294:  10%|█         | 2/20 [00:18<03:01, 10.09s/it] "
     ]
    },
    {
     "name": "stdout",
     "output_type": "stream",
     "text": [
      "[I 2025-10-13 23:51:54,275] Trial 1 finished with value: 0.8529400318974183 and parameters: {'n_estimators': 800, 'max_depth': 8, 'min_samples_split': 3, 'min_samples_leaf': 1, 'max_features': 'sqrt'}. Best is trial 1 with value: 0.8529400318974183.\n"
     ]
    },
    {
     "name": "stderr",
     "output_type": "stream",
     "text": [
      "Best trial: 2. Best value: 0.865437:  15%|█▌        | 3/20 [00:23<02:15,  7.96s/it]"
     ]
    },
    {
     "name": "stdout",
     "output_type": "stream",
     "text": [
      "[I 2025-10-13 23:51:59,708] Trial 2 finished with value: 0.8654366848998345 and parameters: {'n_estimators': 200, 'max_depth': 13, 'min_samples_split': 5, 'min_samples_leaf': 3, 'max_features': 'sqrt'}. Best is trial 2 with value: 0.8654366848998345.\n"
     ]
    },
    {
     "name": "stderr",
     "output_type": "stream",
     "text": [
      "Best trial: 2. Best value: 0.865437:  20%|██        | 4/20 [00:27<01:39,  6.20s/it]"
     ]
    },
    {
     "name": "stdout",
     "output_type": "stream",
     "text": [
      "[I 2025-10-13 23:52:03,201] Trial 3 finished with value: 0.8464434033333971 and parameters: {'n_estimators': 200, 'max_depth': 7, 'min_samples_split': 5, 'min_samples_leaf': 1, 'max_features': 'sqrt'}. Best is trial 2 with value: 0.8654366848998345.\n"
     ]
    },
    {
     "name": "stderr",
     "output_type": "stream",
     "text": [
      "Best trial: 2. Best value: 0.865437:  25%|██▌       | 5/20 [00:31<01:21,  5.45s/it]"
     ]
    },
    {
     "name": "stdout",
     "output_type": "stream",
     "text": [
      "[I 2025-10-13 23:52:07,338] Trial 4 finished with value: 0.8244992519726035 and parameters: {'n_estimators': 600, 'max_depth': 6, 'min_samples_split': 3, 'min_samples_leaf': 2, 'max_features': 'log2'}. Best is trial 2 with value: 0.8654366848998345.\n"
     ]
    },
    {
     "name": "stderr",
     "output_type": "stream",
     "text": [
      "Best trial: 2. Best value: 0.865437:  30%|███       | 6/20 [00:35<01:09,  4.99s/it]"
     ]
    },
    {
     "name": "stdout",
     "output_type": "stream",
     "text": [
      "[I 2025-10-13 23:52:11,435] Trial 5 finished with value: 0.8552839927449842 and parameters: {'n_estimators': 200, 'max_depth': 9, 'min_samples_split': 2, 'min_samples_leaf': 1, 'max_features': 'sqrt'}. Best is trial 2 with value: 0.8654366848998345.\n"
     ]
    },
    {
     "name": "stderr",
     "output_type": "stream",
     "text": [
      "Best trial: 2. Best value: 0.865437:  35%|███▌      | 7/20 [00:40<01:03,  4.89s/it]"
     ]
    },
    {
     "name": "stdout",
     "output_type": "stream",
     "text": [
      "[I 2025-10-13 23:52:16,096] Trial 6 finished with value: 0.8435298552184474 and parameters: {'n_estimators': 400, 'max_depth': 13, 'min_samples_split': 6, 'min_samples_leaf': 1, 'max_features': 'log2'}. Best is trial 2 with value: 0.8654366848998345.\n"
     ]
    },
    {
     "name": "stderr",
     "output_type": "stream",
     "text": [
      "Best trial: 7. Best value: 0.867255:  40%|████      | 8/20 [00:55<01:39,  8.29s/it]"
     ]
    },
    {
     "name": "stdout",
     "output_type": "stream",
     "text": [
      "[I 2025-10-13 23:52:31,684] Trial 7 finished with value: 0.8672554858884206 and parameters: {'n_estimators': 600, 'max_depth': 13, 'min_samples_split': 5, 'min_samples_leaf': 2, 'max_features': 'sqrt'}. Best is trial 7 with value: 0.8672554858884206.\n"
     ]
    },
    {
     "name": "stderr",
     "output_type": "stream",
     "text": [
      "Best trial: 7. Best value: 0.867255:  45%|████▌     | 9/20 [00:59<01:14,  6.77s/it]"
     ]
    },
    {
     "name": "stdout",
     "output_type": "stream",
     "text": [
      "[I 2025-10-13 23:52:35,105] Trial 8 finished with value: 0.8464837134035035 and parameters: {'n_estimators': 200, 'max_depth': 7, 'min_samples_split': 6, 'min_samples_leaf': 4, 'max_features': 'sqrt'}. Best is trial 7 with value: 0.8672554858884206.\n"
     ]
    },
    {
     "name": "stderr",
     "output_type": "stream",
     "text": [
      "Best trial: 7. Best value: 0.867255:  50%|█████     | 10/20 [01:16<01:39,  9.99s/it]"
     ]
    },
    {
     "name": "stdout",
     "output_type": "stream",
     "text": [
      "[I 2025-10-13 23:52:52,322] Trial 9 finished with value: 0.8603108643541572 and parameters: {'n_estimators': 800, 'max_depth': 10, 'min_samples_split': 2, 'min_samples_leaf': 1, 'max_features': 'sqrt'}. Best is trial 7 with value: 0.8672554858884206.\n"
     ]
    },
    {
     "name": "stderr",
     "output_type": "stream",
     "text": [
      "Best trial: 7. Best value: 0.867255:  55%|█████▌    | 11/20 [01:24<01:24,  9.39s/it]"
     ]
    },
    {
     "name": "stdout",
     "output_type": "stream",
     "text": [
      "[I 2025-10-13 23:53:00,345] Trial 10 finished with value: 0.8466345275208204 and parameters: {'n_estimators': 600, 'max_depth': 16, 'min_samples_split': 4, 'min_samples_leaf': 3, 'max_features': 'log2'}. Best is trial 7 with value: 0.8672554858884206.\n"
     ]
    },
    {
     "name": "stderr",
     "output_type": "stream",
     "text": [
      "Best trial: 7. Best value: 0.867255:  60%|██████    | 12/20 [01:35<01:18,  9.83s/it]"
     ]
    },
    {
     "name": "stdout",
     "output_type": "stream",
     "text": [
      "[I 2025-10-13 23:53:11,193] Trial 11 finished with value: 0.8659177493938217 and parameters: {'n_estimators': 400, 'max_depth': 13, 'min_samples_split': 5, 'min_samples_leaf': 3, 'max_features': 'sqrt'}. Best is trial 7 with value: 0.8672554858884206.\n"
     ]
    },
    {
     "name": "stderr",
     "output_type": "stream",
     "text": [
      "Best trial: 12. Best value: 0.867642:  65%|██████▌   | 13/20 [01:45<01:09,  9.98s/it]"
     ]
    },
    {
     "name": "stdout",
     "output_type": "stream",
     "text": [
      "[I 2025-10-13 23:53:21,506] Trial 12 finished with value: 0.8676424492797048 and parameters: {'n_estimators': 400, 'max_depth': 13, 'min_samples_split': 5, 'min_samples_leaf': 2, 'max_features': 'sqrt'}. Best is trial 12 with value: 0.8676424492797048.\n"
     ]
    },
    {
     "name": "stderr",
     "output_type": "stream",
     "text": [
      "Best trial: 13. Best value: 0.869185:  70%|███████   | 14/20 [02:02<01:11, 11.99s/it]"
     ]
    },
    {
     "name": "stdout",
     "output_type": "stream",
     "text": [
      "[I 2025-10-13 23:53:38,154] Trial 13 finished with value: 0.869185189376311 and parameters: {'n_estimators': 600, 'max_depth': 15, 'min_samples_split': 4, 'min_samples_leaf': 2, 'max_features': 'sqrt'}. Best is trial 13 with value: 0.869185189376311.\n"
     ]
    },
    {
     "name": "stderr",
     "output_type": "stream",
     "text": [
      "Best trial: 13. Best value: 0.869185:  75%|███████▌  | 15/20 [02:07<00:49,  9.95s/it]"
     ]
    },
    {
     "name": "stdout",
     "output_type": "stream",
     "text": [
      "[I 2025-10-13 23:53:43,362] Trial 14 finished with value: 0.8468288393249901 and parameters: {'n_estimators': 400, 'max_depth': 16, 'min_samples_split': 4, 'min_samples_leaf': 2, 'max_features': 'log2'}. Best is trial 13 with value: 0.869185189376311.\n"
     ]
    },
    {
     "name": "stderr",
     "output_type": "stream",
     "text": [
      "Best trial: 13. Best value: 0.869185:  80%|████████  | 16/20 [02:23<00:47, 11.91s/it]"
     ]
    },
    {
     "name": "stdout",
     "output_type": "stream",
     "text": [
      "[I 2025-10-13 23:53:59,831] Trial 15 finished with value: 0.869185189376311 and parameters: {'n_estimators': 600, 'max_depth': 15, 'min_samples_split': 4, 'min_samples_leaf': 2, 'max_features': 'sqrt'}. Best is trial 13 with value: 0.869185189376311.\n"
     ]
    },
    {
     "name": "stderr",
     "output_type": "stream",
     "text": [
      "Best trial: 13. Best value: 0.869185:  85%|████████▌ | 17/20 [02:40<00:40, 13.38s/it]"
     ]
    },
    {
     "name": "stdout",
     "output_type": "stream",
     "text": [
      "[I 2025-10-13 23:54:16,624] Trial 16 finished with value: 0.869185189376311 and parameters: {'n_estimators': 600, 'max_depth': 15, 'min_samples_split': 3, 'min_samples_leaf': 2, 'max_features': 'sqrt'}. Best is trial 13 with value: 0.869185189376311.\n"
     ]
    },
    {
     "name": "stderr",
     "output_type": "stream",
     "text": [
      "Best trial: 17. Best value: 0.869319:  90%|█████████ | 18/20 [03:02<00:31, 15.87s/it]"
     ]
    },
    {
     "name": "stdout",
     "output_type": "stream",
     "text": [
      "[I 2025-10-13 23:54:38,292] Trial 17 finished with value: 0.8693188036449334 and parameters: {'n_estimators': 800, 'max_depth': 15, 'min_samples_split': 4, 'min_samples_leaf': 3, 'max_features': 'sqrt'}. Best is trial 17 with value: 0.8693188036449334.\n"
     ]
    },
    {
     "name": "stderr",
     "output_type": "stream",
     "text": [
      "Best trial: 17. Best value: 0.869319:  95%|█████████▌| 19/20 [03:10<00:13, 13.52s/it]"
     ]
    },
    {
     "name": "stdout",
     "output_type": "stream",
     "text": [
      "[I 2025-10-13 23:54:46,344] Trial 18 finished with value: 0.8403537935826899 and parameters: {'n_estimators': 800, 'max_depth': 11, 'min_samples_split': 3, 'min_samples_leaf': 3, 'max_features': 'log2'}. Best is trial 17 with value: 0.8693188036449334.\n"
     ]
    },
    {
     "name": "stderr",
     "output_type": "stream",
     "text": [
      "Best trial: 19. Best value: 0.869652: 100%|██████████| 20/20 [03:31<00:00, 10.60s/it]\n",
      "[I 2025-10-13 23:55:07,921] A new study created in memory with name: no-name-f1c167ae-289e-41ba-8d05-dff7da2ae922\n"
     ]
    },
    {
     "name": "stdout",
     "output_type": "stream",
     "text": [
      "[I 2025-10-13 23:55:07,912] Trial 19 finished with value: 0.86965164396021 and parameters: {'n_estimators': 800, 'max_depth': 15, 'min_samples_split': 4, 'min_samples_leaf': 4, 'max_features': 'sqrt'}. Best is trial 19 with value: 0.86965164396021.\n",
      "✅ RandomForest best AUC=0.870 | params={'n_estimators': 800, 'max_depth': 15, 'min_samples_split': 4, 'min_samples_leaf': 4, 'max_features': 'sqrt'}\n"
     ]
    },
    {
     "name": "stderr",
     "output_type": "stream",
     "text": [
      "Best trial: 0. Best value: 0.908497:   5%|▌         | 1/20 [00:18<05:43, 18.06s/it]"
     ]
    },
    {
     "name": "stdout",
     "output_type": "stream",
     "text": [
      "[I 2025-10-13 23:55:25,981] Trial 0 finished with value: 0.9084966057194344 and parameters: {'learning_rate': 0.10893096178298231, 'max_depth': 4, 'subsample': 0.8022377686239799, 'colsample_bytree': 0.7416935576056869, 'n_estimators': 600}. Best is trial 0 with value: 0.9084966057194344.\n"
     ]
    },
    {
     "name": "stderr",
     "output_type": "stream",
     "text": [
      "Best trial: 0. Best value: 0.908497:  10%|█         | 2/20 [00:38<05:54, 19.72s/it]"
     ]
    },
    {
     "name": "stdout",
     "output_type": "stream",
     "text": [
      "[I 2025-10-13 23:55:46,856] Trial 1 finished with value: 0.9013483087568083 and parameters: {'learning_rate': 0.018405970251211497, 'max_depth': 6, 'subsample': 0.8501847286742398, 'colsample_bytree': 0.7751360517333733, 'n_estimators': 400}. Best is trial 0 with value: 0.9084966057194344.\n"
     ]
    },
    {
     "name": "stderr",
     "output_type": "stream",
     "text": [
      "Best trial: 2. Best value: 0.911395:  15%|█▌        | 3/20 [01:31<09:49, 34.66s/it]"
     ]
    },
    {
     "name": "stdout",
     "output_type": "stream",
     "text": [
      "[I 2025-10-13 23:56:39,309] Trial 2 finished with value: 0.9113950790635206 and parameters: {'learning_rate': 0.03694002866407103, 'max_depth': 9, 'subsample': 0.8583432095647007, 'colsample_bytree': 0.9085850005824747, 'n_estimators': 600}. Best is trial 2 with value: 0.9113950790635206.\n"
     ]
    },
    {
     "name": "stderr",
     "output_type": "stream",
     "text": [
      "Best trial: 2. Best value: 0.911395:  20%|██        | 4/20 [01:44<06:59, 26.19s/it]"
     ]
    },
    {
     "name": "stdout",
     "output_type": "stream",
     "text": [
      "[I 2025-10-13 23:56:52,508] Trial 3 finished with value: 0.8964392461498905 and parameters: {'learning_rate': 0.022402280727298836, 'max_depth': 7, 'subsample': 0.6730287791163692, 'colsample_bytree': 0.846183016221129, 'n_estimators': 200}. Best is trial 2 with value: 0.9113950790635206.\n"
     ]
    },
    {
     "name": "stderr",
     "output_type": "stream",
     "text": [
      "Best trial: 2. Best value: 0.911395:  25%|██▌       | 5/20 [02:38<09:02, 36.17s/it]"
     ]
    },
    {
     "name": "stdout",
     "output_type": "stream",
     "text": [
      "[I 2025-10-13 23:57:46,360] Trial 4 finished with value: 0.9081071520025671 and parameters: {'learning_rate': 0.11267204854534979, 'max_depth': 7, 'subsample': 0.9639582603281891, 'colsample_bytree': 0.762322850644783, 'n_estimators': 1000}. Best is trial 2 with value: 0.9113950790635206.\n"
     ]
    },
    {
     "name": "stderr",
     "output_type": "stream",
     "text": [
      "Best trial: 2. Best value: 0.911395:  30%|███       | 6/20 [03:52<11:24, 48.92s/it]"
     ]
    },
    {
     "name": "stdout",
     "output_type": "stream",
     "text": [
      "[I 2025-10-13 23:59:00,050] Trial 5 finished with value: 0.909427456218084 and parameters: {'learning_rate': 0.027029492958430146, 'max_depth': 11, 'subsample': 0.9098856414881211, 'colsample_bytree': 0.8615845078571638, 'n_estimators': 600}. Best is trial 2 with value: 0.9113950790635206.\n"
     ]
    },
    {
     "name": "stderr",
     "output_type": "stream",
     "text": [
      "Best trial: 2. Best value: 0.911395:  35%|███▌      | 7/20 [04:33<10:02, 46.37s/it]"
     ]
    },
    {
     "name": "stdout",
     "output_type": "stream",
     "text": [
      "[I 2025-10-13 23:59:41,161] Trial 6 finished with value: 0.9002643862456463 and parameters: {'learning_rate': 0.21980090810569203, 'max_depth': 11, 'subsample': 0.7461824730479611, 'colsample_bytree': 0.9337502854362892, 'n_estimators': 400}. Best is trial 2 with value: 0.9113950790635206.\n"
     ]
    },
    {
     "name": "stderr",
     "output_type": "stream",
     "text": [
      "Best trial: 2. Best value: 0.911395:  40%|████      | 8/20 [05:58<11:46, 58.85s/it]"
     ]
    },
    {
     "name": "stdout",
     "output_type": "stream",
     "text": [
      "[I 2025-10-14 00:01:06,737] Trial 7 finished with value: 0.907627316069201 and parameters: {'learning_rate': 0.07532901826333772, 'max_depth': 9, 'subsample': 0.6904084759651069, 'colsample_bytree': 0.9774737476668582, 'n_estimators': 1000}. Best is trial 2 with value: 0.9113950790635206.\n"
     ]
    },
    {
     "name": "stderr",
     "output_type": "stream",
     "text": [
      "Best trial: 2. Best value: 0.911395:  45%|████▌     | 9/20 [06:54<10:35, 57.81s/it]"
     ]
    },
    {
     "name": "stdout",
     "output_type": "stream",
     "text": [
      "[I 2025-10-14 00:02:02,255] Trial 8 finished with value: 0.9106236426065355 and parameters: {'learning_rate': 0.017946187308356978, 'max_depth': 7, 'subsample': 0.8616496947861436, 'colsample_bytree': 0.6483361807281866, 'n_estimators': 1000}. Best is trial 2 with value: 0.9113950790635206.\n"
     ]
    },
    {
     "name": "stderr",
     "output_type": "stream",
     "text": [
      "Best trial: 2. Best value: 0.911395:  50%|█████     | 10/20 [07:51<09:35, 57.51s/it]"
     ]
    },
    {
     "name": "stdout",
     "output_type": "stream",
     "text": [
      "[I 2025-10-14 00:02:59,087] Trial 9 finished with value: 0.9078519766411445 and parameters: {'learning_rate': 0.1434546446425902, 'max_depth': 7, 'subsample': 0.9822519091331429, 'colsample_bytree': 0.7571779796995683, 'n_estimators': 1000}. Best is trial 2 with value: 0.9113950790635206.\n"
     ]
    },
    {
     "name": "stderr",
     "output_type": "stream",
     "text": [
      "Best trial: 2. Best value: 0.911395:  55%|█████▌    | 11/20 [08:57<09:01, 60.17s/it]"
     ]
    },
    {
     "name": "stdout",
     "output_type": "stream",
     "text": [
      "[I 2025-10-14 00:04:05,293] Trial 10 finished with value: 0.9092629287078888 and parameters: {'learning_rate': 0.041725647597997156, 'max_depth': 9, 'subsample': 0.6130376965261284, 'colsample_bytree': 0.9100606179843511, 'n_estimators': 800}. Best is trial 2 with value: 0.9113950790635206.\n"
     ]
    },
    {
     "name": "stderr",
     "output_type": "stream",
     "text": [
      "Best trial: 2. Best value: 0.911395:  60%|██████    | 12/20 [10:06<08:22, 62.82s/it]"
     ]
    },
    {
     "name": "stdout",
     "output_type": "stream",
     "text": [
      "[I 2025-10-14 00:05:14,186] Trial 11 finished with value: 0.9066500459016813 and parameters: {'learning_rate': 0.010004658426355425, 'max_depth': 9, 'subsample': 0.8729754488983242, 'colsample_bytree': 0.6063055246542349, 'n_estimators': 800}. Best is trial 2 with value: 0.9113950790635206.\n"
     ]
    },
    {
     "name": "stderr",
     "output_type": "stream",
     "text": [
      "Best trial: 2. Best value: 0.911395:  65%|██████▌   | 13/20 [10:35<06:08, 52.62s/it]"
     ]
    },
    {
     "name": "stdout",
     "output_type": "stream",
     "text": [
      "[I 2025-10-14 00:05:43,335] Trial 12 finished with value: 0.9112604022559826 and parameters: {'learning_rate': 0.04383768229627388, 'max_depth': 5, 'subsample': 0.8020705722353306, 'colsample_bytree': 0.6496079665862091, 'n_estimators': 800}. Best is trial 2 with value: 0.9113950790635206.\n"
     ]
    },
    {
     "name": "stderr",
     "output_type": "stream",
     "text": [
      "Best trial: 2. Best value: 0.911395:  70%|███████   | 14/20 [10:58<04:22, 43.73s/it]"
     ]
    },
    {
     "name": "stdout",
     "output_type": "stream",
     "text": [
      "[I 2025-10-14 00:06:06,522] Trial 13 finished with value: 0.9095750163099724 and parameters: {'learning_rate': 0.04828127841742783, 'max_depth': 4, 'subsample': 0.7831724055348077, 'colsample_bytree': 0.6813003848350861, 'n_estimators': 800}. Best is trial 2 with value: 0.9113950790635206.\n"
     ]
    },
    {
     "name": "stderr",
     "output_type": "stream",
     "text": [
      "Best trial: 2. Best value: 0.911395:  75%|███████▌  | 15/20 [11:14<02:56, 35.33s/it]"
     ]
    },
    {
     "name": "stdout",
     "output_type": "stream",
     "text": [
      "[I 2025-10-14 00:06:22,380] Trial 14 finished with value: 0.9074392466811596 and parameters: {'learning_rate': 0.04079434242207723, 'max_depth': 5, 'subsample': 0.801164947580035, 'colsample_bytree': 0.8377222315662994, 'n_estimators': 400}. Best is trial 2 with value: 0.9113950790635206.\n"
     ]
    },
    {
     "name": "stderr",
     "output_type": "stream",
     "text": [
      "Best trial: 2. Best value: 0.911395:  80%|████████  | 16/20 [12:30<03:10, 47.70s/it]"
     ]
    },
    {
     "name": "stdout",
     "output_type": "stream",
     "text": [
      "[I 2025-10-14 00:07:38,817] Trial 15 finished with value: 0.9096078886076703 and parameters: {'learning_rate': 0.06832117442072518, 'max_depth': 12, 'subsample': 0.9351924861281137, 'colsample_bytree': 0.9947530704540836, 'n_estimators': 600}. Best is trial 2 with value: 0.9113950790635206.\n"
     ]
    },
    {
     "name": "stderr",
     "output_type": "stream",
     "text": [
      "Best trial: 2. Best value: 0.911395:  85%|████████▌ | 17/20 [13:45<02:47, 55.75s/it]"
     ]
    },
    {
     "name": "stdout",
     "output_type": "stream",
     "text": [
      "[I 2025-10-14 00:08:53,295] Trial 16 finished with value: 0.9094114517256694 and parameters: {'learning_rate': 0.0317943812376089, 'max_depth': 10, 'subsample': 0.7412541903952072, 'colsample_bytree': 0.7025509302450095, 'n_estimators': 800}. Best is trial 2 with value: 0.9113950790635206.\n"
     ]
    },
    {
     "name": "stderr",
     "output_type": "stream",
     "text": [
      "Best trial: 2. Best value: 0.911395:  90%|█████████ | 18/20 [14:10<01:33, 46.53s/it]"
     ]
    },
    {
     "name": "stdout",
     "output_type": "stream",
     "text": [
      "[I 2025-10-14 00:09:18,353] Trial 17 finished with value: 0.897531303724624 and parameters: {'learning_rate': 0.012616834248210128, 'max_depth': 5, 'subsample': 0.8285129894742725, 'colsample_bytree': 0.9067429814552114, 'n_estimators': 600}. Best is trial 2 with value: 0.9113950790635206.\n"
     ]
    },
    {
     "name": "stderr",
     "output_type": "stream",
     "text": [
      "Best trial: 2. Best value: 0.911395:  95%|█████████▌| 19/20 [14:24<00:36, 36.82s/it]"
     ]
    },
    {
     "name": "stdout",
     "output_type": "stream",
     "text": [
      "[I 2025-10-14 00:09:32,534] Trial 18 finished with value: 0.9092773393919301 and parameters: {'learning_rate': 0.06795238081318719, 'max_depth': 8, 'subsample': 0.8994703771993884, 'colsample_bytree': 0.8118330967279953, 'n_estimators': 200}. Best is trial 2 with value: 0.9113950790635206.\n"
     ]
    },
    {
     "name": "stderr",
     "output_type": "stream",
     "text": [
      "Best trial: 2. Best value: 0.911395: 100%|██████████| 20/20 [15:16<00:00, 45.85s/it]\n",
      "[I 2025-10-14 00:10:24,902] A new study created in memory with name: no-name-5b129c0c-129d-4a96-a30c-e980d5f56e64\n"
     ]
    },
    {
     "name": "stdout",
     "output_type": "stream",
     "text": [
      "[I 2025-10-14 00:10:24,895] Trial 19 finished with value: 0.9103773328041889 and parameters: {'learning_rate': 0.03475142549753154, 'max_depth': 8, 'subsample': 0.7391162854463743, 'colsample_bytree': 0.6181828847179651, 'n_estimators': 800}. Best is trial 2 with value: 0.9113950790635206.\n",
      "✅ XGBoost best AUC=0.911 | params={'learning_rate': 0.03694002866407103, 'max_depth': 9, 'subsample': 0.8583432095647007, 'colsample_bytree': 0.9085850005824747, 'n_estimators': 600}\n"
     ]
    },
    {
     "name": "stderr",
     "output_type": "stream",
     "text": [
      "  0%|          | 0/20 [00:00<?, ?it/s]"
     ]
    },
    {
     "name": "stdout",
     "output_type": "stream",
     "text": [
      "\u001b[1m257/257\u001b[0m \u001b[32m━━━━━━━━━━━━━━━━━━━━\u001b[0m\u001b[37m\u001b[0m \u001b[1m0s\u001b[0m 1ms/step  \n"
     ]
    },
    {
     "name": "stderr",
     "output_type": "stream",
     "text": [
      "Best trial: 0. Best value: 0.886033:   5%|▌         | 1/20 [00:22<07:08, 22.54s/it]"
     ]
    },
    {
     "name": "stdout",
     "output_type": "stream",
     "text": [
      "[I 2025-10-14 00:10:47,437] Trial 0 finished with value: 0.8860328396246262 and parameters: {'lr': 0.0007881519566683207, 'dropout': 0.24609043521438856, 'n1': 96, 'n2': 16}. Best is trial 0 with value: 0.8860328396246262.\n",
      "\u001b[1m257/257\u001b[0m \u001b[32m━━━━━━━━━━━━━━━━━━━━\u001b[0m\u001b[37m\u001b[0m \u001b[1m0s\u001b[0m 989us/step\n"
     ]
    },
    {
     "name": "stderr",
     "output_type": "stream",
     "text": [
      "Best trial: 0. Best value: 0.886033:  10%|█         | 2/20 [00:44<06:44, 22.49s/it]"
     ]
    },
    {
     "name": "stdout",
     "output_type": "stream",
     "text": [
      "[I 2025-10-14 00:11:09,894] Trial 1 finished with value: 0.8797009377968468 and parameters: {'lr': 0.005034591103855418, 'dropout': 0.5034591038098074, 'n1': 64, 'n2': 64}. Best is trial 0 with value: 0.8860328396246262.\n",
      "\u001b[1m257/257\u001b[0m \u001b[32m━━━━━━━━━━━━━━━━━━━━\u001b[0m\u001b[37m\u001b[0m \u001b[1m0s\u001b[0m 964us/step\n"
     ]
    },
    {
     "name": "stderr",
     "output_type": "stream",
     "text": [
      "Best trial: 0. Best value: 0.886033:  10%|█         | 2/20 [01:04<06:44, 22.49s/it]"
     ]
    },
    {
     "name": "stdout",
     "output_type": "stream",
     "text": [
      "[I 2025-10-14 00:11:29,059] Trial 2 finished with value: 0.8884831539767644 and parameters: {'lr': 0.0013098675073741162, 'dropout': 0.21729834115755975, 'n1': 64, 'n2': 48}. Best is trial 2 with value: 0.8884831539767644.\n"
     ]
    },
    {
     "name": "stderr",
     "output_type": "stream",
     "text": [
      "Best trial: 2. Best value: 0.888483:  15%|█▌        | 3/20 [01:04<05:56, 20.97s/it]"
     ]
    },
    {
     "name": "stdout",
     "output_type": "stream",
     "text": [
      "\u001b[1m257/257\u001b[0m \u001b[32m━━━━━━━━━━━━━━━━━━━━\u001b[0m\u001b[37m\u001b[0m \u001b[1m0s\u001b[0m 903us/step\n"
     ]
    },
    {
     "name": "stderr",
     "output_type": "stream",
     "text": [
      "Best trial: 3. Best value: 0.890822:  20%|██        | 4/20 [01:38<06:57, 26.12s/it]"
     ]
    },
    {
     "name": "stdout",
     "output_type": "stream",
     "text": [
      "[I 2025-10-14 00:12:03,057] Trial 3 finished with value: 0.8908220013557997 and parameters: {'lr': 0.0020765041362048177, 'dropout': 0.3284820266146712, 'n1': 32, 'n2': 48}. Best is trial 3 with value: 0.8908220013557997.\n",
      "\u001b[1m257/257\u001b[0m \u001b[32m━━━━━━━━━━━━━━━━━━━━\u001b[0m\u001b[37m\u001b[0m \u001b[1m0s\u001b[0m 1ms/step  \n"
     ]
    },
    {
     "name": "stderr",
     "output_type": "stream",
     "text": [
      "Best trial: 3. Best value: 0.890822:  25%|██▌       | 5/20 [02:15<07:34, 30.33s/it]"
     ]
    },
    {
     "name": "stdout",
     "output_type": "stream",
     "text": [
      "[I 2025-10-14 00:12:40,857] Trial 4 finished with value: 0.8901237140622775 and parameters: {'lr': 0.00023312755098778875, 'dropout': 0.24662408163412267, 'n1': 96, 'n2': 64}. Best is trial 3 with value: 0.8908220013557997.\n",
      "\u001b[1m257/257\u001b[0m \u001b[32m━━━━━━━━━━━━━━━━━━━━\u001b[0m\u001b[37m\u001b[0m \u001b[1m0s\u001b[0m 918us/step\n"
     ]
    },
    {
     "name": "stderr",
     "output_type": "stream",
     "text": [
      "Best trial: 3. Best value: 0.890822:  30%|███       | 6/20 [02:39<06:32, 28.03s/it]"
     ]
    },
    {
     "name": "stdout",
     "output_type": "stream",
     "text": [
      "[I 2025-10-14 00:13:04,428] Trial 5 finished with value: 0.8866021612572811 and parameters: {'lr': 0.0016802806850413252, 'dropout': 0.3846845898701627, 'n1': 32, 'n2': 16}. Best is trial 3 with value: 0.8908220013557997.\n",
      "\u001b[1m257/257\u001b[0m \u001b[32m━━━━━━━━━━━━━━━━━━━━\u001b[0m\u001b[37m\u001b[0m \u001b[1m0s\u001b[0m 982us/step\n"
     ]
    },
    {
     "name": "stderr",
     "output_type": "stream",
     "text": [
      "Best trial: 3. Best value: 0.890822:  35%|███▌      | 7/20 [03:04<05:51, 27.03s/it]"
     ]
    },
    {
     "name": "stdout",
     "output_type": "stream",
     "text": [
      "[I 2025-10-14 00:13:29,397] Trial 6 finished with value: 0.8901008030669123 and parameters: {'lr': 0.0011746300929792134, 'dropout': 0.3132063852773086, 'n1': 96, 'n2': 48}. Best is trial 3 with value: 0.8908220013557997.\n",
      "\u001b[1m257/257\u001b[0m \u001b[32m━━━━━━━━━━━━━━━━━━━━\u001b[0m\u001b[37m\u001b[0m \u001b[1m0s\u001b[0m 1ms/step\n"
     ]
    },
    {
     "name": "stderr",
     "output_type": "stream",
     "text": [
      "Best trial: 3. Best value: 0.890822:  40%|████      | 8/20 [03:36<05:43, 28.66s/it]"
     ]
    },
    {
     "name": "stdout",
     "output_type": "stream",
     "text": [
      "[I 2025-10-14 00:14:01,547] Trial 7 finished with value: 0.8892036217701473 and parameters: {'lr': 0.0003051960715286102, 'dropout': 0.2976171051920602, 'n1': 128, 'n2': 48}. Best is trial 3 with value: 0.8908220013557997.\n",
      "\u001b[1m257/257\u001b[0m \u001b[32m━━━━━━━━━━━━━━━━━━━━\u001b[0m\u001b[37m\u001b[0m \u001b[1m0s\u001b[0m 1ms/step  \n"
     ]
    },
    {
     "name": "stderr",
     "output_type": "stream",
     "text": [
      "Best trial: 3. Best value: 0.890822:  45%|████▌     | 9/20 [04:10<05:31, 30.16s/it]"
     ]
    },
    {
     "name": "stdout",
     "output_type": "stream",
     "text": [
      "[I 2025-10-14 00:14:34,997] Trial 8 finished with value: 0.8837893219089148 and parameters: {'lr': 0.00021650132169782798, 'dropout': 0.5368131999434951, 'n1': 32, 'n2': 16}. Best is trial 3 with value: 0.8908220013557997.\n",
      "\u001b[1m257/257\u001b[0m \u001b[32m━━━━━━━━━━━━━━━━━━━━\u001b[0m\u001b[37m\u001b[0m \u001b[1m0s\u001b[0m 910us/step\n"
     ]
    },
    {
     "name": "stderr",
     "output_type": "stream",
     "text": [
      "Best trial: 3. Best value: 0.890822:  50%|█████     | 10/20 [04:29<04:28, 26.90s/it]"
     ]
    },
    {
     "name": "stdout",
     "output_type": "stream",
     "text": [
      "[I 2025-10-14 00:14:54,590] Trial 9 finished with value: 0.885804327349114 and parameters: {'lr': 0.004283826486008349, 'dropout': 0.31004708077768844, 'n1': 64, 'n2': 48}. Best is trial 3 with value: 0.8908220013557997.\n",
      "\u001b[1m257/257\u001b[0m \u001b[32m━━━━━━━━━━━━━━━━━━━━\u001b[0m\u001b[37m\u001b[0m \u001b[1m0s\u001b[0m 956us/step\n"
     ]
    },
    {
     "name": "stderr",
     "output_type": "stream",
     "text": [
      "Best trial: 3. Best value: 0.890822:  55%|█████▌    | 11/20 [05:12<04:47, 31.91s/it]"
     ]
    },
    {
     "name": "stdout",
     "output_type": "stream",
     "text": [
      "[I 2025-10-14 00:15:37,882] Trial 10 finished with value: 0.8821867807939714 and parameters: {'lr': 0.009281619782353805, 'dropout': 0.4384410271803583, 'n1': 32, 'n2': 32}. Best is trial 3 with value: 0.8908220013557997.\n",
      "\u001b[1m257/257\u001b[0m \u001b[32m━━━━━━━━━━━━━━━━━━━━\u001b[0m\u001b[37m\u001b[0m \u001b[1m0s\u001b[0m 1ms/step\n"
     ]
    },
    {
     "name": "stderr",
     "output_type": "stream",
     "text": [
      "Best trial: 3. Best value: 0.890822:  60%|██████    | 12/20 [06:12<05:23, 40.39s/it]"
     ]
    },
    {
     "name": "stdout",
     "output_type": "stream",
     "text": [
      "[I 2025-10-14 00:16:37,649] Trial 11 finished with value: 0.888214331631146 and parameters: {'lr': 0.00010754946751697984, 'dropout': 0.38647144842044767, 'n1': 128, 'n2': 64}. Best is trial 3 with value: 0.8908220013557997.\n",
      "\u001b[1m257/257\u001b[0m \u001b[32m━━━━━━━━━━━━━━━━━━━━\u001b[0m\u001b[37m\u001b[0m \u001b[1m0s\u001b[0m 960us/step\n"
     ]
    },
    {
     "name": "stderr",
     "output_type": "stream",
     "text": [
      "Best trial: 3. Best value: 0.890822:  65%|██████▌   | 13/20 [06:39<04:14, 36.34s/it]"
     ]
    },
    {
     "name": "stdout",
     "output_type": "stream",
     "text": [
      "[I 2025-10-14 00:17:04,668] Trial 12 finished with value: 0.8888912685333349 and parameters: {'lr': 0.00048695773619753245, 'dropout': 0.25816012022136686, 'n1': 96, 'n2': 64}. Best is trial 3 with value: 0.8908220013557997.\n",
      "\u001b[1m257/257\u001b[0m \u001b[32m━━━━━━━━━━━━━━━━━━━━\u001b[0m\u001b[37m\u001b[0m \u001b[1m0s\u001b[0m 961us/step\n"
     ]
    },
    {
     "name": "stderr",
     "output_type": "stream",
     "text": [
      "Best trial: 13. Best value: 0.891083:  70%|███████   | 14/20 [07:09<03:26, 34.49s/it]"
     ]
    },
    {
     "name": "stdout",
     "output_type": "stream",
     "text": [
      "[I 2025-10-14 00:17:34,879] Trial 13 finished with value: 0.8910833527246685 and parameters: {'lr': 0.002579762315623918, 'dropout': 0.2029106833710657, 'n1': 96, 'n2': 32}. Best is trial 13 with value: 0.8910833527246685.\n",
      "\u001b[1m257/257\u001b[0m \u001b[32m━━━━━━━━━━━━━━━━━━━━\u001b[0m\u001b[37m\u001b[0m \u001b[1m0s\u001b[0m 984us/step\n"
     ]
    },
    {
     "name": "stderr",
     "output_type": "stream",
     "text": [
      "Best trial: 13. Best value: 0.891083:  75%|███████▌  | 15/20 [07:36<02:40, 32.09s/it]"
     ]
    },
    {
     "name": "stdout",
     "output_type": "stream",
     "text": [
      "[I 2025-10-14 00:18:01,424] Trial 14 finished with value: 0.8895993511074843 and parameters: {'lr': 0.0027618310354937162, 'dropout': 0.4460838096721442, 'n1': 64, 'n2': 32}. Best is trial 13 with value: 0.8910833527246685.\n",
      "\u001b[1m257/257\u001b[0m \u001b[32m━━━━━━━━━━━━━━━━━━━━\u001b[0m\u001b[37m\u001b[0m \u001b[1m0s\u001b[0m 991us/step\n"
     ]
    },
    {
     "name": "stderr",
     "output_type": "stream",
     "text": [
      "Best trial: 13. Best value: 0.891083:  80%|████████  | 16/20 [07:57<01:55, 28.78s/it]"
     ]
    },
    {
     "name": "stdout",
     "output_type": "stream",
     "text": [
      "[I 2025-10-14 00:18:22,524] Trial 15 finished with value: 0.8886205535402734 and parameters: {'lr': 0.002181829837442142, 'dropout': 0.2074060589200602, 'n1': 128, 'n2': 32}. Best is trial 13 with value: 0.8910833527246685.\n",
      "\u001b[1m257/257\u001b[0m \u001b[32m━━━━━━━━━━━━━━━━━━━━\u001b[0m\u001b[37m\u001b[0m \u001b[1m0s\u001b[0m 984us/step\n"
     ]
    },
    {
     "name": "stderr",
     "output_type": "stream",
     "text": [
      "Best trial: 13. Best value: 0.891083:  85%|████████▌ | 17/20 [08:26<01:26, 28.82s/it]"
     ]
    },
    {
     "name": "stdout",
     "output_type": "stream",
     "text": [
      "[I 2025-10-14 00:18:51,435] Trial 16 finished with value: 0.8910490194359617 and parameters: {'lr': 0.003745170495614053, 'dropout': 0.33891395201529273, 'n1': 32, 'n2': 32}. Best is trial 13 with value: 0.8910833527246685.\n",
      "\u001b[1m257/257\u001b[0m \u001b[32m━━━━━━━━━━━━━━━━━━━━\u001b[0m\u001b[37m\u001b[0m \u001b[1m0s\u001b[0m 918us/step\n"
     ]
    },
    {
     "name": "stderr",
     "output_type": "stream",
     "text": [
      "Best trial: 13. Best value: 0.891083:  90%|█████████ | 18/20 [09:01<01:01, 30.54s/it]"
     ]
    },
    {
     "name": "stdout",
     "output_type": "stream",
     "text": [
      "[I 2025-10-14 00:19:25,983] Trial 17 finished with value: 0.8768361336546452 and parameters: {'lr': 0.008643237082768016, 'dropout': 0.5797853481863287, 'n1': 64, 'n2': 32}. Best is trial 13 with value: 0.8910833527246685.\n",
      "\u001b[1m257/257\u001b[0m \u001b[32m━━━━━━━━━━━━━━━━━━━━\u001b[0m\u001b[37m\u001b[0m \u001b[1m0s\u001b[0m 977us/step\n"
     ]
    },
    {
     "name": "stderr",
     "output_type": "stream",
     "text": [
      "Best trial: 13. Best value: 0.891083:  95%|█████████▌| 19/20 [09:21<00:27, 27.62s/it]"
     ]
    },
    {
     "name": "stdout",
     "output_type": "stream",
     "text": [
      "[I 2025-10-14 00:19:46,805] Trial 18 finished with value: 0.8835439418281194 and parameters: {'lr': 0.004337442645770172, 'dropout': 0.3581790439342468, 'n1': 96, 'n2': 32}. Best is trial 13 with value: 0.8910833527246685.\n",
      "\u001b[1m257/257\u001b[0m \u001b[32m━━━━━━━━━━━━━━━━━━━━\u001b[0m\u001b[37m\u001b[0m \u001b[1m0s\u001b[0m 1ms/step  \n"
     ]
    },
    {
     "name": "stderr",
     "output_type": "stream",
     "text": [
      "Best trial: 19. Best value: 0.891302: 100%|██████████| 20/20 [09:56<00:00, 29.84s/it]"
     ]
    },
    {
     "name": "stdout",
     "output_type": "stream",
     "text": [
      "[I 2025-10-14 00:20:21,624] Trial 19 finished with value: 0.8913016712674601 and parameters: {'lr': 0.0007382544471194025, 'dropout': 0.4376267553395228, 'n1': 128, 'n2': 16}. Best is trial 19 with value: 0.8913016712674601.\n",
      "✅ ANN best AUC=0.891 | params={'lr': 0.0007382544471194025, 'dropout': 0.4376267553395228, 'n1': 128, 'n2': 16}\n",
      "\n",
      "🚀 Training LogReg ...\n"
     ]
    },
    {
     "name": "stderr",
     "output_type": "stream",
     "text": [
      "\n"
     ]
    },
    {
     "name": "stdout",
     "output_type": "stream",
     "text": [
      "✅ LogReg: acc=0.789, f1=0.673, auc=0.868, mcc=0.519, brier=0.139\n",
      "\n",
      "🚀 Training RandomForest ...\n",
      "✅ RandomForest: acc=0.789, f1=0.655, auc=0.873, mcc=0.511, brier=0.146\n",
      "\n",
      "🚀 Training XGBoost ...\n",
      "✅ XGBoost: acc=0.838, f1=0.754, auc=0.916, mcc=0.634, brier=0.111\n",
      "🧩 Computing SHAP contributions...\n",
      "📊 SHAP → Tr: 82.9%, Fl: 17.1%\n",
      "\n",
      "🚀 Training ANN ...\n",
      "\u001b[1m321/321\u001b[0m \u001b[32m━━━━━━━━━━━━━━━━━━━━\u001b[0m\u001b[37m\u001b[0m \u001b[1m0s\u001b[0m 1ms/step  \n"
     ]
    }
   ],
   "source": [
    "# Main Training Loop\n",
    "results = []\n",
    "modalities = {\n",
    "    \"Transcriptomic (250)\": (X_tr_250, y_trans),\n",
    "    \"Fluxomic (200)\": (X_fl_200, y_flux),\n",
    "    \"Multimodal (250+200)\": (X_multi, y_multi)\n",
    "}\n",
    "\n",
    "for label, (X, y) in modalities.items():\n",
    "    print(f\"\\n==============================\\n🧬 {label}\\n==============================\")\n",
    "    X_train, X_test, y_train, y_test = train_test_split(X, y, test_size=0.2, stratify=y, random_state=SEED)\n",
    "    scaler = StandardScaler()\n",
    "    X_train_scaled = scaler.fit_transform(X_train)\n",
    "    X_test_scaled = scaler.transform(X_test)\n",
    "\n",
    "    models_dict = build_models(X_train_scaled, y_train)\n",
    "\n",
    "    for model_name, (model, best_params) in models_dict.items():\n",
    "        print(f\"\\n🚀 Training {model_name} ...\")\n",
    "\n",
    "        if model_name == \"ANN\":\n",
    "            params = best_params if best_params else {\"lr\": 0.001, \"dropout\": 0.5, \"n1\": 64, \"n2\": 32}\n",
    "            ann = models.Sequential([\n",
    "                layers.Input(shape=(X_train_scaled.shape[1],)),\n",
    "                layers.Dense(params[\"n1\"], activation=\"relu\"),\n",
    "                layers.Dropout(params[\"dropout\"]),\n",
    "                layers.Dense(params[\"n2\"], activation=\"relu\"),\n",
    "                layers.Dense(1, activation=\"sigmoid\")\n",
    "            ])\n",
    "            ann.compile(optimizer=optimizers.Adam(learning_rate=params[\"lr\"]),\n",
    "                        loss=\"binary_crossentropy\", metrics=[\"accuracy\"])\n",
    "            early_stop = EarlyStopping(patience=5, restore_best_weights=True)\n",
    "            ann.fit(X_train_scaled, y_train, validation_data=(X_test_scaled, y_test),\n",
    "                    epochs=30, batch_size=32, verbose=0, callbacks=[early_stop])\n",
    "            y_prob = ann.predict(X_test_scaled)\n",
    "            y_pred = (y_prob > 0.5).astype(int)\n",
    "            acc = accuracy_score(y_test, y_pred)\n",
    "            prec = precision_score(y_test, y_pred)\n",
    "            rec = recall_score(y_test, y_pred)\n",
    "            f1 = f1_score(y_test, y_pred)\n",
    "            auc = roc_auc_score(y_test, y_prob)\n",
    "            mcc = matthews_corrcoef(y_test, y_pred)\n",
    "            brier = brier_score_loss(y_test, y_prob)\n",
    "        else:\n",
    "            model.fit(X_train_scaled, y_train)\n",
    "            acc, prec, rec, f1, auc, mcc, brier = evaluate_model(model, X_test_scaled, y_test, model_name)\n",
    "\n",
    "        result = {\n",
    "            \"Modality\": label,\n",
    "            \"Model\": model_name,\n",
    "            \"Acc\": acc, \"Prec\": prec, \"Rec\": rec, \"F1\": f1,\n",
    "            \"AUC\": auc, \"MCC\": mcc, \"Brier\": brier\n",
    "        }\n",
    "\n",
    "        if best_params:\n",
    "            result[\"Best_Params\"] = str(best_params)\n",
    "\n",
    "        # SHAP for multimodal XGBoost\n",
    "        if label == \"Multimodal (250+200)\" and model_name == \"XGBoost\":\n",
    "            print(\"🧩 Computing SHAP contributions...\")\n",
    "            sample_X = pd.DataFrame(X_test_scaled, columns=X.columns).sample(n=min(100, len(X_test)), random_state=42)\n",
    "            explainer = shap.TreeExplainer(model)\n",
    "            shap_vals = explainer.shap_values(sample_X)\n",
    "            shap_df = pd.DataFrame({\n",
    "                \"Feature\": sample_X.columns,\n",
    "                \"MeanAbsSHAP\": np.abs(shap_vals).mean(axis=0)\n",
    "            })\n",
    "            shap_df[\"Modality\"] = [\"Fluxomic\" if f in X_flux.columns else \"Transcriptomic\" for f in shap_df[\"Feature\"]]\n",
    "            contrib = shap_df.groupby(\"Modality\")[\"MeanAbsSHAP\"].sum()\n",
    "            perc = 100 * contrib / contrib.sum()\n",
    "            result[\"SHAP_Tr_%\"] = perc.get(\"Transcriptomic\", 0)\n",
    "            result[\"SHAP_Fl_%\"] = perc.get(\"Fluxomic\", 0)\n",
    "            print(f\"📊 SHAP → Tr: {perc.get('Transcriptomic',0):.1f}%, Fl: {perc.get('Fluxomic',0):.1f}%\")\n",
    "\n",
    "        results.append(result)\n",
    "        gc.collect()\n"
   ]
  },
  {
   "cell_type": "code",
   "execution_count": 16,
   "id": "35ac9a2f",
   "metadata": {},
   "outputs": [
    {
     "name": "stdout",
     "output_type": "stream",
     "text": [
      "\n",
      "💾 Results saved to /home/sadegh/python_projects/HRplus-BC-Multimodal/notebooks/results/model_results_optuna_extmetrics_20251014_0022.csv\n"
     ]
    },
    {
     "data": {
      "text/html": [
       "<div>\n",
       "<style scoped>\n",
       "    .dataframe tbody tr th:only-of-type {\n",
       "        vertical-align: middle;\n",
       "    }\n",
       "\n",
       "    .dataframe tbody tr th {\n",
       "        vertical-align: top;\n",
       "    }\n",
       "\n",
       "    .dataframe thead th {\n",
       "        text-align: right;\n",
       "    }\n",
       "</style>\n",
       "<table border=\"1\" class=\"dataframe\">\n",
       "  <thead>\n",
       "    <tr style=\"text-align: right;\">\n",
       "      <th></th>\n",
       "      <th>Modality</th>\n",
       "      <th>Model</th>\n",
       "      <th>Acc</th>\n",
       "      <th>Prec</th>\n",
       "      <th>Rec</th>\n",
       "      <th>F1</th>\n",
       "      <th>AUC</th>\n",
       "      <th>MCC</th>\n",
       "      <th>Brier</th>\n",
       "      <th>Best_Params</th>\n",
       "      <th>SHAP_Tr_%</th>\n",
       "      <th>SHAP_Fl_%</th>\n",
       "    </tr>\n",
       "  </thead>\n",
       "  <tbody>\n",
       "    <tr>\n",
       "      <th>6</th>\n",
       "      <td>Fluxomic (200)</td>\n",
       "      <td>XGBoost</td>\n",
       "      <td>0.663451</td>\n",
       "      <td>0.000000</td>\n",
       "      <td>0.000000</td>\n",
       "      <td>0.000000</td>\n",
       "      <td>0.588718</td>\n",
       "      <td>-0.006994</td>\n",
       "      <td>0.218600</td>\n",
       "      <td>{'learning_rate': 0.010318199377710972, 'max_d...</td>\n",
       "      <td>NaN</td>\n",
       "      <td>NaN</td>\n",
       "    </tr>\n",
       "    <tr>\n",
       "      <th>5</th>\n",
       "      <td>Fluxomic (200)</td>\n",
       "      <td>RandomForest</td>\n",
       "      <td>0.663548</td>\n",
       "      <td>0.000000</td>\n",
       "      <td>0.000000</td>\n",
       "      <td>0.000000</td>\n",
       "      <td>0.585916</td>\n",
       "      <td>0.000000</td>\n",
       "      <td>0.219221</td>\n",
       "      <td>{'n_estimators': 800, 'max_depth': 8, 'min_sam...</td>\n",
       "      <td>NaN</td>\n",
       "      <td>NaN</td>\n",
       "    </tr>\n",
       "    <tr>\n",
       "      <th>7</th>\n",
       "      <td>Fluxomic (200)</td>\n",
       "      <td>ANN</td>\n",
       "      <td>0.663065</td>\n",
       "      <td>0.419355</td>\n",
       "      <td>0.003727</td>\n",
       "      <td>0.007388</td>\n",
       "      <td>0.565696</td>\n",
       "      <td>0.009609</td>\n",
       "      <td>0.220656</td>\n",
       "      <td>{'lr': 0.00145440974522045, 'dropout': 0.25391...</td>\n",
       "      <td>NaN</td>\n",
       "      <td>NaN</td>\n",
       "    </tr>\n",
       "    <tr>\n",
       "      <th>4</th>\n",
       "      <td>Fluxomic (200)</td>\n",
       "      <td>LogReg</td>\n",
       "      <td>0.662680</td>\n",
       "      <td>0.333333</td>\n",
       "      <td>0.002580</td>\n",
       "      <td>0.005121</td>\n",
       "      <td>0.552913</td>\n",
       "      <td>-0.000337</td>\n",
       "      <td>0.221946</td>\n",
       "      <td>{'C': 2.678867629987083}</td>\n",
       "      <td>NaN</td>\n",
       "      <td>NaN</td>\n",
       "    </tr>\n",
       "    <tr>\n",
       "      <th>10</th>\n",
       "      <td>Multimodal (250+200)</td>\n",
       "      <td>XGBoost</td>\n",
       "      <td>0.837896</td>\n",
       "      <td>0.769648</td>\n",
       "      <td>0.739797</td>\n",
       "      <td>0.754427</td>\n",
       "      <td>0.916341</td>\n",
       "      <td>0.633791</td>\n",
       "      <td>0.111492</td>\n",
       "      <td>{'learning_rate': 0.03694002866407103, 'max_de...</td>\n",
       "      <td>82.936417</td>\n",
       "      <td>17.063589</td>\n",
       "    </tr>\n",
       "    <tr>\n",
       "      <th>11</th>\n",
       "      <td>Multimodal (250+200)</td>\n",
       "      <td>ANN</td>\n",
       "      <td>0.816074</td>\n",
       "      <td>0.741448</td>\n",
       "      <td>0.696382</td>\n",
       "      <td>0.718209</td>\n",
       "      <td>0.896653</td>\n",
       "      <td>0.582523</td>\n",
       "      <td>0.123538</td>\n",
       "      <td>{'lr': 0.0007382544471194025, 'dropout': 0.437...</td>\n",
       "      <td>NaN</td>\n",
       "      <td>NaN</td>\n",
       "    </tr>\n",
       "    <tr>\n",
       "      <th>9</th>\n",
       "      <td>Multimodal (250+200)</td>\n",
       "      <td>RandomForest</td>\n",
       "      <td>0.789187</td>\n",
       "      <td>0.729634</td>\n",
       "      <td>0.593632</td>\n",
       "      <td>0.654644</td>\n",
       "      <td>0.872576</td>\n",
       "      <td>0.510797</td>\n",
       "      <td>0.146350</td>\n",
       "      <td>{'n_estimators': 800, 'max_depth': 15, 'min_sa...</td>\n",
       "      <td>NaN</td>\n",
       "      <td>NaN</td>\n",
       "    </tr>\n",
       "    <tr>\n",
       "      <th>8</th>\n",
       "      <td>Multimodal (250+200)</td>\n",
       "      <td>LogReg</td>\n",
       "      <td>0.788894</td>\n",
       "      <td>0.703155</td>\n",
       "      <td>0.645152</td>\n",
       "      <td>0.672906</td>\n",
       "      <td>0.867557</td>\n",
       "      <td>0.518533</td>\n",
       "      <td>0.139468</td>\n",
       "      <td>{'C': 0.00770943859741174}</td>\n",
       "      <td>NaN</td>\n",
       "      <td>NaN</td>\n",
       "    </tr>\n",
       "    <tr>\n",
       "      <th>2</th>\n",
       "      <td>Transcriptomic (250)</td>\n",
       "      <td>XGBoost</td>\n",
       "      <td>0.844043</td>\n",
       "      <td>0.763334</td>\n",
       "      <td>0.758032</td>\n",
       "      <td>0.760674</td>\n",
       "      <td>0.921234</td>\n",
       "      <td>0.645019</td>\n",
       "      <td>0.108139</td>\n",
       "      <td>{'learning_rate': 0.07264826468857866, 'max_de...</td>\n",
       "      <td>NaN</td>\n",
       "      <td>NaN</td>\n",
       "    </tr>\n",
       "    <tr>\n",
       "      <th>3</th>\n",
       "      <td>Transcriptomic (250)</td>\n",
       "      <td>ANN</td>\n",
       "      <td>0.828996</td>\n",
       "      <td>0.733428</td>\n",
       "      <td>0.749349</td>\n",
       "      <td>0.741303</td>\n",
       "      <td>0.908638</td>\n",
       "      <td>0.613691</td>\n",
       "      <td>0.115443</td>\n",
       "      <td>{'lr': 0.0017147475414376616, 'dropout': 0.397...</td>\n",
       "      <td>NaN</td>\n",
       "      <td>NaN</td>\n",
       "    </tr>\n",
       "    <tr>\n",
       "      <th>1</th>\n",
       "      <td>Transcriptomic (250)</td>\n",
       "      <td>RandomForest</td>\n",
       "      <td>0.814517</td>\n",
       "      <td>0.738742</td>\n",
       "      <td>0.669465</td>\n",
       "      <td>0.702399</td>\n",
       "      <td>0.894301</td>\n",
       "      <td>0.569599</td>\n",
       "      <td>0.132422</td>\n",
       "      <td>{'n_estimators': 600, 'max_depth': 16, 'min_sa...</td>\n",
       "      <td>NaN</td>\n",
       "      <td>NaN</td>\n",
       "    </tr>\n",
       "    <tr>\n",
       "      <th>0</th>\n",
       "      <td>Transcriptomic (250)</td>\n",
       "      <td>LogReg</td>\n",
       "      <td>0.798997</td>\n",
       "      <td>0.703953</td>\n",
       "      <td>0.664834</td>\n",
       "      <td>0.683834</td>\n",
       "      <td>0.873185</td>\n",
       "      <td>0.537146</td>\n",
       "      <td>0.135078</td>\n",
       "      <td>{'C': 0.1645492095336972}</td>\n",
       "      <td>NaN</td>\n",
       "      <td>NaN</td>\n",
       "    </tr>\n",
       "  </tbody>\n",
       "</table>\n",
       "</div>"
      ],
      "text/plain": [
       "                Modality         Model       Acc      Prec       Rec  \\\n",
       "6         Fluxomic (200)       XGBoost  0.663451  0.000000  0.000000   \n",
       "5         Fluxomic (200)  RandomForest  0.663548  0.000000  0.000000   \n",
       "7         Fluxomic (200)           ANN  0.663065  0.419355  0.003727   \n",
       "4         Fluxomic (200)        LogReg  0.662680  0.333333  0.002580   \n",
       "10  Multimodal (250+200)       XGBoost  0.837896  0.769648  0.739797   \n",
       "11  Multimodal (250+200)           ANN  0.816074  0.741448  0.696382   \n",
       "9   Multimodal (250+200)  RandomForest  0.789187  0.729634  0.593632   \n",
       "8   Multimodal (250+200)        LogReg  0.788894  0.703155  0.645152   \n",
       "2   Transcriptomic (250)       XGBoost  0.844043  0.763334  0.758032   \n",
       "3   Transcriptomic (250)           ANN  0.828996  0.733428  0.749349   \n",
       "1   Transcriptomic (250)  RandomForest  0.814517  0.738742  0.669465   \n",
       "0   Transcriptomic (250)        LogReg  0.798997  0.703953  0.664834   \n",
       "\n",
       "          F1       AUC       MCC     Brier  \\\n",
       "6   0.000000  0.588718 -0.006994  0.218600   \n",
       "5   0.000000  0.585916  0.000000  0.219221   \n",
       "7   0.007388  0.565696  0.009609  0.220656   \n",
       "4   0.005121  0.552913 -0.000337  0.221946   \n",
       "10  0.754427  0.916341  0.633791  0.111492   \n",
       "11  0.718209  0.896653  0.582523  0.123538   \n",
       "9   0.654644  0.872576  0.510797  0.146350   \n",
       "8   0.672906  0.867557  0.518533  0.139468   \n",
       "2   0.760674  0.921234  0.645019  0.108139   \n",
       "3   0.741303  0.908638  0.613691  0.115443   \n",
       "1   0.702399  0.894301  0.569599  0.132422   \n",
       "0   0.683834  0.873185  0.537146  0.135078   \n",
       "\n",
       "                                          Best_Params  SHAP_Tr_%  SHAP_Fl_%  \n",
       "6   {'learning_rate': 0.010318199377710972, 'max_d...        NaN        NaN  \n",
       "5   {'n_estimators': 800, 'max_depth': 8, 'min_sam...        NaN        NaN  \n",
       "7   {'lr': 0.00145440974522045, 'dropout': 0.25391...        NaN        NaN  \n",
       "4                            {'C': 2.678867629987083}        NaN        NaN  \n",
       "10  {'learning_rate': 0.03694002866407103, 'max_de...  82.936417  17.063589  \n",
       "11  {'lr': 0.0007382544471194025, 'dropout': 0.437...        NaN        NaN  \n",
       "9   {'n_estimators': 800, 'max_depth': 15, 'min_sa...        NaN        NaN  \n",
       "8                          {'C': 0.00770943859741174}        NaN        NaN  \n",
       "2   {'learning_rate': 0.07264826468857866, 'max_de...        NaN        NaN  \n",
       "3   {'lr': 0.0017147475414376616, 'dropout': 0.397...        NaN        NaN  \n",
       "1   {'n_estimators': 600, 'max_depth': 16, 'min_sa...        NaN        NaN  \n",
       "0                           {'C': 0.1645492095336972}        NaN        NaN  "
      ]
     },
     "metadata": {},
     "output_type": "display_data"
    }
   ],
   "source": [
    "results_df = pd.DataFrame(results)\n",
    "file = results_dir / f\"model_results_optuna_extmetrics_{datetime.now().strftime('%Y%m%d_%H%M')}.csv\"\n",
    "results_df.to_csv(file, index=False)\n",
    "print(f\"\\n💾 Results saved to {file}\")\n",
    "display(results_df.sort_values([\"Modality\", \"AUC\"], ascending=[True, False]))"
   ]
  },
  {
   "cell_type": "code",
   "execution_count": null,
   "id": "8479da8f",
   "metadata": {},
   "outputs": [],
   "source": [
    "# # Get models\n",
    "# def get_models():\n",
    "#     models_dict = {}\n",
    "\n",
    "#     # Logistic Regression\n",
    "#     models_dict[\"LogReg\"] = LogisticRegression(\n",
    "#         solver=\"lbfgs\", C=0.5, max_iter=1000\n",
    "#     )\n",
    "\n",
    "#     # Random Forest\n",
    "#     models_dict[\"RandomForest\"] = RandomForestClassifier(\n",
    "#         n_estimators=500, max_depth=10, min_samples_split=2, \n",
    "#         min_samples_leaf=1, max_features=\"sqrt\", n_jobs=-1, random_state=42\n",
    "#     )\n",
    "\n",
    "#     # XGBoost\n",
    "#     models_dict[\"XGBoost\"] = xgb.XGBClassifier(\n",
    "#         objective=\"binary:logistic\", \n",
    "#         eval_metric=\"logloss\",\n",
    "#         learning_rate=0.05,\n",
    "#         n_estimators=800,\n",
    "#         max_depth=8,\n",
    "#         subsample=0.9,\n",
    "#         colsample_bytree=0.8,\n",
    "#         tree_method=\"hist\",\n",
    "#         n_jobs=-1,\n",
    "#         random_state=42,\n",
    "#         verbosity=0\n",
    "#     )\n",
    "\n",
    "#     # ANN\n",
    "#     def build_ann(input_dim):\n",
    "#         model = models.Sequential([\n",
    "#             layers.Input(shape=(input_dim,)),\n",
    "#             layers.Dense(64, activation=\"relu\"),\n",
    "#             layers.BatchNormalization(),\n",
    "#             layers.Dropout(0.5),\n",
    "#             layers.Dense(32, activation=\"relu\"),\n",
    "#             layers.BatchNormalization(),\n",
    "#             layers.Dense(1, activation=\"sigmoid\")\n",
    "#         ])\n",
    "#         model.compile(optimizer=optimizers.Adam(learning_rate=0.001),\n",
    "#                       loss=\"binary_crossentropy\",\n",
    "#                       metrics=[\"accuracy\"])\n",
    "#         return model\n",
    "#     models_dict[\"ANN_builder\"] = build_ann\n",
    "\n",
    "#     return models_dict\n"
   ]
  },
  {
   "cell_type": "code",
   "execution_count": null,
   "id": "8dc9784a",
   "metadata": {},
   "outputs": [],
   "source": [
    "# # Train and Test Models for three Modes (Transcriptomics and Fluxomics unimodal vs multimodal)\n",
    "# results = []\n",
    "# models_dict = get_models()\n",
    "\n",
    "# modalities = {\n",
    "#     \"Transcriptomic (250)\": (X_tr_250, y_trans),\n",
    "#     \"Fluxomic (200)\": (X_fl_200, y_flux),\n",
    "#     \"Multimodal (250+200)\": (X_multi, y_multi)\n",
    "# }\n",
    "\n",
    "# for label, (X, y) in modalities.items():\n",
    "#     print(f\"\\n==============================\\n🧬 {label}\\n==============================\")\n",
    "#     X_train, X_test, y_train, y_test = train_test_split(X, y, test_size=0.2, stratify=y, random_state=42)\n",
    "\n",
    "#     scaler = StandardScaler()\n",
    "#     X_train_scaled = scaler.fit_transform(X_train)\n",
    "#     X_test_scaled = scaler.transform(X_test)\n",
    "\n",
    "#     for model_name, model in models_dict.items():\n",
    "#         print(f\"\\n🚀 Training {model_name} ...\")\n",
    "\n",
    "#         if model_name == \"ANN_builder\":\n",
    "#             ann = model(X_train_scaled.shape[1])\n",
    "#             early_stop = EarlyStopping(patience=10, restore_best_weights=True)\n",
    "#             ann.fit(\n",
    "#                 X_train_scaled, y_train,\n",
    "#                 validation_data=(X_test_scaled, y_test),\n",
    "#                 epochs=50,\n",
    "#                 batch_size=32,\n",
    "#                 verbose=0,\n",
    "#                 callbacks=[early_stop]\n",
    "#             )\n",
    "#             y_pred = (ann.predict(X_test_scaled) > 0.5).astype(int)\n",
    "#             y_prob = ann.predict(X_test_scaled)\n",
    "#             acc = accuracy_score(y_test, y_pred)\n",
    "#             prec = precision_score(y_test, y_pred)\n",
    "#             rec = recall_score(y_test, y_pred)\n",
    "#             f1 = f1_score(y_test, y_pred)\n",
    "#             auc = roc_auc_score(y_test, y_prob)\n",
    "#         else:\n",
    "#             model.fit(X_train_scaled, y_train)\n",
    "#             acc, prec, rec, f1, auc = evaluate_model(model, X_test_scaled, y_test, model_name)\n",
    "\n",
    "#         results.append({\n",
    "#             \"Modality\": label,\n",
    "#             \"Model\": model_name.replace(\"_builder\", \"\"),\n",
    "#             \"Acc\": acc, \"Prec\": prec, \"Rec\": rec, \"F1\": f1, \"AUC\": auc\n",
    "#         })\n",
    "\n",
    "#         # --- SHAP only for Multimodal XGBoost ---\n",
    "#         if label == \"Multimodal (250+200)\" and model_name == \"XGBoost\":\n",
    "#             print(\"🧩 Computing SHAP contributions for multimodal XGBoost...\")\n",
    "#             sample_X = pd.DataFrame(X_test_scaled, columns=X.columns).sample(n=min(100, len(X_test)), random_state=42)\n",
    "#             explainer = shap.TreeExplainer(model)\n",
    "#             shap_vals = explainer.shap_values(sample_X)\n",
    "#             shap_df = pd.DataFrame({\n",
    "#                 \"Feature\": sample_X.columns,\n",
    "#                 \"MeanAbsSHAP\": np.abs(shap_vals).mean(axis=0)\n",
    "#             })\n",
    "#             shap_df[\"Modality\"] = [\"Fluxomic\" if f in X_flux.columns else \"Transcriptomic\" for f in shap_df[\"Feature\"]]\n",
    "#             contrib = shap_df.groupby(\"Modality\")[\"MeanAbsSHAP\"].sum()\n",
    "#             perc = 100 * contrib / contrib.sum()\n",
    "#             tr_perc, fl_perc = perc.get(\"Transcriptomic\", 0), perc.get(\"Fluxomic\", 0)\n",
    "\n",
    "#             results[-1][\"SHAP_Tr_%\"] = tr_perc\n",
    "#             results[-1][\"SHAP_Fl_%\"] = fl_perc\n",
    "#             print(f\"📊 SHAP contribution → Transcriptomic: {tr_perc:.1f}%, Fluxomic: {fl_perc:.1f}%\")\n",
    "\n",
    "#         gc.collect()\n"
   ]
  },
  {
   "cell_type": "code",
   "execution_count": null,
   "id": "5fcd0ba3",
   "metadata": {},
   "outputs": [],
   "source": [
    "# Save results as csv\n",
    "# pd.DataFrame(results).to_csv(results_dir / 'comparison_results.csv',index=False)"
   ]
  },
  {
   "cell_type": "code",
   "execution_count": null,
   "id": "00c29d36",
   "metadata": {},
   "outputs": [],
   "source": []
  }
 ],
 "metadata": {
  "kernelspec": {
   "display_name": "venv (3.12.3)",
   "language": "python",
   "name": "python3"
  },
  "language_info": {
   "codemirror_mode": {
    "name": "ipython",
    "version": 3
   },
   "file_extension": ".py",
   "mimetype": "text/x-python",
   "name": "python",
   "nbconvert_exporter": "python",
   "pygments_lexer": "ipython3",
   "version": "3.12.3"
  }
 },
 "nbformat": 4,
 "nbformat_minor": 5
}
