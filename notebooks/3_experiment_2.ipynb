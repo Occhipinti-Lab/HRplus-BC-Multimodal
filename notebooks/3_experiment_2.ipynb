{
 "cells": [
  {
   "cell_type": "code",
   "execution_count": null,
   "id": "6f44161f",
   "metadata": {
    "execution": {
     "iopub.execute_input": "2025-10-16T23:30:04.942033Z",
     "iopub.status.busy": "2025-10-16T23:30:04.941756Z",
     "iopub.status.idle": "2025-10-16T23:30:10.799685Z",
     "shell.execute_reply": "2025-10-16T23:30:10.798737Z"
    },
    "papermill": {
     "duration": 5.862659,
     "end_time": "2025-10-16T23:30:10.800553",
     "exception": false,
     "start_time": "2025-10-16T23:30:04.937894",
     "status": "completed"
    },
    "tags": []
   },
   "outputs": [
    {
     "name": "stderr",
     "output_type": "stream",
     "text": [
      "2025-10-16 23:30:07.384953: I external/local_xla/xla/tsl/cuda/cudart_stub.cc:31] Could not find cuda drivers on your machine, GPU will not be used.\n",
      "2025-10-16 23:30:07.464921: I tensorflow/core/platform/cpu_feature_guard.cc:210] This TensorFlow binary is optimized to use available CPU instructions in performance-critical operations.\n",
      "To enable the following instructions: AVX2 FMA, in other operations, rebuild TensorFlow with the appropriate compiler flags.\n"
     ]
    },
    {
     "name": "stderr",
     "output_type": "stream",
     "text": [
      "2025-10-16 23:30:09.806600: I external/local_xla/xla/tsl/cuda/cudart_stub.cc:31] Could not find cuda drivers on your machine, GPU will not be used.\n"
     ]
    },
    {
     "name": "stdout",
     "output_type": "stream",
     "text": [
      "TUNE_MODE: ON | Optuna Trials: 20\n"
     ]
    }
   ],
   "source": [
    "import warnings\n",
    "warnings.filterwarnings(\"ignore\")\n",
    "\n",
    "import pandas as pd\n",
    "import numpy as np\n",
    "\n",
    "import gc\n",
    "import time\n",
    "import warnings\n",
    "from pathlib import Path\n",
    "from tqdm.auto import tqdm\n",
    "from datetime import datetime\n",
    "\n",
    "import matplotlib.pyplot as plt\n",
    "import seaborn as sns\n",
    "\n",
    "from sklearn.model_selection import train_test_split\n",
    "from sklearn.preprocessing import StandardScaler\n",
    "from sklearn.metrics import (\n",
    "    accuracy_score, precision_score, recall_score, f1_score, roc_auc_score,\n",
    "    matthews_corrcoef, brier_score_loss, confusion_matrix, classification_report, roc_curve, auc\n",
    ")\n",
    "\n",
    "from sklearn.calibration import calibration_curve\n",
    "\n",
    "from sklearn.linear_model import LogisticRegression\n",
    "from sklearn.ensemble import RandomForestClassifier\n",
    "import xgboost as xgb\n",
    "from tensorflow.keras import models, layers, optimizers\n",
    "from tensorflow.keras.callbacks import EarlyStopping\n",
    "\n",
    "import shap\n",
    "import optuna\n",
    "\n",
    "# Global Configuration\n",
    "base_dir = Path().resolve().parent\n",
    "\n",
    "TUNE_MODE = True # Enable Optuna tuning\n",
    "N_TRIALS = 20 # Number of trial for Optuna\n",
    "SEED = 42\n",
    "\n",
    "print(f\"TUNE_MODE: {'ON' if TUNE_MODE else 'OFF'} | Optuna Trials: {N_TRIALS}\")"
   ]
  },
  {
   "cell_type": "code",
   "execution_count": null,
   "id": "54d53a96",
   "metadata": {
    "execution": {
     "iopub.execute_input": "2025-10-16T23:30:10.809296Z",
     "iopub.status.busy": "2025-10-16T23:30:10.808807Z",
     "iopub.status.idle": "2025-10-16T23:30:13.834071Z",
     "shell.execute_reply": "2025-10-16T23:30:13.832918Z"
    },
    "papermill": {
     "duration": 3.031262,
     "end_time": "2025-10-16T23:30:13.834826",
     "exception": false,
     "start_time": "2025-10-16T23:30:10.803564",
     "status": "completed"
    },
    "tags": []
   },
   "outputs": [],
   "source": [
    "# Step 1: Import the preprocessed data\n",
    "df_flux = pd.read_csv(base_dir / \"dataset/csv/fluxomics.csv\", index_col=0)"
   ]
  },
  {
   "cell_type": "code",
   "execution_count": null,
   "id": "27d7d29d",
   "metadata": {
    "execution": {
     "iopub.execute_input": "2025-10-16T23:30:13.842162Z",
     "iopub.status.busy": "2025-10-16T23:30:13.841899Z",
     "iopub.status.idle": "2025-10-16T23:30:14.066967Z",
     "shell.execute_reply": "2025-10-16T23:30:14.065768Z"
    },
    "papermill": {
     "duration": 0.230198,
     "end_time": "2025-10-16T23:30:14.068132",
     "exception": false,
     "start_time": "2025-10-16T23:30:13.837934",
     "status": "completed"
    },
    "tags": []
   },
   "outputs": [
    {
     "name": "stdout",
     "output_type": "stream",
     "text": [
      "(51831, 200)\n"
     ]
    }
   ],
   "source": [
    "#  Step 2: Prepare data for ML models\n",
    "\n",
    "#  2.1 Select the top features and remove Exchange reactions\n",
    "\n",
    "# Remove exchange reaction\n",
    "rxns = [c for c in df_flux.columns if c != \"response\" and not c.startswith(\"EX_\")]\n",
    "flux = df_flux[rxns]\n",
    "\n",
    "# Number of top flux features to retain by variance\n",
    "fl_n = 200\n",
    "fl_top = flux.var().sort_values(ascending=False).index[:fl_n]\n",
    "\n",
    "# Build the feature matrix (X) using the selected top fluxes\n",
    "X = flux[fl_top]\n",
    "\n",
    "# Extract target column\n",
    "y = df_flux['response']\n",
    "\n",
    "#  2.2 Encode target variable\n",
    "# Convert categorical response labels to numeric (binary classification)\n",
    "# 'Responder' -> 1, 'Non-responder' -> 0\n",
    "y = y.map({\"Responder\": 1, \"Non-responder\": 0}).astype(np.int8)\n",
    "\n",
    "print(X.shape)"
   ]
  },
  {
   "cell_type": "code",
   "execution_count": null,
   "id": "ddda061c",
   "metadata": {
    "execution": {
     "iopub.execute_input": "2025-10-16T23:30:14.075383Z",
     "iopub.status.busy": "2025-10-16T23:30:14.075105Z",
     "iopub.status.idle": "2025-10-16T23:30:14.407765Z",
     "shell.execute_reply": "2025-10-16T23:30:14.406490Z"
    },
    "papermill": {
     "duration": 0.337695,
     "end_time": "2025-10-16T23:30:14.408835",
     "exception": false,
     "start_time": "2025-10-16T23:30:14.071140",
     "status": "completed"
    },
    "tags": []
   },
   "outputs": [],
   "source": [
    "# 2.3 Split the data into training and test sets\n",
    "# Split dataset into training and test sets (80% train, 20% test)\n",
    "# Stratified split ensures class balance is preserved in both subsets\n",
    "X_train, X_test, y_train, y_test = train_test_split(X, y, test_size=0.2, stratify=y, random_state=SEED)\n",
    "X_train, X_val, y_train, y_val = train_test_split(X_train, y_train, test_size=0.2, stratify=y_train, random_state=SEED)\n",
    "\n",
    "# 2.4 Standardize the features\n",
    "scaler = StandardScaler()\n",
    "\n",
    "# Fit the scaler only on the training data to avoid data leakage\n",
    "X_train = scaler.fit_transform(X_train)\n",
    "\n",
    "# Apply the same transformation to validation and test sets\n",
    "X_test = scaler.transform(X_test)\n",
    "X_val = scaler.transform(X_val)"
   ]
  },
  {
   "cell_type": "code",
   "execution_count": null,
   "id": "f898fb55",
   "metadata": {
    "execution": {
     "iopub.execute_input": "2025-10-16T23:30:14.416447Z",
     "iopub.status.busy": "2025-10-16T23:30:14.416179Z",
     "iopub.status.idle": "2025-10-16T23:30:14.428619Z",
     "shell.execute_reply": "2025-10-16T23:30:14.427578Z"
    },
    "papermill": {
     "duration": 0.017265,
     "end_time": "2025-10-16T23:30:14.429468",
     "exception": false,
     "start_time": "2025-10-16T23:30:14.412203",
     "status": "completed"
    },
    "tags": []
   },
   "outputs": [],
   "source": [
    "# Step 3: Optuna for Hyper-parameter tunning\n",
    "\n",
    "# 3.1 Optuna Objective Functions with class balance\n",
    "\n",
    "# Compute class balance ratio\n",
    "def class_balance(y):\n",
    "    \"\"\"\n",
    "    Compute class imbalance ratio for weighting.\n",
    "    Returns ratio (negative_count / positive_count).\n",
    "    Used to compensate for imbalance in binary classification.\n",
    "    \"\"\"\n",
    "    neg, pos = (y == 0).sum(), (y == 1).sum()\n",
    "    return neg / pos if pos > 0 else 1.0\n",
    "\n",
    "# Logistic Regression Objective Function\n",
    "def tune_logreg(trial, X_train, X_val, y_train, y_val):\n",
    "    \"\"\"\n",
    "    Objective function for tuning Logistic Regression using Optuna.\n",
    "    Hyperparameter: Regularization strength (C).\n",
    "    \"\"\"\n",
    "    C = trial.suggest_float(\"C\", 1e-3, 100, log=True)\n",
    "    w = class_balance(y_train)\n",
    "    model = LogisticRegression(solver=\"lbfgs\", max_iter=1000, C=C, class_weight={0: 1, 1: w})\n",
    "    model.fit(X_train, y_train)\n",
    "    preds = model.predict_proba(X_val)[:, 1]\n",
    "    return roc_auc_score(y_val, preds)\n",
    "\n",
    "# Random Forest Objective Function\n",
    "def tune_rf(trial, X_train, X_val, y_train, y_val):\n",
    "    \"\"\"\n",
    "    Objective function for tuning Random Forest using Optuna.\n",
    "    Tuned hyperparameters include depth, splits, and max features.\n",
    "    \"\"\"\n",
    "    w = class_balance(y_train)\n",
    "    params = {\n",
    "        \"n_estimators\": trial.suggest_int(\"n_estimators\", 200, 800, step=200),\n",
    "        \"max_depth\": trial.suggest_int(\"max_depth\", 6, 16),\n",
    "        \"min_samples_split\": trial.suggest_int(\"min_samples_split\", 2, 6),\n",
    "        \"min_samples_leaf\": trial.suggest_int(\"min_samples_leaf\", 1, 4),\n",
    "        \"max_features\": trial.suggest_categorical(\"max_features\", [\"sqrt\", \"log2\"]),\n",
    "        \"class_weight\": {0: 1, 1: w}\n",
    "    }\n",
    "    model = RandomForestClassifier(random_state=SEED, n_jobs=-1, **params)\n",
    "    model.fit(X_train, y_train)\n",
    "    preds = model.predict_proba(X_val)[:, 1]\n",
    "    return roc_auc_score(y_val, preds)\n",
    "\n",
    "# XGBoost Objective Function\n",
    "def tune_xgb(trial, X_train, X_val, y_train, y_val):\n",
    "    \"\"\"\n",
    "    Objective function for tuning XGBoost using Optuna.\n",
    "    Includes learning rate, depth, and subsampling parameters.\n",
    "    \"\"\"\n",
    "    w = class_balance(y_train)\n",
    "    params = {\n",
    "        \"objective\": \"binary:logistic\",\n",
    "        \"eval_metric\": \"auc\",\n",
    "        \"tree_method\": \"hist\",\n",
    "        \"scale_pos_weight\": w,\n",
    "        \"learning_rate\": trial.suggest_float(\"learning_rate\", 0.01, 0.3, log=True),\n",
    "        \"max_depth\": trial.suggest_int(\"max_depth\", 4, 12),\n",
    "        \"subsample\": trial.suggest_float(\"subsample\", 0.6, 1.0),\n",
    "        \"colsample_bytree\": trial.suggest_float(\"colsample_bytree\", 0.6, 1.0),\n",
    "        \"n_estimators\": trial.suggest_int(\"n_estimators\", 200, 1000, step=200)\n",
    "    }\n",
    "    model = xgb.XGBClassifier(**params, n_jobs=-1, random_state=SEED, verbosity=0)\n",
    "    model.fit(X_train, y_train)\n",
    "    preds = model.predict_proba(X_val)[:, 1]\n",
    "    return roc_auc_score(y_val, preds)\n",
    "\n",
    "# Artificial Neural Network (ANN) Objective Function\n",
    "def tune_ann(trial, X_train, X_val, y_train, y_val):\n",
    "    \"\"\"\n",
    "    Objective function for tuning a simple feed-forward ANN using Optuna.\n",
    "    The model adapts to class imbalance via sample weighting.\n",
    "    \"\"\"\n",
    "    w = class_balance(y_train)\n",
    "    lr = trial.suggest_float(\"lr\", 1e-4, 1e-2, log=True)\n",
    "    dropout = trial.suggest_float(\"dropout\", 0.2, 0.6)\n",
    "    n1 = trial.suggest_int(\"n1\", 32, 128, step=32)\n",
    "    n2 = trial.suggest_int(\"n2\", 16, 64, step=16)\n",
    "\n",
    "    model = models.Sequential([\n",
    "        layers.Input(shape=(X_train.shape[1],)),\n",
    "        layers.Dense(n1, activation=\"relu\"),\n",
    "        layers.Dropout(dropout),\n",
    "        layers.Dense(n2, activation=\"relu\"),\n",
    "        layers.Dense(1, activation=\"sigmoid\")\n",
    "    ])\n",
    "    model.compile(optimizer=optimizers.Adam(learning_rate=lr),\n",
    "                  loss=\"binary_crossentropy\", metrics=[\"accuracy\"])\n",
    "\n",
    "    early = EarlyStopping(patience=5, restore_best_weights=True)\n",
    "    sample_weights = np.where(y_train == 1, w, 1)\n",
    "    model.fit(X_train, y_train, sample_weight=sample_weights,\n",
    "              validation_data=(X_val, y_val),\n",
    "              epochs=30, batch_size=32, verbose=0, callbacks=[early])\n",
    "    preds = model.predict(X_val)\n",
    "    return roc_auc_score(y_val, preds)"
   ]
  },
  {
   "cell_type": "code",
   "execution_count": null,
   "id": "643cabe2",
   "metadata": {
    "execution": {
     "iopub.execute_input": "2025-10-16T23:32:16.212922Z",
     "iopub.status.busy": "2025-10-16T23:32:16.208189Z",
     "iopub.status.idle": "2025-10-16T23:32:16.379196Z",
     "shell.execute_reply": "2025-10-16T23:32:16.377737Z"
    },
    "papermill": {
     "duration": 0.186343,
     "end_time": "2025-10-16T23:32:16.380178",
     "exception": false,
     "start_time": "2025-10-16T23:32:16.193835",
     "status": "completed"
    },
    "tags": []
   },
   "outputs": [
    {
     "name": "stdout",
     "output_type": "stream",
     "text": [
      "\n",
      "[Responder Class Metrics]\n",
      "Accuracy     : 53.15\n",
      "Precision    : 37.31\n",
      "Recall       : 57.71\n",
      "F1 Score     : 45.32\n",
      "ROC AUC Score: 55.35\n",
      "\n",
      "Classification Report:\n",
      "               precision    recall  f1-score   support\n",
      "\n",
      "Non-responder       0.70      0.51      0.59      6879\n",
      "    Responder       0.37      0.58      0.45      3488\n",
      "\n",
      "     accuracy                           0.53     10367\n",
      "    macro avg       0.54      0.54      0.52     10367\n",
      " weighted avg       0.59      0.53      0.54     10367\n",
      "\n"
     ]
    },
    {
     "data": {
      "image/png": "[encoded data removed]",
      "text/plain": [
       "<Figure size 600x500 with 1 Axes>"
      ]
     },
     "metadata": {},
     "output_type": "display_data"
    }
   ],
   "source": [
    "#  3.2 Run hyperparameter tuning and evaluation for Logistic Regression (LR)\n",
    "\n",
    "# Step 1: Compute class balance\n",
    "w = class_balance(y_train)  \n",
    "print(f\"Class balance ratio: neg/pos = {w:.2f}\")\n",
    "\n",
    "# Step 2: Define and run Optuna study\n",
    "name = \"Logistic Regression\"\n",
    "study = optuna.create_study(direction=\"maximize\")\n",
    "study.optimize(lambda trial: tune_logreg(trial, X_train, X_val, y_train, y_val), n_trials=N_TRIALS, show_progress_bar=True)\n",
    "print(f\"{name} best AUC={study.best_value:.3f} | params={study.best_params}\")\n",
    "\n",
    "\n",
    "# Step 3: Refit model on the full training set by best parameters which obtains by Optuna\n",
    "model_lr = LogisticRegression(\n",
    "                    **study.best_params, solver=\"lbfgs\", max_iter=1000, class_weight={0: 1, 1: w}\n",
    "                )\n",
    "model_lr.fit(X_train, y_train)\n",
    "\n",
    "# Step 4: Evaluate on test data\n",
    "# Probability predictions for ROC/AUC\n",
    "y_prob = model_lr.predict_proba(X_test)[:, 1]\n",
    "# Binary predictions using default 0.5 threshold\n",
    "y_pred = model_lr.predict(X_test)\n",
    "\n",
    "# Compute evaluation metrics \n",
    "conf_mat = confusion_matrix(y_test, y_pred)\n",
    "roc = roc_auc_score(y_test, y_prob)\n",
    "precision = precision_score(y_test, y_pred)\n",
    "recall = recall_score(y_test, y_pred)\n",
    "f1 = f1_score(y_test, y_pred)\n",
    "accuracy = accuracy_score(y_test, y_pred)\n",
    "\n",
    "print(f\"\\n[Responder Class Metrics]\")\n",
    "print(f\"Accuracy     : {accuracy * 100:.2f}\")\n",
    "print(f\"Precision    : {precision * 100:.2f}\")\n",
    "print(f\"Recall       : {recall * 100:.2f}\")\n",
    "print(f\"F1 Score     : {f1 * 100:.2f}\")\n",
    "print(f\"ROC AUC Score: {roc * 100:.2f}\")\n",
    "\n",
    "# Classification report\n",
    "print(\"\\nClassification Report:\")\n",
    "print(classification_report(y_test, y_pred, target_names=[\"Non-responder\", \"Responder\"]))\n",
    "\n",
    "#  Step 5: Visualize Confusion Matrix\n",
    "plt.figure(figsize=(6, 5))\n",
    "sns.heatmap(\n",
    "    conf_mat,\n",
    "    annot=True,\n",
    "    fmt='d',\n",
    "    cmap='Blues',\n",
    "    xticklabels=['Non-responder', 'Responder'],\n",
    "    yticklabels=['Non-responder', 'Responder'],\n",
    "    cbar=False,\n",
    "    linewidths=0,\n",
    "    linecolor='white'\n",
    ")\n",
    "plt.title('Confusion Matrix')\n",
    "plt.xlabel('Predicted')\n",
    "plt.ylabel('Actual')\n",
    "plt.show()\n"
   ]
  },
  {
   "cell_type": "code",
   "execution_count": null,
   "id": "07b1ffb3",
   "metadata": {
    "execution": {
     "iopub.execute_input": "2025-10-16T23:32:16.405295Z",
     "iopub.status.busy": "2025-10-16T23:32:16.404952Z",
     "iopub.status.idle": "2025-10-16T23:36:28.136476Z",
     "shell.execute_reply": "2025-10-16T23:36:28.135638Z"
    },
    "papermill": {
     "duration": 251.745715,
     "end_time": "2025-10-16T23:36:28.137639",
     "exception": false,
     "start_time": "2025-10-16T23:32:16.391924",
     "status": "completed"
    },
    "tags": []
   },
   "outputs": [
    {
     "name": "stderr",
     "output_type": "stream",
     "text": [
      "[I 2025-10-16 23:32:16,409] A new study created in memory with name: no-name-ec2c52c5-8015-4626-9463-70d4f6f27d1c\n"
     ]
    },
    {
     "name": "stderr",
     "output_type": "stream",
     "text": [
      "\r\n",
      "  0%|          | 0/20 [00:00<?, ?it/s]"
     ]
    },
    {
     "name": "stderr",
     "output_type": "stream",
     "text": [
      "\r\n",
      "                                      "
     ]
    },
    {
     "name": "stderr",
     "output_type": "stream",
     "text": [
      "\r"
     ]
    },
    {
     "name": "stderr",
     "output_type": "stream",
     "text": [
      "\r\n",
      "  0%|          | 0/20 [00:04<?, ?it/s]"
     ]
    },
    {
     "name": "stderr",
     "output_type": "stream",
     "text": [
      "\r\n",
      "Best trial: 0. Best value: 0.59233:   0%|          | 0/20 [00:04<?, ?it/s]"
     ]
    },
    {
     "name": "stderr",
     "output_type": "stream",
     "text": [
      "\r\n",
      "Best trial: 0. Best value: 0.59233:   5%|▌         | 1/20 [00:04<01:25,  4.51s/it]"
     ]
    },
    {
     "name": "stdout",
     "output_type": "stream",
     "text": [
      "[I 2025-10-16 23:32:20,919] Trial 0 finished with value: 0.5923300552256605 and parameters: {'n_estimators': 400, 'max_depth': 8, 'min_samples_split': 2, 'min_samples_leaf': 3, 'max_features': 'log2'}. Best is trial 0 with value: 0.5923300552256605.\n"
     ]
    },
    {
     "name": "stderr",
     "output_type": "stream",
     "text": [
      "\r\n",
      "                                                                                  "
     ]
    },
    {
     "name": "stderr",
     "output_type": "stream",
     "text": [
      "\r"
     ]
    },
    {
     "name": "stderr",
     "output_type": "stream",
     "text": [
      "\r\n",
      "Best trial: 0. Best value: 0.59233:   5%|▌         | 1/20 [00:08<01:25,  4.51s/it]"
     ]
    },
    {
     "name": "stderr",
     "output_type": "stream",
     "text": [
      "\r\n",
      "Best trial: 1. Best value: 0.592979:   5%|▌         | 1/20 [00:08<01:25,  4.51s/it]"
     ]
    },
    {
     "name": "stderr",
     "output_type": "stream",
     "text": [
      "\r\n",
      "Best trial: 1. Best value: 0.592979:  10%|█         | 2/20 [00:08<01:17,  4.30s/it]"
     ]
    },
    {
     "name": "stdout",
     "output_type": "stream",
     "text": [
      "[I 2025-10-16 23:32:25,069] Trial 1 finished with value: 0.5929788378707737 and parameters: {'n_estimators': 400, 'max_depth': 7, 'min_samples_split': 4, 'min_samples_leaf': 2, 'max_features': 'log2'}. Best is trial 1 with value: 0.5929788378707737.\n"
     ]
    },
    {
     "name": "stderr",
     "output_type": "stream",
     "text": [
      "\r\n",
      "                                                                                   "
     ]
    },
    {
     "name": "stderr",
     "output_type": "stream",
     "text": [
      "\r"
     ]
    },
    {
     "name": "stderr",
     "output_type": "stream",
     "text": [
      "\r\n",
      "Best trial: 1. Best value: 0.592979:  10%|█         | 2/20 [00:18<01:17,  4.30s/it]"
     ]
    },
    {
     "name": "stderr",
     "output_type": "stream",
     "text": [
      "\r\n",
      "Best trial: 1. Best value: 0.592979:  10%|█         | 2/20 [00:18<01:17,  4.30s/it]"
     ]
    },
    {
     "name": "stderr",
     "output_type": "stream",
     "text": [
      "\r\n",
      "Best trial: 1. Best value: 0.592979:  15%|█▌        | 3/20 [00:18<01:54,  6.73s/it]"
     ]
    },
    {
     "name": "stdout",
     "output_type": "stream",
     "text": [
      "[I 2025-10-16 23:32:34,703] Trial 2 finished with value: 0.5928123271959186 and parameters: {'n_estimators': 600, 'max_depth': 13, 'min_samples_split': 6, 'min_samples_leaf': 1, 'max_features': 'log2'}. Best is trial 1 with value: 0.5929788378707737.\n"
     ]
    },
    {
     "name": "stderr",
     "output_type": "stream",
     "text": [
      "\r\n",
      "                                                                                   "
     ]
    },
    {
     "name": "stderr",
     "output_type": "stream",
     "text": [
      "\r"
     ]
    },
    {
     "name": "stderr",
     "output_type": "stream",
     "text": [
      "\r\n",
      "Best trial: 1. Best value: 0.592979:  15%|█▌        | 3/20 [00:21<01:54,  6.73s/it]"
     ]
    },
    {
     "name": "stderr",
     "output_type": "stream",
     "text": [
      "\r\n",
      "Best trial: 3. Best value: 0.594733:  15%|█▌        | 3/20 [00:21<01:54,  6.73s/it]"
     ]
    },
    {
     "name": "stderr",
     "output_type": "stream",
     "text": [
      "\r\n",
      "Best trial: 3. Best value: 0.594733:  20%|██        | 4/20 [00:21<01:22,  5.19s/it]"
     ]
    },
    {
     "name": "stdout",
     "output_type": "stream",
     "text": [
      "[I 2025-10-16 23:32:37,512] Trial 3 finished with value: 0.5947325245206753 and parameters: {'n_estimators': 200, 'max_depth': 10, 'min_samples_split': 5, 'min_samples_leaf': 1, 'max_features': 'log2'}. Best is trial 3 with value: 0.5947325245206753.\n"
     ]
    },
    {
     "name": "stderr",
     "output_type": "stream",
     "text": [
      "\r\n",
      "                                                                                   "
     ]
    },
    {
     "name": "stderr",
     "output_type": "stream",
     "text": [
      "\r"
     ]
    },
    {
     "name": "stderr",
     "output_type": "stream",
     "text": [
      "\r\n",
      "Best trial: 3. Best value: 0.594733:  20%|██        | 4/20 [00:23<01:22,  5.19s/it]"
     ]
    },
    {
     "name": "stderr",
     "output_type": "stream",
     "text": [
      "\r\n",
      "Best trial: 3. Best value: 0.594733:  20%|██        | 4/20 [00:23<01:22,  5.19s/it]"
     ]
    },
    {
     "name": "stderr",
     "output_type": "stream",
     "text": [
      "\r\n",
      "Best trial: 3. Best value: 0.594733:  25%|██▌       | 5/20 [00:23<00:59,  4.00s/it]"
     ]
    },
    {
     "name": "stdout",
     "output_type": "stream",
     "text": [
      "[I 2025-10-16 23:32:39,411] Trial 4 finished with value: 0.5891095896210409 and parameters: {'n_estimators': 200, 'max_depth': 6, 'min_samples_split': 3, 'min_samples_leaf': 2, 'max_features': 'log2'}. Best is trial 3 with value: 0.5947325245206753.\n"
     ]
    },
    {
     "name": "stderr",
     "output_type": "stream",
     "text": [
      "\r\n",
      "                                                                                   "
     ]
    },
    {
     "name": "stderr",
     "output_type": "stream",
     "text": [
      "\r"
     ]
    },
    {
     "name": "stderr",
     "output_type": "stream",
     "text": [
      "\r\n",
      "Best trial: 3. Best value: 0.594733:  25%|██▌       | 5/20 [00:30<00:59,  4.00s/it]"
     ]
    },
    {
     "name": "stderr",
     "output_type": "stream",
     "text": [
      "\r\n",
      "Best trial: 3. Best value: 0.594733:  25%|██▌       | 5/20 [00:30<00:59,  4.00s/it]"
     ]
    },
    {
     "name": "stderr",
     "output_type": "stream",
     "text": [
      "\r\n",
      "Best trial: 3. Best value: 0.594733:  30%|███       | 6/20 [00:30<01:10,  5.06s/it]"
     ]
    },
    {
     "name": "stdout",
     "output_type": "stream",
     "text": [
      "[I 2025-10-16 23:32:46,544] Trial 5 finished with value: 0.589050091282891 and parameters: {'n_estimators': 400, 'max_depth': 15, 'min_samples_split': 6, 'min_samples_leaf': 2, 'max_features': 'log2'}. Best is trial 3 with value: 0.5947325245206753.\n"
     ]
    },
    {
     "name": "stderr",
     "output_type": "stream",
     "text": [
      "\r\n",
      "                                                                                   "
     ]
    },
    {
     "name": "stderr",
     "output_type": "stream",
     "text": [
      "\r"
     ]
    },
    {
     "name": "stderr",
     "output_type": "stream",
     "text": [
      "\r\n",
      "Best trial: 3. Best value: 0.594733:  30%|███       | 6/20 [00:41<01:10,  5.06s/it]"
     ]
    },
    {
     "name": "stderr",
     "output_type": "stream",
     "text": [
      "\r\n",
      "Best trial: 3. Best value: 0.594733:  30%|███       | 6/20 [00:41<01:10,  5.06s/it]"
     ]
    },
    {
     "name": "stderr",
     "output_type": "stream",
     "text": [
      "\r\n",
      "Best trial: 3. Best value: 0.594733:  35%|███▌      | 7/20 [00:41<01:30,  6.97s/it]"
     ]
    },
    {
     "name": "stdout",
     "output_type": "stream",
     "text": [
      "[I 2025-10-16 23:32:57,431] Trial 6 finished with value: 0.589075036946286 and parameters: {'n_estimators': 600, 'max_depth': 16, 'min_samples_split': 5, 'min_samples_leaf': 3, 'max_features': 'log2'}. Best is trial 3 with value: 0.5947325245206753.\n"
     ]
    },
    {
     "name": "stderr",
     "output_type": "stream",
     "text": [
      "\r\n",
      "                                                                                   "
     ]
    },
    {
     "name": "stderr",
     "output_type": "stream",
     "text": [
      "\r"
     ]
    },
    {
     "name": "stderr",
     "output_type": "stream",
     "text": [
      "\r\n",
      "Best trial: 3. Best value: 0.594733:  35%|███▌      | 7/20 [00:54<01:30,  6.97s/it]"
     ]
    },
    {
     "name": "stderr",
     "output_type": "stream",
     "text": [
      "\r\n",
      "Best trial: 7. Best value: 0.594827:  35%|███▌      | 7/20 [00:54<01:30,  6.97s/it]"
     ]
    },
    {
     "name": "stderr",
     "output_type": "stream",
     "text": [
      "\r\n",
      "Best trial: 7. Best value: 0.594827:  40%|████      | 8/20 [00:54<01:50,  9.19s/it]"
     ]
    },
    {
     "name": "stdout",
     "output_type": "stream",
     "text": [
      "[I 2025-10-16 23:33:11,366] Trial 7 finished with value: 0.5948270965918232 and parameters: {'n_estimators': 800, 'max_depth': 7, 'min_samples_split': 4, 'min_samples_leaf': 2, 'max_features': 'sqrt'}. Best is trial 7 with value: 0.5948270965918232.\n"
     ]
    },
    {
     "name": "stderr",
     "output_type": "stream",
     "text": [
      "\r\n",
      "                                                                                   "
     ]
    },
    {
     "name": "stderr",
     "output_type": "stream",
     "text": [
      "\r"
     ]
    },
    {
     "name": "stderr",
     "output_type": "stream",
     "text": [
      "\r\n",
      "Best trial: 7. Best value: 0.594827:  40%|████      | 8/20 [01:13<01:50,  9.19s/it]"
     ]
    },
    {
     "name": "stderr",
     "output_type": "stream",
     "text": [
      "\r\n",
      "Best trial: 8. Best value: 0.596033:  40%|████      | 8/20 [01:13<01:50,  9.19s/it]"
     ]
    },
    {
     "name": "stderr",
     "output_type": "stream",
     "text": [
      "\r\n",
      "Best trial: 8. Best value: 0.596033:  45%|████▌     | 9/20 [01:13<02:14, 12.22s/it]"
     ]
    },
    {
     "name": "stdout",
     "output_type": "stream",
     "text": [
      "[I 2025-10-16 23:33:30,256] Trial 8 finished with value: 0.5960329881973795 and parameters: {'n_estimators': 800, 'max_depth': 10, 'min_samples_split': 2, 'min_samples_leaf': 2, 'max_features': 'sqrt'}. Best is trial 8 with value: 0.5960329881973795.\n"
     ]
    },
    {
     "name": "stderr",
     "output_type": "stream",
     "text": [
      "\r\n",
      "                                                                                   "
     ]
    },
    {
     "name": "stderr",
     "output_type": "stream",
     "text": [
      "\r"
     ]
    },
    {
     "name": "stderr",
     "output_type": "stream",
     "text": [
      "\r\n",
      "Best trial: 8. Best value: 0.596033:  45%|████▌     | 9/20 [01:16<02:14, 12.22s/it]"
     ]
    },
    {
     "name": "stderr",
     "output_type": "stream",
     "text": [
      "\r\n",
      "Best trial: 8. Best value: 0.596033:  45%|████▌     | 9/20 [01:16<02:14, 12.22s/it]"
     ]
    },
    {
     "name": "stderr",
     "output_type": "stream",
     "text": [
      "\r\n",
      "Best trial: 8. Best value: 0.596033:  50%|█████     | 10/20 [01:16<01:31,  9.17s/it]"
     ]
    },
    {
     "name": "stdout",
     "output_type": "stream",
     "text": [
      "[I 2025-10-16 23:33:32,601] Trial 9 finished with value: 0.5937880087563838 and parameters: {'n_estimators': 200, 'max_depth': 8, 'min_samples_split': 5, 'min_samples_leaf': 2, 'max_features': 'log2'}. Best is trial 8 with value: 0.5960329881973795.\n"
     ]
    },
    {
     "name": "stderr",
     "output_type": "stream",
     "text": [
      "\r\n",
      "                                                                                    "
     ]
    },
    {
     "name": "stderr",
     "output_type": "stream",
     "text": [
      "\r"
     ]
    },
    {
     "name": "stderr",
     "output_type": "stream",
     "text": [
      "\r\n",
      "Best trial: 8. Best value: 0.596033:  50%|█████     | 10/20 [01:36<01:31,  9.17s/it]"
     ]
    },
    {
     "name": "stderr",
     "output_type": "stream",
     "text": [
      "\r\n",
      "Best trial: 8. Best value: 0.596033:  50%|█████     | 10/20 [01:36<01:31,  9.17s/it]"
     ]
    },
    {
     "name": "stderr",
     "output_type": "stream",
     "text": [
      "\r\n",
      "Best trial: 8. Best value: 0.596033:  55%|█████▌    | 11/20 [01:36<01:54, 12.69s/it]"
     ]
    },
    {
     "name": "stdout",
     "output_type": "stream",
     "text": [
      "[I 2025-10-16 23:33:53,278] Trial 10 finished with value: 0.5959832271351502 and parameters: {'n_estimators': 800, 'max_depth': 11, 'min_samples_split': 2, 'min_samples_leaf': 4, 'max_features': 'sqrt'}. Best is trial 8 with value: 0.5960329881973795.\n"
     ]
    },
    {
     "name": "stderr",
     "output_type": "stream",
     "text": [
      "\r\n",
      "                                                                                    "
     ]
    },
    {
     "name": "stderr",
     "output_type": "stream",
     "text": [
      "\r"
     ]
    },
    {
     "name": "stderr",
     "output_type": "stream",
     "text": [
      "\r\n",
      "Best trial: 8. Best value: 0.596033:  55%|█████▌    | 11/20 [01:57<01:54, 12.69s/it]"
     ]
    },
    {
     "name": "stderr",
     "output_type": "stream",
     "text": [
      "\r\n",
      "Best trial: 8. Best value: 0.596033:  55%|█████▌    | 11/20 [01:57<01:54, 12.69s/it]"
     ]
    },
    {
     "name": "stderr",
     "output_type": "stream",
     "text": [
      "\r\n",
      "Best trial: 8. Best value: 0.596033:  60%|██████    | 12/20 [01:57<02:00, 15.09s/it]"
     ]
    },
    {
     "name": "stdout",
     "output_type": "stream",
     "text": [
      "[I 2025-10-16 23:34:13,846] Trial 11 finished with value: 0.5959832271351502 and parameters: {'n_estimators': 800, 'max_depth': 11, 'min_samples_split': 2, 'min_samples_leaf': 4, 'max_features': 'sqrt'}. Best is trial 8 with value: 0.5960329881973795.\n"
     ]
    },
    {
     "name": "stderr",
     "output_type": "stream",
     "text": [
      "\r\n",
      "                                                                                    "
     ]
    },
    {
     "name": "stderr",
     "output_type": "stream",
     "text": [
      "\r"
     ]
    },
    {
     "name": "stderr",
     "output_type": "stream",
     "text": [
      "\r\n",
      "Best trial: 8. Best value: 0.596033:  60%|██████    | 12/20 [02:20<02:00, 15.09s/it]"
     ]
    },
    {
     "name": "stderr",
     "output_type": "stream",
     "text": [
      "\r\n",
      "Best trial: 8. Best value: 0.596033:  60%|██████    | 12/20 [02:20<02:00, 15.09s/it]"
     ]
    },
    {
     "name": "stderr",
     "output_type": "stream",
     "text": [
      "\r\n",
      "Best trial: 8. Best value: 0.596033:  65%|██████▌   | 13/20 [02:20<02:02, 17.47s/it]"
     ]
    },
    {
     "name": "stdout",
     "output_type": "stream",
     "text": [
      "[I 2025-10-16 23:34:36,793] Trial 12 finished with value: 0.5939198364919233 and parameters: {'n_estimators': 800, 'max_depth': 13, 'min_samples_split': 2, 'min_samples_leaf': 4, 'max_features': 'sqrt'}. Best is trial 8 with value: 0.5960329881973795.\n"
     ]
    },
    {
     "name": "stderr",
     "output_type": "stream",
     "text": [
      "\r\n",
      "                                                                                    "
     ]
    },
    {
     "name": "stderr",
     "output_type": "stream",
     "text": [
      "\r"
     ]
    },
    {
     "name": "stderr",
     "output_type": "stream",
     "text": [
      "\r\n",
      "Best trial: 8. Best value: 0.596033:  65%|██████▌   | 13/20 [02:34<02:02, 17.47s/it]"
     ]
    },
    {
     "name": "stderr",
     "output_type": "stream",
     "text": [
      "\r\n",
      "Best trial: 13. Best value: 0.597481:  65%|██████▌   | 13/20 [02:34<02:02, 17.47s/it]"
     ]
    },
    {
     "name": "stderr",
     "output_type": "stream",
     "text": [
      "\r\n",
      "Best trial: 13. Best value: 0.597481:  70%|███████   | 14/20 [02:34<01:39, 16.52s/it]"
     ]
    },
    {
     "name": "stdout",
     "output_type": "stream",
     "text": [
      "[I 2025-10-16 23:34:51,114] Trial 13 finished with value: 0.5974812044521821 and parameters: {'n_estimators': 600, 'max_depth': 10, 'min_samples_split': 3, 'min_samples_leaf': 3, 'max_features': 'sqrt'}. Best is trial 13 with value: 0.5974812044521821.\n"
     ]
    },
    {
     "name": "stderr",
     "output_type": "stream",
     "text": [
      "\r\n",
      "                                                                                     "
     ]
    },
    {
     "name": "stderr",
     "output_type": "stream",
     "text": [
      "\r"
     ]
    },
    {
     "name": "stderr",
     "output_type": "stream",
     "text": [
      "\r\n",
      "Best trial: 13. Best value: 0.597481:  70%|███████   | 14/20 [02:48<01:39, 16.52s/it]"
     ]
    },
    {
     "name": "stderr",
     "output_type": "stream",
     "text": [
      "\r\n",
      "Best trial: 13. Best value: 0.597481:  70%|███████   | 14/20 [02:48<01:39, 16.52s/it]"
     ]
    },
    {
     "name": "stderr",
     "output_type": "stream",
     "text": [
      "\r\n",
      "Best trial: 13. Best value: 0.597481:  75%|███████▌  | 15/20 [02:48<01:17, 15.58s/it]"
     ]
    },
    {
     "name": "stdout",
     "output_type": "stream",
     "text": [
      "[I 2025-10-16 23:35:04,503] Trial 14 finished with value: 0.5970673539424894 and parameters: {'n_estimators': 600, 'max_depth': 9, 'min_samples_split': 3, 'min_samples_leaf': 3, 'max_features': 'sqrt'}. Best is trial 13 with value: 0.5974812044521821.\n"
     ]
    },
    {
     "name": "stderr",
     "output_type": "stream",
     "text": [
      "\r\n",
      "                                                                                     "
     ]
    },
    {
     "name": "stderr",
     "output_type": "stream",
     "text": [
      "\r"
     ]
    },
    {
     "name": "stderr",
     "output_type": "stream",
     "text": [
      "\r\n",
      "Best trial: 13. Best value: 0.597481:  75%|███████▌  | 15/20 [03:01<01:17, 15.58s/it]"
     ]
    },
    {
     "name": "stderr",
     "output_type": "stream",
     "text": [
      "\r\n",
      "Best trial: 13. Best value: 0.597481:  75%|███████▌  | 15/20 [03:01<01:17, 15.58s/it]"
     ]
    },
    {
     "name": "stderr",
     "output_type": "stream",
     "text": [
      "\r\n",
      "Best trial: 13. Best value: 0.597481:  80%|████████  | 16/20 [03:01<00:59, 14.89s/it]"
     ]
    },
    {
     "name": "stdout",
     "output_type": "stream",
     "text": [
      "[I 2025-10-16 23:35:17,811] Trial 15 finished with value: 0.5970673539424894 and parameters: {'n_estimators': 600, 'max_depth': 9, 'min_samples_split': 3, 'min_samples_leaf': 3, 'max_features': 'sqrt'}. Best is trial 13 with value: 0.5974812044521821.\n"
     ]
    },
    {
     "name": "stderr",
     "output_type": "stream",
     "text": [
      "\r\n",
      "                                                                                     "
     ]
    },
    {
     "name": "stderr",
     "output_type": "stream",
     "text": [
      "\r"
     ]
    },
    {
     "name": "stderr",
     "output_type": "stream",
     "text": [
      "\r\n",
      "Best trial: 13. Best value: 0.597481:  80%|████████  | 16/20 [03:17<00:59, 14.89s/it]"
     ]
    },
    {
     "name": "stderr",
     "output_type": "stream",
     "text": [
      "\r\n",
      "Best trial: 13. Best value: 0.597481:  80%|████████  | 16/20 [03:17<00:59, 14.89s/it]"
     ]
    },
    {
     "name": "stderr",
     "output_type": "stream",
     "text": [
      "\r\n",
      "Best trial: 13. Best value: 0.597481:  85%|████████▌ | 17/20 [03:17<00:46, 15.40s/it]"
     ]
    },
    {
     "name": "stdout",
     "output_type": "stream",
     "text": [
      "[I 2025-10-16 23:35:34,385] Trial 16 finished with value: 0.5945741553808708 and parameters: {'n_estimators': 600, 'max_depth': 12, 'min_samples_split': 3, 'min_samples_leaf': 3, 'max_features': 'sqrt'}. Best is trial 13 with value: 0.5974812044521821.\n"
     ]
    },
    {
     "name": "stderr",
     "output_type": "stream",
     "text": [
      "\r\n",
      "                                                                                     "
     ]
    },
    {
     "name": "stderr",
     "output_type": "stream",
     "text": [
      "\r"
     ]
    },
    {
     "name": "stderr",
     "output_type": "stream",
     "text": [
      "\r\n",
      "Best trial: 13. Best value: 0.597481:  85%|████████▌ | 17/20 [03:31<00:46, 15.40s/it]"
     ]
    },
    {
     "name": "stderr",
     "output_type": "stream",
     "text": [
      "\r\n",
      "Best trial: 13. Best value: 0.597481:  85%|████████▌ | 17/20 [03:31<00:46, 15.40s/it]"
     ]
    },
    {
     "name": "stderr",
     "output_type": "stream",
     "text": [
      "\r\n",
      "Best trial: 13. Best value: 0.597481:  90%|█████████ | 18/20 [03:31<00:29, 14.74s/it]"
     ]
    },
    {
     "name": "stdout",
     "output_type": "stream",
     "text": [
      "[I 2025-10-16 23:35:47,602] Trial 17 finished with value: 0.5970673539424894 and parameters: {'n_estimators': 600, 'max_depth': 9, 'min_samples_split': 3, 'min_samples_leaf': 3, 'max_features': 'sqrt'}. Best is trial 13 with value: 0.5974812044521821.\n"
     ]
    },
    {
     "name": "stderr",
     "output_type": "stream",
     "text": [
      "\r\n",
      "                                                                                     "
     ]
    },
    {
     "name": "stderr",
     "output_type": "stream",
     "text": [
      "\r"
     ]
    },
    {
     "name": "stderr",
     "output_type": "stream",
     "text": [
      "\r\n",
      "Best trial: 13. Best value: 0.597481:  90%|█████████ | 18/20 [03:42<00:29, 14.74s/it]"
     ]
    },
    {
     "name": "stderr",
     "output_type": "stream",
     "text": [
      "\r\n",
      "Best trial: 13. Best value: 0.597481:  90%|█████████ | 18/20 [03:42<00:29, 14.74s/it]"
     ]
    },
    {
     "name": "stderr",
     "output_type": "stream",
     "text": [
      "\r\n",
      "Best trial: 13. Best value: 0.597481:  95%|█████████▌| 19/20 [03:42<00:13, 13.84s/it]"
     ]
    },
    {
     "name": "stdout",
     "output_type": "stream",
     "text": [
      "[I 2025-10-16 23:35:59,339] Trial 18 finished with value: 0.5934403977758629 and parameters: {'n_estimators': 400, 'max_depth': 13, 'min_samples_split': 4, 'min_samples_leaf': 4, 'max_features': 'sqrt'}. Best is trial 13 with value: 0.5974812044521821.\n"
     ]
    },
    {
     "name": "stderr",
     "output_type": "stream",
     "text": [
      "\r\n",
      "                                                                                     "
     ]
    },
    {
     "name": "stderr",
     "output_type": "stream",
     "text": [
      "\r"
     ]
    },
    {
     "name": "stderr",
     "output_type": "stream",
     "text": [
      "\r\n",
      "Best trial: 13. Best value: 0.597481:  95%|█████████▌| 19/20 [03:57<00:13, 13.84s/it]"
     ]
    },
    {
     "name": "stderr",
     "output_type": "stream",
     "text": [
      "\r\n",
      "Best trial: 13. Best value: 0.597481:  95%|█████████▌| 19/20 [03:57<00:13, 13.84s/it]"
     ]
    },
    {
     "name": "stderr",
     "output_type": "stream",
     "text": [
      "\r\n",
      "Best trial: 13. Best value: 0.597481: 100%|██████████| 20/20 [03:57<00:00, 14.03s/it]"
     ]
    },
    {
     "name": "stderr",
     "output_type": "stream",
     "text": [
      "\r\n",
      "Best trial: 13. Best value: 0.597481: 100%|██████████| 20/20 [03:57<00:00, 11.87s/it]"
     ]
    },
    {
     "name": "stderr",
     "output_type": "stream",
     "text": [
      "\n"
     ]
    },
    {
     "name": "stdout",
     "output_type": "stream",
     "text": [
      "[I 2025-10-16 23:36:13,796] Trial 19 finished with value: 0.5974812044521821 and parameters: {'n_estimators': 600, 'max_depth': 10, 'min_samples_split': 3, 'min_samples_leaf': 3, 'max_features': 'sqrt'}. Best is trial 13 with value: 0.5974812044521821.\n",
      "✅ RF best AUC=0.597 | params={'n_estimators': 600, 'max_depth': 10, 'min_samples_split': 3, 'min_samples_leaf': 3, 'max_features': 'sqrt'}\n"
     ]
    },
    {
     "name": "stdout",
     "output_type": "stream",
     "text": [
      "\n",
      "[Responder Class Metrics]\n",
      "Accuracy     : 53.15\n",
      "Precision    : 37.31\n",
      "Recall       : 57.71\n",
      "F1 Score     : 45.32\n",
      "ROC AUC Score: 55.35\n",
      "\n",
      "Classification Report:\n",
      "               precision    recall  f1-score   support\n",
      "\n",
      "Non-responder       0.70      0.51      0.59      6879\n",
      "    Responder       0.37      0.58      0.45      3488\n",
      "\n",
      "     accuracy                           0.53     10367\n",
      "    macro avg       0.54      0.54      0.52     10367\n",
      " weighted avg       0.59      0.53      0.54     10367\n",
      "\n"
     ]
    },
    {
     "data": {
      "image/png": "[encoded data removed]",
      "text/plain": [
       "<Figure size 600x500 with 1 Axes>"
      ]
     },
     "metadata": {},
     "output_type": "display_data"
    }
   ],
   "source": [
    "#  3.3 Run hyperparameter tuning and evaluation for Random Forest (RF)\n",
    "\n",
    "# Step 1: Define and run Optuna study\n",
    "name = \"RF\"\n",
    "study_rf = optuna.create_study(direction=\"maximize\")\n",
    "study_rf.optimize(lambda trial: tune_rf(trial, X_train, X_val, y_train, y_val), n_trials=N_TRIALS, show_progress_bar=True)\n",
    "print(f\"✅ {name} best AUC={study_rf.best_value:.3f} | params={study_rf.best_params}\")\n",
    "\n",
    "\n",
    "# Step 2: Refit model on the full training set by best parameters which obtains by Optuna\n",
    "model_rf = RandomForestClassifier(**study_rf.best_params, random_state=SEED, n_jobs=-1, class_weight={0: 1, 1: w})\n",
    "model_rf.fit(X_train, y_train)\n",
    "\n",
    "# Step 3: Evaluate on test data\n",
    "# Probability predictions for ROC/AUC\n",
    "y_prob_rf = model_lr.predict_proba(X_test)[:, 1]\n",
    "# Binary predictions using default 0.5 threshold\n",
    "y_pred_rf = model_lr.predict(X_test)   \n",
    "\n",
    "# Compute evaluation metrics \n",
    "conf_mat = confusion_matrix(y_test, y_pred_rf)\n",
    "roc = roc_auc_score(y_test, y_prob_rf)\n",
    "precision = precision_score(y_test, y_pred_rf)\n",
    "recall = recall_score(y_test, y_pred_rf)\n",
    "f1 = f1_score(y_test, y_pred_rf)\n",
    "accuracy = accuracy_score(y_test, y_pred_rf)\n",
    "\n",
    "print(f\"\\n[Responder Class Metrics]\")\n",
    "print(f\"Accuracy     : {accuracy * 100:.2f}\")\n",
    "print(f\"Precision    : {precision * 100:.2f}\")\n",
    "print(f\"Recall       : {recall * 100:.2f}\")\n",
    "print(f\"F1 Score     : {f1 * 100:.2f}\")\n",
    "print(f\"ROC AUC Score: {roc * 100:.2f}\")\n",
    "\n",
    "# Classification report\n",
    "print(\"\\nClassification Report:\")\n",
    "print(classification_report(y_test, y_pred_rf, target_names=[\"Non-responder\", \"Responder\"]))\n",
    "\n",
    "#  Step 4: Visualize Confusion Matrix\n",
    "plt.figure(figsize=(6, 5))\n",
    "sns.heatmap(\n",
    "    conf_mat,\n",
    "    annot=True,\n",
    "    fmt='d',\n",
    "    cmap='Blues',\n",
    "    xticklabels=['Non-responder', 'Responder'],\n",
    "    yticklabels=['Non-responder', 'Responder'],\n",
    "    cbar=False,\n",
    "    linewidths=0,\n",
    "    linecolor='white'\n",
    ")\n",
    "plt.title('Confusion Matrix')\n",
    "plt.xlabel('Predicted')\n",
    "plt.ylabel('Actual')\n",
    "plt.show()\n"
   ]
  },
  {
   "cell_type": "code",
   "execution_count": null,
   "id": "300deba1",
   "metadata": {
    "execution": {
     "iopub.execute_input": "2025-10-16T23:36:28.177351Z",
     "iopub.status.busy": "2025-10-16T23:36:28.177100Z",
     "iopub.status.idle": "2025-10-16T23:44:30.798771Z",
     "shell.execute_reply": "2025-10-16T23:44:30.797327Z"
    },
    "papermill": {
     "duration": 482.646267,
     "end_time": "2025-10-16T23:44:30.799577",
     "exception": false,
     "start_time": "2025-10-16T23:36:28.153310",
     "status": "completed"
    },
    "tags": []
   },
   "outputs": [
    {
     "name": "stderr",
     "output_type": "stream",
     "text": [
      "[I 2025-10-16 23:36:28,181] A new study created in memory with name: no-name-af5e37e6-03a3-45bd-b9d1-e8a958cf69e3\n"
     ]
    },
    {
     "name": "stderr",
     "output_type": "stream",
     "text": [
      "\r\n",
      "  0%|          | 0/20 [00:00<?, ?it/s]"
     ]
    },
    {
     "name": "stderr",
     "output_type": "stream",
     "text": [
      "\r\n",
      "                                      "
     ]
    },
    {
     "name": "stderr",
     "output_type": "stream",
     "text": [
      "\r"
     ]
    },
    {
     "name": "stderr",
     "output_type": "stream",
     "text": [
      "\r\n",
      "  0%|          | 0/20 [00:56<?, ?it/s]"
     ]
    },
    {
     "name": "stderr",
     "output_type": "stream",
     "text": [
      "\r\n",
      "Best trial: 0. Best value: 0.566736:   0%|          | 0/20 [00:56<?, ?it/s]"
     ]
    },
    {
     "name": "stderr",
     "output_type": "stream",
     "text": [
      "\r\n",
      "Best trial: 0. Best value: 0.566736:   5%|▌         | 1/20 [00:56<17:44, 56.05s/it]"
     ]
    },
    {
     "name": "stdout",
     "output_type": "stream",
     "text": [
      "[I 2025-10-16 23:37:24,230] Trial 0 finished with value: 0.5667363582066999 and parameters: {'learning_rate': 0.037541287906256986, 'max_depth': 11, 'subsample': 0.7484091879449571, 'colsample_bytree': 0.7685165500728114, 'n_estimators': 800}. Best is trial 0 with value: 0.5667363582066999.\n"
     ]
    },
    {
     "name": "stderr",
     "output_type": "stream",
     "text": [
      "\r\n",
      "                                                                                   "
     ]
    },
    {
     "name": "stderr",
     "output_type": "stream",
     "text": [
      "\r"
     ]
    },
    {
     "name": "stderr",
     "output_type": "stream",
     "text": [
      "\r\n",
      "Best trial: 0. Best value: 0.566736:   5%|▌         | 1/20 [01:05<17:44, 56.05s/it]"
     ]
    },
    {
     "name": "stderr",
     "output_type": "stream",
     "text": [
      "\r\n",
      "Best trial: 0. Best value: 0.566736:   5%|▌         | 1/20 [01:05<17:44, 56.05s/it]"
     ]
    },
    {
     "name": "stderr",
     "output_type": "stream",
     "text": [
      "\r\n",
      "Best trial: 0. Best value: 0.566736:  10%|█         | 2/20 [01:05<08:32, 28.48s/it]"
     ]
    },
    {
     "name": "stdout",
     "output_type": "stream",
     "text": [
      "[I 2025-10-16 23:37:33,400] Trial 1 finished with value: 0.5630745237039164 and parameters: {'learning_rate': 0.19427196181942097, 'max_depth': 4, 'subsample': 0.809823734922676, 'colsample_bytree': 0.8363353804083137, 'n_estimators': 600}. Best is trial 0 with value: 0.5667363582066999.\n"
     ]
    },
    {
     "name": "stderr",
     "output_type": "stream",
     "text": [
      "\r\n",
      "                                                                                   "
     ]
    },
    {
     "name": "stderr",
     "output_type": "stream",
     "text": [
      "\r"
     ]
    },
    {
     "name": "stderr",
     "output_type": "stream",
     "text": [
      "\r\n",
      "Best trial: 0. Best value: 0.566736:  10%|█         | 2/20 [01:30<08:32, 28.48s/it]"
     ]
    },
    {
     "name": "stderr",
     "output_type": "stream",
     "text": [
      "\r\n",
      "Best trial: 2. Best value: 0.590994:  10%|█         | 2/20 [01:30<08:32, 28.48s/it]"
     ]
    },
    {
     "name": "stderr",
     "output_type": "stream",
     "text": [
      "\r\n",
      "Best trial: 2. Best value: 0.590994:  15%|█▌        | 3/20 [01:30<07:41, 27.13s/it]"
     ]
    },
    {
     "name": "stdout",
     "output_type": "stream",
     "text": [
      "[I 2025-10-16 23:37:58,941] Trial 2 finished with value: 0.5909938664931543 and parameters: {'learning_rate': 0.019347644440320146, 'max_depth': 6, 'subsample': 0.7813178254622261, 'colsample_bytree': 0.9582333342181107, 'n_estimators': 1000}. Best is trial 2 with value: 0.5909938664931543.\n"
     ]
    },
    {
     "name": "stderr",
     "output_type": "stream",
     "text": [
      "\r\n",
      "                                                                                   "
     ]
    },
    {
     "name": "stderr",
     "output_type": "stream",
     "text": [
      "\r"
     ]
    },
    {
     "name": "stderr",
     "output_type": "stream",
     "text": [
      "\r\n",
      "Best trial: 2. Best value: 0.590994:  15%|█▌        | 3/20 [03:10<07:41, 27.13s/it]"
     ]
    },
    {
     "name": "stderr",
     "output_type": "stream",
     "text": [
      "\r\n",
      "Best trial: 2. Best value: 0.590994:  15%|█▌        | 3/20 [03:10<07:41, 27.13s/it]"
     ]
    },
    {
     "name": "stderr",
     "output_type": "stream",
     "text": [
      "\r\n",
      "Best trial: 2. Best value: 0.590994:  20%|██        | 4/20 [03:10<14:54, 55.89s/it]"
     ]
    },
    {
     "name": "stdout",
     "output_type": "stream",
     "text": [
      "[I 2025-10-16 23:39:38,904] Trial 3 finished with value: 0.5800676984922528 and parameters: {'learning_rate': 0.010000715440388792, 'max_depth': 12, 'subsample': 0.7583152764623932, 'colsample_bytree': 0.9993822838509441, 'n_estimators': 1000}. Best is trial 2 with value: 0.5909938664931543.\n"
     ]
    },
    {
     "name": "stderr",
     "output_type": "stream",
     "text": [
      "\r\n",
      "                                                                                   "
     ]
    },
    {
     "name": "stderr",
     "output_type": "stream",
     "text": [
      "\r"
     ]
    },
    {
     "name": "stderr",
     "output_type": "stream",
     "text": [
      "\r\n",
      "Best trial: 2. Best value: 0.590994:  20%|██        | 4/20 [03:29<14:54, 55.89s/it]"
     ]
    },
    {
     "name": "stderr",
     "output_type": "stream",
     "text": [
      "\r\n",
      "Best trial: 2. Best value: 0.590994:  20%|██        | 4/20 [03:29<14:54, 55.89s/it]"
     ]
    },
    {
     "name": "stderr",
     "output_type": "stream",
     "text": [
      "\r\n",
      "Best trial: 2. Best value: 0.590994:  25%|██▌       | 5/20 [03:29<10:40, 42.68s/it]"
     ]
    },
    {
     "name": "stdout",
     "output_type": "stream",
     "text": [
      "[I 2025-10-16 23:39:58,159] Trial 4 finished with value: 0.5549170963768866 and parameters: {'learning_rate': 0.23548073930023422, 'max_depth': 9, 'subsample': 0.6989713104318098, 'colsample_bytree': 0.910405966583532, 'n_estimators': 400}. Best is trial 2 with value: 0.5909938664931543.\n"
     ]
    },
    {
     "name": "stderr",
     "output_type": "stream",
     "text": [
      "\r\n",
      "                                                                                   "
     ]
    },
    {
     "name": "stderr",
     "output_type": "stream",
     "text": [
      "\r"
     ]
    },
    {
     "name": "stderr",
     "output_type": "stream",
     "text": [
      "\r\n",
      "Best trial: 2. Best value: 0.590994:  25%|██▌       | 5/20 [04:01<10:40, 42.68s/it]"
     ]
    },
    {
     "name": "stderr",
     "output_type": "stream",
     "text": [
      "\r\n",
      "Best trial: 2. Best value: 0.590994:  25%|██▌       | 5/20 [04:01<10:40, 42.68s/it]"
     ]
    },
    {
     "name": "stderr",
     "output_type": "stream",
     "text": [
      "\r\n",
      "Best trial: 2. Best value: 0.590994:  30%|███       | 6/20 [04:01<09:03, 38.79s/it]"
     ]
    },
    {
     "name": "stdout",
     "output_type": "stream",
     "text": [
      "[I 2025-10-16 23:40:29,395] Trial 5 finished with value: 0.5673102061632072 and parameters: {'learning_rate': 0.06981949813547923, 'max_depth': 9, 'subsample': 0.7292972576218015, 'colsample_bytree': 0.8024968861245341, 'n_estimators': 600}. Best is trial 2 with value: 0.5909938664931543.\n"
     ]
    },
    {
     "name": "stderr",
     "output_type": "stream",
     "text": [
      "\r\n",
      "                                                                                   "
     ]
    },
    {
     "name": "stderr",
     "output_type": "stream",
     "text": [
      "\r"
     ]
    },
    {
     "name": "stderr",
     "output_type": "stream",
     "text": [
      "\r\n",
      "Best trial: 2. Best value: 0.590994:  30%|███       | 6/20 [04:17<09:03, 38.79s/it]"
     ]
    },
    {
     "name": "stderr",
     "output_type": "stream",
     "text": [
      "\r\n",
      "Best trial: 2. Best value: 0.590994:  30%|███       | 6/20 [04:17<09:03, 38.79s/it]"
     ]
    },
    {
     "name": "stderr",
     "output_type": "stream",
     "text": [
      "\r\n",
      "Best trial: 2. Best value: 0.590994:  35%|███▌      | 7/20 [04:17<06:46, 31.31s/it]"
     ]
    },
    {
     "name": "stdout",
     "output_type": "stream",
     "text": [
      "[I 2025-10-16 23:40:45,299] Trial 6 finished with value: 0.559476388571369 and parameters: {'learning_rate': 0.1566373077224119, 'max_depth': 11, 'subsample': 0.7782651300128772, 'colsample_bytree': 0.962936658665863, 'n_estimators': 200}. Best is trial 2 with value: 0.5909938664931543.\n"
     ]
    },
    {
     "name": "stderr",
     "output_type": "stream",
     "text": [
      "\r\n",
      "                                                                                   "
     ]
    },
    {
     "name": "stderr",
     "output_type": "stream",
     "text": [
      "\r"
     ]
    },
    {
     "name": "stderr",
     "output_type": "stream",
     "text": [
      "\r\n",
      "Best trial: 2. Best value: 0.590994:  35%|███▌      | 7/20 [05:04<06:46, 31.31s/it]"
     ]
    },
    {
     "name": "stderr",
     "output_type": "stream",
     "text": [
      "\r\n",
      "Best trial: 2. Best value: 0.590994:  35%|███▌      | 7/20 [05:04<06:46, 31.31s/it]"
     ]
    },
    {
     "name": "stderr",
     "output_type": "stream",
     "text": [
      "\r\n",
      "Best trial: 2. Best value: 0.590994:  40%|████      | 8/20 [05:04<07:16, 36.40s/it]"
     ]
    },
    {
     "name": "stdout",
     "output_type": "stream",
     "text": [
      "[I 2025-10-16 23:41:32,604] Trial 7 finished with value: 0.560404393302578 and parameters: {'learning_rate': 0.11585886501186857, 'max_depth': 12, 'subsample': 0.7380538374081581, 'colsample_bytree': 0.7412769815954312, 'n_estimators': 800}. Best is trial 2 with value: 0.5909938664931543.\n"
     ]
    },
    {
     "name": "stderr",
     "output_type": "stream",
     "text": [
      "\r\n",
      "                                                                                   "
     ]
    },
    {
     "name": "stderr",
     "output_type": "stream",
     "text": [
      "\r"
     ]
    },
    {
     "name": "stderr",
     "output_type": "stream",
     "text": [
      "\r\n",
      "Best trial: 2. Best value: 0.590994:  40%|████      | 8/20 [05:20<07:16, 36.40s/it]"
     ]
    },
    {
     "name": "stderr",
     "output_type": "stream",
     "text": [
      "\r\n",
      "Best trial: 2. Best value: 0.590994:  40%|████      | 8/20 [05:20<07:16, 36.40s/it]"
     ]
    },
    {
     "name": "stderr",
     "output_type": "stream",
     "text": [
      "\r\n",
      "Best trial: 2. Best value: 0.590994:  45%|████▌     | 9/20 [05:20<05:29, 29.93s/it]"
     ]
    },
    {
     "name": "stdout",
     "output_type": "stream",
     "text": [
      "[I 2025-10-16 23:41:48,308] Trial 8 finished with value: 0.5487715074931432 and parameters: {'learning_rate': 0.23146382495315906, 'max_depth': 12, 'subsample': 0.8927717143679346, 'colsample_bytree': 0.9351498224636252, 'n_estimators': 200}. Best is trial 2 with value: 0.5909938664931543.\n"
     ]
    },
    {
     "name": "stderr",
     "output_type": "stream",
     "text": [
      "\r\n",
      "                                                                                   "
     ]
    },
    {
     "name": "stderr",
     "output_type": "stream",
     "text": [
      "\r"
     ]
    },
    {
     "name": "stderr",
     "output_type": "stream",
     "text": [
      "\r\n",
      "Best trial: 2. Best value: 0.590994:  45%|████▌     | 9/20 [05:40<05:29, 29.93s/it]"
     ]
    },
    {
     "name": "stderr",
     "output_type": "stream",
     "text": [
      "\r\n",
      "Best trial: 2. Best value: 0.590994:  45%|████▌     | 9/20 [05:40<05:29, 29.93s/it]"
     ]
    },
    {
     "name": "stderr",
     "output_type": "stream",
     "text": [
      "\r\n",
      "Best trial: 2. Best value: 0.590994:  50%|█████     | 10/20 [05:40<04:29, 26.96s/it]"
     ]
    },
    {
     "name": "stdout",
     "output_type": "stream",
     "text": [
      "[I 2025-10-16 23:42:08,630] Trial 9 finished with value: 0.5601969144233481 and parameters: {'learning_rate': 0.1409031034527941, 'max_depth': 5, 'subsample': 0.6837007424861468, 'colsample_bytree': 0.8661840401047789, 'n_estimators': 1000}. Best is trial 2 with value: 0.5909938664931543.\n"
     ]
    },
    {
     "name": "stderr",
     "output_type": "stream",
     "text": [
      "\r\n",
      "                                                                                    "
     ]
    },
    {
     "name": "stderr",
     "output_type": "stream",
     "text": [
      "\r"
     ]
    },
    {
     "name": "stderr",
     "output_type": "stream",
     "text": [
      "\r\n",
      "Best trial: 2. Best value: 0.590994:  50%|█████     | 10/20 [05:59<04:29, 26.96s/it]"
     ]
    },
    {
     "name": "stderr",
     "output_type": "stream",
     "text": [
      "\r\n",
      "Best trial: 10. Best value: 0.594345:  50%|█████     | 10/20 [05:59<04:29, 26.96s/it]"
     ]
    },
    {
     "name": "stderr",
     "output_type": "stream",
     "text": [
      "\r\n",
      "Best trial: 10. Best value: 0.594345:  55%|█████▌    | 11/20 [05:59<03:41, 24.60s/it]"
     ]
    },
    {
     "name": "stdout",
     "output_type": "stream",
     "text": [
      "[I 2025-10-16 23:42:27,867] Trial 10 finished with value: 0.5943452154152477 and parameters: {'learning_rate': 0.017529826716661763, 'max_depth': 6, 'subsample': 0.6008364937229934, 'colsample_bytree': 0.6489735769739515, 'n_estimators': 800}. Best is trial 10 with value: 0.5943452154152477.\n"
     ]
    },
    {
     "name": "stderr",
     "output_type": "stream",
     "text": [
      "\r\n",
      "                                                                                     "
     ]
    },
    {
     "name": "stderr",
     "output_type": "stream",
     "text": [
      "\r"
     ]
    },
    {
     "name": "stderr",
     "output_type": "stream",
     "text": [
      "\r\n",
      "Best trial: 10. Best value: 0.594345:  55%|█████▌    | 11/20 [06:20<03:41, 24.60s/it]"
     ]
    },
    {
     "name": "stderr",
     "output_type": "stream",
     "text": [
      "\r\n",
      "Best trial: 11. Best value: 0.595358:  55%|█████▌    | 11/20 [06:20<03:41, 24.60s/it]"
     ]
    },
    {
     "name": "stderr",
     "output_type": "stream",
     "text": [
      "\r\n",
      "Best trial: 11. Best value: 0.595358:  60%|██████    | 12/20 [06:20<03:06, 23.33s/it]"
     ]
    },
    {
     "name": "stdout",
     "output_type": "stream",
     "text": [
      "[I 2025-10-16 23:42:48,305] Trial 11 finished with value: 0.5953580223755437 and parameters: {'learning_rate': 0.015934887098569786, 'max_depth': 6, 'subsample': 0.6076541237279947, 'colsample_bytree': 0.6228855835485171, 'n_estimators': 800}. Best is trial 11 with value: 0.5953580223755437.\n"
     ]
    },
    {
     "name": "stderr",
     "output_type": "stream",
     "text": [
      "\r\n",
      "                                                                                     "
     ]
    },
    {
     "name": "stderr",
     "output_type": "stream",
     "text": [
      "\r"
     ]
    },
    {
     "name": "stderr",
     "output_type": "stream",
     "text": [
      "\r\n",
      "Best trial: 11. Best value: 0.595358:  60%|██████    | 12/20 [06:44<03:06, 23.33s/it]"
     ]
    },
    {
     "name": "stderr",
     "output_type": "stream",
     "text": [
      "\r\n",
      "Best trial: 11. Best value: 0.595358:  60%|██████    | 12/20 [06:44<03:06, 23.33s/it]"
     ]
    },
    {
     "name": "stderr",
     "output_type": "stream",
     "text": [
      "\r\n",
      "Best trial: 11. Best value: 0.595358:  65%|██████▌   | 13/20 [06:44<02:46, 23.72s/it]"
     ]
    },
    {
     "name": "stdout",
     "output_type": "stream",
     "text": [
      "[I 2025-10-16 23:43:12,908] Trial 12 finished with value: 0.5897027167325479 and parameters: {'learning_rate': 0.017187066600778542, 'max_depth': 7, 'subsample': 0.6196498156339756, 'colsample_bytree': 0.6284133831055967, 'n_estimators': 800}. Best is trial 11 with value: 0.5953580223755437.\n"
     ]
    },
    {
     "name": "stderr",
     "output_type": "stream",
     "text": [
      "\r\n",
      "                                                                                     "
     ]
    },
    {
     "name": "stderr",
     "output_type": "stream",
     "text": [
      "\r"
     ]
    },
    {
     "name": "stderr",
     "output_type": "stream",
     "text": [
      "\r\n",
      "Best trial: 11. Best value: 0.595358:  65%|██████▌   | 13/20 [07:03<02:46, 23.72s/it]"
     ]
    },
    {
     "name": "stderr",
     "output_type": "stream",
     "text": [
      "\r\n",
      "Best trial: 11. Best value: 0.595358:  65%|██████▌   | 13/20 [07:03<02:46, 23.72s/it]"
     ]
    },
    {
     "name": "stderr",
     "output_type": "stream",
     "text": [
      "\r\n",
      "Best trial: 11. Best value: 0.595358:  70%|███████   | 14/20 [07:03<02:12, 22.10s/it]"
     ]
    },
    {
     "name": "stdout",
     "output_type": "stream",
     "text": [
      "[I 2025-10-16 23:43:31,266] Trial 13 finished with value: 0.5844966935597853 and parameters: {'learning_rate': 0.03147978843667519, 'max_depth': 7, 'subsample': 0.6122759867977408, 'colsample_bytree': 0.6023516219506635, 'n_estimators': 600}. Best is trial 11 with value: 0.5953580223755437.\n"
     ]
    },
    {
     "name": "stderr",
     "output_type": "stream",
     "text": [
      "\r\n",
      "                                                                                     "
     ]
    },
    {
     "name": "stderr",
     "output_type": "stream",
     "text": [
      "\r"
     ]
    },
    {
     "name": "stderr",
     "output_type": "stream",
     "text": [
      "\r\n",
      "Best trial: 11. Best value: 0.595358:  70%|███████   | 14/20 [07:15<02:12, 22.10s/it]"
     ]
    },
    {
     "name": "stderr",
     "output_type": "stream",
     "text": [
      "\r\n",
      "Best trial: 14. Best value: 0.599417:  70%|███████   | 14/20 [07:15<02:12, 22.10s/it]"
     ]
    },
    {
     "name": "stderr",
     "output_type": "stream",
     "text": [
      "\r\n",
      "Best trial: 14. Best value: 0.599417:  75%|███████▌  | 15/20 [07:15<01:35, 19.17s/it]"
     ]
    },
    {
     "name": "stdout",
     "output_type": "stream",
     "text": [
      "[I 2025-10-16 23:43:43,649] Trial 14 finished with value: 0.5994170009580958 and parameters: {'learning_rate': 0.010928261495068923, 'max_depth': 4, 'subsample': 0.9991875605341314, 'colsample_bytree': 0.6796879617918679, 'n_estimators': 800}. Best is trial 14 with value: 0.5994170009580958.\n"
     ]
    },
    {
     "name": "stderr",
     "output_type": "stream",
     "text": [
      "\r\n",
      "                                                                                     "
     ]
    },
    {
     "name": "stderr",
     "output_type": "stream",
     "text": [
      "\r"
     ]
    },
    {
     "name": "stderr",
     "output_type": "stream",
     "text": [
      "\r\n",
      "Best trial: 14. Best value: 0.599417:  75%|███████▌  | 15/20 [07:24<01:35, 19.17s/it]"
     ]
    },
    {
     "name": "stderr",
     "output_type": "stream",
     "text": [
      "\r\n",
      "Best trial: 15. Best value: 0.602303:  75%|███████▌  | 15/20 [07:24<01:35, 19.17s/it]"
     ]
    },
    {
     "name": "stderr",
     "output_type": "stream",
     "text": [
      "\r\n",
      "Best trial: 15. Best value: 0.602303:  80%|████████  | 16/20 [07:24<01:04, 16.22s/it]"
     ]
    },
    {
     "name": "stdout",
     "output_type": "stream",
     "text": [
      "[I 2025-10-16 23:43:53,038] Trial 15 finished with value: 0.6023032728319581 and parameters: {'learning_rate': 0.01032205298278118, 'max_depth': 4, 'subsample': 0.9155394269715391, 'colsample_bytree': 0.6960794307105173, 'n_estimators': 600}. Best is trial 15 with value: 0.6023032728319581.\n"
     ]
    },
    {
     "name": "stderr",
     "output_type": "stream",
     "text": [
      "\r\n",
      "                                                                                     "
     ]
    },
    {
     "name": "stderr",
     "output_type": "stream",
     "text": [
      "\r"
     ]
    },
    {
     "name": "stderr",
     "output_type": "stream",
     "text": [
      "\r\n",
      "Best trial: 15. Best value: 0.602303:  80%|████████  | 16/20 [07:31<01:04, 16.22s/it]"
     ]
    },
    {
     "name": "stderr",
     "output_type": "stream",
     "text": [
      "\r\n",
      "Best trial: 15. Best value: 0.602303:  80%|████████  | 16/20 [07:31<01:04, 16.22s/it]"
     ]
    },
    {
     "name": "stderr",
     "output_type": "stream",
     "text": [
      "\r\n",
      "Best trial: 15. Best value: 0.602303:  85%|████████▌ | 17/20 [07:31<00:39, 13.31s/it]"
     ]
    },
    {
     "name": "stdout",
     "output_type": "stream",
     "text": [
      "[I 2025-10-16 23:43:59,568] Trial 16 finished with value: 0.5998390255689793 and parameters: {'learning_rate': 0.010871861644993288, 'max_depth': 4, 'subsample': 0.9944334713556287, 'colsample_bytree': 0.7001854931951208, 'n_estimators': 400}. Best is trial 15 with value: 0.6023032728319581.\n"
     ]
    },
    {
     "name": "stderr",
     "output_type": "stream",
     "text": [
      "\r\n",
      "                                                                                     "
     ]
    },
    {
     "name": "stderr",
     "output_type": "stream",
     "text": [
      "\r"
     ]
    },
    {
     "name": "stderr",
     "output_type": "stream",
     "text": [
      "\r\n",
      "Best trial: 15. Best value: 0.602303:  85%|████████▌ | 17/20 [07:37<00:39, 13.31s/it]"
     ]
    },
    {
     "name": "stderr",
     "output_type": "stream",
     "text": [
      "\r\n",
      "Best trial: 15. Best value: 0.602303:  85%|████████▌ | 17/20 [07:37<00:39, 13.31s/it]"
     ]
    },
    {
     "name": "stderr",
     "output_type": "stream",
     "text": [
      "\r\n",
      "Best trial: 15. Best value: 0.602303:  90%|█████████ | 18/20 [07:37<00:22, 11.14s/it]"
     ]
    },
    {
     "name": "stdout",
     "output_type": "stream",
     "text": [
      "[I 2025-10-16 23:44:05,656] Trial 17 finished with value: 0.5966279390127378 and parameters: {'learning_rate': 0.028059270963432123, 'max_depth': 4, 'subsample': 0.9950119260781362, 'colsample_bytree': 0.7044882689269811, 'n_estimators': 400}. Best is trial 15 with value: 0.6023032728319581.\n"
     ]
    },
    {
     "name": "stderr",
     "output_type": "stream",
     "text": [
      "\r\n",
      "                                                                                     "
     ]
    },
    {
     "name": "stderr",
     "output_type": "stream",
     "text": [
      "\r"
     ]
    },
    {
     "name": "stderr",
     "output_type": "stream",
     "text": [
      "\r\n",
      "Best trial: 15. Best value: 0.602303:  90%|█████████ | 18/20 [07:45<00:22, 11.14s/it]"
     ]
    },
    {
     "name": "stderr",
     "output_type": "stream",
     "text": [
      "\r\n",
      "Best trial: 15. Best value: 0.602303:  90%|█████████ | 18/20 [07:45<00:22, 11.14s/it]"
     ]
    },
    {
     "name": "stderr",
     "output_type": "stream",
     "text": [
      "\r\n",
      "Best trial: 15. Best value: 0.602303:  95%|█████████▌| 19/20 [07:45<00:10, 10.10s/it]"
     ]
    },
    {
     "name": "stdout",
     "output_type": "stream",
     "text": [
      "[I 2025-10-16 23:44:13,328] Trial 18 finished with value: 0.5916352240583012 and parameters: {'learning_rate': 0.05350005153219187, 'max_depth': 5, 'subsample': 0.9320635524827916, 'colsample_bytree': 0.7189476989238583, 'n_estimators': 400}. Best is trial 15 with value: 0.6023032728319581.\n"
     ]
    },
    {
     "name": "stderr",
     "output_type": "stream",
     "text": [
      "\r\n",
      "                                                                                     "
     ]
    },
    {
     "name": "stderr",
     "output_type": "stream",
     "text": [
      "\r"
     ]
    },
    {
     "name": "stderr",
     "output_type": "stream",
     "text": [
      "\r\n",
      "Best trial: 15. Best value: 0.602303:  95%|█████████▌| 19/20 [07:53<00:10, 10.10s/it]"
     ]
    },
    {
     "name": "stderr",
     "output_type": "stream",
     "text": [
      "\r\n",
      "Best trial: 15. Best value: 0.602303:  95%|█████████▌| 19/20 [07:53<00:10, 10.10s/it]"
     ]
    },
    {
     "name": "stderr",
     "output_type": "stream",
     "text": [
      "\r\n",
      "Best trial: 15. Best value: 0.602303: 100%|██████████| 20/20 [07:53<00:00,  9.47s/it]"
     ]
    },
    {
     "name": "stderr",
     "output_type": "stream",
     "text": [
      "\r\n",
      "Best trial: 15. Best value: 0.602303: 100%|██████████| 20/20 [07:53<00:00, 23.66s/it]"
     ]
    },
    {
     "name": "stderr",
     "output_type": "stream",
     "text": [
      "\n"
     ]
    },
    {
     "name": "stdout",
     "output_type": "stream",
     "text": [
      "[I 2025-10-16 23:44:21,318] Trial 19 finished with value: 0.600901333062383 and parameters: {'learning_rate': 0.012590464945351628, 'max_depth': 5, 'subsample': 0.871318309195785, 'colsample_bytree': 0.6740416150509357, 'n_estimators': 400}. Best is trial 15 with value: 0.6023032728319581.\n",
      "✅ GB best AUC=0.602 | params={'learning_rate': 0.01032205298278118, 'max_depth': 4, 'subsample': 0.9155394269715391, 'colsample_bytree': 0.6960794307105173, 'n_estimators': 600}\n"
     ]
    },
    {
     "name": "stdout",
     "output_type": "stream",
     "text": [
      "\n",
      "[Responder Class Metrics]\n",
      "Accuracy     : 54.72\n",
      "Precision    : 39.14\n",
      "Recall       : 62.30\n",
      "F1 Score     : 48.08\n",
      "ROC AUC Score: 58.93\n",
      "\n",
      "Classification Report:\n",
      "               precision    recall  f1-score   support\n",
      "\n",
      "Non-responder       0.73      0.51      0.60      6879\n",
      "    Responder       0.39      0.62      0.48      3488\n",
      "\n",
      "     accuracy                           0.55     10367\n",
      "    macro avg       0.56      0.57      0.54     10367\n",
      " weighted avg       0.61      0.55      0.56     10367\n",
      "\n"
     ]
    },
    {
     "data": {
      "image/png": "[encoded data removed]",
      "text/plain": [
       "<Figure size 600x500 with 1 Axes>"
      ]
     },
     "metadata": {},
     "output_type": "display_data"
    }
   ],
   "source": [
    "#  3.4 Run hyperparameter tuning and evaluation for XGBoost (XGB)\n",
    "\n",
    "# Step 1: Define and run Optuna study\n",
    "name = \"GB\"\n",
    "study_gb = optuna.create_study(direction=\"maximize\")\n",
    "study_gb.optimize(lambda trial: tune_xgb(trial, X_train, X_val, y_train, y_val), n_trials=N_TRIALS, show_progress_bar=True)\n",
    "print(f\"✅ {name} best AUC={study_gb.best_value:.3f} | params={study_gb.best_params}\")\n",
    "\n",
    "\n",
    "# Step 2: Refit model on the full training set by best parameters which obtains by Optuna\n",
    "model_gb = xgb.XGBClassifier(**study_gb.best_params, n_jobs=-1, random_state=SEED, verbosity=0, scale_pos_weight=w)\n",
    "model_gb.fit(X_train, y_train)\n",
    "\n",
    "# Step 3: Evaluate on test data\n",
    "# Probability predictions for ROC/AUC\n",
    "y_prob_gb = model_gb.predict_proba(X_test)[:, 1]\n",
    "# Binary predictions using default 0.5 threshold\n",
    "y_pred_gb = model_gb.predict(X_test)\n",
    "\n",
    "# Compute evaluation metrics \n",
    "conf_mat = confusion_matrix(y_test, y_pred_gb)\n",
    "roc = roc_auc_score(y_test, y_prob_gb)\n",
    "precision = precision_score(y_test, y_pred_gb)\n",
    "recall = recall_score(y_test, y_pred_gb)\n",
    "f1 = f1_score(y_test, y_pred_gb)\n",
    "accuracy = accuracy_score(y_test, y_pred_gb)\n",
    "\n",
    "print(f\"\\n[Responder Class Metrics]\")\n",
    "print(f\"Accuracy     : {accuracy * 100:.2f}\")\n",
    "print(f\"Precision    : {precision * 100:.2f}\")\n",
    "print(f\"Recall       : {recall * 100:.2f}\")\n",
    "print(f\"F1 Score     : {f1 * 100:.2f}\")\n",
    "print(f\"ROC AUC Score: {roc * 100:.2f}\")\n",
    "\n",
    "# Classification report\n",
    "print(\"\\nClassification Report:\")\n",
    "print(classification_report(y_test, y_pred_gb, target_names=[\"Non-responder\", \"Responder\"]))\n",
    "\n",
    "#  Step 4: Visualize Confusion Matrix\n",
    "plt.figure(figsize=(6, 5))\n",
    "sns.heatmap(\n",
    "    conf_mat,\n",
    "    annot=True,\n",
    "    fmt='d',\n",
    "    cmap='Blues',\n",
    "    xticklabels=['Non-responder', 'Responder'],\n",
    "    yticklabels=['Non-responder', 'Responder'],\n",
    "    cbar=False,\n",
    "    linewidths=0,\n",
    "    linecolor='white'\n",
    ")\n",
    "plt.title('Confusion Matrix')\n",
    "plt.xlabel('Predicted')\n",
    "plt.ylabel('Actual')\n",
    "plt.show()\n"
   ]
  },
  {
   "cell_type": "code",
   "execution_count": null,
   "id": "34842e56",
   "metadata": {
    "execution": {
     "iopub.execute_input": "2025-10-16T23:44:30.850457Z",
     "iopub.status.busy": "2025-10-16T23:44:30.850084Z",
     "iopub.status.idle": "2025-10-16T23:51:09.620234Z",
     "shell.execute_reply": "2025-10-16T23:51:09.619239Z"
    },
    "papermill": {
     "duration": 398.801313,
     "end_time": "2025-10-16T23:51:09.621000",
     "exception": false,
     "start_time": "2025-10-16T23:44:30.819687",
     "status": "completed"
    },
    "tags": []
   },
   "outputs": [
    {
     "name": "stderr",
     "output_type": "stream",
     "text": [
      "[I 2025-10-16 23:44:30,856] A new study created in memory with name: no-name-5ed52a31-c7d5-4cdc-8695-d82b36a53383\n"
     ]
    },
    {
     "name": "stderr",
     "output_type": "stream",
     "text": [
      "\r\n",
      "  0%|          | 0/20 [00:00<?, ?it/s]"
     ]
    },
    {
     "name": "stderr",
     "output_type": "stream",
     "text": [
      "2025-10-16 23:44:30.864555: E external/local_xla/xla/stream_executor/cuda/cuda_platform.cc:51] failed call to cuInit: INTERNAL: CUDA error: Failed call to cuInit: UNKNOWN ERROR (303)\n"
     ]
    },
    {
     "name": "stdout",
     "output_type": "stream",
     "text": [
      "\r\n",
      "\u001b[1m  1/260\u001b[0m \u001b[37m━━━━━━━━━━━━━━━━━━━━\u001b[0m \u001b[1m12s\u001b[0m 50ms/step"
     ]
    },
    {
     "name": "stdout",
     "output_type": "stream",
     "text": [
      "\b\b\b\b\b\b\b\b\b\b\b\b\b\b\b\b\b\b\b\b\b\b\b\b\b\b\b\b\b\b\b\b\b\b\b\b\b\b\b\b\b\b\r\n",
      "\u001b[1m 61/260\u001b[0m \u001b[32m━━━━\u001b[0m\u001b[37m━━━━━━━━━━━━━━━━\u001b[0m \u001b[1m0s\u001b[0m 836us/step"
     ]
    },
    {
     "name": "stdout",
     "output_type": "stream",
     "text": [
      "\b\b\b\b\b\b\b\b\b\b\b\b\b\b\b\b\b\b\b\b\b\b\b\b\b\b\b\b\b\b\b\b\b\b\b\b\b\b\b\b\b\b\r\n",
      "\u001b[1m119/260\u001b[0m \u001b[32m━━━━━━━━━\u001b[0m\u001b[37m━━━━━━━━━━━\u001b[0m \u001b[1m0s\u001b[0m 854us/step"
     ]
    },
    {
     "name": "stdout",
     "output_type": "stream",
     "text": [
      "\b\b\b\b\b\b\b\b\b\b\b\b\b\b\b\b\b\b\b\b\b\b\b\b\b\b\b\b\b\b\b\b\b\b\b\b\b\b\b\b\b\b\r\n",
      "\u001b[1m182/260\u001b[0m \u001b[32m━━━━━━━━━━━━━━\u001b[0m\u001b[37m━━━━━━\u001b[0m \u001b[1m0s\u001b[0m 836us/step"
     ]
    },
    {
     "name": "stdout",
     "output_type": "stream",
     "text": [
      "\b\b\b\b\b\b\b\b\b\b\b\b\b\b\b\b\b\b\b\b\b\b\b\b\b\b\b\b\b\b\b\b\b\b\b\b\b\b\b\b\b\b\r\n",
      "\u001b[1m244/260\u001b[0m \u001b[32m━━━━━━━━━━━━━━━━━━\u001b[0m\u001b[37m━━\u001b[0m \u001b[1m0s\u001b[0m 831us/step"
     ]
    },
    {
     "name": "stdout",
     "output_type": "stream",
     "text": [
      "\b\b\b\b\b\b\b\b\b\b\b\b\b\b\b\b\b\b\b\b\b\b\b\b\b\b\b\b\b\b\b\b\b\b\b\b\b\b\b\b\b\b\r\n",
      "\u001b[1m260/260\u001b[0m \u001b[32m━━━━━━━━━━━━━━━━━━━━\u001b[0m\u001b[37m\u001b[0m \u001b[1m0s\u001b[0m 991us/step\n"
     ]
    },
    {
     "name": "stderr",
     "output_type": "stream",
     "text": [
      "\r\n",
      "                                      "
     ]
    },
    {
     "name": "stderr",
     "output_type": "stream",
     "text": [
      "\r"
     ]
    },
    {
     "name": "stderr",
     "output_type": "stream",
     "text": [
      "\r\n",
      "  0%|          | 0/20 [00:13<?, ?it/s]"
     ]
    },
    {
     "name": "stderr",
     "output_type": "stream",
     "text": [
      "\r\n",
      "Best trial: 0. Best value: 0.551377:   0%|          | 0/20 [00:13<?, ?it/s]"
     ]
    },
    {
     "name": "stderr",
     "output_type": "stream",
     "text": [
      "\r\n",
      "Best trial: 0. Best value: 0.551377:   5%|▌         | 1/20 [00:13<04:24, 13.91s/it]"
     ]
    },
    {
     "name": "stdout",
     "output_type": "stream",
     "text": [
      "[I 2025-10-16 23:44:44,764] Trial 0 finished with value: 0.5513771243707408 and parameters: {'lr': 0.0008435471422575666, 'dropout': 0.2672838478053462, 'n1': 96, 'n2': 16}. Best is trial 0 with value: 0.5513771243707408.\n"
     ]
    },
    {
     "name": "stdout",
     "output_type": "stream",
     "text": [
      "\r\n",
      "\u001b[1m  1/260\u001b[0m \u001b[37m━━━━━━━━━━━━━━━━━━━━\u001b[0m \u001b[1m12s\u001b[0m 49ms/step"
     ]
    },
    {
     "name": "stdout",
     "output_type": "stream",
     "text": [
      "\b\b\b\b\b\b\b\b\b\b\b\b\b\b\b\b\b\b\b\b\b\b\b\b\b\b\b\b\b\b\b\b\b\b\b\b\b\b\b\b\b\b\r\n",
      "\u001b[1m 57/260\u001b[0m \u001b[32m━━━━\u001b[0m\u001b[37m━━━━━━━━━━━━━━━━\u001b[0m \u001b[1m0s\u001b[0m 903us/step"
     ]
    },
    {
     "name": "stdout",
     "output_type": "stream",
     "text": [
      "\b\b\b\b\b\b\b\b\b\b\b\b\b\b\b\b\b\b\b\b\b\b\b\b\b\b\b\b\b\b\b\b\b\b\b\b\b\b\b\b\b\b\r\n",
      "\u001b[1m104/260\u001b[0m \u001b[32m━━━━━━━━\u001b[0m\u001b[37m━━━━━━━━━━━━\u001b[0m \u001b[1m0s\u001b[0m 979us/step"
     ]
    },
    {
     "name": "stdout",
     "output_type": "stream",
     "text": [
      "\b\b\b\b\b\b\b\b\b\b\b\b\b\b\b\b\b\b\b\b\b\b\b\b\b\b\b\b\b\b\b\b\b\b\b\b\b\b\b\b\b\b\r\n",
      "\u001b[1m164/260\u001b[0m \u001b[32m━━━━━━━━━━━━\u001b[0m\u001b[37m━━━━━━━━\u001b[0m \u001b[1m0s\u001b[0m 927us/step"
     ]
    },
    {
     "name": "stdout",
     "output_type": "stream",
     "text": [
      "\b\b\b\b\b\b\b\b\b\b\b\b\b\b\b\b\b\b\b\b\b\b\b\b\b\b\b\b\b\b\b\b\b\b\b\b\b\b\b\b\b\b\r\n",
      "\u001b[1m226/260\u001b[0m \u001b[32m━━━━━━━━━━━━━━━━━\u001b[0m\u001b[37m━━━\u001b[0m \u001b[1m0s\u001b[0m 895us/step"
     ]
    },
    {
     "name": "stdout",
     "output_type": "stream",
     "text": [
      "\b\b\b\b\b\b\b\b\b\b\b\b\b\b\b\b\b\b\b\b\b\b\b\b\b\b\b\b\b\b\b\b\b\b\b\b\b\b\b\b\b\b\r\n",
      "\u001b[1m260/260\u001b[0m \u001b[32m━━━━━━━━━━━━━━━━━━━━\u001b[0m\u001b[37m\u001b[0m \u001b[1m0s\u001b[0m 990us/step"
     ]
    },
    {
     "name": "stdout",
     "output_type": "stream",
     "text": [
      "\b\b\b\b\b\b\b\b\b\b\b\b\b\b\b\b\b\b\b\b\b\b\b\b\b\b\b\b\b\b\b\b\b\b\b\b\b\b\b\b\b\b\r\n",
      "\u001b[1m260/260\u001b[0m \u001b[32m━━━━━━━━━━━━━━━━━━━━\u001b[0m\u001b[37m\u001b[0m \u001b[1m0s\u001b[0m 1ms/step  \n"
     ]
    },
    {
     "name": "stderr",
     "output_type": "stream",
     "text": [
      "\r\n",
      "                                                                                   "
     ]
    },
    {
     "name": "stderr",
     "output_type": "stream",
     "text": [
      "\r"
     ]
    },
    {
     "name": "stderr",
     "output_type": "stream",
     "text": [
      "\r\n",
      "Best trial: 0. Best value: 0.551377:   5%|▌         | 1/20 [00:30<04:24, 13.91s/it]"
     ]
    },
    {
     "name": "stderr",
     "output_type": "stream",
     "text": [
      "\r\n",
      "Best trial: 0. Best value: 0.551377:   5%|▌         | 1/20 [00:30<04:24, 13.91s/it]"
     ]
    },
    {
     "name": "stderr",
     "output_type": "stream",
     "text": [
      "\r\n",
      "Best trial: 0. Best value: 0.551377:  10%|█         | 2/20 [00:30<04:33, 15.21s/it]"
     ]
    },
    {
     "name": "stdout",
     "output_type": "stream",
     "text": [
      "[I 2025-10-16 23:45:00,893] Trial 1 finished with value: 0.5088621911671509 and parameters: {'lr': 0.008605326390475109, 'dropout': 0.586178648449124, 'n1': 32, 'n2': 16}. Best is trial 0 with value: 0.5513771243707408.\n"
     ]
    },
    {
     "name": "stdout",
     "output_type": "stream",
     "text": [
      "\r\n",
      "\u001b[1m  1/260\u001b[0m \u001b[37m━━━━━━━━━━━━━━━━━━━━\u001b[0m \u001b[1m10s\u001b[0m 40ms/step"
     ]
    },
    {
     "name": "stdout",
     "output_type": "stream",
     "text": [
      "\b\b\b\b\b\b\b\b\b\b\b\b\b\b\b\b\b\b\b\b\b\b\b\b\b\b\b\b\b\b\b\b\b\b\b\b\b\b\b\b\b\b\r\n",
      "\u001b[1m 69/260\u001b[0m \u001b[32m━━━━━\u001b[0m\u001b[37m━━━━━━━━━━━━━━━\u001b[0m \u001b[1m0s\u001b[0m 799us/step"
     ]
    },
    {
     "name": "stdout",
     "output_type": "stream",
     "text": [
      "\b\b\b\b\b\b\b\b\b\b\b\b\b\b\b\b\b\b\b\b\b\b\b\b\b\b\b\b\b\b\b\b\b\b\b\b\b\b\b\b\b\b\r\n",
      "\u001b[1m 70/260\u001b[0m \u001b[32m━━━━━\u001b[0m\u001b[37m━━━━━━━━━━━━━━━\u001b[0m \u001b[1m1s\u001b[0m 6ms/step  "
     ]
    },
    {
     "name": "stdout",
     "output_type": "stream",
     "text": [
      "\b\b\b\b\b\b\b\b\b\b\b\b\b\b\b\b\b\b\b\b\b\b\b\b\b\b\b\b\b\b\b\b\b\b\b\b\b\b\b\b\r\n",
      "\u001b[1m113/260\u001b[0m \u001b[32m━━━━━━━━\u001b[0m\u001b[37m━━━━━━━━━━━━\u001b[0m \u001b[1m0s\u001b[0m 4ms/step"
     ]
    },
    {
     "name": "stdout",
     "output_type": "stream",
     "text": [
      "\b\b\b\b\b\b\b\b\b\b\b\b\b\b\b\b\b\b\b\b\b\b\b\b\b\b\b\b\b\b\b\b\b\b\b\b\b\b\b\b\r\n",
      "\u001b[1m182/260\u001b[0m \u001b[32m━━━━━━━━━━━━━━\u001b[0m\u001b[37m━━━━━━\u001b[0m \u001b[1m0s\u001b[0m 3ms/step"
     ]
    },
    {
     "name": "stdout",
     "output_type": "stream",
     "text": [
      "\b\b\b\b\b\b\b\b\b\b\b\b\b\b\b\b\b\b\b\b\b\b\b\b\b\b\b\b\b\b\b\b\b\b\b\b\b\b\b\b\r\n",
      "\u001b[1m247/260\u001b[0m \u001b[32m━━━━━━━━━━━━━━━━━━━\u001b[0m\u001b[37m━\u001b[0m \u001b[1m0s\u001b[0m 2ms/step"
     ]
    },
    {
     "name": "stdout",
     "output_type": "stream",
     "text": [
      "\b\b\b\b\b\b\b\b\b\b\b\b\b\b\b\b\b\b\b\b\b\b\b\b\b\b\b\b\b\b\b\b\b\b\b\b\b\b\b\b\r\n",
      "\u001b[1m260/260\u001b[0m \u001b[32m━━━━━━━━━━━━━━━━━━━━\u001b[0m\u001b[37m\u001b[0m \u001b[1m1s\u001b[0m 3ms/step\n"
     ]
    },
    {
     "name": "stderr",
     "output_type": "stream",
     "text": [
      "\r\n",
      "                                                                                   "
     ]
    },
    {
     "name": "stderr",
     "output_type": "stream",
     "text": [
      "\r"
     ]
    },
    {
     "name": "stderr",
     "output_type": "stream",
     "text": [
      "\r\n",
      "Best trial: 0. Best value: 0.551377:  10%|█         | 2/20 [00:56<04:33, 15.21s/it]"
     ]
    },
    {
     "name": "stderr",
     "output_type": "stream",
     "text": [
      "\r\n",
      "Best trial: 2. Best value: 0.577607:  10%|█         | 2/20 [00:56<04:33, 15.21s/it]"
     ]
    },
    {
     "name": "stderr",
     "output_type": "stream",
     "text": [
      "\r\n",
      "Best trial: 2. Best value: 0.577607:  15%|█▌        | 3/20 [00:56<05:43, 20.23s/it]"
     ]
    },
    {
     "name": "stdout",
     "output_type": "stream",
     "text": [
      "[I 2025-10-16 23:45:27,082] Trial 2 finished with value: 0.5776067729755748 and parameters: {'lr': 0.0003991243974693129, 'dropout': 0.20176025093929778, 'n1': 32, 'n2': 16}. Best is trial 2 with value: 0.5776067729755748.\n"
     ]
    },
    {
     "name": "stdout",
     "output_type": "stream",
     "text": [
      "\r\n",
      "\u001b[1m  1/260\u001b[0m \u001b[37m━━━━━━━━━━━━━━━━━━━━\u001b[0m \u001b[1m11s\u001b[0m 45ms/step"
     ]
    },
    {
     "name": "stdout",
     "output_type": "stream",
     "text": [
      "\b\b\b\b\b\b\b\b\b\b\b\b\b\b\b\b\b\b\b\b\b\b\b\b\b\b\b\b\b\b\b\b\b\b\b\b\b\b\b\b\b\b\r\n",
      "\u001b[1m 64/260\u001b[0m \u001b[32m━━━━\u001b[0m\u001b[37m━━━━━━━━━━━━━━━━\u001b[0m \u001b[1m0s\u001b[0m 799us/step"
     ]
    },
    {
     "name": "stdout",
     "output_type": "stream",
     "text": [
      "\b\b\b\b\b\b\b\b\b\b\b\b\b\b\b\b\b\b\b\b\b\b\b\b\b\b\b\b\b\b\b\b\b\b\b\b\b\b\b\b\b\b\r\n",
      "\u001b[1m130/260\u001b[0m \u001b[32m━━━━━━━━━━\u001b[0m\u001b[37m━━━━━━━━━━\u001b[0m \u001b[1m0s\u001b[0m 781us/step"
     ]
    },
    {
     "name": "stdout",
     "output_type": "stream",
     "text": [
      "\b\b\b\b\b\b\b\b\b\b\b\b\b\b\b\b\b\b\b\b\b\b\b\b\b\b\b\b\b\b\b\b\b\b\b\b\b\b\b\b\b\b\r\n",
      "\u001b[1m190/260\u001b[0m \u001b[32m━━━━━━━━━━━━━━\u001b[0m\u001b[37m━━━━━━\u001b[0m \u001b[1m0s\u001b[0m 799us/step"
     ]
    },
    {
     "name": "stdout",
     "output_type": "stream",
     "text": [
      "\b\b\b\b\b\b\b\b\b\b\b\b\b\b\b\b\b\b\b\b\b\b\b\b\b\b\b\b\b\b\b\b\b\b\b\b\b\b\b\b\b\b\r\n",
      "\u001b[1m256/260\u001b[0m \u001b[32m━━━━━━━━━━━━━━━━━━━\u001b[0m\u001b[37m━\u001b[0m \u001b[1m0s\u001b[0m 790us/step"
     ]
    },
    {
     "name": "stdout",
     "output_type": "stream",
     "text": [
      "\b\b\b\b\b\b\b\b\b\b\b\b\b\b\b\b\b\b\b\b\b\b\b\b\b\b\b\b\b\b\b\b\b\b\b\b\b\b\b\b\b\b\r\n",
      "\u001b[1m260/260\u001b[0m \u001b[32m━━━━━━━━━━━━━━━━━━━━\u001b[0m\u001b[37m\u001b[0m \u001b[1m0s\u001b[0m 978us/step\n"
     ]
    },
    {
     "name": "stderr",
     "output_type": "stream",
     "text": [
      "\r\n",
      "                                                                                   "
     ]
    },
    {
     "name": "stderr",
     "output_type": "stream",
     "text": [
      "\r"
     ]
    },
    {
     "name": "stderr",
     "output_type": "stream",
     "text": [
      "\r\n",
      "Best trial: 2. Best value: 0.577607:  15%|█▌        | 3/20 [01:15<05:43, 20.23s/it]"
     ]
    },
    {
     "name": "stderr",
     "output_type": "stream",
     "text": [
      "\r\n",
      "Best trial: 2. Best value: 0.577607:  15%|█▌        | 3/20 [01:15<05:43, 20.23s/it]"
     ]
    },
    {
     "name": "stderr",
     "output_type": "stream",
     "text": [
      "\r\n",
      "Best trial: 2. Best value: 0.577607:  20%|██        | 4/20 [01:15<05:18, 19.89s/it]"
     ]
    },
    {
     "name": "stdout",
     "output_type": "stream",
     "text": [
      "[I 2025-10-16 23:45:46,449] Trial 3 finished with value: 0.566529009592031 and parameters: {'lr': 0.0001392493947957969, 'dropout': 0.21886614918998648, 'n1': 64, 'n2': 48}. Best is trial 2 with value: 0.5776067729755748.\n"
     ]
    },
    {
     "name": "stdout",
     "output_type": "stream",
     "text": [
      "\r\n",
      "\u001b[1m  1/260\u001b[0m \u001b[37m━━━━━━━━━━━━━━━━━━━━\u001b[0m \u001b[1m11s\u001b[0m 46ms/step"
     ]
    },
    {
     "name": "stdout",
     "output_type": "stream",
     "text": [
      "\b\b\b\b\b\b\b\b\b\b\b\b\b\b\b\b\b\b\b\b\b\b\b\b\b\b\b\b\b\b\b\b\b\b\b\b\b\b\b\b\b\b\r\n",
      "\u001b[1m 70/260\u001b[0m \u001b[32m━━━━━\u001b[0m\u001b[37m━━━━━━━━━━━━━━━\u001b[0m \u001b[1m0s\u001b[0m 725us/step"
     ]
    },
    {
     "name": "stdout",
     "output_type": "stream",
     "text": [
      "\b\b\b\b\b\b\b\b\b\b\b\b\b\b\b\b\b\b\b\b\b\b\b\b\b\b\b\b\b\b\b\b\b\b\b\b\b\b\b\b\b\b\r\n",
      "\u001b[1m136/260\u001b[0m \u001b[32m━━━━━━━━━━\u001b[0m\u001b[37m━━━━━━━━━━\u001b[0m \u001b[1m0s\u001b[0m 770us/step"
     ]
    },
    {
     "name": "stdout",
     "output_type": "stream",
     "text": [
      "\b\b\b\b\b\b\b\b\b\b\b\b\b\b\b\b\b\b\b\b\b\b\b\b\b\b\b\b\b\b\b\b\b\b\b\b\b\b\b\b\b\b\r\n",
      "\u001b[1m202/260\u001b[0m \u001b[32m━━━━━━━━━━━━━━━\u001b[0m\u001b[37m━━━━━\u001b[0m \u001b[1m0s\u001b[0m 768us/step"
     ]
    },
    {
     "name": "stdout",
     "output_type": "stream",
     "text": [
      "\b\b\b\b\b\b\b\b\b\b\b\b\b\b\b\b\b\b\b\b\b\b\b\b\b\b\b\b\b\b\b\b\b\b\b\b\b\b\b\b\b\b\r\n",
      "\u001b[1m260/260\u001b[0m \u001b[32m━━━━━━━━━━━━━━━━━━━━\u001b[0m\u001b[37m\u001b[0m \u001b[1m0s\u001b[0m 879us/step"
     ]
    },
    {
     "name": "stdout",
     "output_type": "stream",
     "text": [
      "\b\b\b\b\b\b\b\b\b\b\b\b\b\b\b\b\b\b\b\b\b\b\b\b\b\b\b\b\b\b\b\b\b\b\b\b\b\b\b\b\b\b\r\n",
      "\u001b[1m260/260\u001b[0m \u001b[32m━━━━━━━━━━━━━━━━━━━━\u001b[0m\u001b[37m\u001b[0m \u001b[1m0s\u001b[0m 936us/step\n"
     ]
    },
    {
     "name": "stderr",
     "output_type": "stream",
     "text": [
      "\r\n",
      "                                                                                   "
     ]
    },
    {
     "name": "stderr",
     "output_type": "stream",
     "text": [
      "\r"
     ]
    },
    {
     "name": "stderr",
     "output_type": "stream",
     "text": [
      "\r\n",
      "Best trial: 2. Best value: 0.577607:  20%|██        | 4/20 [01:39<05:18, 19.89s/it]"
     ]
    },
    {
     "name": "stderr",
     "output_type": "stream",
     "text": [
      "\r\n",
      "Best trial: 2. Best value: 0.577607:  20%|██        | 4/20 [01:39<05:18, 19.89s/it]"
     ]
    },
    {
     "name": "stderr",
     "output_type": "stream",
     "text": [
      "\r\n",
      "Best trial: 2. Best value: 0.577607:  25%|██▌       | 5/20 [01:39<05:19, 21.29s/it]"
     ]
    },
    {
     "name": "stdout",
     "output_type": "stream",
     "text": [
      "[I 2025-10-16 23:46:10,236] Trial 4 finished with value: 0.5670187392083952 and parameters: {'lr': 0.0003815937358323035, 'dropout': 0.5514371631556081, 'n1': 128, 'n2': 32}. Best is trial 2 with value: 0.5776067729755748.\n"
     ]
    },
    {
     "name": "stdout",
     "output_type": "stream",
     "text": [
      "\r\n",
      "\u001b[1m  1/260\u001b[0m \u001b[37m━━━━━━━━━━━━━━━━━━━━\u001b[0m \u001b[1m12s\u001b[0m 47ms/step"
     ]
    },
    {
     "name": "stdout",
     "output_type": "stream",
     "text": [
      "\b\b\b\b\b\b\b\b\b\b\b\b\b\b\b\b\b\b\b\b\b\b\b\b\b\b\b\b\b\b\b\b\b\b\b\b\b\b\b\b\b\b\r\n",
      "\u001b[1m 70/260\u001b[0m \u001b[32m━━━━━\u001b[0m\u001b[37m━━━━━━━━━━━━━━━\u001b[0m \u001b[1m0s\u001b[0m 727us/step"
     ]
    },
    {
     "name": "stdout",
     "output_type": "stream",
     "text": [
      "\b\b\b\b\b\b\b\b\b\b\b\b\b\b\b\b\b\b\b\b\b\b\b\b\b\b\b\b\b\b\b\b\b\b\b\b\b\b\b\b\b\b\r\n",
      "\u001b[1m138/260\u001b[0m \u001b[32m━━━━━━━━━━\u001b[0m\u001b[37m━━━━━━━━━━\u001b[0m \u001b[1m0s\u001b[0m 732us/step"
     ]
    },
    {
     "name": "stdout",
     "output_type": "stream",
     "text": [
      "\b\b\b\b\b\b\b\b\b\b\b\b\b\b\b\b\b\b\b\b\b\b\b\b\b\b\b\b\b\b\b\b\b\b\b\b\b\b\b\b\b\b\r\n",
      "\u001b[1m203/260\u001b[0m \u001b[32m━━━━━━━━━━━━━━━\u001b[0m\u001b[37m━━━━━\u001b[0m \u001b[1m0s\u001b[0m 746us/step"
     ]
    },
    {
     "name": "stdout",
     "output_type": "stream",
     "text": [
      "\b\b\b\b\b\b\b\b\b\b\b\b\b\b\b\b\b\b\b\b\b\b\b\b\b\b\b\b\b\b\b\b\b\b\b\b\b\b\b\b\b\b\r\n",
      "\u001b[1m260/260\u001b[0m \u001b[32m━━━━━━━━━━━━━━━━━━━━\u001b[0m\u001b[37m\u001b[0m \u001b[1m0s\u001b[0m 849us/step"
     ]
    },
    {
     "name": "stdout",
     "output_type": "stream",
     "text": [
      "\b\b\b\b\b\b\b\b\b\b\b\b\b\b\b\b\b\b\b\b\b\b\b\b\b\b\b\b\b\b\b\b\b\b\b\b\b\b\b\b\b\b\r\n",
      "\u001b[1m260/260\u001b[0m \u001b[32m━━━━━━━━━━━━━━━━━━━━\u001b[0m\u001b[37m\u001b[0m \u001b[1m0s\u001b[0m 904us/step\n"
     ]
    },
    {
     "name": "stderr",
     "output_type": "stream",
     "text": [
      "\r\n",
      "                                                                                   "
     ]
    },
    {
     "name": "stderr",
     "output_type": "stream",
     "text": [
      "\r"
     ]
    },
    {
     "name": "stderr",
     "output_type": "stream",
     "text": [
      "\r\n",
      "Best trial: 2. Best value: 0.577607:  25%|██▌       | 5/20 [01:55<05:19, 21.29s/it]"
     ]
    },
    {
     "name": "stderr",
     "output_type": "stream",
     "text": [
      "\r\n",
      "Best trial: 2. Best value: 0.577607:  25%|██▌       | 5/20 [01:55<05:19, 21.29s/it]"
     ]
    },
    {
     "name": "stderr",
     "output_type": "stream",
     "text": [
      "\r\n",
      "Best trial: 2. Best value: 0.577607:  30%|███       | 6/20 [01:55<04:31, 19.38s/it]"
     ]
    },
    {
     "name": "stdout",
     "output_type": "stream",
     "text": [
      "[I 2025-10-16 23:46:25,910] Trial 5 finished with value: 0.5569280555343875 and parameters: {'lr': 0.00022495531113867045, 'dropout': 0.46827843895195254, 'n1': 128, 'n2': 64}. Best is trial 2 with value: 0.5776067729755748.\n"
     ]
    },
    {
     "name": "stdout",
     "output_type": "stream",
     "text": [
      "\r\n",
      "\u001b[1m  1/260\u001b[0m \u001b[37m━━━━━━━━━━━━━━━━━━━━\u001b[0m \u001b[1m14s\u001b[0m 56ms/step"
     ]
    },
    {
     "name": "stdout",
     "output_type": "stream",
     "text": [
      "\b\b\b\b\b\b\b\b\b\b\b\b\b\b\b\b\b\b\b\b\b\b\b\b\b\b\b\b\b\b\b\b\b\b\b\b\b\b\b\b\b\b\r\n",
      "\u001b[1m 67/260\u001b[0m \u001b[32m━━━━━\u001b[0m\u001b[37m━━━━━━━━━━━━━━━\u001b[0m \u001b[1m0s\u001b[0m 760us/step"
     ]
    },
    {
     "name": "stdout",
     "output_type": "stream",
     "text": [
      "\b\b\b\b\b\b\b\b\b\b\b\b\b\b\b\b\b\b\b\b\b\b\b\b\b\b\b\b\b\b\b\b\b\b\b\b\b\b\b\b\b\b\r\n",
      "\u001b[1m115/260\u001b[0m \u001b[32m━━━━━━━━\u001b[0m\u001b[37m━━━━━━━━━━━━\u001b[0m \u001b[1m0s\u001b[0m 880us/step"
     ]
    },
    {
     "name": "stdout",
     "output_type": "stream",
     "text": [
      "\b\b\b\b\b\b\b\b\b\b\b\b\b\b\b\b\b\b\b\b\b\b\b\b\b\b\b\b\b\b\b\b\b\b\b\b\b\b\b\b\b\b\r\n",
      "\u001b[1m182/260\u001b[0m \u001b[32m━━━━━━━━━━━━━━\u001b[0m\u001b[37m━━━━━━\u001b[0m \u001b[1m0s\u001b[0m 831us/step"
     ]
    },
    {
     "name": "stdout",
     "output_type": "stream",
     "text": [
      "\b\b\b\b\b\b\b\b\b\b\b\b\b\b\b\b\b\b\b\b\b\b\b\b\b\b\b\b\b\b\b\b\b\b\b\b\b\b\b\b\b\b\r\n",
      "\u001b[1m242/260\u001b[0m \u001b[32m━━━━━━━━━━━━━━━━━━\u001b[0m\u001b[37m━━\u001b[0m \u001b[1m0s\u001b[0m 834us/step"
     ]
    },
    {
     "name": "stdout",
     "output_type": "stream",
     "text": [
      "\b\b\b\b\b\b\b\b\b\b\b\b\b\b\b\b\b\b\b\b\b\b\b\b\b\b\b\b\b\b\b\b\b\b\b\b\b\b\b\b\b\b\r\n",
      "\u001b[1m260/260\u001b[0m \u001b[32m━━━━━━━━━━━━━━━━━━━━\u001b[0m\u001b[37m\u001b[0m \u001b[1m0s\u001b[0m 1ms/step  \n"
     ]
    },
    {
     "name": "stderr",
     "output_type": "stream",
     "text": [
      "\r\n",
      "                                                                                   "
     ]
    },
    {
     "name": "stderr",
     "output_type": "stream",
     "text": [
      "\r"
     ]
    },
    {
     "name": "stderr",
     "output_type": "stream",
     "text": [
      "\r\n",
      "Best trial: 2. Best value: 0.577607:  30%|███       | 6/20 [02:07<04:31, 19.38s/it]"
     ]
    },
    {
     "name": "stderr",
     "output_type": "stream",
     "text": [
      "\r\n",
      "Best trial: 2. Best value: 0.577607:  30%|███       | 6/20 [02:07<04:31, 19.38s/it]"
     ]
    },
    {
     "name": "stderr",
     "output_type": "stream",
     "text": [
      "\r\n",
      "Best trial: 2. Best value: 0.577607:  35%|███▌      | 7/20 [02:07<03:41, 17.05s/it]"
     ]
    },
    {
     "name": "stdout",
     "output_type": "stream",
     "text": [
      "[I 2025-10-16 23:46:38,145] Trial 6 finished with value: 0.5339737790465546 and parameters: {'lr': 0.0007623973741199151, 'dropout': 0.5881030968797487, 'n1': 128, 'n2': 32}. Best is trial 2 with value: 0.5776067729755748.\n"
     ]
    },
    {
     "name": "stdout",
     "output_type": "stream",
     "text": [
      "\r\n",
      "\u001b[1m  1/260\u001b[0m \u001b[37m━━━━━━━━━━━━━━━━━━━━\u001b[0m \u001b[1m10s\u001b[0m 39ms/step"
     ]
    },
    {
     "name": "stdout",
     "output_type": "stream",
     "text": [
      "\b\b\b\b\b\b\b\b\b\b\b\b\b\b\b\b\b\b\b\b\b\b\b\b\b\b\b\b\b\b\b\b\b\b\b\b\b\b\b\b\b\b\r\n",
      "\u001b[1m 73/260\u001b[0m \u001b[32m━━━━━\u001b[0m\u001b[37m━━━━━━━━━━━━━━━\u001b[0m \u001b[1m0s\u001b[0m 699us/step"
     ]
    },
    {
     "name": "stdout",
     "output_type": "stream",
     "text": [
      "\b\b\b\b\b\b\b\b\b\b\b\b\b\b\b\b\b\b\b\b\b\b\b\b\b\b\b\b\b\b\b\b\b\b\b\b\b\b\b\b\b\b\r\n",
      "\u001b[1m140/260\u001b[0m \u001b[32m━━━━━━━━━━\u001b[0m\u001b[37m━━━━━━━━━━\u001b[0m \u001b[1m0s\u001b[0m 725us/step"
     ]
    },
    {
     "name": "stdout",
     "output_type": "stream",
     "text": [
      "\b\b\b\b\b\b\b\b\b\b\b\b\b\b\b\b\b\b\b\b\b\b\b\b\b\b\b\b\b\b\b\b\b\b\b\b\b\b\b\b\b\b\r\n",
      "\u001b[1m211/260\u001b[0m \u001b[32m━━━━━━━━━━━━━━━━\u001b[0m\u001b[37m━━━━\u001b[0m \u001b[1m0s\u001b[0m 719us/step"
     ]
    },
    {
     "name": "stdout",
     "output_type": "stream",
     "text": [
      "\b\b\b\b\b\b\b\b\b\b\b\b\b\b\b\b\b\b\b\b\b\b\b\b\b\b\b\b\b\b\b\b\b\b\b\b\b\b\b\b\b\b\r\n",
      "\u001b[1m260/260\u001b[0m \u001b[32m━━━━━━━━━━━━━━━━━━━━\u001b[0m\u001b[37m\u001b[0m \u001b[1m0s\u001b[0m 838us/step"
     ]
    },
    {
     "name": "stdout",
     "output_type": "stream",
     "text": [
      "\b\b\b\b\b\b\b\b\b\b\b\b\b\b\b\b\b\b\b\b\b\b\b\b\b\b\b\b\b\b\b\b\b\b\b\b\b\b\b\b\b\b\r\n",
      "\u001b[1m260/260\u001b[0m \u001b[32m━━━━━━━━━━━━━━━━━━━━\u001b[0m\u001b[37m\u001b[0m \u001b[1m0s\u001b[0m 882us/step\n"
     ]
    },
    {
     "name": "stderr",
     "output_type": "stream",
     "text": [
      "\r\n",
      "                                                                                   "
     ]
    },
    {
     "name": "stderr",
     "output_type": "stream",
     "text": [
      "\r"
     ]
    },
    {
     "name": "stderr",
     "output_type": "stream",
     "text": [
      "\r\n",
      "Best trial: 2. Best value: 0.577607:  35%|███▌      | 7/20 [02:23<03:41, 17.05s/it]"
     ]
    },
    {
     "name": "stderr",
     "output_type": "stream",
     "text": [
      "\r\n",
      "Best trial: 2. Best value: 0.577607:  35%|███▌      | 7/20 [02:23<03:41, 17.05s/it]"
     ]
    },
    {
     "name": "stderr",
     "output_type": "stream",
     "text": [
      "\r\n",
      "Best trial: 2. Best value: 0.577607:  40%|████      | 8/20 [02:23<03:22, 16.86s/it]"
     ]
    },
    {
     "name": "stdout",
     "output_type": "stream",
     "text": [
      "[I 2025-10-16 23:46:54,619] Trial 7 finished with value: 0.5673009573793897 and parameters: {'lr': 0.0008026345973809117, 'dropout': 0.40532786303452445, 'n1': 128, 'n2': 16}. Best is trial 2 with value: 0.5776067729755748.\n"
     ]
    },
    {
     "name": "stdout",
     "output_type": "stream",
     "text": [
      "\r\n",
      "\u001b[1m  1/260\u001b[0m \u001b[37m━━━━━━━━━━━━━━━━━━━━\u001b[0m \u001b[1m10s\u001b[0m 41ms/step"
     ]
    },
    {
     "name": "stdout",
     "output_type": "stream",
     "text": [
      "\b\b\b\b\b\b\b\b\b\b\b\b\b\b\b\b\b\b\b\b\b\b\b\b\b\b\b\b\b\b\b\b\b\b\b\b\b\b\b\b\b\b\r\n",
      "\u001b[1m 72/260\u001b[0m \u001b[32m━━━━━\u001b[0m\u001b[37m━━━━━━━━━━━━━━━\u001b[0m \u001b[1m0s\u001b[0m 711us/step"
     ]
    },
    {
     "name": "stdout",
     "output_type": "stream",
     "text": [
      "\b\b\b\b\b\b\b\b\b\b\b\b\b\b\b\b\b\b\b\b\b\b\b\b\b\b\b\b\b\b\b\b\b\b\b\b\b\b\b\b\b\b\r\n",
      "\u001b[1m143/260\u001b[0m \u001b[32m━━━━━━━━━━━\u001b[0m\u001b[37m━━━━━━━━━\u001b[0m \u001b[1m0s\u001b[0m 740us/step"
     ]
    },
    {
     "name": "stdout",
     "output_type": "stream",
     "text": [
      "\b\b\b\b\b\b\b\b\b\b\b\b\b\b\b\b\b\b\b\b\b\b\b\b\b\b\b\b\b\b\b\b\b\b\b\b\b\b\b\b\b\b\r\n",
      "\u001b[1m208/260\u001b[0m \u001b[32m━━━━━━━━━━━━━━━━\u001b[0m\u001b[37m━━━━\u001b[0m \u001b[1m0s\u001b[0m 751us/step"
     ]
    },
    {
     "name": "stdout",
     "output_type": "stream",
     "text": [
      "\b\b\b\b\b\b\b\b\b\b\b\b\b\b\b\b\b\b\b\b\b\b\b\b\b\b\b\b\b\b\b\b\b\b\b\b\b\b\b\b\b\b\r\n",
      "\u001b[1m260/260\u001b[0m \u001b[32m━━━━━━━━━━━━━━━━━━━━\u001b[0m\u001b[37m\u001b[0m \u001b[1m0s\u001b[0m 890us/step"
     ]
    },
    {
     "name": "stdout",
     "output_type": "stream",
     "text": [
      "\b\b\b\b\b\b\b\b\b\b\b\b\b\b\b\b\b\b\b\b\b\b\b\b\b\b\b\b\b\b\b\b\b\b\b\b\b\b\b\b\b\b\r\n",
      "\u001b[1m260/260\u001b[0m \u001b[32m━━━━━━━━━━━━━━━━━━━━\u001b[0m\u001b[37m\u001b[0m \u001b[1m0s\u001b[0m 942us/step\n"
     ]
    },
    {
     "name": "stderr",
     "output_type": "stream",
     "text": [
      "\r\n",
      "                                                                                   "
     ]
    },
    {
     "name": "stderr",
     "output_type": "stream",
     "text": [
      "\r"
     ]
    },
    {
     "name": "stderr",
     "output_type": "stream",
     "text": [
      "\r\n",
      "Best trial: 2. Best value: 0.577607:  40%|████      | 8/20 [02:43<03:22, 16.86s/it]"
     ]
    },
    {
     "name": "stderr",
     "output_type": "stream",
     "text": [
      "\r\n",
      "Best trial: 2. Best value: 0.577607:  40%|████      | 8/20 [02:43<03:22, 16.86s/it]"
     ]
    },
    {
     "name": "stderr",
     "output_type": "stream",
     "text": [
      "\r\n",
      "Best trial: 2. Best value: 0.577607:  45%|████▌     | 9/20 [02:43<03:15, 17.80s/it]"
     ]
    },
    {
     "name": "stdout",
     "output_type": "stream",
     "text": [
      "[I 2025-10-16 23:47:14,470] Trial 8 finished with value: 0.5656144221105854 and parameters: {'lr': 0.0004625293842269447, 'dropout': 0.47446327226301377, 'n1': 96, 'n2': 32}. Best is trial 2 with value: 0.5776067729755748.\n"
     ]
    },
    {
     "name": "stdout",
     "output_type": "stream",
     "text": [
      "\r\n",
      "\u001b[1m  1/260\u001b[0m \u001b[37m━━━━━━━━━━━━━━━━━━━━\u001b[0m \u001b[1m10s\u001b[0m 41ms/step"
     ]
    },
    {
     "name": "stdout",
     "output_type": "stream",
     "text": [
      "\b\b\b\b\b\b\b\b\b\b\b\b\b\b\b\b\b\b\b\b\b\b\b\b\b\b\b\b\b\b\b\b\b\b\b\b\b\b\b\b\b\b\r\n",
      "\u001b[1m 66/260\u001b[0m \u001b[32m━━━━━\u001b[0m\u001b[37m━━━━━━━━━━━━━━━\u001b[0m \u001b[1m0s\u001b[0m 839us/step"
     ]
    },
    {
     "name": "stdout",
     "output_type": "stream",
     "text": [
      "\b\b\b\b\b\b\b\b\b\b\b\b\b\b\b\b\b\b\b\b\b\b\b\b\b\b\b\b\b\b\b\b\b\b\b\b\b\b\b\b\b\b\r\n",
      "\u001b[1m137/260\u001b[0m \u001b[32m━━━━━━━━━━\u001b[0m\u001b[37m━━━━━━━━━━\u001b[0m \u001b[1m0s\u001b[0m 769us/step"
     ]
    },
    {
     "name": "stdout",
     "output_type": "stream",
     "text": [
      "\b\b\b\b\b\b\b\b\b\b\b\b\b\b\b\b\b\b\b\b\b\b\b\b\b\b\b\b\b\b\b\b\b\b\b\b\b\b\b\b\b\b\r\n",
      "\u001b[1m208/260\u001b[0m \u001b[32m━━━━━━━━━━━━━━━━\u001b[0m\u001b[37m━━━━\u001b[0m \u001b[1m0s\u001b[0m 750us/step"
     ]
    },
    {
     "name": "stdout",
     "output_type": "stream",
     "text": [
      "\b\b\b\b\b\b\b\b\b\b\b\b\b\b\b\b\b\b\b\b\b\b\b\b\b\b\b\b\b\b\b\b\b\b\b\b\b\b\b\b\b\b\r\n",
      "\u001b[1m260/260\u001b[0m \u001b[32m━━━━━━━━━━━━━━━━━━━━\u001b[0m\u001b[37m\u001b[0m \u001b[1m0s\u001b[0m 850us/step"
     ]
    },
    {
     "name": "stdout",
     "output_type": "stream",
     "text": [
      "\b\b\b\b\b\b\b\b\b\b\b\b\b\b\b\b\b\b\b\b\b\b\b\b\b\b\b\b\b\b\b\b\b\b\b\b\b\b\b\b\b\b\r\n",
      "\u001b[1m260/260\u001b[0m \u001b[32m━━━━━━━━━━━━━━━━━━━━\u001b[0m\u001b[37m\u001b[0m \u001b[1m0s\u001b[0m 907us/step\n"
     ]
    },
    {
     "name": "stderr",
     "output_type": "stream",
     "text": [
      "\r\n",
      "                                                                                   "
     ]
    },
    {
     "name": "stderr",
     "output_type": "stream",
     "text": [
      "\r"
     ]
    },
    {
     "name": "stderr",
     "output_type": "stream",
     "text": [
      "\r\n",
      "Best trial: 2. Best value: 0.577607:  45%|████▌     | 9/20 [02:56<03:15, 17.80s/it]"
     ]
    },
    {
     "name": "stderr",
     "output_type": "stream",
     "text": [
      "\r\n",
      "Best trial: 2. Best value: 0.577607:  45%|████▌     | 9/20 [02:56<03:15, 17.80s/it]"
     ]
    },
    {
     "name": "stderr",
     "output_type": "stream",
     "text": [
      "\r\n",
      "Best trial: 2. Best value: 0.577607:  50%|█████     | 10/20 [02:56<02:42, 16.28s/it]"
     ]
    },
    {
     "name": "stdout",
     "output_type": "stream",
     "text": [
      "[I 2025-10-16 23:47:27,356] Trial 9 finished with value: 0.5581302020338206 and parameters: {'lr': 0.0009725938725453528, 'dropout': 0.24608432413414616, 'n1': 64, 'n2': 32}. Best is trial 2 with value: 0.5776067729755748.\n"
     ]
    },
    {
     "name": "stdout",
     "output_type": "stream",
     "text": [
      "\r\n",
      "\u001b[1m  1/260\u001b[0m \u001b[37m━━━━━━━━━━━━━━━━━━━━\u001b[0m \u001b[1m9s\u001b[0m 35ms/step"
     ]
    },
    {
     "name": "stdout",
     "output_type": "stream",
     "text": [
      "\b\b\b\b\b\b\b\b\b\b\b\b\b\b\b\b\b\b\b\b\b\b\b\b\b\b\b\b\b\b\b\b\b\b\b\b\b\b\b\b\b\r\n",
      "\u001b[1m 62/260\u001b[0m \u001b[32m━━━━\u001b[0m\u001b[37m━━━━━━━━━━━━━━━━\u001b[0m \u001b[1m0s\u001b[0m 824us/step"
     ]
    },
    {
     "name": "stdout",
     "output_type": "stream",
     "text": [
      "\b\b\b\b\b\b\b\b\b\b\b\b\b\b\b\b\b\b\b\b\b\b\b\b\b\b\b\b\b\b\b\b\b\b\b\b\b\b\b\b\b\b\r\n",
      "\u001b[1m131/260\u001b[0m \u001b[32m━━━━━━━━━━\u001b[0m\u001b[37m━━━━━━━━━━\u001b[0m \u001b[1m0s\u001b[0m 773us/step"
     ]
    },
    {
     "name": "stdout",
     "output_type": "stream",
     "text": [
      "\b\b\b\b\b\b\b\b\b\b\b\b\b\b\b\b\b\b\b\b\b\b\b\b\b\b\b\b\b\b\b\b\b\b\b\b\b\b\b\b\b\b\r\n",
      "\u001b[1m199/260\u001b[0m \u001b[32m━━━━━━━━━━━━━━━\u001b[0m\u001b[37m━━━━━\u001b[0m \u001b[1m0s\u001b[0m 761us/step"
     ]
    },
    {
     "name": "stdout",
     "output_type": "stream",
     "text": [
      "\b\b\b\b\b\b\b\b\b\b\b\b\b\b\b\b\b\b\b\b\b\b\b\b\b\b\b\b\b\b\b\b\b\b\b\b\b\b\b\b\b\b\r\n",
      "\u001b[1m260/260\u001b[0m \u001b[32m━━━━━━━━━━━━━━━━━━━━\u001b[0m\u001b[37m\u001b[0m \u001b[1m0s\u001b[0m 872us/step"
     ]
    },
    {
     "name": "stdout",
     "output_type": "stream",
     "text": [
      "\b\b\b\b\b\b\b\b\b\b\b\b\b\b\b\b\b\b\b\b\b\b\b\b\b\b\b\b\b\b\b\b\b\b\b\b\b\b\b\b\b\b\r\n",
      "\u001b[1m260/260\u001b[0m \u001b[32m━━━━━━━━━━━━━━━━━━━━\u001b[0m\u001b[37m\u001b[0m \u001b[1m0s\u001b[0m 922us/step\n"
     ]
    },
    {
     "name": "stderr",
     "output_type": "stream",
     "text": [
      "\r\n",
      "                                                                                    "
     ]
    },
    {
     "name": "stderr",
     "output_type": "stream",
     "text": [
      "\r"
     ]
    },
    {
     "name": "stderr",
     "output_type": "stream",
     "text": [
      "\r\n",
      "Best trial: 2. Best value: 0.577607:  50%|█████     | 10/20 [03:15<02:42, 16.28s/it]"
     ]
    },
    {
     "name": "stderr",
     "output_type": "stream",
     "text": [
      "\r\n",
      "Best trial: 2. Best value: 0.577607:  50%|█████     | 10/20 [03:15<02:42, 16.28s/it]"
     ]
    },
    {
     "name": "stderr",
     "output_type": "stream",
     "text": [
      "\r\n",
      "Best trial: 2. Best value: 0.577607:  55%|█████▌    | 11/20 [03:15<02:33, 17.01s/it]"
     ]
    },
    {
     "name": "stdout",
     "output_type": "stream",
     "text": [
      "[I 2025-10-16 23:47:46,030] Trial 10 finished with value: 0.5609892160483334 and parameters: {'lr': 0.0032692107796871905, 'dropout': 0.32144261403348395, 'n1': 32, 'n2': 64}. Best is trial 2 with value: 0.5776067729755748.\n"
     ]
    },
    {
     "name": "stdout",
     "output_type": "stream",
     "text": [
      "\r\n",
      "\u001b[1m  1/260\u001b[0m \u001b[37m━━━━━━━━━━━━━━━━━━━━\u001b[0m \u001b[1m11s\u001b[0m 43ms/step"
     ]
    },
    {
     "name": "stdout",
     "output_type": "stream",
     "text": [
      "\b\b\b\b\b\b\b\b\b\b\b\b\b\b\b\b\b\b\b\b\b\b\b\b\b\b\b\b\b\b\b\b\b\b\b\b\b\b\b\b\b\b\r\n",
      "\u001b[1m 67/260\u001b[0m \u001b[32m━━━━━\u001b[0m\u001b[37m━━━━━━━━━━━━━━━\u001b[0m \u001b[1m0s\u001b[0m 761us/step"
     ]
    },
    {
     "name": "stdout",
     "output_type": "stream",
     "text": [
      "\b\b\b\b\b\b\b\b\b\b\b\b\b\b\b\b\b\b\b\b\b\b\b\b\b\b\b\b\b\b\b\b\b\b\b\b\b\b\b\b\b\b\r\n",
      "\u001b[1m134/260\u001b[0m \u001b[32m━━━━━━━━━━\u001b[0m\u001b[37m━━━━━━━━━━\u001b[0m \u001b[1m0s\u001b[0m 755us/step"
     ]
    },
    {
     "name": "stdout",
     "output_type": "stream",
     "text": [
      "\b\b\b\b\b\b\b\b\b\b\b\b\b\b\b\b\b\b\b\b\b\b\b\b\b\b\b\b\b\b\b\b\b\b\b\b\b\b\b\b\b\b\r\n",
      "\u001b[1m201/260\u001b[0m \u001b[32m━━━━━━━━━━━━━━━\u001b[0m\u001b[37m━━━━━\u001b[0m \u001b[1m0s\u001b[0m 754us/step"
     ]
    },
    {
     "name": "stdout",
     "output_type": "stream",
     "text": [
      "\b\b\b\b\b\b\b\b\b\b\b\b\b\b\b\b\b\b\b\b\b\b\b\b\b\b\b\b\b\b\b\b\b\b\b\b\b\b\b\b\b\b\r\n",
      "\u001b[1m260/260\u001b[0m \u001b[32m━━━━━━━━━━━━━━━━━━━━\u001b[0m\u001b[37m\u001b[0m \u001b[1m0s\u001b[0m 875us/step"
     ]
    },
    {
     "name": "stdout",
     "output_type": "stream",
     "text": [
      "\b\b\b\b\b\b\b\b\b\b\b\b\b\b\b\b\b\b\b\b\b\b\b\b\b\b\b\b\b\b\b\b\b\b\b\b\b\b\b\b\b\b\r\n",
      "\u001b[1m260/260\u001b[0m \u001b[32m━━━━━━━━━━━━━━━━━━━━\u001b[0m\u001b[37m\u001b[0m \u001b[1m0s\u001b[0m 949us/step\n"
     ]
    },
    {
     "name": "stderr",
     "output_type": "stream",
     "text": [
      "\r\n",
      "                                                                                    "
     ]
    },
    {
     "name": "stderr",
     "output_type": "stream",
     "text": [
      "\r"
     ]
    },
    {
     "name": "stderr",
     "output_type": "stream",
     "text": [
      "\r\n",
      "Best trial: 2. Best value: 0.577607:  55%|█████▌    | 11/20 [03:32<02:33, 17.01s/it]"
     ]
    },
    {
     "name": "stderr",
     "output_type": "stream",
     "text": [
      "\r\n",
      "Best trial: 2. Best value: 0.577607:  55%|█████▌    | 11/20 [03:32<02:33, 17.01s/it]"
     ]
    },
    {
     "name": "stderr",
     "output_type": "stream",
     "text": [
      "\r\n",
      "Best trial: 2. Best value: 0.577607:  60%|██████    | 12/20 [03:32<02:16, 17.02s/it]"
     ]
    },
    {
     "name": "stdout",
     "output_type": "stream",
     "text": [
      "[I 2025-10-16 23:48:03,052] Trial 11 finished with value: 0.5641072611420164 and parameters: {'lr': 0.0023600151494240253, 'dropout': 0.37973282165286215, 'n1': 64, 'n2': 16}. Best is trial 2 with value: 0.5776067729755748.\n"
     ]
    },
    {
     "name": "stdout",
     "output_type": "stream",
     "text": [
      "\r\n",
      "\u001b[1m  1/260\u001b[0m \u001b[37m━━━━━━━━━━━━━━━━━━━━\u001b[0m \u001b[1m12s\u001b[0m 49ms/step"
     ]
    },
    {
     "name": "stdout",
     "output_type": "stream",
     "text": [
      "\b\b\b\b\b\b\b\b\b\b\b\b\b\b\b\b\b\b\b\b\b\b\b\b\b\b\b\b\b\b\b\b\b\b\b\b\b\b\b\b\b\b\r\n",
      "\u001b[1m 63/260\u001b[0m \u001b[32m━━━━\u001b[0m\u001b[37m━━━━━━━━━━━━━━━━\u001b[0m \u001b[1m0s\u001b[0m 810us/step"
     ]
    },
    {
     "name": "stdout",
     "output_type": "stream",
     "text": [
      "\b\b\b\b\b\b\b\b\b\b\b\b\b\b\b\b\b\b\b\b\b\b\b\b\b\b\b\b\b\b\b\b\b\b\b\b\b\b\b\b\b\b\r\n",
      "\u001b[1m136/260\u001b[0m \u001b[32m━━━━━━━━━━\u001b[0m\u001b[37m━━━━━━━━━━\u001b[0m \u001b[1m0s\u001b[0m 777us/step"
     ]
    },
    {
     "name": "stdout",
     "output_type": "stream",
     "text": [
      "\b\b\b\b\b\b\b\b\b\b\b\b\b\b\b\b\b\b\b\b\b\b\b\b\b\b\b\b\b\b\b\b\b\b\b\b\b\b\b\b\b\b\r\n",
      "\u001b[1m206/260\u001b[0m \u001b[32m━━━━━━━━━━━━━━━\u001b[0m\u001b[37m━━━━━\u001b[0m \u001b[1m0s\u001b[0m 759us/step"
     ]
    },
    {
     "name": "stdout",
     "output_type": "stream",
     "text": [
      "\b\b\b\b\b\b\b\b\b\b\b\b\b\b\b\b\b\b\b\b\b\b\b\b\b\b\b\b\b\b\b\b\b\b\b\b\b\b\b\b\b\b\r\n",
      "\u001b[1m260/260\u001b[0m \u001b[32m━━━━━━━━━━━━━━━━━━━━\u001b[0m\u001b[37m\u001b[0m \u001b[1m0s\u001b[0m 896us/step"
     ]
    },
    {
     "name": "stdout",
     "output_type": "stream",
     "text": [
      "\b\b\b\b\b\b\b\b\b\b\b\b\b\b\b\b\b\b\b\b\b\b\b\b\b\b\b\b\b\b\b\b\b\b\b\b\b\b\b\b\b\b\r\n",
      "\u001b[1m260/260\u001b[0m \u001b[32m━━━━━━━━━━━━━━━━━━━━\u001b[0m\u001b[37m\u001b[0m \u001b[1m0s\u001b[0m 972us/step\n"
     ]
    },
    {
     "name": "stderr",
     "output_type": "stream",
     "text": [
      "\r\n",
      "                                                                                    "
     ]
    },
    {
     "name": "stderr",
     "output_type": "stream",
     "text": [
      "\r"
     ]
    },
    {
     "name": "stderr",
     "output_type": "stream",
     "text": [
      "\r\n",
      "Best trial: 2. Best value: 0.577607:  60%|██████    | 12/20 [03:49<02:16, 17.02s/it]"
     ]
    },
    {
     "name": "stderr",
     "output_type": "stream",
     "text": [
      "\r\n",
      "Best trial: 2. Best value: 0.577607:  60%|██████    | 12/20 [03:49<02:16, 17.02s/it]"
     ]
    },
    {
     "name": "stderr",
     "output_type": "stream",
     "text": [
      "\r\n",
      "Best trial: 2. Best value: 0.577607:  65%|██████▌   | 13/20 [03:49<01:59, 17.10s/it]"
     ]
    },
    {
     "name": "stdout",
     "output_type": "stream",
     "text": [
      "[I 2025-10-16 23:48:20,351] Trial 12 finished with value: 0.5572385736812179 and parameters: {'lr': 0.002131610983237636, 'dropout': 0.3700541579588163, 'n1': 96, 'n2': 16}. Best is trial 2 with value: 0.5776067729755748.\n"
     ]
    },
    {
     "name": "stdout",
     "output_type": "stream",
     "text": [
      "\r\n",
      "\u001b[1m  1/260\u001b[0m \u001b[37m━━━━━━━━━━━━━━━━━━━━\u001b[0m \u001b[1m13s\u001b[0m 54ms/step"
     ]
    },
    {
     "name": "stdout",
     "output_type": "stream",
     "text": [
      "\b\b\b\b\b\b\b\b\b\b\b\b\b\b\b\b\b\b\b\b\b\b\b\b\b\b\b\b\b\b\b\b\b\b\b\b\b\b\b\b\b\b\r\n",
      "\u001b[1m 68/260\u001b[0m \u001b[32m━━━━━\u001b[0m\u001b[37m━━━━━━━━━━━━━━━\u001b[0m \u001b[1m0s\u001b[0m 755us/step"
     ]
    },
    {
     "name": "stdout",
     "output_type": "stream",
     "text": [
      "\b\b\b\b\b\b\b\b\b\b\b\b\b\b\b\b\b\b\b\b\b\b\b\b\b\b\b\b\b\b\b\b\b\b\b\b\b\b\b\b\b\b\r\n",
      "\u001b[1m138/260\u001b[0m \u001b[32m━━━━━━━━━━\u001b[0m\u001b[37m━━━━━━━━━━\u001b[0m \u001b[1m0s\u001b[0m 734us/step"
     ]
    },
    {
     "name": "stdout",
     "output_type": "stream",
     "text": [
      "\b\b\b\b\b\b\b\b\b\b\b\b\b\b\b\b\b\b\b\b\b\b\b\b\b\b\b\b\b\b\b\b\b\b\b\b\b\b\b\b\b\b\r\n",
      "\u001b[1m202/260\u001b[0m \u001b[32m━━━━━━━━━━━━━━━\u001b[0m\u001b[37m━━━━━\u001b[0m \u001b[1m0s\u001b[0m 751us/step"
     ]
    },
    {
     "name": "stdout",
     "output_type": "stream",
     "text": [
      "\b\b\b\b\b\b\b\b\b\b\b\b\b\b\b\b\b\b\b\b\b\b\b\b\b\b\b\b\b\b\b\b\b\b\b\b\b\b\b\b\b\b\r\n",
      "\u001b[1m260/260\u001b[0m \u001b[32m━━━━━━━━━━━━━━━━━━━━\u001b[0m\u001b[37m\u001b[0m \u001b[1m0s\u001b[0m 882us/step"
     ]
    },
    {
     "name": "stdout",
     "output_type": "stream",
     "text": [
      "\b\b\b\b\b\b\b\b\b\b\b\b\b\b\b\b\b\b\b\b\b\b\b\b\b\b\b\b\b\b\b\b\b\b\b\b\b\b\b\b\b\b\r\n",
      "\u001b[1m260/260\u001b[0m \u001b[32m━━━━━━━━━━━━━━━━━━━━\u001b[0m\u001b[37m\u001b[0m \u001b[1m0s\u001b[0m 964us/step\n"
     ]
    },
    {
     "name": "stderr",
     "output_type": "stream",
     "text": [
      "\r\n",
      "                                                                                    "
     ]
    },
    {
     "name": "stderr",
     "output_type": "stream",
     "text": [
      "\r"
     ]
    },
    {
     "name": "stderr",
     "output_type": "stream",
     "text": [
      "\r\n",
      "Best trial: 2. Best value: 0.577607:  65%|██████▌   | 13/20 [04:15<01:59, 17.10s/it]"
     ]
    },
    {
     "name": "stderr",
     "output_type": "stream",
     "text": [
      "\r\n",
      "Best trial: 2. Best value: 0.577607:  65%|██████▌   | 13/20 [04:15<01:59, 17.10s/it]"
     ]
    },
    {
     "name": "stderr",
     "output_type": "stream",
     "text": [
      "\r\n",
      "Best trial: 2. Best value: 0.577607:  70%|███████   | 14/20 [04:15<01:59, 19.94s/it]"
     ]
    },
    {
     "name": "stdout",
     "output_type": "stream",
     "text": [
      "[I 2025-10-16 23:48:46,837] Trial 13 finished with value: 0.5573120428935145 and parameters: {'lr': 0.0003715762257183489, 'dropout': 0.44656459266444637, 'n1': 32, 'n2': 48}. Best is trial 2 with value: 0.5776067729755748.\n"
     ]
    },
    {
     "name": "stdout",
     "output_type": "stream",
     "text": [
      "\r\n",
      "\u001b[1m  1/260\u001b[0m \u001b[37m━━━━━━━━━━━━━━━━━━━━\u001b[0m \u001b[1m12s\u001b[0m 47ms/step"
     ]
    },
    {
     "name": "stdout",
     "output_type": "stream",
     "text": [
      "\b\b\b\b\b\b\b\b\b\b\b\b\b\b\b\b\b\b\b\b\b\b\b\b\b\b\b\b\b\b\b\b\b\b\b\b\b\b\b\b\b\b\r\n",
      "\u001b[1m 66/260\u001b[0m \u001b[32m━━━━━\u001b[0m\u001b[37m━━━━━━━━━━━━━━━\u001b[0m \u001b[1m0s\u001b[0m 777us/step"
     ]
    },
    {
     "name": "stdout",
     "output_type": "stream",
     "text": [
      "\b\b\b\b\b\b\b\b\b\b\b\b\b\b\b\b\b\b\b\b\b\b\b\b\b\b\b\b\b\b\b\b\b\b\b\b\b\b\b\b\b\b\r\n",
      "\u001b[1m125/260\u001b[0m \u001b[32m━━━━━━━━━\u001b[0m\u001b[37m━━━━━━━━━━━\u001b[0m \u001b[1m0s\u001b[0m 811us/step"
     ]
    },
    {
     "name": "stdout",
     "output_type": "stream",
     "text": [
      "\b\b\b\b\b\b\b\b\b\b\b\b\b\b\b\b\b\b\b\b\b\b\b\b\b\b\b\b\b\b\b\b\b\b\b\b\b\b\b\b\b\b\r\n",
      "\u001b[1m193/260\u001b[0m \u001b[32m━━━━━━━━━━━━━━\u001b[0m\u001b[37m━━━━━━\u001b[0m \u001b[1m0s\u001b[0m 787us/step"
     ]
    },
    {
     "name": "stdout",
     "output_type": "stream",
     "text": [
      "\b\b\b\b\b\b\b\b\b\b\b\b\b\b\b\b\b\b\b\b\b\b\b\b\b\b\b\b\b\b\b\b\b\b\b\b\b\b\b\b\b\b\r\n",
      "\u001b[1m260/260\u001b[0m \u001b[32m━━━━━━━━━━━━━━━━━━━━\u001b[0m\u001b[37m\u001b[0m \u001b[1m0s\u001b[0m 892us/step"
     ]
    },
    {
     "name": "stdout",
     "output_type": "stream",
     "text": [
      "\b\b\b\b\b\b\b\b\b\b\b\b\b\b\b\b\b\b\b\b\b\b\b\b\b\b\b\b\b\b\b\b\b\b\b\b\b\b\b\b\b\b\r\n",
      "\u001b[1m260/260\u001b[0m \u001b[32m━━━━━━━━━━━━━━━━━━━━\u001b[0m\u001b[37m\u001b[0m \u001b[1m0s\u001b[0m 947us/step\n"
     ]
    },
    {
     "name": "stderr",
     "output_type": "stream",
     "text": [
      "\r\n",
      "                                                                                    "
     ]
    },
    {
     "name": "stderr",
     "output_type": "stream",
     "text": [
      "\r"
     ]
    },
    {
     "name": "stderr",
     "output_type": "stream",
     "text": [
      "\r\n",
      "Best trial: 2. Best value: 0.577607:  70%|███████   | 14/20 [04:38<01:59, 19.94s/it]"
     ]
    },
    {
     "name": "stderr",
     "output_type": "stream",
     "text": [
      "\r\n",
      "Best trial: 2. Best value: 0.577607:  70%|███████   | 14/20 [04:38<01:59, 19.94s/it]"
     ]
    },
    {
     "name": "stdout",
     "output_type": "stream",
     "text": [
      "[I 2025-10-16 23:49:08,895] Trial 14 finished with value: 0.5633399377465663 and parameters: {'lr': 0.00010130391585841576, 'dropout': 0.32285345129493076, 'n1': 96, 'n2': 16}. Best is trial 2 with value: 0.5776067729755748.\n"
     ]
    },
    {
     "name": "stderr",
     "output_type": "stream",
     "text": [
      "\r\n",
      "Best trial: 2. Best value: 0.577607:  75%|███████▌  | 15/20 [04:38<01:42, 20.58s/it]"
     ]
    },
    {
     "name": "stdout",
     "output_type": "stream",
     "text": [
      "\r\n",
      "\u001b[1m  1/260\u001b[0m \u001b[37m━━━━━━━━━━━━━━━━━━━━\u001b[0m \u001b[1m15s\u001b[0m 59ms/step"
     ]
    },
    {
     "name": "stdout",
     "output_type": "stream",
     "text": [
      "\b\b\b\b\b\b\b\b\b\b\b\b\b\b\b\b\b\b\b\b\b\b\b\b\b\b\b\b\b\b\b\b\b\b\b\b\b\b\b\b\b\b\r\n",
      "\u001b[1m 55/260\u001b[0m \u001b[32m━━━━\u001b[0m\u001b[37m━━━━━━━━━━━━━━━━\u001b[0m \u001b[1m0s\u001b[0m 933us/step"
     ]
    },
    {
     "name": "stdout",
     "output_type": "stream",
     "text": [
      "\b\b\b\b\b\b\b\b\b\b\b\b\b\b\b\b\b\b\b\b\b\b\b\b\b\b\b\b\b\b\b\b\b\b\b\b\b\b\b\b\b\b\r\n",
      "\u001b[1m115/260\u001b[0m \u001b[32m━━━━━━━━\u001b[0m\u001b[37m━━━━━━━━━━━━\u001b[0m \u001b[1m0s\u001b[0m 884us/step"
     ]
    },
    {
     "name": "stdout",
     "output_type": "stream",
     "text": [
      "\b\b\b\b\b\b\b\b\b\b\b\b\b\b\b\b\b\b\b\b\b\b\b\b\b\b\b\b\b\b\b\b\b\b\b\b\b\b\b\b\b\b\r\n",
      "\u001b[1m183/260\u001b[0m \u001b[32m━━━━━━━━━━━━━━\u001b[0m\u001b[37m━━━━━━\u001b[0m \u001b[1m0s\u001b[0m 830us/step"
     ]
    },
    {
     "name": "stdout",
     "output_type": "stream",
     "text": [
      "\b\b\b\b\b\b\b\b\b\b\b\b\b\b\b\b\b\b\b\b\b\b\b\b\b\b\b\b\b\b\b\b\b\b\b\b\b\b\b\b\b\b\r\n",
      "\u001b[1m247/260\u001b[0m \u001b[32m━━━━━━━━━━━━━━━━━━━\u001b[0m\u001b[37m━\u001b[0m \u001b[1m0s\u001b[0m 819us/step"
     ]
    },
    {
     "name": "stdout",
     "output_type": "stream",
     "text": [
      "\b\b\b\b\b\b\b\b\b\b\b\b\b\b\b\b\b\b\b\b\b\b\b\b\b\b\b\b\b\b\b\b\b\b\b\b\b\b\b\b\b\b\r\n",
      "\u001b[1m260/260\u001b[0m \u001b[32m━━━━━━━━━━━━━━━━━━━━\u001b[0m\u001b[37m\u001b[0m \u001b[1m0s\u001b[0m 1ms/step  \n"
     ]
    },
    {
     "name": "stderr",
     "output_type": "stream",
     "text": [
      "\r\n",
      "                                                                                    "
     ]
    },
    {
     "name": "stderr",
     "output_type": "stream",
     "text": [
      "\r"
     ]
    },
    {
     "name": "stderr",
     "output_type": "stream",
     "text": [
      "\r\n",
      "Best trial: 2. Best value: 0.577607:  75%|███████▌  | 15/20 [04:51<01:42, 20.58s/it]"
     ]
    },
    {
     "name": "stderr",
     "output_type": "stream",
     "text": [
      "\r\n",
      "Best trial: 2. Best value: 0.577607:  75%|███████▌  | 15/20 [04:51<01:42, 20.58s/it]"
     ]
    },
    {
     "name": "stderr",
     "output_type": "stream",
     "text": [
      "\r\n",
      "Best trial: 2. Best value: 0.577607:  80%|████████  | 16/20 [04:51<01:13, 18.34s/it]"
     ]
    },
    {
     "name": "stdout",
     "output_type": "stream",
     "text": [
      "[I 2025-10-16 23:49:22,051] Trial 15 finished with value: 0.5586801790095595 and parameters: {'lr': 0.0017323715676200834, 'dropout': 0.4242532575827031, 'n1': 64, 'n2': 16}. Best is trial 2 with value: 0.5776067729755748.\n"
     ]
    },
    {
     "name": "stdout",
     "output_type": "stream",
     "text": [
      "\r\n",
      "\u001b[1m  1/260\u001b[0m \u001b[37m━━━━━━━━━━━━━━━━━━━━\u001b[0m \u001b[1m13s\u001b[0m 51ms/step"
     ]
    },
    {
     "name": "stdout",
     "output_type": "stream",
     "text": [
      "\b\b\b\b\b\b\b\b\b\b\b\b\b\b\b\b\b\b\b\b\b\b\b\b\b\b\b\b\b\b\b\b\b\b\b\b\b\b\b\b\b\b\r\n",
      "\u001b[1m 56/260\u001b[0m \u001b[32m━━━━\u001b[0m\u001b[37m━━━━━━━━━━━━━━━━\u001b[0m \u001b[1m0s\u001b[0m 918us/step"
     ]
    },
    {
     "name": "stdout",
     "output_type": "stream",
     "text": [
      "\b\b\b\b\b\b\b\b\b\b\b\b\b\b\b\b\b\b\b\b\b\b\b\b\b\b\b\b\b\b\b\b\b\b\b\b\b\b\b\b\b\b\r\n",
      "\u001b[1m127/260\u001b[0m \u001b[32m━━━━━━━━━\u001b[0m\u001b[37m━━━━━━━━━━━\u001b[0m \u001b[1m0s\u001b[0m 799us/step"
     ]
    },
    {
     "name": "stdout",
     "output_type": "stream",
     "text": [
      "\b\b\b\b\b\b\b\b\b\b\b\b\b\b\b\b\b\b\b\b\b\b\b\b\b\b\b\b\b\b\b\b\b\b\b\b\b\b\b\b\b\b\r\n",
      "\u001b[1m203/260\u001b[0m \u001b[32m━━━━━━━━━━━━━━━\u001b[0m\u001b[37m━━━━━\u001b[0m \u001b[1m0s\u001b[0m 762us/step"
     ]
    },
    {
     "name": "stdout",
     "output_type": "stream",
     "text": [
      "\b\b\b\b\b\b\b\b\b\b\b\b\b\b\b\b\b\b\b\b\b\b\b\b\b\b\b\b\b\b\b\b\b\b\b\b\b\b\b\b\b\b\r\n",
      "\u001b[1m260/260\u001b[0m \u001b[32m━━━━━━━━━━━━━━━━━━━━\u001b[0m\u001b[37m\u001b[0m \u001b[1m0s\u001b[0m 848us/step"
     ]
    },
    {
     "name": "stdout",
     "output_type": "stream",
     "text": [
      "\b\b\b\b\b\b\b\b\b\b\b\b\b\b\b\b\b\b\b\b\b\b\b\b\b\b\b\b\b\b\b\b\b\b\b\b\b\b\b\b\b\b\r\n",
      "\u001b[1m260/260\u001b[0m \u001b[32m━━━━━━━━━━━━━━━━━━━━\u001b[0m\u001b[37m\u001b[0m \u001b[1m0s\u001b[0m 901us/step\n"
     ]
    },
    {
     "name": "stderr",
     "output_type": "stream",
     "text": [
      "\r\n",
      "                                                                                    "
     ]
    },
    {
     "name": "stderr",
     "output_type": "stream",
     "text": [
      "\r"
     ]
    },
    {
     "name": "stderr",
     "output_type": "stream",
     "text": [
      "\r\n",
      "Best trial: 2. Best value: 0.577607:  80%|████████  | 16/20 [05:18<01:13, 18.34s/it]"
     ]
    },
    {
     "name": "stderr",
     "output_type": "stream",
     "text": [
      "\r\n",
      "Best trial: 2. Best value: 0.577607:  80%|████████  | 16/20 [05:18<01:13, 18.34s/it]"
     ]
    },
    {
     "name": "stderr",
     "output_type": "stream",
     "text": [
      "\r\n",
      "Best trial: 2. Best value: 0.577607:  85%|████████▌ | 17/20 [05:18<01:03, 21.05s/it]"
     ]
    },
    {
     "name": "stdout",
     "output_type": "stream",
     "text": [
      "[I 2025-10-16 23:49:49,412] Trial 16 finished with value: 0.5658747558353638 and parameters: {'lr': 0.0002477565484147488, 'dropout': 0.31354850585358157, 'n1': 32, 'n2': 48}. Best is trial 2 with value: 0.5776067729755748.\n"
     ]
    },
    {
     "name": "stdout",
     "output_type": "stream",
     "text": [
      "\r\n",
      "\u001b[1m  1/260\u001b[0m \u001b[37m━━━━━━━━━━━━━━━━━━━━\u001b[0m \u001b[1m16s\u001b[0m 63ms/step"
     ]
    },
    {
     "name": "stdout",
     "output_type": "stream",
     "text": [
      "\b\b\b\b\b\b\b\b\b\b\b\b\b\b\b\b\b\b\b\b\b\b\b\b\b\b\b\b\b\b\b\b\b\b\b\b\b\b\b\b\b\b\r\n",
      "\u001b[1m 78/260\u001b[0m \u001b[32m━━━━━━\u001b[0m\u001b[37m━━━━━━━━━━━━━━\u001b[0m \u001b[1m0s\u001b[0m 658us/step"
     ]
    },
    {
     "name": "stdout",
     "output_type": "stream",
     "text": [
      "\b\b\b\b\b\b\b\b\b\b\b\b\b\b\b\b\b\b\b\b\b\b\b\b\b\b\b\b\b\b\b\b\b\b\b\b\b\b\b\b\b\b\r\n",
      "\u001b[1m142/260\u001b[0m \u001b[32m━━━━━━━━━━\u001b[0m\u001b[37m━━━━━━━━━━\u001b[0m \u001b[1m0s\u001b[0m 717us/step"
     ]
    },
    {
     "name": "stdout",
     "output_type": "stream",
     "text": [
      "\b\b\b\b\b\b\b\b\b\b\b\b\b\b\b\b\b\b\b\b\b\b\b\b\b\b\b\b\b\b\b\b\b\b\b\b\b\b\b\b\b\b\r\n",
      "\u001b[1m207/260\u001b[0m \u001b[32m━━━━━━━━━━━━━━━\u001b[0m\u001b[37m━━━━━\u001b[0m \u001b[1m0s\u001b[0m 762us/step"
     ]
    },
    {
     "name": "stdout",
     "output_type": "stream",
     "text": [
      "\b\b\b\b\b\b\b\b\b\b\b\b\b\b\b\b\b\b\b\b\b\b\b\b\b\b\b\b\b\b\b\b\b\b\b\b\b\b\b\b\b\b\r\n",
      "\u001b[1m260/260\u001b[0m \u001b[32m━━━━━━━━━━━━━━━━━━━━\u001b[0m\u001b[37m\u001b[0m \u001b[1m0s\u001b[0m 891us/step"
     ]
    },
    {
     "name": "stdout",
     "output_type": "stream",
     "text": [
      "\b\b\b\b\b\b\b\b\b\b\b\b\b\b\b\b\b\b\b\b\b\b\b\b\b\b\b\b\b\b\b\b\b\b\b\b\b\b\b\b\b\b\r\n",
      "\u001b[1m260/260\u001b[0m \u001b[32m━━━━━━━━━━━━━━━━━━━━\u001b[0m\u001b[37m\u001b[0m \u001b[1m0s\u001b[0m 970us/step\n"
     ]
    },
    {
     "name": "stderr",
     "output_type": "stream",
     "text": [
      "\r\n",
      "                                                                                    "
     ]
    },
    {
     "name": "stderr",
     "output_type": "stream",
     "text": [
      "\r"
     ]
    },
    {
     "name": "stderr",
     "output_type": "stream",
     "text": [
      "\r\n",
      "Best trial: 2. Best value: 0.577607:  85%|████████▌ | 17/20 [05:41<01:03, 21.05s/it]"
     ]
    },
    {
     "name": "stderr",
     "output_type": "stream",
     "text": [
      "\r\n",
      "Best trial: 2. Best value: 0.577607:  85%|████████▌ | 17/20 [05:41<01:03, 21.05s/it]"
     ]
    },
    {
     "name": "stderr",
     "output_type": "stream",
     "text": [
      "\r\n",
      "Best trial: 2. Best value: 0.577607:  90%|█████████ | 18/20 [05:41<00:43, 21.66s/it]"
     ]
    },
    {
     "name": "stdout",
     "output_type": "stream",
     "text": [
      "[I 2025-10-16 23:50:12,477] Trial 17 finished with value: 0.5594785705027626 and parameters: {'lr': 0.0005237311098051435, 'dropout': 0.5123563518366485, 'n1': 128, 'n2': 32}. Best is trial 2 with value: 0.5776067729755748.\n"
     ]
    },
    {
     "name": "stdout",
     "output_type": "stream",
     "text": [
      "\r\n",
      "\u001b[1m  1/260\u001b[0m \u001b[37m━━━━━━━━━━━━━━━━━━━━\u001b[0m \u001b[1m11s\u001b[0m 45ms/step"
     ]
    },
    {
     "name": "stdout",
     "output_type": "stream",
     "text": [
      "\b\b\b\b\b\b\b\b\b\b\b\b\b\b\b\b\b\b\b\b\b\b\b\b\b\b\b\b\b\b\b\b\b\b\b\b\b\b\b\b\b\b\r\n",
      "\u001b[1m 67/260\u001b[0m \u001b[32m━━━━━\u001b[0m\u001b[37m━━━━━━━━━━━━━━━\u001b[0m \u001b[1m0s\u001b[0m 760us/step"
     ]
    },
    {
     "name": "stdout",
     "output_type": "stream",
     "text": [
      "\b\b\b\b\b\b\b\b\b\b\b\b\b\b\b\b\b\b\b\b\b\b\b\b\b\b\b\b\b\b\b\b\b\b\b\b\b\b\b\b\b\b\r\n",
      "\u001b[1m147/260\u001b[0m \u001b[32m━━━━━━━━━━━\u001b[0m\u001b[37m━━━━━━━━━\u001b[0m \u001b[1m0s\u001b[0m 686us/step"
     ]
    },
    {
     "name": "stdout",
     "output_type": "stream",
     "text": [
      "\b\b\b\b\b\b\b\b\b\b\b\b\b\b\b\b\b\b\b\b\b\b\b\b\b\b\b\b\b\b\b\b\b\b\b\b\b\b\b\b\b\b\r\n",
      "\u001b[1m214/260\u001b[0m \u001b[32m━━━━━━━━━━━━━━━━\u001b[0m\u001b[37m━━━━\u001b[0m \u001b[1m0s\u001b[0m 707us/step"
     ]
    },
    {
     "name": "stdout",
     "output_type": "stream",
     "text": [
      "\b\b\b\b\b\b\b\b\b\b\b\b\b\b\b\b\b\b\b\b\b\b\b\b\b\b\b\b\b\b\b\b\b\b\b\b\b\b\b\b\b\b\r\n",
      "\u001b[1m260/260\u001b[0m \u001b[32m━━━━━━━━━━━━━━━━━━━━\u001b[0m\u001b[37m\u001b[0m \u001b[1m0s\u001b[0m 831us/step"
     ]
    },
    {
     "name": "stdout",
     "output_type": "stream",
     "text": [
      "\b\b\b\b\b\b\b\b\b\b\b\b\b\b\b\b\b\b\b\b\b\b\b\b\b\b\b\b\b\b\b\b\b\b\b\b\b\b\b\b\b\b\r\n",
      "\u001b[1m260/260\u001b[0m \u001b[32m━━━━━━━━━━━━━━━━━━━━\u001b[0m\u001b[37m\u001b[0m \u001b[1m0s\u001b[0m 888us/step\n"
     ]
    },
    {
     "name": "stderr",
     "output_type": "stream",
     "text": [
      "\r\n",
      "                                                                                    "
     ]
    },
    {
     "name": "stderr",
     "output_type": "stream",
     "text": [
      "\r"
     ]
    },
    {
     "name": "stderr",
     "output_type": "stream",
     "text": [
      "\r\n",
      "Best trial: 2. Best value: 0.577607:  90%|█████████ | 18/20 [05:56<00:43, 21.66s/it]"
     ]
    },
    {
     "name": "stderr",
     "output_type": "stream",
     "text": [
      "\r\n",
      "Best trial: 2. Best value: 0.577607:  90%|█████████ | 18/20 [05:56<00:43, 21.66s/it]"
     ]
    },
    {
     "name": "stderr",
     "output_type": "stream",
     "text": [
      "\r\n",
      "Best trial: 2. Best value: 0.577607:  95%|█████████▌| 19/20 [05:56<00:19, 19.73s/it]"
     ]
    },
    {
     "name": "stdout",
     "output_type": "stream",
     "text": [
      "[I 2025-10-16 23:50:27,731] Trial 18 finished with value: 0.5360694753008624 and parameters: {'lr': 0.005656923389897808, 'dropout': 0.3606970770970124, 'n1': 96, 'n2': 16}. Best is trial 2 with value: 0.5776067729755748.\n"
     ]
    },
    {
     "name": "stdout",
     "output_type": "stream",
     "text": [
      "\r\n",
      "\u001b[1m  1/260\u001b[0m \u001b[37m━━━━━━━━━━━━━━━━━━━━\u001b[0m \u001b[1m12s\u001b[0m 48ms/step"
     ]
    },
    {
     "name": "stdout",
     "output_type": "stream",
     "text": [
      "\b\b\b\b\b\b\b\b\b\b\b\b\b\b\b\b\b\b\b\b\b\b\b\b\b\b\b\b\b\b\b\b\b\b\b\b\b\b\b\b\b\b\r\n",
      "\u001b[1m 69/260\u001b[0m \u001b[32m━━━━━\u001b[0m\u001b[37m━━━━━━━━━━━━━━━\u001b[0m \u001b[1m0s\u001b[0m 739us/step"
     ]
    },
    {
     "name": "stdout",
     "output_type": "stream",
     "text": [
      "\b\b\b\b\b\b\b\b\b\b\b\b\b\b\b\b\b\b\b\b\b\b\b\b\b\b\b\b\b\b\b\b\b\b\b\b\b\b\b\b\b\b\r\n",
      "\u001b[1m140/260\u001b[0m \u001b[32m━━━━━━━━━━\u001b[0m\u001b[37m━━━━━━━━━━\u001b[0m \u001b[1m0s\u001b[0m 722us/step"
     ]
    },
    {
     "name": "stdout",
     "output_type": "stream",
     "text": [
      "\b\b\b\b\b\b\b\b\b\b\b\b\b\b\b\b\b\b\b\b\b\b\b\b\b\b\b\b\b\b\b\b\b\b\b\b\b\b\b\b\b\b\r\n",
      "\u001b[1m209/260\u001b[0m \u001b[32m━━━━━━━━━━━━━━━━\u001b[0m\u001b[37m━━━━\u001b[0m \u001b[1m0s\u001b[0m 725us/step"
     ]
    },
    {
     "name": "stdout",
     "output_type": "stream",
     "text": [
      "\b\b\b\b\b\b\b\b\b\b\b\b\b\b\b\b\b\b\b\b\b\b\b\b\b\b\b\b\b\b\b\b\b\b\b\b\b\b\b\b\b\b\r\n",
      "\u001b[1m260/260\u001b[0m \u001b[32m━━━━━━━━━━━━━━━━━━━━\u001b[0m\u001b[37m\u001b[0m \u001b[1m0s\u001b[0m 934us/step"
     ]
    },
    {
     "name": "stdout",
     "output_type": "stream",
     "text": [
      "\b\b\b\b\b\b\b\b\b\b\b\b\b\b\b\b\b\b\b\b\b\b\b\b\b\b\b\b\b\b\b\b\b\b\b\b\b\b\b\b\b\b\r\n",
      "\u001b[1m260/260\u001b[0m \u001b[32m━━━━━━━━━━━━━━━━━━━━\u001b[0m\u001b[37m\u001b[0m \u001b[1m0s\u001b[0m 1ms/step  \n"
     ]
    },
    {
     "name": "stderr",
     "output_type": "stream",
     "text": [
      "\r\n",
      "                                                                                    "
     ]
    },
    {
     "name": "stderr",
     "output_type": "stream",
     "text": [
      "\r"
     ]
    },
    {
     "name": "stderr",
     "output_type": "stream",
     "text": [
      "\r\n",
      "Best trial: 2. Best value: 0.577607:  95%|█████████▌| 19/20 [06:11<00:19, 19.73s/it]"
     ]
    },
    {
     "name": "stderr",
     "output_type": "stream",
     "text": [
      "\r\n",
      "Best trial: 2. Best value: 0.577607:  95%|█████████▌| 19/20 [06:11<00:19, 19.73s/it]"
     ]
    },
    {
     "name": "stderr",
     "output_type": "stream",
     "text": [
      "\r\n",
      "Best trial: 2. Best value: 0.577607: 100%|██████████| 20/20 [06:11<00:00, 18.08s/it]"
     ]
    },
    {
     "name": "stderr",
     "output_type": "stream",
     "text": [
      "\r\n",
      "Best trial: 2. Best value: 0.577607: 100%|██████████| 20/20 [06:11<00:00, 18.56s/it]"
     ]
    },
    {
     "name": "stdout",
     "output_type": "stream",
     "text": [
      "[I 2025-10-16 23:50:41,964] Trial 19 finished with value: 0.5568620765343374 and parameters: {'lr': 0.001346380084445813, 'dropout': 0.28310002234519865, 'n1': 64, 'n2': 32}. Best is trial 2 with value: 0.5776067729755748.\n",
      "✅ ANN best AUC=0.578 | params={'lr': 0.0003991243974693129, 'dropout': 0.20176025093929778, 'n1': 32, 'n2': 16}\n"
     ]
    },
    {
     "name": "stderr",
     "output_type": "stream",
     "text": [
      "\n"
     ]
    },
    {
     "name": "stdout",
     "output_type": "stream",
     "text": [
      "\r\n",
      "\u001b[1m  1/324\u001b[0m \u001b[37m━━━━━━━━━━━━━━━━━━━━\u001b[0m \u001b[1m15s\u001b[0m 48ms/step"
     ]
    },
    {
     "name": "stdout",
     "output_type": "stream",
     "text": [
      "\b\b\b\b\b\b\b\b\b\b\b\b\b\b\b\b\b\b\b\b\b\b\b\b\b\b\b\b\b\b\b\b\b\b\b\b\b\b\b\b\b\b\r\n",
      "\u001b[1m 67/324\u001b[0m \u001b[32m━━━━\u001b[0m\u001b[37m━━━━━━━━━━━━━━━━\u001b[0m \u001b[1m0s\u001b[0m 763us/step"
     ]
    },
    {
     "name": "stdout",
     "output_type": "stream",
     "text": [
      "\b\b\b\b\b\b\b\b\b\b\b\b\b\b\b\b\b\b\b\b\b\b\b\b\b\b\b\b\b\b\b\b\b\b\b\b\b\b\b\b\b\b\r\n",
      "\u001b[1m126/324\u001b[0m \u001b[32m━━━━━━━\u001b[0m\u001b[37m━━━━━━━━━━━━━\u001b[0m \u001b[1m0s\u001b[0m 805us/step"
     ]
    },
    {
     "name": "stdout",
     "output_type": "stream",
     "text": [
      "\b\b\b\b\b\b\b\b\b\b\b\b\b\b\b\b\b\b\b\b\b\b\b\b\b\b\b\b\b\b\b\b\b\b\b\b\b\b\b\b\b\b\r\n",
      "\u001b[1m202/324\u001b[0m \u001b[32m━━━━━━━━━━━━\u001b[0m\u001b[37m━━━━━━━━\u001b[0m \u001b[1m0s\u001b[0m 751us/step"
     ]
    },
    {
     "name": "stdout",
     "output_type": "stream",
     "text": [
      "\b\b\b\b\b\b\b\b\b\b\b\b\b\b\b\b\b\b\b\b\b\b\b\b\b\b\b\b\b\b\b\b\b\b\b\b\b\b\b\b\b\b\r\n",
      "\u001b[1m268/324\u001b[0m \u001b[32m━━━━━━━━━━━━━━━━\u001b[0m\u001b[37m━━━━\u001b[0m \u001b[1m0s\u001b[0m 754us/step"
     ]
    },
    {
     "name": "stdout",
     "output_type": "stream",
     "text": [
      "\b\b\b\b\b\b\b\b\b\b\b\b\b\b\b\b\b\b\b\b\b\b\b\b\b\b\b\b\b\b\b\b\b\b\b\b\b\b\b\b\b\b\r\n",
      "\u001b[1m324/324\u001b[0m \u001b[32m━━━━━━━━━━━━━━━━━━━━\u001b[0m\u001b[37m\u001b[0m \u001b[1m0s\u001b[0m 836us/step"
     ]
    },
    {
     "name": "stdout",
     "output_type": "stream",
     "text": [
      "\b\b\b\b\b\b\b\b\b\b\b\b\b\b\b\b\b\b\b\b\b\b\b\b\b\b\b\b\b\b\b\b\b\b\b\b\b\b\b\b\b\b\r\n",
      "\u001b[1m324/324\u001b[0m \u001b[32m━━━━━━━━━━━━━━━━━━━━\u001b[0m\u001b[37m\u001b[0m \u001b[1m0s\u001b[0m 893us/step\n"
     ]
    },
    {
     "name": "stdout",
     "output_type": "stream",
     "text": [
      "\n",
      "[Responder Class Metrics]\n",
      "Accuracy     : 54.48\n",
      "Precision    : 37.81\n",
      "Recall       : 54.73\n",
      "F1 Score     : 44.72\n",
      "ROC AUC Score: 56.50\n",
      "\n",
      "Classification Report:\n",
      "               precision    recall  f1-score   support\n",
      "\n",
      "Non-responder       0.70      0.54      0.61      6879\n",
      "    Responder       0.38      0.55      0.45      3488\n",
      "\n",
      "     accuracy                           0.54     10367\n",
      "    macro avg       0.54      0.55      0.53     10367\n",
      " weighted avg       0.59      0.54      0.56     10367\n",
      "\n"
     ]
    },
    {
     "data": {
      "image/png": "[encoded data removed]",
      "text/plain": [
       "<Figure size 600x500 with 1 Axes>"
      ]
     },
     "metadata": {},
     "output_type": "display_data"
    }
   ],
   "source": [
    "#  3.5 Run hyperparameter tuning and evaluation for ANN \n",
    "\n",
    "# Step 1: Define and run Optuna study\n",
    "name = 'ANN'\n",
    "study_ann = optuna.create_study(direction=\"maximize\") \n",
    "study_ann.optimize(lambda trial: tune_ann(trial, X_train, X_val, y_train, y_val),\n",
    "                   n_trials=N_TRIALS, show_progress_bar=True)\n",
    "\n",
    "print(f\"✅ {name} best AUC={study_ann.best_value:.3f} | params={study_ann.best_params}\")\n",
    "\n",
    "\n",
    "# Step 2: Refit model on the full training set by best parameters which obtains by Optuna\n",
    "\n",
    "# Retrieve best hyperparameters from the ANN Optuna study\n",
    "best_params = study_ann.best_params\n",
    "\n",
    "# Compute class imbalance ratio for weighting\n",
    "w = class_balance(y_train)\n",
    "\n",
    "#  Build ANN architecture\n",
    "ann = models.Sequential([\n",
    "    layers.Input(shape=(X_train.shape[1],)),\n",
    "    layers.Dense(best_params[\"n1\"], activation=\"relu\"),\n",
    "    layers.Dropout(best_params[\"dropout\"]),\n",
    "    layers.Dense(best_params[\"n2\"], activation=\"relu\"),\n",
    "    layers.Dense(1, activation=\"sigmoid\")\n",
    "])\n",
    "\n",
    "# Compile model\n",
    "ann.compile(\n",
    "    optimizer=optimizers.Adam(learning_rate=best_params[\"lr\"]),\n",
    "    loss=\"binary_crossentropy\",\n",
    "    metrics=[\"accuracy\"]\n",
    ")\n",
    "\n",
    "# Define early stopping to avoid overfitting\n",
    "early_stop = EarlyStopping(patience=5, restore_best_weights=True)\n",
    "\n",
    "# Handle class imbalance via per-sample weighting\n",
    "sample_weights = np.where(y_train == 1, w, 1)\n",
    "\n",
    "# Train model\n",
    "ann.fit(\n",
    "    X_train, y_train,\n",
    "    validation_data=(X_val, y_val),\n",
    "    epochs=30, batch_size=32, verbose=0,\n",
    "    sample_weight=sample_weights,\n",
    "    callbacks=[early_stop]\n",
    ")\n",
    "\n",
    "# Step 3: Evaluate on test data\n",
    "\n",
    "# Probability predictions for ROC/AUC\n",
    "y_prob_ann = ann.predict(X_test)\n",
    "# Binary predictions using default 0.5 threshold\n",
    "y_pred_ann = (y_prob_ann > 0.5).astype(int)\n",
    "\n",
    "# Compute evaluation metrics \n",
    "conf_mat = confusion_matrix(y_test, y_pred_ann)\n",
    "roc = roc_auc_score(y_test, y_prob_ann)\n",
    "precision = precision_score(y_test, y_pred_ann)\n",
    "recall = recall_score(y_test, y_pred_ann)\n",
    "f1 = f1_score(y_test, y_pred_ann)\n",
    "accuracy = accuracy_score(y_test, y_pred_ann)\n",
    "\n",
    "print(f\"\\n[Responder Class Metrics]\")\n",
    "print(f\"Accuracy     : {accuracy * 100:.2f}\")\n",
    "print(f\"Precision    : {precision * 100:.2f}\")\n",
    "print(f\"Recall       : {recall * 100:.2f}\")\n",
    "print(f\"F1 Score     : {f1 * 100:.2f}\")\n",
    "print(f\"ROC AUC Score: {roc * 100:.2f}\")\n",
    "\n",
    "# Classification report\n",
    "print(\"\\nClassification Report:\")\n",
    "print(classification_report(y_test, y_pred_ann, target_names=[\"Non-responder\", \"Responder\"]))\n",
    "\n",
    "# Step 4: Visualize Confusion Matrix\n",
    "plt.figure(figsize=(6, 5))\n",
    "sns.heatmap(\n",
    "    conf_mat,\n",
    "    annot=True, fmt='d', cmap='Blues',\n",
    "    xticklabels=['Non-responder', 'Responder'],\n",
    "    yticklabels=['Non-responder', 'Responder'],\n",
    "    cbar=False, linewidths=0, linecolor='white'\n",
    ")\n",
    "plt.title('Confusion Matrix')\n",
    "plt.xlabel('Predicted')\n",
    "plt.ylabel('Actual')\n",
    "plt.show()\n"
   ]
  },
  {
   "cell_type": "code",
   "execution_count": null,
   "id": "e6119117",
   "metadata": {
    "execution": {
     "iopub.execute_input": "2025-10-16T23:51:09.699985Z",
     "iopub.status.busy": "2025-10-16T23:51:09.699702Z",
     "iopub.status.idle": "2025-10-16T23:51:09.927373Z",
     "shell.execute_reply": "2025-10-16T23:51:09.926330Z"
    },
    "papermill": {
     "duration": 0.268694,
     "end_time": "2025-10-16T23:51:09.928074",
     "exception": false,
     "start_time": "2025-10-16T23:51:09.659380",
     "status": "completed"
    },
    "tags": []
   },
   "outputs": [
    {
     "data": {
      "image/png": "[encoded data removed]",
      "text/plain": [
       "<Figure size 1000x800 with 1 Axes>"
      ]
     },
     "metadata": {},
     "output_type": "display_data"
    }
   ],
   "source": [
    "# Model Comparsion - ROC Curve\n",
    "\n",
    "# Compute ROC and AUC for each model\n",
    "fpr_rf, tpr_rf, _ = roc_curve(y_test, y_prob_rf)\n",
    "auc_rf = auc(fpr_rf, tpr_rf)\n",
    "\n",
    "fpr_xgb, tpr_xgb, _ = roc_curve(y_test, y_prob_gb)\n",
    "auc_xgb = auc(fpr_xgb, tpr_xgb)\n",
    "\n",
    "fpr_ann, tpr_ann, _ = roc_curve(y_test, y_prob_ann)\n",
    "auc_ann = auc(fpr_ann, tpr_ann)\n",
    "\n",
    "fpr_lr, tpr_lr, _ = roc_curve(y_test, y_prob)\n",
    "auc_lr = auc(fpr_lr, tpr_lr)\n",
    "\n",
    "# Plot ROC Curves\n",
    "plt.figure(figsize=(10, 8))\n",
    "plt.plot(fpr_rf, tpr_rf, label=f'Random Forest (AUC = {auc_rf:.2f})')\n",
    "plt.plot(fpr_xgb, tpr_xgb, label=f'XGBoost (AUC = {auc_xgb:.2f})')\n",
    "plt.plot(fpr_ann, tpr_ann, label=f'ANN (AUC = {auc_ann:.2f})')\n",
    "plt.plot(fpr_lr, tpr_lr, label=f'Logistic Regression (AUC = {auc_lr:.2f})')\n",
    "plt.plot([0, 1], [0, 1], 'k--', label='Chance level')\n",
    "\n",
    "plt.title('ROC Curve Comparison')\n",
    "plt.xlabel('False Positive Rate')\n",
    "plt.ylabel('True Positive Rate')\n",
    "plt.legend(loc='lower right')\n",
    "plt.grid(False)\n",
    "plt.show()"
   ]
  },
  {
   "cell_type": "code",
   "execution_count": null,
   "id": "d496e9f8",
   "metadata": {
    "execution": {
     "iopub.execute_input": "2025-10-16T23:51:10.021911Z",
     "iopub.status.busy": "2025-10-16T23:51:10.021609Z",
     "iopub.status.idle": "2025-10-16T23:51:10.218517Z",
     "shell.execute_reply": "2025-10-16T23:51:10.217692Z"
    },
    "papermill": {
     "duration": 0.24803,
     "end_time": "2025-10-16T23:51:10.219344",
     "exception": false,
     "start_time": "2025-10-16T23:51:09.971314",
     "status": "completed"
    },
    "tags": []
   },
   "outputs": [
    {
     "data": {
      "image/png": "[encoded data removed]",
      "text/plain": [
       "<Figure size 800x600 with 1 Axes>"
      ]
     },
     "metadata": {},
     "output_type": "display_data"
    }
   ],
   "source": [
    "# Calibration Curver Comparison\n",
    "\n",
    "# Initialize plot\n",
    "plt.figure(figsize=(8, 6))\n",
    "\n",
    "# Define models and their predicted probabilities\n",
    "for model_name, y_prob in [\n",
    "    ('Logistic Regression', y_prob),\n",
    "    ('XGBoost', y_prob_gb),\n",
    "    ('Random Forest', y_prob_rf),\n",
    "    ('ANN', y_prob_ann)\n",
    "]:\n",
    "    prob_true, prob_pred = calibration_curve(y_test, y_prob, n_bins=10)\n",
    "    plt.plot(prob_pred, prob_true, marker='o', label=model_name)\n",
    "\n",
    "# Plot\n",
    "plt.plot([0, 1], [0, 1], 'k:', label='Perfectly calibrated')\n",
    "plt.xlabel('Mean predicted probability')\n",
    "plt.ylabel('Fraction of positives')\n",
    "plt.title('Calibration plots')\n",
    "plt.legend()\n",
    "plt.grid(True)\n",
    "plt.show()"
   ]
  },
  {
   "cell_type": "code",
   "execution_count": null,
   "id": "54be3d98",
   "metadata": {
    "execution": {
     "iopub.execute_input": "2025-10-16T23:51:10.312531Z",
     "iopub.status.busy": "2025-10-16T23:51:10.312199Z",
     "iopub.status.idle": "2025-10-16T23:51:10.327833Z",
     "shell.execute_reply": "2025-10-16T23:51:10.327112Z"
    },
    "papermill": {
     "duration": 0.062793,
     "end_time": "2025-10-16T23:51:10.328545",
     "exception": false,
     "start_time": "2025-10-16T23:51:10.265752",
     "status": "completed"
    },
    "tags": []
   },
   "outputs": [
    {
     "name": "stdout",
     "output_type": "stream",
     "text": [
      "MCC - Logistic Regression: 0.0859\n",
      "MCC - XGBoost: 0.1249\n",
      "MCC - Random Forest: 0.0808\n",
      "MCC - ANN: 0.0859\n"
     ]
    }
   ],
   "source": [
    "# Model Evaluation using Matthews Correlation Coefficient (MCC)\n",
    "\n",
    "# Define threshold for binary classification\n",
    "threshold = 0.5\n",
    "\n",
    "# Convert predicted probabilities to binary classes\n",
    "y_pred_logreg = (y_prob > threshold).astype(int)\n",
    "y_pred_xgb    = (y_prob_gb > threshold).astype(int)\n",
    "y_pred_rf     = (y_prob_rf > threshold).astype(int)\n",
    "y_pred_ann    = (y_prob_ann > threshold).astype(int)\n",
    "\n",
    "# Compute MCC for each model\n",
    "mcc_logreg = matthews_corrcoef(y_test, y_pred_logreg)\n",
    "mcc_xgb    = matthews_corrcoef(y_test, y_pred_xgb)\n",
    "mcc_rf     = matthews_corrcoef(y_test, y_pred_rf)\n",
    "mcc_ann    = matthews_corrcoef(y_test, y_pred_ann)\n",
    "\n",
    "print(f\"MCC - Logistic Regression: {mcc_logreg:.4f}\")\n",
    "print(f\"MCC - XGBoost: {mcc_xgb:.4f}\")\n",
    "print(f\"MCC - Random Forest: {mcc_rf:.4f}\")\n",
    "print(f\"MCC - ANN: {mcc_ann:.4f}\")"
   ]
  },
  {
   "cell_type": "code",
   "execution_count": null,
   "id": "91b9be9c",
   "metadata": {
    "execution": {
     "iopub.execute_input": "2025-10-16T23:51:10.470989Z",
     "iopub.status.busy": "2025-10-16T23:51:10.470675Z",
     "iopub.status.idle": "2025-10-16T23:51:13.269469Z",
     "shell.execute_reply": "2025-10-16T23:51:13.268449Z"
    },
    "papermill": {
     "duration": 2.90081,
     "end_time": "2025-10-16T23:51:13.270185",
     "exception": false,
     "start_time": "2025-10-16T23:51:10.369375",
     "status": "completed"
    },
    "tags": []
   },
   "outputs": [
    {
     "data": {
      "image/png": "[encoded data removed]",
      "text/plain": [
       "<Figure size 800x550 with 1 Axes>"
      ]
     },
     "metadata": {},
     "output_type": "display_data"
    },
    {
     "data": {
      "image/png": "[encoded data removed]",
      "text/plain": [
       "<Figure size 800x550 with 2 Axes>"
      ]
     },
     "metadata": {},
     "output_type": "display_data"
    }
   ],
   "source": [
    "# Step 4 interpret the results\n",
    "\n",
    "# Compute SHAP values\n",
    "explainer = shap.TreeExplainer(model_gb)\n",
    "shap_values = explainer.shap_values(X_test)\n",
    "\n",
    "# Top 10 features by mean absolute SHAP\n",
    "top_idx = np.argsort(np.abs(shap_values).mean(axis=0))[-10:]\n",
    "X_top = X_test[:, top_idx]\n",
    "shap_top = shap_values[:, top_idx]\n",
    "feature_names = X.columns[top_idx]\n",
    "\n",
    "# SHAP summary plots\n",
    "shap.summary_plot(shap_top, X_top, feature_names=feature_names, plot_type=\"bar\")\n",
    "shap.summary_plot(shap_top, X_top, feature_names=feature_names)"
   ]
  },
  {
   "cell_type": "code",
   "execution_count": null,
   "id": "4d4f4fd8",
   "metadata": {
    "papermill": {
     "duration": 0.055135,
     "end_time": "2025-10-16T23:51:13.371840",
     "exception": false,
     "start_time": "2025-10-16T23:51:13.316705",
     "status": "completed"
    },
    "tags": []
   },
   "outputs": [],
   "source": []
  }
 ],
 "metadata": {
  "kernelspec": {
   "display_name": "venv (3.12.3)",
   "language": "python",
   "name": "python3"
  },
  "language_info": {
   "codemirror_mode": {
    "name": "ipython",
    "version": 3
   },
   "file_extension": ".py",
   "mimetype": "text/x-python",
   "name": "python",
   "nbconvert_exporter": "python",
   "pygments_lexer": "ipython3",
   "version": "3.12.3"
  },
  "papermill": {
   "default_parameters": {},
   "duration": 1272.845488,
   "end_time": "2025-10-16T23:51:16.572851",
   "environment_variables": {},
   "exception": null,
   "input_path": "3_experiment_2.ipynb",
   "output_path": "output_experiment2.ipynb",
   "parameters": {},
   "start_time": "2025-10-16T23:30:03.727363",
   "version": "2.6.0"
  }
 },
 "nbformat": 4,
 "nbformat_minor": 5
}
