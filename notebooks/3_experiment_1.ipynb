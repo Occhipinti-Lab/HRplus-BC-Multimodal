{
 "cells": [
  {
   "cell_type": "code",
   "execution_count": null,
   "id": "6f44161f",
   "metadata": {
    "execution": {
     "iopub.execute_input": "2025-10-16T23:09:07.795657Z",
     "iopub.status.busy": "2025-10-16T23:09:07.795464Z",
     "iopub.status.idle": "2025-10-16T23:09:13.574859Z",
     "shell.execute_reply": "2025-10-16T23:09:13.573445Z"
    },
    "papermill": {
     "duration": 5.783855,
     "end_time": "2025-10-16T23:09:13.575764",
     "exception": false,
     "start_time": "2025-10-16T23:09:07.791909",
     "status": "completed"
    },
    "tags": []
   },
   "outputs": [
    {
     "name": "stderr",
     "output_type": "stream",
     "text": [
      "2025-10-16 23:09:10.134388: I external/local_xla/xla/tsl/cuda/cudart_stub.cc:31] Could not find cuda drivers on your machine, GPU will not be used.\n",
      "2025-10-16 23:09:10.216177: I tensorflow/core/platform/cpu_feature_guard.cc:210] This TensorFlow binary is optimized to use available CPU instructions in performance-critical operations.\n",
      "To enable the following instructions: AVX2 FMA, in other operations, rebuild TensorFlow with the appropriate compiler flags.\n"
     ]
    },
    {
     "name": "stderr",
     "output_type": "stream",
     "text": [
      "2025-10-16 23:09:12.573067: I external/local_xla/xla/tsl/cuda/cudart_stub.cc:31] Could not find cuda drivers on your machine, GPU will not be used.\n"
     ]
    },
    {
     "name": "stdout",
     "output_type": "stream",
     "text": [
      "TUNE_MODE: ON | Optuna Trials: 20\n"
     ]
    }
   ],
   "source": [
    "import warnings\n",
    "warnings.filterwarnings(\"ignore\")\n",
    "\n",
    "import pandas as pd\n",
    "import numpy as np\n",
    "\n",
    "import gc\n",
    "import time\n",
    "import warnings\n",
    "from pathlib import Path\n",
    "from tqdm.auto import tqdm\n",
    "from datetime import datetime\n",
    "\n",
    "import matplotlib.pyplot as plt\n",
    "import seaborn as sns\n",
    "\n",
    "from sklearn.model_selection import train_test_split\n",
    "from sklearn.preprocessing import StandardScaler\n",
    "from sklearn.metrics import (\n",
    "    accuracy_score, precision_score, recall_score, f1_score, roc_auc_score,\n",
    "    matthews_corrcoef, brier_score_loss, confusion_matrix, classification_report, roc_curve, auc\n",
    ")\n",
    "\n",
    "from sklearn.calibration import calibration_curve\n",
    "\n",
    "from sklearn.linear_model import LogisticRegression\n",
    "from sklearn.ensemble import RandomForestClassifier\n",
    "import xgboost as xgb\n",
    "from tensorflow.keras import models, layers, optimizers\n",
    "from tensorflow.keras.callbacks import EarlyStopping\n",
    "\n",
    "import shap\n",
    "import optuna\n",
    "\n",
    "# Global Configuration\n",
    "base_dir = Path().resolve().parent\n",
    "\n",
    "TUNE_MODE = True # Enable Optuna tuning\n",
    "N_TRIALS = 20 # Number of trial for Optuna\n",
    "SEED = 42\n",
    "\n",
    "print(f\"TUNE_MODE: {'ON' if TUNE_MODE else 'OFF'} | Optuna Trials: {N_TRIALS}\")"
   ]
  },
  {
   "cell_type": "code",
   "execution_count": null,
   "id": "c5b7106f",
   "metadata": {
    "execution": {
     "iopub.execute_input": "2025-10-16T23:09:13.585381Z",
     "iopub.status.busy": "2025-10-16T23:09:13.584854Z",
     "iopub.status.idle": "2025-10-16T23:09:52.303082Z",
     "shell.execute_reply": "2025-10-16T23:09:52.301781Z"
    },
    "papermill": {
     "duration": 38.726086,
     "end_time": "2025-10-16T23:09:52.305099",
     "exception": false,
     "start_time": "2025-10-16T23:09:13.579013",
     "status": "completed"
    },
    "tags": []
   },
   "outputs": [],
   "source": [
    "# Step 1: Import the preprocessed data\n",
    "df_gene = pd.read_csv(base_dir / \"dataset/transcriptomic_hvg.csv\", index_col=0)\n",
    "meta_data = pd.read_csv(base_dir / \"dataset/metadata.csv\", index_col=0)"
   ]
  },
  {
   "cell_type": "code",
   "execution_count": null,
   "id": "27d7d29d",
   "metadata": {
    "execution": {
     "iopub.execute_input": "2025-10-16T23:09:52.317184Z",
     "iopub.status.busy": "2025-10-16T23:09:52.316922Z",
     "iopub.status.idle": "2025-10-16T23:09:52.373159Z",
     "shell.execute_reply": "2025-10-16T23:09:52.371681Z"
    },
    "papermill": {
     "duration": 0.063726,
     "end_time": "2025-10-16T23:09:52.374404",
     "exception": false,
     "start_time": "2025-10-16T23:09:52.310678",
     "status": "completed"
    },
    "tags": []
   },
   "outputs": [
    {
     "name": "stdout",
     "output_type": "stream",
     "text": [
      "(52831, 250)\n"
     ]
    }
   ],
   "source": [
    "#  Step 2: Prepare data for ML models\n",
    "\n",
    "#  2.1 Select the top features\n",
    "\n",
    "# Number of top features (genes) to retain\n",
    "tr_n = 250 \n",
    "\n",
    "# Load list of Highly Variable Genes (HVGs) from a precomputed CSV\n",
    "# Each gene name is expected to be in a single column, no header\n",
    "hvg_genes = pd.read_csv(base_dir / \"dataset/hvg_genes.csv\",header=None).squeeze().tolist()\n",
    "\n",
    "# Keep only HVGs that exist in df_gene columns, preserving order\n",
    "# Then select the top N genes (tr_n)\n",
    "tr_top = [g for g in hvg_genes if g in df_gene.columns][:tr_n] \n",
    "\n",
    "# Build the feature matrix (X) using the selected top genes\n",
    "X= df_gene[tr_top]\n",
    "\n",
    "# Align metadata with df_gene index and extract target column\n",
    "y = meta_data.loc[df_gene.index,:]['response']\n",
    "\n",
    "\n",
    "#  2.2 Encode target variable\n",
    "# Convert categorical response labels to numeric (binary classification)\n",
    "# 'Responder' -> 1, 'Non-responder' -> 0\n",
    "y = y.map({\"Responder\": 1, \"Non-responder\": 0}).astype(np.int8)\n",
    "\n",
    "print(X.shape)"
   ]
  },
  {
   "cell_type": "code",
   "execution_count": null,
   "id": "ddda061c",
   "metadata": {
    "execution": {
     "iopub.execute_input": "2025-10-16T23:09:52.382202Z",
     "iopub.status.busy": "2025-10-16T23:09:52.381944Z",
     "iopub.status.idle": "2025-10-16T23:09:52.773258Z",
     "shell.execute_reply": "2025-10-16T23:09:52.771719Z"
    },
    "papermill": {
     "duration": 0.396827,
     "end_time": "2025-10-16T23:09:52.774661",
     "exception": false,
     "start_time": "2025-10-16T23:09:52.377834",
     "status": "completed"
    },
    "tags": []
   },
   "outputs": [],
   "source": [
    "# 2.3 Split the data into training and test sets\n",
    "# Split dataset into training and test sets (80% train, 20% test)\n",
    "# Stratified split ensures class balance is preserved in both subsets\n",
    "X_train, X_test, y_train, y_test = train_test_split(X, y, test_size=0.2, stratify=y, random_state=SEED)\n",
    "X_train, X_val, y_train, y_val = train_test_split(X_train, y_train, test_size=0.2, stratify=y_train, random_state=SEED)\n",
    "\n",
    "\n",
    "# 2.4 Standardize the features\n",
    "scaler = StandardScaler()\n",
    "\n",
    "# Fit the scaler only on the training data to avoid data leakage\n",
    "X_train = scaler.fit_transform(X_train)\n",
    "\n",
    "# Apply the same transformation to validation and test sets\n",
    "X_test = scaler.transform(X_test)\n",
    "X_val = scaler.transform(X_val)"
   ]
  },
  {
   "cell_type": "code",
   "execution_count": null,
   "id": "f898fb55",
   "metadata": {
    "execution": {
     "iopub.execute_input": "2025-10-16T23:09:52.785057Z",
     "iopub.status.busy": "2025-10-16T23:09:52.784739Z",
     "iopub.status.idle": "2025-10-16T23:09:52.797457Z",
     "shell.execute_reply": "2025-10-16T23:09:52.796274Z"
    },
    "papermill": {
     "duration": 0.018808,
     "end_time": "2025-10-16T23:09:52.798305",
     "exception": false,
     "start_time": "2025-10-16T23:09:52.779497",
     "status": "completed"
    },
    "tags": []
   },
   "outputs": [],
   "source": [
    "# Step 3: Optuna for Hyper-parameter tunning\n",
    "\n",
    "# 3.1 Optuna Objective Functions with class balance\n",
    "\n",
    "# Compute class balance ratio\n",
    "def class_balance(y):\n",
    "    \"\"\"\n",
    "    Compute class imbalance ratio for weighting.\n",
    "    Returns ratio (negative_count / positive_count).\n",
    "    Used to compensate for imbalance in binary classification.\n",
    "    \"\"\"\n",
    "    neg, pos = (y == 0).sum(), (y == 1).sum()\n",
    "    return neg / pos if pos > 0 else 1.0\n",
    "\n",
    "# Logistic Regression Objective Function\n",
    "def tune_logreg(trial, X_train, X_val, y_train, y_val):\n",
    "    \"\"\"\n",
    "    Objective function for tuning Logistic Regression using Optuna.\n",
    "    Hyperparameter: Regularization strength (C).\n",
    "    \"\"\"\n",
    "    C = trial.suggest_float(\"C\", 1e-3, 100, log=True)\n",
    "    w = class_balance(y_train)\n",
    "    model = LogisticRegression(solver=\"lbfgs\", max_iter=1000, C=C, class_weight={0: 1, 1: w})\n",
    "    model.fit(X_train, y_train)\n",
    "    preds = model.predict_proba(X_val)[:, 1]\n",
    "    return roc_auc_score(y_val, preds)\n",
    "\n",
    "# Random Forest Objective Function\n",
    "def tune_rf(trial, X_train, X_val, y_train, y_val):\n",
    "    \"\"\"\n",
    "    Objective function for tuning Random Forest using Optuna.\n",
    "    Tuned hyperparameters include depth, splits, and max features.\n",
    "    \"\"\"\n",
    "    w = class_balance(y_train)\n",
    "    params = {\n",
    "        \"n_estimators\": trial.suggest_int(\"n_estimators\", 200, 800, step=200),\n",
    "        \"max_depth\": trial.suggest_int(\"max_depth\", 6, 16),\n",
    "        \"min_samples_split\": trial.suggest_int(\"min_samples_split\", 2, 6),\n",
    "        \"min_samples_leaf\": trial.suggest_int(\"min_samples_leaf\", 1, 4),\n",
    "        \"max_features\": trial.suggest_categorical(\"max_features\", [\"sqrt\", \"log2\"]),\n",
    "        \"class_weight\": {0: 1, 1: w}\n",
    "    }\n",
    "    model = RandomForestClassifier(random_state=SEED, n_jobs=-1, **params)\n",
    "    model.fit(X_train, y_train)\n",
    "    preds = model.predict_proba(X_val)[:, 1]\n",
    "    return roc_auc_score(y_val, preds)\n",
    "\n",
    "# XGBoost Objective Function\n",
    "def tune_xgb(trial, X_train, X_val, y_train, y_val):\n",
    "    \"\"\"\n",
    "    Objective function for tuning XGBoost using Optuna.\n",
    "    Includes learning rate, depth, and subsampling parameters.\n",
    "    \"\"\"\n",
    "    w = class_balance(y_train)\n",
    "    params = {\n",
    "        \"objective\": \"binary:logistic\",\n",
    "        \"eval_metric\": \"auc\",\n",
    "        \"tree_method\": \"hist\",\n",
    "        \"scale_pos_weight\": w,\n",
    "        \"learning_rate\": trial.suggest_float(\"learning_rate\", 0.01, 0.3, log=True),\n",
    "        \"max_depth\": trial.suggest_int(\"max_depth\", 4, 12),\n",
    "        \"subsample\": trial.suggest_float(\"subsample\", 0.6, 1.0),\n",
    "        \"colsample_bytree\": trial.suggest_float(\"colsample_bytree\", 0.6, 1.0),\n",
    "        \"n_estimators\": trial.suggest_int(\"n_estimators\", 200, 1000, step=200)\n",
    "    }\n",
    "    model = xgb.XGBClassifier(**params, n_jobs=-1, random_state=SEED, verbosity=0)\n",
    "    model.fit(X_train, y_train)\n",
    "    preds = model.predict_proba(X_val)[:, 1]\n",
    "    return roc_auc_score(y_val, preds)\n",
    "\n",
    "# Artificial Neural Network (ANN) Objective Function\n",
    "def tune_ann(trial, X_train, X_val, y_train, y_val):\n",
    "    \"\"\"\n",
    "    Objective function for tuning a simple feed-forward ANN using Optuna.\n",
    "    The model adapts to class imbalance via sample weighting.\n",
    "    \"\"\"\n",
    "    w = class_balance(y_train)\n",
    "    lr = trial.suggest_float(\"lr\", 1e-4, 1e-2, log=True)\n",
    "    dropout = trial.suggest_float(\"dropout\", 0.2, 0.6)\n",
    "    n1 = trial.suggest_int(\"n1\", 32, 128, step=32)\n",
    "    n2 = trial.suggest_int(\"n2\", 16, 64, step=16)\n",
    "\n",
    "    model = models.Sequential([\n",
    "        layers.Input(shape=(X_train.shape[1],)),\n",
    "        layers.Dense(n1, activation=\"relu\"),\n",
    "        layers.Dropout(dropout),\n",
    "        layers.Dense(n2, activation=\"relu\"),\n",
    "        layers.Dense(1, activation=\"sigmoid\")\n",
    "    ])\n",
    "    model.compile(optimizer=optimizers.Adam(learning_rate=lr),\n",
    "                  loss=\"binary_crossentropy\", metrics=[\"accuracy\"])\n",
    "\n",
    "    early = EarlyStopping(patience=5, restore_best_weights=True)\n",
    "    sample_weights = np.where(y_train == 1, w, 1)\n",
    "    model.fit(X_train, y_train, sample_weight=sample_weights,\n",
    "              validation_data=(X_val, y_val),\n",
    "              epochs=30, batch_size=32, verbose=0, callbacks=[early])\n",
    "    preds = model.predict(X_val)\n",
    "    return roc_auc_score(y_val, preds)"
   ]
  },
  {
   "cell_type": "code",
   "execution_count": null,
   "id": "643cabe2",
   "metadata": {
    "execution": {
     "iopub.execute_input": "2025-10-16T23:10:26.558498Z",
     "iopub.status.busy": "2025-10-16T23:10:26.557603Z",
     "iopub.status.idle": "2025-10-16T23:10:26.737423Z",
     "shell.execute_reply": "2025-10-16T23:10:26.736454Z"
    },
    "papermill": {
     "duration": 0.197212,
     "end_time": "2025-10-16T23:10:26.738187",
     "exception": false,
     "start_time": "2025-10-16T23:10:26.540975",
     "status": "completed"
    },
    "tags": []
   },
   "outputs": [
    {
     "name": "stdout",
     "output_type": "stream",
     "text": [
      "\n",
      "[Responder Class Metrics]\n",
      "Accuracy     : 78.16\n",
      "Precision    : 62.25\n",
      "Recall       : 84.37\n",
      "F1 Score     : 71.64\n",
      "ROC AUC Score: 87.08\n",
      "\n",
      "Classification Report:\n",
      "               precision    recall  f1-score   support\n",
      "\n",
      "Non-responder       0.91      0.75      0.82      7112\n",
      "    Responder       0.62      0.84      0.72      3455\n",
      "\n",
      "     accuracy                           0.78     10567\n",
      "    macro avg       0.77      0.80      0.77     10567\n",
      " weighted avg       0.81      0.78      0.79     10567\n",
      "\n"
     ]
    },
    {
     "data": {
      "image/png": "[encoded data removed]",
      "text/plain": [
       "<Figure size 600x500 with 1 Axes>"
      ]
     },
     "metadata": {},
     "output_type": "display_data"
    }
   ],
   "source": [
    "#  3.2 Run hyperparameter tuning and evaluation for Logistic Regression (LR)\n",
    "\n",
    "# Step 1: Compute class balance\n",
    "w = class_balance(y_train)  \n",
    "print(f\"Class balance ratio: neg/pos = {w:.2f}\")\n",
    "\n",
    "# Step 2: Define and run Optuna study\n",
    "name = \"Logistic Regression\"\n",
    "study = optuna.create_study(direction=\"maximize\")\n",
    "study.optimize(lambda trial: tune_logreg(trial, X_train, X_val, y_train, y_val), n_trials=N_TRIALS, show_progress_bar=True)\n",
    "print(f\"{name} best AUC={study.best_value:.3f} | params={study.best_params}\")\n",
    "\n",
    "\n",
    "# Step 3: Refit model on the full training set by best parameters which obtains by Optuna\n",
    "model_lr = LogisticRegression(\n",
    "                    **study.best_params, solver=\"lbfgs\", max_iter=1000, class_weight={0: 1, 1: w}\n",
    "                )\n",
    "model_lr.fit(X_train, y_train)\n",
    "\n",
    "# Step 4: Evaluate on test data\n",
    "# Probability predictions for ROC/AUC\n",
    "y_prob = model_lr.predict_proba(X_test)[:, 1]\n",
    "# Binary predictions using default 0.5 threshold\n",
    "y_pred = model_lr.predict(X_test)\n",
    "\n",
    "# Compute evaluation metrics \n",
    "conf_mat = confusion_matrix(y_test, y_pred)\n",
    "roc = roc_auc_score(y_test, y_prob)\n",
    "precision = precision_score(y_test, y_pred)\n",
    "recall = recall_score(y_test, y_pred)\n",
    "f1 = f1_score(y_test, y_pred)\n",
    "accuracy = accuracy_score(y_test, y_pred)\n",
    "\n",
    "print(f\"\\n[Responder Class Metrics]\")\n",
    "print(f\"Accuracy     : {accuracy * 100:.2f}\")\n",
    "print(f\"Precision    : {precision * 100:.2f}\")\n",
    "print(f\"Recall       : {recall * 100:.2f}\")\n",
    "print(f\"F1 Score     : {f1 * 100:.2f}\")\n",
    "print(f\"ROC AUC Score: {roc * 100:.2f}\")\n",
    "\n",
    "# Classification report\n",
    "print(\"\\nClassification Report:\")\n",
    "print(classification_report(y_test, y_pred, target_names=[\"Non-responder\", \"Responder\"]))\n",
    "\n",
    "#  Step 5: Visualize Confusion Matrix\n",
    "plt.figure(figsize=(6, 5))\n",
    "sns.heatmap(\n",
    "    conf_mat,\n",
    "    annot=True,\n",
    "    fmt='d',\n",
    "    cmap='Blues',\n",
    "    xticklabels=['Non-responder', 'Responder'],\n",
    "    yticklabels=['Non-responder', 'Responder'],\n",
    "    cbar=False,\n",
    "    linewidths=0,\n",
    "    linecolor='white'\n",
    ")\n",
    "plt.title('Confusion Matrix')\n",
    "plt.xlabel('Predicted')\n",
    "plt.ylabel('Actual')\n",
    "plt.show()\n"
   ]
  },
  {
   "cell_type": "code",
   "execution_count": null,
   "id": "07b1ffb3",
   "metadata": {
    "execution": {
     "iopub.execute_input": "2025-10-16T23:10:26.763252Z",
     "iopub.status.busy": "2025-10-16T23:10:26.762945Z",
     "iopub.status.idle": "2025-10-16T23:11:39.996661Z",
     "shell.execute_reply": "2025-10-16T23:11:39.995409Z"
    },
    "papermill": {
     "duration": 73.248906,
     "end_time": "2025-10-16T23:11:39.997355",
     "exception": false,
     "start_time": "2025-10-16T23:10:26.748449",
     "status": "completed"
    },
    "tags": []
   },
   "outputs": [
    {
     "name": "stderr",
     "output_type": "stream",
     "text": [
      "[I 2025-10-16 23:10:26,767] A new study created in memory with name: no-name-74143cc0-149f-46bc-975f-01d87c62c437\n"
     ]
    },
    {
     "name": "stderr",
     "output_type": "stream",
     "text": [
      "\r\n",
      "  0%|          | 0/20 [00:00<?, ?it/s]"
     ]
    },
    {
     "name": "stderr",
     "output_type": "stream",
     "text": [
      "\r\n",
      "                                      "
     ]
    },
    {
     "name": "stderr",
     "output_type": "stream",
     "text": [
      "\r"
     ]
    },
    {
     "name": "stderr",
     "output_type": "stream",
     "text": [
      "\r\n",
      "  0%|          | 0/20 [00:03<?, ?it/s]"
     ]
    },
    {
     "name": "stderr",
     "output_type": "stream",
     "text": [
      "\r\n",
      "Best trial: 0. Best value: 0.839532:   0%|          | 0/20 [00:03<?, ?it/s]"
     ]
    },
    {
     "name": "stderr",
     "output_type": "stream",
     "text": [
      "\r\n",
      "Best trial: 0. Best value: 0.839532:   5%|▌         | 1/20 [00:03<01:08,  3.62s/it]"
     ]
    },
    {
     "name": "stdout",
     "output_type": "stream",
     "text": [
      "[I 2025-10-16 23:10:30,389] Trial 0 finished with value: 0.8395323419735804 and parameters: {'n_estimators': 800, 'max_depth': 7, 'min_samples_split': 4, 'min_samples_leaf': 1, 'max_features': 'log2'}. Best is trial 0 with value: 0.8395323419735804.\n"
     ]
    },
    {
     "name": "stderr",
     "output_type": "stream",
     "text": [
      "\r\n",
      "                                                                                   "
     ]
    },
    {
     "name": "stderr",
     "output_type": "stream",
     "text": [
      "\r"
     ]
    },
    {
     "name": "stderr",
     "output_type": "stream",
     "text": [
      "\r\n",
      "Best trial: 0. Best value: 0.839532:   5%|▌         | 1/20 [00:07<01:08,  3.62s/it]"
     ]
    },
    {
     "name": "stderr",
     "output_type": "stream",
     "text": [
      "\r\n",
      "Best trial: 0. Best value: 0.839532:   5%|▌         | 1/20 [00:07<01:08,  3.62s/it]"
     ]
    },
    {
     "name": "stderr",
     "output_type": "stream",
     "text": [
      "\r\n",
      "Best trial: 0. Best value: 0.839532:  10%|█         | 2/20 [00:07<01:03,  3.50s/it]"
     ]
    },
    {
     "name": "stdout",
     "output_type": "stream",
     "text": [
      "[I 2025-10-16 23:10:33,807] Trial 1 finished with value: 0.835550758197644 and parameters: {'n_estimators': 800, 'max_depth': 6, 'min_samples_split': 2, 'min_samples_leaf': 2, 'max_features': 'log2'}. Best is trial 0 with value: 0.8395323419735804.\n"
     ]
    },
    {
     "name": "stderr",
     "output_type": "stream",
     "text": [
      "\r\n",
      "                                                                                   "
     ]
    },
    {
     "name": "stderr",
     "output_type": "stream",
     "text": [
      "\r"
     ]
    },
    {
     "name": "stderr",
     "output_type": "stream",
     "text": [
      "\r\n",
      "Best trial: 0. Best value: 0.839532:  10%|█         | 2/20 [00:11<01:03,  3.50s/it]"
     ]
    },
    {
     "name": "stderr",
     "output_type": "stream",
     "text": [
      "\r\n",
      "Best trial: 2. Best value: 0.88489:  10%|█         | 2/20 [00:11<01:03,  3.50s/it] "
     ]
    },
    {
     "name": "stderr",
     "output_type": "stream",
     "text": [
      "\r\n",
      "Best trial: 2. Best value: 0.88489:  15%|█▌        | 3/20 [00:11<01:07,  3.97s/it]"
     ]
    },
    {
     "name": "stdout",
     "output_type": "stream",
     "text": [
      "[I 2025-10-16 23:10:38,330] Trial 2 finished with value: 0.8848903957900831 and parameters: {'n_estimators': 400, 'max_depth': 16, 'min_samples_split': 3, 'min_samples_leaf': 2, 'max_features': 'sqrt'}. Best is trial 2 with value: 0.8848903957900831.\n"
     ]
    },
    {
     "name": "stderr",
     "output_type": "stream",
     "text": [
      "\r\n",
      "                                                                                  "
     ]
    },
    {
     "name": "stderr",
     "output_type": "stream",
     "text": [
      "\r"
     ]
    },
    {
     "name": "stderr",
     "output_type": "stream",
     "text": [
      "\r\n",
      "Best trial: 2. Best value: 0.88489:  15%|█▌        | 3/20 [00:12<01:07,  3.97s/it]"
     ]
    },
    {
     "name": "stderr",
     "output_type": "stream",
     "text": [
      "\r\n",
      "Best trial: 2. Best value: 0.88489:  15%|█▌        | 3/20 [00:12<01:07,  3.97s/it]"
     ]
    },
    {
     "name": "stderr",
     "output_type": "stream",
     "text": [
      "\r\n",
      "Best trial: 2. Best value: 0.88489:  20%|██        | 4/20 [00:12<00:47,  2.96s/it]"
     ]
    },
    {
     "name": "stdout",
     "output_type": "stream",
     "text": [
      "[I 2025-10-16 23:10:39,751] Trial 3 finished with value: 0.8668241374740246 and parameters: {'n_estimators': 200, 'max_depth': 15, 'min_samples_split': 5, 'min_samples_leaf': 1, 'max_features': 'log2'}. Best is trial 2 with value: 0.8848903957900831.\n"
     ]
    },
    {
     "name": "stderr",
     "output_type": "stream",
     "text": [
      "\r\n",
      "                                                                                  "
     ]
    },
    {
     "name": "stderr",
     "output_type": "stream",
     "text": [
      "\r"
     ]
    },
    {
     "name": "stderr",
     "output_type": "stream",
     "text": [
      "\r\n",
      "Best trial: 2. Best value: 0.88489:  20%|██        | 4/20 [00:14<00:47,  2.96s/it]"
     ]
    },
    {
     "name": "stderr",
     "output_type": "stream",
     "text": [
      "\r\n",
      "Best trial: 2. Best value: 0.88489:  20%|██        | 4/20 [00:14<00:47,  2.96s/it]"
     ]
    },
    {
     "name": "stderr",
     "output_type": "stream",
     "text": [
      "\r\n",
      "Best trial: 2. Best value: 0.88489:  25%|██▌       | 5/20 [00:14<00:38,  2.57s/it]"
     ]
    },
    {
     "name": "stdout",
     "output_type": "stream",
     "text": [
      "[I 2025-10-16 23:10:41,631] Trial 4 finished with value: 0.8382060589163487 and parameters: {'n_estimators': 400, 'max_depth': 7, 'min_samples_split': 4, 'min_samples_leaf': 2, 'max_features': 'log2'}. Best is trial 2 with value: 0.8848903957900831.\n"
     ]
    },
    {
     "name": "stderr",
     "output_type": "stream",
     "text": [
      "\r\n",
      "                                                                                  "
     ]
    },
    {
     "name": "stderr",
     "output_type": "stream",
     "text": [
      "\r"
     ]
    },
    {
     "name": "stderr",
     "output_type": "stream",
     "text": [
      "\r\n",
      "Best trial: 2. Best value: 0.88489:  25%|██▌       | 5/20 [00:17<00:38,  2.57s/it]"
     ]
    },
    {
     "name": "stderr",
     "output_type": "stream",
     "text": [
      "\r\n",
      "Best trial: 2. Best value: 0.88489:  25%|██▌       | 5/20 [00:17<00:38,  2.57s/it]"
     ]
    },
    {
     "name": "stderr",
     "output_type": "stream",
     "text": [
      "\r\n",
      "Best trial: 2. Best value: 0.88489:  30%|███       | 6/20 [00:17<00:37,  2.69s/it]"
     ]
    },
    {
     "name": "stdout",
     "output_type": "stream",
     "text": [
      "[I 2025-10-16 23:10:44,538] Trial 5 finished with value: 0.8435319232611542 and parameters: {'n_estimators': 600, 'max_depth': 8, 'min_samples_split': 4, 'min_samples_leaf': 1, 'max_features': 'log2'}. Best is trial 2 with value: 0.8848903957900831.\n"
     ]
    },
    {
     "name": "stderr",
     "output_type": "stream",
     "text": [
      "\r\n",
      "                                                                                  "
     ]
    },
    {
     "name": "stderr",
     "output_type": "stream",
     "text": [
      "\r"
     ]
    },
    {
     "name": "stderr",
     "output_type": "stream",
     "text": [
      "\r\n",
      "Best trial: 2. Best value: 0.88489:  30%|███       | 6/20 [00:22<00:37,  2.69s/it]"
     ]
    },
    {
     "name": "stderr",
     "output_type": "stream",
     "text": [
      "\r\n",
      "Best trial: 2. Best value: 0.88489:  30%|███       | 6/20 [00:22<00:37,  2.69s/it]"
     ]
    },
    {
     "name": "stderr",
     "output_type": "stream",
     "text": [
      "\r\n",
      "Best trial: 2. Best value: 0.88489:  35%|███▌      | 7/20 [00:22<00:45,  3.50s/it]"
     ]
    },
    {
     "name": "stdout",
     "output_type": "stream",
     "text": [
      "[I 2025-10-16 23:10:49,703] Trial 6 finished with value: 0.867145676056492 and parameters: {'n_estimators': 800, 'max_depth': 16, 'min_samples_split': 2, 'min_samples_leaf': 3, 'max_features': 'log2'}. Best is trial 2 with value: 0.8848903957900831.\n"
     ]
    },
    {
     "name": "stderr",
     "output_type": "stream",
     "text": [
      "\r\n",
      "                                                                                  "
     ]
    },
    {
     "name": "stderr",
     "output_type": "stream",
     "text": [
      "\r"
     ]
    },
    {
     "name": "stderr",
     "output_type": "stream",
     "text": [
      "\r\n",
      "Best trial: 2. Best value: 0.88489:  35%|███▌      | 7/20 [00:26<00:45,  3.50s/it]"
     ]
    },
    {
     "name": "stderr",
     "output_type": "stream",
     "text": [
      "\r\n",
      "Best trial: 2. Best value: 0.88489:  35%|███▌      | 7/20 [00:26<00:45,  3.50s/it]"
     ]
    },
    {
     "name": "stderr",
     "output_type": "stream",
     "text": [
      "\r\n",
      "Best trial: 2. Best value: 0.88489:  40%|████      | 8/20 [00:26<00:42,  3.58s/it]"
     ]
    },
    {
     "name": "stdout",
     "output_type": "stream",
     "text": [
      "[I 2025-10-16 23:10:53,460] Trial 7 finished with value: 0.875942770711193 and parameters: {'n_estimators': 400, 'max_depth': 12, 'min_samples_split': 3, 'min_samples_leaf': 1, 'max_features': 'sqrt'}. Best is trial 2 with value: 0.8848903957900831.\n"
     ]
    },
    {
     "name": "stderr",
     "output_type": "stream",
     "text": [
      "\r\n",
      "                                                                                  "
     ]
    },
    {
     "name": "stderr",
     "output_type": "stream",
     "text": [
      "\r"
     ]
    },
    {
     "name": "stderr",
     "output_type": "stream",
     "text": [
      "\r\n",
      "Best trial: 2. Best value: 0.88489:  40%|████      | 8/20 [00:28<00:42,  3.58s/it]"
     ]
    },
    {
     "name": "stderr",
     "output_type": "stream",
     "text": [
      "\r\n",
      "Best trial: 2. Best value: 0.88489:  40%|████      | 8/20 [00:28<00:42,  3.58s/it]"
     ]
    },
    {
     "name": "stderr",
     "output_type": "stream",
     "text": [
      "\r\n",
      "Best trial: 2. Best value: 0.88489:  45%|████▌     | 9/20 [00:28<00:34,  3.17s/it]"
     ]
    },
    {
     "name": "stdout",
     "output_type": "stream",
     "text": [
      "[I 2025-10-16 23:10:55,726] Trial 8 finished with value: 0.8574784048938986 and parameters: {'n_estimators': 400, 'max_depth': 12, 'min_samples_split': 6, 'min_samples_leaf': 4, 'max_features': 'log2'}. Best is trial 2 with value: 0.8848903957900831.\n"
     ]
    },
    {
     "name": "stderr",
     "output_type": "stream",
     "text": [
      "\r\n",
      "                                                                                  "
     ]
    },
    {
     "name": "stderr",
     "output_type": "stream",
     "text": [
      "\r"
     ]
    },
    {
     "name": "stderr",
     "output_type": "stream",
     "text": [
      "\r\n",
      "Best trial: 2. Best value: 0.88489:  45%|████▌     | 9/20 [00:32<00:34,  3.17s/it]"
     ]
    },
    {
     "name": "stderr",
     "output_type": "stream",
     "text": [
      "\r\n",
      "Best trial: 2. Best value: 0.88489:  45%|████▌     | 9/20 [00:32<00:34,  3.17s/it]"
     ]
    },
    {
     "name": "stderr",
     "output_type": "stream",
     "text": [
      "\r\n",
      "Best trial: 2. Best value: 0.88489:  50%|█████     | 10/20 [00:32<00:32,  3.27s/it]"
     ]
    },
    {
     "name": "stdout",
     "output_type": "stream",
     "text": [
      "[I 2025-10-16 23:10:59,216] Trial 9 finished with value: 0.8481305100685586 and parameters: {'n_estimators': 600, 'max_depth': 6, 'min_samples_split': 5, 'min_samples_leaf': 4, 'max_features': 'sqrt'}. Best is trial 2 with value: 0.8848903957900831.\n"
     ]
    },
    {
     "name": "stderr",
     "output_type": "stream",
     "text": [
      "\r\n",
      "                                                                                   "
     ]
    },
    {
     "name": "stderr",
     "output_type": "stream",
     "text": [
      "\r"
     ]
    },
    {
     "name": "stderr",
     "output_type": "stream",
     "text": [
      "\r\n",
      "Best trial: 2. Best value: 0.88489:  50%|█████     | 10/20 [00:34<00:32,  3.27s/it]"
     ]
    },
    {
     "name": "stderr",
     "output_type": "stream",
     "text": [
      "\r\n",
      "Best trial: 2. Best value: 0.88489:  50%|█████     | 10/20 [00:34<00:32,  3.27s/it]"
     ]
    },
    {
     "name": "stderr",
     "output_type": "stream",
     "text": [
      "\r\n",
      "Best trial: 2. Best value: 0.88489:  55%|█████▌    | 11/20 [00:34<00:26,  2.93s/it]"
     ]
    },
    {
     "name": "stdout",
     "output_type": "stream",
     "text": [
      "[I 2025-10-16 23:11:01,370] Trial 10 finished with value: 0.8800173946267954 and parameters: {'n_estimators': 200, 'max_depth': 14, 'min_samples_split': 3, 'min_samples_leaf': 3, 'max_features': 'sqrt'}. Best is trial 2 with value: 0.8848903957900831.\n"
     ]
    },
    {
     "name": "stderr",
     "output_type": "stream",
     "text": [
      "\r\n",
      "                                                                                   "
     ]
    },
    {
     "name": "stderr",
     "output_type": "stream",
     "text": [
      "\r"
     ]
    },
    {
     "name": "stderr",
     "output_type": "stream",
     "text": [
      "\r\n",
      "Best trial: 2. Best value: 0.88489:  55%|█████▌    | 11/20 [00:36<00:26,  2.93s/it]"
     ]
    },
    {
     "name": "stderr",
     "output_type": "stream",
     "text": [
      "\r\n",
      "Best trial: 2. Best value: 0.88489:  55%|█████▌    | 11/20 [00:36<00:26,  2.93s/it]"
     ]
    },
    {
     "name": "stderr",
     "output_type": "stream",
     "text": [
      "\r\n",
      "Best trial: 2. Best value: 0.88489:  60%|██████    | 12/20 [00:36<00:21,  2.71s/it]"
     ]
    },
    {
     "name": "stdout",
     "output_type": "stream",
     "text": [
      "[I 2025-10-16 23:11:03,593] Trial 11 finished with value: 0.8800173946267954 and parameters: {'n_estimators': 200, 'max_depth': 14, 'min_samples_split': 3, 'min_samples_leaf': 3, 'max_features': 'sqrt'}. Best is trial 2 with value: 0.8848903957900831.\n"
     ]
    },
    {
     "name": "stderr",
     "output_type": "stream",
     "text": [
      "\r\n",
      "                                                                                   "
     ]
    },
    {
     "name": "stderr",
     "output_type": "stream",
     "text": [
      "\r"
     ]
    },
    {
     "name": "stderr",
     "output_type": "stream",
     "text": [
      "\r\n",
      "Best trial: 2. Best value: 0.88489:  60%|██████    | 12/20 [00:38<00:21,  2.71s/it]"
     ]
    },
    {
     "name": "stderr",
     "output_type": "stream",
     "text": [
      "\r\n",
      "Best trial: 2. Best value: 0.88489:  60%|██████    | 12/20 [00:38<00:21,  2.71s/it]"
     ]
    },
    {
     "name": "stderr",
     "output_type": "stream",
     "text": [
      "\r\n",
      "Best trial: 2. Best value: 0.88489:  65%|██████▌   | 13/20 [00:38<00:17,  2.55s/it]"
     ]
    },
    {
     "name": "stdout",
     "output_type": "stream",
     "text": [
      "[I 2025-10-16 23:11:05,761] Trial 12 finished with value: 0.8800173946267954 and parameters: {'n_estimators': 200, 'max_depth': 14, 'min_samples_split': 3, 'min_samples_leaf': 3, 'max_features': 'sqrt'}. Best is trial 2 with value: 0.8848903957900831.\n"
     ]
    },
    {
     "name": "stderr",
     "output_type": "stream",
     "text": [
      "\r\n",
      "                                                                                   "
     ]
    },
    {
     "name": "stderr",
     "output_type": "stream",
     "text": [
      "\r"
     ]
    },
    {
     "name": "stderr",
     "output_type": "stream",
     "text": [
      "\r\n",
      "Best trial: 2. Best value: 0.88489:  65%|██████▌   | 13/20 [00:41<00:17,  2.55s/it]"
     ]
    },
    {
     "name": "stderr",
     "output_type": "stream",
     "text": [
      "\r\n",
      "Best trial: 2. Best value: 0.88489:  65%|██████▌   | 13/20 [00:41<00:17,  2.55s/it]"
     ]
    },
    {
     "name": "stderr",
     "output_type": "stream",
     "text": [
      "\r\n",
      "Best trial: 2. Best value: 0.88489:  70%|███████   | 14/20 [00:41<00:15,  2.50s/it]"
     ]
    },
    {
     "name": "stdout",
     "output_type": "stream",
     "text": [
      "[I 2025-10-16 23:11:08,155] Trial 13 finished with value: 0.8840209188321129 and parameters: {'n_estimators': 200, 'max_depth': 16, 'min_samples_split': 3, 'min_samples_leaf': 2, 'max_features': 'sqrt'}. Best is trial 2 with value: 0.8848903957900831.\n"
     ]
    },
    {
     "name": "stderr",
     "output_type": "stream",
     "text": [
      "\r\n",
      "                                                                                   "
     ]
    },
    {
     "name": "stderr",
     "output_type": "stream",
     "text": [
      "\r"
     ]
    },
    {
     "name": "stderr",
     "output_type": "stream",
     "text": [
      "\r\n",
      "Best trial: 2. Best value: 0.88489:  70%|███████   | 14/20 [00:45<00:15,  2.50s/it]"
     ]
    },
    {
     "name": "stderr",
     "output_type": "stream",
     "text": [
      "\r\n",
      "Best trial: 2. Best value: 0.88489:  70%|███████   | 14/20 [00:45<00:15,  2.50s/it]"
     ]
    },
    {
     "name": "stderr",
     "output_type": "stream",
     "text": [
      "\r\n",
      "Best trial: 2. Best value: 0.88489:  75%|███████▌  | 15/20 [00:45<00:15,  3.12s/it]"
     ]
    },
    {
     "name": "stdout",
     "output_type": "stream",
     "text": [
      "[I 2025-10-16 23:11:12,701] Trial 14 finished with value: 0.8848903957900831 and parameters: {'n_estimators': 400, 'max_depth': 16, 'min_samples_split': 2, 'min_samples_leaf': 2, 'max_features': 'sqrt'}. Best is trial 2 with value: 0.8848903957900831.\n"
     ]
    },
    {
     "name": "stderr",
     "output_type": "stream",
     "text": [
      "\r\n",
      "                                                                                   "
     ]
    },
    {
     "name": "stderr",
     "output_type": "stream",
     "text": [
      "\r"
     ]
    },
    {
     "name": "stderr",
     "output_type": "stream",
     "text": [
      "\r\n",
      "Best trial: 2. Best value: 0.88489:  75%|███████▌  | 15/20 [00:50<00:15,  3.12s/it]"
     ]
    },
    {
     "name": "stderr",
     "output_type": "stream",
     "text": [
      "\r\n",
      "Best trial: 2. Best value: 0.88489:  75%|███████▌  | 15/20 [00:50<00:15,  3.12s/it]"
     ]
    },
    {
     "name": "stderr",
     "output_type": "stream",
     "text": [
      "\r\n",
      "Best trial: 2. Best value: 0.88489:  80%|████████  | 16/20 [00:50<00:14,  3.63s/it]"
     ]
    },
    {
     "name": "stdout",
     "output_type": "stream",
     "text": [
      "[I 2025-10-16 23:11:17,518] Trial 15 finished with value: 0.8697364909914503 and parameters: {'n_estimators': 600, 'max_depth': 10, 'min_samples_split': 2, 'min_samples_leaf': 2, 'max_features': 'sqrt'}. Best is trial 2 with value: 0.8848903957900831.\n"
     ]
    },
    {
     "name": "stderr",
     "output_type": "stream",
     "text": [
      "\r\n",
      "                                                                                   "
     ]
    },
    {
     "name": "stderr",
     "output_type": "stream",
     "text": [
      "\r"
     ]
    },
    {
     "name": "stderr",
     "output_type": "stream",
     "text": [
      "\r\n",
      "Best trial: 2. Best value: 0.88489:  80%|████████  | 16/20 [00:53<00:14,  3.63s/it]"
     ]
    },
    {
     "name": "stderr",
     "output_type": "stream",
     "text": [
      "\r\n",
      "Best trial: 2. Best value: 0.88489:  80%|████████  | 16/20 [00:53<00:14,  3.63s/it]"
     ]
    },
    {
     "name": "stderr",
     "output_type": "stream",
     "text": [
      "\r\n",
      "Best trial: 2. Best value: 0.88489:  85%|████████▌ | 17/20 [00:53<00:10,  3.51s/it]"
     ]
    },
    {
     "name": "stdout",
     "output_type": "stream",
     "text": [
      "[I 2025-10-16 23:11:20,755] Trial 16 finished with value: 0.8696752485755256 and parameters: {'n_estimators': 400, 'max_depth': 10, 'min_samples_split': 2, 'min_samples_leaf': 2, 'max_features': 'sqrt'}. Best is trial 2 with value: 0.8848903957900831.\n"
     ]
    },
    {
     "name": "stderr",
     "output_type": "stream",
     "text": [
      "\r\n",
      "                                                                                   "
     ]
    },
    {
     "name": "stderr",
     "output_type": "stream",
     "text": [
      "\r"
     ]
    },
    {
     "name": "stderr",
     "output_type": "stream",
     "text": [
      "\r\n",
      "Best trial: 2. Best value: 0.88489:  85%|████████▌ | 17/20 [00:57<00:10,  3.51s/it]"
     ]
    },
    {
     "name": "stderr",
     "output_type": "stream",
     "text": [
      "\r\n",
      "Best trial: 2. Best value: 0.88489:  85%|████████▌ | 17/20 [00:57<00:10,  3.51s/it]"
     ]
    },
    {
     "name": "stderr",
     "output_type": "stream",
     "text": [
      "\r\n",
      "Best trial: 2. Best value: 0.88489:  90%|█████████ | 18/20 [00:57<00:07,  3.62s/it]"
     ]
    },
    {
     "name": "stdout",
     "output_type": "stream",
     "text": [
      "[I 2025-10-16 23:11:24,627] Trial 17 finished with value: 0.8789654623299998 and parameters: {'n_estimators': 400, 'max_depth': 13, 'min_samples_split': 2, 'min_samples_leaf': 2, 'max_features': 'sqrt'}. Best is trial 2 with value: 0.8848903957900831.\n"
     ]
    },
    {
     "name": "stderr",
     "output_type": "stream",
     "text": [
      "\r\n",
      "                                                                                   "
     ]
    },
    {
     "name": "stderr",
     "output_type": "stream",
     "text": [
      "\r"
     ]
    },
    {
     "name": "stderr",
     "output_type": "stream",
     "text": [
      "\r\n",
      "Best trial: 2. Best value: 0.88489:  90%|█████████ | 18/20 [01:04<00:07,  3.62s/it]"
     ]
    },
    {
     "name": "stderr",
     "output_type": "stream",
     "text": [
      "\r\n",
      "Best trial: 2. Best value: 0.88489:  90%|█████████ | 18/20 [01:04<00:07,  3.62s/it]"
     ]
    },
    {
     "name": "stderr",
     "output_type": "stream",
     "text": [
      "\r\n",
      "Best trial: 2. Best value: 0.88489:  95%|█████████▌| 19/20 [01:04<00:04,  4.48s/it]"
     ]
    },
    {
     "name": "stdout",
     "output_type": "stream",
     "text": [
      "[I 2025-10-16 23:11:31,109] Trial 18 finished with value: 0.8844548941657283 and parameters: {'n_estimators': 600, 'max_depth': 16, 'min_samples_split': 3, 'min_samples_leaf': 3, 'max_features': 'sqrt'}. Best is trial 2 with value: 0.8848903957900831.\n"
     ]
    },
    {
     "name": "stderr",
     "output_type": "stream",
     "text": [
      "\r\n",
      "                                                                                   "
     ]
    },
    {
     "name": "stderr",
     "output_type": "stream",
     "text": [
      "\r"
     ]
    },
    {
     "name": "stderr",
     "output_type": "stream",
     "text": [
      "\r\n",
      "Best trial: 2. Best value: 0.88489:  95%|█████████▌| 19/20 [01:08<00:04,  4.48s/it]"
     ]
    },
    {
     "name": "stderr",
     "output_type": "stream",
     "text": [
      "\r\n",
      "Best trial: 2. Best value: 0.88489:  95%|█████████▌| 19/20 [01:08<00:04,  4.48s/it]"
     ]
    },
    {
     "name": "stderr",
     "output_type": "stream",
     "text": [
      "\r\n",
      "Best trial: 2. Best value: 0.88489: 100%|██████████| 20/20 [01:08<00:00,  4.44s/it]"
     ]
    },
    {
     "name": "stderr",
     "output_type": "stream",
     "text": [
      "\r\n",
      "Best trial: 2. Best value: 0.88489: 100%|██████████| 20/20 [01:08<00:00,  3.43s/it]"
     ]
    },
    {
     "name": "stderr",
     "output_type": "stream",
     "text": [
      "\n"
     ]
    },
    {
     "name": "stdout",
     "output_type": "stream",
     "text": [
      "[I 2025-10-16 23:11:35,466] Trial 19 finished with value: 0.882667925686939 and parameters: {'n_estimators': 400, 'max_depth': 15, 'min_samples_split': 5, 'min_samples_leaf': 1, 'max_features': 'sqrt'}. Best is trial 2 with value: 0.8848903957900831.\n",
      "✅ RF best AUC=0.885 | params={'n_estimators': 400, 'max_depth': 16, 'min_samples_split': 3, 'min_samples_leaf': 2, 'max_features': 'sqrt'}\n"
     ]
    },
    {
     "name": "stdout",
     "output_type": "stream",
     "text": [
      "\n",
      "[Responder Class Metrics]\n",
      "Accuracy     : 78.16\n",
      "Precision    : 62.25\n",
      "Recall       : 84.37\n",
      "F1 Score     : 71.64\n",
      "ROC AUC Score: 87.08\n",
      "\n",
      "Classification Report:\n",
      "               precision    recall  f1-score   support\n",
      "\n",
      "Non-responder       0.91      0.75      0.82      7112\n",
      "    Responder       0.62      0.84      0.72      3455\n",
      "\n",
      "     accuracy                           0.78     10567\n",
      "    macro avg       0.77      0.80      0.77     10567\n",
      " weighted avg       0.81      0.78      0.79     10567\n",
      "\n"
     ]
    },
    {
     "data": {
      "image/png": "[encoded data removed]",
      "text/plain": [
       "<Figure size 600x500 with 1 Axes>"
      ]
     },
     "metadata": {},
     "output_type": "display_data"
    }
   ],
   "source": [
    "#  3.3 Run hyperparameter tuning and evaluation for Random Forest (RF)\n",
    "\n",
    "# Step 1: Define and run Optuna study\n",
    "name = \"RF\"\n",
    "study_rf = optuna.create_study(direction=\"maximize\")\n",
    "study_rf.optimize(lambda trial: tune_rf(trial, X_train, X_val, y_train, y_val), n_trials=N_TRIALS, show_progress_bar=True)\n",
    "print(f\"✅ {name} best AUC={study_rf.best_value:.3f} | params={study_rf.best_params}\")\n",
    "\n",
    "\n",
    "# Step 2: Refit model on the full training set by best parameters which obtains by Optuna\n",
    "model_rf = RandomForestClassifier(**study_rf.best_params, random_state=SEED, n_jobs=-1, class_weight={0: 1, 1: w})\n",
    "model_rf.fit(X_train, y_train)\n",
    "\n",
    "# Step 3: Evaluate on test data\n",
    "# Probability predictions for ROC/AUC\n",
    "y_prob_rf = model_lr.predict_proba(X_test)[:, 1]\n",
    "# Binary predictions using default 0.5 threshold\n",
    "y_pred_rf = model_lr.predict(X_test)   \n",
    "\n",
    "# Compute evaluation metrics \n",
    "conf_mat = confusion_matrix(y_test, y_pred_rf)\n",
    "roc = roc_auc_score(y_test, y_prob_rf)\n",
    "precision = precision_score(y_test, y_pred_rf)\n",
    "recall = recall_score(y_test, y_pred_rf)\n",
    "f1 = f1_score(y_test, y_pred_rf)\n",
    "accuracy = accuracy_score(y_test, y_pred_rf)\n",
    "\n",
    "print(f\"\\n[Responder Class Metrics]\")\n",
    "print(f\"Accuracy     : {accuracy * 100:.2f}\")\n",
    "print(f\"Precision    : {precision * 100:.2f}\")\n",
    "print(f\"Recall       : {recall * 100:.2f}\")\n",
    "print(f\"F1 Score     : {f1 * 100:.2f}\")\n",
    "print(f\"ROC AUC Score: {roc * 100:.2f}\")\n",
    "\n",
    "# Classification report\n",
    "print(\"\\nClassification Report:\")\n",
    "print(classification_report(y_test, y_pred_rf, target_names=[\"Non-responder\", \"Responder\"]))\n",
    "\n",
    "#  Step 4: Visualize Confusion Matrix\n",
    "plt.figure(figsize=(6, 5))\n",
    "sns.heatmap(\n",
    "    conf_mat,\n",
    "    annot=True,\n",
    "    fmt='d',\n",
    "    cmap='Blues',\n",
    "    xticklabels=['Non-responder', 'Responder'],\n",
    "    yticklabels=['Non-responder', 'Responder'],\n",
    "    cbar=False,\n",
    "    linewidths=0,\n",
    "    linecolor='white'\n",
    ")\n",
    "plt.title('Confusion Matrix')\n",
    "plt.xlabel('Predicted')\n",
    "plt.ylabel('Actual')\n",
    "plt.show()\n"
   ]
  },
  {
   "cell_type": "code",
   "execution_count": null,
   "id": "300deba1",
   "metadata": {
    "execution": {
     "iopub.execute_input": "2025-10-16T23:11:40.034937Z",
     "iopub.status.busy": "2025-10-16T23:11:40.034704Z",
     "iopub.status.idle": "2025-10-16T23:18:39.436837Z",
     "shell.execute_reply": "2025-10-16T23:18:39.435784Z"
    },
    "papermill": {
     "duration": 419.421933,
     "end_time": "2025-10-16T23:18:39.437597",
     "exception": false,
     "start_time": "2025-10-16T23:11:40.015664",
     "status": "completed"
    },
    "tags": []
   },
   "outputs": [
    {
     "name": "stderr",
     "output_type": "stream",
     "text": [
      "[I 2025-10-16 23:11:40,038] A new study created in memory with name: no-name-661afad1-1063-4800-9038-e3e7ae887510\n"
     ]
    },
    {
     "name": "stderr",
     "output_type": "stream",
     "text": [
      "\r\n",
      "  0%|          | 0/20 [00:00<?, ?it/s]"
     ]
    },
    {
     "name": "stderr",
     "output_type": "stream",
     "text": [
      "\r\n",
      "                                      "
     ]
    },
    {
     "name": "stderr",
     "output_type": "stream",
     "text": [
      "\r"
     ]
    },
    {
     "name": "stderr",
     "output_type": "stream",
     "text": [
      "\r\n",
      "  0%|          | 0/20 [00:08<?, ?it/s]"
     ]
    },
    {
     "name": "stderr",
     "output_type": "stream",
     "text": [
      "\r\n",
      "Best trial: 0. Best value: 0.907846:   0%|          | 0/20 [00:08<?, ?it/s]"
     ]
    },
    {
     "name": "stderr",
     "output_type": "stream",
     "text": [
      "\r\n",
      "Best trial: 0. Best value: 0.907846:   5%|▌         | 1/20 [00:08<02:36,  8.26s/it]"
     ]
    },
    {
     "name": "stdout",
     "output_type": "stream",
     "text": [
      "[I 2025-10-16 23:11:48,294] Trial 0 finished with value: 0.90784631727667 and parameters: {'learning_rate': 0.2546988054992449, 'max_depth': 9, 'subsample': 0.6445550475220151, 'colsample_bytree': 0.666403725711909, 'n_estimators': 200}. Best is trial 0 with value: 0.90784631727667.\n"
     ]
    },
    {
     "name": "stderr",
     "output_type": "stream",
     "text": [
      "\r\n",
      "                                                                                   "
     ]
    },
    {
     "name": "stderr",
     "output_type": "stream",
     "text": [
      "\r"
     ]
    },
    {
     "name": "stderr",
     "output_type": "stream",
     "text": [
      "\r\n",
      "Best trial: 0. Best value: 0.907846:   5%|▌         | 1/20 [00:15<02:36,  8.26s/it]"
     ]
    },
    {
     "name": "stderr",
     "output_type": "stream",
     "text": [
      "\r\n",
      "Best trial: 1. Best value: 0.915867:   5%|▌         | 1/20 [00:15<02:36,  8.26s/it]"
     ]
    },
    {
     "name": "stderr",
     "output_type": "stream",
     "text": [
      "\r\n",
      "Best trial: 1. Best value: 0.915867:  10%|█         | 2/20 [00:15<02:20,  7.79s/it]"
     ]
    },
    {
     "name": "stdout",
     "output_type": "stream",
     "text": [
      "[I 2025-10-16 23:11:55,757] Trial 1 finished with value: 0.9158671658994088 and parameters: {'learning_rate': 0.06607798784366883, 'max_depth': 8, 'subsample': 0.6117811873674793, 'colsample_bytree': 0.7048625123120469, 'n_estimators': 200}. Best is trial 1 with value: 0.9158671658994088.\n"
     ]
    },
    {
     "name": "stderr",
     "output_type": "stream",
     "text": [
      "\r\n",
      "                                                                                   "
     ]
    },
    {
     "name": "stderr",
     "output_type": "stream",
     "text": [
      "\r"
     ]
    },
    {
     "name": "stderr",
     "output_type": "stream",
     "text": [
      "\r\n",
      "Best trial: 1. Best value: 0.915867:  10%|█         | 2/20 [00:30<02:20,  7.79s/it]"
     ]
    },
    {
     "name": "stderr",
     "output_type": "stream",
     "text": [
      "\r\n",
      "Best trial: 2. Best value: 0.916808:  10%|█         | 2/20 [00:30<02:20,  7.79s/it]"
     ]
    },
    {
     "name": "stderr",
     "output_type": "stream",
     "text": [
      "\r\n",
      "Best trial: 2. Best value: 0.916808:  15%|█▌        | 3/20 [00:30<03:04, 10.87s/it]"
     ]
    },
    {
     "name": "stdout",
     "output_type": "stream",
     "text": [
      "[I 2025-10-16 23:12:10,291] Trial 2 finished with value: 0.9168077743653873 and parameters: {'learning_rate': 0.10950898588486821, 'max_depth': 12, 'subsample': 0.9142404368973471, 'colsample_bytree': 0.7836723429003369, 'n_estimators': 200}. Best is trial 2 with value: 0.9168077743653873.\n"
     ]
    },
    {
     "name": "stderr",
     "output_type": "stream",
     "text": [
      "\r\n",
      "                                                                                   "
     ]
    },
    {
     "name": "stderr",
     "output_type": "stream",
     "text": [
      "\r"
     ]
    },
    {
     "name": "stderr",
     "output_type": "stream",
     "text": [
      "\r\n",
      "Best trial: 2. Best value: 0.916808:  15%|█▌        | 3/20 [01:16<03:04, 10.87s/it]"
     ]
    },
    {
     "name": "stderr",
     "output_type": "stream",
     "text": [
      "\r\n",
      "Best trial: 3. Best value: 0.92041:  15%|█▌        | 3/20 [01:16<03:04, 10.87s/it] "
     ]
    },
    {
     "name": "stderr",
     "output_type": "stream",
     "text": [
      "\r\n",
      "Best trial: 3. Best value: 0.92041:  20%|██        | 4/20 [01:16<06:35, 24.73s/it]"
     ]
    },
    {
     "name": "stdout",
     "output_type": "stream",
     "text": [
      "[I 2025-10-16 23:12:56,255] Trial 3 finished with value: 0.9204102020834377 and parameters: {'learning_rate': 0.02202949076405576, 'max_depth': 11, 'subsample': 0.6141210159284197, 'colsample_bytree': 0.6268855276962485, 'n_estimators': 800}. Best is trial 3 with value: 0.9204102020834377.\n"
     ]
    },
    {
     "name": "stderr",
     "output_type": "stream",
     "text": [
      "\r\n",
      "                                                                                  "
     ]
    },
    {
     "name": "stderr",
     "output_type": "stream",
     "text": [
      "\r"
     ]
    },
    {
     "name": "stderr",
     "output_type": "stream",
     "text": [
      "\r\n",
      "Best trial: 3. Best value: 0.92041:  20%|██        | 4/20 [01:31<06:35, 24.73s/it]"
     ]
    },
    {
     "name": "stderr",
     "output_type": "stream",
     "text": [
      "\r\n",
      "Best trial: 3. Best value: 0.92041:  20%|██        | 4/20 [01:31<06:35, 24.73s/it]"
     ]
    },
    {
     "name": "stderr",
     "output_type": "stream",
     "text": [
      "\r\n",
      "Best trial: 3. Best value: 0.92041:  25%|██▌       | 5/20 [01:31<05:19, 21.31s/it]"
     ]
    },
    {
     "name": "stdout",
     "output_type": "stream",
     "text": [
      "[I 2025-10-16 23:13:11,505] Trial 4 finished with value: 0.9019132435993088 and parameters: {'learning_rate': 0.010553475043217062, 'max_depth': 7, 'subsample': 0.9065954913587706, 'colsample_bytree': 0.6678500740509279, 'n_estimators': 400}. Best is trial 3 with value: 0.9204102020834377.\n"
     ]
    },
    {
     "name": "stderr",
     "output_type": "stream",
     "text": [
      "\r\n",
      "                                                                                  "
     ]
    },
    {
     "name": "stderr",
     "output_type": "stream",
     "text": [
      "\r"
     ]
    },
    {
     "name": "stderr",
     "output_type": "stream",
     "text": [
      "\r\n",
      "Best trial: 3. Best value: 0.92041:  25%|██▌       | 5/20 [01:56<05:19, 21.31s/it]"
     ]
    },
    {
     "name": "stderr",
     "output_type": "stream",
     "text": [
      "\r\n",
      "Best trial: 5. Best value: 0.920753:  25%|██▌       | 5/20 [01:56<05:19, 21.31s/it]"
     ]
    },
    {
     "name": "stderr",
     "output_type": "stream",
     "text": [
      "\r\n",
      "Best trial: 5. Best value: 0.920753:  30%|███       | 6/20 [01:56<05:15, 22.50s/it]"
     ]
    },
    {
     "name": "stdout",
     "output_type": "stream",
     "text": [
      "[I 2025-10-16 23:13:36,325] Trial 5 finished with value: 0.9207528225567455 and parameters: {'learning_rate': 0.03767726687993685, 'max_depth': 9, 'subsample': 0.6976800113413322, 'colsample_bytree': 0.7145645009336403, 'n_estimators': 600}. Best is trial 5 with value: 0.9207528225567455.\n"
     ]
    },
    {
     "name": "stderr",
     "output_type": "stream",
     "text": [
      "\r\n",
      "                                                                                   "
     ]
    },
    {
     "name": "stderr",
     "output_type": "stream",
     "text": [
      "\r"
     ]
    },
    {
     "name": "stderr",
     "output_type": "stream",
     "text": [
      "\r\n",
      "Best trial: 5. Best value: 0.920753:  30%|███       | 6/20 [01:59<05:15, 22.50s/it]"
     ]
    },
    {
     "name": "stderr",
     "output_type": "stream",
     "text": [
      "\r\n",
      "Best trial: 5. Best value: 0.920753:  30%|███       | 6/20 [01:59<05:15, 22.50s/it]"
     ]
    },
    {
     "name": "stderr",
     "output_type": "stream",
     "text": [
      "\r\n",
      "Best trial: 5. Best value: 0.920753:  35%|███▌      | 7/20 [01:59<03:32, 16.34s/it]"
     ]
    },
    {
     "name": "stdout",
     "output_type": "stream",
     "text": [
      "[I 2025-10-16 23:13:39,982] Trial 6 finished with value: 0.9115781617303456 and parameters: {'learning_rate': 0.10492612070031573, 'max_depth': 4, 'subsample': 0.7880999190295701, 'colsample_bytree': 0.9985222781628614, 'n_estimators': 200}. Best is trial 5 with value: 0.9207528225567455.\n"
     ]
    },
    {
     "name": "stderr",
     "output_type": "stream",
     "text": [
      "\r\n",
      "                                                                                   "
     ]
    },
    {
     "name": "stderr",
     "output_type": "stream",
     "text": [
      "\r"
     ]
    },
    {
     "name": "stderr",
     "output_type": "stream",
     "text": [
      "\r\n",
      "Best trial: 5. Best value: 0.920753:  35%|███▌      | 7/20 [02:10<03:32, 16.34s/it]"
     ]
    },
    {
     "name": "stderr",
     "output_type": "stream",
     "text": [
      "\r\n",
      "Best trial: 5. Best value: 0.920753:  35%|███▌      | 7/20 [02:10<03:32, 16.34s/it]"
     ]
    },
    {
     "name": "stderr",
     "output_type": "stream",
     "text": [
      "\r\n",
      "Best trial: 5. Best value: 0.920753:  40%|████      | 8/20 [02:10<02:52, 14.34s/it]"
     ]
    },
    {
     "name": "stdout",
     "output_type": "stream",
     "text": [
      "[I 2025-10-16 23:13:50,038] Trial 7 finished with value: 0.9027787458418117 and parameters: {'learning_rate': 0.018534397578065985, 'max_depth': 5, 'subsample': 0.8580164239425865, 'colsample_bytree': 0.7473092379659636, 'n_estimators': 400}. Best is trial 5 with value: 0.9207528225567455.\n"
     ]
    },
    {
     "name": "stderr",
     "output_type": "stream",
     "text": [
      "\r\n",
      "                                                                                   "
     ]
    },
    {
     "name": "stderr",
     "output_type": "stream",
     "text": [
      "\r"
     ]
    },
    {
     "name": "stderr",
     "output_type": "stream",
     "text": [
      "\r\n",
      "Best trial: 5. Best value: 0.920753:  40%|████      | 8/20 [02:24<02:52, 14.34s/it]"
     ]
    },
    {
     "name": "stderr",
     "output_type": "stream",
     "text": [
      "\r\n",
      "Best trial: 8. Best value: 0.920823:  40%|████      | 8/20 [02:24<02:52, 14.34s/it]"
     ]
    },
    {
     "name": "stderr",
     "output_type": "stream",
     "text": [
      "\r\n",
      "Best trial: 8. Best value: 0.920823:  45%|████▌     | 9/20 [02:24<02:38, 14.43s/it]"
     ]
    },
    {
     "name": "stdout",
     "output_type": "stream",
     "text": [
      "[I 2025-10-16 23:14:04,678] Trial 8 finished with value: 0.9208231591216604 and parameters: {'learning_rate': 0.06371732929945957, 'max_depth': 8, 'subsample': 0.6841219479338723, 'colsample_bytree': 0.8992772998066407, 'n_estimators': 400}. Best is trial 8 with value: 0.9208231591216604.\n"
     ]
    },
    {
     "name": "stderr",
     "output_type": "stream",
     "text": [
      "\r\n",
      "                                                                                   "
     ]
    },
    {
     "name": "stderr",
     "output_type": "stream",
     "text": [
      "\r"
     ]
    },
    {
     "name": "stderr",
     "output_type": "stream",
     "text": [
      "\r\n",
      "Best trial: 8. Best value: 0.920823:  45%|████▌     | 9/20 [02:57<02:38, 14.43s/it]"
     ]
    },
    {
     "name": "stderr",
     "output_type": "stream",
     "text": [
      "\r\n",
      "Best trial: 8. Best value: 0.920823:  45%|████▌     | 9/20 [02:57<02:38, 14.43s/it]"
     ]
    },
    {
     "name": "stderr",
     "output_type": "stream",
     "text": [
      "\r\n",
      "Best trial: 8. Best value: 0.920823:  50%|█████     | 10/20 [02:57<03:22, 20.21s/it]"
     ]
    },
    {
     "name": "stdout",
     "output_type": "stream",
     "text": [
      "[I 2025-10-16 23:14:37,817] Trial 9 finished with value: 0.9165975596137366 and parameters: {'learning_rate': 0.17667370506713484, 'max_depth': 9, 'subsample': 0.8415414367981948, 'colsample_bytree': 0.777345671484262, 'n_estimators': 800}. Best is trial 8 with value: 0.9208231591216604.\n"
     ]
    },
    {
     "name": "stderr",
     "output_type": "stream",
     "text": [
      "\r\n",
      "                                                                                    "
     ]
    },
    {
     "name": "stderr",
     "output_type": "stream",
     "text": [
      "\r"
     ]
    },
    {
     "name": "stderr",
     "output_type": "stream",
     "text": [
      "\r\n",
      "Best trial: 8. Best value: 0.920823:  50%|█████     | 10/20 [03:21<03:22, 20.21s/it]"
     ]
    },
    {
     "name": "stderr",
     "output_type": "stream",
     "text": [
      "\r\n",
      "Best trial: 10. Best value: 0.921643:  50%|█████     | 10/20 [03:22<03:22, 20.21s/it]"
     ]
    },
    {
     "name": "stderr",
     "output_type": "stream",
     "text": [
      "\r\n",
      "Best trial: 10. Best value: 0.921643:  55%|█████▌    | 11/20 [03:22<03:12, 21.44s/it]"
     ]
    },
    {
     "name": "stdout",
     "output_type": "stream",
     "text": [
      "[I 2025-10-16 23:15:02,036] Trial 10 finished with value: 0.921642777248805 and parameters: {'learning_rate': 0.04196962706104653, 'max_depth': 6, 'subsample': 0.9947125914885204, 'colsample_bytree': 0.9262331926778731, 'n_estimators': 1000}. Best is trial 10 with value: 0.921642777248805.\n"
     ]
    },
    {
     "name": "stderr",
     "output_type": "stream",
     "text": [
      "\r\n",
      "                                                                                     "
     ]
    },
    {
     "name": "stderr",
     "output_type": "stream",
     "text": [
      "\r"
     ]
    },
    {
     "name": "stderr",
     "output_type": "stream",
     "text": [
      "\r\n",
      "Best trial: 10. Best value: 0.921643:  55%|█████▌    | 11/20 [03:45<03:12, 21.44s/it]"
     ]
    },
    {
     "name": "stderr",
     "output_type": "stream",
     "text": [
      "\r\n",
      "Best trial: 11. Best value: 0.921701:  55%|█████▌    | 11/20 [03:45<03:12, 21.44s/it]"
     ]
    },
    {
     "name": "stderr",
     "output_type": "stream",
     "text": [
      "\r\n",
      "Best trial: 11. Best value: 0.921701:  60%|██████    | 12/20 [03:45<02:57, 22.20s/it]"
     ]
    },
    {
     "name": "stdout",
     "output_type": "stream",
     "text": [
      "[I 2025-10-16 23:15:25,997] Trial 11 finished with value: 0.9217006491060133 and parameters: {'learning_rate': 0.045396978512632205, 'max_depth': 6, 'subsample': 0.9859031181293889, 'colsample_bytree': 0.9106967719840564, 'n_estimators': 1000}. Best is trial 11 with value: 0.9217006491060133.\n"
     ]
    },
    {
     "name": "stderr",
     "output_type": "stream",
     "text": [
      "\r\n",
      "                                                                                     "
     ]
    },
    {
     "name": "stderr",
     "output_type": "stream",
     "text": [
      "\r"
     ]
    },
    {
     "name": "stderr",
     "output_type": "stream",
     "text": [
      "\r\n",
      "Best trial: 11. Best value: 0.921701:  60%|██████    | 12/20 [04:10<02:57, 22.20s/it]"
     ]
    },
    {
     "name": "stderr",
     "output_type": "stream",
     "text": [
      "\r\n",
      "Best trial: 11. Best value: 0.921701:  60%|██████    | 12/20 [04:10<02:57, 22.20s/it]"
     ]
    },
    {
     "name": "stderr",
     "output_type": "stream",
     "text": [
      "\r\n",
      "Best trial: 11. Best value: 0.921701:  65%|██████▌   | 13/20 [04:10<02:41, 23.04s/it]"
     ]
    },
    {
     "name": "stdout",
     "output_type": "stream",
     "text": [
      "[I 2025-10-16 23:15:50,956] Trial 12 finished with value: 0.9202483198718729 and parameters: {'learning_rate': 0.03211293835027379, 'max_depth': 6, 'subsample': 0.9934580251338451, 'colsample_bytree': 0.8809037602848879, 'n_estimators': 1000}. Best is trial 11 with value: 0.9217006491060133.\n"
     ]
    },
    {
     "name": "stderr",
     "output_type": "stream",
     "text": [
      "\r\n",
      "                                                                                     "
     ]
    },
    {
     "name": "stderr",
     "output_type": "stream",
     "text": [
      "\r"
     ]
    },
    {
     "name": "stderr",
     "output_type": "stream",
     "text": [
      "\r\n",
      "Best trial: 11. Best value: 0.921701:  65%|██████▌   | 13/20 [04:34<02:41, 23.04s/it]"
     ]
    },
    {
     "name": "stderr",
     "output_type": "stream",
     "text": [
      "\r\n",
      "Best trial: 11. Best value: 0.921701:  65%|██████▌   | 13/20 [04:34<02:41, 23.04s/it]"
     ]
    },
    {
     "name": "stderr",
     "output_type": "stream",
     "text": [
      "\r\n",
      "Best trial: 11. Best value: 0.921701:  70%|███████   | 14/20 [04:34<02:19, 23.23s/it]"
     ]
    },
    {
     "name": "stdout",
     "output_type": "stream",
     "text": [
      "[I 2025-10-16 23:16:14,637] Trial 13 finished with value: 0.9202943311781261 and parameters: {'learning_rate': 0.03671283716722988, 'max_depth': 6, 'subsample': 0.984472169056929, 'colsample_bytree': 0.874518907520157, 'n_estimators': 1000}. Best is trial 11 with value: 0.9217006491060133.\n"
     ]
    },
    {
     "name": "stderr",
     "output_type": "stream",
     "text": [
      "\r\n",
      "                                                                                     "
     ]
    },
    {
     "name": "stderr",
     "output_type": "stream",
     "text": [
      "\r"
     ]
    },
    {
     "name": "stderr",
     "output_type": "stream",
     "text": [
      "\r\n",
      "Best trial: 11. Best value: 0.921701:  70%|███████   | 14/20 [04:47<02:19, 23.23s/it]"
     ]
    },
    {
     "name": "stderr",
     "output_type": "stream",
     "text": [
      "\r\n",
      "Best trial: 11. Best value: 0.921701:  70%|███████   | 14/20 [04:47<02:19, 23.23s/it]"
     ]
    },
    {
     "name": "stderr",
     "output_type": "stream",
     "text": [
      "\r\n",
      "Best trial: 11. Best value: 0.921701:  75%|███████▌  | 15/20 [04:47<01:41, 20.21s/it]"
     ]
    },
    {
     "name": "stdout",
     "output_type": "stream",
     "text": [
      "[I 2025-10-16 23:16:27,826] Trial 14 finished with value: 0.9179290256999377 and parameters: {'learning_rate': 0.05346375478003307, 'max_depth': 4, 'subsample': 0.9354774770504091, 'colsample_bytree': 0.9618081305913017, 'n_estimators': 800}. Best is trial 11 with value: 0.9217006491060133.\n"
     ]
    },
    {
     "name": "stderr",
     "output_type": "stream",
     "text": [
      "\r\n",
      "                                                                                     "
     ]
    },
    {
     "name": "stderr",
     "output_type": "stream",
     "text": [
      "\r"
     ]
    },
    {
     "name": "stderr",
     "output_type": "stream",
     "text": [
      "\r\n",
      "Best trial: 11. Best value: 0.921701:  75%|███████▌  | 15/20 [05:14<01:41, 20.21s/it]"
     ]
    },
    {
     "name": "stderr",
     "output_type": "stream",
     "text": [
      "\r\n",
      "Best trial: 11. Best value: 0.921701:  75%|███████▌  | 15/20 [05:14<01:41, 20.21s/it]"
     ]
    },
    {
     "name": "stderr",
     "output_type": "stream",
     "text": [
      "\r\n",
      "Best trial: 11. Best value: 0.921701:  80%|████████  | 16/20 [05:14<01:28, 22.03s/it]"
     ]
    },
    {
     "name": "stdout",
     "output_type": "stream",
     "text": [
      "[I 2025-10-16 23:16:54,077] Trial 15 finished with value: 0.9188943727949869 and parameters: {'learning_rate': 0.018922024399888517, 'max_depth': 6, 'subsample': 0.7857304378522889, 'colsample_bytree': 0.834490170411512, 'n_estimators': 1000}. Best is trial 11 with value: 0.9217006491060133.\n"
     ]
    },
    {
     "name": "stderr",
     "output_type": "stream",
     "text": [
      "\r\n",
      "                                                                                     "
     ]
    },
    {
     "name": "stderr",
     "output_type": "stream",
     "text": [
      "\r"
     ]
    },
    {
     "name": "stderr",
     "output_type": "stream",
     "text": [
      "\r\n",
      "Best trial: 11. Best value: 0.921701:  80%|████████  | 16/20 [05:29<01:28, 22.03s/it]"
     ]
    },
    {
     "name": "stderr",
     "output_type": "stream",
     "text": [
      "\r\n",
      "Best trial: 11. Best value: 0.921701:  80%|████████  | 16/20 [05:29<01:28, 22.03s/it]"
     ]
    },
    {
     "name": "stderr",
     "output_type": "stream",
     "text": [
      "\r\n",
      "Best trial: 11. Best value: 0.921701:  85%|████████▌ | 17/20 [05:29<01:00, 20.13s/it]"
     ]
    },
    {
     "name": "stdout",
     "output_type": "stream",
     "text": [
      "[I 2025-10-16 23:17:09,815] Trial 16 finished with value: 0.9208128566591683 and parameters: {'learning_rate': 0.10024292492365992, 'max_depth': 5, 'subsample': 0.949486649062011, 'colsample_bytree': 0.9340620259375736, 'n_estimators': 800}. Best is trial 11 with value: 0.9217006491060133.\n"
     ]
    },
    {
     "name": "stderr",
     "output_type": "stream",
     "text": [
      "\r\n",
      "                                                                                     "
     ]
    },
    {
     "name": "stderr",
     "output_type": "stream",
     "text": [
      "\r"
     ]
    },
    {
     "name": "stderr",
     "output_type": "stream",
     "text": [
      "\r\n",
      "Best trial: 11. Best value: 0.921701:  85%|████████▌ | 17/20 [06:03<01:00, 20.13s/it]"
     ]
    },
    {
     "name": "stderr",
     "output_type": "stream",
     "text": [
      "\r\n",
      "Best trial: 11. Best value: 0.921701:  85%|████████▌ | 17/20 [06:03<01:00, 20.13s/it]"
     ]
    },
    {
     "name": "stderr",
     "output_type": "stream",
     "text": [
      "\r\n",
      "Best trial: 11. Best value: 0.921701:  90%|█████████ | 18/20 [06:03<00:48, 24.32s/it]"
     ]
    },
    {
     "name": "stdout",
     "output_type": "stream",
     "text": [
      "[I 2025-10-16 23:17:43,865] Trial 17 finished with value: 0.9155774568384059 and parameters: {'learning_rate': 0.010860356047457677, 'max_depth': 7, 'subsample': 0.8680549563070212, 'colsample_bytree': 0.8362800536834966, 'n_estimators': 1000}. Best is trial 11 with value: 0.9217006491060133.\n"
     ]
    },
    {
     "name": "stderr",
     "output_type": "stream",
     "text": [
      "\r\n",
      "                                                                                     "
     ]
    },
    {
     "name": "stderr",
     "output_type": "stream",
     "text": [
      "\r"
     ]
    },
    {
     "name": "stderr",
     "output_type": "stream",
     "text": [
      "\r\n",
      "Best trial: 11. Best value: 0.921701:  90%|█████████ | 18/20 [06:23<00:48, 24.32s/it]"
     ]
    },
    {
     "name": "stderr",
     "output_type": "stream",
     "text": [
      "\r\n",
      "Best trial: 11. Best value: 0.921701:  90%|█████████ | 18/20 [06:23<00:48, 24.32s/it]"
     ]
    },
    {
     "name": "stderr",
     "output_type": "stream",
     "text": [
      "\r\n",
      "Best trial: 11. Best value: 0.921701:  95%|█████████▌| 19/20 [06:23<00:22, 22.92s/it]"
     ]
    },
    {
     "name": "stdout",
     "output_type": "stream",
     "text": [
      "[I 2025-10-16 23:18:03,537] Trial 18 finished with value: 0.9177853635840765 and parameters: {'learning_rate': 0.02733513080643241, 'max_depth': 7, 'subsample': 0.9998688287322686, 'colsample_bytree': 0.9366911933901836, 'n_estimators': 600}. Best is trial 11 with value: 0.9217006491060133.\n"
     ]
    },
    {
     "name": "stderr",
     "output_type": "stream",
     "text": [
      "\r\n",
      "                                                                                     "
     ]
    },
    {
     "name": "stderr",
     "output_type": "stream",
     "text": [
      "\r"
     ]
    },
    {
     "name": "stderr",
     "output_type": "stream",
     "text": [
      "\r\n",
      "Best trial: 11. Best value: 0.921701:  95%|█████████▌| 19/20 [06:36<00:22, 22.92s/it]"
     ]
    },
    {
     "name": "stderr",
     "output_type": "stream",
     "text": [
      "\r\n",
      "Best trial: 11. Best value: 0.921701:  95%|█████████▌| 19/20 [06:36<00:22, 22.92s/it]"
     ]
    },
    {
     "name": "stderr",
     "output_type": "stream",
     "text": [
      "\r\n",
      "Best trial: 11. Best value: 0.921701: 100%|██████████| 20/20 [06:36<00:00, 19.81s/it]"
     ]
    },
    {
     "name": "stderr",
     "output_type": "stream",
     "text": [
      "\r\n",
      "Best trial: 11. Best value: 0.921701: 100%|██████████| 20/20 [06:36<00:00, 19.80s/it]"
     ]
    },
    {
     "name": "stderr",
     "output_type": "stream",
     "text": [
      "\n"
     ]
    },
    {
     "name": "stdout",
     "output_type": "stream",
     "text": [
      "[I 2025-10-16 23:18:16,112] Trial 19 finished with value: 0.9185423719931753 and parameters: {'learning_rate': 0.04542325305348374, 'max_depth': 5, 'subsample': 0.7299495040718222, 'colsample_bytree': 0.9872567597840313, 'n_estimators': 600}. Best is trial 11 with value: 0.9217006491060133.\n",
      "✅ GB best AUC=0.922 | params={'learning_rate': 0.045396978512632205, 'max_depth': 6, 'subsample': 0.9859031181293889, 'colsample_bytree': 0.9106967719840564, 'n_estimators': 1000}\n"
     ]
    },
    {
     "name": "stdout",
     "output_type": "stream",
     "text": [
      "\n",
      "[Responder Class Metrics]\n",
      "Accuracy     : 83.69\n",
      "Precision    : 70.77\n",
      "Recall       : 85.41\n",
      "F1 Score     : 77.40\n",
      "ROC AUC Score: 91.89\n",
      "\n",
      "Classification Report:\n",
      "               precision    recall  f1-score   support\n",
      "\n",
      "Non-responder       0.92      0.83      0.87      7112\n",
      "    Responder       0.71      0.85      0.77      3455\n",
      "\n",
      "     accuracy                           0.84     10567\n",
      "    macro avg       0.81      0.84      0.82     10567\n",
      " weighted avg       0.85      0.84      0.84     10567\n",
      "\n"
     ]
    },
    {
     "data": {
      "image/png": "[encoded data removed]",
      "text/plain": [
       "<Figure size 600x500 with 1 Axes>"
      ]
     },
     "metadata": {},
     "output_type": "display_data"
    }
   ],
   "source": [
    "#  3.4 Run hyperparameter tuning and evaluation for XGBoost (XGB)\n",
    "\n",
    "# Step 1: Define and run Optuna study\n",
    "name = \"GB\"\n",
    "study_gb = optuna.create_study(direction=\"maximize\")\n",
    "study_gb.optimize(lambda trial: tune_xgb(trial, X_train, X_val, y_train, y_val), n_trials=N_TRIALS, show_progress_bar=True)\n",
    "print(f\"✅ {name} best AUC={study_gb.best_value:.3f} | params={study_gb.best_params}\")\n",
    "\n",
    "\n",
    "# Step 2: Refit model on the full training set by best parameters which obtains by Optuna\n",
    "model_gb = xgb.XGBClassifier(**study_gb.best_params, n_jobs=-1, random_state=SEED, verbosity=0, scale_pos_weight=w)\n",
    "model_gb.fit(X_train, y_train)\n",
    "\n",
    "# Step 3: Evaluate on test data\n",
    "# Probability predictions for ROC/AUC\n",
    "y_prob_gb = model_gb.predict_proba(X_test)[:, 1]\n",
    "# Binary predictions using default 0.5 threshold\n",
    "y_pred_gb = model_gb.predict(X_test)\n",
    "\n",
    "# Compute evaluation metrics \n",
    "conf_mat = confusion_matrix(y_test, y_pred_gb)\n",
    "roc = roc_auc_score(y_test, y_prob_gb)\n",
    "precision = precision_score(y_test, y_pred_gb)\n",
    "recall = recall_score(y_test, y_pred_gb)\n",
    "f1 = f1_score(y_test, y_pred_gb)\n",
    "accuracy = accuracy_score(y_test, y_pred_gb)\n",
    "\n",
    "print(f\"\\n[Responder Class Metrics]\")\n",
    "print(f\"Accuracy     : {accuracy * 100:.2f}\")\n",
    "print(f\"Precision    : {precision * 100:.2f}\")\n",
    "print(f\"Recall       : {recall * 100:.2f}\")\n",
    "print(f\"F1 Score     : {f1 * 100:.2f}\")\n",
    "print(f\"ROC AUC Score: {roc * 100:.2f}\")\n",
    "\n",
    "# Classification report\n",
    "print(\"\\nClassification Report:\")\n",
    "print(classification_report(y_test, y_pred_gb, target_names=[\"Non-responder\", \"Responder\"]))\n",
    "\n",
    "#  Step 4: Visualize Confusion Matrix\n",
    "plt.figure(figsize=(6, 5))\n",
    "sns.heatmap(\n",
    "    conf_mat,\n",
    "    annot=True,\n",
    "    fmt='d',\n",
    "    cmap='Blues',\n",
    "    xticklabels=['Non-responder', 'Responder'],\n",
    "    yticklabels=['Non-responder', 'Responder'],\n",
    "    cbar=False,\n",
    "    linewidths=0,\n",
    "    linecolor='white'\n",
    ")\n",
    "plt.title('Confusion Matrix')\n",
    "plt.xlabel('Predicted')\n",
    "plt.ylabel('Actual')\n",
    "plt.show()\n"
   ]
  },
  {
   "cell_type": "code",
   "execution_count": null,
   "id": "a939dd0a",
   "metadata": {
    "execution": {
     "iopub.execute_input": "2025-10-16T23:18:39.485295Z",
     "iopub.status.busy": "2025-10-16T23:18:39.484886Z",
     "iopub.status.idle": "2025-10-16T23:29:48.325979Z",
     "shell.execute_reply": "2025-10-16T23:29:48.324818Z"
    },
    "papermill": {
     "duration": 668.866218,
     "end_time": "2025-10-16T23:29:48.327167",
     "exception": false,
     "start_time": "2025-10-16T23:18:39.460949",
     "status": "completed"
    },
    "tags": []
   },
   "outputs": [
    {
     "name": "stderr",
     "output_type": "stream",
     "text": [
      "[I 2025-10-16 23:18:39,491] A new study created in memory with name: no-name-094210f1-1380-465a-af59-4f1b777a47b0\n"
     ]
    },
    {
     "name": "stderr",
     "output_type": "stream",
     "text": [
      "\r\n",
      "  0%|          | 0/20 [00:00<?, ?it/s]"
     ]
    },
    {
     "name": "stderr",
     "output_type": "stream",
     "text": [
      "2025-10-16 23:18:39.499847: E external/local_xla/xla/stream_executor/cuda/cuda_platform.cc:51] failed call to cuInit: INTERNAL: CUDA error: Failed call to cuInit: UNKNOWN ERROR (303)\n"
     ]
    },
    {
     "name": "stdout",
     "output_type": "stream",
     "text": [
      "\r\n",
      "\u001b[1m  1/265\u001b[0m \u001b[37m━━━━━━━━━━━━━━━━━━━━\u001b[0m \u001b[1m11s\u001b[0m 44ms/step"
     ]
    },
    {
     "name": "stdout",
     "output_type": "stream",
     "text": [
      "\b\b\b\b\b\b\b\b\b\b\b\b\b\b\b\b\b\b\b\b\b\b\b\b\b\b\b\b\b\b\b\b\b\b\b\b\b\b\b\b\b\b\r\n",
      "\u001b[1m 73/265\u001b[0m \u001b[32m━━━━━\u001b[0m\u001b[37m━━━━━━━━━━━━━━━\u001b[0m \u001b[1m0s\u001b[0m 699us/step"
     ]
    },
    {
     "name": "stdout",
     "output_type": "stream",
     "text": [
      "\b\b\b\b\b\b\b\b\b\b\b\b\b\b\b\b\b\b\b\b\b\b\b\b\b\b\b\b\b\b\b\b\b\b\b\b\b\b\b\b\b\b\r\n",
      "\u001b[1m143/265\u001b[0m \u001b[32m━━━━━━━━━━\u001b[0m\u001b[37m━━━━━━━━━━\u001b[0m \u001b[1m0s\u001b[0m 708us/step"
     ]
    },
    {
     "name": "stdout",
     "output_type": "stream",
     "text": [
      "\b\b\b\b\b\b\b\b\b\b\b\b\b\b\b\b\b\b\b\b\b\b\b\b\b\b\b\b\b\b\b\b\b\b\b\b\b\b\b\b\b\b\r\n",
      "\u001b[1m201/265\u001b[0m \u001b[32m━━━━━━━━━━━━━━━\u001b[0m\u001b[37m━━━━━\u001b[0m \u001b[1m0s\u001b[0m 753us/step"
     ]
    },
    {
     "name": "stdout",
     "output_type": "stream",
     "text": [
      "\b\b\b\b\b\b\b\b\b\b\b\b\b\b\b\b\b\b\b\b\b\b\b\b\b\b\b\b\b\b\b\b\b\b\b\b\b\b\b\b\b\b\r\n",
      "\u001b[1m265/265\u001b[0m \u001b[32m━━━━━━━━━━━━━━━━━━━━\u001b[0m\u001b[37m\u001b[0m \u001b[1m0s\u001b[0m 868us/step"
     ]
    },
    {
     "name": "stdout",
     "output_type": "stream",
     "text": [
      "\b\b\b\b\b\b\b\b\b\b\b\b\b\b\b\b\b\b\b\b\b\b\b\b\b\b\b\b\b\b\b\b\b\b\b\b\b\b\b\b\b\b\r\n",
      "\u001b[1m265/265\u001b[0m \u001b[32m━━━━━━━━━━━━━━━━━━━━\u001b[0m\u001b[37m\u001b[0m \u001b[1m0s\u001b[0m 923us/step\n"
     ]
    },
    {
     "name": "stderr",
     "output_type": "stream",
     "text": [
      "\r\n",
      "                                      "
     ]
    },
    {
     "name": "stderr",
     "output_type": "stream",
     "text": [
      "\r"
     ]
    },
    {
     "name": "stderr",
     "output_type": "stream",
     "text": [
      "\r\n",
      "  0%|          | 0/20 [00:50<?, ?it/s]"
     ]
    },
    {
     "name": "stderr",
     "output_type": "stream",
     "text": [
      "\r\n",
      "Best trial: 0. Best value: 0.904585:   0%|          | 0/20 [00:50<?, ?it/s]"
     ]
    },
    {
     "name": "stderr",
     "output_type": "stream",
     "text": [
      "\r\n",
      "Best trial: 0. Best value: 0.904585:   5%|▌         | 1/20 [00:50<15:59, 50.51s/it]"
     ]
    },
    {
     "name": "stdout",
     "output_type": "stream",
     "text": [
      "[I 2025-10-16 23:19:29,997] Trial 0 finished with value: 0.9045850791343591 and parameters: {'lr': 0.00033965603363055524, 'dropout': 0.580526819278727, 'n1': 96, 'n2': 32}. Best is trial 0 with value: 0.9045850791343591.\n"
     ]
    },
    {
     "name": "stdout",
     "output_type": "stream",
     "text": [
      "\r\n",
      "\u001b[1m  1/265\u001b[0m \u001b[37m━━━━━━━━━━━━━━━━━━━━\u001b[0m \u001b[1m12s\u001b[0m 48ms/step"
     ]
    },
    {
     "name": "stdout",
     "output_type": "stream",
     "text": [
      "\b\b\b\b\b\b\b\b\b\b\b\b\b\b\b\b\b\b\b\b\b\b\b\b\b\b\b\b\b\b\b\b\b\b\b\b\b\b\b\b\b\b\r\n",
      "\u001b[1m 68/265\u001b[0m \u001b[32m━━━━━\u001b[0m\u001b[37m━━━━━━━━━━━━━━━\u001b[0m \u001b[1m0s\u001b[0m 835us/step"
     ]
    },
    {
     "name": "stdout",
     "output_type": "stream",
     "text": [
      "\b\b\b\b\b\b\b\b\b\b\b\b\b\b\b\b\b\b\b\b\b\b\b\b\b\b\b\b\b\b\b\b\b\b\b\b\b\b\b\b\b\b\r\n",
      "\u001b[1m132/265\u001b[0m \u001b[32m━━━━━━━━━\u001b[0m\u001b[37m━━━━━━━━━━━\u001b[0m \u001b[1m0s\u001b[0m 815us/step"
     ]
    },
    {
     "name": "stdout",
     "output_type": "stream",
     "text": [
      "\b\b\b\b\b\b\b\b\b\b\b\b\b\b\b\b\b\b\b\b\b\b\b\b\b\b\b\b\b\b\b\b\b\b\b\b\b\b\b\b\b\b\r\n",
      "\u001b[1m201/265\u001b[0m \u001b[32m━━━━━━━━━━━━━━━\u001b[0m\u001b[37m━━━━━\u001b[0m \u001b[1m0s\u001b[0m 787us/step"
     ]
    },
    {
     "name": "stdout",
     "output_type": "stream",
     "text": [
      "\b\b\b\b\b\b\b\b\b\b\b\b\b\b\b\b\b\b\b\b\b\b\b\b\b\b\b\b\b\b\b\b\b\b\b\b\b\b\b\b\b\b\r\n",
      "\u001b[1m265/265\u001b[0m \u001b[32m━━━━━━━━━━━━━━━━━━━━\u001b[0m\u001b[37m\u001b[0m \u001b[1m0s\u001b[0m 902us/step"
     ]
    },
    {
     "name": "stdout",
     "output_type": "stream",
     "text": [
      "\b\b\b\b\b\b\b\b\b\b\b\b\b\b\b\b\b\b\b\b\b\b\b\b\b\b\b\b\b\b\b\b\b\b\b\b\b\b\b\b\b\b\r\n",
      "\u001b[1m265/265\u001b[0m \u001b[32m━━━━━━━━━━━━━━━━━━━━\u001b[0m\u001b[37m\u001b[0m \u001b[1m0s\u001b[0m 971us/step\n"
     ]
    },
    {
     "name": "stderr",
     "output_type": "stream",
     "text": [
      "\r\n",
      "                                                                                   "
     ]
    },
    {
     "name": "stderr",
     "output_type": "stream",
     "text": [
      "\r"
     ]
    },
    {
     "name": "stderr",
     "output_type": "stream",
     "text": [
      "\r\n",
      "Best trial: 0. Best value: 0.904585:   5%|▌         | 1/20 [01:12<15:59, 50.51s/it]"
     ]
    },
    {
     "name": "stderr",
     "output_type": "stream",
     "text": [
      "\r\n",
      "Best trial: 1. Best value: 0.905103:   5%|▌         | 1/20 [01:12<15:59, 50.51s/it]"
     ]
    },
    {
     "name": "stderr",
     "output_type": "stream",
     "text": [
      "\r\n",
      "Best trial: 1. Best value: 0.905103:  10%|█         | 2/20 [01:12<10:11, 33.96s/it]"
     ]
    },
    {
     "name": "stdout",
     "output_type": "stream",
     "text": [
      "[I 2025-10-16 23:19:52,367] Trial 1 finished with value: 0.9051025234927942 and parameters: {'lr': 0.0012210178794725215, 'dropout': 0.2530033671912883, 'n1': 128, 'n2': 16}. Best is trial 1 with value: 0.9051025234927942.\n"
     ]
    },
    {
     "name": "stdout",
     "output_type": "stream",
     "text": [
      "\r\n",
      "\u001b[1m  1/265\u001b[0m \u001b[37m━━━━━━━━━━━━━━━━━━━━\u001b[0m \u001b[1m13s\u001b[0m 50ms/step"
     ]
    },
    {
     "name": "stdout",
     "output_type": "stream",
     "text": [
      "\b\b\b\b\b\b\b\b\b\b\b\b\b\b\b\b\b\b\b\b\b\b\b\b\b\b\b\b\b\b\b\b\b\b\b\b\b\b\b\b\b\b\r\n",
      "\u001b[1m 65/265\u001b[0m \u001b[32m━━━━\u001b[0m\u001b[37m━━━━━━━━━━━━━━━━\u001b[0m \u001b[1m0s\u001b[0m 784us/step"
     ]
    },
    {
     "name": "stdout",
     "output_type": "stream",
     "text": [
      "\b\b\b\b\b\b\b\b\b\b\b\b\b\b\b\b\b\b\b\b\b\b\b\b\b\b\b\b\b\b\b\b\b\b\b\b\b\b\b\b\b\b\r\n",
      "\u001b[1m126/265\u001b[0m \u001b[32m━━━━━━━━━\u001b[0m\u001b[37m━━━━━━━━━━━\u001b[0m \u001b[1m0s\u001b[0m 806us/step"
     ]
    },
    {
     "name": "stdout",
     "output_type": "stream",
     "text": [
      "\b\b\b\b\b\b\b\b\b\b\b\b\b\b\b\b\b\b\b\b\b\b\b\b\b\b\b\b\b\b\b\b\b\b\b\b\b\b\b\b\b\b\r\n",
      "\u001b[1m194/265\u001b[0m \u001b[32m━━━━━━━━━━━━━━\u001b[0m\u001b[37m━━━━━━\u001b[0m \u001b[1m0s\u001b[0m 782us/step"
     ]
    },
    {
     "name": "stdout",
     "output_type": "stream",
     "text": [
      "\b\b\b\b\b\b\b\b\b\b\b\b\b\b\b\b\b\b\b\b\b\b\b\b\b\b\b\b\b\b\b\b\b\b\b\b\b\b\b\b\b\b\r\n",
      "\u001b[1m258/265\u001b[0m \u001b[32m━━━━━━━━━━━━━━━━━━━\u001b[0m\u001b[37m━\u001b[0m \u001b[1m0s\u001b[0m 783us/step"
     ]
    },
    {
     "name": "stdout",
     "output_type": "stream",
     "text": [
      "\b\b\b\b\b\b\b\b\b\b\b\b\b\b\b\b\b\b\b\b\b\b\b\b\b\b\b\b\b\b\b\b\b\b\b\b\b\b\b\b\b\b\r\n",
      "\u001b[1m265/265\u001b[0m \u001b[32m━━━━━━━━━━━━━━━━━━━━\u001b[0m\u001b[37m\u001b[0m \u001b[1m0s\u001b[0m 956us/step\n"
     ]
    },
    {
     "name": "stderr",
     "output_type": "stream",
     "text": [
      "\r\n",
      "                                                                                   "
     ]
    },
    {
     "name": "stderr",
     "output_type": "stream",
     "text": [
      "\r"
     ]
    },
    {
     "name": "stderr",
     "output_type": "stream",
     "text": [
      "\r\n",
      "Best trial: 1. Best value: 0.905103:  10%|█         | 2/20 [01:45<10:11, 33.96s/it]"
     ]
    },
    {
     "name": "stderr",
     "output_type": "stream",
     "text": [
      "\r\n",
      "Best trial: 1. Best value: 0.905103:  10%|█         | 2/20 [01:45<10:11, 33.96s/it]"
     ]
    },
    {
     "name": "stderr",
     "output_type": "stream",
     "text": [
      "\r\n",
      "Best trial: 1. Best value: 0.905103:  15%|█▌        | 3/20 [01:45<09:28, 33.46s/it]"
     ]
    },
    {
     "name": "stdout",
     "output_type": "stream",
     "text": [
      "[I 2025-10-16 23:20:25,242] Trial 2 finished with value: 0.9014553563774405 and parameters: {'lr': 0.0009656195305793378, 'dropout': 0.2880628101235364, 'n1': 32, 'n2': 48}. Best is trial 1 with value: 0.9051025234927942.\n"
     ]
    },
    {
     "name": "stdout",
     "output_type": "stream",
     "text": [
      "\r\n",
      "\u001b[1m  1/265\u001b[0m \u001b[37m━━━━━━━━━━━━━━━━━━━━\u001b[0m \u001b[1m12s\u001b[0m 47ms/step"
     ]
    },
    {
     "name": "stdout",
     "output_type": "stream",
     "text": [
      "\b\b\b\b\b\b\b\b\b\b\b\b\b\b\b\b\b\b\b\b\b\b\b\b\b\b\b\b\b\b\b\b\b\b\b\b\b\b\b\b\b\b\r\n",
      "\u001b[1m 62/265\u001b[0m \u001b[32m━━━━\u001b[0m\u001b[37m━━━━━━━━━━━━━━━━\u001b[0m \u001b[1m0s\u001b[0m 825us/step"
     ]
    },
    {
     "name": "stdout",
     "output_type": "stream",
     "text": [
      "\b\b\b\b\b\b\b\b\b\b\b\b\b\b\b\b\b\b\b\b\b\b\b\b\b\b\b\b\b\b\b\b\b\b\b\b\b\b\b\b\b\b\r\n",
      "\u001b[1m130/265\u001b[0m \u001b[32m━━━━━━━━━\u001b[0m\u001b[37m━━━━━━━━━━━\u001b[0m \u001b[1m0s\u001b[0m 779us/step"
     ]
    },
    {
     "name": "stdout",
     "output_type": "stream",
     "text": [
      "\b\b\b\b\b\b\b\b\b\b\b\b\b\b\b\b\b\b\b\b\b\b\b\b\b\b\b\b\b\b\b\b\b\b\b\b\b\b\b\b\b\b\r\n",
      "\u001b[1m192/265\u001b[0m \u001b[32m━━━━━━━━━━━━━━\u001b[0m\u001b[37m━━━━━━\u001b[0m \u001b[1m0s\u001b[0m 791us/step"
     ]
    },
    {
     "name": "stdout",
     "output_type": "stream",
     "text": [
      "\b\b\b\b\b\b\b\b\b\b\b\b\b\b\b\b\b\b\b\b\b\b\b\b\b\b\b\b\b\b\b\b\b\b\b\b\b\b\b\b\b\b\r\n",
      "\u001b[1m255/265\u001b[0m \u001b[32m━━━━━━━━━━━━━━━━━━━\u001b[0m\u001b[37m━\u001b[0m \u001b[1m0s\u001b[0m 795us/step"
     ]
    },
    {
     "name": "stdout",
     "output_type": "stream",
     "text": [
      "\b\b\b\b\b\b\b\b\b\b\b\b\b\b\b\b\b\b\b\b\b\b\b\b\b\b\b\b\b\b\b\b\b\b\b\b\b\b\b\b\b\b\r\n",
      "\u001b[1m265/265\u001b[0m \u001b[32m━━━━━━━━━━━━━━━━━━━━\u001b[0m\u001b[37m\u001b[0m \u001b[1m0s\u001b[0m 997us/step\n"
     ]
    },
    {
     "name": "stderr",
     "output_type": "stream",
     "text": [
      "\r\n",
      "                                                                                   "
     ]
    },
    {
     "name": "stderr",
     "output_type": "stream",
     "text": [
      "\r"
     ]
    },
    {
     "name": "stderr",
     "output_type": "stream",
     "text": [
      "\r\n",
      "Best trial: 1. Best value: 0.905103:  15%|█▌        | 3/20 [02:13<09:28, 33.46s/it]"
     ]
    },
    {
     "name": "stderr",
     "output_type": "stream",
     "text": [
      "\r\n",
      "Best trial: 3. Best value: 0.905109:  15%|█▌        | 3/20 [02:13<09:28, 33.46s/it]"
     ]
    },
    {
     "name": "stderr",
     "output_type": "stream",
     "text": [
      "\r\n",
      "Best trial: 3. Best value: 0.905109:  20%|██        | 4/20 [02:13<08:17, 31.10s/it]"
     ]
    },
    {
     "name": "stdout",
     "output_type": "stream",
     "text": [
      "[I 2025-10-16 23:20:52,707] Trial 3 finished with value: 0.9051089784307138 and parameters: {'lr': 0.001227883198583663, 'dropout': 0.29748790875268316, 'n1': 96, 'n2': 48}. Best is trial 3 with value: 0.9051089784307138.\n"
     ]
    },
    {
     "name": "stdout",
     "output_type": "stream",
     "text": [
      "\r\n",
      "\u001b[1m  1/265\u001b[0m \u001b[37m━━━━━━━━━━━━━━━━━━━━\u001b[0m \u001b[1m14s\u001b[0m 53ms/step"
     ]
    },
    {
     "name": "stdout",
     "output_type": "stream",
     "text": [
      "\b\b\b\b\b\b\b\b\b\b\b\b\b\b\b\b\b\b\b\b\b\b\b\b\b\b\b\b\b\b\b\b\b\b\b\b\b\b\b\b\b\b\r\n",
      "\u001b[1m 68/265\u001b[0m \u001b[32m━━━━━\u001b[0m\u001b[37m━━━━━━━━━━━━━━━\u001b[0m \u001b[1m0s\u001b[0m 756us/step"
     ]
    },
    {
     "name": "stdout",
     "output_type": "stream",
     "text": [
      "\b\b\b\b\b\b\b\b\b\b\b\b\b\b\b\b\b\b\b\b\b\b\b\b\b\b\b\b\b\b\b\b\b\b\b\b\b\b\b\b\b\b\r\n",
      "\u001b[1m144/265\u001b[0m \u001b[32m━━━━━━━━━━\u001b[0m\u001b[37m━━━━━━━━━━\u001b[0m \u001b[1m0s\u001b[0m 707us/step"
     ]
    },
    {
     "name": "stdout",
     "output_type": "stream",
     "text": [
      "\b\b\b\b\b\b\b\b\b\b\b\b\b\b\b\b\b\b\b\b\b\b\b\b\b\b\b\b\b\b\b\b\b\b\b\b\b\b\b\b\b\b\r\n",
      "\u001b[1m213/265\u001b[0m \u001b[32m━━━━━━━━━━━━━━━━\u001b[0m\u001b[37m━━━━\u001b[0m \u001b[1m0s\u001b[0m 714us/step"
     ]
    },
    {
     "name": "stdout",
     "output_type": "stream",
     "text": [
      "\b\b\b\b\b\b\b\b\b\b\b\b\b\b\b\b\b\b\b\b\b\b\b\b\b\b\b\b\b\b\b\b\b\b\b\b\b\b\b\b\b\b\r\n",
      "\u001b[1m265/265\u001b[0m \u001b[32m━━━━━━━━━━━━━━━━━━━━\u001b[0m\u001b[37m\u001b[0m \u001b[1m0s\u001b[0m 857us/step"
     ]
    },
    {
     "name": "stdout",
     "output_type": "stream",
     "text": [
      "\b\b\b\b\b\b\b\b\b\b\b\b\b\b\b\b\b\b\b\b\b\b\b\b\b\b\b\b\b\b\b\b\b\b\b\b\b\b\b\b\b\b\r\n",
      "\u001b[1m265/265\u001b[0m \u001b[32m━━━━━━━━━━━━━━━━━━━━\u001b[0m\u001b[37m\u001b[0m \u001b[1m0s\u001b[0m 922us/step\n"
     ]
    },
    {
     "name": "stderr",
     "output_type": "stream",
     "text": [
      "\r\n",
      "                                                                                   "
     ]
    },
    {
     "name": "stderr",
     "output_type": "stream",
     "text": [
      "\r"
     ]
    },
    {
     "name": "stderr",
     "output_type": "stream",
     "text": [
      "\r\n",
      "Best trial: 3. Best value: 0.905109:  20%|██        | 4/20 [02:40<08:17, 31.10s/it]"
     ]
    },
    {
     "name": "stderr",
     "output_type": "stream",
     "text": [
      "\r\n",
      "Best trial: 3. Best value: 0.905109:  20%|██        | 4/20 [02:40<08:17, 31.10s/it]"
     ]
    },
    {
     "name": "stderr",
     "output_type": "stream",
     "text": [
      "\r\n",
      "Best trial: 3. Best value: 0.905109:  25%|██▌       | 5/20 [02:40<07:26, 29.76s/it]"
     ]
    },
    {
     "name": "stdout",
     "output_type": "stream",
     "text": [
      "[I 2025-10-16 23:21:20,108] Trial 4 finished with value: 0.8998848032064316 and parameters: {'lr': 0.00023397377537313926, 'dropout': 0.31646534237312857, 'n1': 128, 'n2': 16}. Best is trial 3 with value: 0.9051089784307138.\n"
     ]
    },
    {
     "name": "stdout",
     "output_type": "stream",
     "text": [
      "\r\n",
      "\u001b[1m  1/265\u001b[0m \u001b[37m━━━━━━━━━━━━━━━━━━━━\u001b[0m \u001b[1m10s\u001b[0m 40ms/step"
     ]
    },
    {
     "name": "stdout",
     "output_type": "stream",
     "text": [
      "\b\b\b\b\b\b\b\b\b\b\b\b\b\b\b\b\b\b\b\b\b\b\b\b\b\b\b\b\b\b\b\b\b\b\b\b\b\b\b\b\b\b\r\n",
      "\u001b[1m 59/265\u001b[0m \u001b[32m━━━━\u001b[0m\u001b[37m━━━━━━━━━━━━━━━━\u001b[0m \u001b[1m0s\u001b[0m 865us/step"
     ]
    },
    {
     "name": "stdout",
     "output_type": "stream",
     "text": [
      "\b\b\b\b\b\b\b\b\b\b\b\b\b\b\b\b\b\b\b\b\b\b\b\b\b\b\b\b\b\b\b\b\b\b\b\b\b\b\b\b\b\b\r\n",
      "\u001b[1m121/265\u001b[0m \u001b[32m━━━━━━━━━\u001b[0m\u001b[37m━━━━━━━━━━━\u001b[0m \u001b[1m0s\u001b[0m 838us/step"
     ]
    },
    {
     "name": "stdout",
     "output_type": "stream",
     "text": [
      "\b\b\b\b\b\b\b\b\b\b\b\b\b\b\b\b\b\b\b\b\b\b\b\b\b\b\b\b\b\b\b\b\b\b\b\b\b\b\b\b\b\b\r\n",
      "\u001b[1m190/265\u001b[0m \u001b[32m━━━━━━━━━━━━━━\u001b[0m\u001b[37m━━━━━━\u001b[0m \u001b[1m0s\u001b[0m 798us/step"
     ]
    },
    {
     "name": "stdout",
     "output_type": "stream",
     "text": [
      "\b\b\b\b\b\b\b\b\b\b\b\b\b\b\b\b\b\b\b\b\b\b\b\b\b\b\b\b\b\b\b\b\b\b\b\b\b\b\b\b\b\b\r\n",
      "\u001b[1m263/265\u001b[0m \u001b[32m━━━━━━━━━━━━━━━━━━━\u001b[0m\u001b[37m━\u001b[0m \u001b[1m0s\u001b[0m 767us/step"
     ]
    },
    {
     "name": "stdout",
     "output_type": "stream",
     "text": [
      "\b\b\b\b\b\b\b\b\b\b\b\b\b\b\b\b\b\b\b\b\b\b\b\b\b\b\b\b\b\b\b\b\b\b\b\b\b\b\b\b\b\b\r\n",
      "\u001b[1m265/265\u001b[0m \u001b[32m━━━━━━━━━━━━━━━━━━━━\u001b[0m\u001b[37m\u001b[0m \u001b[1m0s\u001b[0m 926us/step\n"
     ]
    },
    {
     "name": "stderr",
     "output_type": "stream",
     "text": [
      "\r\n",
      "                                                                                   "
     ]
    },
    {
     "name": "stderr",
     "output_type": "stream",
     "text": [
      "\r"
     ]
    },
    {
     "name": "stderr",
     "output_type": "stream",
     "text": [
      "\r\n",
      "Best trial: 3. Best value: 0.905109:  25%|██▌       | 5/20 [03:15<07:26, 29.76s/it]"
     ]
    },
    {
     "name": "stderr",
     "output_type": "stream",
     "text": [
      "\r\n",
      "Best trial: 3. Best value: 0.905109:  25%|██▌       | 5/20 [03:15<07:26, 29.76s/it]"
     ]
    },
    {
     "name": "stderr",
     "output_type": "stream",
     "text": [
      "\r\n",
      "Best trial: 3. Best value: 0.905109:  30%|███       | 6/20 [03:15<07:20, 31.44s/it]"
     ]
    },
    {
     "name": "stdout",
     "output_type": "stream",
     "text": [
      "[I 2025-10-16 23:21:54,795] Trial 5 finished with value: 0.900559042140633 and parameters: {'lr': 0.00034226998143265056, 'dropout': 0.23974210080478572, 'n1': 32, 'n2': 64}. Best is trial 3 with value: 0.9051089784307138.\n"
     ]
    },
    {
     "name": "stdout",
     "output_type": "stream",
     "text": [
      "\r\n",
      "\u001b[1m  1/265\u001b[0m \u001b[37m━━━━━━━━━━━━━━━━━━━━\u001b[0m \u001b[1m11s\u001b[0m 44ms/step"
     ]
    },
    {
     "name": "stdout",
     "output_type": "stream",
     "text": [
      "\b\b\b\b\b\b\b\b\b\b\b\b\b\b\b\b\b\b\b\b\b\b\b\b\b\b\b\b\b\b\b\b\b\b\b\b\b\b\b\b\b\b\r\n",
      "\u001b[1m 65/265\u001b[0m \u001b[32m━━━━\u001b[0m\u001b[37m━━━━━━━━━━━━━━━━\u001b[0m \u001b[1m0s\u001b[0m 791us/step"
     ]
    },
    {
     "name": "stdout",
     "output_type": "stream",
     "text": [
      "\b\b\b\b\b\b\b\b\b\b\b\b\b\b\b\b\b\b\b\b\b\b\b\b\b\b\b\b\b\b\b\b\b\b\b\b\b\b\b\b\b\b\r\n",
      "\u001b[1m134/265\u001b[0m \u001b[32m━━━━━━━━━━\u001b[0m\u001b[37m━━━━━━━━━━\u001b[0m \u001b[1m0s\u001b[0m 759us/step"
     ]
    },
    {
     "name": "stdout",
     "output_type": "stream",
     "text": [
      "\b\b\b\b\b\b\b\b\b\b\b\b\b\b\b\b\b\b\b\b\b\b\b\b\b\b\b\b\b\b\b\b\b\b\b\b\b\b\b\b\b\b\r\n",
      "\u001b[1m200/265\u001b[0m \u001b[32m━━━━━━━━━━━━━━━\u001b[0m\u001b[37m━━━━━\u001b[0m \u001b[1m0s\u001b[0m 762us/step"
     ]
    },
    {
     "name": "stdout",
     "output_type": "stream",
     "text": [
      "\b\b\b\b\b\b\b\b\b\b\b\b\b\b\b\b\b\b\b\b\b\b\b\b\b\b\b\b\b\b\b\b\b\b\b\b\b\b\b\b\b\b\r\n",
      "\u001b[1m265/265\u001b[0m \u001b[32m━━━━━━━━━━━━━━━━━━━━\u001b[0m\u001b[37m\u001b[0m \u001b[1m0s\u001b[0m 892us/step"
     ]
    },
    {
     "name": "stdout",
     "output_type": "stream",
     "text": [
      "\b\b\b\b\b\b\b\b\b\b\b\b\b\b\b\b\b\b\b\b\b\b\b\b\b\b\b\b\b\b\b\b\b\b\b\b\b\b\b\b\b\b\r\n",
      "\u001b[1m265/265\u001b[0m \u001b[32m━━━━━━━━━━━━━━━━━━━━\u001b[0m\u001b[37m\u001b[0m \u001b[1m0s\u001b[0m 950us/step\n"
     ]
    },
    {
     "name": "stderr",
     "output_type": "stream",
     "text": [
      "\r\n",
      "                                                                                   "
     ]
    },
    {
     "name": "stderr",
     "output_type": "stream",
     "text": [
      "\r"
     ]
    },
    {
     "name": "stderr",
     "output_type": "stream",
     "text": [
      "\r\n",
      "Best trial: 3. Best value: 0.905109:  30%|███       | 6/20 [03:48<07:20, 31.44s/it]"
     ]
    },
    {
     "name": "stderr",
     "output_type": "stream",
     "text": [
      "\r\n",
      "Best trial: 3. Best value: 0.905109:  30%|███       | 6/20 [03:48<07:20, 31.44s/it]"
     ]
    },
    {
     "name": "stderr",
     "output_type": "stream",
     "text": [
      "\r\n",
      "Best trial: 3. Best value: 0.905109:  35%|███▌      | 7/20 [03:48<06:58, 32.16s/it]"
     ]
    },
    {
     "name": "stdout",
     "output_type": "stream",
     "text": [
      "[I 2025-10-16 23:22:28,449] Trial 6 finished with value: 0.8941337079020397 and parameters: {'lr': 0.00539936063980644, 'dropout': 0.41335851513396643, 'n1': 32, 'n2': 32}. Best is trial 3 with value: 0.9051089784307138.\n"
     ]
    },
    {
     "name": "stdout",
     "output_type": "stream",
     "text": [
      "\r\n",
      "\u001b[1m  1/265\u001b[0m \u001b[37m━━━━━━━━━━━━━━━━━━━━\u001b[0m \u001b[1m12s\u001b[0m 46ms/step"
     ]
    },
    {
     "name": "stdout",
     "output_type": "stream",
     "text": [
      "\b\b\b\b\b\b\b\b\b\b\b\b\b\b\b\b\b\b\b\b\b\b\b\b\b\b\b\b\b\b\b\b\b\b\b\b\b\b\b\b\b\b\r\n",
      "\u001b[1m 70/265\u001b[0m \u001b[32m━━━━━\u001b[0m\u001b[37m━━━━━━━━━━━━━━━\u001b[0m \u001b[1m0s\u001b[0m 726us/step"
     ]
    },
    {
     "name": "stdout",
     "output_type": "stream",
     "text": [
      "\b\b\b\b\b\b\b\b\b\b\b\b\b\b\b\b\b\b\b\b\b\b\b\b\b\b\b\b\b\b\b\b\b\b\b\b\b\b\b\b\b\b\r\n",
      "\u001b[1m145/265\u001b[0m \u001b[32m━━━━━━━━━━\u001b[0m\u001b[37m━━━━━━━━━━\u001b[0m \u001b[1m0s\u001b[0m 711us/step"
     ]
    },
    {
     "name": "stdout",
     "output_type": "stream",
     "text": [
      "\b\b\b\b\b\b\b\b\b\b\b\b\b\b\b\b\b\b\b\b\b\b\b\b\b\b\b\b\b\b\b\b\b\b\b\b\b\b\b\b\b\b\r\n",
      "\u001b[1m216/265\u001b[0m \u001b[32m━━━━━━━━━━━━━━━━\u001b[0m\u001b[37m━━━━\u001b[0m \u001b[1m0s\u001b[0m 709us/step"
     ]
    },
    {
     "name": "stdout",
     "output_type": "stream",
     "text": [
      "\b\b\b\b\b\b\b\b\b\b\b\b\b\b\b\b\b\b\b\b\b\b\b\b\b\b\b\b\b\b\b\b\b\b\b\b\b\b\b\b\b\b\r\n",
      "\u001b[1m265/265\u001b[0m \u001b[32m━━━━━━━━━━━━━━━━━━━━\u001b[0m\u001b[37m\u001b[0m \u001b[1m0s\u001b[0m 815us/step"
     ]
    },
    {
     "name": "stdout",
     "output_type": "stream",
     "text": [
      "\b\b\b\b\b\b\b\b\b\b\b\b\b\b\b\b\b\b\b\b\b\b\b\b\b\b\b\b\b\b\b\b\b\b\b\b\b\b\b\b\b\b\r\n",
      "\u001b[1m265/265\u001b[0m \u001b[32m━━━━━━━━━━━━━━━━━━━━\u001b[0m\u001b[37m\u001b[0m \u001b[1m0s\u001b[0m 884us/step\n"
     ]
    },
    {
     "name": "stderr",
     "output_type": "stream",
     "text": [
      "\r\n",
      "                                                                                   "
     ]
    },
    {
     "name": "stderr",
     "output_type": "stream",
     "text": [
      "\r"
     ]
    },
    {
     "name": "stderr",
     "output_type": "stream",
     "text": [
      "\r\n",
      "Best trial: 3. Best value: 0.905109:  35%|███▌      | 7/20 [04:38<06:58, 32.16s/it]"
     ]
    },
    {
     "name": "stderr",
     "output_type": "stream",
     "text": [
      "\r\n",
      "Best trial: 3. Best value: 0.905109:  35%|███▌      | 7/20 [04:38<06:58, 32.16s/it]"
     ]
    },
    {
     "name": "stderr",
     "output_type": "stream",
     "text": [
      "\r\n",
      "Best trial: 3. Best value: 0.905109:  40%|████      | 8/20 [04:38<07:33, 37.78s/it]"
     ]
    },
    {
     "name": "stdout",
     "output_type": "stream",
     "text": [
      "[I 2025-10-16 23:23:18,270] Trial 7 finished with value: 0.9024849030767224 and parameters: {'lr': 0.0007422578899273268, 'dropout': 0.25155516395339367, 'n1': 32, 'n2': 48}. Best is trial 3 with value: 0.9051089784307138.\n"
     ]
    },
    {
     "name": "stdout",
     "output_type": "stream",
     "text": [
      "\r\n",
      "\u001b[1m  1/265\u001b[0m \u001b[37m━━━━━━━━━━━━━━━━━━━━\u001b[0m \u001b[1m12s\u001b[0m 48ms/step"
     ]
    },
    {
     "name": "stdout",
     "output_type": "stream",
     "text": [
      "\b\b\b\b\b\b\b\b\b\b\b\b\b\b\b\b\b\b\b\b\b\b\b\b\b\b\b\b\b\b\b\b\b\b\b\b\b\b\b\b\b\b\r\n",
      "\u001b[1m 72/265\u001b[0m \u001b[32m━━━━━\u001b[0m\u001b[37m━━━━━━━━━━━━━━━\u001b[0m \u001b[1m0s\u001b[0m 710us/step"
     ]
    },
    {
     "name": "stdout",
     "output_type": "stream",
     "text": [
      "\b\b\b\b\b\b\b\b\b\b\b\b\b\b\b\b\b\b\b\b\b\b\b\b\b\b\b\b\b\b\b\b\b\b\b\b\b\b\b\b\b\b\r\n",
      "\u001b[1m137/265\u001b[0m \u001b[32m━━━━━━━━━━\u001b[0m\u001b[37m━━━━━━━━━━\u001b[0m \u001b[1m0s\u001b[0m 743us/step"
     ]
    },
    {
     "name": "stdout",
     "output_type": "stream",
     "text": [
      "\b\b\b\b\b\b\b\b\b\b\b\b\b\b\b\b\b\b\b\b\b\b\b\b\b\b\b\b\b\b\b\b\b\b\b\b\b\b\b\b\b\b\r\n",
      "\u001b[1m204/265\u001b[0m \u001b[32m━━━━━━━━━━━━━━━\u001b[0m\u001b[37m━━━━━\u001b[0m \u001b[1m0s\u001b[0m 745us/step"
     ]
    },
    {
     "name": "stdout",
     "output_type": "stream",
     "text": [
      "\b\b\b\b\b\b\b\b\b\b\b\b\b\b\b\b\b\b\b\b\b\b\b\b\b\b\b\b\b\b\b\b\b\b\b\b\b\b\b\b\b\b\r\n",
      "\u001b[1m264/265\u001b[0m \u001b[32m━━━━━━━━━━━━━━━━━━━\u001b[0m\u001b[37m━\u001b[0m \u001b[1m0s\u001b[0m 766us/step"
     ]
    },
    {
     "name": "stdout",
     "output_type": "stream",
     "text": [
      "\b\b\b\b\b\b\b\b\b\b\b\b\b\b\b\b\b\b\b\b\b\b\b\b\b\b\b\b\b\b\b\b\b\b\b\b\b\b\b\b\b\b\r\n",
      "\u001b[1m265/265\u001b[0m \u001b[32m━━━━━━━━━━━━━━━━━━━━\u001b[0m\u001b[37m\u001b[0m \u001b[1m0s\u001b[0m 941us/step\n"
     ]
    },
    {
     "name": "stderr",
     "output_type": "stream",
     "text": [
      "\r\n",
      "                                                                                   "
     ]
    },
    {
     "name": "stderr",
     "output_type": "stream",
     "text": [
      "\r"
     ]
    },
    {
     "name": "stderr",
     "output_type": "stream",
     "text": [
      "\r\n",
      "Best trial: 3. Best value: 0.905109:  40%|████      | 8/20 [05:12<07:33, 37.78s/it]"
     ]
    },
    {
     "name": "stderr",
     "output_type": "stream",
     "text": [
      "\r\n",
      "Best trial: 8. Best value: 0.906204:  40%|████      | 8/20 [05:12<07:33, 37.78s/it]"
     ]
    },
    {
     "name": "stderr",
     "output_type": "stream",
     "text": [
      "\r\n",
      "Best trial: 8. Best value: 0.906204:  45%|████▌     | 9/20 [05:12<06:42, 36.62s/it]"
     ]
    },
    {
     "name": "stdout",
     "output_type": "stream",
     "text": [
      "[I 2025-10-16 23:23:52,337] Trial 8 finished with value: 0.906203646868217 and parameters: {'lr': 0.0027856076115740937, 'dropout': 0.2902222148733605, 'n1': 96, 'n2': 64}. Best is trial 8 with value: 0.906203646868217.\n"
     ]
    },
    {
     "name": "stdout",
     "output_type": "stream",
     "text": [
      "\r\n",
      "\u001b[1m  1/265\u001b[0m \u001b[37m━━━━━━━━━━━━━━━━━━━━\u001b[0m \u001b[1m10s\u001b[0m 40ms/step"
     ]
    },
    {
     "name": "stdout",
     "output_type": "stream",
     "text": [
      "\b\b\b\b\b\b\b\b\b\b\b\b\b\b\b\b\b\b\b\b\b\b\b\b\b\b\b\b\b\b\b\b\b\b\b\b\b\b\b\b\b\b\r\n",
      "\u001b[1m 73/265\u001b[0m \u001b[32m━━━━━\u001b[0m\u001b[37m━━━━━━━━━━━━━━━\u001b[0m \u001b[1m0s\u001b[0m 701us/step"
     ]
    },
    {
     "name": "stdout",
     "output_type": "stream",
     "text": [
      "\b\b\b\b\b\b\b\b\b\b\b\b\b\b\b\b\b\b\b\b\b\b\b\b\b\b\b\b\b\b\b\b\b\b\b\b\b\b\b\b\b\b\r\n",
      "\u001b[1m149/265\u001b[0m \u001b[32m━━━━━━━━━━━\u001b[0m\u001b[37m━━━━━━━━━\u001b[0m \u001b[1m0s\u001b[0m 693us/step"
     ]
    },
    {
     "name": "stdout",
     "output_type": "stream",
     "text": [
      "\b\b\b\b\b\b\b\b\b\b\b\b\b\b\b\b\b\b\b\b\b\b\b\b\b\b\b\b\b\b\b\b\b\b\b\b\b\b\b\b\b\b\r\n",
      "\u001b[1m220/265\u001b[0m \u001b[32m━━━━━━━━━━━━━━━━\u001b[0m\u001b[37m━━━━\u001b[0m \u001b[1m0s\u001b[0m 699us/step"
     ]
    },
    {
     "name": "stdout",
     "output_type": "stream",
     "text": [
      "\b\b\b\b\b\b\b\b\b\b\b\b\b\b\b\b\b\b\b\b\b\b\b\b\b\b\b\b\b\b\b\b\b\b\b\b\b\b\b\b\b\b\r\n",
      "\u001b[1m265/265\u001b[0m \u001b[32m━━━━━━━━━━━━━━━━━━━━\u001b[0m\u001b[37m\u001b[0m \u001b[1m0s\u001b[0m 812us/step"
     ]
    },
    {
     "name": "stdout",
     "output_type": "stream",
     "text": [
      "\b\b\b\b\b\b\b\b\b\b\b\b\b\b\b\b\b\b\b\b\b\b\b\b\b\b\b\b\b\b\b\b\b\b\b\b\b\b\b\b\b\b\r\n",
      "\u001b[1m265/265\u001b[0m \u001b[32m━━━━━━━━━━━━━━━━━━━━\u001b[0m\u001b[37m\u001b[0m \u001b[1m0s\u001b[0m 879us/step\n"
     ]
    },
    {
     "name": "stderr",
     "output_type": "stream",
     "text": [
      "\r\n",
      "                                                                                   "
     ]
    },
    {
     "name": "stderr",
     "output_type": "stream",
     "text": [
      "\r"
     ]
    },
    {
     "name": "stderr",
     "output_type": "stream",
     "text": [
      "\r\n",
      "Best trial: 8. Best value: 0.906204:  45%|████▌     | 9/20 [05:40<06:42, 36.62s/it]"
     ]
    },
    {
     "name": "stderr",
     "output_type": "stream",
     "text": [
      "\r\n",
      "Best trial: 8. Best value: 0.906204:  45%|████▌     | 9/20 [05:40<06:42, 36.62s/it]"
     ]
    },
    {
     "name": "stderr",
     "output_type": "stream",
     "text": [
      "\r\n",
      "Best trial: 8. Best value: 0.906204:  50%|█████     | 10/20 [05:40<05:37, 33.74s/it]"
     ]
    },
    {
     "name": "stdout",
     "output_type": "stream",
     "text": [
      "[I 2025-10-16 23:24:19,628] Trial 9 finished with value: 0.8950387029174284 and parameters: {'lr': 0.006681977774488752, 'dropout': 0.26482612223280627, 'n1': 128, 'n2': 32}. Best is trial 8 with value: 0.906203646868217.\n"
     ]
    },
    {
     "name": "stdout",
     "output_type": "stream",
     "text": [
      "\r\n",
      "\u001b[1m  1/265\u001b[0m \u001b[37m━━━━━━━━━━━━━━━━━━━━\u001b[0m \u001b[1m13s\u001b[0m 51ms/step"
     ]
    },
    {
     "name": "stdout",
     "output_type": "stream",
     "text": [
      "\b\b\b\b\b\b\b\b\b\b\b\b\b\b\b\b\b\b\b\b\b\b\b\b\b\b\b\b\b\b\b\b\b\b\b\b\b\b\b\b\b\b\r\n",
      "\u001b[1m 57/265\u001b[0m \u001b[32m━━━━\u001b[0m\u001b[37m━━━━━━━━━━━━━━━━\u001b[0m \u001b[1m0s\u001b[0m 895us/step"
     ]
    },
    {
     "name": "stdout",
     "output_type": "stream",
     "text": [
      "\b\b\b\b\b\b\b\b\b\b\b\b\b\b\b\b\b\b\b\b\b\b\b\b\b\b\b\b\b\b\b\b\b\b\b\b\b\b\b\b\b\b\r\n",
      "\u001b[1m133/265\u001b[0m \u001b[32m━━━━━━━━━━\u001b[0m\u001b[37m━━━━━━━━━━\u001b[0m \u001b[1m0s\u001b[0m 771us/step"
     ]
    },
    {
     "name": "stdout",
     "output_type": "stream",
     "text": [
      "\b\b\b\b\b\b\b\b\b\b\b\b\b\b\b\b\b\b\b\b\b\b\b\b\b\b\b\b\b\b\b\b\b\b\b\b\b\b\b\b\b\b\r\n",
      "\u001b[1m201/265\u001b[0m \u001b[32m━━━━━━━━━━━━━━━\u001b[0m\u001b[37m━━━━━\u001b[0m \u001b[1m0s\u001b[0m 762us/step"
     ]
    },
    {
     "name": "stdout",
     "output_type": "stream",
     "text": [
      "\b\b\b\b\b\b\b\b\b\b\b\b\b\b\b\b\b\b\b\b\b\b\b\b\b\b\b\b\b\b\b\b\b\b\b\b\b\b\b\b\b\b\r\n",
      "\u001b[1m262/265\u001b[0m \u001b[32m━━━━━━━━━━━━━━━━━━━\u001b[0m\u001b[37m━\u001b[0m \u001b[1m0s\u001b[0m 776us/step"
     ]
    },
    {
     "name": "stdout",
     "output_type": "stream",
     "text": [
      "\b\b\b\b\b\b\b\b\b\b\b\b\b\b\b\b\b\b\b\b\b\b\b\b\b\b\b\b\b\b\b\b\b\b\b\b\b\b\b\b\b\b\r\n",
      "\u001b[1m265/265\u001b[0m \u001b[32m━━━━━━━━━━━━━━━━━━━━\u001b[0m\u001b[37m\u001b[0m \u001b[1m0s\u001b[0m 958us/step\n"
     ]
    },
    {
     "name": "stderr",
     "output_type": "stream",
     "text": [
      "\r\n",
      "                                                                                    "
     ]
    },
    {
     "name": "stderr",
     "output_type": "stream",
     "text": [
      "\r"
     ]
    },
    {
     "name": "stderr",
     "output_type": "stream",
     "text": [
      "\r\n",
      "Best trial: 8. Best value: 0.906204:  50%|█████     | 10/20 [05:58<05:37, 33.74s/it]"
     ]
    },
    {
     "name": "stderr",
     "output_type": "stream",
     "text": [
      "\r\n",
      "Best trial: 8. Best value: 0.906204:  50%|█████     | 10/20 [05:58<05:37, 33.74s/it]"
     ]
    },
    {
     "name": "stderr",
     "output_type": "stream",
     "text": [
      "\r\n",
      "Best trial: 8. Best value: 0.906204:  55%|█████▌    | 11/20 [05:58<04:20, 28.91s/it]"
     ]
    },
    {
     "name": "stdout",
     "output_type": "stream",
     "text": [
      "[I 2025-10-16 23:24:37,593] Trial 10 finished with value: 0.8936691749559093 and parameters: {'lr': 0.0031350473959405704, 'dropout': 0.4028551679038209, 'n1': 64, 'n2': 64}. Best is trial 8 with value: 0.906203646868217.\n"
     ]
    },
    {
     "name": "stdout",
     "output_type": "stream",
     "text": [
      "\r\n",
      "\u001b[1m  1/265\u001b[0m \u001b[37m━━━━━━━━━━━━━━━━━━━━\u001b[0m \u001b[1m11s\u001b[0m 42ms/step"
     ]
    },
    {
     "name": "stdout",
     "output_type": "stream",
     "text": [
      "\b\b\b\b\b\b\b\b\b\b\b\b\b\b\b\b\b\b\b\b\b\b\b\b\b\b\b\b\b\b\b\b\b\b\b\b\b\b\b\b\b\b\r\n",
      "\u001b[1m 55/265\u001b[0m \u001b[32m━━━━\u001b[0m\u001b[37m━━━━━━━━━━━━━━━━\u001b[0m \u001b[1m0s\u001b[0m 936us/step"
     ]
    },
    {
     "name": "stdout",
     "output_type": "stream",
     "text": [
      "\b\b\b\b\b\b\b\b\b\b\b\b\b\b\b\b\b\b\b\b\b\b\b\b\b\b\b\b\b\b\b\b\b\b\b\b\b\b\b\b\b\b\r\n",
      "\u001b[1m123/265\u001b[0m \u001b[32m━━━━━━━━━\u001b[0m\u001b[37m━━━━━━━━━━━\u001b[0m \u001b[1m0s\u001b[0m 824us/step"
     ]
    },
    {
     "name": "stdout",
     "output_type": "stream",
     "text": [
      "\b\b\b\b\b\b\b\b\b\b\b\b\b\b\b\b\b\b\b\b\b\b\b\b\b\b\b\b\b\b\b\b\b\b\b\b\b\b\b\b\b\b\r\n",
      "\u001b[1m191/265\u001b[0m \u001b[32m━━━━━━━━━━━━━━\u001b[0m\u001b[37m━━━━━━\u001b[0m \u001b[1m0s\u001b[0m 793us/step"
     ]
    },
    {
     "name": "stdout",
     "output_type": "stream",
     "text": [
      "\b\b\b\b\b\b\b\b\b\b\b\b\b\b\b\b\b\b\b\b\b\b\b\b\b\b\b\b\b\b\b\b\b\b\b\b\b\b\b\b\b\b\r\n",
      "\u001b[1m256/265\u001b[0m \u001b[32m━━━━━━━━━━━━━━━━━━━\u001b[0m\u001b[37m━\u001b[0m \u001b[1m0s\u001b[0m 789us/step"
     ]
    },
    {
     "name": "stdout",
     "output_type": "stream",
     "text": [
      "\b\b\b\b\b\b\b\b\b\b\b\b\b\b\b\b\b\b\b\b\b\b\b\b\b\b\b\b\b\b\b\b\b\b\b\b\b\b\b\b\b\b\r\n",
      "\u001b[1m265/265\u001b[0m \u001b[32m━━━━━━━━━━━━━━━━━━━━\u001b[0m\u001b[37m\u001b[0m \u001b[1m0s\u001b[0m 955us/step\n"
     ]
    },
    {
     "name": "stderr",
     "output_type": "stream",
     "text": [
      "\r\n",
      "                                                                                    "
     ]
    },
    {
     "name": "stderr",
     "output_type": "stream",
     "text": [
      "\r"
     ]
    },
    {
     "name": "stderr",
     "output_type": "stream",
     "text": [
      "\r\n",
      "Best trial: 8. Best value: 0.906204:  55%|█████▌    | 11/20 [06:34<04:20, 28.91s/it]"
     ]
    },
    {
     "name": "stderr",
     "output_type": "stream",
     "text": [
      "\r\n",
      "Best trial: 8. Best value: 0.906204:  55%|█████▌    | 11/20 [06:34<04:20, 28.91s/it]"
     ]
    },
    {
     "name": "stderr",
     "output_type": "stream",
     "text": [
      "\r\n",
      "Best trial: 8. Best value: 0.906204:  60%|██████    | 12/20 [06:34<04:08, 31.07s/it]"
     ]
    },
    {
     "name": "stdout",
     "output_type": "stream",
     "text": [
      "[I 2025-10-16 23:25:13,607] Trial 11 finished with value: 0.9036885423134855 and parameters: {'lr': 0.0024132082321236493, 'dropout': 0.3556446959269608, 'n1': 96, 'n2': 64}. Best is trial 8 with value: 0.906203646868217.\n"
     ]
    },
    {
     "name": "stdout",
     "output_type": "stream",
     "text": [
      "\r\n",
      "\u001b[1m  1/265\u001b[0m \u001b[37m━━━━━━━━━━━━━━━━━━━━\u001b[0m \u001b[1m10s\u001b[0m 39ms/step"
     ]
    },
    {
     "name": "stdout",
     "output_type": "stream",
     "text": [
      "\b\b\b\b\b\b\b\b\b\b\b\b\b\b\b\b\b\b\b\b\b\b\b\b\b\b\b\b\b\b\b\b\b\b\b\b\b\b\b\b\b\b\r\n",
      "\u001b[1m 67/265\u001b[0m \u001b[32m━━━━━\u001b[0m\u001b[37m━━━━━━━━━━━━━━━\u001b[0m \u001b[1m0s\u001b[0m 759us/step"
     ]
    },
    {
     "name": "stdout",
     "output_type": "stream",
     "text": [
      "\b\b\b\b\b\b\b\b\b\b\b\b\b\b\b\b\b\b\b\b\b\b\b\b\b\b\b\b\b\b\b\b\b\b\b\b\b\b\b\b\b\b\r\n",
      "\u001b[1m140/265\u001b[0m \u001b[32m━━━━━━━━━━\u001b[0m\u001b[37m━━━━━━━━━━\u001b[0m \u001b[1m0s\u001b[0m 722us/step"
     ]
    },
    {
     "name": "stdout",
     "output_type": "stream",
     "text": [
      "\b\b\b\b\b\b\b\b\b\b\b\b\b\b\b\b\b\b\b\b\b\b\b\b\b\b\b\b\b\b\b\b\b\b\b\b\b\b\b\b\b\b\r\n",
      "\u001b[1m203/265\u001b[0m \u001b[32m━━━━━━━━━━━━━━━\u001b[0m\u001b[37m━━━━━\u001b[0m \u001b[1m0s\u001b[0m 745us/step"
     ]
    },
    {
     "name": "stdout",
     "output_type": "stream",
     "text": [
      "\b\b\b\b\b\b\b\b\b\b\b\b\b\b\b\b\b\b\b\b\b\b\b\b\b\b\b\b\b\b\b\b\b\b\b\b\b\b\b\b\b\b\r\n",
      "\u001b[1m265/265\u001b[0m \u001b[32m━━━━━━━━━━━━━━━━━━━━\u001b[0m\u001b[37m\u001b[0m \u001b[1m0s\u001b[0m 844us/step"
     ]
    },
    {
     "name": "stdout",
     "output_type": "stream",
     "text": [
      "\b\b\b\b\b\b\b\b\b\b\b\b\b\b\b\b\b\b\b\b\b\b\b\b\b\b\b\b\b\b\b\b\b\b\b\b\b\b\b\b\b\b\r\n",
      "\u001b[1m265/265\u001b[0m \u001b[32m━━━━━━━━━━━━━━━━━━━━\u001b[0m\u001b[37m\u001b[0m \u001b[1m0s\u001b[0m 896us/step\n"
     ]
    },
    {
     "name": "stderr",
     "output_type": "stream",
     "text": [
      "\r\n",
      "                                                                                    "
     ]
    },
    {
     "name": "stderr",
     "output_type": "stream",
     "text": [
      "\r"
     ]
    },
    {
     "name": "stderr",
     "output_type": "stream",
     "text": [
      "\r\n",
      "Best trial: 8. Best value: 0.906204:  60%|██████    | 12/20 [07:26<04:08, 31.07s/it]"
     ]
    },
    {
     "name": "stderr",
     "output_type": "stream",
     "text": [
      "\r\n",
      "Best trial: 8. Best value: 0.906204:  60%|██████    | 12/20 [07:26<04:08, 31.07s/it]"
     ]
    },
    {
     "name": "stderr",
     "output_type": "stream",
     "text": [
      "\r\n",
      "Best trial: 8. Best value: 0.906204:  65%|██████▌   | 13/20 [07:26<04:23, 37.58s/it]"
     ]
    },
    {
     "name": "stdout",
     "output_type": "stream",
     "text": [
      "[I 2025-10-16 23:26:06,146] Trial 12 finished with value: 0.8964117604262828 and parameters: {'lr': 0.000107698706535487, 'dropout': 0.48242022622212866, 'n1': 96, 'n2': 48}. Best is trial 8 with value: 0.906203646868217.\n"
     ]
    },
    {
     "name": "stdout",
     "output_type": "stream",
     "text": [
      "\r\n",
      "\u001b[1m  1/265\u001b[0m \u001b[37m━━━━━━━━━━━━━━━━━━━━\u001b[0m \u001b[1m12s\u001b[0m 47ms/step"
     ]
    },
    {
     "name": "stdout",
     "output_type": "stream",
     "text": [
      "\b\b\b\b\b\b\b\b\b\b\b\b\b\b\b\b\b\b\b\b\b\b\b\b\b\b\b\b\b\b\b\b\b\b\b\b\b\b\b\b\b\b\r\n",
      "\u001b[1m 60/265\u001b[0m \u001b[32m━━━━\u001b[0m\u001b[37m━━━━━━━━━━━━━━━━\u001b[0m \u001b[1m0s\u001b[0m 856us/step"
     ]
    },
    {
     "name": "stdout",
     "output_type": "stream",
     "text": [
      "\b\b\b\b\b\b\b\b\b\b\b\b\b\b\b\b\b\b\b\b\b\b\b\b\b\b\b\b\b\b\b\b\b\b\b\b\b\b\b\b\b\b\r\n",
      "\u001b[1m125/265\u001b[0m \u001b[32m━━━━━━━━━\u001b[0m\u001b[37m━━━━━━━━━━━\u001b[0m \u001b[1m0s\u001b[0m 814us/step"
     ]
    },
    {
     "name": "stdout",
     "output_type": "stream",
     "text": [
      "\b\b\b\b\b\b\b\b\b\b\b\b\b\b\b\b\b\b\b\b\b\b\b\b\b\b\b\b\b\b\b\b\b\b\b\b\b\b\b\b\b\b\r\n",
      "\u001b[1m193/265\u001b[0m \u001b[32m━━━━━━━━━━━━━━\u001b[0m\u001b[37m━━━━━━\u001b[0m \u001b[1m0s\u001b[0m 788us/step"
     ]
    },
    {
     "name": "stdout",
     "output_type": "stream",
     "text": [
      "\b\b\b\b\b\b\b\b\b\b\b\b\b\b\b\b\b\b\b\b\b\b\b\b\b\b\b\b\b\b\b\b\b\b\b\b\b\b\b\b\b\b\r\n",
      "\u001b[1m255/265\u001b[0m \u001b[32m━━━━━━━━━━━━━━━━━━━\u001b[0m\u001b[37m━\u001b[0m \u001b[1m0s\u001b[0m 794us/step"
     ]
    },
    {
     "name": "stdout",
     "output_type": "stream",
     "text": [
      "\b\b\b\b\b\b\b\b\b\b\b\b\b\b\b\b\b\b\b\b\b\b\b\b\b\b\b\b\b\b\b\b\b\b\b\b\b\b\b\b\b\b\r\n",
      "\u001b[1m265/265\u001b[0m \u001b[32m━━━━━━━━━━━━━━━━━━━━\u001b[0m\u001b[37m\u001b[0m \u001b[1m0s\u001b[0m 983us/step\n"
     ]
    },
    {
     "name": "stderr",
     "output_type": "stream",
     "text": [
      "\r\n",
      "                                                                                    "
     ]
    },
    {
     "name": "stderr",
     "output_type": "stream",
     "text": [
      "\r"
     ]
    },
    {
     "name": "stderr",
     "output_type": "stream",
     "text": [
      "\r\n",
      "Best trial: 8. Best value: 0.906204:  65%|██████▌   | 13/20 [07:48<04:23, 37.58s/it]"
     ]
    },
    {
     "name": "stderr",
     "output_type": "stream",
     "text": [
      "\r\n",
      "Best trial: 8. Best value: 0.906204:  65%|██████▌   | 13/20 [07:48<04:23, 37.58s/it]"
     ]
    },
    {
     "name": "stderr",
     "output_type": "stream",
     "text": [
      "\r\n",
      "Best trial: 8. Best value: 0.906204:  70%|███████   | 14/20 [07:48<03:16, 32.80s/it]"
     ]
    },
    {
     "name": "stdout",
     "output_type": "stream",
     "text": [
      "[I 2025-10-16 23:26:27,914] Trial 13 finished with value: 0.9034248437905024 and parameters: {'lr': 0.0023125416726272495, 'dropout': 0.20175875152968475, 'n1': 64, 'n2': 64}. Best is trial 8 with value: 0.906203646868217.\n"
     ]
    },
    {
     "name": "stdout",
     "output_type": "stream",
     "text": [
      "\r\n",
      "\u001b[1m  1/265\u001b[0m \u001b[37m━━━━━━━━━━━━━━━━━━━━\u001b[0m \u001b[1m18s\u001b[0m 69ms/step"
     ]
    },
    {
     "name": "stdout",
     "output_type": "stream",
     "text": [
      "\b\b\b\b\b\b\b\b\b\b\b\b\b\b\b\b\b\b\b\b\b\b\b\b\b\b\b\b\b\b\b\b\b\b\b\b\b\b\b\b\b\b\r\n",
      "\u001b[1m 55/265\u001b[0m \u001b[32m━━━━\u001b[0m\u001b[37m━━━━━━━━━━━━━━━━\u001b[0m \u001b[1m0s\u001b[0m 932us/step"
     ]
    },
    {
     "name": "stdout",
     "output_type": "stream",
     "text": [
      "\b\b\b\b\b\b\b\b\b\b\b\b\b\b\b\b\b\b\b\b\b\b\b\b\b\b\b\b\b\b\b\b\b\b\b\b\b\b\b\b\b\b\r\n",
      "\u001b[1m104/265\u001b[0m \u001b[32m━━━━━━━\u001b[0m\u001b[37m━━━━━━━━━━━━━\u001b[0m \u001b[1m0s\u001b[0m 975us/step"
     ]
    },
    {
     "name": "stdout",
     "output_type": "stream",
     "text": [
      "\b\b\b\b\b\b\b\b\b\b\b\b\b\b\b\b\b\b\b\b\b\b\b\b\b\b\b\b\b\b\b\b\b\b\b\b\b\b\b\b\b\b\r\n",
      "\u001b[1m157/265\u001b[0m \u001b[32m━━━━━━━━━━━\u001b[0m\u001b[37m━━━━━━━━━\u001b[0m \u001b[1m0s\u001b[0m 967us/step"
     ]
    },
    {
     "name": "stdout",
     "output_type": "stream",
     "text": [
      "\b\b\b\b\b\b\b\b\b\b\b\b\b\b\b\b\b\b\b\b\b\b\b\b\b\b\b\b\b\b\b\b\b\b\b\b\b\b\b\b\b\b\r\n",
      "\u001b[1m207/265\u001b[0m \u001b[32m━━━━━━━━━━━━━━━\u001b[0m\u001b[37m━━━━━\u001b[0m \u001b[1m0s\u001b[0m 975us/step"
     ]
    },
    {
     "name": "stdout",
     "output_type": "stream",
     "text": [
      "\b\b\b\b\b\b\b\b\b\b\b\b\b\b\b\b\b\b\b\b\b\b\b\b\b\b\b\b\b\b\b\b\b\b\b\b\b\b\b\b\b\b\r\n",
      "\u001b[1m261/265\u001b[0m \u001b[32m━━━━━━━━━━━━━━━━━━━\u001b[0m\u001b[37m━\u001b[0m \u001b[1m0s\u001b[0m 967us/step"
     ]
    },
    {
     "name": "stdout",
     "output_type": "stream",
     "text": [
      "\b\b\b\b\b\b\b\b\b\b\b\b\b\b\b\b\b\b\b\b\b\b\b\b\b\b\b\b\b\b\b\b\b\b\b\b\b\b\b\b\b\b\r\n",
      "\u001b[1m265/265\u001b[0m \u001b[32m━━━━━━━━━━━━━━━━━━━━\u001b[0m\u001b[37m\u001b[0m \u001b[1m0s\u001b[0m 1ms/step  \n"
     ]
    },
    {
     "name": "stderr",
     "output_type": "stream",
     "text": [
      "\r\n",
      "                                                                                    "
     ]
    },
    {
     "name": "stderr",
     "output_type": "stream",
     "text": [
      "\r"
     ]
    },
    {
     "name": "stderr",
     "output_type": "stream",
     "text": [
      "\r\n",
      "Best trial: 8. Best value: 0.906204:  70%|███████   | 14/20 [08:08<03:16, 32.80s/it]"
     ]
    },
    {
     "name": "stderr",
     "output_type": "stream",
     "text": [
      "\r\n",
      "Best trial: 8. Best value: 0.906204:  70%|███████   | 14/20 [08:08<03:16, 32.80s/it]"
     ]
    },
    {
     "name": "stderr",
     "output_type": "stream",
     "text": [
      "\r\n",
      "Best trial: 8. Best value: 0.906204:  75%|███████▌  | 15/20 [08:08<02:24, 28.86s/it]"
     ]
    },
    {
     "name": "stdout",
     "output_type": "stream",
     "text": [
      "[I 2025-10-16 23:26:47,632] Trial 14 finished with value: 0.9006032727743563 and parameters: {'lr': 0.001780190255439501, 'dropout': 0.33783474873505326, 'n1': 96, 'n2': 48}. Best is trial 8 with value: 0.906203646868217.\n"
     ]
    },
    {
     "name": "stdout",
     "output_type": "stream",
     "text": [
      "\r\n",
      "\u001b[1m  1/265\u001b[0m \u001b[37m━━━━━━━━━━━━━━━━━━━━\u001b[0m \u001b[1m12s\u001b[0m 49ms/step"
     ]
    },
    {
     "name": "stdout",
     "output_type": "stream",
     "text": [
      "\b\b\b\b\b\b\b\b\b\b\b\b\b\b\b\b\b\b\b\b\b\b\b\b\b\b\b\b\b\b\b\b\b\b\b\b\b\b\b\b\b\b\r\n",
      "\u001b[1m 66/265\u001b[0m \u001b[32m━━━━\u001b[0m\u001b[37m━━━━━━━━━━━━━━━━\u001b[0m \u001b[1m0s\u001b[0m 776us/step"
     ]
    },
    {
     "name": "stdout",
     "output_type": "stream",
     "text": [
      "\b\b\b\b\b\b\b\b\b\b\b\b\b\b\b\b\b\b\b\b\b\b\b\b\b\b\b\b\b\b\b\b\b\b\b\b\b\b\b\b\b\b\r\n",
      "\u001b[1m129/265\u001b[0m \u001b[32m━━━━━━━━━\u001b[0m\u001b[37m━━━━━━━━━━━\u001b[0m \u001b[1m0s\u001b[0m 786us/step"
     ]
    },
    {
     "name": "stdout",
     "output_type": "stream",
     "text": [
      "\b\b\b\b\b\b\b\b\b\b\b\b\b\b\b\b\b\b\b\b\b\b\b\b\b\b\b\b\b\b\b\b\b\b\b\b\b\b\b\b\b\b\r\n",
      "\u001b[1m189/265\u001b[0m \u001b[32m━━━━━━━━━━━━━━\u001b[0m\u001b[37m━━━━━━\u001b[0m \u001b[1m0s\u001b[0m 803us/step"
     ]
    },
    {
     "name": "stdout",
     "output_type": "stream",
     "text": [
      "\b\b\b\b\b\b\b\b\b\b\b\b\b\b\b\b\b\b\b\b\b\b\b\b\b\b\b\b\b\b\b\b\b\b\b\b\b\b\b\b\b\b\r\n",
      "\u001b[1m251/265\u001b[0m \u001b[32m━━━━━━━━━━━━━━━━━━\u001b[0m\u001b[37m━━\u001b[0m \u001b[1m0s\u001b[0m 804us/step"
     ]
    },
    {
     "name": "stdout",
     "output_type": "stream",
     "text": [
      "\b\b\b\b\b\b\b\b\b\b\b\b\b\b\b\b\b\b\b\b\b\b\b\b\b\b\b\b\b\b\b\b\b\b\b\b\b\b\b\b\b\b\r\n",
      "\u001b[1m265/265\u001b[0m \u001b[32m━━━━━━━━━━━━━━━━━━━━\u001b[0m\u001b[37m\u001b[0m \u001b[1m0s\u001b[0m 960us/step\n"
     ]
    },
    {
     "name": "stderr",
     "output_type": "stream",
     "text": [
      "\r\n",
      "                                                                                    "
     ]
    },
    {
     "name": "stderr",
     "output_type": "stream",
     "text": [
      "\r"
     ]
    },
    {
     "name": "stderr",
     "output_type": "stream",
     "text": [
      "\r\n",
      "Best trial: 8. Best value: 0.906204:  75%|███████▌  | 15/20 [08:25<02:24, 28.86s/it]"
     ]
    },
    {
     "name": "stderr",
     "output_type": "stream",
     "text": [
      "\r\n",
      "Best trial: 8. Best value: 0.906204:  75%|███████▌  | 15/20 [08:25<02:24, 28.86s/it]"
     ]
    },
    {
     "name": "stderr",
     "output_type": "stream",
     "text": [
      "\r\n",
      "Best trial: 8. Best value: 0.906204:  80%|████████  | 16/20 [08:25<01:41, 25.38s/it]"
     ]
    },
    {
     "name": "stdout",
     "output_type": "stream",
     "text": [
      "[I 2025-10-16 23:27:04,927] Trial 15 finished with value: 0.887862529028142 and parameters: {'lr': 0.009713415072295515, 'dropout': 0.4474031027120349, 'n1': 64, 'n2': 64}. Best is trial 8 with value: 0.906203646868217.\n"
     ]
    },
    {
     "name": "stdout",
     "output_type": "stream",
     "text": [
      "\r\n",
      "\u001b[1m  1/265\u001b[0m \u001b[37m━━━━━━━━━━━━━━━━━━━━\u001b[0m \u001b[1m12s\u001b[0m 47ms/step"
     ]
    },
    {
     "name": "stdout",
     "output_type": "stream",
     "text": [
      "\b\b\b\b\b\b\b\b\b\b\b\b\b\b\b\b\b\b\b\b\b\b\b\b\b\b\b\b\b\b\b\b\b\b\b\b\b\b\b\b\b\b\r\n",
      "\u001b[1m 55/265\u001b[0m \u001b[32m━━━━\u001b[0m\u001b[37m━━━━━━━━━━━━━━━━\u001b[0m \u001b[1m0s\u001b[0m 933us/step"
     ]
    },
    {
     "name": "stdout",
     "output_type": "stream",
     "text": [
      "\b\b\b\b\b\b\b\b\b\b\b\b\b\b\b\b\b\b\b\b\b\b\b\b\b\b\b\b\b\b\b\b\b\b\b\b\b\b\b\b\b\b\r\n",
      "\u001b[1m115/265\u001b[0m \u001b[32m━━━━━━━━\u001b[0m\u001b[37m━━━━━━━━━━━━\u001b[0m \u001b[1m0s\u001b[0m 886us/step"
     ]
    },
    {
     "name": "stdout",
     "output_type": "stream",
     "text": [
      "\b\b\b\b\b\b\b\b\b\b\b\b\b\b\b\b\b\b\b\b\b\b\b\b\b\b\b\b\b\b\b\b\b\b\b\b\b\b\b\b\b\b\r\n",
      "\u001b[1m167/265\u001b[0m \u001b[32m━━━━━━━━━━━━\u001b[0m\u001b[37m━━━━━━━━\u001b[0m \u001b[1m0s\u001b[0m 912us/step"
     ]
    },
    {
     "name": "stdout",
     "output_type": "stream",
     "text": [
      "\b\b\b\b\b\b\b\b\b\b\b\b\b\b\b\b\b\b\b\b\b\b\b\b\b\b\b\b\b\b\b\b\b\b\b\b\b\b\b\b\b\b\r\n",
      "\u001b[1m232/265\u001b[0m \u001b[32m━━━━━━━━━━━━━━━━━\u001b[0m\u001b[37m━━━\u001b[0m \u001b[1m0s\u001b[0m 872us/step"
     ]
    },
    {
     "name": "stdout",
     "output_type": "stream",
     "text": [
      "\b\b\b\b\b\b\b\b\b\b\b\b\b\b\b\b\b\b\b\b\b\b\b\b\b\b\b\b\b\b\b\b\b\b\b\b\b\b\b\b\b\b\r\n",
      "\u001b[1m265/265\u001b[0m \u001b[32m━━━━━━━━━━━━━━━━━━━━\u001b[0m\u001b[37m\u001b[0m \u001b[1m0s\u001b[0m 958us/step"
     ]
    },
    {
     "name": "stdout",
     "output_type": "stream",
     "text": [
      "\b\b\b\b\b\b\b\b\b\b\b\b\b\b\b\b\b\b\b\b\b\b\b\b\b\b\b\b\b\b\b\b\b\b\b\b\b\b\b\b\b\b\r\n",
      "\u001b[1m265/265\u001b[0m \u001b[32m━━━━━━━━━━━━━━━━━━━━\u001b[0m\u001b[37m\u001b[0m \u001b[1m0s\u001b[0m 1ms/step  \n"
     ]
    },
    {
     "name": "stderr",
     "output_type": "stream",
     "text": [
      "\r\n",
      "                                                                                    "
     ]
    },
    {
     "name": "stderr",
     "output_type": "stream",
     "text": [
      "\r"
     ]
    },
    {
     "name": "stderr",
     "output_type": "stream",
     "text": [
      "\r\n",
      "Best trial: 8. Best value: 0.906204:  80%|████████  | 16/20 [08:45<01:41, 25.38s/it]"
     ]
    },
    {
     "name": "stderr",
     "output_type": "stream",
     "text": [
      "\r\n",
      "Best trial: 8. Best value: 0.906204:  80%|████████  | 16/20 [08:45<01:41, 25.38s/it]"
     ]
    },
    {
     "name": "stderr",
     "output_type": "stream",
     "text": [
      "\r\n",
      "Best trial: 8. Best value: 0.906204:  85%|████████▌ | 17/20 [08:45<01:11, 23.81s/it]"
     ]
    },
    {
     "name": "stdout",
     "output_type": "stream",
     "text": [
      "[I 2025-10-16 23:27:25,094] Trial 16 finished with value: 0.8999857927770326 and parameters: {'lr': 0.0006021897113046488, 'dropout': 0.358516222311155, 'n1': 96, 'n2': 48}. Best is trial 8 with value: 0.906203646868217.\n"
     ]
    },
    {
     "name": "stdout",
     "output_type": "stream",
     "text": [
      "\r\n",
      "\u001b[1m  1/265\u001b[0m \u001b[37m━━━━━━━━━━━━━━━━━━━━\u001b[0m \u001b[1m12s\u001b[0m 49ms/step"
     ]
    },
    {
     "name": "stdout",
     "output_type": "stream",
     "text": [
      "\b\b\b\b\b\b\b\b\b\b\b\b\b\b\b\b\b\b\b\b\b\b\b\b\b\b\b\b\b\b\b\b\b\b\b\b\b\b\b\b\b\b\r\n",
      "\u001b[1m 71/265\u001b[0m \u001b[32m━━━━━\u001b[0m\u001b[37m━━━━━━━━━━━━━━━\u001b[0m \u001b[1m0s\u001b[0m 718us/step"
     ]
    },
    {
     "name": "stdout",
     "output_type": "stream",
     "text": [
      "\b\b\b\b\b\b\b\b\b\b\b\b\b\b\b\b\b\b\b\b\b\b\b\b\b\b\b\b\b\b\b\b\b\b\b\b\b\b\b\b\b\b\r\n",
      "\u001b[1m131/265\u001b[0m \u001b[32m━━━━━━━━━\u001b[0m\u001b[37m━━━━━━━━━━━\u001b[0m \u001b[1m0s\u001b[0m 772us/step"
     ]
    },
    {
     "name": "stdout",
     "output_type": "stream",
     "text": [
      "\b\b\b\b\b\b\b\b\b\b\b\b\b\b\b\b\b\b\b\b\b\b\b\b\b\b\b\b\b\b\b\b\b\b\b\b\b\b\b\b\b\b\r\n",
      "\u001b[1m196/265\u001b[0m \u001b[32m━━━━━━━━━━━━━━\u001b[0m\u001b[37m━━━━━━\u001b[0m \u001b[1m0s\u001b[0m 773us/step"
     ]
    },
    {
     "name": "stdout",
     "output_type": "stream",
     "text": [
      "\b\b\b\b\b\b\b\b\b\b\b\b\b\b\b\b\b\b\b\b\b\b\b\b\b\b\b\b\b\b\b\b\b\b\b\b\b\b\b\b\b\b\r\n",
      "\u001b[1m265/265\u001b[0m \u001b[32m━━━━━━━━━━━━━━━━━━━━\u001b[0m\u001b[37m\u001b[0m \u001b[1m0s\u001b[0m 868us/step"
     ]
    },
    {
     "name": "stdout",
     "output_type": "stream",
     "text": [
      "\b\b\b\b\b\b\b\b\b\b\b\b\b\b\b\b\b\b\b\b\b\b\b\b\b\b\b\b\b\b\b\b\b\b\b\b\b\b\b\b\b\b\r\n",
      "\u001b[1m265/265\u001b[0m \u001b[32m━━━━━━━━━━━━━━━━━━━━\u001b[0m\u001b[37m\u001b[0m \u001b[1m0s\u001b[0m 923us/step\n"
     ]
    },
    {
     "name": "stderr",
     "output_type": "stream",
     "text": [
      "\r\n",
      "                                                                                    "
     ]
    },
    {
     "name": "stderr",
     "output_type": "stream",
     "text": [
      "\r"
     ]
    },
    {
     "name": "stderr",
     "output_type": "stream",
     "text": [
      "\r\n",
      "Best trial: 8. Best value: 0.906204:  85%|████████▌ | 17/20 [09:14<01:11, 23.81s/it]"
     ]
    },
    {
     "name": "stdout",
     "output_type": "stream",
     "text": [
      "[I 2025-10-16 23:27:53,574] Trial 17 finished with value: 0.9027982378464647 and parameters: {'lr': 0.0038778405617885805, 'dropout': 0.20071623132285898, 'n1': 64, 'n2': 64}. Best is trial 8 with value: 0.906203646868217.\n"
     ]
    },
    {
     "name": "stderr",
     "output_type": "stream",
     "text": [
      "\r\n",
      "Best trial: 8. Best value: 0.906204:  85%|████████▌ | 17/20 [09:14<01:11, 23.81s/it]"
     ]
    },
    {
     "name": "stderr",
     "output_type": "stream",
     "text": [
      "\r\n",
      "Best trial: 8. Best value: 0.906204:  90%|█████████ | 18/20 [09:14<00:50, 25.21s/it]"
     ]
    },
    {
     "name": "stdout",
     "output_type": "stream",
     "text": [
      "\r\n",
      "\u001b[1m  1/265\u001b[0m \u001b[37m━━━━━━━━━━━━━━━━━━━━\u001b[0m \u001b[1m10s\u001b[0m 39ms/step"
     ]
    },
    {
     "name": "stdout",
     "output_type": "stream",
     "text": [
      "\b\b\b\b\b\b\b\b\b\b\b\b\b\b\b\b\b\b\b\b\b\b\b\b\b\b\b\b\b\b\b\b\b\b\b\b\b\b\b\b\b\b\r\n",
      "\u001b[1m 66/265\u001b[0m \u001b[32m━━━━\u001b[0m\u001b[37m━━━━━━━━━━━━━━━━\u001b[0m \u001b[1m0s\u001b[0m 774us/step"
     ]
    },
    {
     "name": "stdout",
     "output_type": "stream",
     "text": [
      "\b\b\b\b\b\b\b\b\b\b\b\b\b\b\b\b\b\b\b\b\b\b\b\b\b\b\b\b\b\b\b\b\b\b\b\b\b\b\b\b\b\b\r\n",
      "\u001b[1m129/265\u001b[0m \u001b[32m━━━━━━━━━\u001b[0m\u001b[37m━━━━━━━━━━━\u001b[0m \u001b[1m0s\u001b[0m 788us/step"
     ]
    },
    {
     "name": "stdout",
     "output_type": "stream",
     "text": [
      "\b\b\b\b\b\b\b\b\b\b\b\b\b\b\b\b\b\b\b\b\b\b\b\b\b\b\b\b\b\b\b\b\b\b\b\b\b\b\b\b\b\b\r\n",
      "\u001b[1m190/265\u001b[0m \u001b[32m━━━━━━━━━━━━━━\u001b[0m\u001b[37m━━━━━━\u001b[0m \u001b[1m0s\u001b[0m 798us/step"
     ]
    },
    {
     "name": "stdout",
     "output_type": "stream",
     "text": [
      "\b\b\b\b\b\b\b\b\b\b\b\b\b\b\b\b\b\b\b\b\b\b\b\b\b\b\b\b\b\b\b\b\b\b\b\b\b\b\b\b\b\b\r\n",
      "\u001b[1m249/265\u001b[0m \u001b[32m━━━━━━━━━━━━━━━━━━\u001b[0m\u001b[37m━━\u001b[0m \u001b[1m0s\u001b[0m 812us/step"
     ]
    },
    {
     "name": "stdout",
     "output_type": "stream",
     "text": [
      "\b\b\b\b\b\b\b\b\b\b\b\b\b\b\b\b\b\b\b\b\b\b\b\b\b\b\b\b\b\b\b\b\b\b\b\b\b\b\b\b\b\b\r\n",
      "\u001b[1m265/265\u001b[0m \u001b[32m━━━━━━━━━━━━━━━━━━━━\u001b[0m\u001b[37m\u001b[0m \u001b[1m0s\u001b[0m 1ms/step  \n"
     ]
    },
    {
     "name": "stderr",
     "output_type": "stream",
     "text": [
      "\r\n",
      "                                                                                    "
     ]
    },
    {
     "name": "stderr",
     "output_type": "stream",
     "text": [
      "\r"
     ]
    },
    {
     "name": "stderr",
     "output_type": "stream",
     "text": [
      "\r\n",
      "Best trial: 8. Best value: 0.906204:  90%|█████████ | 18/20 [09:33<00:50, 25.21s/it]"
     ]
    },
    {
     "name": "stderr",
     "output_type": "stream",
     "text": [
      "\r\n",
      "Best trial: 8. Best value: 0.906204:  90%|█████████ | 18/20 [09:33<00:50, 25.21s/it]"
     ]
    },
    {
     "name": "stderr",
     "output_type": "stream",
     "text": [
      "\r\n",
      "Best trial: 8. Best value: 0.906204:  95%|█████████▌| 19/20 [09:33<00:23, 23.52s/it]"
     ]
    },
    {
     "name": "stdout",
     "output_type": "stream",
     "text": [
      "[I 2025-10-16 23:28:13,135] Trial 18 finished with value: 0.8991329778263025 and parameters: {'lr': 0.0014937714042344043, 'dropout': 0.3111791668403937, 'n1': 128, 'n2': 48}. Best is trial 8 with value: 0.906203646868217.\n"
     ]
    },
    {
     "name": "stdout",
     "output_type": "stream",
     "text": [
      "\r\n",
      "\u001b[1m  1/265\u001b[0m \u001b[37m━━━━━━━━━━━━━━━━━━━━\u001b[0m \u001b[1m11s\u001b[0m 44ms/step"
     ]
    },
    {
     "name": "stdout",
     "output_type": "stream",
     "text": [
      "\b\b\b\b\b\b\b\b\b\b\b\b\b\b\b\b\b\b\b\b\b\b\b\b\b\b\b\b\b\b\b\b\b\b\b\b\b\b\b\b\b\b\r\n",
      "\u001b[1m 60/265\u001b[0m \u001b[32m━━━━\u001b[0m\u001b[37m━━━━━━━━━━━━━━━━\u001b[0m \u001b[1m0s\u001b[0m 854us/step"
     ]
    },
    {
     "name": "stdout",
     "output_type": "stream",
     "text": [
      "\b\b\b\b\b\b\b\b\b\b\b\b\b\b\b\b\b\b\b\b\b\b\b\b\b\b\b\b\b\b\b\b\b\b\b\b\b\b\b\b\b\b\r\n",
      "\u001b[1m 81/265\u001b[0m \u001b[32m━━━━━━\u001b[0m\u001b[37m━━━━━━━━━━━━━━\u001b[0m \u001b[1m2s\u001b[0m 11ms/step "
     ]
    },
    {
     "name": "stdout",
     "output_type": "stream",
     "text": [
      "\b\b\b\b\b\b\b\b\b\b\b\b\b\b\b\b\b\b\b\b\b\b\b\b\b\b\b\b\b\b\b\b\b\b\b\b\b\b\b\b\b\r\n",
      "\u001b[1m131/265\u001b[0m \u001b[32m━━━━━━━━━\u001b[0m\u001b[37m━━━━━━━━━━━\u001b[0m \u001b[1m0s\u001b[0m 7ms/step "
     ]
    },
    {
     "name": "stdout",
     "output_type": "stream",
     "text": [
      "\b\b\b\b\b\b\b\b\b\b\b\b\b\b\b\b\b\b\b\b\b\b\b\b\b\b\b\b\b\b\b\b\b\b\b\b\b\b\b\b\r\n",
      "\u001b[1m189/265\u001b[0m \u001b[32m━━━━━━━━━━━━━━\u001b[0m\u001b[37m━━━━━━\u001b[0m \u001b[1m0s\u001b[0m 5ms/step"
     ]
    },
    {
     "name": "stdout",
     "output_type": "stream",
     "text": [
      "\b\b\b\b\b\b\b\b\b\b\b\b\b\b\b\b\b\b\b\b\b\b\b\b\b\b\b\b\b\b\b\b\b\b\b\b\b\b\b\b\r\n",
      "\u001b[1m256/265\u001b[0m \u001b[32m━━━━━━━━━━━━━━━━━━━\u001b[0m\u001b[37m━\u001b[0m \u001b[1m0s\u001b[0m 4ms/step"
     ]
    },
    {
     "name": "stdout",
     "output_type": "stream",
     "text": [
      "\b\b\b\b\b\b\b\b\b\b\b\b\b\b\b\b\b\b\b\b\b\b\b\b\b\b\b\b\b\b\b\b\b\b\b\b\b\b\b\b\r\n",
      "\u001b[1m265/265\u001b[0m \u001b[32m━━━━━━━━━━━━━━━━━━━━\u001b[0m\u001b[37m\u001b[0m \u001b[1m0s\u001b[0m 4ms/step"
     ]
    },
    {
     "name": "stdout",
     "output_type": "stream",
     "text": [
      "\b\b\b\b\b\b\b\b\b\b\b\b\b\b\b\b\b\b\b\b\b\b\b\b\b\b\b\b\b\b\b\b\b\b\b\b\b\b\b\b\r\n",
      "\u001b[1m265/265\u001b[0m \u001b[32m━━━━━━━━━━━━━━━━━━━━\u001b[0m\u001b[37m\u001b[0m \u001b[1m1s\u001b[0m 4ms/step\n"
     ]
    },
    {
     "name": "stderr",
     "output_type": "stream",
     "text": [
      "\r\n",
      "                                                                                    "
     ]
    },
    {
     "name": "stderr",
     "output_type": "stream",
     "text": [
      "\r"
     ]
    },
    {
     "name": "stderr",
     "output_type": "stream",
     "text": [
      "\r\n",
      "Best trial: 8. Best value: 0.906204:  95%|█████████▌| 19/20 [10:27<00:23, 23.52s/it]"
     ]
    },
    {
     "name": "stderr",
     "output_type": "stream",
     "text": [
      "\r\n",
      "Best trial: 19. Best value: 0.906963:  95%|█████████▌| 19/20 [10:27<00:23, 23.52s/it]"
     ]
    },
    {
     "name": "stderr",
     "output_type": "stream",
     "text": [
      "\r\n",
      "Best trial: 19. Best value: 0.906963: 100%|██████████| 20/20 [10:27<00:00, 32.61s/it]"
     ]
    },
    {
     "name": "stderr",
     "output_type": "stream",
     "text": [
      "\r\n",
      "Best trial: 19. Best value: 0.906963: 100%|██████████| 20/20 [10:27<00:00, 31.37s/it]"
     ]
    },
    {
     "name": "stdout",
     "output_type": "stream",
     "text": [
      "[I 2025-10-16 23:29:06,951] Trial 19 finished with value: 0.9069627857248062 and parameters: {'lr': 0.0005150869224812416, 'dropout': 0.5237727368522767, 'n1': 96, 'n2': 32}. Best is trial 19 with value: 0.9069627857248062.\n",
      "✅ ANN best AUC=0.907 | params={'lr': 0.0005150869224812416, 'dropout': 0.5237727368522767, 'n1': 96, 'n2': 32}\n"
     ]
    },
    {
     "name": "stderr",
     "output_type": "stream",
     "text": [
      "\n"
     ]
    },
    {
     "name": "stdout",
     "output_type": "stream",
     "text": [
      "\r\n",
      "\u001b[1m  1/331\u001b[0m \u001b[37m━━━━━━━━━━━━━━━━━━━━\u001b[0m \u001b[1m17s\u001b[0m 54ms/step"
     ]
    },
    {
     "name": "stdout",
     "output_type": "stream",
     "text": [
      "\b\b\b\b\b\b\b\b\b\b\b\b\b\b\b\b\b\b\b\b\b\b\b\b\b\b\b\b\b\b\b\b\b\b\b\b\b\b\b\b\b\b\r\n",
      "\u001b[1m 54/331\u001b[0m \u001b[32m━━━\u001b[0m\u001b[37m━━━━━━━━━━━━━━━━━\u001b[0m \u001b[1m0s\u001b[0m 953us/step"
     ]
    },
    {
     "name": "stdout",
     "output_type": "stream",
     "text": [
      "\b\b\b\b\b\b\b\b\b\b\b\b\b\b\b\b\b\b\b\b\b\b\b\b\b\b\b\b\b\b\b\b\b\b\b\b\b\b\b\b\b\b\r\n",
      "\u001b[1m126/331\u001b[0m \u001b[32m━━━━━━━\u001b[0m\u001b[37m━━━━━━━━━━━━━\u001b[0m \u001b[1m0s\u001b[0m 807us/step"
     ]
    },
    {
     "name": "stdout",
     "output_type": "stream",
     "text": [
      "\b\b\b\b\b\b\b\b\b\b\b\b\b\b\b\b\b\b\b\b\b\b\b\b\b\b\b\b\b\b\b\b\b\b\b\b\b\b\b\b\b\b\r\n",
      "\u001b[1m188/331\u001b[0m \u001b[32m━━━━━━━━━━━\u001b[0m\u001b[37m━━━━━━━━━\u001b[0m \u001b[1m0s\u001b[0m 807us/step"
     ]
    },
    {
     "name": "stdout",
     "output_type": "stream",
     "text": [
      "\b\b\b\b\b\b\b\b\b\b\b\b\b\b\b\b\b\b\b\b\b\b\b\b\b\b\b\b\b\b\b\b\b\b\b\b\b\b\b\b\b\b\r\n",
      "\u001b[1m251/331\u001b[0m \u001b[32m━━━━━━━━━━━━━━━\u001b[0m\u001b[37m━━━━━\u001b[0m \u001b[1m0s\u001b[0m 805us/step"
     ]
    },
    {
     "name": "stdout",
     "output_type": "stream",
     "text": [
      "\b\b\b\b\b\b\b\b\b\b\b\b\b\b\b\b\b\b\b\b\b\b\b\b\b\b\b\b\b\b\b\b\b\b\b\b\b\b\b\b\b\b\r\n",
      "\u001b[1m314/331\u001b[0m \u001b[32m━━━━━━━━━━━━━━━━━━\u001b[0m\u001b[37m━━\u001b[0m \u001b[1m0s\u001b[0m 804us/step"
     ]
    },
    {
     "name": "stdout",
     "output_type": "stream",
     "text": [
      "\b\b\b\b\b\b\b\b\b\b\b\b\b\b\b\b\b\b\b\b\b\b\b\b\b\b\b\b\b\b\b\b\b\b\b\b\b\b\b\b\b\b\r\n",
      "\u001b[1m331/331\u001b[0m \u001b[32m━━━━━━━━━━━━━━━━━━━━\u001b[0m\u001b[37m\u001b[0m \u001b[1m0s\u001b[0m 973us/step\n"
     ]
    },
    {
     "name": "stdout",
     "output_type": "stream",
     "text": [
      "\n",
      "[Responder Class Metrics]\n",
      "Accuracy     : 81.11\n",
      "Precision    : 65.80\n",
      "Recall       : 87.93\n",
      "F1 Score     : 75.27\n",
      "ROC AUC Score: 90.42\n",
      "\n",
      "Classification Report:\n"
     ]
    },
    {
     "name": "stdout",
     "output_type": "stream",
     "text": [
      "               precision    recall  f1-score   support\n",
      "\n",
      "Non-responder       0.93      0.78      0.85      7112\n",
      "    Responder       0.66      0.88      0.75      3455\n",
      "\n",
      "     accuracy                           0.81     10567\n",
      "    macro avg       0.79      0.83      0.80     10567\n",
      " weighted avg       0.84      0.81      0.82     10567\n",
      "\n"
     ]
    },
    {
     "data": {
      "image/png": "[encoded data removed]",
      "text/plain": [
       "<Figure size 600x500 with 1 Axes>"
      ]
     },
     "metadata": {},
     "output_type": "display_data"
    }
   ],
   "source": [
    "#  3.5 Run hyperparameter tuning and evaluation for ANN \n",
    "\n",
    "# Step 1: Define and run Optuna study\n",
    "name = 'ANN'\n",
    "study_ann = optuna.create_study(direction=\"maximize\") \n",
    "study_ann.optimize(lambda trial: tune_ann(trial, X_train, X_val, y_train, y_val),\n",
    "                   n_trials=N_TRIALS, show_progress_bar=True)\n",
    "\n",
    "print(f\"✅ {name} best AUC={study_ann.best_value:.3f} | params={study_ann.best_params}\")\n",
    "\n",
    "\n",
    "# Step 2: Refit model on the full training set by best parameters which obtains by Optuna\n",
    "\n",
    "# Retrieve best hyperparameters from the ANN Optuna study\n",
    "best_params = study_ann.best_params\n",
    "\n",
    "# Compute class imbalance ratio for weighting\n",
    "w = class_balance(y_train)\n",
    "\n",
    "#  Build ANN architecture\n",
    "ann = models.Sequential([\n",
    "    layers.Input(shape=(X_train.shape[1],)),\n",
    "    layers.Dense(best_params[\"n1\"], activation=\"relu\"),\n",
    "    layers.Dropout(best_params[\"dropout\"]),\n",
    "    layers.Dense(best_params[\"n2\"], activation=\"relu\"),\n",
    "    layers.Dense(1, activation=\"sigmoid\")\n",
    "])\n",
    "\n",
    "# Compile model\n",
    "ann.compile(\n",
    "    optimizer=optimizers.Adam(learning_rate=best_params[\"lr\"]),\n",
    "    loss=\"binary_crossentropy\",\n",
    "    metrics=[\"accuracy\"]\n",
    ")\n",
    "\n",
    "# Define early stopping to avoid overfitting\n",
    "early_stop = EarlyStopping(patience=5, restore_best_weights=True)\n",
    "\n",
    "# Handle class imbalance via per-sample weighting\n",
    "sample_weights = np.where(y_train == 1, w, 1)\n",
    "\n",
    "# Train model\n",
    "ann.fit(\n",
    "    X_train, y_train,\n",
    "    validation_data=(X_val, y_val),\n",
    "    epochs=30, batch_size=32, verbose=0,\n",
    "    sample_weight=sample_weights,\n",
    "    callbacks=[early_stop]\n",
    ")\n",
    "\n",
    "# Step 3: Evaluate on test data\n",
    "\n",
    "# Probability predictions for ROC/AUC\n",
    "y_prob_ann = ann.predict(X_test)\n",
    "# Binary predictions using default 0.5 threshold\n",
    "y_pred_ann = (y_prob_ann > 0.5).astype(int)\n",
    "\n",
    "# Compute evaluation metrics \n",
    "conf_mat = confusion_matrix(y_test, y_pred_ann)\n",
    "roc = roc_auc_score(y_test, y_prob_ann)\n",
    "precision = precision_score(y_test, y_pred_ann)\n",
    "recall = recall_score(y_test, y_pred_ann)\n",
    "f1 = f1_score(y_test, y_pred_ann)\n",
    "accuracy = accuracy_score(y_test, y_pred_ann)\n",
    "\n",
    "print(f\"\\n[Responder Class Metrics]\")\n",
    "print(f\"Accuracy     : {accuracy * 100:.2f}\")\n",
    "print(f\"Precision    : {precision * 100:.2f}\")\n",
    "print(f\"Recall       : {recall * 100:.2f}\")\n",
    "print(f\"F1 Score     : {f1 * 100:.2f}\")\n",
    "print(f\"ROC AUC Score: {roc * 100:.2f}\")\n",
    "\n",
    "# Classification report\n",
    "print(\"\\nClassification Report:\")\n",
    "print(classification_report(y_test, y_pred_ann, target_names=[\"Non-responder\", \"Responder\"]))\n",
    "\n",
    "# Step 4: Visualize Confusion Matrix\n",
    "plt.figure(figsize=(6, 5))\n",
    "sns.heatmap(\n",
    "    conf_mat,\n",
    "    annot=True, fmt='d', cmap='Blues',\n",
    "    xticklabels=['Non-responder', 'Responder'],\n",
    "    yticklabels=['Non-responder', 'Responder'],\n",
    "    cbar=False, linewidths=0, linecolor='white'\n",
    ")\n",
    "plt.title('Confusion Matrix')\n",
    "plt.xlabel('Predicted')\n",
    "plt.ylabel('Actual')\n",
    "plt.show()\n"
   ]
  },
  {
   "cell_type": "code",
   "execution_count": null,
   "id": "e6119117",
   "metadata": {
    "execution": {
     "iopub.execute_input": "2025-10-16T23:29:48.417894Z",
     "iopub.status.busy": "2025-10-16T23:29:48.417539Z",
     "iopub.status.idle": "2025-10-16T23:29:48.648176Z",
     "shell.execute_reply": "2025-10-16T23:29:48.646930Z"
    },
    "papermill": {
     "duration": 0.280459,
     "end_time": "2025-10-16T23:29:48.648986",
     "exception": false,
     "start_time": "2025-10-16T23:29:48.368527",
     "status": "completed"
    },
    "tags": []
   },
   "outputs": [
    {
     "data": {
      "image/png": "[encoded data removed]",
      "text/plain": [
       "<Figure size 1000x800 with 1 Axes>"
      ]
     },
     "metadata": {},
     "output_type": "display_data"
    }
   ],
   "source": [
    "# Model Comparsion - ROC Curve\n",
    "\n",
    "# Compute ROC and AUC for each model\n",
    "fpr_rf, tpr_rf, _ = roc_curve(y_test, y_prob_rf)\n",
    "auc_rf = auc(fpr_rf, tpr_rf)\n",
    "\n",
    "fpr_xgb, tpr_xgb, _ = roc_curve(y_test, y_prob_gb)\n",
    "auc_xgb = auc(fpr_xgb, tpr_xgb)\n",
    "\n",
    "fpr_ann, tpr_ann, _ = roc_curve(y_test, y_prob_ann)\n",
    "auc_ann = auc(fpr_ann, tpr_ann)\n",
    "\n",
    "fpr_lr, tpr_lr, _ = roc_curve(y_test, y_prob)\n",
    "auc_lr = auc(fpr_lr, tpr_lr)\n",
    "\n",
    "# Plot ROC Curves\n",
    "plt.figure(figsize=(10, 8))\n",
    "plt.plot(fpr_rf, tpr_rf, label=f'Random Forest (AUC = {auc_rf:.2f})')\n",
    "plt.plot(fpr_xgb, tpr_xgb, label=f'XGBoost (AUC = {auc_xgb:.2f})')\n",
    "plt.plot(fpr_ann, tpr_ann, label=f'ANN (AUC = {auc_ann:.2f})')\n",
    "plt.plot(fpr_lr, tpr_lr, label=f'Logistic Regression (AUC = {auc_lr:.2f})')\n",
    "plt.plot([0, 1], [0, 1], 'k--', label='Chance level')\n",
    "\n",
    "plt.title('ROC Curve Comparison')\n",
    "plt.xlabel('False Positive Rate')\n",
    "plt.ylabel('True Positive Rate')\n",
    "plt.legend(loc='lower right')\n",
    "plt.grid(False)\n",
    "plt.show()"
   ]
  },
  {
   "cell_type": "code",
   "execution_count": null,
   "id": "d496e9f8",
   "metadata": {
    "execution": {
     "iopub.execute_input": "2025-10-16T23:29:48.739071Z",
     "iopub.status.busy": "2025-10-16T23:29:48.738754Z",
     "iopub.status.idle": "2025-10-16T23:29:48.938086Z",
     "shell.execute_reply": "2025-10-16T23:29:48.936835Z"
    },
    "papermill": {
     "duration": 0.247307,
     "end_time": "2025-10-16T23:29:48.939091",
     "exception": false,
     "start_time": "2025-10-16T23:29:48.691784",
     "status": "completed"
    },
    "tags": []
   },
   "outputs": [
    {
     "data": {
      "image/png": "[encoded data removed]",
      "text/plain": [
       "<Figure size 800x600 with 1 Axes>"
      ]
     },
     "metadata": {},
     "output_type": "display_data"
    }
   ],
   "source": [
    "# Calibration Curver Comparison\n",
    "\n",
    "# Initialize plot\n",
    "plt.figure(figsize=(8, 6))\n",
    "\n",
    "# Define models and their predicted probabilities\n",
    "for model_name, y_prob in [\n",
    "    ('Logistic Regression', y_prob),\n",
    "    ('XGBoost', y_prob_gb),\n",
    "    ('Random Forest', y_prob_rf),\n",
    "    ('ANN', y_prob_ann)\n",
    "]:\n",
    "    prob_true, prob_pred = calibration_curve(y_test, y_prob, n_bins=10)\n",
    "    plt.plot(prob_pred, prob_true, marker='o', label=model_name)\n",
    "\n",
    "# Plot\n",
    "plt.plot([0, 1], [0, 1], 'k:', label='Perfectly calibrated')\n",
    "plt.xlabel('Mean predicted probability')\n",
    "plt.ylabel('Fraction of positives')\n",
    "plt.title('Calibration plots')\n",
    "plt.legend()\n",
    "plt.grid(True)\n",
    "plt.show()"
   ]
  },
  {
   "cell_type": "code",
   "execution_count": null,
   "id": "54be3d98",
   "metadata": {
    "execution": {
     "iopub.execute_input": "2025-10-16T23:29:49.058501Z",
     "iopub.status.busy": "2025-10-16T23:29:49.058115Z",
     "iopub.status.idle": "2025-10-16T23:29:49.074015Z",
     "shell.execute_reply": "2025-10-16T23:29:49.072662Z"
    },
    "papermill": {
     "duration": 0.060282,
     "end_time": "2025-10-16T23:29:49.074661",
     "exception": false,
     "start_time": "2025-10-16T23:29:49.014379",
     "status": "completed"
    },
    "tags": []
   },
   "outputs": [
    {
     "name": "stdout",
     "output_type": "stream",
     "text": [
      "MCC - Logistic Regression: 0.6216\n",
      "MCC - XGBoost: 0.6553\n",
      "MCC - Random Forest: 0.5620\n",
      "MCC - ANN: 0.6216\n"
     ]
    }
   ],
   "source": [
    "# Model Evaluation using Matthews Correlation Coefficient (MCC)\n",
    "\n",
    "# Define threshold for binary classification\n",
    "threshold = 0.5\n",
    "\n",
    "# Convert predicted probabilities to binary classes\n",
    "y_pred_logreg = (y_prob > threshold).astype(int)\n",
    "y_pred_xgb    = (y_prob_gb > threshold).astype(int)\n",
    "y_pred_rf     = (y_prob_rf > threshold).astype(int)\n",
    "y_pred_ann    = (y_prob_ann > threshold).astype(int)\n",
    "\n",
    "# Compute MCC for each model\n",
    "mcc_logreg = matthews_corrcoef(y_test, y_pred_logreg)\n",
    "mcc_xgb    = matthews_corrcoef(y_test, y_pred_xgb)\n",
    "mcc_rf     = matthews_corrcoef(y_test, y_pred_rf)\n",
    "mcc_ann    = matthews_corrcoef(y_test, y_pred_ann)\n",
    "\n",
    "print(f\"MCC - Logistic Regression: {mcc_logreg:.4f}\")\n",
    "print(f\"MCC - XGBoost: {mcc_xgb:.4f}\")\n",
    "print(f\"MCC - Random Forest: {mcc_rf:.4f}\")\n",
    "print(f\"MCC - ANN: {mcc_ann:.4f}\")"
   ]
  },
  {
   "cell_type": "code",
   "execution_count": null,
   "id": "91b9be9c",
   "metadata": {
    "execution": {
     "iopub.execute_input": "2025-10-16T23:29:49.165742Z",
     "iopub.status.busy": "2025-10-16T23:29:49.165408Z",
     "iopub.status.idle": "2025-10-16T23:29:58.914279Z",
     "shell.execute_reply": "2025-10-16T23:29:58.912815Z"
    },
    "papermill": {
     "duration": 9.799527,
     "end_time": "2025-10-16T23:29:58.915157",
     "exception": false,
     "start_time": "2025-10-16T23:29:49.115630",
     "status": "completed"
    },
    "tags": []
   },
   "outputs": [
    {
     "data": {
      "image/png": "[encoded data removed]",
      "text/plain": [
       "<Figure size 800x550 with 1 Axes>"
      ]
     },
     "metadata": {},
     "output_type": "display_data"
    },
    {
     "data": {
      "image/png": "[encoded data removed]",
      "text/plain": [
       "<Figure size 800x550 with 2 Axes>"
      ]
     },
     "metadata": {},
     "output_type": "display_data"
    }
   ],
   "source": [
    "# Step 4 interpret the results\n",
    "\n",
    "# Compute SHAP values\n",
    "explainer = shap.TreeExplainer(model_gb)\n",
    "shap_values = explainer.shap_values(X_test)\n",
    "\n",
    "# Top 10 features by mean absolute SHAP\n",
    "top_idx = np.argsort(np.abs(shap_values).mean(axis=0))[-10:]\n",
    "X_top = X_test[:, top_idx]\n",
    "shap_top = shap_values[:, top_idx]\n",
    "feature_names = X.columns[top_idx]\n",
    "\n",
    "# SHAP summary plots\n",
    "shap.summary_plot(shap_top, X_top, feature_names=feature_names, plot_type=\"bar\")\n",
    "shap.summary_plot(shap_top, X_top, feature_names=feature_names)"
   ]
  },
  {
   "cell_type": "code",
   "execution_count": null,
   "id": "586f93f1",
   "metadata": {
    "papermill": {
     "duration": 0.052,
     "end_time": "2025-10-16T23:29:59.011641",
     "exception": false,
     "start_time": "2025-10-16T23:29:58.959641",
     "status": "completed"
    },
    "tags": []
   },
   "outputs": [],
   "source": []
  }
 ],
 "metadata": {
  "kernelspec": {
   "display_name": "venv (3.12.3)",
   "language": "python",
   "name": "python3"
  },
  "language_info": {
   "codemirror_mode": {
    "name": "ipython",
    "version": 3
   },
   "file_extension": ".py",
   "mimetype": "text/x-python",
   "name": "python",
   "nbconvert_exporter": "python",
   "pygments_lexer": "ipython3",
   "version": "3.12.3"
  },
  "papermill": {
   "default_parameters": {},
   "duration": 1256.387568,
   "end_time": "2025-10-16T23:30:02.911376",
   "environment_variables": {},
   "exception": null,
   "input_path": "3_experiment_1.ipynb",
   "output_path": "output_experiment1.ipynb",
   "parameters": {},
   "start_time": "2025-10-16T23:09:06.523808",
   "version": "2.6.0"
  }
 },
 "nbformat": 4,
 "nbformat_minor": 5
}
