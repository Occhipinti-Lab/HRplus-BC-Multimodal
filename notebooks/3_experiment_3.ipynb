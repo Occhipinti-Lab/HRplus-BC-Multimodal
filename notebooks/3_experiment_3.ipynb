{
 "cells": [
  {
   "cell_type": "code",
   "execution_count": null,
   "id": "6f44161f",
   "metadata": {
    "execution": {
     "iopub.execute_input": "2025-10-16T23:51:18.563402Z",
     "iopub.status.busy": "2025-10-16T23:51:18.563181Z",
     "iopub.status.idle": "2025-10-16T23:51:24.167886Z",
     "shell.execute_reply": "2025-10-16T23:51:24.166291Z"
    },
    "papermill": {
     "duration": 5.60923,
     "end_time": "2025-10-16T23:51:24.168749",
     "exception": false,
     "start_time": "2025-10-16T23:51:18.559519",
     "status": "completed"
    },
    "tags": []
   },
   "outputs": [
    {
     "name": "stderr",
     "output_type": "stream",
     "text": [
      "2025-10-16 23:51:20.776846: I external/local_xla/xla/tsl/cuda/cudart_stub.cc:31] Could not find cuda drivers on your machine, GPU will not be used.\n",
      "2025-10-16 23:51:20.858705: I tensorflow/core/platform/cpu_feature_guard.cc:210] This TensorFlow binary is optimized to use available CPU instructions in performance-critical operations.\n",
      "To enable the following instructions: AVX2 FMA, in other operations, rebuild TensorFlow with the appropriate compiler flags.\n"
     ]
    },
    {
     "name": "stderr",
     "output_type": "stream",
     "text": [
      "2025-10-16 23:51:23.140845: I external/local_xla/xla/tsl/cuda/cudart_stub.cc:31] Could not find cuda drivers on your machine, GPU will not be used.\n"
     ]
    },
    {
     "name": "stdout",
     "output_type": "stream",
     "text": [
      "TUNE_MODE: ON | Optuna Trials: 20\n"
     ]
    }
   ],
   "source": [
    "import warnings\n",
    "warnings.filterwarnings(\"ignore\")\n",
    "\n",
    "import pandas as pd\n",
    "import numpy as np\n",
    "\n",
    "import gc\n",
    "import time\n",
    "import warnings\n",
    "from pathlib import Path\n",
    "from tqdm.auto import tqdm\n",
    "from datetime import datetime\n",
    "\n",
    "import matplotlib.pyplot as plt\n",
    "import seaborn as sns\n",
    "\n",
    "from sklearn.model_selection import train_test_split\n",
    "from sklearn.preprocessing import StandardScaler\n",
    "from sklearn.metrics import (\n",
    "    accuracy_score, precision_score, recall_score, f1_score, roc_auc_score,\n",
    "    matthews_corrcoef, brier_score_loss, confusion_matrix, classification_report, roc_curve, auc\n",
    ")\n",
    "\n",
    "from sklearn.calibration import calibration_curve\n",
    "\n",
    "from sklearn.linear_model import LogisticRegression\n",
    "from sklearn.ensemble import RandomForestClassifier\n",
    "import xgboost as xgb\n",
    "from tensorflow.keras import models, layers, optimizers\n",
    "from tensorflow.keras.callbacks import EarlyStopping\n",
    "\n",
    "import shap\n",
    "import optuna\n",
    "\n",
    "# Global Configuration\n",
    "base_dir = Path().resolve().parent\n",
    "\n",
    "TUNE_MODE = True # Enable Optuna tuning\n",
    "N_TRIALS = 20 # Number of trial for Optuna\n",
    "SEED = 42\n",
    "\n",
    "print(f\"TUNE_MODE: {'ON' if TUNE_MODE else 'OFF'} | Optuna Trials: {N_TRIALS}\")"
   ]
  },
  {
   "cell_type": "code",
   "execution_count": null,
   "id": "54d53a96",
   "metadata": {
    "execution": {
     "iopub.execute_input": "2025-10-16T23:51:24.178466Z",
     "iopub.status.busy": "2025-10-16T23:51:24.177918Z",
     "iopub.status.idle": "2025-10-16T23:52:06.635888Z",
     "shell.execute_reply": "2025-10-16T23:52:06.631998Z"
    },
    "papermill": {
     "duration": 42.463471,
     "end_time": "2025-10-16T23:52:06.637286",
     "exception": false,
     "start_time": "2025-10-16T23:51:24.173815",
     "status": "completed"
    },
    "tags": []
   },
   "outputs": [],
   "source": [
    "# Step 1: Import the preprocessed data\n",
    "df_flux = pd.read_csv(base_dir / \"dataset/fluxomics.csv\", index_col=0)\n",
    "df_gene = pd.read_csv(base_dir / \"dataset/transcriptomic_hvg.csv\", index_col=0)\n",
    "meta_data = pd.read_csv(base_dir  / \"dataset/metadata.csv\", index_col=0)"
   ]
  },
  {
   "cell_type": "code",
   "execution_count": null,
   "id": "27d7d29d",
   "metadata": {
    "execution": {
     "iopub.execute_input": "2025-10-16T23:52:06.645653Z",
     "iopub.status.busy": "2025-10-16T23:52:06.645365Z",
     "iopub.status.idle": "2025-10-16T23:52:06.962127Z",
     "shell.execute_reply": "2025-10-16T23:52:06.960612Z"
    },
    "papermill": {
     "duration": 0.322009,
     "end_time": "2025-10-16T23:52:06.962902",
     "exception": false,
     "start_time": "2025-10-16T23:52:06.640893",
     "status": "completed"
    },
    "tags": []
   },
   "outputs": [
    {
     "name": "stdout",
     "output_type": "stream",
     "text": [
      "(51324, 450)\n"
     ]
    }
   ],
   "source": [
    "#  Step 2: Prepare data for ML models\n",
    "\n",
    "\n",
    "# Remove exchange reaction\n",
    "rxns = [c for c in df_flux.columns if c != \"response\" and not c.startswith(\"EX_\")]\n",
    "flux = df_flux[rxns]\n",
    "\n",
    "# Select top variable fluxes by variance\n",
    "fl_n = 200\n",
    "fl_top = flux.var().sort_values(ascending=False).index[:fl_n]\n",
    "\n",
    "# Select top HVG genes\n",
    "tr_n = 250\n",
    "hvg_genes = pd.read_csv(base_dir / \"dataset/hvg_genes.csv\",header=None).squeeze().tolist()\n",
    "tr_top = [g for g in hvg_genes if g in df_gene.columns][:tr_n]\n",
    "\n",
    "# Build the feature matrix X_gene and X_flux using the selected top genes and fluxes\n",
    "X_gene= df_gene[tr_top]\n",
    "X_flux = flux[fl_top]\n",
    "\n",
    "# Merge features from both modalities\n",
    "# The merge uses the sample index (assumed unique) to align data across modalities.\n",
    "X = pd.merge(X_gene, X_flux, left_index=True, right_index=True)\n",
    "\n",
    "# Extract aligned target labels\n",
    "# Ensure response column aligns perfectly with merged feature matrix\n",
    "y = meta_data.loc[X.index,:]['response']\n",
    "\n",
    "\n",
    "#  2.2 Encode target variable\n",
    "# Convert categorical response labels to numeric (binary classification)\n",
    "# 'Responder' -> 1, 'Non-responder' -> 0\n",
    "y = y.map({\"Responder\": 1, \"Non-responder\": 0}).astype(np.int8)\n",
    "\n",
    "print(X.shape)"
   ]
  },
  {
   "cell_type": "code",
   "execution_count": null,
   "id": "ddda061c",
   "metadata": {
    "execution": {
     "iopub.execute_input": "2025-10-16T23:52:07.007503Z",
     "iopub.status.busy": "2025-10-16T23:52:07.007272Z",
     "iopub.status.idle": "2025-10-16T23:52:07.679152Z",
     "shell.execute_reply": "2025-10-16T23:52:07.678185Z"
    },
    "papermill": {
     "duration": 0.677567,
     "end_time": "2025-10-16T23:52:07.680442",
     "exception": false,
     "start_time": "2025-10-16T23:52:07.002875",
     "status": "completed"
    },
    "tags": []
   },
   "outputs": [],
   "source": [
    "# 2.3 Split the data into training and test sets\n",
    "# Split dataset into training and test sets (80% train, 20% test)\n",
    "# Stratified split ensures class balance is preserved in both subsets\n",
    "X_train, X_test, y_train, y_test = train_test_split(X, y, test_size=0.2, stratify=y, random_state=SEED)\n",
    "X_train, X_val, y_train, y_val = train_test_split(X_train, y_train, test_size=0.2, stratify=y_train, random_state=SEED)\n",
    "\n",
    "# 2.4 Standardize the features\n",
    "scaler = StandardScaler()\n",
    "\n",
    "# Fit the scaler only on the training data to avoid data leakage\n",
    "X_train = scaler.fit_transform(X_train)\n",
    "\n",
    "# Apply the same transformation to validation and test sets\n",
    "X_test = scaler.transform(X_test)\n",
    "X_val = scaler.transform(X_val)"
   ]
  },
  {
   "cell_type": "code",
   "execution_count": null,
   "id": "f898fb55",
   "metadata": {
    "execution": {
     "iopub.execute_input": "2025-10-16T23:52:07.689712Z",
     "iopub.status.busy": "2025-10-16T23:52:07.689509Z",
     "iopub.status.idle": "2025-10-16T23:52:07.701623Z",
     "shell.execute_reply": "2025-10-16T23:52:07.700625Z"
    },
    "papermill": {
     "duration": 0.017367,
     "end_time": "2025-10-16T23:52:07.702321",
     "exception": false,
     "start_time": "2025-10-16T23:52:07.684954",
     "status": "completed"
    },
    "tags": []
   },
   "outputs": [],
   "source": [
    "# Step 3: Optuna for Hyper-parameter tunning\n",
    "\n",
    "# 3.1 Optuna Objective Functions with class balance\n",
    "\n",
    "# Compute class balance ratio\n",
    "def class_balance(y):\n",
    "    \"\"\"\n",
    "    Compute class imbalance ratio for weighting.\n",
    "    Returns ratio (negative_count / positive_count).\n",
    "    Used to compensate for imbalance in binary classification.\n",
    "    \"\"\"\n",
    "    neg, pos = (y == 0).sum(), (y == 1).sum()\n",
    "    return neg / pos if pos > 0 else 1.0\n",
    "\n",
    "# Logistic Regression Objective Function\n",
    "def tune_logreg(trial, X_train, X_val, y_train, y_val):\n",
    "    \"\"\"\n",
    "    Objective function for tuning Logistic Regression using Optuna.\n",
    "    Hyperparameter: Regularization strength (C).\n",
    "    \"\"\"\n",
    "    C = trial.suggest_float(\"C\", 1e-3, 100, log=True)\n",
    "    w = class_balance(y_train)\n",
    "    model = LogisticRegression(solver=\"lbfgs\", max_iter=1000, C=C, class_weight={0: 1, 1: w})\n",
    "    model.fit(X_train, y_train)\n",
    "    preds = model.predict_proba(X_val)[:, 1]\n",
    "    return roc_auc_score(y_val, preds)\n",
    "\n",
    "# Random Forest Objective Function\n",
    "def tune_rf(trial, X_train, X_val, y_train, y_val):\n",
    "    \"\"\"\n",
    "    Objective function for tuning Random Forest using Optuna.\n",
    "    Tuned hyperparameters include depth, splits, and max features.\n",
    "    \"\"\"\n",
    "    w = class_balance(y_train)\n",
    "    params = {\n",
    "        \"n_estimators\": trial.suggest_int(\"n_estimators\", 200, 800, step=200),\n",
    "        \"max_depth\": trial.suggest_int(\"max_depth\", 6, 16),\n",
    "        \"min_samples_split\": trial.suggest_int(\"min_samples_split\", 2, 6),\n",
    "        \"min_samples_leaf\": trial.suggest_int(\"min_samples_leaf\", 1, 4),\n",
    "        \"max_features\": trial.suggest_categorical(\"max_features\", [\"sqrt\", \"log2\"]),\n",
    "        \"class_weight\": {0: 1, 1: w}\n",
    "    }\n",
    "    model = RandomForestClassifier(random_state=SEED, n_jobs=-1, **params)\n",
    "    model.fit(X_train, y_train)\n",
    "    preds = model.predict_proba(X_val)[:, 1]\n",
    "    return roc_auc_score(y_val, preds)\n",
    "\n",
    "# XGBoost Objective Function\n",
    "def tune_xgb(trial, X_train, X_val, y_train, y_val):\n",
    "    \"\"\"\n",
    "    Objective function for tuning XGBoost using Optuna.\n",
    "    Includes learning rate, depth, and subsampling parameters.\n",
    "    \"\"\"\n",
    "    w = class_balance(y_train)\n",
    "    params = {\n",
    "        \"objective\": \"binary:logistic\",\n",
    "        \"eval_metric\": \"auc\",\n",
    "        \"tree_method\": \"hist\",\n",
    "        \"scale_pos_weight\": w,\n",
    "        \"learning_rate\": trial.suggest_float(\"learning_rate\", 0.01, 0.3, log=True),\n",
    "        \"max_depth\": trial.suggest_int(\"max_depth\", 4, 12),\n",
    "        \"subsample\": trial.suggest_float(\"subsample\", 0.6, 1.0),\n",
    "        \"colsample_bytree\": trial.suggest_float(\"colsample_bytree\", 0.6, 1.0),\n",
    "        \"n_estimators\": trial.suggest_int(\"n_estimators\", 200, 1000, step=200)\n",
    "    }\n",
    "    model = xgb.XGBClassifier(**params, n_jobs=-1, random_state=SEED, verbosity=0)\n",
    "    model.fit(X_train, y_train)\n",
    "    preds = model.predict_proba(X_val)[:, 1]\n",
    "    return roc_auc_score(y_val, preds)\n",
    "\n",
    "# Artificial Neural Network (ANN) Objective Function\n",
    "def tune_ann(trial, X_train, X_val, y_train, y_val):\n",
    "    \"\"\"\n",
    "    Objective function for tuning a simple feed-forward ANN using Optuna.\n",
    "    The model adapts to class imbalance via sample weighting.\n",
    "    \"\"\"\n",
    "    w = class_balance(y_train)\n",
    "    lr = trial.suggest_float(\"lr\", 1e-4, 1e-2, log=True)\n",
    "    dropout = trial.suggest_float(\"dropout\", 0.2, 0.6)\n",
    "    n1 = trial.suggest_int(\"n1\", 32, 128, step=32)\n",
    "    n2 = trial.suggest_int(\"n2\", 16, 64, step=16)\n",
    "\n",
    "    model = models.Sequential([\n",
    "        layers.Input(shape=(X_train.shape[1],)),\n",
    "        layers.Dense(n1, activation=\"relu\"),\n",
    "        layers.Dropout(dropout),\n",
    "        layers.Dense(n2, activation=\"relu\"),\n",
    "        layers.Dense(1, activation=\"sigmoid\")\n",
    "    ])\n",
    "    model.compile(optimizer=optimizers.Adam(learning_rate=lr),\n",
    "                  loss=\"binary_crossentropy\", metrics=[\"accuracy\"])\n",
    "\n",
    "    early = EarlyStopping(patience=5, restore_best_weights=True)\n",
    "    sample_weights = np.where(y_train == 1, w, 1)\n",
    "    model.fit(X_train, y_train, sample_weight=sample_weights,\n",
    "              validation_data=(X_val, y_val),\n",
    "              epochs=30, batch_size=32, verbose=0, callbacks=[early])\n",
    "    preds = model.predict(X_val)\n",
    "    return roc_auc_score(y_val, preds)"
   ]
  },
  {
   "cell_type": "code",
   "execution_count": null,
   "id": "643cabe2",
   "metadata": {
    "execution": {
     "iopub.execute_input": "2025-10-16T23:53:49.055523Z",
     "iopub.status.busy": "2025-10-16T23:53:49.054651Z",
     "iopub.status.idle": "2025-10-16T23:53:49.215328Z",
     "shell.execute_reply": "2025-10-16T23:53:49.214298Z"
    },
    "papermill": {
     "duration": 0.175442,
     "end_time": "2025-10-16T23:53:49.217463",
     "exception": false,
     "start_time": "2025-10-16T23:53:49.042021",
     "status": "completed"
    },
    "tags": []
   },
   "outputs": [
    {
     "name": "stdout",
     "output_type": "stream",
     "text": [
      "\n",
      "[Responder Class Metrics]\n",
      "Accuracy     : 78.03\n",
      "Precision    : 63.22\n",
      "Recall       : 83.07\n",
      "F1 Score     : 71.79\n",
      "ROC AUC Score: 86.64\n",
      "\n",
      "Classification Report:\n",
      "               precision    recall  f1-score   support\n",
      "\n",
      "Non-responder       0.90      0.75      0.82      6810\n",
      "    Responder       0.63      0.83      0.72      3455\n",
      "\n",
      "     accuracy                           0.78     10265\n",
      "    macro avg       0.76      0.79      0.77     10265\n",
      " weighted avg       0.81      0.78      0.79     10265\n",
      "\n"
     ]
    },
    {
     "data": {
      "image/png": "[encoded data removed]",
      "text/plain": [
       "<Figure size 600x500 with 1 Axes>"
      ]
     },
     "metadata": {},
     "output_type": "display_data"
    }
   ],
   "source": [
    "#  3.2 Run hyperparameter tuning and evaluation for Logistic Regression (LR)\n",
    "\n",
    "# Step 1: Compute class balance\n",
    "w = class_balance(y_train)  \n",
    "print(f\"Class balance ratio: neg/pos = {w:.2f}\")\n",
    "\n",
    "# Step 2: Define and run Optuna study\n",
    "name = \"Logistic Regression\"\n",
    "study = optuna.create_study(direction=\"maximize\")\n",
    "study.optimize(lambda trial: tune_logreg(trial, X_train, X_val, y_train, y_val), n_trials=N_TRIALS, show_progress_bar=True)\n",
    "print(f\"{name} best AUC={study.best_value:.3f} | params={study.best_params}\")\n",
    "\n",
    "\n",
    "# Step 3: Refit model on the full training set by best parameters which obtains by Optuna\n",
    "model_lr = LogisticRegression(\n",
    "                    **study.best_params, solver=\"lbfgs\", max_iter=1000, class_weight={0: 1, 1: w}\n",
    "                )\n",
    "model_lr.fit(X_train, y_train)\n",
    "\n",
    "# Step 4: Evaluate on test data\n",
    "# Probability predictions for ROC/AUC\n",
    "y_prob = model_lr.predict_proba(X_test)[:, 1]\n",
    "# Binary predictions using default 0.5 threshold\n",
    "y_pred = model_lr.predict(X_test)\n",
    "\n",
    "# Compute evaluation metrics \n",
    "conf_mat = confusion_matrix(y_test, y_pred)\n",
    "roc = roc_auc_score(y_test, y_prob)\n",
    "precision = precision_score(y_test, y_pred)\n",
    "recall = recall_score(y_test, y_pred)\n",
    "f1 = f1_score(y_test, y_pred)\n",
    "accuracy = accuracy_score(y_test, y_pred)\n",
    "\n",
    "print(f\"\\n[Responder Class Metrics]\")\n",
    "print(f\"Accuracy     : {accuracy * 100:.2f}\")\n",
    "print(f\"Precision    : {precision * 100:.2f}\")\n",
    "print(f\"Recall       : {recall * 100:.2f}\")\n",
    "print(f\"F1 Score     : {f1 * 100:.2f}\")\n",
    "print(f\"ROC AUC Score: {roc * 100:.2f}\")\n",
    "\n",
    "# Classification report\n",
    "print(\"\\nClassification Report:\")\n",
    "print(classification_report(y_test, y_pred, target_names=[\"Non-responder\", \"Responder\"]))\n",
    "\n",
    "#  Step 5: Visualize Confusion Matrix\n",
    "plt.figure(figsize=(6, 5))\n",
    "sns.heatmap(\n",
    "    conf_mat,\n",
    "    annot=True,\n",
    "    fmt='d',\n",
    "    cmap='Blues',\n",
    "    xticklabels=['Non-responder', 'Responder'],\n",
    "    yticklabels=['Non-responder', 'Responder'],\n",
    "    cbar=False,\n",
    "    linewidths=0,\n",
    "    linecolor='white'\n",
    ")\n",
    "plt.title('Confusion Matrix')\n",
    "plt.xlabel('Predicted')\n",
    "plt.ylabel('Actual')\n",
    "plt.show()\n"
   ]
  },
  {
   "cell_type": "code",
   "execution_count": null,
   "id": "07b1ffb3",
   "metadata": {
    "execution": {
     "iopub.execute_input": "2025-10-16T23:53:49.241717Z",
     "iopub.status.busy": "2025-10-16T23:53:49.241421Z",
     "iopub.status.idle": "2025-10-16T23:58:12.972062Z",
     "shell.execute_reply": "2025-10-16T23:58:12.970720Z"
    },
    "papermill": {
     "duration": 263.74278,
     "end_time": "2025-10-16T23:58:12.972863",
     "exception": false,
     "start_time": "2025-10-16T23:53:49.230083",
     "status": "completed"
    },
    "tags": []
   },
   "outputs": [
    {
     "name": "stderr",
     "output_type": "stream",
     "text": [
      "[I 2025-10-16 23:53:49,246] A new study created in memory with name: no-name-13716b30-f6ed-4478-8c27-b280aefc3451\n"
     ]
    },
    {
     "name": "stderr",
     "output_type": "stream",
     "text": [
      "\r\n",
      "  0%|          | 0/20 [00:00<?, ?it/s]"
     ]
    },
    {
     "name": "stderr",
     "output_type": "stream",
     "text": [
      "\r\n",
      "                                      "
     ]
    },
    {
     "name": "stderr",
     "output_type": "stream",
     "text": [
      "\r"
     ]
    },
    {
     "name": "stderr",
     "output_type": "stream",
     "text": [
      "\r\n",
      "  0%|          | 0/20 [00:07<?, ?it/s]"
     ]
    },
    {
     "name": "stderr",
     "output_type": "stream",
     "text": [
      "\r\n",
      "Best trial: 0. Best value: 0.841583:   0%|          | 0/20 [00:07<?, ?it/s]"
     ]
    },
    {
     "name": "stderr",
     "output_type": "stream",
     "text": [
      "\r\n",
      "Best trial: 0. Best value: 0.841583:   5%|▌         | 1/20 [00:07<02:24,  7.62s/it]"
     ]
    },
    {
     "name": "stdout",
     "output_type": "stream",
     "text": [
      "[I 2025-10-16 23:53:56,867] Trial 0 finished with value: 0.8415834167426381 and parameters: {'n_estimators': 600, 'max_depth': 15, 'min_samples_split': 3, 'min_samples_leaf': 4, 'max_features': 'log2'}. Best is trial 0 with value: 0.8415834167426381.\n"
     ]
    },
    {
     "name": "stderr",
     "output_type": "stream",
     "text": [
      "\r\n",
      "                                                                                   "
     ]
    },
    {
     "name": "stderr",
     "output_type": "stream",
     "text": [
      "\r"
     ]
    },
    {
     "name": "stderr",
     "output_type": "stream",
     "text": [
      "\r\n",
      "Best trial: 0. Best value: 0.841583:   5%|▌         | 1/20 [00:09<02:24,  7.62s/it]"
     ]
    },
    {
     "name": "stderr",
     "output_type": "stream",
     "text": [
      "\r\n",
      "Best trial: 0. Best value: 0.841583:   5%|▌         | 1/20 [00:09<02:24,  7.62s/it]"
     ]
    },
    {
     "name": "stderr",
     "output_type": "stream",
     "text": [
      "\r\n",
      "Best trial: 0. Best value: 0.841583:  10%|█         | 2/20 [00:09<01:18,  4.34s/it]"
     ]
    },
    {
     "name": "stdout",
     "output_type": "stream",
     "text": [
      "[I 2025-10-16 23:53:58,907] Trial 1 finished with value: 0.8335654980863674 and parameters: {'n_estimators': 200, 'max_depth': 10, 'min_samples_split': 5, 'min_samples_leaf': 2, 'max_features': 'log2'}. Best is trial 0 with value: 0.8415834167426381.\n"
     ]
    },
    {
     "name": "stderr",
     "output_type": "stream",
     "text": [
      "\r\n",
      "                                                                                   "
     ]
    },
    {
     "name": "stderr",
     "output_type": "stream",
     "text": [
      "\r"
     ]
    },
    {
     "name": "stderr",
     "output_type": "stream",
     "text": [
      "\r\n",
      "Best trial: 0. Best value: 0.841583:  10%|█         | 2/20 [00:18<01:18,  4.34s/it]"
     ]
    },
    {
     "name": "stderr",
     "output_type": "stream",
     "text": [
      "\r\n",
      "Best trial: 2. Best value: 0.855378:  10%|█         | 2/20 [00:18<01:18,  4.34s/it]"
     ]
    },
    {
     "name": "stderr",
     "output_type": "stream",
     "text": [
      "\r\n",
      "Best trial: 2. Best value: 0.855378:  15%|█▌        | 3/20 [00:18<01:47,  6.31s/it]"
     ]
    },
    {
     "name": "stdout",
     "output_type": "stream",
     "text": [
      "[I 2025-10-16 23:54:07,569] Trial 2 finished with value: 0.8553778946216405 and parameters: {'n_estimators': 400, 'max_depth': 10, 'min_samples_split': 3, 'min_samples_leaf': 2, 'max_features': 'sqrt'}. Best is trial 2 with value: 0.8553778946216405.\n"
     ]
    },
    {
     "name": "stderr",
     "output_type": "stream",
     "text": [
      "\r\n",
      "                                                                                   "
     ]
    },
    {
     "name": "stderr",
     "output_type": "stream",
     "text": [
      "\r"
     ]
    },
    {
     "name": "stderr",
     "output_type": "stream",
     "text": [
      "\r\n",
      "Best trial: 2. Best value: 0.855378:  15%|█▌        | 3/20 [00:23<01:47,  6.31s/it]"
     ]
    },
    {
     "name": "stderr",
     "output_type": "stream",
     "text": [
      "\r\n",
      "Best trial: 2. Best value: 0.855378:  15%|█▌        | 3/20 [00:23<01:47,  6.31s/it]"
     ]
    },
    {
     "name": "stderr",
     "output_type": "stream",
     "text": [
      "\r\n",
      "Best trial: 2. Best value: 0.855378:  20%|██        | 4/20 [00:23<01:30,  5.68s/it]"
     ]
    },
    {
     "name": "stdout",
     "output_type": "stream",
     "text": [
      "[I 2025-10-16 23:54:12,277] Trial 3 finished with value: 0.8398699399240497 and parameters: {'n_estimators': 400, 'max_depth': 13, 'min_samples_split': 4, 'min_samples_leaf': 2, 'max_features': 'log2'}. Best is trial 2 with value: 0.8553778946216405.\n"
     ]
    },
    {
     "name": "stderr",
     "output_type": "stream",
     "text": [
      "\r\n",
      "                                                                                   "
     ]
    },
    {
     "name": "stderr",
     "output_type": "stream",
     "text": [
      "\r"
     ]
    },
    {
     "name": "stderr",
     "output_type": "stream",
     "text": [
      "\r\n",
      "Best trial: 2. Best value: 0.855378:  20%|██        | 4/20 [00:24<01:30,  5.68s/it]"
     ]
    },
    {
     "name": "stderr",
     "output_type": "stream",
     "text": [
      "\r\n",
      "Best trial: 2. Best value: 0.855378:  20%|██        | 4/20 [00:24<01:30,  5.68s/it]"
     ]
    },
    {
     "name": "stderr",
     "output_type": "stream",
     "text": [
      "\r\n",
      "Best trial: 2. Best value: 0.855378:  25%|██▌       | 5/20 [00:24<01:03,  4.26s/it]"
     ]
    },
    {
     "name": "stdout",
     "output_type": "stream",
     "text": [
      "[I 2025-10-16 23:54:14,015] Trial 4 finished with value: 0.8321568371191594 and parameters: {'n_estimators': 200, 'max_depth': 8, 'min_samples_split': 6, 'min_samples_leaf': 2, 'max_features': 'log2'}. Best is trial 2 with value: 0.8553778946216405.\n"
     ]
    },
    {
     "name": "stderr",
     "output_type": "stream",
     "text": [
      "\r\n",
      "                                                                                   "
     ]
    },
    {
     "name": "stderr",
     "output_type": "stream",
     "text": [
      "\r"
     ]
    },
    {
     "name": "stderr",
     "output_type": "stream",
     "text": [
      "\r\n",
      "Best trial: 2. Best value: 0.855378:  25%|██▌       | 5/20 [00:26<01:03,  4.26s/it]"
     ]
    },
    {
     "name": "stderr",
     "output_type": "stream",
     "text": [
      "\r\n",
      "Best trial: 2. Best value: 0.855378:  25%|██▌       | 5/20 [00:26<01:03,  4.26s/it]"
     ]
    },
    {
     "name": "stderr",
     "output_type": "stream",
     "text": [
      "\r\n",
      "Best trial: 2. Best value: 0.855378:  30%|███       | 6/20 [00:26<00:47,  3.41s/it]"
     ]
    },
    {
     "name": "stdout",
     "output_type": "stream",
     "text": [
      "[I 2025-10-16 23:54:15,783] Trial 5 finished with value: 0.8314189038423532 and parameters: {'n_estimators': 200, 'max_depth': 8, 'min_samples_split': 6, 'min_samples_leaf': 4, 'max_features': 'log2'}. Best is trial 2 with value: 0.8553778946216405.\n"
     ]
    },
    {
     "name": "stderr",
     "output_type": "stream",
     "text": [
      "\r\n",
      "                                                                                   "
     ]
    },
    {
     "name": "stderr",
     "output_type": "stream",
     "text": [
      "\r"
     ]
    },
    {
     "name": "stderr",
     "output_type": "stream",
     "text": [
      "\r\n",
      "Best trial: 2. Best value: 0.855378:  30%|███       | 6/20 [00:30<00:47,  3.41s/it]"
     ]
    },
    {
     "name": "stderr",
     "output_type": "stream",
     "text": [
      "\r\n",
      "Best trial: 2. Best value: 0.855378:  30%|███       | 6/20 [00:30<00:47,  3.41s/it]"
     ]
    },
    {
     "name": "stderr",
     "output_type": "stream",
     "text": [
      "\r\n",
      "Best trial: 2. Best value: 0.855378:  35%|███▌      | 7/20 [00:30<00:47,  3.65s/it]"
     ]
    },
    {
     "name": "stdout",
     "output_type": "stream",
     "text": [
      "[I 2025-10-16 23:54:19,933] Trial 6 finished with value: 0.8360172402251733 and parameters: {'n_estimators': 400, 'max_depth': 11, 'min_samples_split': 2, 'min_samples_leaf': 2, 'max_features': 'log2'}. Best is trial 2 with value: 0.8553778946216405.\n"
     ]
    },
    {
     "name": "stderr",
     "output_type": "stream",
     "text": [
      "\r\n",
      "                                                                                   "
     ]
    },
    {
     "name": "stderr",
     "output_type": "stream",
     "text": [
      "\r"
     ]
    },
    {
     "name": "stderr",
     "output_type": "stream",
     "text": [
      "\r\n",
      "Best trial: 2. Best value: 0.855378:  35%|███▌      | 7/20 [00:36<00:47,  3.65s/it]"
     ]
    },
    {
     "name": "stderr",
     "output_type": "stream",
     "text": [
      "\r\n",
      "Best trial: 7. Best value: 0.860009:  35%|███▌      | 7/20 [00:36<00:47,  3.65s/it]"
     ]
    },
    {
     "name": "stderr",
     "output_type": "stream",
     "text": [
      "\r\n",
      "Best trial: 7. Best value: 0.860009:  40%|████      | 8/20 [00:36<00:51,  4.26s/it]"
     ]
    },
    {
     "name": "stdout",
     "output_type": "stream",
     "text": [
      "[I 2025-10-16 23:54:25,488] Trial 7 finished with value: 0.8600090368934761 and parameters: {'n_estimators': 200, 'max_depth': 13, 'min_samples_split': 4, 'min_samples_leaf': 2, 'max_features': 'sqrt'}. Best is trial 7 with value: 0.8600090368934761.\n"
     ]
    },
    {
     "name": "stderr",
     "output_type": "stream",
     "text": [
      "\r\n",
      "                                                                                   "
     ]
    },
    {
     "name": "stderr",
     "output_type": "stream",
     "text": [
      "\r"
     ]
    },
    {
     "name": "stderr",
     "output_type": "stream",
     "text": [
      "\r\n",
      "Best trial: 7. Best value: 0.860009:  40%|████      | 8/20 [00:40<00:51,  4.26s/it]"
     ]
    },
    {
     "name": "stderr",
     "output_type": "stream",
     "text": [
      "\r\n",
      "Best trial: 7. Best value: 0.860009:  40%|████      | 8/20 [00:40<00:51,  4.26s/it]"
     ]
    },
    {
     "name": "stderr",
     "output_type": "stream",
     "text": [
      "\r\n",
      "Best trial: 7. Best value: 0.860009:  45%|████▌     | 9/20 [00:40<00:46,  4.26s/it]"
     ]
    },
    {
     "name": "stdout",
     "output_type": "stream",
     "text": [
      "[I 2025-10-16 23:54:29,744] Trial 8 finished with value: 0.8281809493147687 and parameters: {'n_estimators': 600, 'max_depth': 7, 'min_samples_split': 3, 'min_samples_leaf': 1, 'max_features': 'log2'}. Best is trial 7 with value: 0.8600090368934761.\n"
     ]
    },
    {
     "name": "stderr",
     "output_type": "stream",
     "text": [
      "\r\n",
      "                                                                                   "
     ]
    },
    {
     "name": "stderr",
     "output_type": "stream",
     "text": [
      "\r"
     ]
    },
    {
     "name": "stderr",
     "output_type": "stream",
     "text": [
      "\r\n",
      "Best trial: 7. Best value: 0.860009:  45%|████▌     | 9/20 [00:49<00:46,  4.26s/it]"
     ]
    },
    {
     "name": "stderr",
     "output_type": "stream",
     "text": [
      "\r\n",
      "Best trial: 7. Best value: 0.860009:  45%|████▌     | 9/20 [00:49<00:46,  4.26s/it]"
     ]
    },
    {
     "name": "stderr",
     "output_type": "stream",
     "text": [
      "\r\n",
      "Best trial: 7. Best value: 0.860009:  50%|█████     | 10/20 [00:49<00:56,  5.67s/it]"
     ]
    },
    {
     "name": "stdout",
     "output_type": "stream",
     "text": [
      "[I 2025-10-16 23:54:38,564] Trial 9 finished with value: 0.8379956212771292 and parameters: {'n_estimators': 800, 'max_depth': 12, 'min_samples_split': 4, 'min_samples_leaf': 3, 'max_features': 'log2'}. Best is trial 7 with value: 0.8600090368934761.\n"
     ]
    },
    {
     "name": "stderr",
     "output_type": "stream",
     "text": [
      "\r\n",
      "                                                                                    "
     ]
    },
    {
     "name": "stderr",
     "output_type": "stream",
     "text": [
      "\r"
     ]
    },
    {
     "name": "stderr",
     "output_type": "stream",
     "text": [
      "\r\n",
      "Best trial: 7. Best value: 0.860009:  50%|█████     | 10/20 [01:13<00:56,  5.67s/it]"
     ]
    },
    {
     "name": "stderr",
     "output_type": "stream",
     "text": [
      "\r\n",
      "Best trial: 10. Best value: 0.864095:  50%|█████     | 10/20 [01:13<00:56,  5.67s/it]"
     ]
    },
    {
     "name": "stderr",
     "output_type": "stream",
     "text": [
      "\r\n",
      "Best trial: 10. Best value: 0.864095:  55%|█████▌    | 11/20 [01:13<01:41, 11.24s/it]"
     ]
    },
    {
     "name": "stdout",
     "output_type": "stream",
     "text": [
      "[I 2025-10-16 23:55:02,456] Trial 10 finished with value: 0.8640946982495734 and parameters: {'n_estimators': 800, 'max_depth': 16, 'min_samples_split': 5, 'min_samples_leaf': 1, 'max_features': 'sqrt'}. Best is trial 10 with value: 0.8640946982495734.\n"
     ]
    },
    {
     "name": "stderr",
     "output_type": "stream",
     "text": [
      "\r\n",
      "                                                                                     "
     ]
    },
    {
     "name": "stderr",
     "output_type": "stream",
     "text": [
      "\r"
     ]
    },
    {
     "name": "stderr",
     "output_type": "stream",
     "text": [
      "\r\n",
      "Best trial: 10. Best value: 0.864095:  55%|█████▌    | 11/20 [01:37<01:41, 11.24s/it]"
     ]
    },
    {
     "name": "stderr",
     "output_type": "stream",
     "text": [
      "\r\n",
      "Best trial: 10. Best value: 0.864095:  55%|█████▌    | 11/20 [01:37<01:41, 11.24s/it]"
     ]
    },
    {
     "name": "stderr",
     "output_type": "stream",
     "text": [
      "\r\n",
      "Best trial: 10. Best value: 0.864095:  60%|██████    | 12/20 [01:37<02:01, 15.20s/it]"
     ]
    },
    {
     "name": "stdout",
     "output_type": "stream",
     "text": [
      "[I 2025-10-16 23:55:26,705] Trial 11 finished with value: 0.8640946982495734 and parameters: {'n_estimators': 800, 'max_depth': 16, 'min_samples_split': 5, 'min_samples_leaf': 1, 'max_features': 'sqrt'}. Best is trial 10 with value: 0.8640946982495734.\n"
     ]
    },
    {
     "name": "stderr",
     "output_type": "stream",
     "text": [
      "\r\n",
      "                                                                                     "
     ]
    },
    {
     "name": "stderr",
     "output_type": "stream",
     "text": [
      "\r"
     ]
    },
    {
     "name": "stderr",
     "output_type": "stream",
     "text": [
      "\r\n",
      "Best trial: 10. Best value: 0.864095:  60%|██████    | 12/20 [02:01<02:01, 15.20s/it]"
     ]
    },
    {
     "name": "stderr",
     "output_type": "stream",
     "text": [
      "\r\n",
      "Best trial: 10. Best value: 0.864095:  60%|██████    | 12/20 [02:01<02:01, 15.20s/it]"
     ]
    },
    {
     "name": "stderr",
     "output_type": "stream",
     "text": [
      "\r\n",
      "Best trial: 10. Best value: 0.864095:  65%|██████▌   | 13/20 [02:01<02:05, 17.88s/it]"
     ]
    },
    {
     "name": "stdout",
     "output_type": "stream",
     "text": [
      "[I 2025-10-16 23:55:50,757] Trial 12 finished with value: 0.8640946982495734 and parameters: {'n_estimators': 800, 'max_depth': 16, 'min_samples_split': 5, 'min_samples_leaf': 1, 'max_features': 'sqrt'}. Best is trial 10 with value: 0.8640946982495734.\n"
     ]
    },
    {
     "name": "stderr",
     "output_type": "stream",
     "text": [
      "\r\n",
      "                                                                                     "
     ]
    },
    {
     "name": "stderr",
     "output_type": "stream",
     "text": [
      "\r"
     ]
    },
    {
     "name": "stderr",
     "output_type": "stream",
     "text": [
      "\r\n",
      "Best trial: 10. Best value: 0.864095:  65%|██████▌   | 13/20 [02:25<02:05, 17.88s/it]"
     ]
    },
    {
     "name": "stderr",
     "output_type": "stream",
     "text": [
      "\r\n",
      "Best trial: 10. Best value: 0.864095:  65%|██████▌   | 13/20 [02:25<02:05, 17.88s/it]"
     ]
    },
    {
     "name": "stderr",
     "output_type": "stream",
     "text": [
      "\r\n",
      "Best trial: 10. Best value: 0.864095:  70%|███████   | 14/20 [02:25<01:57, 19.64s/it]"
     ]
    },
    {
     "name": "stdout",
     "output_type": "stream",
     "text": [
      "[I 2025-10-16 23:56:14,457] Trial 13 finished with value: 0.8638584161582417 and parameters: {'n_estimators': 800, 'max_depth': 15, 'min_samples_split': 5, 'min_samples_leaf': 1, 'max_features': 'sqrt'}. Best is trial 10 with value: 0.8640946982495734.\n"
     ]
    },
    {
     "name": "stderr",
     "output_type": "stream",
     "text": [
      "\r\n",
      "                                                                                     "
     ]
    },
    {
     "name": "stderr",
     "output_type": "stream",
     "text": [
      "\r"
     ]
    },
    {
     "name": "stderr",
     "output_type": "stream",
     "text": [
      "\r\n",
      "Best trial: 10. Best value: 0.864095:  70%|███████   | 14/20 [02:44<01:57, 19.64s/it]"
     ]
    },
    {
     "name": "stderr",
     "output_type": "stream",
     "text": [
      "\r\n",
      "Best trial: 14. Best value: 0.864209:  70%|███████   | 14/20 [02:44<01:57, 19.64s/it]"
     ]
    },
    {
     "name": "stderr",
     "output_type": "stream",
     "text": [
      "\r\n",
      "Best trial: 14. Best value: 0.864209:  75%|███████▌  | 15/20 [02:44<01:37, 19.47s/it]"
     ]
    },
    {
     "name": "stdout",
     "output_type": "stream",
     "text": [
      "[I 2025-10-16 23:56:33,528] Trial 14 finished with value: 0.8642093860437638 and parameters: {'n_estimators': 600, 'max_depth': 16, 'min_samples_split': 5, 'min_samples_leaf': 1, 'max_features': 'sqrt'}. Best is trial 14 with value: 0.8642093860437638.\n"
     ]
    },
    {
     "name": "stderr",
     "output_type": "stream",
     "text": [
      "\r\n",
      "                                                                                     "
     ]
    },
    {
     "name": "stderr",
     "output_type": "stream",
     "text": [
      "\r"
     ]
    },
    {
     "name": "stderr",
     "output_type": "stream",
     "text": [
      "\r\n",
      "Best trial: 14. Best value: 0.864209:  75%|███████▌  | 15/20 [03:01<01:37, 19.47s/it]"
     ]
    },
    {
     "name": "stderr",
     "output_type": "stream",
     "text": [
      "\r\n",
      "Best trial: 14. Best value: 0.864209:  75%|███████▌  | 15/20 [03:01<01:37, 19.47s/it]"
     ]
    },
    {
     "name": "stderr",
     "output_type": "stream",
     "text": [
      "\r\n",
      "Best trial: 14. Best value: 0.864209:  80%|████████  | 16/20 [03:01<01:15, 18.80s/it]"
     ]
    },
    {
     "name": "stdout",
     "output_type": "stream",
     "text": [
      "[I 2025-10-16 23:56:50,761] Trial 15 finished with value: 0.8621482597737643 and parameters: {'n_estimators': 600, 'max_depth': 14, 'min_samples_split': 6, 'min_samples_leaf': 3, 'max_features': 'sqrt'}. Best is trial 14 with value: 0.8642093860437638.\n"
     ]
    },
    {
     "name": "stderr",
     "output_type": "stream",
     "text": [
      "\r\n",
      "                                                                                     "
     ]
    },
    {
     "name": "stderr",
     "output_type": "stream",
     "text": [
      "\r"
     ]
    },
    {
     "name": "stderr",
     "output_type": "stream",
     "text": [
      "\r\n",
      "Best trial: 14. Best value: 0.864209:  80%|████████  | 16/20 [03:20<01:15, 18.80s/it]"
     ]
    },
    {
     "name": "stderr",
     "output_type": "stream",
     "text": [
      "\r\n",
      "Best trial: 14. Best value: 0.864209:  80%|████████  | 16/20 [03:20<01:15, 18.80s/it]"
     ]
    },
    {
     "name": "stderr",
     "output_type": "stream",
     "text": [
      "\r\n",
      "Best trial: 14. Best value: 0.864209:  85%|████████▌ | 17/20 [03:20<00:56, 18.81s/it]"
     ]
    },
    {
     "name": "stdout",
     "output_type": "stream",
     "text": [
      "[I 2025-10-16 23:57:09,599] Trial 16 finished with value: 0.8642093860437638 and parameters: {'n_estimators': 600, 'max_depth': 16, 'min_samples_split': 5, 'min_samples_leaf': 1, 'max_features': 'sqrt'}. Best is trial 14 with value: 0.8642093860437638.\n"
     ]
    },
    {
     "name": "stderr",
     "output_type": "stream",
     "text": [
      "\r\n",
      "                                                                                     "
     ]
    },
    {
     "name": "stderr",
     "output_type": "stream",
     "text": [
      "\r"
     ]
    },
    {
     "name": "stderr",
     "output_type": "stream",
     "text": [
      "\r\n",
      "Best trial: 14. Best value: 0.864209:  85%|████████▌ | 17/20 [03:37<00:56, 18.81s/it]"
     ]
    },
    {
     "name": "stderr",
     "output_type": "stream",
     "text": [
      "\r\n",
      "Best trial: 14. Best value: 0.864209:  85%|████████▌ | 17/20 [03:37<00:56, 18.81s/it]"
     ]
    },
    {
     "name": "stderr",
     "output_type": "stream",
     "text": [
      "\r\n",
      "Best trial: 14. Best value: 0.864209:  90%|█████████ | 18/20 [03:37<00:36, 18.37s/it]"
     ]
    },
    {
     "name": "stdout",
     "output_type": "stream",
     "text": [
      "[I 2025-10-16 23:57:26,940] Trial 17 finished with value: 0.8611086982623238 and parameters: {'n_estimators': 600, 'max_depth': 14, 'min_samples_split': 4, 'min_samples_leaf': 1, 'max_features': 'sqrt'}. Best is trial 14 with value: 0.8642093860437638.\n"
     ]
    },
    {
     "name": "stderr",
     "output_type": "stream",
     "text": [
      "\r\n",
      "                                                                                     "
     ]
    },
    {
     "name": "stderr",
     "output_type": "stream",
     "text": [
      "\r"
     ]
    },
    {
     "name": "stderr",
     "output_type": "stream",
     "text": [
      "\r\n",
      "Best trial: 14. Best value: 0.864209:  90%|█████████ | 18/20 [03:54<00:36, 18.37s/it]"
     ]
    },
    {
     "name": "stderr",
     "output_type": "stream",
     "text": [
      "\r\n",
      "Best trial: 14. Best value: 0.864209:  90%|█████████ | 18/20 [03:54<00:36, 18.37s/it]"
     ]
    },
    {
     "name": "stderr",
     "output_type": "stream",
     "text": [
      "\r\n",
      "Best trial: 14. Best value: 0.864209:  95%|█████████▌| 19/20 [03:54<00:17, 17.96s/it]"
     ]
    },
    {
     "name": "stdout",
     "output_type": "stream",
     "text": [
      "[I 2025-10-16 23:57:43,958] Trial 18 finished with value: 0.8621482597737643 and parameters: {'n_estimators': 600, 'max_depth': 14, 'min_samples_split': 6, 'min_samples_leaf': 3, 'max_features': 'sqrt'}. Best is trial 14 with value: 0.8642093860437638.\n"
     ]
    },
    {
     "name": "stderr",
     "output_type": "stream",
     "text": [
      "\r\n",
      "                                                                                     "
     ]
    },
    {
     "name": "stderr",
     "output_type": "stream",
     "text": [
      "\r"
     ]
    },
    {
     "name": "stderr",
     "output_type": "stream",
     "text": [
      "\r\n",
      "Best trial: 14. Best value: 0.864209:  95%|█████████▌| 19/20 [04:05<00:17, 17.96s/it]"
     ]
    },
    {
     "name": "stderr",
     "output_type": "stream",
     "text": [
      "\r\n",
      "Best trial: 14. Best value: 0.864209:  95%|█████████▌| 19/20 [04:05<00:17, 17.96s/it]"
     ]
    },
    {
     "name": "stderr",
     "output_type": "stream",
     "text": [
      "\r\n",
      "Best trial: 14. Best value: 0.864209: 100%|██████████| 20/20 [04:05<00:00, 15.67s/it]"
     ]
    },
    {
     "name": "stderr",
     "output_type": "stream",
     "text": [
      "\r\n",
      "Best trial: 14. Best value: 0.864209: 100%|██████████| 20/20 [04:05<00:00, 12.25s/it]"
     ]
    },
    {
     "name": "stderr",
     "output_type": "stream",
     "text": [
      "\n"
     ]
    },
    {
     "name": "stdout",
     "output_type": "stream",
     "text": [
      "[I 2025-10-16 23:57:54,278] Trial 19 finished with value: 0.8586288652509397 and parameters: {'n_estimators': 400, 'max_depth': 12, 'min_samples_split': 5, 'min_samples_leaf': 1, 'max_features': 'sqrt'}. Best is trial 14 with value: 0.8642093860437638.\n",
      "✅ RF best AUC=0.864 | params={'n_estimators': 600, 'max_depth': 16, 'min_samples_split': 5, 'min_samples_leaf': 1, 'max_features': 'sqrt'}\n"
     ]
    },
    {
     "name": "stdout",
     "output_type": "stream",
     "text": [
      "\n",
      "[Responder Class Metrics]\n",
      "Accuracy     : 78.03\n",
      "Precision    : 63.22\n",
      "Recall       : 83.07\n",
      "F1 Score     : 71.79\n",
      "ROC AUC Score: 86.64\n",
      "\n",
      "Classification Report:\n",
      "               precision    recall  f1-score   support\n",
      "\n",
      "Non-responder       0.90      0.75      0.82      6810\n",
      "    Responder       0.63      0.83      0.72      3455\n",
      "\n",
      "     accuracy                           0.78     10265\n",
      "    macro avg       0.76      0.79      0.77     10265\n",
      " weighted avg       0.81      0.78      0.79     10265\n",
      "\n"
     ]
    },
    {
     "data": {
      "image/png": "[encoded data removed]",
      "text/plain": [
       "<Figure size 600x500 with 1 Axes>"
      ]
     },
     "metadata": {},
     "output_type": "display_data"
    }
   ],
   "source": [
    "#  3.3 Run hyperparameter tuning and evaluation for Random Forest (RF)\n",
    "\n",
    "# Step 1: Define and run Optuna study\n",
    "name = \"RF\"\n",
    "study_rf = optuna.create_study(direction=\"maximize\")\n",
    "study_rf.optimize(lambda trial: tune_rf(trial, X_train, X_val, y_train, y_val), n_trials=N_TRIALS, show_progress_bar=True)\n",
    "print(f\"✅ {name} best AUC={study_rf.best_value:.3f} | params={study_rf.best_params}\")\n",
    "\n",
    "\n",
    "# Step 2: Refit model on the full training set by best parameters which obtains by Optuna\n",
    "model_rf = RandomForestClassifier(**study_rf.best_params, random_state=SEED, n_jobs=-1, class_weight={0: 1, 1: w})\n",
    "model_rf.fit(X_train, y_train)\n",
    "\n",
    "# Step 3: Evaluate on test data\n",
    "# Probability predictions for ROC/AUC\n",
    "y_prob_rf = model_lr.predict_proba(X_test)[:, 1]\n",
    "# Binary predictions using default 0.5 threshold\n",
    "y_pred_rf = model_lr.predict(X_test)   \n",
    "\n",
    "# Compute evaluation metrics \n",
    "conf_mat = confusion_matrix(y_test, y_pred_rf)\n",
    "roc = roc_auc_score(y_test, y_prob_rf)\n",
    "precision = precision_score(y_test, y_pred_rf)\n",
    "recall = recall_score(y_test, y_pred_rf)\n",
    "f1 = f1_score(y_test, y_pred_rf)\n",
    "accuracy = accuracy_score(y_test, y_pred_rf)\n",
    "\n",
    "print(f\"\\n[Responder Class Metrics]\")\n",
    "print(f\"Accuracy     : {accuracy * 100:.2f}\")\n",
    "print(f\"Precision    : {precision * 100:.2f}\")\n",
    "print(f\"Recall       : {recall * 100:.2f}\")\n",
    "print(f\"F1 Score     : {f1 * 100:.2f}\")\n",
    "print(f\"ROC AUC Score: {roc * 100:.2f}\")\n",
    "\n",
    "# Classification report\n",
    "print(\"\\nClassification Report:\")\n",
    "print(classification_report(y_test, y_pred_rf, target_names=[\"Non-responder\", \"Responder\"]))\n",
    "\n",
    "#  Step 4: Visualize Confusion Matrix\n",
    "plt.figure(figsize=(6, 5))\n",
    "sns.heatmap(\n",
    "    conf_mat,\n",
    "    annot=True,\n",
    "    fmt='d',\n",
    "    cmap='Blues',\n",
    "    xticklabels=['Non-responder', 'Responder'],\n",
    "    yticklabels=['Non-responder', 'Responder'],\n",
    "    cbar=False,\n",
    "    linewidths=0,\n",
    "    linecolor='white'\n",
    ")\n",
    "plt.title('Confusion Matrix')\n",
    "plt.xlabel('Predicted')\n",
    "plt.ylabel('Actual')\n",
    "plt.show()\n"
   ]
  },
  {
   "cell_type": "code",
   "execution_count": null,
   "id": "300deba1",
   "metadata": {
    "execution": {
     "iopub.execute_input": "2025-10-16T23:58:13.014633Z",
     "iopub.status.busy": "2025-10-16T23:58:13.014190Z",
     "iopub.status.idle": "2025-10-17T00:15:25.136626Z",
     "shell.execute_reply": "2025-10-17T00:15:25.135013Z"
    },
    "papermill": {
     "duration": 1032.180948,
     "end_time": "2025-10-17T00:15:25.172022",
     "exception": false,
     "start_time": "2025-10-16T23:58:12.991074",
     "status": "completed"
    },
    "tags": []
   },
   "outputs": [
    {
     "name": "stderr",
     "output_type": "stream",
     "text": [
      "[I 2025-10-16 23:58:13,019] A new study created in memory with name: no-name-e332d586-f6d1-4b0c-9c66-3186999b14d7\n"
     ]
    },
    {
     "name": "stderr",
     "output_type": "stream",
     "text": [
      "\r\n",
      "  0%|          | 0/20 [00:00<?, ?it/s]"
     ]
    },
    {
     "name": "stderr",
     "output_type": "stream",
     "text": [
      "\r\n",
      "                                      "
     ]
    },
    {
     "name": "stderr",
     "output_type": "stream",
     "text": [
      "\r"
     ]
    },
    {
     "name": "stderr",
     "output_type": "stream",
     "text": [
      "\r\n",
      "  0%|          | 0/20 [00:15<?, ?it/s]"
     ]
    },
    {
     "name": "stderr",
     "output_type": "stream",
     "text": [
      "\r\n",
      "Best trial: 0. Best value: 0.901955:   0%|          | 0/20 [00:15<?, ?it/s]"
     ]
    },
    {
     "name": "stderr",
     "output_type": "stream",
     "text": [
      "\r\n",
      "Best trial: 0. Best value: 0.901955:   5%|▌         | 1/20 [00:15<05:02, 15.90s/it]"
     ]
    },
    {
     "name": "stdout",
     "output_type": "stream",
     "text": [
      "[I 2025-10-16 23:58:28,919] Trial 0 finished with value: 0.9019548192515051 and parameters: {'learning_rate': 0.02734574918429525, 'max_depth': 5, 'subsample': 0.7174281595508009, 'colsample_bytree': 0.9686959846234784, 'n_estimators': 400}. Best is trial 0 with value: 0.9019548192515051.\n"
     ]
    },
    {
     "name": "stderr",
     "output_type": "stream",
     "text": [
      "\r\n",
      "                                                                                   "
     ]
    },
    {
     "name": "stderr",
     "output_type": "stream",
     "text": [
      "\r"
     ]
    },
    {
     "name": "stderr",
     "output_type": "stream",
     "text": [
      "\r\n",
      "Best trial: 0. Best value: 0.901955:   5%|▌         | 1/20 [01:14<05:02, 15.90s/it]"
     ]
    },
    {
     "name": "stderr",
     "output_type": "stream",
     "text": [
      "\r\n",
      "Best trial: 1. Best value: 0.909028:   5%|▌         | 1/20 [01:14<05:02, 15.90s/it]"
     ]
    },
    {
     "name": "stderr",
     "output_type": "stream",
     "text": [
      "\r\n",
      "Best trial: 1. Best value: 0.909028:  10%|█         | 2/20 [01:14<12:17, 40.95s/it]"
     ]
    },
    {
     "name": "stdout",
     "output_type": "stream",
     "text": [
      "[I 2025-10-16 23:59:27,401] Trial 1 finished with value: 0.9090276095424497 and parameters: {'learning_rate': 0.05672882440021502, 'max_depth': 10, 'subsample': 0.8138633801170782, 'colsample_bytree': 0.8426993872349902, 'n_estimators': 600}. Best is trial 1 with value: 0.9090276095424497.\n"
     ]
    },
    {
     "name": "stderr",
     "output_type": "stream",
     "text": [
      "\r\n",
      "                                                                                   "
     ]
    },
    {
     "name": "stderr",
     "output_type": "stream",
     "text": [
      "\r"
     ]
    },
    {
     "name": "stderr",
     "output_type": "stream",
     "text": [
      "\r\n",
      "Best trial: 1. Best value: 0.909028:  10%|█         | 2/20 [01:21<12:17, 40.95s/it]"
     ]
    },
    {
     "name": "stderr",
     "output_type": "stream",
     "text": [
      "\r\n",
      "Best trial: 1. Best value: 0.909028:  10%|█         | 2/20 [01:21<12:17, 40.95s/it]"
     ]
    },
    {
     "name": "stderr",
     "output_type": "stream",
     "text": [
      "\r\n",
      "Best trial: 1. Best value: 0.909028:  15%|█▌        | 3/20 [01:21<07:16, 25.65s/it]"
     ]
    },
    {
     "name": "stdout",
     "output_type": "stream",
     "text": [
      "[I 2025-10-16 23:59:34,847] Trial 2 finished with value: 0.9068129463991619 and parameters: {'learning_rate': 0.183871876610725, 'max_depth': 5, 'subsample': 0.8577892581368849, 'colsample_bytree': 0.9140041961330482, 'n_estimators': 200}. Best is trial 1 with value: 0.9090276095424497.\n"
     ]
    },
    {
     "name": "stderr",
     "output_type": "stream",
     "text": [
      "\r\n",
      "                                                                                   "
     ]
    },
    {
     "name": "stderr",
     "output_type": "stream",
     "text": [
      "\r"
     ]
    },
    {
     "name": "stderr",
     "output_type": "stream",
     "text": [
      "\r\n",
      "Best trial: 1. Best value: 0.909028:  15%|█▌        | 3/20 [02:24<07:16, 25.65s/it]"
     ]
    },
    {
     "name": "stderr",
     "output_type": "stream",
     "text": [
      "\r\n",
      "Best trial: 1. Best value: 0.909028:  15%|█▌        | 3/20 [02:24<07:16, 25.65s/it]"
     ]
    },
    {
     "name": "stderr",
     "output_type": "stream",
     "text": [
      "\r\n",
      "Best trial: 1. Best value: 0.909028:  20%|██        | 4/20 [02:24<10:41, 40.11s/it]"
     ]
    },
    {
     "name": "stdout",
     "output_type": "stream",
     "text": [
      "[I 2025-10-17 00:00:37,118] Trial 3 finished with value: 0.9042630854323789 and parameters: {'learning_rate': 0.24889768431205964, 'max_depth': 10, 'subsample': 0.8865311605877431, 'colsample_bytree': 0.7412366050721823, 'n_estimators': 800}. Best is trial 1 with value: 0.9090276095424497.\n"
     ]
    },
    {
     "name": "stderr",
     "output_type": "stream",
     "text": [
      "\r\n",
      "                                                                                   "
     ]
    },
    {
     "name": "stderr",
     "output_type": "stream",
     "text": [
      "\r"
     ]
    },
    {
     "name": "stderr",
     "output_type": "stream",
     "text": [
      "\r\n",
      "Best trial: 1. Best value: 0.909028:  20%|██        | 4/20 [03:03<10:41, 40.11s/it]"
     ]
    },
    {
     "name": "stderr",
     "output_type": "stream",
     "text": [
      "\r\n",
      "Best trial: 1. Best value: 0.909028:  20%|██        | 4/20 [03:03<10:41, 40.11s/it]"
     ]
    },
    {
     "name": "stderr",
     "output_type": "stream",
     "text": [
      "\r\n",
      "Best trial: 1. Best value: 0.909028:  25%|██▌       | 5/20 [03:03<09:55, 39.72s/it]"
     ]
    },
    {
     "name": "stdout",
     "output_type": "stream",
     "text": [
      "[I 2025-10-17 00:01:16,141] Trial 4 finished with value: 0.9064643008175174 and parameters: {'learning_rate': 0.12485944841411326, 'max_depth': 10, 'subsample': 0.7623329692911361, 'colsample_bytree': 0.9233997662064547, 'n_estimators': 400}. Best is trial 1 with value: 0.9090276095424497.\n"
     ]
    },
    {
     "name": "stderr",
     "output_type": "stream",
     "text": [
      "\r\n",
      "                                                                                   "
     ]
    },
    {
     "name": "stderr",
     "output_type": "stream",
     "text": [
      "\r"
     ]
    },
    {
     "name": "stderr",
     "output_type": "stream",
     "text": [
      "\r\n",
      "Best trial: 1. Best value: 0.909028:  25%|██▌       | 5/20 [03:30<09:55, 39.72s/it]"
     ]
    },
    {
     "name": "stderr",
     "output_type": "stream",
     "text": [
      "\r\n",
      "Best trial: 5. Best value: 0.909676:  25%|██▌       | 5/20 [03:30<09:55, 39.72s/it]"
     ]
    },
    {
     "name": "stderr",
     "output_type": "stream",
     "text": [
      "\r\n",
      "Best trial: 5. Best value: 0.909676:  30%|███       | 6/20 [03:30<08:18, 35.61s/it]"
     ]
    },
    {
     "name": "stdout",
     "output_type": "stream",
     "text": [
      "[I 2025-10-17 00:01:43,796] Trial 5 finished with value: 0.9096762563460137 and parameters: {'learning_rate': 0.046092447474446144, 'max_depth': 4, 'subsample': 0.9532872146036371, 'colsample_bytree': 0.7131793165311264, 'n_estimators': 1000}. Best is trial 5 with value: 0.9096762563460137.\n"
     ]
    },
    {
     "name": "stderr",
     "output_type": "stream",
     "text": [
      "\r\n",
      "                                                                                   "
     ]
    },
    {
     "name": "stderr",
     "output_type": "stream",
     "text": [
      "\r"
     ]
    },
    {
     "name": "stderr",
     "output_type": "stream",
     "text": [
      "\r\n",
      "Best trial: 5. Best value: 0.909676:  30%|███       | 6/20 [03:43<08:18, 35.61s/it]"
     ]
    },
    {
     "name": "stderr",
     "output_type": "stream",
     "text": [
      "\r\n",
      "Best trial: 5. Best value: 0.909676:  30%|███       | 6/20 [03:43<08:18, 35.61s/it]"
     ]
    },
    {
     "name": "stderr",
     "output_type": "stream",
     "text": [
      "\r\n",
      "Best trial: 5. Best value: 0.909676:  35%|███▌      | 7/20 [03:43<06:04, 28.02s/it]"
     ]
    },
    {
     "name": "stdout",
     "output_type": "stream",
     "text": [
      "[I 2025-10-17 00:01:56,178] Trial 6 finished with value: 0.8999304833914541 and parameters: {'learning_rate': 0.03748077798337463, 'max_depth': 4, 'subsample': 0.9873219040950709, 'colsample_bytree': 0.6540683519162354, 'n_estimators': 400}. Best is trial 5 with value: 0.9096762563460137.\n"
     ]
    },
    {
     "name": "stderr",
     "output_type": "stream",
     "text": [
      "\r\n",
      "                                                                                   "
     ]
    },
    {
     "name": "stderr",
     "output_type": "stream",
     "text": [
      "\r"
     ]
    },
    {
     "name": "stderr",
     "output_type": "stream",
     "text": [
      "\r\n",
      "Best trial: 5. Best value: 0.909676:  35%|███▌      | 7/20 [04:09<06:04, 28.02s/it]"
     ]
    },
    {
     "name": "stderr",
     "output_type": "stream",
     "text": [
      "\r\n",
      "Best trial: 5. Best value: 0.909676:  35%|███▌      | 7/20 [04:09<06:04, 28.02s/it]"
     ]
    },
    {
     "name": "stderr",
     "output_type": "stream",
     "text": [
      "\r\n",
      "Best trial: 5. Best value: 0.909676:  40%|████      | 8/20 [04:09<05:29, 27.45s/it]"
     ]
    },
    {
     "name": "stdout",
     "output_type": "stream",
     "text": [
      "[I 2025-10-17 00:02:22,408] Trial 7 finished with value: 0.8942168795994654 and parameters: {'learning_rate': 0.011084953660255045, 'max_depth': 4, 'subsample': 0.692245993236302, 'colsample_bytree': 0.9106649133671669, 'n_estimators': 800}. Best is trial 5 with value: 0.9096762563460137.\n"
     ]
    },
    {
     "name": "stderr",
     "output_type": "stream",
     "text": [
      "\r\n",
      "                                                                                   "
     ]
    },
    {
     "name": "stderr",
     "output_type": "stream",
     "text": [
      "\r"
     ]
    },
    {
     "name": "stderr",
     "output_type": "stream",
     "text": [
      "\r\n",
      "Best trial: 5. Best value: 0.909676:  40%|████      | 8/20 [05:08<05:29, 27.45s/it]"
     ]
    },
    {
     "name": "stderr",
     "output_type": "stream",
     "text": [
      "\r\n",
      "Best trial: 5. Best value: 0.909676:  40%|████      | 8/20 [05:08<05:29, 27.45s/it]"
     ]
    },
    {
     "name": "stderr",
     "output_type": "stream",
     "text": [
      "\r\n",
      "Best trial: 5. Best value: 0.909676:  45%|████▌     | 9/20 [05:08<06:50, 37.34s/it]"
     ]
    },
    {
     "name": "stdout",
     "output_type": "stream",
     "text": [
      "[I 2025-10-17 00:03:21,498] Trial 8 finished with value: 0.9090024406518888 and parameters: {'learning_rate': 0.07410895687701172, 'max_depth': 10, 'subsample': 0.9872103654598892, 'colsample_bytree': 0.9540510426346207, 'n_estimators': 600}. Best is trial 5 with value: 0.9096762563460137.\n"
     ]
    },
    {
     "name": "stderr",
     "output_type": "stream",
     "text": [
      "\r\n",
      "                                                                                   "
     ]
    },
    {
     "name": "stderr",
     "output_type": "stream",
     "text": [
      "\r"
     ]
    },
    {
     "name": "stderr",
     "output_type": "stream",
     "text": [
      "\r\n",
      "Best trial: 5. Best value: 0.909676:  45%|████▌     | 9/20 [07:04<06:50, 37.34s/it]"
     ]
    },
    {
     "name": "stderr",
     "output_type": "stream",
     "text": [
      "\r\n",
      "Best trial: 5. Best value: 0.909676:  45%|████▌     | 9/20 [07:04<06:50, 37.34s/it]"
     ]
    },
    {
     "name": "stderr",
     "output_type": "stream",
     "text": [
      "\r\n",
      "Best trial: 5. Best value: 0.909676:  50%|█████     | 10/20 [07:04<10:15, 61.57s/it]"
     ]
    },
    {
     "name": "stdout",
     "output_type": "stream",
     "text": [
      "[I 2025-10-17 00:05:17,314] Trial 9 finished with value: 0.9088193519150138 and parameters: {'learning_rate': 0.019511360626543104, 'max_depth': 11, 'subsample': 0.7678277033987008, 'colsample_bytree': 0.623656183119659, 'n_estimators': 1000}. Best is trial 5 with value: 0.9096762563460137.\n"
     ]
    },
    {
     "name": "stderr",
     "output_type": "stream",
     "text": [
      "\r\n",
      "                                                                                    "
     ]
    },
    {
     "name": "stderr",
     "output_type": "stream",
     "text": [
      "\r"
     ]
    },
    {
     "name": "stderr",
     "output_type": "stream",
     "text": [
      "\r\n",
      "Best trial: 5. Best value: 0.909676:  50%|█████     | 10/20 [08:00<10:15, 61.57s/it]"
     ]
    },
    {
     "name": "stderr",
     "output_type": "stream",
     "text": [
      "\r\n",
      "Best trial: 5. Best value: 0.909676:  50%|█████     | 10/20 [08:00<10:15, 61.57s/it]"
     ]
    },
    {
     "name": "stderr",
     "output_type": "stream",
     "text": [
      "\r\n",
      "Best trial: 5. Best value: 0.909676:  55%|█████▌    | 11/20 [08:00<08:59, 59.90s/it]"
     ]
    },
    {
     "name": "stdout",
     "output_type": "stream",
     "text": [
      "[I 2025-10-17 00:06:13,418] Trial 10 finished with value: 0.9043347736048333 and parameters: {'learning_rate': 0.08210525214822297, 'max_depth': 7, 'subsample': 0.6365180252414533, 'colsample_bytree': 0.7251828207382728, 'n_estimators': 1000}. Best is trial 5 with value: 0.9096762563460137.\n"
     ]
    },
    {
     "name": "stderr",
     "output_type": "stream",
     "text": [
      "\r\n",
      "                                                                                    "
     ]
    },
    {
     "name": "stderr",
     "output_type": "stream",
     "text": [
      "\r"
     ]
    },
    {
     "name": "stderr",
     "output_type": "stream",
     "text": [
      "\r\n",
      "Best trial: 5. Best value: 0.909676:  55%|█████▌    | 11/20 [08:53<08:59, 59.90s/it]"
     ]
    },
    {
     "name": "stderr",
     "output_type": "stream",
     "text": [
      "\r\n",
      "Best trial: 5. Best value: 0.909676:  55%|█████▌    | 11/20 [08:53<08:59, 59.90s/it]"
     ]
    },
    {
     "name": "stderr",
     "output_type": "stream",
     "text": [
      "\r\n",
      "Best trial: 5. Best value: 0.909676:  60%|██████    | 12/20 [08:53<07:42, 57.80s/it]"
     ]
    },
    {
     "name": "stdout",
     "output_type": "stream",
     "text": [
      "[I 2025-10-17 00:07:06,412] Trial 11 finished with value: 0.9092804938043355 and parameters: {'learning_rate': 0.04657212841176649, 'max_depth': 8, 'subsample': 0.8861745345162307, 'colsample_bytree': 0.8032390972356523, 'n_estimators': 800}. Best is trial 5 with value: 0.9096762563460137.\n"
     ]
    },
    {
     "name": "stderr",
     "output_type": "stream",
     "text": [
      "\r\n",
      "                                                                                    "
     ]
    },
    {
     "name": "stderr",
     "output_type": "stream",
     "text": [
      "\r"
     ]
    },
    {
     "name": "stderr",
     "output_type": "stream",
     "text": [
      "\r\n",
      "Best trial: 5. Best value: 0.909676:  60%|██████    | 12/20 [09:35<07:42, 57.80s/it]"
     ]
    },
    {
     "name": "stderr",
     "output_type": "stream",
     "text": [
      "\r\n",
      "Best trial: 12. Best value: 0.911497:  60%|██████    | 12/20 [09:35<07:42, 57.80s/it]"
     ]
    },
    {
     "name": "stderr",
     "output_type": "stream",
     "text": [
      "\r\n",
      "Best trial: 12. Best value: 0.911497:  65%|██████▌   | 13/20 [09:35<06:10, 52.97s/it]"
     ]
    },
    {
     "name": "stdout",
     "output_type": "stream",
     "text": [
      "[I 2025-10-17 00:07:48,273] Trial 12 finished with value: 0.9114965847342908 and parameters: {'learning_rate': 0.03972163070026863, 'max_depth': 7, 'subsample': 0.9258406760470758, 'colsample_bytree': 0.8010367061000364, 'n_estimators': 800}. Best is trial 12 with value: 0.9114965847342908.\n"
     ]
    },
    {
     "name": "stderr",
     "output_type": "stream",
     "text": [
      "\r\n",
      "                                                                                     "
     ]
    },
    {
     "name": "stderr",
     "output_type": "stream",
     "text": [
      "\r"
     ]
    },
    {
     "name": "stderr",
     "output_type": "stream",
     "text": [
      "\r\n",
      "Best trial: 12. Best value: 0.911497:  65%|██████▌   | 13/20 [10:28<06:10, 52.97s/it]"
     ]
    },
    {
     "name": "stderr",
     "output_type": "stream",
     "text": [
      "\r\n",
      "Best trial: 12. Best value: 0.911497:  65%|██████▌   | 13/20 [10:28<06:10, 52.97s/it]"
     ]
    },
    {
     "name": "stderr",
     "output_type": "stream",
     "text": [
      "\r\n",
      "Best trial: 12. Best value: 0.911497:  70%|███████   | 14/20 [10:28<05:17, 52.93s/it]"
     ]
    },
    {
     "name": "stdout",
     "output_type": "stream",
     "text": [
      "[I 2025-10-17 00:08:41,119] Trial 13 finished with value: 0.9103986167868398 and parameters: {'learning_rate': 0.022644944365961924, 'max_depth': 7, 'subsample': 0.9493553156645426, 'colsample_bytree': 0.732871333063199, 'n_estimators': 1000}. Best is trial 12 with value: 0.9114965847342908.\n"
     ]
    },
    {
     "name": "stderr",
     "output_type": "stream",
     "text": [
      "\r\n",
      "                                                                                     "
     ]
    },
    {
     "name": "stderr",
     "output_type": "stream",
     "text": [
      "\r"
     ]
    },
    {
     "name": "stderr",
     "output_type": "stream",
     "text": [
      "\r\n",
      "Best trial: 12. Best value: 0.911497:  70%|███████   | 14/20 [11:13<05:17, 52.93s/it]"
     ]
    },
    {
     "name": "stderr",
     "output_type": "stream",
     "text": [
      "\r\n",
      "Best trial: 12. Best value: 0.911497:  70%|███████   | 14/20 [11:13<05:17, 52.93s/it]"
     ]
    },
    {
     "name": "stderr",
     "output_type": "stream",
     "text": [
      "\r\n",
      "Best trial: 12. Best value: 0.911497:  75%|███████▌  | 15/20 [11:13<04:13, 50.72s/it]"
     ]
    },
    {
     "name": "stdout",
     "output_type": "stream",
     "text": [
      "[I 2025-10-17 00:09:26,707] Trial 14 finished with value: 0.9084851170174107 and parameters: {'learning_rate': 0.017310324775018957, 'max_depth': 7, 'subsample': 0.9321913573664661, 'colsample_bytree': 0.8365187727652433, 'n_estimators': 800}. Best is trial 12 with value: 0.9114965847342908.\n"
     ]
    },
    {
     "name": "stderr",
     "output_type": "stream",
     "text": [
      "\r\n",
      "                                                                                     "
     ]
    },
    {
     "name": "stderr",
     "output_type": "stream",
     "text": [
      "\r"
     ]
    },
    {
     "name": "stderr",
     "output_type": "stream",
     "text": [
      "\r\n",
      "Best trial: 12. Best value: 0.911497:  75%|███████▌  | 15/20 [12:18<04:13, 50.72s/it]"
     ]
    },
    {
     "name": "stderr",
     "output_type": "stream",
     "text": [
      "\r\n",
      "Best trial: 15. Best value: 0.911751:  75%|███████▌  | 15/20 [12:18<04:13, 50.72s/it]"
     ]
    },
    {
     "name": "stderr",
     "output_type": "stream",
     "text": [
      "\r\n",
      "Best trial: 15. Best value: 0.911751:  80%|████████  | 16/20 [12:18<03:40, 55.02s/it]"
     ]
    },
    {
     "name": "stdout",
     "output_type": "stream",
     "text": [
      "[I 2025-10-17 00:10:31,728] Trial 15 finished with value: 0.9117513616436201 and parameters: {'learning_rate': 0.027269624936440234, 'max_depth': 8, 'subsample': 0.9208789645556855, 'colsample_bytree': 0.7768672342803322, 'n_estimators': 1000}. Best is trial 15 with value: 0.9117513616436201.\n"
     ]
    },
    {
     "name": "stderr",
     "output_type": "stream",
     "text": [
      "\r\n",
      "                                                                                     "
     ]
    },
    {
     "name": "stderr",
     "output_type": "stream",
     "text": [
      "\r"
     ]
    },
    {
     "name": "stderr",
     "output_type": "stream",
     "text": [
      "\r\n",
      "Best trial: 15. Best value: 0.911751:  80%|████████  | 16/20 [13:20<03:40, 55.02s/it]"
     ]
    },
    {
     "name": "stderr",
     "output_type": "stream",
     "text": [
      "\r\n",
      "Best trial: 15. Best value: 0.911751:  80%|████████  | 16/20 [13:20<03:40, 55.02s/it]"
     ]
    },
    {
     "name": "stderr",
     "output_type": "stream",
     "text": [
      "\r\n",
      "Best trial: 15. Best value: 0.911751:  85%|████████▌ | 17/20 [13:20<02:50, 56.93s/it]"
     ]
    },
    {
     "name": "stdout",
     "output_type": "stream",
     "text": [
      "[I 2025-10-17 00:11:33,078] Trial 16 finished with value: 0.9059802811371716 and parameters: {'learning_rate': 0.010003935844968706, 'max_depth': 8, 'subsample': 0.8243510761065526, 'colsample_bytree': 0.7859606726076698, 'n_estimators': 800}. Best is trial 15 with value: 0.9117513616436201.\n"
     ]
    },
    {
     "name": "stderr",
     "output_type": "stream",
     "text": [
      "\r\n",
      "                                                                                     "
     ]
    },
    {
     "name": "stderr",
     "output_type": "stream",
     "text": [
      "\r"
     ]
    },
    {
     "name": "stderr",
     "output_type": "stream",
     "text": [
      "\r\n",
      "Best trial: 15. Best value: 0.911751:  85%|████████▌ | 17/20 [14:24<02:50, 56.93s/it]"
     ]
    },
    {
     "name": "stderr",
     "output_type": "stream",
     "text": [
      "\r\n",
      "Best trial: 15. Best value: 0.911751:  85%|████████▌ | 17/20 [14:24<02:50, 56.93s/it]"
     ]
    },
    {
     "name": "stderr",
     "output_type": "stream",
     "text": [
      "\r\n",
      "Best trial: 15. Best value: 0.911751:  90%|█████████ | 18/20 [14:24<01:58, 59.30s/it]"
     ]
    },
    {
     "name": "stdout",
     "output_type": "stream",
     "text": [
      "[I 2025-10-17 00:12:37,892] Trial 17 finished with value: 0.9111189185585171 and parameters: {'learning_rate': 0.030421282986536353, 'max_depth': 8, 'subsample': 0.9152182121318784, 'colsample_bytree': 0.868584673033935, 'n_estimators': 1000}. Best is trial 15 with value: 0.9117513616436201.\n"
     ]
    },
    {
     "name": "stderr",
     "output_type": "stream",
     "text": [
      "\r\n",
      "                                                                                     "
     ]
    },
    {
     "name": "stderr",
     "output_type": "stream",
     "text": [
      "\r"
     ]
    },
    {
     "name": "stderr",
     "output_type": "stream",
     "text": [
      "\r\n",
      "Best trial: 15. Best value: 0.911751:  90%|█████████ | 18/20 [14:55<01:58, 59.30s/it]"
     ]
    },
    {
     "name": "stderr",
     "output_type": "stream",
     "text": [
      "\r\n",
      "Best trial: 15. Best value: 0.911751:  90%|█████████ | 18/20 [14:55<01:58, 59.30s/it]"
     ]
    },
    {
     "name": "stderr",
     "output_type": "stream",
     "text": [
      "\r\n",
      "Best trial: 15. Best value: 0.911751:  95%|█████████▌| 19/20 [14:55<00:50, 50.57s/it]"
     ]
    },
    {
     "name": "stdout",
     "output_type": "stream",
     "text": [
      "[I 2025-10-17 00:13:08,133] Trial 18 finished with value: 0.9026019054510371 and parameters: {'learning_rate': 0.015251640665680903, 'max_depth': 6, 'subsample': 0.8707454890453974, 'colsample_bytree': 0.7857908822333306, 'n_estimators': 600}. Best is trial 15 with value: 0.9117513616436201.\n"
     ]
    },
    {
     "name": "stderr",
     "output_type": "stream",
     "text": [
      "\r\n",
      "                                                                                     "
     ]
    },
    {
     "name": "stderr",
     "output_type": "stream",
     "text": [
      "\r"
     ]
    },
    {
     "name": "stderr",
     "output_type": "stream",
     "text": [
      "\r\n",
      "Best trial: 15. Best value: 0.911751:  95%|█████████▌| 19/20 [16:05<00:50, 50.57s/it]"
     ]
    },
    {
     "name": "stderr",
     "output_type": "stream",
     "text": [
      "\r\n",
      "Best trial: 15. Best value: 0.911751:  95%|█████████▌| 19/20 [16:05<00:50, 50.57s/it]"
     ]
    },
    {
     "name": "stderr",
     "output_type": "stream",
     "text": [
      "\r\n",
      "Best trial: 15. Best value: 0.911751: 100%|██████████| 20/20 [16:05<00:00, 56.65s/it]"
     ]
    },
    {
     "name": "stderr",
     "output_type": "stream",
     "text": [
      "\r\n",
      "Best trial: 15. Best value: 0.911751: 100%|██████████| 20/20 [16:05<00:00, 48.30s/it]"
     ]
    },
    {
     "name": "stderr",
     "output_type": "stream",
     "text": [
      "\n"
     ]
    },
    {
     "name": "stdout",
     "output_type": "stream",
     "text": [
      "[I 2025-10-17 00:14:18,965] Trial 19 finished with value: 0.9076839958794741 and parameters: {'learning_rate': 0.08601860956681999, 'max_depth': 12, 'subsample': 0.8477603763556827, 'colsample_bytree': 0.6778456061167091, 'n_estimators': 600}. Best is trial 15 with value: 0.9117513616436201.\n",
      "✅ GB best AUC=0.912 | params={'learning_rate': 0.027269624936440234, 'max_depth': 8, 'subsample': 0.9208789645556855, 'colsample_bytree': 0.7768672342803322, 'n_estimators': 1000}\n"
     ]
    },
    {
     "name": "stdout",
     "output_type": "stream",
     "text": [
      "\n",
      "[Responder Class Metrics]\n",
      "Accuracy     : 83.54\n",
      "Precision    : 72.70\n",
      "Recall       : 81.79\n",
      "F1 Score     : 76.98\n",
      "ROC AUC Score: 91.46\n",
      "\n",
      "Classification Report:\n",
      "               precision    recall  f1-score   support\n",
      "\n",
      "Non-responder       0.90      0.84      0.87      6810\n",
      "    Responder       0.73      0.82      0.77      3455\n",
      "\n",
      "     accuracy                           0.84     10265\n",
      "    macro avg       0.81      0.83      0.82     10265\n",
      " weighted avg       0.84      0.84      0.84     10265\n",
      "\n"
     ]
    },
    {
     "data": {
      "image/png": "[encoded data removed]",
      "text/plain": [
       "<Figure size 600x500 with 1 Axes>"
      ]
     },
     "metadata": {},
     "output_type": "display_data"
    }
   ],
   "source": [
    "#  3.4 Run hyperparameter tuning and evaluation for XGBoost (XGB)\n",
    "\n",
    "# Step 1: Define and run Optuna study\n",
    "name = \"GB\"\n",
    "study_gb = optuna.create_study(direction=\"maximize\")\n",
    "study_gb.optimize(lambda trial: tune_xgb(trial, X_train, X_val, y_train, y_val), n_trials=N_TRIALS, show_progress_bar=True)\n",
    "print(f\"✅ {name} best AUC={study_gb.best_value:.3f} | params={study_gb.best_params}\")\n",
    "\n",
    "\n",
    "# Step 2: Refit model on the full training set by best parameters which obtains by Optuna\n",
    "model_gb = xgb.XGBClassifier(**study_gb.best_params, n_jobs=-1, random_state=SEED, verbosity=0, scale_pos_weight=w)\n",
    "model_gb.fit(X_train, y_train)\n",
    "\n",
    "# Step 3: Evaluate on test data\n",
    "# Probability predictions for ROC/AUC\n",
    "y_prob_gb = model_gb.predict_proba(X_test)[:, 1]\n",
    "# Binary predictions using default 0.5 threshold\n",
    "y_pred_gb = model_gb.predict(X_test)\n",
    "\n",
    "# Compute evaluation metrics \n",
    "conf_mat = confusion_matrix(y_test, y_pred_gb)\n",
    "roc = roc_auc_score(y_test, y_prob_gb)\n",
    "precision = precision_score(y_test, y_pred_gb)\n",
    "recall = recall_score(y_test, y_pred_gb)\n",
    "f1 = f1_score(y_test, y_pred_gb)\n",
    "accuracy = accuracy_score(y_test, y_pred_gb)\n",
    "\n",
    "print(f\"\\n[Responder Class Metrics]\")\n",
    "print(f\"Accuracy     : {accuracy * 100:.2f}\")\n",
    "print(f\"Precision    : {precision * 100:.2f}\")\n",
    "print(f\"Recall       : {recall * 100:.2f}\")\n",
    "print(f\"F1 Score     : {f1 * 100:.2f}\")\n",
    "print(f\"ROC AUC Score: {roc * 100:.2f}\")\n",
    "\n",
    "# Classification report\n",
    "print(\"\\nClassification Report:\")\n",
    "print(classification_report(y_test, y_pred_gb, target_names=[\"Non-responder\", \"Responder\"]))\n",
    "\n",
    "#  Step 4: Visualize Confusion Matrix\n",
    "plt.figure(figsize=(6, 5))\n",
    "sns.heatmap(\n",
    "    conf_mat,\n",
    "    annot=True,\n",
    "    fmt='d',\n",
    "    cmap='Blues',\n",
    "    xticklabels=['Non-responder', 'Responder'],\n",
    "    yticklabels=['Non-responder', 'Responder'],\n",
    "    cbar=False,\n",
    "    linewidths=0,\n",
    "    linecolor='white'\n",
    ")\n",
    "plt.title('Confusion Matrix')\n",
    "plt.xlabel('Predicted')\n",
    "plt.ylabel('Actual')\n",
    "plt.show()\n"
   ]
  },
  {
   "cell_type": "code",
   "execution_count": null,
   "id": "34842e56",
   "metadata": {
    "execution": {
     "iopub.execute_input": "2025-10-17T00:15:25.237983Z",
     "iopub.status.busy": "2025-10-17T00:15:25.237608Z",
     "iopub.status.idle": "2025-10-17T00:28:11.019114Z",
     "shell.execute_reply": "2025-10-17T00:28:11.017927Z"
    },
    "papermill": {
     "duration": 765.81529,
     "end_time": "2025-10-17T00:28:11.019837",
     "exception": false,
     "start_time": "2025-10-17T00:15:25.204547",
     "status": "completed"
    },
    "tags": []
   },
   "outputs": [
    {
     "name": "stderr",
     "output_type": "stream",
     "text": [
      "[I 2025-10-17 00:15:25,244] A new study created in memory with name: no-name-8c234ac3-202c-4d52-a0ad-1fe5c37b9754\n"
     ]
    },
    {
     "name": "stderr",
     "output_type": "stream",
     "text": [
      "\r\n",
      "  0%|          | 0/20 [00:00<?, ?it/s]"
     ]
    },
    {
     "name": "stderr",
     "output_type": "stream",
     "text": [
      "2025-10-17 00:15:25.252325: E external/local_xla/xla/stream_executor/cuda/cuda_platform.cc:51] failed call to cuInit: INTERNAL: CUDA error: Failed call to cuInit: UNKNOWN ERROR (303)\n"
     ]
    },
    {
     "name": "stdout",
     "output_type": "stream",
     "text": [
      "\r\n",
      "\u001b[1m  1/257\u001b[0m \u001b[37m━━━━━━━━━━━━━━━━━━━━\u001b[0m \u001b[1m12s\u001b[0m 48ms/step"
     ]
    },
    {
     "name": "stdout",
     "output_type": "stream",
     "text": [
      "\b\b\b\b\b\b\b\b\b\b\b\b\b\b\b\b\b\b\b\b\b\b\b\b\b\b\b\b\b\b\b\b\b\b\b\b\b\b\b\b\b\b\r\n",
      "\u001b[1m 69/257\u001b[0m \u001b[32m━━━━━\u001b[0m\u001b[37m━━━━━━━━━━━━━━━\u001b[0m \u001b[1m0s\u001b[0m 743us/step"
     ]
    },
    {
     "name": "stdout",
     "output_type": "stream",
     "text": [
      "\b\b\b\b\b\b\b\b\b\b\b\b\b\b\b\b\b\b\b\b\b\b\b\b\b\b\b\b\b\b\b\b\b\b\b\b\b\b\b\b\b\b\r\n",
      "\u001b[1m130/257\u001b[0m \u001b[32m━━━━━━━━━━\u001b[0m\u001b[37m━━━━━━━━━━\u001b[0m \u001b[1m0s\u001b[0m 783us/step"
     ]
    },
    {
     "name": "stdout",
     "output_type": "stream",
     "text": [
      "\b\b\b\b\b\b\b\b\b\b\b\b\b\b\b\b\b\b\b\b\b\b\b\b\b\b\b\b\b\b\b\b\b\b\b\b\b\b\b\b\b\b\r\n",
      "\u001b[1m184/257\u001b[0m \u001b[32m━━━━━━━━━━━━━━\u001b[0m\u001b[37m━━━━━━\u001b[0m \u001b[1m0s\u001b[0m 833us/step"
     ]
    },
    {
     "name": "stdout",
     "output_type": "stream",
     "text": [
      "\b\b\b\b\b\b\b\b\b\b\b\b\b\b\b\b\b\b\b\b\b\b\b\b\b\b\b\b\b\b\b\b\b\b\b\b\b\b\b\b\b\b\r\n",
      "\u001b[1m243/257\u001b[0m \u001b[32m━━━━━━━━━━━━━━━━━━\u001b[0m\u001b[37m━━\u001b[0m \u001b[1m0s\u001b[0m 838us/step"
     ]
    },
    {
     "name": "stdout",
     "output_type": "stream",
     "text": [
      "\b\b\b\b\b\b\b\b\b\b\b\b\b\b\b\b\b\b\b\b\b\b\b\b\b\b\b\b\b\b\b\b\b\b\b\b\b\b\b\b\b\b\r\n",
      "\u001b[1m257/257\u001b[0m \u001b[32m━━━━━━━━━━━━━━━━━━━━\u001b[0m\u001b[37m\u001b[0m \u001b[1m0s\u001b[0m 1ms/step  \n"
     ]
    },
    {
     "name": "stderr",
     "output_type": "stream",
     "text": [
      "\r\n",
      "                                      "
     ]
    },
    {
     "name": "stderr",
     "output_type": "stream",
     "text": [
      "\r"
     ]
    },
    {
     "name": "stderr",
     "output_type": "stream",
     "text": [
      "\r\n",
      "  0%|          | 0/20 [00:38<?, ?it/s]"
     ]
    },
    {
     "name": "stderr",
     "output_type": "stream",
     "text": [
      "\r\n",
      "Best trial: 0. Best value: 0.889682:   0%|          | 0/20 [00:38<?, ?it/s]"
     ]
    },
    {
     "name": "stderr",
     "output_type": "stream",
     "text": [
      "\r\n",
      "Best trial: 0. Best value: 0.889682:   5%|▌         | 1/20 [00:38<12:05, 38.19s/it]"
     ]
    },
    {
     "name": "stdout",
     "output_type": "stream",
     "text": [
      "[I 2025-10-17 00:16:03,430] Trial 0 finished with value: 0.8896824615732801 and parameters: {'lr': 0.00028974005733691037, 'dropout': 0.3200964273868872, 'n1': 128, 'n2': 32}. Best is trial 0 with value: 0.8896824615732801.\n"
     ]
    },
    {
     "name": "stdout",
     "output_type": "stream",
     "text": [
      "\r\n",
      "\u001b[1m  1/257\u001b[0m \u001b[37m━━━━━━━━━━━━━━━━━━━━\u001b[0m \u001b[1m11s\u001b[0m 46ms/step"
     ]
    },
    {
     "name": "stdout",
     "output_type": "stream",
     "text": [
      "\b\b\b\b\b\b\b\b\b\b\b\b\b\b\b\b\b\b\b\b\b\b\b\b\b\b\b\b\b\b\b\b\b\b\b\b\b\b\b\b\b\b\r\n",
      "\u001b[1m 71/257\u001b[0m \u001b[32m━━━━━\u001b[0m\u001b[37m━━━━━━━━━━━━━━━\u001b[0m \u001b[1m0s\u001b[0m 719us/step"
     ]
    },
    {
     "name": "stdout",
     "output_type": "stream",
     "text": [
      "\b\b\b\b\b\b\b\b\b\b\b\b\b\b\b\b\b\b\b\b\b\b\b\b\b\b\b\b\b\b\b\b\b\b\b\b\b\b\b\b\b\b\r\n",
      "\u001b[1m132/257\u001b[0m \u001b[32m━━━━━━━━━━\u001b[0m\u001b[37m━━━━━━━━━━\u001b[0m \u001b[1m0s\u001b[0m 768us/step"
     ]
    },
    {
     "name": "stdout",
     "output_type": "stream",
     "text": [
      "\b\b\b\b\b\b\b\b\b\b\b\b\b\b\b\b\b\b\b\b\b\b\b\b\b\b\b\b\b\b\b\b\b\b\b\b\b\b\b\b\b\b\r\n",
      "\u001b[1m192/257\u001b[0m \u001b[32m━━━━━━━━━━━━━━\u001b[0m\u001b[37m━━━━━━\u001b[0m \u001b[1m0s\u001b[0m 791us/step"
     ]
    },
    {
     "name": "stdout",
     "output_type": "stream",
     "text": [
      "\b\b\b\b\b\b\b\b\b\b\b\b\b\b\b\b\b\b\b\b\b\b\b\b\b\b\b\b\b\b\b\b\b\b\b\b\b\b\b\b\b\b\r\n",
      "\u001b[1m250/257\u001b[0m \u001b[32m━━━━━━━━━━━━━━━━━━━\u001b[0m\u001b[37m━\u001b[0m \u001b[1m0s\u001b[0m 810us/step"
     ]
    },
    {
     "name": "stdout",
     "output_type": "stream",
     "text": [
      "\b\b\b\b\b\b\b\b\b\b\b\b\b\b\b\b\b\b\b\b\b\b\b\b\b\b\b\b\b\b\b\b\b\b\b\b\b\b\b\b\b\b\r\n",
      "\u001b[1m257/257\u001b[0m \u001b[32m━━━━━━━━━━━━━━━━━━━━\u001b[0m\u001b[37m\u001b[0m \u001b[1m0s\u001b[0m 1000us/step\n"
     ]
    },
    {
     "name": "stderr",
     "output_type": "stream",
     "text": [
      "\r\n",
      "                                                                                   "
     ]
    },
    {
     "name": "stderr",
     "output_type": "stream",
     "text": [
      "\r"
     ]
    },
    {
     "name": "stderr",
     "output_type": "stream",
     "text": [
      "\r\n",
      "Best trial: 0. Best value: 0.889682:   5%|▌         | 1/20 [01:09<12:05, 38.19s/it]"
     ]
    },
    {
     "name": "stderr",
     "output_type": "stream",
     "text": [
      "\r\n",
      "Best trial: 1. Best value: 0.892867:   5%|▌         | 1/20 [01:09<12:05, 38.19s/it]"
     ]
    },
    {
     "name": "stderr",
     "output_type": "stream",
     "text": [
      "\r\n",
      "Best trial: 1. Best value: 0.892867:  10%|█         | 2/20 [01:09<10:12, 34.02s/it]"
     ]
    },
    {
     "name": "stdout",
     "output_type": "stream",
     "text": [
      "[I 2025-10-17 00:16:34,527] Trial 1 finished with value: 0.8928668242943147 and parameters: {'lr': 0.0004942423642753127, 'dropout': 0.35435369849229487, 'n1': 64, 'n2': 16}. Best is trial 1 with value: 0.8928668242943147.\n"
     ]
    },
    {
     "name": "stdout",
     "output_type": "stream",
     "text": [
      "\r\n",
      "\u001b[1m  1/257\u001b[0m \u001b[37m━━━━━━━━━━━━━━━━━━━━\u001b[0m \u001b[1m11s\u001b[0m 45ms/step"
     ]
    },
    {
     "name": "stdout",
     "output_type": "stream",
     "text": [
      "\b\b\b\b\b\b\b\b\b\b\b\b\b\b\b\b\b\b\b\b\b\b\b\b\b\b\b\b\b\b\b\b\b\b\b\b\b\b\b\b\b\b\r\n",
      "\u001b[1m 64/257\u001b[0m \u001b[32m━━━━\u001b[0m\u001b[37m━━━━━━━━━━━━━━━━\u001b[0m \u001b[1m0s\u001b[0m 797us/step"
     ]
    },
    {
     "name": "stdout",
     "output_type": "stream",
     "text": [
      "\b\b\b\b\b\b\b\b\b\b\b\b\b\b\b\b\b\b\b\b\b\b\b\b\b\b\b\b\b\b\b\b\b\b\b\b\b\b\b\b\b\b\r\n",
      "\u001b[1m136/257\u001b[0m \u001b[32m━━━━━━━━━━\u001b[0m\u001b[37m━━━━━━━━━━\u001b[0m \u001b[1m0s\u001b[0m 745us/step"
     ]
    },
    {
     "name": "stdout",
     "output_type": "stream",
     "text": [
      "\b\b\b\b\b\b\b\b\b\b\b\b\b\b\b\b\b\b\b\b\b\b\b\b\b\b\b\b\b\b\b\b\b\b\b\b\b\b\b\b\b\b\r\n",
      "\u001b[1m208/257\u001b[0m \u001b[32m━━━━━━━━━━━━━━━━\u001b[0m\u001b[37m━━━━\u001b[0m \u001b[1m0s\u001b[0m 728us/step"
     ]
    },
    {
     "name": "stdout",
     "output_type": "stream",
     "text": [
      "\b\b\b\b\b\b\b\b\b\b\b\b\b\b\b\b\b\b\b\b\b\b\b\b\b\b\b\b\b\b\b\b\b\b\b\b\b\b\b\b\b\b\r\n",
      "\u001b[1m257/257\u001b[0m \u001b[32m━━━━━━━━━━━━━━━━━━━━\u001b[0m\u001b[37m\u001b[0m \u001b[1m0s\u001b[0m 859us/step"
     ]
    },
    {
     "name": "stdout",
     "output_type": "stream",
     "text": [
      "\b\b\b\b\b\b\b\b\b\b\b\b\b\b\b\b\b\b\b\b\b\b\b\b\b\b\b\b\b\b\b\b\b\b\b\b\b\b\b\b\b\b\r\n",
      "\u001b[1m257/257\u001b[0m \u001b[32m━━━━━━━━━━━━━━━━━━━━\u001b[0m\u001b[37m\u001b[0m \u001b[1m0s\u001b[0m 923us/step\n"
     ]
    },
    {
     "name": "stderr",
     "output_type": "stream",
     "text": [
      "\r\n",
      "                                                                                   "
     ]
    },
    {
     "name": "stderr",
     "output_type": "stream",
     "text": [
      "\r"
     ]
    },
    {
     "name": "stderr",
     "output_type": "stream",
     "text": [
      "\r\n",
      "Best trial: 1. Best value: 0.892867:  10%|█         | 2/20 [01:34<10:12, 34.02s/it]"
     ]
    },
    {
     "name": "stderr",
     "output_type": "stream",
     "text": [
      "\r\n",
      "Best trial: 1. Best value: 0.892867:  10%|█         | 2/20 [01:34<10:12, 34.02s/it]"
     ]
    },
    {
     "name": "stderr",
     "output_type": "stream",
     "text": [
      "\r\n",
      "Best trial: 1. Best value: 0.892867:  15%|█▌        | 3/20 [01:34<08:28, 29.91s/it]"
     ]
    },
    {
     "name": "stdout",
     "output_type": "stream",
     "text": [
      "[I 2025-10-17 00:16:59,561] Trial 2 finished with value: 0.889334812121869 and parameters: {'lr': 0.001256264129370236, 'dropout': 0.5363781143728116, 'n1': 64, 'n2': 48}. Best is trial 1 with value: 0.8928668242943147.\n"
     ]
    },
    {
     "name": "stdout",
     "output_type": "stream",
     "text": [
      "\r\n",
      "\u001b[1m  1/257\u001b[0m \u001b[37m━━━━━━━━━━━━━━━━━━━━\u001b[0m \u001b[1m12s\u001b[0m 50ms/step"
     ]
    },
    {
     "name": "stdout",
     "output_type": "stream",
     "text": [
      "\b\b\b\b\b\b\b\b\b\b\b\b\b\b\b\b\b\b\b\b\b\b\b\b\b\b\b\b\b\b\b\b\b\b\b\b\b\b\b\b\b\b\r\n",
      "\u001b[1m 65/257\u001b[0m \u001b[32m━━━━━\u001b[0m\u001b[37m━━━━━━━━━━━━━━━\u001b[0m \u001b[1m0s\u001b[0m 791us/step"
     ]
    },
    {
     "name": "stdout",
     "output_type": "stream",
     "text": [
      "\b\b\b\b\b\b\b\b\b\b\b\b\b\b\b\b\b\b\b\b\b\b\b\b\b\b\b\b\b\b\b\b\b\b\b\b\b\b\b\b\b\b\r\n",
      "\u001b[1m131/257\u001b[0m \u001b[32m━━━━━━━━━━\u001b[0m\u001b[37m━━━━━━━━━━\u001b[0m \u001b[1m0s\u001b[0m 778us/step"
     ]
    },
    {
     "name": "stdout",
     "output_type": "stream",
     "text": [
      "\b\b\b\b\b\b\b\b\b\b\b\b\b\b\b\b\b\b\b\b\b\b\b\b\b\b\b\b\b\b\b\b\b\b\b\b\b\b\b\b\b\b\r\n",
      "\u001b[1m201/257\u001b[0m \u001b[32m━━━━━━━━━━━━━━━\u001b[0m\u001b[37m━━━━━\u001b[0m \u001b[1m0s\u001b[0m 757us/step"
     ]
    },
    {
     "name": "stdout",
     "output_type": "stream",
     "text": [
      "\b\b\b\b\b\b\b\b\b\b\b\b\b\b\b\b\b\b\b\b\b\b\b\b\b\b\b\b\b\b\b\b\b\b\b\b\b\b\b\b\b\b\r\n",
      "\u001b[1m257/257\u001b[0m \u001b[32m━━━━━━━━━━━━━━━━━━━━\u001b[0m\u001b[37m\u001b[0m \u001b[1m0s\u001b[0m 877us/step"
     ]
    },
    {
     "name": "stdout",
     "output_type": "stream",
     "text": [
      "\b\b\b\b\b\b\b\b\b\b\b\b\b\b\b\b\b\b\b\b\b\b\b\b\b\b\b\b\b\b\b\b\b\b\b\b\b\b\b\b\b\b\r\n",
      "\u001b[1m257/257\u001b[0m \u001b[32m━━━━━━━━━━━━━━━━━━━━\u001b[0m\u001b[37m\u001b[0m \u001b[1m0s\u001b[0m 936us/step\n"
     ]
    },
    {
     "name": "stderr",
     "output_type": "stream",
     "text": [
      "\r\n",
      "                                                                                   "
     ]
    },
    {
     "name": "stderr",
     "output_type": "stream",
     "text": [
      "\r"
     ]
    },
    {
     "name": "stderr",
     "output_type": "stream",
     "text": [
      "\r\n",
      "Best trial: 1. Best value: 0.892867:  15%|█▌        | 3/20 [02:07<08:28, 29.91s/it]"
     ]
    },
    {
     "name": "stderr",
     "output_type": "stream",
     "text": [
      "\r\n",
      "Best trial: 1. Best value: 0.892867:  15%|█▌        | 3/20 [02:07<08:28, 29.91s/it]"
     ]
    },
    {
     "name": "stderr",
     "output_type": "stream",
     "text": [
      "\r\n",
      "Best trial: 1. Best value: 0.892867:  20%|██        | 4/20 [02:07<08:17, 31.08s/it]"
     ]
    },
    {
     "name": "stdout",
     "output_type": "stream",
     "text": [
      "[I 2025-10-17 00:17:32,423] Trial 3 finished with value: 0.8866758416902019 and parameters: {'lr': 0.005749469158431576, 'dropout': 0.39700120970621466, 'n1': 32, 'n2': 48}. Best is trial 1 with value: 0.8928668242943147.\n"
     ]
    },
    {
     "name": "stdout",
     "output_type": "stream",
     "text": [
      "\r\n",
      "\u001b[1m  1/257\u001b[0m \u001b[37m━━━━━━━━━━━━━━━━━━━━\u001b[0m \u001b[1m12s\u001b[0m 50ms/step"
     ]
    },
    {
     "name": "stdout",
     "output_type": "stream",
     "text": [
      "\b\b\b\b\b\b\b\b\b\b\b\b\b\b\b\b\b\b\b\b\b\b\b\b\b\b\b\b\b\b\b\b\b\b\b\b\b\b\b\b\b\b\r\n",
      "\u001b[1m 59/257\u001b[0m \u001b[32m━━━━\u001b[0m\u001b[37m━━━━━━━━━━━━━━━━\u001b[0m \u001b[1m0s\u001b[0m 872us/step"
     ]
    },
    {
     "name": "stdout",
     "output_type": "stream",
     "text": [
      "\b\b\b\b\b\b\b\b\b\b\b\b\b\b\b\b\b\b\b\b\b\b\b\b\b\b\b\b\b\b\b\b\b\b\b\b\b\b\b\b\b\b\r\n",
      "\u001b[1m122/257\u001b[0m \u001b[32m━━━━━━━━━\u001b[0m\u001b[37m━━━━━━━━━━━\u001b[0m \u001b[1m0s\u001b[0m 846us/step"
     ]
    },
    {
     "name": "stdout",
     "output_type": "stream",
     "text": [
      "\b\b\b\b\b\b\b\b\b\b\b\b\b\b\b\b\b\b\b\b\b\b\b\b\b\b\b\b\b\b\b\b\b\b\b\b\b\b\b\b\b\b\r\n",
      "\u001b[1m189/257\u001b[0m \u001b[32m━━━━━━━━━━━━━━\u001b[0m\u001b[37m━━━━━━\u001b[0m \u001b[1m0s\u001b[0m 811us/step"
     ]
    },
    {
     "name": "stdout",
     "output_type": "stream",
     "text": [
      "\b\b\b\b\b\b\b\b\b\b\b\b\b\b\b\b\b\b\b\b\b\b\b\b\b\b\b\b\b\b\b\b\b\b\b\b\b\b\b\b\b\b\r\n",
      "\u001b[1m245/257\u001b[0m \u001b[32m━━━━━━━━━━━━━━━━━━━\u001b[0m\u001b[37m━\u001b[0m \u001b[1m0s\u001b[0m 832us/step"
     ]
    },
    {
     "name": "stdout",
     "output_type": "stream",
     "text": [
      "\b\b\b\b\b\b\b\b\b\b\b\b\b\b\b\b\b\b\b\b\b\b\b\b\b\b\b\b\b\b\b\b\b\b\b\b\b\b\b\b\b\b\r\n",
      "\u001b[1m257/257\u001b[0m \u001b[32m━━━━━━━━━━━━━━━━━━━━\u001b[0m\u001b[37m\u001b[0m \u001b[1m0s\u001b[0m 1ms/step  \n"
     ]
    },
    {
     "name": "stderr",
     "output_type": "stream",
     "text": [
      "\r\n",
      "                                                                                   "
     ]
    },
    {
     "name": "stderr",
     "output_type": "stream",
     "text": [
      "\r"
     ]
    },
    {
     "name": "stderr",
     "output_type": "stream",
     "text": [
      "\r\n",
      "Best trial: 1. Best value: 0.892867:  20%|██        | 4/20 [02:39<08:17, 31.08s/it]"
     ]
    },
    {
     "name": "stderr",
     "output_type": "stream",
     "text": [
      "\r\n",
      "Best trial: 1. Best value: 0.892867:  20%|██        | 4/20 [02:39<08:17, 31.08s/it]"
     ]
    },
    {
     "name": "stderr",
     "output_type": "stream",
     "text": [
      "\r\n",
      "Best trial: 1. Best value: 0.892867:  25%|██▌       | 5/20 [02:39<07:54, 31.63s/it]"
     ]
    },
    {
     "name": "stdout",
     "output_type": "stream",
     "text": [
      "[I 2025-10-17 00:18:05,024] Trial 4 finished with value: 0.8898908852224212 and parameters: {'lr': 0.004230780408173691, 'dropout': 0.33987854403252593, 'n1': 64, 'n2': 64}. Best is trial 1 with value: 0.8928668242943147.\n"
     ]
    },
    {
     "name": "stdout",
     "output_type": "stream",
     "text": [
      "\r\n",
      "\u001b[1m  1/257\u001b[0m \u001b[37m━━━━━━━━━━━━━━━━━━━━\u001b[0m \u001b[1m13s\u001b[0m 54ms/step"
     ]
    },
    {
     "name": "stdout",
     "output_type": "stream",
     "text": [
      "\b\b\b\b\b\b\b\b\b\b\b\b\b\b\b\b\b\b\b\b\b\b\b\b\b\b\b\b\b\b\b\b\b\b\b\b\b\b\b\b\b\b\r\n",
      "\u001b[1m 66/257\u001b[0m \u001b[32m━━━━━\u001b[0m\u001b[37m━━━━━━━━━━━━━━━\u001b[0m \u001b[1m0s\u001b[0m 771us/step"
     ]
    },
    {
     "name": "stdout",
     "output_type": "stream",
     "text": [
      "\b\b\b\b\b\b\b\b\b\b\b\b\b\b\b\b\b\b\b\b\b\b\b\b\b\b\b\b\b\b\b\b\b\b\b\b\b\b\b\b\b\b\r\n",
      "\u001b[1m127/257\u001b[0m \u001b[32m━━━━━━━━━\u001b[0m\u001b[37m━━━━━━━━━━━\u001b[0m \u001b[1m0s\u001b[0m 795us/step"
     ]
    },
    {
     "name": "stdout",
     "output_type": "stream",
     "text": [
      "\b\b\b\b\b\b\b\b\b\b\b\b\b\b\b\b\b\b\b\b\b\b\b\b\b\b\b\b\b\b\b\b\b\b\b\b\b\b\b\b\b\b\r\n",
      "\u001b[1m186/257\u001b[0m \u001b[32m━━━━━━━━━━━━━━\u001b[0m\u001b[37m━━━━━━\u001b[0m \u001b[1m0s\u001b[0m 813us/step"
     ]
    },
    {
     "name": "stdout",
     "output_type": "stream",
     "text": [
      "\b\b\b\b\b\b\b\b\b\b\b\b\b\b\b\b\b\b\b\b\b\b\b\b\b\b\b\b\b\b\b\b\b\b\b\b\b\b\b\b\b\b\r\n",
      "\u001b[1m248/257\u001b[0m \u001b[32m━━━━━━━━━━━━━━━━━━━\u001b[0m\u001b[37m━\u001b[0m \u001b[1m0s\u001b[0m 814us/step"
     ]
    },
    {
     "name": "stdout",
     "output_type": "stream",
     "text": [
      "\b\b\b\b\b\b\b\b\b\b\b\b\b\b\b\b\b\b\b\b\b\b\b\b\b\b\b\b\b\b\b\b\b\b\b\b\b\b\b\b\b\b\r\n",
      "\u001b[1m257/257\u001b[0m \u001b[32m━━━━━━━━━━━━━━━━━━━━\u001b[0m\u001b[37m\u001b[0m \u001b[1m0s\u001b[0m 983us/step\n"
     ]
    },
    {
     "name": "stderr",
     "output_type": "stream",
     "text": [
      "\r\n",
      "                                                                                   "
     ]
    },
    {
     "name": "stderr",
     "output_type": "stream",
     "text": [
      "\r"
     ]
    },
    {
     "name": "stderr",
     "output_type": "stream",
     "text": [
      "\r\n",
      "Best trial: 1. Best value: 0.892867:  25%|██▌       | 5/20 [03:31<07:54, 31.63s/it]"
     ]
    },
    {
     "name": "stderr",
     "output_type": "stream",
     "text": [
      "\r\n",
      "Best trial: 1. Best value: 0.892867:  25%|██▌       | 5/20 [03:31<07:54, 31.63s/it]"
     ]
    },
    {
     "name": "stderr",
     "output_type": "stream",
     "text": [
      "\r\n",
      "Best trial: 1. Best value: 0.892867:  30%|███       | 6/20 [03:31<08:58, 38.47s/it]"
     ]
    },
    {
     "name": "stdout",
     "output_type": "stream",
     "text": [
      "[I 2025-10-17 00:18:56,769] Trial 5 finished with value: 0.891474931519367 and parameters: {'lr': 0.00013736799102073076, 'dropout': 0.49638055619266597, 'n1': 64, 'n2': 64}. Best is trial 1 with value: 0.8928668242943147.\n"
     ]
    },
    {
     "name": "stdout",
     "output_type": "stream",
     "text": [
      "\r\n",
      "\u001b[1m  1/257\u001b[0m \u001b[37m━━━━━━━━━━━━━━━━━━━━\u001b[0m \u001b[1m12s\u001b[0m 49ms/step"
     ]
    },
    {
     "name": "stdout",
     "output_type": "stream",
     "text": [
      "\b\b\b\b\b\b\b\b\b\b\b\b\b\b\b\b\b\b\b\b\b\b\b\b\b\b\b\b\b\b\b\b\b\b\b\b\b\b\b\b\b\b\r\n",
      "\u001b[1m 64/257\u001b[0m \u001b[32m━━━━\u001b[0m\u001b[37m━━━━━━━━━━━━━━━━\u001b[0m \u001b[1m0s\u001b[0m 794us/step"
     ]
    },
    {
     "name": "stdout",
     "output_type": "stream",
     "text": [
      "\b\b\b\b\b\b\b\b\b\b\b\b\b\b\b\b\b\b\b\b\b\b\b\b\b\b\b\b\b\b\b\b\b\b\b\b\b\b\b\b\b\b\r\n",
      "\u001b[1m128/257\u001b[0m \u001b[32m━━━━━━━━━\u001b[0m\u001b[37m━━━━━━━━━━━\u001b[0m \u001b[1m0s\u001b[0m 791us/step"
     ]
    },
    {
     "name": "stdout",
     "output_type": "stream",
     "text": [
      "\b\b\b\b\b\b\b\b\b\b\b\b\b\b\b\b\b\b\b\b\b\b\b\b\b\b\b\b\b\b\b\b\b\b\b\b\b\b\b\b\b\b\r\n",
      "\u001b[1m187/257\u001b[0m \u001b[32m━━━━━━━━━━━━━━\u001b[0m\u001b[37m━━━━━━\u001b[0m \u001b[1m0s\u001b[0m 811us/step"
     ]
    },
    {
     "name": "stdout",
     "output_type": "stream",
     "text": [
      "\b\b\b\b\b\b\b\b\b\b\b\b\b\b\b\b\b\b\b\b\b\b\b\b\b\b\b\b\b\b\b\b\b\b\b\b\b\b\b\b\b\b\r\n",
      "\u001b[1m249/257\u001b[0m \u001b[32m━━━━━━━━━━━━━━━━━━━\u001b[0m\u001b[37m━\u001b[0m \u001b[1m0s\u001b[0m 811us/step"
     ]
    },
    {
     "name": "stdout",
     "output_type": "stream",
     "text": [
      "\b\b\b\b\b\b\b\b\b\b\b\b\b\b\b\b\b\b\b\b\b\b\b\b\b\b\b\b\b\b\b\b\b\b\b\b\b\b\b\b\b\b\r\n",
      "\u001b[1m257/257\u001b[0m \u001b[32m━━━━━━━━━━━━━━━━━━━━\u001b[0m\u001b[37m\u001b[0m \u001b[1m0s\u001b[0m 1ms/step  \n"
     ]
    },
    {
     "name": "stderr",
     "output_type": "stream",
     "text": [
      "\r\n",
      "                                                                                   "
     ]
    },
    {
     "name": "stderr",
     "output_type": "stream",
     "text": [
      "\r"
     ]
    },
    {
     "name": "stderr",
     "output_type": "stream",
     "text": [
      "\r\n",
      "Best trial: 1. Best value: 0.892867:  30%|███       | 6/20 [03:56<08:58, 38.47s/it]"
     ]
    },
    {
     "name": "stderr",
     "output_type": "stream",
     "text": [
      "\r\n",
      "Best trial: 1. Best value: 0.892867:  30%|███       | 6/20 [03:56<08:58, 38.47s/it]"
     ]
    },
    {
     "name": "stderr",
     "output_type": "stream",
     "text": [
      "\r\n",
      "Best trial: 1. Best value: 0.892867:  35%|███▌      | 7/20 [03:56<07:20, 33.91s/it]"
     ]
    },
    {
     "name": "stdout",
     "output_type": "stream",
     "text": [
      "[I 2025-10-17 00:19:21,307] Trial 6 finished with value: 0.8898519697346416 and parameters: {'lr': 0.0006819004369382589, 'dropout': 0.4694447656665378, 'n1': 64, 'n2': 32}. Best is trial 1 with value: 0.8928668242943147.\n"
     ]
    },
    {
     "name": "stdout",
     "output_type": "stream",
     "text": [
      "\r\n",
      "\u001b[1m  1/257\u001b[0m \u001b[37m━━━━━━━━━━━━━━━━━━━━\u001b[0m \u001b[1m12s\u001b[0m 49ms/step"
     ]
    },
    {
     "name": "stdout",
     "output_type": "stream",
     "text": [
      "\b\b\b\b\b\b\b\b\b\b\b\b\b\b\b\b\b\b\b\b\b\b\b\b\b\b\b\b\b\b\b\b\b\b\b\b\b\b\b\b\b\b\r\n",
      "\u001b[1m 64/257\u001b[0m \u001b[32m━━━━\u001b[0m\u001b[37m━━━━━━━━━━━━━━━━\u001b[0m \u001b[1m0s\u001b[0m 803us/step"
     ]
    },
    {
     "name": "stdout",
     "output_type": "stream",
     "text": [
      "\b\b\b\b\b\b\b\b\b\b\b\b\b\b\b\b\b\b\b\b\b\b\b\b\b\b\b\b\b\b\b\b\b\b\b\b\b\b\b\b\b\b\r\n",
      "\u001b[1m127/257\u001b[0m \u001b[32m━━━━━━━━━\u001b[0m\u001b[37m━━━━━━━━━━━\u001b[0m \u001b[1m0s\u001b[0m 800us/step"
     ]
    },
    {
     "name": "stdout",
     "output_type": "stream",
     "text": [
      "\b\b\b\b\b\b\b\b\b\b\b\b\b\b\b\b\b\b\b\b\b\b\b\b\b\b\b\b\b\b\b\b\b\b\b\b\b\b\b\b\b\b\r\n",
      "\u001b[1m191/257\u001b[0m \u001b[32m━━━━━━━━━━━━━━\u001b[0m\u001b[37m━━━━━━\u001b[0m \u001b[1m0s\u001b[0m 796us/step"
     ]
    },
    {
     "name": "stdout",
     "output_type": "stream",
     "text": [
      "\b\b\b\b\b\b\b\b\b\b\b\b\b\b\b\b\b\b\b\b\b\b\b\b\b\b\b\b\b\b\b\b\b\b\b\b\b\b\b\b\b\b\r\n",
      "\u001b[1m250/257\u001b[0m \u001b[32m━━━━━━━━━━━━━━━━━━━\u001b[0m\u001b[37m━\u001b[0m \u001b[1m0s\u001b[0m 809us/step"
     ]
    },
    {
     "name": "stdout",
     "output_type": "stream",
     "text": [
      "\b\b\b\b\b\b\b\b\b\b\b\b\b\b\b\b\b\b\b\b\b\b\b\b\b\b\b\b\b\b\b\b\b\b\b\b\b\b\b\b\b\b\r\n",
      "\u001b[1m257/257\u001b[0m \u001b[32m━━━━━━━━━━━━━━━━━━━━\u001b[0m\u001b[37m\u001b[0m \u001b[1m0s\u001b[0m 995us/step\n"
     ]
    },
    {
     "name": "stderr",
     "output_type": "stream",
     "text": [
      "\r\n",
      "                                                                                   "
     ]
    },
    {
     "name": "stderr",
     "output_type": "stream",
     "text": [
      "\r"
     ]
    },
    {
     "name": "stderr",
     "output_type": "stream",
     "text": [
      "\r\n",
      "Best trial: 1. Best value: 0.892867:  35%|███▌      | 7/20 [04:10<07:20, 33.91s/it]"
     ]
    },
    {
     "name": "stderr",
     "output_type": "stream",
     "text": [
      "\r\n",
      "Best trial: 1. Best value: 0.892867:  35%|███▌      | 7/20 [04:10<07:20, 33.91s/it]"
     ]
    },
    {
     "name": "stderr",
     "output_type": "stream",
     "text": [
      "\r\n",
      "Best trial: 1. Best value: 0.892867:  40%|████      | 8/20 [04:10<05:32, 27.68s/it]"
     ]
    },
    {
     "name": "stdout",
     "output_type": "stream",
     "text": [
      "[I 2025-10-17 00:19:35,639] Trial 7 finished with value: 0.8816297447675271 and parameters: {'lr': 0.0019031883135801372, 'dropout': 0.31568129331974326, 'n1': 32, 'n2': 16}. Best is trial 1 with value: 0.8928668242943147.\n"
     ]
    },
    {
     "name": "stdout",
     "output_type": "stream",
     "text": [
      "\r\n",
      "\u001b[1m  1/257\u001b[0m \u001b[37m━━━━━━━━━━━━━━━━━━━━\u001b[0m \u001b[1m9s\u001b[0m 38ms/step"
     ]
    },
    {
     "name": "stdout",
     "output_type": "stream",
     "text": [
      "\b\b\b\b\b\b\b\b\b\b\b\b\b\b\b\b\b\b\b\b\b\b\b\b\b\b\b\b\b\b\b\b\b\b\b\b\b\b\b\b\b\r\n",
      "\u001b[1m 59/257\u001b[0m \u001b[32m━━━━\u001b[0m\u001b[37m━━━━━━━━━━━━━━━━\u001b[0m \u001b[1m0s\u001b[0m 873us/step"
     ]
    },
    {
     "name": "stdout",
     "output_type": "stream",
     "text": [
      "\b\b\b\b\b\b\b\b\b\b\b\b\b\b\b\b\b\b\b\b\b\b\b\b\b\b\b\b\b\b\b\b\b\b\b\b\b\b\b\b\b\b\r\n",
      "\u001b[1m113/257\u001b[0m \u001b[32m━━━━━━━━\u001b[0m\u001b[37m━━━━━━━━━━━━\u001b[0m \u001b[1m0s\u001b[0m 903us/step"
     ]
    },
    {
     "name": "stdout",
     "output_type": "stream",
     "text": [
      "\b\b\b\b\b\b\b\b\b\b\b\b\b\b\b\b\b\b\b\b\b\b\b\b\b\b\b\b\b\b\b\b\b\b\b\b\b\b\b\b\b\b\r\n",
      "\u001b[1m174/257\u001b[0m \u001b[32m━━━━━━━━━━━━━\u001b[0m\u001b[37m━━━━━━━\u001b[0m \u001b[1m0s\u001b[0m 877us/step"
     ]
    },
    {
     "name": "stdout",
     "output_type": "stream",
     "text": [
      "\b\b\b\b\b\b\b\b\b\b\b\b\b\b\b\b\b\b\b\b\b\b\b\b\b\b\b\b\b\b\b\b\b\b\b\b\b\b\b\b\b\b\r\n",
      "\u001b[1m234/257\u001b[0m \u001b[32m━━━━━━━━━━━━━━━━━━\u001b[0m\u001b[37m━━\u001b[0m \u001b[1m0s\u001b[0m 868us/step"
     ]
    },
    {
     "name": "stdout",
     "output_type": "stream",
     "text": [
      "\b\b\b\b\b\b\b\b\b\b\b\b\b\b\b\b\b\b\b\b\b\b\b\b\b\b\b\b\b\b\b\b\b\b\b\b\b\b\b\b\b\b\r\n",
      "\u001b[1m257/257\u001b[0m \u001b[32m━━━━━━━━━━━━━━━━━━━━\u001b[0m\u001b[37m\u001b[0m \u001b[1m0s\u001b[0m 1ms/step  \n"
     ]
    },
    {
     "name": "stderr",
     "output_type": "stream",
     "text": [
      "\r\n",
      "                                                                                   "
     ]
    },
    {
     "name": "stderr",
     "output_type": "stream",
     "text": [
      "\r"
     ]
    },
    {
     "name": "stderr",
     "output_type": "stream",
     "text": [
      "\r\n",
      "Best trial: 1. Best value: 0.892867:  40%|████      | 8/20 [05:11<05:32, 27.68s/it]"
     ]
    },
    {
     "name": "stderr",
     "output_type": "stream",
     "text": [
      "\r\n",
      "Best trial: 1. Best value: 0.892867:  40%|████      | 8/20 [05:11<05:32, 27.68s/it]"
     ]
    },
    {
     "name": "stderr",
     "output_type": "stream",
     "text": [
      "\r\n",
      "Best trial: 1. Best value: 0.892867:  45%|████▌     | 9/20 [05:11<06:58, 38.04s/it]"
     ]
    },
    {
     "name": "stdout",
     "output_type": "stream",
     "text": [
      "[I 2025-10-17 00:20:36,446] Trial 8 finished with value: 0.8916212962549753 and parameters: {'lr': 0.00019079269669101378, 'dropout': 0.5788754445196672, 'n1': 96, 'n2': 48}. Best is trial 1 with value: 0.8928668242943147.\n"
     ]
    },
    {
     "name": "stdout",
     "output_type": "stream",
     "text": [
      "\r\n",
      "\u001b[1m  1/257\u001b[0m \u001b[37m━━━━━━━━━━━━━━━━━━━━\u001b[0m \u001b[1m11s\u001b[0m 46ms/step"
     ]
    },
    {
     "name": "stdout",
     "output_type": "stream",
     "text": [
      "\b\b\b\b\b\b\b\b\b\b\b\b\b\b\b\b\b\b\b\b\b\b\b\b\b\b\b\b\b\b\b\b\b\b\b\b\b\b\b\b\b\b\r\n",
      "\u001b[1m 60/257\u001b[0m \u001b[32m━━━━\u001b[0m\u001b[37m━━━━━━━━━━━━━━━━\u001b[0m \u001b[1m0s\u001b[0m 853us/step"
     ]
    },
    {
     "name": "stdout",
     "output_type": "stream",
     "text": [
      "\b\b\b\b\b\b\b\b\b\b\b\b\b\b\b\b\b\b\b\b\b\b\b\b\b\b\b\b\b\b\b\b\b\b\b\b\b\b\b\b\b\b\r\n",
      "\u001b[1m121/257\u001b[0m \u001b[32m━━━━━━━━━\u001b[0m\u001b[37m━━━━━━━━━━━\u001b[0m \u001b[1m0s\u001b[0m 839us/step"
     ]
    },
    {
     "name": "stdout",
     "output_type": "stream",
     "text": [
      "\b\b\b\b\b\b\b\b\b\b\b\b\b\b\b\b\b\b\b\b\b\b\b\b\b\b\b\b\b\b\b\b\b\b\b\b\b\b\b\b\b\b\r\n",
      "\u001b[1m187/257\u001b[0m \u001b[32m━━━━━━━━━━━━━━\u001b[0m\u001b[37m━━━━━━\u001b[0m \u001b[1m0s\u001b[0m 811us/step"
     ]
    },
    {
     "name": "stdout",
     "output_type": "stream",
     "text": [
      "\b\b\b\b\b\b\b\b\b\b\b\b\b\b\b\b\b\b\b\b\b\b\b\b\b\b\b\b\b\b\b\b\b\b\b\b\b\b\b\b\b\b\r\n",
      "\u001b[1m248/257\u001b[0m \u001b[32m━━━━━━━━━━━━━━━━━━━\u001b[0m\u001b[37m━\u001b[0m \u001b[1m0s\u001b[0m 815us/step"
     ]
    },
    {
     "name": "stdout",
     "output_type": "stream",
     "text": [
      "\b\b\b\b\b\b\b\b\b\b\b\b\b\b\b\b\b\b\b\b\b\b\b\b\b\b\b\b\b\b\b\b\b\b\b\b\b\b\b\b\b\b\r\n",
      "\u001b[1m257/257\u001b[0m \u001b[32m━━━━━━━━━━━━━━━━━━━━\u001b[0m\u001b[37m\u001b[0m \u001b[1m0s\u001b[0m 983us/step\n"
     ]
    },
    {
     "name": "stderr",
     "output_type": "stream",
     "text": [
      "\r\n",
      "                                                                                   "
     ]
    },
    {
     "name": "stderr",
     "output_type": "stream",
     "text": [
      "\r"
     ]
    },
    {
     "name": "stderr",
     "output_type": "stream",
     "text": [
      "\r\n",
      "Best trial: 1. Best value: 0.892867:  45%|████▌     | 9/20 [05:45<06:58, 38.04s/it]"
     ]
    },
    {
     "name": "stderr",
     "output_type": "stream",
     "text": [
      "\r\n",
      "Best trial: 1. Best value: 0.892867:  45%|████▌     | 9/20 [05:45<06:58, 38.04s/it]"
     ]
    },
    {
     "name": "stderr",
     "output_type": "stream",
     "text": [
      "\r\n",
      "Best trial: 1. Best value: 0.892867:  50%|█████     | 10/20 [05:45<06:10, 37.03s/it]"
     ]
    },
    {
     "name": "stdout",
     "output_type": "stream",
     "text": [
      "[I 2025-10-17 00:21:11,239] Trial 9 finished with value: 0.8814166061019485 and parameters: {'lr': 0.006091807677531964, 'dropout': 0.5613954793870739, 'n1': 64, 'n2': 64}. Best is trial 1 with value: 0.8928668242943147.\n"
     ]
    },
    {
     "name": "stdout",
     "output_type": "stream",
     "text": [
      "\r\n",
      "\u001b[1m  1/257\u001b[0m \u001b[37m━━━━━━━━━━━━━━━━━━━━\u001b[0m \u001b[1m15s\u001b[0m 59ms/step"
     ]
    },
    {
     "name": "stdout",
     "output_type": "stream",
     "text": [
      "\b\b\b\b\b\b\b\b\b\b\b\b\b\b\b\b\b\b\b\b\b\b\b\b\b\b\b\b\b\b\b\b\b\b\b\b\b\b\b\b\b\b\r\n",
      "\u001b[1m 57/257\u001b[0m \u001b[32m━━━━\u001b[0m\u001b[37m━━━━━━━━━━━━━━━━\u001b[0m \u001b[1m0s\u001b[0m 896us/step"
     ]
    },
    {
     "name": "stdout",
     "output_type": "stream",
     "text": [
      "\b\b\b\b\b\b\b\b\b\b\b\b\b\b\b\b\b\b\b\b\b\b\b\b\b\b\b\b\b\b\b\b\b\b\b\b\b\b\b\b\b\b\r\n",
      "\u001b[1m121/257\u001b[0m \u001b[32m━━━━━━━━━\u001b[0m\u001b[37m━━━━━━━━━━━\u001b[0m \u001b[1m0s\u001b[0m 838us/step"
     ]
    },
    {
     "name": "stdout",
     "output_type": "stream",
     "text": [
      "\b\b\b\b\b\b\b\b\b\b\b\b\b\b\b\b\b\b\b\b\b\b\b\b\b\b\b\b\b\b\b\b\b\b\b\b\b\b\b\b\b\b\r\n",
      "\u001b[1m177/257\u001b[0m \u001b[32m━━━━━━━━━━━━━\u001b[0m\u001b[37m━━━━━━━\u001b[0m \u001b[1m0s\u001b[0m 859us/step"
     ]
    },
    {
     "name": "stdout",
     "output_type": "stream",
     "text": [
      "\b\b\b\b\b\b\b\b\b\b\b\b\b\b\b\b\b\b\b\b\b\b\b\b\b\b\b\b\b\b\b\b\b\b\b\b\b\b\b\b\b\b\r\n",
      "\u001b[1m238/257\u001b[0m \u001b[32m━━━━━━━━━━━━━━━━━━\u001b[0m\u001b[37m━━\u001b[0m \u001b[1m0s\u001b[0m 852us/step"
     ]
    },
    {
     "name": "stdout",
     "output_type": "stream",
     "text": [
      "\b\b\b\b\b\b\b\b\b\b\b\b\b\b\b\b\b\b\b\b\b\b\b\b\b\b\b\b\b\b\b\b\b\b\b\b\b\b\b\b\b\b\r\n",
      "\u001b[1m257/257\u001b[0m \u001b[32m━━━━━━━━━━━━━━━━━━━━\u001b[0m\u001b[37m\u001b[0m \u001b[1m0s\u001b[0m 1ms/step  "
     ]
    },
    {
     "name": "stdout",
     "output_type": "stream",
     "text": [
      "\b\b\b\b\b\b\b\b\b\b\b\b\b\b\b\b\b\b\b\b\b\b\b\b\b\b\b\b\b\b\b\b\b\b\b\b\b\b\b\b\r\n",
      "\u001b[1m257/257\u001b[0m \u001b[32m━━━━━━━━━━━━━━━━━━━━\u001b[0m\u001b[37m\u001b[0m \u001b[1m0s\u001b[0m 1ms/step\n"
     ]
    },
    {
     "name": "stderr",
     "output_type": "stream",
     "text": [
      "\r\n",
      "                                                                                    "
     ]
    },
    {
     "name": "stderr",
     "output_type": "stream",
     "text": [
      "\r"
     ]
    },
    {
     "name": "stderr",
     "output_type": "stream",
     "text": [
      "\r\n",
      "Best trial: 1. Best value: 0.892867:  50%|█████     | 10/20 [06:13<06:10, 37.03s/it]"
     ]
    },
    {
     "name": "stderr",
     "output_type": "stream",
     "text": [
      "\r\n",
      "Best trial: 1. Best value: 0.892867:  50%|█████     | 10/20 [06:13<06:10, 37.03s/it]"
     ]
    },
    {
     "name": "stderr",
     "output_type": "stream",
     "text": [
      "\r\n",
      "Best trial: 1. Best value: 0.892867:  55%|█████▌    | 11/20 [06:13<05:06, 34.00s/it]"
     ]
    },
    {
     "name": "stdout",
     "output_type": "stream",
     "text": [
      "[I 2025-10-17 00:21:38,366] Trial 10 finished with value: 0.8882928266935275 and parameters: {'lr': 0.00045659111813092275, 'dropout': 0.2060198078901981, 'n1': 128, 'n2': 16}. Best is trial 1 with value: 0.8928668242943147.\n"
     ]
    },
    {
     "name": "stdout",
     "output_type": "stream",
     "text": [
      "\r\n",
      "\u001b[1m  1/257\u001b[0m \u001b[37m━━━━━━━━━━━━━━━━━━━━\u001b[0m \u001b[1m10s\u001b[0m 43ms/step"
     ]
    },
    {
     "name": "stdout",
     "output_type": "stream",
     "text": [
      "\b\b\b\b\b\b\b\b\b\b\b\b\b\b\b\b\b\b\b\b\b\b\b\b\b\b\b\b\b\b\b\b\b\b\b\b\b\b\b\b\b\b\r\n",
      "\u001b[1m 69/257\u001b[0m \u001b[32m━━━━━\u001b[0m\u001b[37m━━━━━━━━━━━━━━━\u001b[0m \u001b[1m0s\u001b[0m 742us/step"
     ]
    },
    {
     "name": "stdout",
     "output_type": "stream",
     "text": [
      "\b\b\b\b\b\b\b\b\b\b\b\b\b\b\b\b\b\b\b\b\b\b\b\b\b\b\b\b\b\b\b\b\b\b\b\b\b\b\b\b\b\b\r\n",
      "\u001b[1m132/257\u001b[0m \u001b[32m━━━━━━━━━━\u001b[0m\u001b[37m━━━━━━━━━━\u001b[0m \u001b[1m0s\u001b[0m 784us/step"
     ]
    },
    {
     "name": "stdout",
     "output_type": "stream",
     "text": [
      "\b\b\b\b\b\b\b\b\b\b\b\b\b\b\b\b\b\b\b\b\b\b\b\b\b\b\b\b\b\b\b\b\b\b\b\b\b\b\b\b\b\b\r\n",
      "\u001b[1m193/257\u001b[0m \u001b[32m━━━━━━━━━━━━━━━\u001b[0m\u001b[37m━━━━━\u001b[0m \u001b[1m0s\u001b[0m 797us/step"
     ]
    },
    {
     "name": "stdout",
     "output_type": "stream",
     "text": [
      "\b\b\b\b\b\b\b\b\b\b\b\b\b\b\b\b\b\b\b\b\b\b\b\b\b\b\b\b\b\b\b\b\b\b\b\b\b\b\b\b\b\b\r\n",
      "\u001b[1m249/257\u001b[0m \u001b[32m━━━━━━━━━━━━━━━━━━━\u001b[0m\u001b[37m━\u001b[0m \u001b[1m0s\u001b[0m 822us/step"
     ]
    },
    {
     "name": "stdout",
     "output_type": "stream",
     "text": [
      "\b\b\b\b\b\b\b\b\b\b\b\b\b\b\b\b\b\b\b\b\b\b\b\b\b\b\b\b\b\b\b\b\b\b\b\b\b\b\b\b\b\b\r\n",
      "\u001b[1m257/257\u001b[0m \u001b[32m━━━━━━━━━━━━━━━━━━━━\u001b[0m\u001b[37m\u001b[0m \u001b[1m0s\u001b[0m 1ms/step  \n"
     ]
    },
    {
     "name": "stderr",
     "output_type": "stream",
     "text": [
      "\r\n",
      "                                                                                    "
     ]
    },
    {
     "name": "stderr",
     "output_type": "stream",
     "text": [
      "\r"
     ]
    },
    {
     "name": "stderr",
     "output_type": "stream",
     "text": [
      "\r\n",
      "Best trial: 1. Best value: 0.892867:  55%|█████▌    | 11/20 [07:06<05:06, 34.00s/it]"
     ]
    },
    {
     "name": "stderr",
     "output_type": "stream",
     "text": [
      "\r\n",
      "Best trial: 1. Best value: 0.892867:  55%|█████▌    | 11/20 [07:06<05:06, 34.00s/it]"
     ]
    },
    {
     "name": "stderr",
     "output_type": "stream",
     "text": [
      "\r\n",
      "Best trial: 1. Best value: 0.892867:  60%|██████    | 12/20 [07:06<05:18, 39.87s/it]"
     ]
    },
    {
     "name": "stdout",
     "output_type": "stream",
     "text": [
      "[I 2025-10-17 00:22:31,661] Trial 11 finished with value: 0.8880205510964339 and parameters: {'lr': 0.00011444477752455198, 'dropout': 0.43053077732315875, 'n1': 96, 'n2': 32}. Best is trial 1 with value: 0.8928668242943147.\n"
     ]
    },
    {
     "name": "stdout",
     "output_type": "stream",
     "text": [
      "\r\n",
      "\u001b[1m  1/257\u001b[0m \u001b[37m━━━━━━━━━━━━━━━━━━━━\u001b[0m \u001b[1m12s\u001b[0m 50ms/step"
     ]
    },
    {
     "name": "stdout",
     "output_type": "stream",
     "text": [
      "\b\b\b\b\b\b\b\b\b\b\b\b\b\b\b\b\b\b\b\b\b\b\b\b\b\b\b\b\b\b\b\b\b\b\b\b\b\b\b\b\b\b\r\n",
      "\u001b[1m 55/257\u001b[0m \u001b[32m━━━━\u001b[0m\u001b[37m━━━━━━━━━━━━━━━━\u001b[0m \u001b[1m0s\u001b[0m 927us/step"
     ]
    },
    {
     "name": "stdout",
     "output_type": "stream",
     "text": [
      "\b\b\b\b\b\b\b\b\b\b\b\b\b\b\b\b\b\b\b\b\b\b\b\b\b\b\b\b\b\b\b\b\b\b\b\b\b\b\b\b\b\b\r\n",
      "\u001b[1m118/257\u001b[0m \u001b[32m━━━━━━━━━\u001b[0m\u001b[37m━━━━━━━━━━━\u001b[0m \u001b[1m0s\u001b[0m 857us/step"
     ]
    },
    {
     "name": "stdout",
     "output_type": "stream",
     "text": [
      "\b\b\b\b\b\b\b\b\b\b\b\b\b\b\b\b\b\b\b\b\b\b\b\b\b\b\b\b\b\b\b\b\b\b\b\b\b\b\b\b\b\b\r\n",
      "\u001b[1m176/257\u001b[0m \u001b[32m━━━━━━━━━━━━━\u001b[0m\u001b[37m━━━━━━━\u001b[0m \u001b[1m0s\u001b[0m 859us/step"
     ]
    },
    {
     "name": "stdout",
     "output_type": "stream",
     "text": [
      "\b\b\b\b\b\b\b\b\b\b\b\b\b\b\b\b\b\b\b\b\b\b\b\b\b\b\b\b\b\b\b\b\b\b\b\b\b\b\b\b\b\b\r\n",
      "\u001b[1m235/257\u001b[0m \u001b[32m━━━━━━━━━━━━━━━━━━\u001b[0m\u001b[37m━━\u001b[0m \u001b[1m0s\u001b[0m 858us/step"
     ]
    },
    {
     "name": "stdout",
     "output_type": "stream",
     "text": [
      "\b\b\b\b\b\b\b\b\b\b\b\b\b\b\b\b\b\b\b\b\b\b\b\b\b\b\b\b\b\b\b\b\b\b\b\b\b\b\b\b\b\b\r\n",
      "\u001b[1m257/257\u001b[0m \u001b[32m━━━━━━━━━━━━━━━━━━━━\u001b[0m\u001b[37m\u001b[0m \u001b[1m0s\u001b[0m 1ms/step  \n"
     ]
    },
    {
     "name": "stderr",
     "output_type": "stream",
     "text": [
      "\r\n",
      "                                                                                    "
     ]
    },
    {
     "name": "stderr",
     "output_type": "stream",
     "text": [
      "\r"
     ]
    },
    {
     "name": "stderr",
     "output_type": "stream",
     "text": [
      "\r\n",
      "Best trial: 1. Best value: 0.892867:  60%|██████    | 12/20 [07:41<05:18, 39.87s/it]"
     ]
    },
    {
     "name": "stderr",
     "output_type": "stream",
     "text": [
      "\r\n",
      "Best trial: 1. Best value: 0.892867:  60%|██████    | 12/20 [07:41<05:18, 39.87s/it]"
     ]
    },
    {
     "name": "stderr",
     "output_type": "stream",
     "text": [
      "\r\n",
      "Best trial: 1. Best value: 0.892867:  65%|██████▌   | 13/20 [07:41<04:29, 38.52s/it]"
     ]
    },
    {
     "name": "stdout",
     "output_type": "stream",
     "text": [
      "[I 2025-10-17 00:23:07,083] Trial 12 finished with value: 0.885467934169339 and parameters: {'lr': 0.00024592794095484627, 'dropout': 0.2396703796649336, 'n1': 96, 'n2': 48}. Best is trial 1 with value: 0.8928668242943147.\n"
     ]
    },
    {
     "name": "stdout",
     "output_type": "stream",
     "text": [
      "\r\n",
      "\u001b[1m  1/257\u001b[0m \u001b[37m━━━━━━━━━━━━━━━━━━━━\u001b[0m \u001b[1m13s\u001b[0m 52ms/step"
     ]
    },
    {
     "name": "stdout",
     "output_type": "stream",
     "text": [
      "\b\b\b\b\b\b\b\b\b\b\b\b\b\b\b\b\b\b\b\b\b\b\b\b\b\b\b\b\b\b\b\b\b\b\b\b\b\b\b\b\b\b\r\n",
      "\u001b[1m 56/257\u001b[0m \u001b[32m━━━━\u001b[0m\u001b[37m━━━━━━━━━━━━━━━━\u001b[0m \u001b[1m0s\u001b[0m 915us/step"
     ]
    },
    {
     "name": "stdout",
     "output_type": "stream",
     "text": [
      "\b\b\b\b\b\b\b\b\b\b\b\b\b\b\b\b\b\b\b\b\b\b\b\b\b\b\b\b\b\b\b\b\b\b\b\b\b\b\b\b\b\b\r\n",
      "\u001b[1m107/257\u001b[0m \u001b[32m━━━━━━━━\u001b[0m\u001b[37m━━━━━━━━━━━━\u001b[0m \u001b[1m0s\u001b[0m 951us/step"
     ]
    },
    {
     "name": "stdout",
     "output_type": "stream",
     "text": [
      "\b\b\b\b\b\b\b\b\b\b\b\b\b\b\b\b\b\b\b\b\b\b\b\b\b\b\b\b\b\b\b\b\b\b\b\b\b\b\b\b\b\b\r\n",
      "\u001b[1m158/257\u001b[0m \u001b[32m━━━━━━━━━━━━\u001b[0m\u001b[37m━━━━━━━━\u001b[0m \u001b[1m0s\u001b[0m 961us/step"
     ]
    },
    {
     "name": "stdout",
     "output_type": "stream",
     "text": [
      "\b\b\b\b\b\b\b\b\b\b\b\b\b\b\b\b\b\b\b\b\b\b\b\b\b\b\b\b\b\b\b\b\b\b\b\b\b\b\b\b\b\b\r\n",
      "\u001b[1m210/257\u001b[0m \u001b[32m━━━━━━━━━━━━━━━━\u001b[0m\u001b[37m━━━━\u001b[0m \u001b[1m0s\u001b[0m 963us/step"
     ]
    },
    {
     "name": "stdout",
     "output_type": "stream",
     "text": [
      "\b\b\b\b\b\b\b\b\b\b\b\b\b\b\b\b\b\b\b\b\b\b\b\b\b\b\b\b\b\b\b\b\b\b\b\b\b\b\b\b\b\b\r\n",
      "\u001b[1m257/257\u001b[0m \u001b[32m━━━━━━━━━━━━━━━━━━━━\u001b[0m\u001b[37m\u001b[0m \u001b[1m0s\u001b[0m 1ms/step  "
     ]
    },
    {
     "name": "stdout",
     "output_type": "stream",
     "text": [
      "\b\b\b\b\b\b\b\b\b\b\b\b\b\b\b\b\b\b\b\b\b\b\b\b\b\b\b\b\b\b\b\b\b\b\b\b\b\b\b\b\r\n",
      "\u001b[1m257/257\u001b[0m \u001b[32m━━━━━━━━━━━━━━━━━━━━\u001b[0m\u001b[37m\u001b[0m \u001b[1m0s\u001b[0m 1ms/step\n"
     ]
    },
    {
     "name": "stderr",
     "output_type": "stream",
     "text": [
      "\r\n",
      "                                                                                    "
     ]
    },
    {
     "name": "stderr",
     "output_type": "stream",
     "text": [
      "\r"
     ]
    },
    {
     "name": "stderr",
     "output_type": "stream",
     "text": [
      "\r\n",
      "Best trial: 1. Best value: 0.892867:  65%|██████▌   | 13/20 [08:29<04:29, 38.52s/it]"
     ]
    },
    {
     "name": "stderr",
     "output_type": "stream",
     "text": [
      "\r\n",
      "Best trial: 1. Best value: 0.892867:  65%|██████▌   | 13/20 [08:29<04:29, 38.52s/it]"
     ]
    },
    {
     "name": "stdout",
     "output_type": "stream",
     "text": [
      "[I 2025-10-17 00:23:54,829] Trial 13 finished with value: 0.892760869241836 and parameters: {'lr': 0.0002754859999667696, 'dropout': 0.38831574257412305, 'n1': 96, 'n2': 16}. Best is trial 1 with value: 0.8928668242943147.\n"
     ]
    },
    {
     "name": "stderr",
     "output_type": "stream",
     "text": [
      "\r\n",
      "Best trial: 1. Best value: 0.892867:  70%|███████   | 14/20 [08:29<04:07, 41.31s/it]"
     ]
    },
    {
     "name": "stdout",
     "output_type": "stream",
     "text": [
      "\r\n",
      "\u001b[1m  1/257\u001b[0m \u001b[37m━━━━━━━━━━━━━━━━━━━━\u001b[0m \u001b[1m12s\u001b[0m 51ms/step"
     ]
    },
    {
     "name": "stdout",
     "output_type": "stream",
     "text": [
      "\b\b\b\b\b\b\b\b\b\b\b\b\b\b\b\b\b\b\b\b\b\b\b\b\b\b\b\b\b\b\b\b\b\b\b\b\b\b\b\b\b\b\r\n",
      "\u001b[1m 75/257\u001b[0m \u001b[32m━━━━━\u001b[0m\u001b[37m━━━━━━━━━━━━━━━\u001b[0m \u001b[1m0s\u001b[0m 682us/step"
     ]
    },
    {
     "name": "stdout",
     "output_type": "stream",
     "text": [
      "\b\b\b\b\b\b\b\b\b\b\b\b\b\b\b\b\b\b\b\b\b\b\b\b\b\b\b\b\b\b\b\b\b\b\b\b\b\b\b\b\b\b\r\n",
      "\u001b[1m141/257\u001b[0m \u001b[32m━━━━━━━━━━\u001b[0m\u001b[37m━━━━━━━━━━\u001b[0m \u001b[1m0s\u001b[0m 719us/step"
     ]
    },
    {
     "name": "stdout",
     "output_type": "stream",
     "text": [
      "\b\b\b\b\b\b\b\b\b\b\b\b\b\b\b\b\b\b\b\b\b\b\b\b\b\b\b\b\b\b\b\b\b\b\b\b\b\b\b\b\b\b\r\n",
      "\u001b[1m208/257\u001b[0m \u001b[32m━━━━━━━━━━━━━━━━\u001b[0m\u001b[37m━━━━\u001b[0m \u001b[1m0s\u001b[0m 730us/step"
     ]
    },
    {
     "name": "stdout",
     "output_type": "stream",
     "text": [
      "\b\b\b\b\b\b\b\b\b\b\b\b\b\b\b\b\b\b\b\b\b\b\b\b\b\b\b\b\b\b\b\b\b\b\b\b\b\b\b\b\b\b\r\n",
      "\u001b[1m257/257\u001b[0m \u001b[32m━━━━━━━━━━━━━━━━━━━━\u001b[0m\u001b[37m\u001b[0m \u001b[1m0s\u001b[0m 858us/step"
     ]
    },
    {
     "name": "stdout",
     "output_type": "stream",
     "text": [
      "\b\b\b\b\b\b\b\b\b\b\b\b\b\b\b\b\b\b\b\b\b\b\b\b\b\b\b\b\b\b\b\b\b\b\b\b\b\b\b\b\b\b\r\n",
      "\u001b[1m257/257\u001b[0m \u001b[32m━━━━━━━━━━━━━━━━━━━━\u001b[0m\u001b[37m\u001b[0m \u001b[1m0s\u001b[0m 913us/step\n"
     ]
    },
    {
     "name": "stderr",
     "output_type": "stream",
     "text": [
      "\r\n",
      "                                                                                    "
     ]
    },
    {
     "name": "stderr",
     "output_type": "stream",
     "text": [
      "\r"
     ]
    },
    {
     "name": "stderr",
     "output_type": "stream",
     "text": [
      "\r\n",
      "Best trial: 1. Best value: 0.892867:  70%|███████   | 14/20 [09:06<04:07, 41.31s/it]"
     ]
    },
    {
     "name": "stderr",
     "output_type": "stream",
     "text": [
      "\r\n",
      "Best trial: 14. Best value: 0.893556:  70%|███████   | 14/20 [09:06<04:07, 41.31s/it]"
     ]
    },
    {
     "name": "stderr",
     "output_type": "stream",
     "text": [
      "\r\n",
      "Best trial: 14. Best value: 0.893556:  75%|███████▌  | 15/20 [09:06<03:20, 40.02s/it]"
     ]
    },
    {
     "name": "stdout",
     "output_type": "stream",
     "text": [
      "[I 2025-10-17 00:24:31,869] Trial 14 finished with value: 0.8935564784591485 and parameters: {'lr': 0.000439372924528659, 'dropout': 0.37987385799648365, 'n1': 96, 'n2': 16}. Best is trial 14 with value: 0.8935564784591485.\n"
     ]
    },
    {
     "name": "stdout",
     "output_type": "stream",
     "text": [
      "\r\n",
      "\u001b[1m  1/257\u001b[0m \u001b[37m━━━━━━━━━━━━━━━━━━━━\u001b[0m \u001b[1m11s\u001b[0m 46ms/step"
     ]
    },
    {
     "name": "stdout",
     "output_type": "stream",
     "text": [
      "\b\b\b\b\b\b\b\b\b\b\b\b\b\b\b\b\b\b\b\b\b\b\b\b\b\b\b\b\b\b\b\b\b\b\b\b\b\b\b\b\b\b\r\n",
      "\u001b[1m 58/257\u001b[0m \u001b[32m━━━━\u001b[0m\u001b[37m━━━━━━━━━━━━━━━━\u001b[0m \u001b[1m0s\u001b[0m 883us/step"
     ]
    },
    {
     "name": "stdout",
     "output_type": "stream",
     "text": [
      "\b\b\b\b\b\b\b\b\b\b\b\b\b\b\b\b\b\b\b\b\b\b\b\b\b\b\b\b\b\b\b\b\b\b\b\b\b\b\b\b\b\b\r\n",
      "\u001b[1m118/257\u001b[0m \u001b[32m━━━━━━━━━\u001b[0m\u001b[37m━━━━━━━━━━━\u001b[0m \u001b[1m0s\u001b[0m 861us/step"
     ]
    },
    {
     "name": "stdout",
     "output_type": "stream",
     "text": [
      "\b\b\b\b\b\b\b\b\b\b\b\b\b\b\b\b\b\b\b\b\b\b\b\b\b\b\b\b\b\b\b\b\b\b\b\b\b\b\b\b\b\b\r\n",
      "\u001b[1m179/257\u001b[0m \u001b[32m━━━━━━━━━━━━━\u001b[0m\u001b[37m━━━━━━━\u001b[0m \u001b[1m0s\u001b[0m 850us/step"
     ]
    },
    {
     "name": "stdout",
     "output_type": "stream",
     "text": [
      "\b\b\b\b\b\b\b\b\b\b\b\b\b\b\b\b\b\b\b\b\b\b\b\b\b\b\b\b\b\b\b\b\b\b\b\b\b\b\b\b\b\b\r\n",
      "\u001b[1m239/257\u001b[0m \u001b[32m━━━━━━━━━━━━━━━━━━\u001b[0m\u001b[37m━━\u001b[0m \u001b[1m0s\u001b[0m 849us/step"
     ]
    },
    {
     "name": "stdout",
     "output_type": "stream",
     "text": [
      "\b\b\b\b\b\b\b\b\b\b\b\b\b\b\b\b\b\b\b\b\b\b\b\b\b\b\b\b\b\b\b\b\b\b\b\b\b\b\b\b\b\b\r\n",
      "\u001b[1m257/257\u001b[0m \u001b[32m━━━━━━━━━━━━━━━━━━━━\u001b[0m\u001b[37m\u001b[0m \u001b[1m0s\u001b[0m 991us/step\n"
     ]
    },
    {
     "name": "stderr",
     "output_type": "stream",
     "text": [
      "\r\n",
      "                                                                                     "
     ]
    },
    {
     "name": "stderr",
     "output_type": "stream",
     "text": [
      "\r"
     ]
    },
    {
     "name": "stderr",
     "output_type": "stream",
     "text": [
      "\r\n",
      "Best trial: 14. Best value: 0.893556:  75%|███████▌  | 15/20 [09:29<03:20, 40.02s/it]"
     ]
    },
    {
     "name": "stderr",
     "output_type": "stream",
     "text": [
      "\r\n",
      "Best trial: 14. Best value: 0.893556:  75%|███████▌  | 15/20 [09:29<03:20, 40.02s/it]"
     ]
    },
    {
     "name": "stderr",
     "output_type": "stream",
     "text": [
      "\r\n",
      "Best trial: 14. Best value: 0.893556:  80%|████████  | 16/20 [09:29<02:19, 34.88s/it]"
     ]
    },
    {
     "name": "stdout",
     "output_type": "stream",
     "text": [
      "[I 2025-10-17 00:24:54,793] Trial 15 finished with value: 0.885789949869414 and parameters: {'lr': 0.0006336953630314293, 'dropout': 0.27834685885743793, 'n1': 128, 'n2': 16}. Best is trial 14 with value: 0.8935564784591485.\n"
     ]
    },
    {
     "name": "stdout",
     "output_type": "stream",
     "text": [
      "\r\n",
      "\u001b[1m  1/257\u001b[0m \u001b[37m━━━━━━━━━━━━━━━━━━━━\u001b[0m \u001b[1m9s\u001b[0m 38ms/step"
     ]
    },
    {
     "name": "stdout",
     "output_type": "stream",
     "text": [
      "\b\b\b\b\b\b\b\b\b\b\b\b\b\b\b\b\b\b\b\b\b\b\b\b\b\b\b\b\b\b\b\b\b\b\b\b\b\b\b\b\b\r\n",
      "\u001b[1m 61/257\u001b[0m \u001b[32m━━━━\u001b[0m\u001b[37m━━━━━━━━━━━━━━━━\u001b[0m \u001b[1m0s\u001b[0m 838us/step"
     ]
    },
    {
     "name": "stdout",
     "output_type": "stream",
     "text": [
      "\b\b\b\b\b\b\b\b\b\b\b\b\b\b\b\b\b\b\b\b\b\b\b\b\b\b\b\b\b\b\b\b\b\b\b\b\b\b\b\b\b\b\r\n",
      "\u001b[1m135/257\u001b[0m \u001b[32m━━━━━━━━━━\u001b[0m\u001b[37m━━━━━━━━━━\u001b[0m \u001b[1m0s\u001b[0m 751us/step"
     ]
    },
    {
     "name": "stdout",
     "output_type": "stream",
     "text": [
      "\b\b\b\b\b\b\b\b\b\b\b\b\b\b\b\b\b\b\b\b\b\b\b\b\b\b\b\b\b\b\b\b\b\b\b\b\b\b\b\b\b\b\r\n",
      "\u001b[1m211/257\u001b[0m \u001b[32m━━━━━━━━━━━━━━━━\u001b[0m\u001b[37m━━━━\u001b[0m \u001b[1m0s\u001b[0m 719us/step"
     ]
    },
    {
     "name": "stdout",
     "output_type": "stream",
     "text": [
      "\b\b\b\b\b\b\b\b\b\b\b\b\b\b\b\b\b\b\b\b\b\b\b\b\b\b\b\b\b\b\b\b\b\b\b\b\b\b\b\b\b\b\r\n",
      "\u001b[1m257/257\u001b[0m \u001b[32m━━━━━━━━━━━━━━━━━━━━\u001b[0m\u001b[37m\u001b[0m \u001b[1m0s\u001b[0m 827us/step"
     ]
    },
    {
     "name": "stdout",
     "output_type": "stream",
     "text": [
      "\b\b\b\b\b\b\b\b\b\b\b\b\b\b\b\b\b\b\b\b\b\b\b\b\b\b\b\b\b\b\b\b\b\b\b\b\b\b\b\b\b\b\r\n",
      "\u001b[1m257/257\u001b[0m \u001b[32m━━━━━━━━━━━━━━━━━━━━\u001b[0m\u001b[37m\u001b[0m \u001b[1m0s\u001b[0m 887us/step\n"
     ]
    },
    {
     "name": "stderr",
     "output_type": "stream",
     "text": [
      "\r\n",
      "                                                                                     "
     ]
    },
    {
     "name": "stderr",
     "output_type": "stream",
     "text": [
      "\r"
     ]
    },
    {
     "name": "stderr",
     "output_type": "stream",
     "text": [
      "\r\n",
      "Best trial: 14. Best value: 0.893556:  80%|████████  | 16/20 [10:17<02:19, 34.88s/it]"
     ]
    },
    {
     "name": "stderr",
     "output_type": "stream",
     "text": [
      "\r\n",
      "Best trial: 16. Best value: 0.894861:  80%|████████  | 16/20 [10:17<02:19, 34.88s/it]"
     ]
    },
    {
     "name": "stderr",
     "output_type": "stream",
     "text": [
      "\r\n",
      "Best trial: 16. Best value: 0.894861:  85%|████████▌ | 17/20 [10:17<01:56, 38.72s/it]"
     ]
    },
    {
     "name": "stdout",
     "output_type": "stream",
     "text": [
      "[I 2025-10-17 00:25:42,445] Trial 16 finished with value: 0.894860811386592 and parameters: {'lr': 0.001860501594855373, 'dropout': 0.378890898342751, 'n1': 32, 'n2': 32}. Best is trial 16 with value: 0.894860811386592.\n"
     ]
    },
    {
     "name": "stdout",
     "output_type": "stream",
     "text": [
      "\r\n",
      "\u001b[1m  1/257\u001b[0m \u001b[37m━━━━━━━━━━━━━━━━━━━━\u001b[0m \u001b[1m10s\u001b[0m 40ms/step"
     ]
    },
    {
     "name": "stdout",
     "output_type": "stream",
     "text": [
      "\b\b\b\b\b\b\b\b\b\b\b\b\b\b\b\b\b\b\b\b\b\b\b\b\b\b\b\b\b\b\b\b\b\b\b\b\b\b\b\b\b\b\r\n",
      "\u001b[1m 61/257\u001b[0m \u001b[32m━━━━\u001b[0m\u001b[37m━━━━━━━━━━━━━━━━\u001b[0m \u001b[1m0s\u001b[0m 909us/step"
     ]
    },
    {
     "name": "stdout",
     "output_type": "stream",
     "text": [
      "\b\b\b\b\b\b\b\b\b\b\b\b\b\b\b\b\b\b\b\b\b\b\b\b\b\b\b\b\b\b\b\b\b\b\b\b\b\b\b\b\b\b\r\n",
      "\u001b[1m121/257\u001b[0m \u001b[32m━━━━━━━━━\u001b[0m\u001b[37m━━━━━━━━━━━\u001b[0m \u001b[1m0s\u001b[0m 873us/step"
     ]
    },
    {
     "name": "stdout",
     "output_type": "stream",
     "text": [
      "\b\b\b\b\b\b\b\b\b\b\b\b\b\b\b\b\b\b\b\b\b\b\b\b\b\b\b\b\b\b\b\b\b\b\b\b\b\b\b\b\b\b\r\n",
      "\u001b[1m184/257\u001b[0m \u001b[32m━━━━━━━━━━━━━━\u001b[0m\u001b[37m━━━━━━\u001b[0m \u001b[1m0s\u001b[0m 847us/step"
     ]
    },
    {
     "name": "stdout",
     "output_type": "stream",
     "text": [
      "\b\b\b\b\b\b\b\b\b\b\b\b\b\b\b\b\b\b\b\b\b\b\b\b\b\b\b\b\b\b\b\b\b\b\b\b\b\b\b\b\b\b\r\n",
      "\u001b[1m251/257\u001b[0m \u001b[32m━━━━━━━━━━━━━━━━━━━\u001b[0m\u001b[37m━\u001b[0m \u001b[1m0s\u001b[0m 823us/step"
     ]
    },
    {
     "name": "stdout",
     "output_type": "stream",
     "text": [
      "\b\b\b\b\b\b\b\b\b\b\b\b\b\b\b\b\b\b\b\b\b\b\b\b\b\b\b\b\b\b\b\b\b\b\b\b\b\b\b\b\b\b\r\n",
      "\u001b[1m257/257\u001b[0m \u001b[32m━━━━━━━━━━━━━━━━━━━━\u001b[0m\u001b[37m\u001b[0m \u001b[1m0s\u001b[0m 1ms/step  \n"
     ]
    },
    {
     "name": "stderr",
     "output_type": "stream",
     "text": [
      "\r\n",
      "                                                                                     "
     ]
    },
    {
     "name": "stderr",
     "output_type": "stream",
     "text": [
      "\r"
     ]
    },
    {
     "name": "stderr",
     "output_type": "stream",
     "text": [
      "\r\n",
      "Best trial: 16. Best value: 0.894861:  85%|████████▌ | 17/20 [10:59<01:56, 38.72s/it]"
     ]
    },
    {
     "name": "stdout",
     "output_type": "stream",
     "text": [
      "[I 2025-10-17 00:26:24,542] Trial 17 finished with value: 0.8894020509126148 and parameters: {'lr': 0.00245093771409559, 'dropout': 0.42258899362237345, 'n1': 32, 'n2': 32}. Best is trial 16 with value: 0.894860811386592.\n"
     ]
    },
    {
     "name": "stderr",
     "output_type": "stream",
     "text": [
      "\r\n",
      "Best trial: 16. Best value: 0.894861:  85%|████████▌ | 17/20 [10:59<01:56, 38.72s/it]"
     ]
    },
    {
     "name": "stderr",
     "output_type": "stream",
     "text": [
      "\r\n",
      "Best trial: 16. Best value: 0.894861:  90%|█████████ | 18/20 [10:59<01:19, 39.73s/it]"
     ]
    },
    {
     "name": "stdout",
     "output_type": "stream",
     "text": [
      "\r\n",
      "\u001b[1m  1/257\u001b[0m \u001b[37m━━━━━━━━━━━━━━━━━━━━\u001b[0m \u001b[1m13s\u001b[0m 52ms/step"
     ]
    },
    {
     "name": "stdout",
     "output_type": "stream",
     "text": [
      "\b\b\b\b\b\b\b\b\b\b\b\b\b\b\b\b\b\b\b\b\b\b\b\b\b\b\b\b\b\b\b\b\b\b\b\b\b\b\b\b\b\b\r\n",
      "\u001b[1m 58/257\u001b[0m \u001b[32m━━━━\u001b[0m\u001b[37m━━━━━━━━━━━━━━━━\u001b[0m \u001b[1m0s\u001b[0m 930us/step"
     ]
    },
    {
     "name": "stdout",
     "output_type": "stream",
     "text": [
      "\b\b\b\b\b\b\b\b\b\b\b\b\b\b\b\b\b\b\b\b\b\b\b\b\b\b\b\b\b\b\b\b\b\b\b\b\b\b\b\b\b\b\r\n",
      "\u001b[1m127/257\u001b[0m \u001b[32m━━━━━━━━━\u001b[0m\u001b[37m━━━━━━━━━━━\u001b[0m \u001b[1m0s\u001b[0m 820us/step"
     ]
    },
    {
     "name": "stdout",
     "output_type": "stream",
     "text": [
      "\b\b\b\b\b\b\b\b\b\b\b\b\b\b\b\b\b\b\b\b\b\b\b\b\b\b\b\b\b\b\b\b\b\b\b\b\b\b\b\b\b\b\r\n",
      "\u001b[1m203/257\u001b[0m \u001b[32m━━━━━━━━━━━━━━━\u001b[0m\u001b[37m━━━━━\u001b[0m \u001b[1m0s\u001b[0m 760us/step"
     ]
    },
    {
     "name": "stdout",
     "output_type": "stream",
     "text": [
      "\b\b\b\b\b\b\b\b\b\b\b\b\b\b\b\b\b\b\b\b\b\b\b\b\b\b\b\b\b\b\b\b\b\b\b\b\b\b\b\b\b\b\r\n",
      "\u001b[1m257/257\u001b[0m \u001b[32m━━━━━━━━━━━━━━━━━━━━\u001b[0m\u001b[37m\u001b[0m \u001b[1m0s\u001b[0m 870us/step"
     ]
    },
    {
     "name": "stdout",
     "output_type": "stream",
     "text": [
      "\b\b\b\b\b\b\b\b\b\b\b\b\b\b\b\b\b\b\b\b\b\b\b\b\b\b\b\b\b\b\b\b\b\b\b\b\b\b\b\b\b\b\r\n",
      "\u001b[1m257/257\u001b[0m \u001b[32m━━━━━━━━━━━━━━━━━━━━\u001b[0m\u001b[37m\u001b[0m \u001b[1m0s\u001b[0m 913us/step\n"
     ]
    },
    {
     "name": "stderr",
     "output_type": "stream",
     "text": [
      "\r\n",
      "                                                                                     "
     ]
    },
    {
     "name": "stderr",
     "output_type": "stream",
     "text": [
      "\r"
     ]
    },
    {
     "name": "stderr",
     "output_type": "stream",
     "text": [
      "\r\n",
      "Best trial: 16. Best value: 0.894861:  90%|█████████ | 18/20 [11:35<01:19, 39.73s/it]"
     ]
    },
    {
     "name": "stderr",
     "output_type": "stream",
     "text": [
      "\r\n",
      "Best trial: 16. Best value: 0.894861:  90%|█████████ | 18/20 [11:35<01:19, 39.73s/it]"
     ]
    },
    {
     "name": "stderr",
     "output_type": "stream",
     "text": [
      "\r\n",
      "Best trial: 16. Best value: 0.894861:  95%|█████████▌| 19/20 [11:35<00:38, 38.53s/it]"
     ]
    },
    {
     "name": "stdout",
     "output_type": "stream",
     "text": [
      "[I 2025-10-17 00:27:00,273] Trial 18 finished with value: 0.8904242465536549 and parameters: {'lr': 0.001079650422297323, 'dropout': 0.4498976038465664, 'n1': 32, 'n2': 32}. Best is trial 16 with value: 0.894860811386592.\n"
     ]
    },
    {
     "name": "stdout",
     "output_type": "stream",
     "text": [
      "\r\n",
      "\u001b[1m  1/257\u001b[0m \u001b[37m━━━━━━━━━━━━━━━━━━━━\u001b[0m \u001b[1m10s\u001b[0m 43ms/step"
     ]
    },
    {
     "name": "stdout",
     "output_type": "stream",
     "text": [
      "\b\b\b\b\b\b\b\b\b\b\b\b\b\b\b\b\b\b\b\b\b\b\b\b\b\b\b\b\b\b\b\b\b\b\b\b\b\b\b\b\b\b\r\n",
      "\u001b[1m 63/257\u001b[0m \u001b[32m━━━━\u001b[0m\u001b[37m━━━━━━━━━━━━━━━━\u001b[0m \u001b[1m0s\u001b[0m 808us/step"
     ]
    },
    {
     "name": "stdout",
     "output_type": "stream",
     "text": [
      "\b\b\b\b\b\b\b\b\b\b\b\b\b\b\b\b\b\b\b\b\b\b\b\b\b\b\b\b\b\b\b\b\b\b\b\b\b\b\b\b\b\b\r\n",
      "\u001b[1m123/257\u001b[0m \u001b[32m━━━━━━━━━\u001b[0m\u001b[37m━━━━━━━━━━━\u001b[0m \u001b[1m0s\u001b[0m 846us/step"
     ]
    },
    {
     "name": "stdout",
     "output_type": "stream",
     "text": [
      "\b\b\b\b\b\b\b\b\b\b\b\b\b\b\b\b\b\b\b\b\b\b\b\b\b\b\b\b\b\b\b\b\b\b\b\b\b\b\b\b\b\b\r\n",
      "\u001b[1m174/257\u001b[0m \u001b[32m━━━━━━━━━━━━━\u001b[0m\u001b[37m━━━━━━━\u001b[0m \u001b[1m0s\u001b[0m 888us/step"
     ]
    },
    {
     "name": "stdout",
     "output_type": "stream",
     "text": [
      "\b\b\b\b\b\b\b\b\b\b\b\b\b\b\b\b\b\b\b\b\b\b\b\b\b\b\b\b\b\b\b\b\b\b\b\b\b\b\b\b\b\b\r\n",
      "\u001b[1m230/257\u001b[0m \u001b[32m━━━━━━━━━━━━━━━━━\u001b[0m\u001b[37m━━━\u001b[0m \u001b[1m0s\u001b[0m 891us/step"
     ]
    },
    {
     "name": "stdout",
     "output_type": "stream",
     "text": [
      "\b\b\b\b\b\b\b\b\b\b\b\b\b\b\b\b\b\b\b\b\b\b\b\b\b\b\b\b\b\b\b\b\b\b\b\b\b\b\b\b\b\b\r\n",
      "\u001b[1m257/257\u001b[0m \u001b[32m━━━━━━━━━━━━━━━━━━━━\u001b[0m\u001b[37m\u001b[0m \u001b[1m0s\u001b[0m 1ms/step  "
     ]
    },
    {
     "name": "stdout",
     "output_type": "stream",
     "text": [
      "\b\b\b\b\b\b\b\b\b\b\b\b\b\b\b\b\b\b\b\b\b\b\b\b\b\b\b\b\b\b\b\b\b\b\b\b\b\b\b\b\r\n",
      "\u001b[1m257/257\u001b[0m \u001b[32m━━━━━━━━━━━━━━━━━━━━\u001b[0m\u001b[37m\u001b[0m \u001b[1m0s\u001b[0m 1ms/step\n"
     ]
    },
    {
     "name": "stderr",
     "output_type": "stream",
     "text": [
      "\r\n",
      "                                                                                     "
     ]
    },
    {
     "name": "stderr",
     "output_type": "stream",
     "text": [
      "\r"
     ]
    },
    {
     "name": "stderr",
     "output_type": "stream",
     "text": [
      "\r\n",
      "Best trial: 16. Best value: 0.894861:  95%|█████████▌| 19/20 [12:09<00:38, 38.53s/it]"
     ]
    },
    {
     "name": "stderr",
     "output_type": "stream",
     "text": [
      "\r\n",
      "Best trial: 16. Best value: 0.894861:  95%|█████████▌| 19/20 [12:09<00:38, 38.53s/it]"
     ]
    },
    {
     "name": "stderr",
     "output_type": "stream",
     "text": [
      "\r\n",
      "Best trial: 16. Best value: 0.894861: 100%|██████████| 20/20 [12:09<00:00, 37.44s/it]"
     ]
    },
    {
     "name": "stderr",
     "output_type": "stream",
     "text": [
      "\r\n",
      "Best trial: 16. Best value: 0.894861: 100%|██████████| 20/20 [12:09<00:00, 36.50s/it]"
     ]
    },
    {
     "name": "stdout",
     "output_type": "stream",
     "text": [
      "[I 2025-10-17 00:27:35,158] Trial 19 finished with value: 0.8918173346848828 and parameters: {'lr': 0.0027359312719360458, 'dropout': 0.37759729550637783, 'n1': 96, 'n2': 16}. Best is trial 16 with value: 0.894860811386592.\n",
      "✅ ANN best AUC=0.895 | params={'lr': 0.001860501594855373, 'dropout': 0.378890898342751, 'n1': 32, 'n2': 32}\n"
     ]
    },
    {
     "name": "stderr",
     "output_type": "stream",
     "text": [
      "\n"
     ]
    },
    {
     "name": "stdout",
     "output_type": "stream",
     "text": [
      "\r\n",
      "\u001b[1m  1/321\u001b[0m \u001b[37m━━━━━━━━━━━━━━━━━━━━\u001b[0m \u001b[1m16s\u001b[0m 51ms/step"
     ]
    },
    {
     "name": "stdout",
     "output_type": "stream",
     "text": [
      "\b\b\b\b\b\b\b\b\b\b\b\b\b\b\b\b\b\b\b\b\b\b\b\b\b\b\b\b\b\b\b\b\b\b\b\b\b\b\b\b\b\b\r\n",
      "\u001b[1m 65/321\u001b[0m \u001b[32m━━━━\u001b[0m\u001b[37m━━━━━━━━━━━━━━━━\u001b[0m \u001b[1m0s\u001b[0m 786us/step"
     ]
    },
    {
     "name": "stdout",
     "output_type": "stream",
     "text": [
      "\b\b\b\b\b\b\b\b\b\b\b\b\b\b\b\b\b\b\b\b\b\b\b\b\b\b\b\b\b\b\b\b\b\b\b\b\b\b\b\b\b\b\r\n",
      "\u001b[1m140/321\u001b[0m \u001b[32m━━━━━━━━\u001b[0m\u001b[37m━━━━━━━━━━━━\u001b[0m \u001b[1m0s\u001b[0m 725us/step"
     ]
    },
    {
     "name": "stdout",
     "output_type": "stream",
     "text": [
      "\b\b\b\b\b\b\b\b\b\b\b\b\b\b\b\b\b\b\b\b\b\b\b\b\b\b\b\b\b\b\b\b\b\b\b\b\b\b\b\b\b\b\r\n",
      "\u001b[1m209/321\u001b[0m \u001b[32m━━━━━━━━━━━━━\u001b[0m\u001b[37m━━━━━━━\u001b[0m \u001b[1m0s\u001b[0m 725us/step"
     ]
    },
    {
     "name": "stdout",
     "output_type": "stream",
     "text": [
      "\b\b\b\b\b\b\b\b\b\b\b\b\b\b\b\b\b\b\b\b\b\b\b\b\b\b\b\b\b\b\b\b\b\b\b\b\b\b\b\b\b\b\r\n",
      "\u001b[1m276/321\u001b[0m \u001b[32m━━━━━━━━━━━━━━━━━\u001b[0m\u001b[37m━━━\u001b[0m \u001b[1m0s\u001b[0m 731us/step"
     ]
    },
    {
     "name": "stdout",
     "output_type": "stream",
     "text": [
      "\b\b\b\b\b\b\b\b\b\b\b\b\b\b\b\b\b\b\b\b\b\b\b\b\b\b\b\b\b\b\b\b\b\b\b\b\b\b\b\b\b\b\r\n",
      "\u001b[1m321/321\u001b[0m \u001b[32m━━━━━━━━━━━━━━━━━━━━\u001b[0m\u001b[37m\u001b[0m \u001b[1m0s\u001b[0m 841us/step"
     ]
    },
    {
     "name": "stdout",
     "output_type": "stream",
     "text": [
      "\b\b\b\b\b\b\b\b\b\b\b\b\b\b\b\b\b\b\b\b\b\b\b\b\b\b\b\b\b\b\b\b\b\b\b\b\b\b\b\b\b\b\r\n",
      "\u001b[1m321/321\u001b[0m \u001b[32m━━━━━━━━━━━━━━━━━━━━\u001b[0m\u001b[37m\u001b[0m \u001b[1m0s\u001b[0m 891us/step\n"
     ]
    },
    {
     "name": "stdout",
     "output_type": "stream",
     "text": [
      "\n",
      "[Responder Class Metrics]\n",
      "Accuracy     : 79.86\n",
      "Precision    : 65.20\n",
      "Recall       : 86.16\n",
      "F1 Score     : 74.23\n",
      "ROC AUC Score: 88.88\n",
      "\n",
      "Classification Report:\n",
      "               precision    recall  f1-score   support\n",
      "\n",
      "Non-responder       0.92      0.77      0.83      6810\n",
      "    Responder       0.65      0.86      0.74      3455\n",
      "\n",
      "     accuracy                           0.80     10265\n",
      "    macro avg       0.78      0.81      0.79     10265\n",
      " weighted avg       0.83      0.80      0.80     10265\n",
      "\n"
     ]
    },
    {
     "data": {
      "image/png": "[encoded data removed]",
      "text/plain": [
       "<Figure size 600x500 with 1 Axes>"
      ]
     },
     "metadata": {},
     "output_type": "display_data"
    }
   ],
   "source": [
    "#  3.5 Run hyperparameter tuning and evaluation for ANN \n",
    "\n",
    "# Step 1: Define and run Optuna study\n",
    "name = 'ANN'\n",
    "study_ann = optuna.create_study(direction=\"maximize\") \n",
    "study_ann.optimize(lambda trial: tune_ann(trial, X_train, X_val, y_train, y_val),\n",
    "                   n_trials=N_TRIALS, show_progress_bar=True)\n",
    "\n",
    "print(f\"✅ {name} best AUC={study_ann.best_value:.3f} | params={study_ann.best_params}\")\n",
    "\n",
    "\n",
    "# Step 2: Refit model on the full training set by best parameters which obtains by Optuna\n",
    "\n",
    "# Retrieve best hyperparameters from the ANN Optuna study\n",
    "best_params = study_ann.best_params\n",
    "\n",
    "# Compute class imbalance ratio for weighting\n",
    "w = class_balance(y_train)\n",
    "\n",
    "#  Build ANN architecture\n",
    "ann = models.Sequential([\n",
    "    layers.Input(shape=(X_train.shape[1],)),\n",
    "    layers.Dense(best_params[\"n1\"], activation=\"relu\"),\n",
    "    layers.Dropout(best_params[\"dropout\"]),\n",
    "    layers.Dense(best_params[\"n2\"], activation=\"relu\"),\n",
    "    layers.Dense(1, activation=\"sigmoid\")\n",
    "])\n",
    "\n",
    "# Compile model\n",
    "ann.compile(\n",
    "    optimizer=optimizers.Adam(learning_rate=best_params[\"lr\"]),\n",
    "    loss=\"binary_crossentropy\",\n",
    "    metrics=[\"accuracy\"]\n",
    ")\n",
    "\n",
    "# Define early stopping to avoid overfitting\n",
    "early_stop = EarlyStopping(patience=5, restore_best_weights=True)\n",
    "\n",
    "# Handle class imbalance via per-sample weighting\n",
    "sample_weights = np.where(y_train == 1, w, 1)\n",
    "\n",
    "# Train model\n",
    "ann.fit(\n",
    "    X_train, y_train,\n",
    "    validation_data=(X_val, y_val),\n",
    "    epochs=30, batch_size=32, verbose=0,\n",
    "    sample_weight=sample_weights,\n",
    "    callbacks=[early_stop]\n",
    ")\n",
    "\n",
    "# Step 3: Evaluate on test data\n",
    "\n",
    "# Probability predictions for ROC/AUC\n",
    "y_prob_ann = ann.predict(X_test)\n",
    "# Binary predictions using default 0.5 threshold\n",
    "y_pred_ann = (y_prob_ann > 0.5).astype(int)\n",
    "\n",
    "# Compute evaluation metrics \n",
    "conf_mat = confusion_matrix(y_test, y_pred_ann)\n",
    "roc = roc_auc_score(y_test, y_prob_ann)\n",
    "precision = precision_score(y_test, y_pred_ann)\n",
    "recall = recall_score(y_test, y_pred_ann)\n",
    "f1 = f1_score(y_test, y_pred_ann)\n",
    "accuracy = accuracy_score(y_test, y_pred_ann)\n",
    "\n",
    "print(f\"\\n[Responder Class Metrics]\")\n",
    "print(f\"Accuracy     : {accuracy * 100:.2f}\")\n",
    "print(f\"Precision    : {precision * 100:.2f}\")\n",
    "print(f\"Recall       : {recall * 100:.2f}\")\n",
    "print(f\"F1 Score     : {f1 * 100:.2f}\")\n",
    "print(f\"ROC AUC Score: {roc * 100:.2f}\")\n",
    "\n",
    "# Classification report\n",
    "print(\"\\nClassification Report:\")\n",
    "print(classification_report(y_test, y_pred_ann, target_names=[\"Non-responder\", \"Responder\"]))\n",
    "\n",
    "# Step 4: Visualize Confusion Matrix\n",
    "plt.figure(figsize=(6, 5))\n",
    "sns.heatmap(\n",
    "    conf_mat,\n",
    "    annot=True, fmt='d', cmap='Blues',\n",
    "    xticklabels=['Non-responder', 'Responder'],\n",
    "    yticklabels=['Non-responder', 'Responder'],\n",
    "    cbar=False, linewidths=0, linecolor='white'\n",
    ")\n",
    "plt.title('Confusion Matrix')\n",
    "plt.xlabel('Predicted')\n",
    "plt.ylabel('Actual')\n",
    "plt.show()\n"
   ]
  },
  {
   "cell_type": "code",
   "execution_count": null,
   "id": "e6119117",
   "metadata": {
    "execution": {
     "iopub.execute_input": "2025-10-17T00:28:11.101455Z",
     "iopub.status.busy": "2025-10-17T00:28:11.101090Z",
     "iopub.status.idle": "2025-10-17T00:28:11.333066Z",
     "shell.execute_reply": "2025-10-17T00:28:11.331742Z"
    },
    "papermill": {
     "duration": 0.276818,
     "end_time": "2025-10-17T00:28:11.334171",
     "exception": false,
     "start_time": "2025-10-17T00:28:11.057353",
     "status": "completed"
    },
    "tags": []
   },
   "outputs": [
    {
     "data": {
      "image/png": "[encoded data removed]",
      "text/plain": [
       "<Figure size 1000x800 with 1 Axes>"
      ]
     },
     "metadata": {},
     "output_type": "display_data"
    }
   ],
   "source": [
    "# Model Comparsion - ROC Curve\n",
    "\n",
    "# Compute ROC and AUC for each model\n",
    "fpr_rf, tpr_rf, _ = roc_curve(y_test, y_prob_rf)\n",
    "auc_rf = auc(fpr_rf, tpr_rf)\n",
    "\n",
    "fpr_xgb, tpr_xgb, _ = roc_curve(y_test, y_prob_gb)\n",
    "auc_xgb = auc(fpr_xgb, tpr_xgb)\n",
    "\n",
    "fpr_ann, tpr_ann, _ = roc_curve(y_test, y_prob_ann)\n",
    "auc_ann = auc(fpr_ann, tpr_ann)\n",
    "\n",
    "fpr_lr, tpr_lr, _ = roc_curve(y_test, y_prob)\n",
    "auc_lr = auc(fpr_lr, tpr_lr)\n",
    "\n",
    "# Plot ROC Curves\n",
    "plt.figure(figsize=(10, 8))\n",
    "plt.plot(fpr_rf, tpr_rf, label=f'Random Forest (AUC = {auc_rf:.2f})')\n",
    "plt.plot(fpr_xgb, tpr_xgb, label=f'XGBoost (AUC = {auc_xgb:.2f})')\n",
    "plt.plot(fpr_ann, tpr_ann, label=f'ANN (AUC = {auc_ann:.2f})')\n",
    "plt.plot(fpr_lr, tpr_lr, label=f'Logistic Regression (AUC = {auc_lr:.2f})')\n",
    "plt.plot([0, 1], [0, 1], 'k--', label='Chance level')\n",
    "\n",
    "plt.title('ROC Curve Comparison')\n",
    "plt.xlabel('False Positive Rate')\n",
    "plt.ylabel('True Positive Rate')\n",
    "plt.legend(loc='lower right')\n",
    "plt.grid(False)\n",
    "plt.show()"
   ]
  },
  {
   "cell_type": "code",
   "execution_count": null,
   "id": "d496e9f8",
   "metadata": {
    "execution": {
     "iopub.execute_input": "2025-10-17T00:28:11.419610Z",
     "iopub.status.busy": "2025-10-17T00:28:11.419266Z",
     "iopub.status.idle": "2025-10-17T00:28:11.608548Z",
     "shell.execute_reply": "2025-10-17T00:28:11.607004Z"
    },
    "papermill": {
     "duration": 0.232657,
     "end_time": "2025-10-17T00:28:11.609300",
     "exception": false,
     "start_time": "2025-10-17T00:28:11.376643",
     "status": "completed"
    },
    "tags": []
   },
   "outputs": [
    {
     "data": {
      "image/png": "[encoded data removed]",
      "text/plain": [
       "<Figure size 800x600 with 1 Axes>"
      ]
     },
     "metadata": {},
     "output_type": "display_data"
    }
   ],
   "source": [
    "# Calibration Curver Comparison\n",
    "\n",
    "# Initialize plot\n",
    "plt.figure(figsize=(8, 6))\n",
    "\n",
    "# Define models and their predicted probabilities\n",
    "for model_name, y_prob in [\n",
    "    ('Logistic Regression', y_prob),\n",
    "    ('XGBoost', y_prob_gb),\n",
    "    ('Random Forest', y_prob_rf),\n",
    "    ('ANN', y_prob_ann)\n",
    "]:\n",
    "    prob_true, prob_pred = calibration_curve(y_test, y_prob, n_bins=10)\n",
    "    plt.plot(prob_pred, prob_true, marker='o', label=model_name)\n",
    "\n",
    "# Plot\n",
    "plt.plot([0, 1], [0, 1], 'k:', label='Perfectly calibrated')\n",
    "plt.xlabel('Mean predicted probability')\n",
    "plt.ylabel('Fraction of positives')\n",
    "plt.title('Calibration plots')\n",
    "plt.legend()\n",
    "plt.grid(True)\n",
    "plt.show()"
   ]
  },
  {
   "cell_type": "code",
   "execution_count": null,
   "id": "54be3d98",
   "metadata": {
    "execution": {
     "iopub.execute_input": "2025-10-17T00:28:11.701987Z",
     "iopub.status.busy": "2025-10-17T00:28:11.701687Z",
     "iopub.status.idle": "2025-10-17T00:28:11.718019Z",
     "shell.execute_reply": "2025-10-17T00:28:11.716341Z"
    },
    "papermill": {
     "duration": 0.061358,
     "end_time": "2025-10-17T00:28:11.718763",
     "exception": false,
     "start_time": "2025-10-17T00:28:11.657405",
     "status": "completed"
    },
    "tags": []
   },
   "outputs": [
    {
     "name": "stdout",
     "output_type": "stream",
     "text": [
      "MCC - Logistic Regression: 0.5975\n",
      "MCC - XGBoost: 0.6451\n",
      "MCC - Random Forest: 0.5570\n",
      "MCC - ANN: 0.5975\n"
     ]
    }
   ],
   "source": [
    "# Model Evaluation using Matthews Correlation Coefficient (MCC)\n",
    "\n",
    "# Define threshold for binary classification\n",
    "threshold = 0.5\n",
    "\n",
    "# Convert predicted probabilities to binary classes\n",
    "y_pred_logreg = (y_prob > threshold).astype(int)\n",
    "y_pred_xgb    = (y_prob_gb > threshold).astype(int)\n",
    "y_pred_rf     = (y_prob_rf > threshold).astype(int)\n",
    "y_pred_ann    = (y_prob_ann > threshold).astype(int)\n",
    "\n",
    "# Compute MCC for each model\n",
    "mcc_logreg = matthews_corrcoef(y_test, y_pred_logreg)\n",
    "mcc_xgb    = matthews_corrcoef(y_test, y_pred_xgb)\n",
    "mcc_rf     = matthews_corrcoef(y_test, y_pred_rf)\n",
    "mcc_ann    = matthews_corrcoef(y_test, y_pred_ann)\n",
    "\n",
    "print(f\"MCC - Logistic Regression: {mcc_logreg:.4f}\")\n",
    "print(f\"MCC - XGBoost: {mcc_xgb:.4f}\")\n",
    "print(f\"MCC - Random Forest: {mcc_rf:.4f}\")\n",
    "print(f\"MCC - ANN: {mcc_ann:.4f}\")"
   ]
  },
  {
   "cell_type": "code",
   "execution_count": null,
   "id": "91b9be9c",
   "metadata": {
    "execution": {
     "iopub.execute_input": "2025-10-17T00:28:11.807606Z",
     "iopub.status.busy": "2025-10-17T00:28:11.807130Z",
     "iopub.status.idle": "2025-10-17T00:28:47.332403Z",
     "shell.execute_reply": "2025-10-17T00:28:47.330346Z"
    },
    "papermill": {
     "duration": 35.578236,
     "end_time": "2025-10-17T00:28:47.333477",
     "exception": false,
     "start_time": "2025-10-17T00:28:11.755241",
     "status": "completed"
    },
    "tags": []
   },
   "outputs": [
    {
     "data": {
      "image/png": "[encoded data removed]",
      "text/plain": [
       "<Figure size 800x550 with 1 Axes>"
      ]
     },
     "metadata": {},
     "output_type": "display_data"
    },
    {
     "data": {
      "image/png": "[encoded data removed]",
      "text/plain": [
       "<Figure size 800x550 with 2 Axes>"
      ]
     },
     "metadata": {},
     "output_type": "display_data"
    }
   ],
   "source": [
    "# Step 4 interpret the results\n",
    "\n",
    "# Compute SHAP values\n",
    "explainer = shap.TreeExplainer(model_gb)\n",
    "shap_values = explainer.shap_values(X_test)\n",
    "\n",
    "# Top 10 features by mean absolute SHAP\n",
    "top_idx = np.argsort(np.abs(shap_values).mean(axis=0))[-10:]\n",
    "X_top = X_test[:, top_idx]\n",
    "shap_top = shap_values[:, top_idx]\n",
    "feature_names = X.columns[top_idx]\n",
    "\n",
    "# 4.1 SHAP summary plots\n",
    "shap.summary_plot(shap_top, X_top, feature_names=feature_names, plot_type=\"bar\")\n",
    "shap.summary_plot(shap_top, X_top, feature_names=feature_names)"
   ]
  },
  {
   "cell_type": "code",
   "execution_count": 18,
   "id": "7be0f0c2",
   "metadata": {
    "execution": {
     "iopub.execute_input": "2025-10-17T00:28:47.436476Z",
     "iopub.status.busy": "2025-10-17T00:28:47.436101Z",
     "iopub.status.idle": "2025-10-17T00:28:48.666537Z",
     "shell.execute_reply": "2025-10-17T00:28:48.665243Z"
    },
    "papermill": {
     "duration": 1.284094,
     "end_time": "2025-10-17T00:28:48.667415",
     "exception": false,
     "start_time": "2025-10-17T00:28:47.383321",
     "status": "completed"
    },
    "tags": []
   },
   "outputs": [
    {
     "name": "stdout",
     "output_type": "stream",
     "text": [
      "\n",
      "🔹 SHAP Modality Contribution (%) by Top-N Features:\n",
      "Modality   Fluxomic  Transcriptomic\n",
      "Top_N                              \n",
      "50         3.510000       96.489998\n",
      "100        9.610000       90.389999\n",
      "150       13.930000       86.070000\n",
      "200       16.270000       83.730003\n",
      "250       16.990000       83.010002\n",
      "300       17.299999       82.699997\n",
      "350       17.360001       82.639999\n",
      "400       17.360001       82.639999\n",
      "450       17.360001       82.639999\n"
     ]
    },
    {
     "data": {
      "image/png": "[encoded data removed]",
      "text/plain": [
       "<Figure size 600x400 with 1 Axes>"
      ]
     },
     "metadata": {},
     "output_type": "display_data"
    },
    {
     "data": {
      "image/png": "[encoded data removed]",
      "text/plain": [
       "<Figure size 700x500 with 1 Axes>"
      ]
     },
     "metadata": {},
     "output_type": "display_data"
    },
    {
     "data": {
      "image/png": "[encoded data removed]",
      "text/plain": [
       "<Figure size 1600x1200 with 12 Axes>"
      ]
     },
     "metadata": {},
     "output_type": "display_data"
    }
   ],
   "source": [
    "# 4.2 SHAP Modality Contribution for Top-N Features\n",
    "\n",
    "# Create a DataFrame of mean absolute SHAP values\n",
    "shap_df = pd.DataFrame({\n",
    "    \"Feature\": X.columns,\n",
    "    \"MeanAbsSHAP\": np.abs(shap_values).mean(axis=0)\n",
    "})\n",
    "\n",
    "# Assign modality for each feature\n",
    "shap_df[\"Modality\"] = shap_df[\"Feature\"].apply(\n",
    "    lambda f: \"Fluxomic\" if f in X_flux.columns else \"Transcriptomic\"\n",
    ")\n",
    "\n",
    "# Define list of top-N values to analyze\n",
    "top_n_list = [50, 100, 150, 200, 250, 300, 350, 400, 450]\n",
    "\n",
    "# Store modality contributions for each N\n",
    "modality_contribs = []\n",
    "\n",
    "for n in top_n_list:\n",
    "    # Select top-N features by SHAP value\n",
    "    top_features = shap_df.nlargest(n, \"MeanAbsSHAP\")\n",
    "\n",
    "    # Compute contribution per modality\n",
    "    contrib = top_features.groupby(\"Modality\")[\"MeanAbsSHAP\"].sum()\n",
    "    perc = 100 * contrib / contrib.sum()\n",
    "\n",
    "    # Store results in a DataFrame-friendly format\n",
    "    for modality in perc.index:\n",
    "        modality_contribs.append({\n",
    "            \"Top_N\": n,\n",
    "            \"Modality\": modality,\n",
    "            \"Contribution(%)\": perc[modality]\n",
    "        })\n",
    "\n",
    "# Convert results to DataFrame\n",
    "modality_contribs_df = pd.DataFrame(modality_contribs)\n",
    "\n",
    "# Print numeric summary\n",
    "print(\"\\n🔹 SHAP Modality Contribution (%) by Top-N Features:\")\n",
    "print(modality_contribs_df.pivot(index=\"Top_N\", columns=\"Modality\", values=\"Contribution(%)\").round(2))\n",
    "\n",
    "# Plot 1: Line Plot\n",
    "plt.figure(figsize=(6, 4))\n",
    "sns.lineplot(\n",
    "    data=modality_contribs_df,\n",
    "    x=\"Top_N\",\n",
    "    y=\"Contribution(%)\",\n",
    "    hue=\"Modality\",\n",
    "    marker=\"o\",\n",
    "    palette=[\"#66c2a5\", \"#fc8d62\"]\n",
    ")\n",
    "plt.title(\"SHAP Modality Contribution by Top-N Features (Line Plot)\")\n",
    "plt.xlabel(\"Number of Top Features (N)\")\n",
    "plt.ylabel(\"Contribution (%)\")\n",
    "plt.grid(True, alpha=0.3)\n",
    "plt.tight_layout()\n",
    "plt.show()\n",
    "\n",
    "\n",
    "# Plot 2: Bar Plot\n",
    "plt.figure(figsize=(7, 5))\n",
    "sns.barplot(\n",
    "    data=modality_contribs_df,\n",
    "    x=\"Top_N\",\n",
    "    y=\"Contribution(%)\",\n",
    "    hue=\"Modality\",\n",
    "    palette=[\"#66c2a5\", \"#fc8d62\"]\n",
    ")\n",
    "plt.title(\"SHAP Modality Contribution by Top-N Features (Bar Plot)\")\n",
    "plt.xlabel(\"Number of Top Features (N)\")\n",
    "plt.ylabel(\"Contribution (%)\")\n",
    "plt.legend(title=\"Modality\", loc=\"best\")\n",
    "plt.tight_layout()\n",
    "plt.show()\n",
    "\n",
    "\n",
    "# Plot 3: Pie Charts for Each Top-N\n",
    "n_cols = 4\n",
    "n_rows = int(np.ceil(len(top_n_list) / n_cols))\n",
    "\n",
    "fig, axes = plt.subplots(n_rows, n_cols, figsize=(n_cols * 4, n_rows * 4))\n",
    "axes = axes.flatten()\n",
    "\n",
    "for ax, n in zip(axes, top_n_list):\n",
    "    data_n = modality_contribs_df[modality_contribs_df[\"Top_N\"] == n]\n",
    "    ax.pie(\n",
    "        data_n[\"Contribution(%)\"],\n",
    "        labels=data_n[\"Modality\"],\n",
    "        autopct='%1.1f%%',\n",
    "        startangle=90,\n",
    "        colors=[\"#66c2a5\", \"#fc8d62\"]\n",
    "    )\n",
    "    ax.set_title(f\"Top {n} Features\", fontsize=10)\n",
    "\n",
    "for ax in axes[len(top_n_list):]:\n",
    "    ax.axis('off')\n",
    "\n",
    "plt.suptitle(\"SHAP Modality Contribution by Top-N Features (Pie Charts)\", fontsize=14, y=1.02)\n",
    "plt.tight_layout()\n",
    "plt.show()\n"
   ]
  }
 ],
 "metadata": {
  "kernelspec": {
   "display_name": "venv (3.12.3)",
   "language": "python",
   "name": "python3"
  },
  "language_info": {
   "codemirror_mode": {
    "name": "ipython",
    "version": 3
   },
   "file_extension": ".py",
   "mimetype": "text/x-python",
   "name": "python",
   "nbconvert_exporter": "python",
   "pygments_lexer": "ipython3",
   "version": "3.12.3"
  },
  "papermill": {
   "default_parameters": {},
   "duration": 2254.694866,
   "end_time": "2025-10-17T00:28:52.050183",
   "environment_variables": {},
   "exception": null,
   "input_path": "3_experiment_3.ipynb",
   "output_path": "output_experiment3.ipynb",
   "parameters": {},
   "start_time": "2025-10-16T23:51:17.355317",
   "version": "2.6.0"
  }
 },
 "nbformat": 4,
 "nbformat_minor": 5
}
