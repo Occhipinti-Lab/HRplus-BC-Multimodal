{
 "cells": [
  {
   "cell_type": "markdown",
   "metadata": {
    "id": "q7LQPs4fTWhF"
   },
   "source": [
    "# **Introduction**\n",
    "\n",
    "This notebook processes single-cell RNA sequencing data from the GSE300475 dataset to prepare it for downstream multimodal analysis. It covers performing normalization, log-transformation, and selection of highly variable genes to reduce noise and focus on informative features. Key preprocessing steps are visualized, including gene variability and dimensionality reduction using PCA, both before and after filtering. Finally, the processed gene expression data is exported to support integration with other data modalities and enable machine learning modeling of treatment response in breast cancer."
   ]
  },
  {
   "cell_type": "code",
   "execution_count": 14,
   "metadata": {
    "collapsed": true,
    "executionInfo": {
     "elapsed": 28,
     "status": "ok",
     "timestamp": 1759683035522,
     "user": {
      "displayName": "Ekow Mills",
      "userId": "12893291206346354513"
     },
     "user_tz": -60
    },
    "id": "c6LjohKtNVoX",
    "jupyter": {
     "outputs_hidden": true
    }
   },
   "outputs": [],
   "source": [
    "# !pip install scanpy"
   ]
  },
  {
   "cell_type": "code",
   "execution_count": 15,
   "metadata": {
    "colab": {
     "base_uri": "https://localhost:8080/"
    },
    "executionInfo": {
     "elapsed": 1019,
     "status": "ok",
     "timestamp": 1759683036554,
     "user": {
      "displayName": "Ekow Mills",
      "userId": "12893291206346354513"
     },
     "user_tz": -60
    },
    "id": "iWU5B_yusuzE",
    "outputId": "424af9bb-8c16-4be1-c841-0a3aed7db29c"
   },
   "outputs": [],
   "source": [
    "# from google.colab import drive\n",
    "# drive.mount('/content/drive')"
   ]
  },
  {
   "cell_type": "code",
   "execution_count": null,
   "metadata": {
    "colab": {
     "base_uri": "https://localhost:8080/"
    },
    "executionInfo": {
     "elapsed": 11448,
     "status": "ok",
     "timestamp": 1759683124445,
     "user": {
      "displayName": "Ekow Mills",
      "userId": "12893291206346354513"
     },
     "user_tz": -60
    },
    "id": "gHkmXnfxSC9u",
    "outputId": "61868abf-8587-4755-98d5-b979f8d5982d"
   },
   "outputs": [
    {
     "name": "stdout",
     "output_type": "stream",
     "text": [
      "Before processing: 58177 cells, 36601 genes\n"
     ]
    }
   ],
   "source": [
    "import scanpy as sc\n",
    "import matplotlib.pyplot as plt\n",
    "import seaborn as sns\n",
    "import numpy as np\n",
    "import pandas as pd\n",
    "\n",
    "\n",
    "# Load annotated data\n",
    "adata = sc.read_h5ad(\"../Data/gene_expression_symbol.h5ad\")\n",
    "print(f\"Before processing: {adata.n_obs} cells, {adata.n_vars} genes\")\n",
    "gene_meta = pd.read_csv('model_genes.csv')"
   ]
  },
  {
   "cell_type": "code",
   "execution_count": 17,
   "metadata": {
    "colab": {
     "base_uri": "https://localhost:8080/"
    },
    "executionInfo": {
     "elapsed": 11,
     "status": "ok",
     "timestamp": 1759683139291,
     "user": {
      "displayName": "Ekow Mills",
      "userId": "12893291206346354513"
     },
     "user_tz": -60
    },
    "id": "1tKMEdBiF0-I",
    "outputId": "58fe5014-2cd2-4d6f-db80-dd2ab755b2b8"
   },
   "outputs": [
    {
     "data": {
      "text/plain": [
       "AnnData object with n_obs × n_vars = 58177 × 36601\n",
       "    obs: 'sample_id', 'patient_id', 'response'\n",
       "    var: 'symbol'"
      ]
     },
     "execution_count": 17,
     "metadata": {},
     "output_type": "execute_result"
    }
   ],
   "source": [
    "adata"
   ]
  },
  {
   "cell_type": "code",
   "execution_count": 21,
   "metadata": {
    "colab": {
     "base_uri": "https://localhost:8080/"
    },
    "executionInfo": {
     "elapsed": 505,
     "status": "ok",
     "timestamp": 1759683141385,
     "user": {
      "displayName": "Ekow Mills",
      "userId": "12893291206346354513"
     },
     "user_tz": -60
    },
    "id": "RcR-8CVwNgcL",
    "outputId": "6201356c-2bb5-4ad2-8626-cbab5ea06ca9"
   },
   "outputs": [],
   "source": [
    "adata_before = adata.copy()"
   ]
  },
  {
   "cell_type": "markdown",
   "metadata": {},
   "source": [
    "## Apply QC on Transcriptomics Data"
   ]
  },
  {
   "cell_type": "code",
   "execution_count": 22,
   "metadata": {
    "colab": {
     "base_uri": "https://localhost:8080/"
    },
    "executionInfo": {
     "elapsed": 98,
     "status": "ok",
     "timestamp": 1759683333886,
     "user": {
      "displayName": "Ekow Mills",
      "userId": "12893291206346354513"
     },
     "user_tz": -60
    },
    "id": "pUgKjm4VBmFK",
    "outputId": "e96b6195-7332-4e7d-95bf-cd01c34eb6b6"
   },
   "outputs": [
    {
     "name": "stdout",
     "output_type": "stream",
     "text": [
      "Number of mitochondrial genes found: 13\n"
     ]
    }
   ],
   "source": [
    "adata.var['symbol'] = adata.var['symbol'].astype(str)\n",
    "# mitochondrial genes\n",
    "adata.var[\"mt\"] = adata.var_names.str.startswith(\"MT-\")\n",
    "adata.var['mt'] = adata.var['symbol'].str.upper().str.startswith('MT-')\n",
    "print(\"Number of mitochondrial genes found:\", adata.var['mt'].sum())\n",
    "\n",
    "# ribosomal genes\n",
    "adata.var[\"ribo\"] = adata.var['symbol'].str.upper().str.startswith((\"RPS\", \"RPL\"))\n",
    "# hemoglobin genes. Pls note this dataset isperipheral blood\n",
    "adata.var[\"hb\"] = adata.var['symbol'].str.upper().str.startswith(\"^HB[^(P)]\")"
   ]
  },
  {
   "cell_type": "code",
   "execution_count": 23,
   "metadata": {
    "colab": {
     "base_uri": "https://localhost:8080/",
     "height": 456
    },
    "executionInfo": {
     "elapsed": 54,
     "status": "ok",
     "timestamp": 1759683336500,
     "user": {
      "displayName": "Ekow Mills",
      "userId": "12893291206346354513"
     },
     "user_tz": -60
    },
    "id": "lUkl6xtAOF55",
    "outputId": "0043aeb1-3d57-4e01-9d1e-2902d0cddba5"
   },
   "outputs": [
    {
     "data": {
      "text/html": [
       "<div>\n",
       "<style scoped>\n",
       "    .dataframe tbody tr th:only-of-type {\n",
       "        vertical-align: middle;\n",
       "    }\n",
       "\n",
       "    .dataframe tbody tr th {\n",
       "        vertical-align: top;\n",
       "    }\n",
       "\n",
       "    .dataframe thead th {\n",
       "        text-align: right;\n",
       "    }\n",
       "</style>\n",
       "<table border=\"1\" class=\"dataframe\">\n",
       "  <thead>\n",
       "    <tr style=\"text-align: right;\">\n",
       "      <th></th>\n",
       "      <th>symbol</th>\n",
       "      <th>mt</th>\n",
       "      <th>ribo</th>\n",
       "      <th>hb</th>\n",
       "    </tr>\n",
       "  </thead>\n",
       "  <tbody>\n",
       "    <tr>\n",
       "      <th>ENSG00000198888</th>\n",
       "      <td>MT-ND1</td>\n",
       "      <td>True</td>\n",
       "      <td>False</td>\n",
       "      <td>False</td>\n",
       "    </tr>\n",
       "    <tr>\n",
       "      <th>ENSG00000198763</th>\n",
       "      <td>MT-ND2</td>\n",
       "      <td>True</td>\n",
       "      <td>False</td>\n",
       "      <td>False</td>\n",
       "    </tr>\n",
       "    <tr>\n",
       "      <th>ENSG00000198804</th>\n",
       "      <td>MT-CO1</td>\n",
       "      <td>True</td>\n",
       "      <td>False</td>\n",
       "      <td>False</td>\n",
       "    </tr>\n",
       "    <tr>\n",
       "      <th>ENSG00000198712</th>\n",
       "      <td>MT-CO2</td>\n",
       "      <td>True</td>\n",
       "      <td>False</td>\n",
       "      <td>False</td>\n",
       "    </tr>\n",
       "    <tr>\n",
       "      <th>ENSG00000228253</th>\n",
       "      <td>MT-ATP8</td>\n",
       "      <td>True</td>\n",
       "      <td>False</td>\n",
       "      <td>False</td>\n",
       "    </tr>\n",
       "    <tr>\n",
       "      <th>ENSG00000198899</th>\n",
       "      <td>MT-ATP6</td>\n",
       "      <td>True</td>\n",
       "      <td>False</td>\n",
       "      <td>False</td>\n",
       "    </tr>\n",
       "    <tr>\n",
       "      <th>ENSG00000198938</th>\n",
       "      <td>MT-CO3</td>\n",
       "      <td>True</td>\n",
       "      <td>False</td>\n",
       "      <td>False</td>\n",
       "    </tr>\n",
       "    <tr>\n",
       "      <th>ENSG00000198840</th>\n",
       "      <td>MT-ND3</td>\n",
       "      <td>True</td>\n",
       "      <td>False</td>\n",
       "      <td>False</td>\n",
       "    </tr>\n",
       "    <tr>\n",
       "      <th>ENSG00000212907</th>\n",
       "      <td>MT-ND4L</td>\n",
       "      <td>True</td>\n",
       "      <td>False</td>\n",
       "      <td>False</td>\n",
       "    </tr>\n",
       "    <tr>\n",
       "      <th>ENSG00000198886</th>\n",
       "      <td>MT-ND4</td>\n",
       "      <td>True</td>\n",
       "      <td>False</td>\n",
       "      <td>False</td>\n",
       "    </tr>\n",
       "    <tr>\n",
       "      <th>ENSG00000198786</th>\n",
       "      <td>MT-ND5</td>\n",
       "      <td>True</td>\n",
       "      <td>False</td>\n",
       "      <td>False</td>\n",
       "    </tr>\n",
       "    <tr>\n",
       "      <th>ENSG00000198695</th>\n",
       "      <td>MT-ND6</td>\n",
       "      <td>True</td>\n",
       "      <td>False</td>\n",
       "      <td>False</td>\n",
       "    </tr>\n",
       "    <tr>\n",
       "      <th>ENSG00000198727</th>\n",
       "      <td>MT-CYB</td>\n",
       "      <td>True</td>\n",
       "      <td>False</td>\n",
       "      <td>False</td>\n",
       "    </tr>\n",
       "  </tbody>\n",
       "</table>\n",
       "</div>"
      ],
      "text/plain": [
       "                  symbol    mt   ribo     hb\n",
       "ENSG00000198888   MT-ND1  True  False  False\n",
       "ENSG00000198763   MT-ND2  True  False  False\n",
       "ENSG00000198804   MT-CO1  True  False  False\n",
       "ENSG00000198712   MT-CO2  True  False  False\n",
       "ENSG00000228253  MT-ATP8  True  False  False\n",
       "ENSG00000198899  MT-ATP6  True  False  False\n",
       "ENSG00000198938   MT-CO3  True  False  False\n",
       "ENSG00000198840   MT-ND3  True  False  False\n",
       "ENSG00000212907  MT-ND4L  True  False  False\n",
       "ENSG00000198886   MT-ND4  True  False  False\n",
       "ENSG00000198786   MT-ND5  True  False  False\n",
       "ENSG00000198695   MT-ND6  True  False  False\n",
       "ENSG00000198727   MT-CYB  True  False  False"
      ]
     },
     "execution_count": 23,
     "metadata": {},
     "output_type": "execute_result"
    }
   ],
   "source": [
    "adata.var[adata.var['mt'] ==True]"
   ]
  },
  {
   "cell_type": "code",
   "execution_count": 24,
   "metadata": {
    "colab": {
     "base_uri": "https://localhost:8080/"
    },
    "executionInfo": {
     "elapsed": 29553,
     "status": "ok",
     "timestamp": 1759683371969,
     "user": {
      "displayName": "Ekow Mills",
      "userId": "12893291206346354513"
     },
     "user_tz": -60
    },
    "id": "4BQwO5KdB0Pt",
    "outputId": "f84f0ef1-2a25-4a40-9b6c-1a4b3c6b8420"
   },
   "outputs": [
    {
     "name": "stdout",
     "output_type": "stream",
     "text": [
      "count    58177.000000\n",
      "mean         6.728272\n",
      "std          8.037989\n",
      "min          0.000000\n",
      "25%          3.237312\n",
      "50%          4.792538\n",
      "75%          6.968641\n",
      "max         98.429749\n",
      "Name: pct_counts_mt, dtype: float64\n"
     ]
    }
   ],
   "source": [
    "# mitochondrial genes are flagged\n",
    "adata.var['mt'] = adata.var['symbol'].astype(str).str.upper().str.startswith('MT-')\n",
    "\n",
    "# Compute QC metrics, including mitochondrial percentage\n",
    "sc.pp.calculate_qc_metrics(adata, qc_vars=[\"mt\", \"ribo\", \"hb\"], inplace=True,  log1p=True, percent_top=[20])\n",
    "\n",
    "print(adata.obs['pct_counts_mt'].describe())\n"
   ]
  },
  {
   "cell_type": "code",
   "execution_count": 25,
   "metadata": {
    "colab": {
     "base_uri": "https://localhost:8080/",
     "height": 344
    },
    "executionInfo": {
     "elapsed": 2426,
     "status": "ok",
     "timestamp": 1759683378750,
     "user": {
      "displayName": "Ekow Mills",
      "userId": "12893291206346354513"
     },
     "user_tz": -60
    },
    "id": "ThWQ4623Bl8G",
    "outputId": "bbbcfbb8-d70e-4e2d-b15c-4f0fc9bf4ea6"
   },
   "outputs": [
    {
     "data": {
      "image/png": "[encoded data removed]",
      "text/plain": [
       "<Figure size 1511.11x500 with 3 Axes>"
      ]
     },
     "metadata": {},
     "output_type": "display_data"
    }
   ],
   "source": [
    "sc.pl.violin(\n",
    "    adata,\n",
    "    [\"n_genes_by_counts\", \"total_counts\", \"pct_counts_mt\"],\n",
    "    jitter=0.4,\n",
    "    multi_panel=True,\n",
    ")"
   ]
  },
  {
   "cell_type": "code",
   "execution_count": 26,
   "metadata": {
    "colab": {
     "base_uri": "https://localhost:8080/",
     "height": 1000
    },
    "executionInfo": {
     "elapsed": 2390,
     "status": "ok",
     "timestamp": 1759683385303,
     "user": {
      "displayName": "Ekow Mills",
      "userId": "12893291206346354513"
     },
     "user_tz": -60
    },
    "id": "44fKHXfBB0Ky",
    "outputId": "17620982-9dd0-436d-d056-47d03272da49"
   },
   "outputs": [
    {
     "data": {
      "image/png": "[encoded data removed]",
      "text/plain": [
       "<Figure size 500x500 with 1 Axes>"
      ]
     },
     "metadata": {},
     "output_type": "display_data"
    },
    {
     "data": {
      "image/png": "[encoded data removed]",
      "text/plain": [
       "<Figure size 804.6x480 with 1 Axes>"
      ]
     },
     "metadata": {},
     "output_type": "display_data"
    },
    {
     "data": {
      "image/png": "[encoded data removed]",
      "text/plain": [
       "<Figure size 810.02x480 with 2 Axes>"
      ]
     },
     "metadata": {},
     "output_type": "display_data"
    }
   ],
   "source": [
    "# sc.pl.scatter(adata, \"total_counts\", \"n_genes_by_counts\", color=\"pct_counts_mt\")\n",
    "p1 = sns.displot(adata.obs[\"total_counts\"], bins=100, kde=False)\n",
    "p2 = sc.pl.violin(adata, \"pct_counts_mt\")\n",
    "p3 = sc.pl.scatter(adata, \"total_counts\", \"n_genes_by_counts\", color=\"pct_counts_mt\")"
   ]
  },
  {
   "cell_type": "markdown",
   "metadata": {
    "id": "0eDMtkZcDqwA"
   },
   "source": [
    "Filter low quality genes"
   ]
  },
  {
   "cell_type": "code",
   "execution_count": 27,
   "metadata": {
    "colab": {
     "base_uri": "https://localhost:8080/"
    },
    "executionInfo": {
     "elapsed": 4298,
     "status": "ok",
     "timestamp": 1759683401234,
     "user": {
      "displayName": "Ekow Mills",
      "userId": "12893291206346354513"
     },
     "user_tz": -60
    },
    "id": "pKSGEKhYD-Bx",
    "outputId": "e89a0ccb-c9f9-4ddd-a356-fbec88e5405e"
   },
   "outputs": [
    {
     "name": "stdout",
     "output_type": "stream",
     "text": [
      "outlier\n",
      "False    54015\n",
      "True      3243\n",
      "Name: count, dtype: int64\n",
      "mt_outlier\n",
      "False    54772\n",
      "True      2486\n",
      "Name: count, dtype: int64\n"
     ]
    }
   ],
   "source": [
    "# Quality control\n",
    "# Follow: https://scanpy-tutorials.readthedocs.io/en/latest/basic-scrna-tutorial.html\n",
    "\n",
    "from scipy.stats import median_abs_deviation\n",
    "\n",
    "sc.pp.filter_cells(adata, min_genes=250)\n",
    "sc.pp.filter_genes(adata, min_cells=3)\n",
    "\n",
    "# Remove outliers if any\n",
    "# https://www.sc-best-practices.org/preprocessing_visualization/quality_control.html\n",
    "def is_outlier(adata, metric: str, nmads: int):\n",
    "    M = adata.obs[metric]\n",
    "    outlier = (M < np.median(M) - nmads * median_abs_deviation(M)) | (\n",
    "        np.median(M) + nmads * median_abs_deviation(M) < M\n",
    "    )\n",
    "    return outlier\n",
    "\n",
    "\n",
    "adata.obs[\"outlier\"] = (\n",
    "    is_outlier(adata, \"log1p_total_counts\", 5)\n",
    "    | is_outlier(adata, \"log1p_n_genes_by_counts\", 5)\n",
    "    | is_outlier(adata, \"pct_counts_in_top_20_genes\", 5)\n",
    ")\n",
    "print(adata.obs.outlier.value_counts())\n",
    "adata.obs[\"mt_outlier\"] =  adata.obs[\"pct_counts_mt\"] > 20\n",
    "\n",
    "print(adata.obs.mt_outlier.value_counts())"
   ]
  },
  {
   "cell_type": "code",
   "execution_count": 28,
   "metadata": {
    "colab": {
     "base_uri": "https://localhost:8080/"
    },
    "executionInfo": {
     "elapsed": 514,
     "status": "ok",
     "timestamp": 1759683421708,
     "user": {
      "displayName": "Ekow Mills",
      "userId": "12893291206346354513"
     },
     "user_tz": -60
    },
    "id": "-wgboDX3OF57",
    "outputId": "fdea5168-1a70-4028-c1e0-a9a830271d4b"
   },
   "outputs": [
    {
     "name": "stdout",
     "output_type": "stream",
     "text": [
      "Total number of cells: 57258\n",
      "Number of cells after filtering of low quality cells: 53338\n"
     ]
    }
   ],
   "source": [
    "print(f\"Total number of cells: {adata.n_obs}\")\n",
    "adata = adata[(~adata.obs.outlier) & (~adata.obs.mt_outlier)].copy()\n",
    "\n",
    "print(f\"Number of cells after filtering of low quality cells: {adata.n_obs}\")"
   ]
  },
  {
   "cell_type": "code",
   "execution_count": 29,
   "metadata": {
    "colab": {
     "base_uri": "https://localhost:8080/",
     "height": 1000
    },
    "executionInfo": {
     "elapsed": 1461,
     "status": "ok",
     "timestamp": 1759683428204,
     "user": {
      "displayName": "Ekow Mills",
      "userId": "12893291206346354513"
     },
     "user_tz": -60
    },
    "id": "8f0mAEqAOF57",
    "outputId": "4abd4dc6-6af7-4fda-e7de-d6645c47494f"
   },
   "outputs": [
    {
     "data": {
      "image/png": "[encoded data removed]",
      "text/plain": [
       "<Figure size 500x500 with 1 Axes>"
      ]
     },
     "metadata": {},
     "output_type": "display_data"
    },
    {
     "data": {
      "image/png": "[encoded data removed]",
      "text/plain": [
       "<Figure size 804.6x480 with 1 Axes>"
      ]
     },
     "metadata": {},
     "output_type": "display_data"
    },
    {
     "data": {
      "image/png": "[encoded data removed]",
      "text/plain": [
       "<Figure size 810.02x480 with 2 Axes>"
      ]
     },
     "metadata": {},
     "output_type": "display_data"
    }
   ],
   "source": [
    "p1 = sns.displot(adata.obs[\"total_counts\"], bins=100, kde=False)\n",
    "p2 = sc.pl.violin(adata, \"pct_counts_mt\")\n",
    "p3 = sc.pl.scatter(adata, \"total_counts\", \"n_genes_by_counts\", color=\"pct_counts_mt\")"
   ]
  },
  {
   "cell_type": "markdown",
   "metadata": {
    "id": "mDWOxmYTWNzJ"
   },
   "source": [
    "Checking for doublets and handling"
   ]
  },
  {
   "cell_type": "code",
   "execution_count": 30,
   "metadata": {
    "executionInfo": {
     "elapsed": 49,
     "status": "ok",
     "timestamp": 1759683441902,
     "user": {
      "displayName": "Ekow Mills",
      "userId": "12893291206346354513"
     },
     "user_tz": -60
    },
    "id": "I4n2ioQFXj1C"
   },
   "outputs": [],
   "source": [
    "import scanpy.external as sce"
   ]
  },
  {
   "cell_type": "code",
   "execution_count": 31,
   "metadata": {
    "colab": {
     "base_uri": "https://localhost:8080/"
    },
    "collapsed": true,
    "executionInfo": {
     "elapsed": 255962,
     "status": "ok",
     "timestamp": 1759683700745,
     "user": {
      "displayName": "Ekow Mills",
      "userId": "12893291206346354513"
     },
     "user_tz": -60
    },
    "id": "yaP3-_gjG19K",
    "outputId": "b38f1baa-f629-49ae-cf3a-eea45184094a"
   },
   "outputs": [
    {
     "name": "stdout",
     "output_type": "stream",
     "text": [
      "Processing batch: GSM9061665_S1\n"
     ]
    },
    {
     "name": "stderr",
     "output_type": "stream",
     "text": [
      "C:\\Users\\minht\\AppData\\Roaming\\Python\\Python310\\site-packages\\sklearn\\utils\\deprecation.py:95: FutureWarning: Function scrublet is deprecated; Import from sc.pp instead\n",
      "  warnings.warn(msg, category=FutureWarning)\n"
     ]
    },
    {
     "name": "stdout",
     "output_type": "stream",
     "text": [
      "Processing batch: GSM9061666_S2\n"
     ]
    },
    {
     "name": "stderr",
     "output_type": "stream",
     "text": [
      "C:\\Users\\minht\\AppData\\Roaming\\Python\\Python310\\site-packages\\sklearn\\utils\\deprecation.py:95: FutureWarning: Function scrublet is deprecated; Import from sc.pp instead\n",
      "  warnings.warn(msg, category=FutureWarning)\n"
     ]
    },
    {
     "name": "stdout",
     "output_type": "stream",
     "text": [
      "Processing batch: GSM9061667_S3\n"
     ]
    },
    {
     "name": "stderr",
     "output_type": "stream",
     "text": [
      "C:\\Users\\minht\\AppData\\Roaming\\Python\\Python310\\site-packages\\sklearn\\utils\\deprecation.py:95: FutureWarning: Function scrublet is deprecated; Import from sc.pp instead\n",
      "  warnings.warn(msg, category=FutureWarning)\n"
     ]
    },
    {
     "name": "stdout",
     "output_type": "stream",
     "text": [
      "Processing batch: GSM9061668_S4\n"
     ]
    },
    {
     "name": "stderr",
     "output_type": "stream",
     "text": [
      "C:\\Users\\minht\\AppData\\Roaming\\Python\\Python310\\site-packages\\sklearn\\utils\\deprecation.py:95: FutureWarning: Function scrublet is deprecated; Import from sc.pp instead\n",
      "  warnings.warn(msg, category=FutureWarning)\n"
     ]
    },
    {
     "name": "stdout",
     "output_type": "stream",
     "text": [
      "Processing batch: GSM9061669_S5\n"
     ]
    },
    {
     "name": "stderr",
     "output_type": "stream",
     "text": [
      "C:\\Users\\minht\\AppData\\Roaming\\Python\\Python310\\site-packages\\sklearn\\utils\\deprecation.py:95: FutureWarning: Function scrublet is deprecated; Import from sc.pp instead\n",
      "  warnings.warn(msg, category=FutureWarning)\n"
     ]
    },
    {
     "name": "stdout",
     "output_type": "stream",
     "text": [
      "Processing batch: GSM9061673_S9\n"
     ]
    },
    {
     "name": "stderr",
     "output_type": "stream",
     "text": [
      "C:\\Users\\minht\\AppData\\Roaming\\Python\\Python310\\site-packages\\sklearn\\utils\\deprecation.py:95: FutureWarning: Function scrublet is deprecated; Import from sc.pp instead\n",
      "  warnings.warn(msg, category=FutureWarning)\n"
     ]
    },
    {
     "name": "stdout",
     "output_type": "stream",
     "text": [
      "Processing batch: GSM9061674_S10\n"
     ]
    },
    {
     "name": "stderr",
     "output_type": "stream",
     "text": [
      "C:\\Users\\minht\\AppData\\Roaming\\Python\\Python310\\site-packages\\sklearn\\utils\\deprecation.py:95: FutureWarning: Function scrublet is deprecated; Import from sc.pp instead\n",
      "  warnings.warn(msg, category=FutureWarning)\n"
     ]
    }
   ],
   "source": [
    "# Make a copy to store results\n",
    "adata_scrub = adata.copy()\n",
    "\n",
    "# Store doublet predictions\n",
    "adata_scrub.obs['doublet_score'] = 0.0\n",
    "adata_scrub.obs['predicted_doublet'] = False\n",
    "\n",
    "# Process per batch to save memory\n",
    "batches = adata_scrub.obs['sample_id'].unique()\n",
    "for batch in batches:\n",
    "    print(f\"Processing batch: {batch}\")\n",
    "    adata_batch = adata_scrub[adata_scrub.obs['sample_id'] == batch].copy()\n",
    "\n",
    "    # Run Scrublet\n",
    "    sce.pp.scrublet(\n",
    "        adata_batch,\n",
    "        batch_key=None,  # batch already subsetted\n",
    "        expected_doublet_rate=0.06,\n",
    "        sim_doublet_ratio=1.0,\n",
    "        n_prin_comps=20\n",
    "    )\n",
    "\n",
    "    # Assign back to main AnnData\n",
    "    adata_scrub.obs.loc[adata_batch.obs_names, 'doublet_score'] = adata_batch.obs['doublet_score']\n",
    "    adata_scrub.obs.loc[adata_batch.obs_names, 'predicted_doublet'] = adata_batch.obs['predicted_doublet']"
   ]
  },
  {
   "cell_type": "code",
   "execution_count": 32,
   "metadata": {
    "colab": {
     "base_uri": "https://localhost:8080/"
    },
    "executionInfo": {
     "elapsed": 869,
     "status": "ok",
     "timestamp": 1759683939793,
     "user": {
      "displayName": "Ekow Mills",
      "userId": "12893291206346354513"
     },
     "user_tz": -60
    },
    "id": "e1lroPdlXfkB",
    "outputId": "a17383ac-a305-4486-ccb3-c66c5ddd0968"
   },
   "outputs": [
    {
     "name": "stdout",
     "output_type": "stream",
     "text": [
      "Total predicted doublets: 507/53338 (0.95%)\n",
      "Cells after removing doublets: 52831\n"
     ]
    }
   ],
   "source": [
    "# Optional: remove predicted doublets\n",
    "adata_filtered = adata_scrub[~adata_scrub.obs['predicted_doublet']].copy()\n",
    "\n",
    "# Summary\n",
    "n_doublets = adata_scrub.obs['predicted_doublet'].sum()\n",
    "print(f\"Total predicted doublets: {n_doublets}/{adata_scrub.n_obs} ({n_doublets/adata_scrub.n_obs:.2%})\")\n",
    "print(f\"Cells after removing doublets: {adata_filtered.n_obs}\")"
   ]
  },
  {
   "cell_type": "code",
   "execution_count": 33,
   "metadata": {
    "colab": {
     "base_uri": "https://localhost:8080/",
     "height": 449
    },
    "executionInfo": {
     "elapsed": 532,
     "status": "ok",
     "timestamp": 1759683948478,
     "user": {
      "displayName": "Ekow Mills",
      "userId": "12893291206346354513"
     },
     "user_tz": -60
    },
    "id": "aLoP3oO2Yst8",
    "outputId": "d3ee09db-a20a-4503-d795-697dbff0b7a7"
   },
   "outputs": [
    {
     "data": {
      "image/png": "[encoded data removed]",
      "text/plain": [
       "<Figure size 640x480 with 1 Axes>"
      ]
     },
     "metadata": {},
     "output_type": "display_data"
    }
   ],
   "source": [
    "sns.histplot(adata_scrub.obs['doublet_score'], bins=100, color='skyblue')\n",
    "plt.axvline(0.25, color='red', linestyle='--', label='threshold')\n",
    "plt.xlabel('Doublet score')\n",
    "plt.ylabel('Number of cells')\n",
    "plt.legend()\n",
    "plt.show()"
   ]
  },
  {
   "cell_type": "code",
   "execution_count": 34,
   "metadata": {
    "colab": {
     "base_uri": "https://localhost:8080/",
     "height": 487
    },
    "executionInfo": {
     "elapsed": 1726,
     "status": "ok",
     "timestamp": 1759683953666,
     "user": {
      "displayName": "Ekow Mills",
      "userId": "12893291206346354513"
     },
     "user_tz": -60
    },
    "id": "dARMBGGyYssO",
    "outputId": "2495803e-c60e-44b9-f8d7-2a764eba48b7"
   },
   "outputs": [
    {
     "data": {
      "image/png": "[encoded data removed]",
      "text/plain": [
       "<Figure size 800x500 with 1 Axes>"
      ]
     },
     "metadata": {},
     "output_type": "display_data"
    }
   ],
   "source": [
    "# Subset to remaining cells (after doublet removal)\n",
    "adata_after = adata_scrub[~adata_scrub.obs['predicted_doublet']].copy()\n",
    "\n",
    "# Plot histogram\n",
    "plt.figure(figsize=(8,5))\n",
    "sns.histplot(adata_after.obs['doublet_score'], bins=100, color='lightgreen')\n",
    "plt.axvline(0.25, color='red', linestyle='--', label='typical threshold')\n",
    "plt.xlabel('Doublet score')\n",
    "plt.ylabel('Number of cells')\n",
    "plt.title('Doublet score distribution after removing predicted doublets')\n",
    "plt.legend()\n",
    "plt.show()"
   ]
  },
  {
   "cell_type": "code",
   "execution_count": 35,
   "metadata": {
    "colab": {
     "base_uri": "https://localhost:8080/"
    },
    "executionInfo": {
     "elapsed": 1198,
     "status": "ok",
     "timestamp": 1759683958226,
     "user": {
      "displayName": "Ekow Mills",
      "userId": "12893291206346354513"
     },
     "user_tz": -60
    },
    "id": "TDvwqkfiYsox",
    "outputId": "67f00308-afe8-45af-fd7f-bae576cb4d87"
   },
   "outputs": [
    {
     "name": "stdout",
     "output_type": "stream",
     "text": [
      "--- Before removing doublets ---\n",
      "Total cells: 53338\n",
      "Predicted doublets: 507\n",
      "Predicted singlets: 52831\n",
      "Mean doublet score: 0.0655\n",
      "Median doublet score: 0.0457\n",
      "\n",
      "--- After removing doublets ---\n",
      "Total cells: 52831\n",
      "Mean doublet score: 0.0623\n",
      "Median doublet score: 0.0451\n"
     ]
    }
   ],
   "source": [
    "# Before removing doublets\n",
    "total_cells_before = adata_scrub.n_obs\n",
    "predicted_doublets_before = adata_scrub.obs['predicted_doublet'].sum()\n",
    "singlets_before = total_cells_before - predicted_doublets_before\n",
    "mean_score_before = adata_scrub.obs['doublet_score'].mean()\n",
    "median_score_before = adata_scrub.obs['doublet_score'].median()\n",
    "\n",
    "print(\"--- Before removing doublets ---\")\n",
    "print(f\"Total cells: {total_cells_before}\")\n",
    "print(f\"Predicted doublets: {predicted_doublets_before}\")\n",
    "print(f\"Predicted singlets: {singlets_before}\")\n",
    "print(f\"Mean doublet score: {mean_score_before:.4f}\")\n",
    "print(f\"Median doublet score: {median_score_before:.4f}\")\n",
    "print()\n",
    "\n",
    "# After removing doublets\n",
    "adata_after = adata_scrub[~adata_scrub.obs['predicted_doublet']].copy()\n",
    "total_cells_after = adata_after.n_obs\n",
    "mean_score_after = adata_after.obs['doublet_score'].mean()\n",
    "median_score_after = adata_after.obs['doublet_score'].median()\n",
    "\n",
    "print(\"--- After removing doublets ---\")\n",
    "print(f\"Total cells: {total_cells_after}\")\n",
    "print(f\"Mean doublet score: {mean_score_after:.4f}\")\n",
    "print(f\"Median doublet score: {median_score_after:.4f}\")\n"
   ]
  },
  {
   "cell_type": "code",
   "execution_count": 90,
   "metadata": {
    "colab": {
     "base_uri": "https://localhost:8080/"
    },
    "executionInfo": {
     "elapsed": 303,
     "status": "ok",
     "timestamp": 1759683966690,
     "user": {
      "displayName": "Ekow Mills",
      "userId": "12893291206346354513"
     },
     "user_tz": -60
    },
    "id": "l8krUiMXbVOv",
    "outputId": "7fbc0fca-4c25-4bf0-dcbc-d09354ef6739"
   },
   "outputs": [
    {
     "name": "stdout",
     "output_type": "stream",
     "text": [
      "Raw counts saved. Layer keys: KeysView(Layers with keys: counts)\n"
     ]
    }
   ],
   "source": [
    "adata_after.layers[\"counts\"] = adata_after.X.copy()\n",
    "print(f\"Raw counts saved. Layer keys: {adata_after.layers.keys()}\")"
   ]
  },
  {
   "cell_type": "code",
   "execution_count": 91,
   "metadata": {},
   "outputs": [
    {
     "data": {
      "text/plain": [
       "AnnData object with n_obs × n_vars = 52831 × 22735\n",
       "    obs: 'sample_id', 'patient_id', 'response', 'n_genes_by_counts', 'log1p_n_genes_by_counts', 'total_counts', 'log1p_total_counts', 'pct_counts_in_top_20_genes', 'total_counts_mt', 'log1p_total_counts_mt', 'pct_counts_mt', 'total_counts_ribo', 'log1p_total_counts_ribo', 'pct_counts_ribo', 'total_counts_hb', 'log1p_total_counts_hb', 'pct_counts_hb', 'n_genes', 'outlier', 'mt_outlier', 'doublet_score', 'predicted_doublet'\n",
       "    var: 'symbol', 'mt', 'ribo', 'hb', 'n_cells_by_counts', 'mean_counts', 'log1p_mean_counts', 'pct_dropout_by_counts', 'total_counts', 'log1p_total_counts', 'n_cells'\n",
       "    layers: 'counts'"
      ]
     },
     "execution_count": 91,
     "metadata": {},
     "output_type": "execute_result"
    }
   ],
   "source": [
    "adata_after"
   ]
  },
  {
   "cell_type": "code",
   "execution_count": null,
   "metadata": {},
   "outputs": [],
   "source": [
    "# adata_after.write_h5ad(\"gene_expression_processed1.h5ad\")"
   ]
  },
  {
   "cell_type": "markdown",
   "metadata": {},
   "source": [
    "## Generate Final Transcriptomics Data for 5000 HVG"
   ]
  },
  {
   "cell_type": "code",
   "execution_count": null,
   "metadata": {},
   "outputs": [],
   "source": [
    "#  You can start from here. No need to rerun the above analysis\n",
    "adata = sc.read_h5ad(\"gene_expression_processed1.h5ad\")"
   ]
  },
  {
   "cell_type": "code",
   "execution_count": 101,
   "metadata": {},
   "outputs": [
    {
     "data": {
      "text/plain": [
       "AnnData object with n_obs × n_vars = 52831 × 22735\n",
       "    obs: 'sample_id', 'patient_id', 'response', 'n_genes_by_counts', 'log1p_n_genes_by_counts', 'total_counts', 'log1p_total_counts', 'pct_counts_in_top_20_genes', 'total_counts_mt', 'log1p_total_counts_mt', 'pct_counts_mt', 'total_counts_ribo', 'log1p_total_counts_ribo', 'pct_counts_ribo', 'total_counts_hb', 'log1p_total_counts_hb', 'pct_counts_hb', 'n_genes', 'outlier', 'mt_outlier', 'doublet_score', 'predicted_doublet'\n",
       "    var: 'symbol', 'mt', 'ribo', 'hb', 'n_cells_by_counts', 'mean_counts', 'log1p_mean_counts', 'pct_dropout_by_counts', 'total_counts', 'log1p_total_counts', 'n_cells', 'highly_variable', 'means', 'dispersions', 'dispersions_norm'\n",
       "    uns: 'log1p', 'hvg', 'response'\n",
       "    layers: 'counts'"
      ]
     },
     "execution_count": 101,
     "metadata": {},
     "output_type": "execute_result"
    }
   ],
   "source": [
    "adata"
   ]
  },
  {
   "cell_type": "code",
   "execution_count": null,
   "metadata": {
    "colab": {
     "base_uri": "https://localhost:8080/",
     "height": 709
    },
    "executionInfo": {
     "elapsed": 5240,
     "status": "ok",
     "timestamp": 1759683993609,
     "user": {
      "displayName": "Ekow Mills",
      "userId": "12893291206346354513"
     },
     "user_tz": -60
    },
    "id": "oUx0P5g9AYzC",
    "outputId": "bdea6738-2ecc-40db-b726-4ba7449ea5de"
   },
   "outputs": [
    {
     "name": "stdout",
     "output_type": "stream",
     "text": [
      "Highly Variable Genes selection counts:\n",
      "highly_variable\n",
      "False    17735\n",
      "True      5000\n",
      "Name: count, dtype: int64\n",
      "\n",
      "Summary statistics of gene means and dispersions:\n",
      "              means   dispersions  dispersions_norm\n",
      "count  2.273500e+04  22727.000000      22727.000000\n",
      "mean   1.613837e-01      1.376082          0.000044\n",
      "std    3.699218e-01      0.445417          0.999602\n",
      "min    1.000000e-12     -0.615357         -4.533753\n",
      "25%    1.435658e-03      1.220120         -0.404624\n",
      "50%    2.512826e-02      1.337774         -0.074510\n",
      "75%    1.764122e-01      1.473191          0.240613\n",
      "max    5.249661e+00      6.398817         12.816979\n"
     ]
    }
   ],
   "source": [
    "# --- Normalization and log-transform ---\n",
    "sc.pp.normalize_total(adata, target_sum=1e4)\n",
    "sc.pp.log1p(adata)\n",
    "\n",
    "# --- Compute HVGs but do NOT subset (retain all genes) ---\n",
    "sc.pp.highly_variable_genes(adata, n_top_genes=5000, subset=False)\n",
    "\n",
    "# --- Print HVG summary stats (optional but good for verification) ---\n",
    "print(\"Highly Variable Genes selection counts:\")\n",
    "print(adata.var['highly_variable'].value_counts())\n",
    "print(\"\\nSummary statistics of gene means and dispersions:\")\n",
    "print(adata.var[['means', 'dispersions', 'dispersions_norm']].describe())\n",
    "\n",
    "# --- Plot HVG selection curve ---\n",
    "# sc.pl.highly_variable_genes(adata, save=False)"
   ]
  },
  {
   "cell_type": "code",
   "execution_count": 96,
   "metadata": {},
   "outputs": [
    {
     "data": {
      "text/plain": [
       "75"
      ]
     },
     "execution_count": 96,
     "metadata": {},
     "output_type": "execute_result"
    }
   ],
   "source": [
    "hvg_check = set(adata.var[adata.var['highly_variable']==True].index) &set(gene_meta.Gene) \n",
    "len(hvg_check)"
   ]
  },
  {
   "cell_type": "code",
   "execution_count": null,
   "metadata": {},
   "outputs": [],
   "source": [
    "# Full normalized log-expression matrix\n",
    "expr_df = pd.DataFrame(\n",
    "    adata.X.toarray() if hasattr(adata.X, \"toarray\") else adata.X,\n",
    "    index=adata.obs_names,\n",
    "    columns=adata.var_names\n",
    ")\n",
    "expr_df.to_csv(\"transcriptomic_hvg.csv\")\n",
    "\n",
    "# HVG list ordered by dispersion_norm descending\n",
    "hvg_genes = (\n",
    "    adata.var[adata.var[\"highly_variable\"]]\n",
    "    .sort_values(\"dispersions_norm\", ascending=False)\n",
    "    .index.to_list()\n",
    ")\n",
    "\n",
    "pd.Series(hvg_genes).to_csv(\"hvg_genes.csv\", index=False, header=False)"
   ]
  },
  {
   "cell_type": "markdown",
   "metadata": {},
   "source": [
    "## DE Analysis"
   ]
  },
  {
   "cell_type": "code",
   "execution_count": null,
   "metadata": {},
   "outputs": [],
   "source": [
    "# DE genes\n",
    "# DE analysis\n",
    "# find DE genes by t-test\n",
    "key_DE = \"response\"\n",
    "sc.tl.rank_genes_groups(adata, key_DE, method=\"t-test\", key_added=key_DE, reference='Non-responder') \n",
    "\n",
    "results = adata.uns[key_DE]\n",
    "('0', '1', '2', '3', '4')\n",
    "\n",
    "out = np.array([[0,0,0,0,0]]) \n",
    "for group in results['names'].dtype.names:\n",
    "    out = np.vstack((out, np.vstack((results['names'][group],\n",
    "                                     results['scores'][group],\n",
    "                                     results['pvals_adj'][group],\n",
    "                                     results['logfoldchanges'][group],\n",
    "                                     np.array([group] * len(results['names'][group])).astype('object'))).T))\n",
    "\n",
    "\n",
    "\n",
    "markers = pd.DataFrame(out[1:], columns = ['Gene', 'scores', 'pval_adj', 'lfc', 'cluster'])\n",
    "\n"
   ]
  },
  {
   "cell_type": "code",
   "execution_count": 103,
   "metadata": {},
   "outputs": [],
   "source": [
    "markers.query('Gene in @gene_meta.Gene & pval_adj < 0.05').to_csv('DE_metabolic_genes.csv')\n",
    "markers.query(' pval_adj < 0.05').to_csv('DE_genes.csv')"
   ]
  },
  {
   "cell_type": "code",
   "execution_count": null,
   "metadata": {},
   "outputs": [],
   "source": [
    "union_genes = set(markers.query('Gene in @gene_meta.Gene & pval_adj < 0.05').Gene) |hvg_check\n",
    "pd.DataFrame(union_genes).to_csv('union_5000HVG_DE_genes.csv')"
   ]
  },
  {
   "cell_type": "code",
   "execution_count": 99,
   "metadata": {},
   "outputs": [
    {
     "name": "stdout",
     "output_type": "stream",
     "text": [
      "Total metabolic genes in the model: 497\n",
      "Total metabolic genes if 5000HVG genes selected: 75\n",
      "Total DE metabolic genes : 313\n",
      "Total metabolic genes in union: 335\n"
     ]
    }
   ],
   "source": [
    "print(\"Total metabolic genes in the model:\", len(gene_meta))\n",
    "print(\"Total metabolic genes if 5000HVG genes selected:\", len(hvg_check))\n",
    "print(\"Total DE metabolic genes :\", len(set(markers.query('Gene in @gene_meta.Gene & pval_adj < 0.05').Gene)))\n",
    "print(\"Total metabolic genes in union:\", len(set(markers.query('Gene in @gene_meta.Gene & pval_adj < 0.05').Gene) |hvg_check))\n"
   ]
  },
  {
   "cell_type": "code",
   "execution_count": null,
   "metadata": {
    "executionInfo": {
     "elapsed": 769,
     "status": "ok",
     "timestamp": 1759684958730,
     "user": {
      "displayName": "Ekow Mills",
      "userId": "12893291206346354513"
     },
     "user_tz": -60
    },
    "id": "GMSpgEWhHhC3"
   },
   "outputs": [],
   "source": [
    "# Select only HVGs for downstream analysis\n",
    "adata_hvg = adata[:, adata.var['highly_variable']].copy()"
   ]
  },
  {
   "cell_type": "code",
   "execution_count": 110,
   "metadata": {},
   "outputs": [
    {
     "data": {
      "text/plain": [
       "AnnData object with n_obs × n_vars = 52831 × 5000\n",
       "    obs: 'sample_id', 'patient_id', 'response', 'n_genes_by_counts', 'log1p_n_genes_by_counts', 'total_counts', 'log1p_total_counts', 'pct_counts_in_top_20_genes', 'total_counts_mt', 'log1p_total_counts_mt', 'pct_counts_mt', 'total_counts_ribo', 'log1p_total_counts_ribo', 'pct_counts_ribo', 'total_counts_hb', 'log1p_total_counts_hb', 'pct_counts_hb', 'n_genes', 'outlier', 'mt_outlier', 'doublet_score', 'predicted_doublet'\n",
       "    var: 'symbol', 'mt', 'ribo', 'hb', 'n_cells_by_counts', 'mean_counts', 'log1p_mean_counts', 'pct_dropout_by_counts', 'total_counts', 'log1p_total_counts', 'n_cells', 'highly_variable', 'means', 'dispersions', 'dispersions_norm'\n",
       "    uns: 'log1p', 'hvg', 'response'\n",
       "    layers: 'counts'"
      ]
     },
     "execution_count": 110,
     "metadata": {},
     "output_type": "execute_result"
    }
   ],
   "source": [
    "adata_hvg"
   ]
  },
  {
   "cell_type": "markdown",
   "metadata": {},
   "source": [
    "<h3> I only run the code until here. Pls check rerun the below code if necessary. "
   ]
  },
  {
   "cell_type": "code",
   "execution_count": null,
   "metadata": {},
   "outputs": [],
   "source": [
    "#--- PCA before HVG filtering ---\n",
    "# sc.tl.pca(adata_hvg)\n",
    "# sc.pl.pca_scatter(\n",
    "#     adata_hvg,\n",
    "#     color='response',\n",
    "#     title='PCA before HVG filtering',\n",
    "#     palette=['#1f77b4', '#ff7f0e']\n",
    "# )"
   ]
  },
  {
   "cell_type": "code",
   "execution_count": 69,
   "metadata": {
    "colab": {
     "base_uri": "https://localhost:8080/",
     "height": 312
    },
    "executionInfo": {
     "elapsed": 52,
     "status": "ok",
     "timestamp": 1759688775705,
     "user": {
      "displayName": "Ekow Mills",
      "userId": "12893291206346354513"
     },
     "user_tz": -60
    },
    "id": "EizXyEAZHg-R",
    "outputId": "cdc489cf-e2a8-49e6-d4e4-a53465034b33"
   },
   "outputs": [
    {
     "data": {
      "application/vnd.google.colaboratory.intrinsic+json": {
       "summary": "{\n  \"name\": \"adata_hvg\",\n  \"rows\": 5,\n  \"fields\": [\n    {\n      \"column\": \"sample_id\",\n      \"properties\": {\n        \"dtype\": \"category\",\n        \"num_unique_values\": 1,\n        \"samples\": [\n          \"GSM9061665_S1\"\n        ],\n        \"semantic_type\": \"\",\n        \"description\": \"\"\n      }\n    },\n    {\n      \"column\": \"patient_id\",\n      \"properties\": {\n        \"dtype\": \"category\",\n        \"num_unique_values\": 1,\n        \"samples\": [\n          \"PT1\"\n        ],\n        \"semantic_type\": \"\",\n        \"description\": \"\"\n      }\n    },\n    {\n      \"column\": \"response\",\n      \"properties\": {\n        \"dtype\": \"category\",\n        \"num_unique_values\": 1,\n        \"samples\": [\n          \"Responder\"\n        ],\n        \"semantic_type\": \"\",\n        \"description\": \"\"\n      }\n    },\n    {\n      \"column\": \"n_genes_by_counts\",\n      \"properties\": {\n        \"dtype\": \"int32\",\n        \"num_unique_values\": 5,\n        \"samples\": [\n          794\n        ],\n        \"semantic_type\": \"\",\n        \"description\": \"\"\n      }\n    },\n    {\n      \"column\": \"log1p_n_genes_by_counts\",\n      \"properties\": {\n        \"dtype\": \"number\",\n        \"std\": 0.2787120805460333,\n        \"min\": 6.678342114654332,\n        \"max\": 7.301822342137932,\n        \"num_unique_values\": 5,\n        \"samples\": [\n          6.678342114654332\n        ],\n        \"semantic_type\": \"\",\n        \"description\": \"\"\n      }\n    },\n    {\n      \"column\": \"total_counts\",\n      \"properties\": {\n        \"dtype\": \"float32\",\n        \"num_unique_values\": 5,\n        \"samples\": [\n          1677.0\n        ],\n        \"semantic_type\": \"\",\n        \"description\": \"\"\n      }\n    },\n    {\n      \"column\": \"log1p_total_counts\",\n      \"properties\": {\n        \"dtype\": \"float32\",\n        \"num_unique_values\": 5,\n        \"samples\": [\n          7.425357818603516\n        ],\n        \"semantic_type\": \"\",\n        \"description\": \"\"\n      }\n    },\n    {\n      \"column\": \"pct_counts_in_top_20_genes\",\n      \"properties\": {\n        \"dtype\": \"number\",\n        \"std\": 1.8367142112322021,\n        \"min\": 23.017292784734643,\n        \"max\": 27.526811829704258,\n        \"num_unique_values\": 5,\n        \"samples\": [\n          23.017292784734643\n        ],\n        \"semantic_type\": \"\",\n        \"description\": \"\"\n      }\n    },\n    {\n      \"column\": \"total_counts_mt\",\n      \"properties\": {\n        \"dtype\": \"float32\",\n        \"num_unique_values\": 5,\n        \"samples\": [\n          139.0\n        ],\n        \"semantic_type\": \"\",\n        \"description\": \"\"\n      }\n    },\n    {\n      \"column\": \"log1p_total_counts_mt\",\n      \"properties\": {\n        \"dtype\": \"float32\",\n        \"num_unique_values\": 5,\n        \"samples\": [\n          4.9416422843933105\n        ],\n        \"semantic_type\": \"\",\n        \"description\": \"\"\n      }\n    },\n    {\n      \"column\": \"pct_counts_mt\",\n      \"properties\": {\n        \"dtype\": \"float32\",\n        \"num_unique_values\": 5,\n        \"samples\": [\n          8.288610458374023\n        ],\n        \"semantic_type\": \"\",\n        \"description\": \"\"\n      }\n    },\n    {\n      \"column\": \"total_counts_ribo\",\n      \"properties\": {\n        \"dtype\": \"float32\",\n        \"num_unique_values\": 5,\n        \"samples\": [\n          388.0\n        ],\n        \"semantic_type\": \"\",\n        \"description\": \"\"\n      }\n    },\n    {\n      \"column\": \"log1p_total_counts_ribo\",\n      \"properties\": {\n        \"dtype\": \"float32\",\n        \"num_unique_values\": 5,\n        \"samples\": [\n          5.963579177856445\n        ],\n        \"semantic_type\": \"\",\n        \"description\": \"\"\n      }\n    },\n    {\n      \"column\": \"pct_counts_ribo\",\n      \"properties\": {\n        \"dtype\": \"float32\",\n        \"num_unique_values\": 5,\n        \"samples\": [\n          23.136552810668945\n        ],\n        \"semantic_type\": \"\",\n        \"description\": \"\"\n      }\n    },\n    {\n      \"column\": \"total_counts_hb\",\n      \"properties\": {\n        \"dtype\": \"float32\",\n        \"num_unique_values\": 1,\n        \"samples\": [\n          0.0\n        ],\n        \"semantic_type\": \"\",\n        \"description\": \"\"\n      }\n    },\n    {\n      \"column\": \"log1p_total_counts_hb\",\n      \"properties\": {\n        \"dtype\": \"float32\",\n        \"num_unique_values\": 1,\n        \"samples\": [\n          0.0\n        ],\n        \"semantic_type\": \"\",\n        \"description\": \"\"\n      }\n    },\n    {\n      \"column\": \"pct_counts_hb\",\n      \"properties\": {\n        \"dtype\": \"float32\",\n        \"num_unique_values\": 1,\n        \"samples\": [\n          0.0\n        ],\n        \"semantic_type\": \"\",\n        \"description\": \"\"\n      }\n    },\n    {\n      \"column\": \"n_genes\",\n      \"properties\": {\n        \"dtype\": \"number\",\n        \"std\": 305,\n        \"min\": 794,\n        \"max\": 1482,\n        \"num_unique_values\": 5,\n        \"samples\": [\n          794\n        ],\n        \"semantic_type\": \"\",\n        \"description\": \"\"\n      }\n    },\n    {\n      \"column\": \"outlier\",\n      \"properties\": {\n        \"dtype\": \"boolean\",\n        \"num_unique_values\": 1,\n        \"samples\": [\n          false\n        ],\n        \"semantic_type\": \"\",\n        \"description\": \"\"\n      }\n    },\n    {\n      \"column\": \"mt_outlier\",\n      \"properties\": {\n        \"dtype\": \"boolean\",\n        \"num_unique_values\": 1,\n        \"samples\": [\n          false\n        ],\n        \"semantic_type\": \"\",\n        \"description\": \"\"\n      }\n    }\n  ]\n}",
       "type": "dataframe"
      },
      "text/html": [
       "\n",
       "  <div id=\"df-fc5299a6-8c62-4961-ac83-16d66d4c70bb\" class=\"colab-df-container\">\n",
       "    <div>\n",
       "<style scoped>\n",
       "    .dataframe tbody tr th:only-of-type {\n",
       "        vertical-align: middle;\n",
       "    }\n",
       "\n",
       "    .dataframe tbody tr th {\n",
       "        vertical-align: top;\n",
       "    }\n",
       "\n",
       "    .dataframe thead th {\n",
       "        text-align: right;\n",
       "    }\n",
       "</style>\n",
       "<table border=\"1\" class=\"dataframe\">\n",
       "  <thead>\n",
       "    <tr style=\"text-align: right;\">\n",
       "      <th></th>\n",
       "      <th>sample_id</th>\n",
       "      <th>patient_id</th>\n",
       "      <th>response</th>\n",
       "      <th>n_genes_by_counts</th>\n",
       "      <th>log1p_n_genes_by_counts</th>\n",
       "      <th>total_counts</th>\n",
       "      <th>log1p_total_counts</th>\n",
       "      <th>pct_counts_in_top_20_genes</th>\n",
       "      <th>total_counts_mt</th>\n",
       "      <th>log1p_total_counts_mt</th>\n",
       "      <th>pct_counts_mt</th>\n",
       "      <th>total_counts_ribo</th>\n",
       "      <th>log1p_total_counts_ribo</th>\n",
       "      <th>pct_counts_ribo</th>\n",
       "      <th>total_counts_hb</th>\n",
       "      <th>log1p_total_counts_hb</th>\n",
       "      <th>pct_counts_hb</th>\n",
       "      <th>n_genes</th>\n",
       "      <th>outlier</th>\n",
       "      <th>mt_outlier</th>\n",
       "    </tr>\n",
       "  </thead>\n",
       "  <tbody>\n",
       "    <tr>\n",
       "      <th>AAACCTGAGACTGTAA-1</th>\n",
       "      <td>GSM9061665_S1</td>\n",
       "      <td>PT1</td>\n",
       "      <td>Responder</td>\n",
       "      <td>1379</td>\n",
       "      <td>7.229839</td>\n",
       "      <td>4637.0</td>\n",
       "      <td>8.442039</td>\n",
       "      <td>24.261376</td>\n",
       "      <td>157.0</td>\n",
       "      <td>5.062595</td>\n",
       "      <td>3.385810</td>\n",
       "      <td>1820.0</td>\n",
       "      <td>7.507141</td>\n",
       "      <td>39.249516</td>\n",
       "      <td>0.0</td>\n",
       "      <td>0.0</td>\n",
       "      <td>0.0</td>\n",
       "      <td>1379</td>\n",
       "      <td>False</td>\n",
       "      <td>False</td>\n",
       "    </tr>\n",
       "    <tr>\n",
       "      <th>AAACCTGAGCAGCGTA-1</th>\n",
       "      <td>GSM9061665_S1</td>\n",
       "      <td>PT1</td>\n",
       "      <td>Responder</td>\n",
       "      <td>794</td>\n",
       "      <td>6.678342</td>\n",
       "      <td>1677.0</td>\n",
       "      <td>7.425358</td>\n",
       "      <td>23.017293</td>\n",
       "      <td>139.0</td>\n",
       "      <td>4.941642</td>\n",
       "      <td>8.288610</td>\n",
       "      <td>388.0</td>\n",
       "      <td>5.963579</td>\n",
       "      <td>23.136553</td>\n",
       "      <td>0.0</td>\n",
       "      <td>0.0</td>\n",
       "      <td>0.0</td>\n",
       "      <td>794</td>\n",
       "      <td>False</td>\n",
       "      <td>False</td>\n",
       "    </tr>\n",
       "    <tr>\n",
       "      <th>AAACCTGAGCCAACAG-1</th>\n",
       "      <td>GSM9061665_S1</td>\n",
       "      <td>PT1</td>\n",
       "      <td>Responder</td>\n",
       "      <td>1482</td>\n",
       "      <td>7.301822</td>\n",
       "      <td>4707.0</td>\n",
       "      <td>8.457019</td>\n",
       "      <td>25.515190</td>\n",
       "      <td>330.0</td>\n",
       "      <td>5.802118</td>\n",
       "      <td>7.010835</td>\n",
       "      <td>1892.0</td>\n",
       "      <td>7.545918</td>\n",
       "      <td>40.195454</td>\n",
       "      <td>0.0</td>\n",
       "      <td>0.0</td>\n",
       "      <td>0.0</td>\n",
       "      <td>1482</td>\n",
       "      <td>False</td>\n",
       "      <td>False</td>\n",
       "    </tr>\n",
       "    <tr>\n",
       "      <th>AAACCTGAGCGTGAAC-1</th>\n",
       "      <td>GSM9061665_S1</td>\n",
       "      <td>PT1</td>\n",
       "      <td>Responder</td>\n",
       "      <td>1277</td>\n",
       "      <td>7.153052</td>\n",
       "      <td>4849.0</td>\n",
       "      <td>8.486734</td>\n",
       "      <td>26.809651</td>\n",
       "      <td>247.0</td>\n",
       "      <td>5.513429</td>\n",
       "      <td>5.093834</td>\n",
       "      <td>2422.0</td>\n",
       "      <td>7.792762</td>\n",
       "      <td>49.948441</td>\n",
       "      <td>0.0</td>\n",
       "      <td>0.0</td>\n",
       "      <td>0.0</td>\n",
       "      <td>1277</td>\n",
       "      <td>False</td>\n",
       "      <td>False</td>\n",
       "    </tr>\n",
       "    <tr>\n",
       "      <th>AAACCTGAGCTACCTA-1</th>\n",
       "      <td>GSM9061665_S1</td>\n",
       "      <td>PT1</td>\n",
       "      <td>Responder</td>\n",
       "      <td>887</td>\n",
       "      <td>6.788972</td>\n",
       "      <td>3077.0</td>\n",
       "      <td>8.032035</td>\n",
       "      <td>27.526812</td>\n",
       "      <td>280.0</td>\n",
       "      <td>5.638355</td>\n",
       "      <td>9.099772</td>\n",
       "      <td>1471.0</td>\n",
       "      <td>7.294377</td>\n",
       "      <td>47.806305</td>\n",
       "      <td>0.0</td>\n",
       "      <td>0.0</td>\n",
       "      <td>0.0</td>\n",
       "      <td>887</td>\n",
       "      <td>False</td>\n",
       "      <td>False</td>\n",
       "    </tr>\n",
       "  </tbody>\n",
       "</table>\n",
       "</div>\n",
       "    <div class=\"colab-df-buttons\">\n",
       "\n",
       "  <div class=\"colab-df-container\">\n",
       "    <button class=\"colab-df-convert\" onclick=\"convertToInteractive('df-fc5299a6-8c62-4961-ac83-16d66d4c70bb')\"\n",
       "            title=\"Convert this dataframe to an interactive table.\"\n",
       "            style=\"display:none;\">\n",
       "\n",
       "  <svg xmlns=\"http://www.w3.org/2000/svg\" height=\"24px\" viewBox=\"0 -960 960 960\">\n",
       "    <path d=\"M120-120v-720h720v720H120Zm60-500h600v-160H180v160Zm220 220h160v-160H400v160Zm0 220h160v-160H400v160ZM180-400h160v-160H180v160Zm440 0h160v-160H620v160ZM180-180h160v-160H180v160Zm440 0h160v-160H620v160Z\"/>\n",
       "  </svg>\n",
       "    </button>\n",
       "\n",
       "  <style>\n",
       "    .colab-df-container {\n",
       "      display:flex;\n",
       "      gap: 12px;\n",
       "    }\n",
       "\n",
       "    .colab-df-convert {\n",
       "      background-color: #E8F0FE;\n",
       "      border: none;\n",
       "      border-radius: 50%;\n",
       "      cursor: pointer;\n",
       "      display: none;\n",
       "      fill: #1967D2;\n",
       "      height: 32px;\n",
       "      padding: 0 0 0 0;\n",
       "      width: 32px;\n",
       "    }\n",
       "\n",
       "    .colab-df-convert:hover {\n",
       "      background-color: #E2EBFA;\n",
       "      box-shadow: 0px 1px 2px rgba(60, 64, 67, 0.3), 0px 1px 3px 1px rgba(60, 64, 67, 0.15);\n",
       "      fill: #174EA6;\n",
       "    }\n",
       "\n",
       "    .colab-df-buttons div {\n",
       "      margin-bottom: 4px;\n",
       "    }\n",
       "\n",
       "    [theme=dark] .colab-df-convert {\n",
       "      background-color: #3B4455;\n",
       "      fill: #D2E3FC;\n",
       "    }\n",
       "\n",
       "    [theme=dark] .colab-df-convert:hover {\n",
       "      background-color: #434B5C;\n",
       "      box-shadow: 0px 1px 3px 1px rgba(0, 0, 0, 0.15);\n",
       "      filter: drop-shadow(0px 1px 2px rgba(0, 0, 0, 0.3));\n",
       "      fill: #FFFFFF;\n",
       "    }\n",
       "  </style>\n",
       "\n",
       "    <script>\n",
       "      const buttonEl =\n",
       "        document.querySelector('#df-fc5299a6-8c62-4961-ac83-16d66d4c70bb button.colab-df-convert');\n",
       "      buttonEl.style.display =\n",
       "        google.colab.kernel.accessAllowed ? 'block' : 'none';\n",
       "\n",
       "      async function convertToInteractive(key) {\n",
       "        const element = document.querySelector('#df-fc5299a6-8c62-4961-ac83-16d66d4c70bb');\n",
       "        const dataTable =\n",
       "          await google.colab.kernel.invokeFunction('convertToInteractive',\n",
       "                                                    [key], {});\n",
       "        if (!dataTable) return;\n",
       "\n",
       "        const docLinkHtml = 'Like what you see? Visit the ' +\n",
       "          '<a target=\"_blank\" href=https://colab.research.google.com/notebooks/data_table.ipynb>data table notebook</a>'\n",
       "          + ' to learn more about interactive tables.';\n",
       "        element.innerHTML = '';\n",
       "        dataTable['output_type'] = 'display_data';\n",
       "        await google.colab.output.renderOutput(dataTable, element);\n",
       "        const docLink = document.createElement('div');\n",
       "        docLink.innerHTML = docLinkHtml;\n",
       "        element.appendChild(docLink);\n",
       "      }\n",
       "    </script>\n",
       "  </div>\n",
       "\n",
       "\n",
       "    <div id=\"df-ffaa8c7c-c57b-4cf2-b5d0-d3c2c06cdbca\">\n",
       "      <button class=\"colab-df-quickchart\" onclick=\"quickchart('df-ffaa8c7c-c57b-4cf2-b5d0-d3c2c06cdbca')\"\n",
       "                title=\"Suggest charts\"\n",
       "                style=\"display:none;\">\n",
       "\n",
       "<svg xmlns=\"http://www.w3.org/2000/svg\" height=\"24px\"viewBox=\"0 0 24 24\"\n",
       "     width=\"24px\">\n",
       "    <g>\n",
       "        <path d=\"M19 3H5c-1.1 0-2 .9-2 2v14c0 1.1.9 2 2 2h14c1.1 0 2-.9 2-2V5c0-1.1-.9-2-2-2zM9 17H7v-7h2v7zm4 0h-2V7h2v10zm4 0h-2v-4h2v4z\"/>\n",
       "    </g>\n",
       "</svg>\n",
       "      </button>\n",
       "\n",
       "<style>\n",
       "  .colab-df-quickchart {\n",
       "      --bg-color: #E8F0FE;\n",
       "      --fill-color: #1967D2;\n",
       "      --hover-bg-color: #E2EBFA;\n",
       "      --hover-fill-color: #174EA6;\n",
       "      --disabled-fill-color: #AAA;\n",
       "      --disabled-bg-color: #DDD;\n",
       "  }\n",
       "\n",
       "  [theme=dark] .colab-df-quickchart {\n",
       "      --bg-color: #3B4455;\n",
       "      --fill-color: #D2E3FC;\n",
       "      --hover-bg-color: #434B5C;\n",
       "      --hover-fill-color: #FFFFFF;\n",
       "      --disabled-bg-color: #3B4455;\n",
       "      --disabled-fill-color: #666;\n",
       "  }\n",
       "\n",
       "  .colab-df-quickchart {\n",
       "    background-color: var(--bg-color);\n",
       "    border: none;\n",
       "    border-radius: 50%;\n",
       "    cursor: pointer;\n",
       "    display: none;\n",
       "    fill: var(--fill-color);\n",
       "    height: 32px;\n",
       "    padding: 0;\n",
       "    width: 32px;\n",
       "  }\n",
       "\n",
       "  .colab-df-quickchart:hover {\n",
       "    background-color: var(--hover-bg-color);\n",
       "    box-shadow: 0 1px 2px rgba(60, 64, 67, 0.3), 0 1px 3px 1px rgba(60, 64, 67, 0.15);\n",
       "    fill: var(--button-hover-fill-color);\n",
       "  }\n",
       "\n",
       "  .colab-df-quickchart-complete:disabled,\n",
       "  .colab-df-quickchart-complete:disabled:hover {\n",
       "    background-color: var(--disabled-bg-color);\n",
       "    fill: var(--disabled-fill-color);\n",
       "    box-shadow: none;\n",
       "  }\n",
       "\n",
       "  .colab-df-spinner {\n",
       "    border: 2px solid var(--fill-color);\n",
       "    border-color: transparent;\n",
       "    border-bottom-color: var(--fill-color);\n",
       "    animation:\n",
       "      spin 1s steps(1) infinite;\n",
       "  }\n",
       "\n",
       "  @keyframes spin {\n",
       "    0% {\n",
       "      border-color: transparent;\n",
       "      border-bottom-color: var(--fill-color);\n",
       "      border-left-color: var(--fill-color);\n",
       "    }\n",
       "    20% {\n",
       "      border-color: transparent;\n",
       "      border-left-color: var(--fill-color);\n",
       "      border-top-color: var(--fill-color);\n",
       "    }\n",
       "    30% {\n",
       "      border-color: transparent;\n",
       "      border-left-color: var(--fill-color);\n",
       "      border-top-color: var(--fill-color);\n",
       "      border-right-color: var(--fill-color);\n",
       "    }\n",
       "    40% {\n",
       "      border-color: transparent;\n",
       "      border-right-color: var(--fill-color);\n",
       "      border-top-color: var(--fill-color);\n",
       "    }\n",
       "    60% {\n",
       "      border-color: transparent;\n",
       "      border-right-color: var(--fill-color);\n",
       "    }\n",
       "    80% {\n",
       "      border-color: transparent;\n",
       "      border-right-color: var(--fill-color);\n",
       "      border-bottom-color: var(--fill-color);\n",
       "    }\n",
       "    90% {\n",
       "      border-color: transparent;\n",
       "      border-bottom-color: var(--fill-color);\n",
       "    }\n",
       "  }\n",
       "</style>\n",
       "\n",
       "      <script>\n",
       "        async function quickchart(key) {\n",
       "          const quickchartButtonEl =\n",
       "            document.querySelector('#' + key + ' button');\n",
       "          quickchartButtonEl.disabled = true;  // To prevent multiple clicks.\n",
       "          quickchartButtonEl.classList.add('colab-df-spinner');\n",
       "          try {\n",
       "            const charts = await google.colab.kernel.invokeFunction(\n",
       "                'suggestCharts', [key], {});\n",
       "          } catch (error) {\n",
       "            console.error('Error during call to suggestCharts:', error);\n",
       "          }\n",
       "          quickchartButtonEl.classList.remove('colab-df-spinner');\n",
       "          quickchartButtonEl.classList.add('colab-df-quickchart-complete');\n",
       "        }\n",
       "        (() => {\n",
       "          let quickchartButtonEl =\n",
       "            document.querySelector('#df-ffaa8c7c-c57b-4cf2-b5d0-d3c2c06cdbca button');\n",
       "          quickchartButtonEl.style.display =\n",
       "            google.colab.kernel.accessAllowed ? 'block' : 'none';\n",
       "        })();\n",
       "      </script>\n",
       "    </div>\n",
       "\n",
       "    </div>\n",
       "  </div>\n"
      ],
      "text/plain": [
       "                        sample_id patient_id   response  n_genes_by_counts  \\\n",
       "AAACCTGAGACTGTAA-1  GSM9061665_S1        PT1  Responder               1379   \n",
       "AAACCTGAGCAGCGTA-1  GSM9061665_S1        PT1  Responder                794   \n",
       "AAACCTGAGCCAACAG-1  GSM9061665_S1        PT1  Responder               1482   \n",
       "AAACCTGAGCGTGAAC-1  GSM9061665_S1        PT1  Responder               1277   \n",
       "AAACCTGAGCTACCTA-1  GSM9061665_S1        PT1  Responder                887   \n",
       "\n",
       "                    log1p_n_genes_by_counts  total_counts  log1p_total_counts  \\\n",
       "AAACCTGAGACTGTAA-1                 7.229839        4637.0            8.442039   \n",
       "AAACCTGAGCAGCGTA-1                 6.678342        1677.0            7.425358   \n",
       "AAACCTGAGCCAACAG-1                 7.301822        4707.0            8.457019   \n",
       "AAACCTGAGCGTGAAC-1                 7.153052        4849.0            8.486734   \n",
       "AAACCTGAGCTACCTA-1                 6.788972        3077.0            8.032035   \n",
       "\n",
       "                    pct_counts_in_top_20_genes  total_counts_mt  \\\n",
       "AAACCTGAGACTGTAA-1                   24.261376            157.0   \n",
       "AAACCTGAGCAGCGTA-1                   23.017293            139.0   \n",
       "AAACCTGAGCCAACAG-1                   25.515190            330.0   \n",
       "AAACCTGAGCGTGAAC-1                   26.809651            247.0   \n",
       "AAACCTGAGCTACCTA-1                   27.526812            280.0   \n",
       "\n",
       "                    log1p_total_counts_mt  pct_counts_mt  total_counts_ribo  \\\n",
       "AAACCTGAGACTGTAA-1               5.062595       3.385810             1820.0   \n",
       "AAACCTGAGCAGCGTA-1               4.941642       8.288610              388.0   \n",
       "AAACCTGAGCCAACAG-1               5.802118       7.010835             1892.0   \n",
       "AAACCTGAGCGTGAAC-1               5.513429       5.093834             2422.0   \n",
       "AAACCTGAGCTACCTA-1               5.638355       9.099772             1471.0   \n",
       "\n",
       "                    log1p_total_counts_ribo  pct_counts_ribo  total_counts_hb  \\\n",
       "AAACCTGAGACTGTAA-1                 7.507141        39.249516              0.0   \n",
       "AAACCTGAGCAGCGTA-1                 5.963579        23.136553              0.0   \n",
       "AAACCTGAGCCAACAG-1                 7.545918        40.195454              0.0   \n",
       "AAACCTGAGCGTGAAC-1                 7.792762        49.948441              0.0   \n",
       "AAACCTGAGCTACCTA-1                 7.294377        47.806305              0.0   \n",
       "\n",
       "                    log1p_total_counts_hb  pct_counts_hb  n_genes  outlier  \\\n",
       "AAACCTGAGACTGTAA-1                    0.0            0.0     1379    False   \n",
       "AAACCTGAGCAGCGTA-1                    0.0            0.0      794    False   \n",
       "AAACCTGAGCCAACAG-1                    0.0            0.0     1482    False   \n",
       "AAACCTGAGCGTGAAC-1                    0.0            0.0     1277    False   \n",
       "AAACCTGAGCTACCTA-1                    0.0            0.0      887    False   \n",
       "\n",
       "                    mt_outlier  \n",
       "AAACCTGAGACTGTAA-1       False  \n",
       "AAACCTGAGCAGCGTA-1       False  \n",
       "AAACCTGAGCCAACAG-1       False  \n",
       "AAACCTGAGCGTGAAC-1       False  \n",
       "AAACCTGAGCTACCTA-1       False  "
      ]
     },
     "execution_count": 69,
     "metadata": {},
     "output_type": "execute_result"
    }
   ],
   "source": [
    "adata_hvg.obs.head()  # Check sample_id, patient_id, response"
   ]
  },
  {
   "cell_type": "code",
   "execution_count": 70,
   "metadata": {
    "colab": {
     "base_uri": "https://localhost:8080/"
    },
    "executionInfo": {
     "elapsed": 599,
     "status": "ok",
     "timestamp": 1759688780113,
     "user": {
      "displayName": "Ekow Mills",
      "userId": "12893291206346354513"
     },
     "user_tz": -60
    },
    "id": "8uUnvXXEZMTl",
    "outputId": "733c1d8f-1936-489b-94e5-0c46231f587b"
   },
   "outputs": [
    {
     "name": "stdout",
     "output_type": "stream",
     "text": [
      "Shape of DataFrame: (53338, 2003)\n",
      "First few columns: Index(['TNFRSF18', 'CFAP74', 'GABRD', 'CCDC27', 'ENSG00000284747', 'RBP7',\n",
      "       'ENSG00000203469', 'ENSG00000287727', 'ENSG00000287384', 'KAZN',\n",
      "       'LINC01783', 'PADI4', 'CDA', 'ENSG00000287192', 'ENSG00000236936',\n",
      "       'C1QA', 'C1QC', 'C1QB', 'LINC01355', 'GRHL3'],\n",
      "      dtype='object')\n",
      "First few rows:\n",
      "                    TNFRSF18  CFAP74  GABRD  CCDC27  ENSG00000284747  \\\n",
      "AAACCTGAGACTGTAA-1       0.0     0.0    0.0     0.0              0.0   \n",
      "AAACCTGAGCAGCGTA-1       0.0     0.0    0.0     0.0              0.0   \n",
      "AAACCTGAGCCAACAG-1       0.0     0.0    0.0     0.0              0.0   \n",
      "AAACCTGAGCGTGAAC-1       0.0     0.0    0.0     0.0              0.0   \n",
      "AAACCTGAGCTACCTA-1       0.0     0.0    0.0     0.0              0.0   \n",
      "\n",
      "                        RBP7  ENSG00000203469  ENSG00000287727  \\\n",
      "AAACCTGAGACTGTAA-1  0.000000              0.0              0.0   \n",
      "AAACCTGAGCAGCGTA-1  1.940615              0.0              0.0   \n",
      "AAACCTGAGCCAACAG-1  0.000000              0.0              0.0   \n",
      "AAACCTGAGCGTGAAC-1  0.000000              0.0              0.0   \n",
      "AAACCTGAGCTACCTA-1  0.000000              0.0              0.0   \n",
      "\n",
      "                    ENSG00000287384  KAZN  ...   MT-ATP8   MT-ATP6    MT-CO3  \\\n",
      "AAACCTGAGACTGTAA-1              0.0   0.0  ...  3.291338  2.264496  3.569675   \n",
      "AAACCTGAGCAGCGTA-1              0.0   0.0  ...  3.428006  2.938584  4.504747   \n",
      "AAACCTGAGCCAACAG-1              0.0   0.0  ...  3.669720  3.425660  4.429093   \n",
      "AAACCTGAGCGTGAAC-1              0.0   0.0  ...  3.693452  3.248333  4.107691   \n",
      "AAACCTGAGCTACCTA-1              0.0   0.0  ...  3.604114  3.409472  4.590032   \n",
      "\n",
      "                      MT-ND3    MT-ND5  ENSG00000277856  LOC102723407  \\\n",
      "AAACCTGAGACTGTAA-1  3.368515  2.778569              0.0           0.0   \n",
      "AAACCTGAGCAGCGTA-1  4.436543  3.212943              0.0           0.0   \n",
      "AAACCTGAGCCAACAG-1  4.570602  3.425660              0.0           0.0   \n",
      "AAACCTGAGCGTGAAC-1  3.791163  3.073749              0.0           0.0   \n",
      "AAACCTGAGCTACCTA-1  4.485799  3.906986              0.0           0.0   \n",
      "\n",
      "                        sample_id  patient_id   response  \n",
      "AAACCTGAGACTGTAA-1  GSM9061665_S1         PT1  Responder  \n",
      "AAACCTGAGCAGCGTA-1  GSM9061665_S1         PT1  Responder  \n",
      "AAACCTGAGCCAACAG-1  GSM9061665_S1         PT1  Responder  \n",
      "AAACCTGAGCGTGAAC-1  GSM9061665_S1         PT1  Responder  \n",
      "AAACCTGAGCTACCTA-1  GSM9061665_S1         PT1  Responder  \n",
      "\n",
      "[5 rows x 2003 columns]\n"
     ]
    }
   ],
   "source": [
    "# Step 1: Convert expression matrix to DataFrame\n",
    "expr_df = pd.DataFrame(\n",
    "    adata_hvg.X.toarray() if hasattr(adata_hvg.X, \"toarray\") else adata_hvg.X,\n",
    "    index=adata_hvg.obs_names,\n",
    "    columns=adata_hvg.var['symbol']  # use your mapped symbols\n",
    ")\n",
    "\n",
    "# Step 2: Fill missing symbols (NaN) with original Ensembl IDs\n",
    "expr_df.columns = [\n",
    "    col if pd.notnull(col) else ensg\n",
    "    for col, ensg in zip(expr_df.columns, adata_hvg.var_names)\n",
    "]\n",
    "\n",
    "# Step 3: Ensure unique column names by appending a suffix for duplicates\n",
    "seen = {}\n",
    "new_cols = []\n",
    "for col in expr_df.columns:\n",
    "    if col in seen:\n",
    "        count = seen[col] + 1\n",
    "        new_cols.append(f\"{col}_{count}\")\n",
    "        seen[col] = count\n",
    "    else:\n",
    "        new_cols.append(col)\n",
    "        seen[col] = 0\n",
    "expr_df.columns = new_cols\n",
    "\n",
    "# Step 4: Add metadata columns\n",
    "expr_df['sample_id'] = adata_hvg.obs['sample_id'].values\n",
    "expr_df['patient_id'] = adata_hvg.obs['patient_id'].values\n",
    "expr_df['response'] = adata_hvg.obs['response'].values\n",
    "\n",
    "# Step 5: Quick check\n",
    "print(\"Shape of DataFrame:\", expr_df.shape)\n",
    "print(\"First few columns:\", expr_df.columns[:20])\n",
    "print(\"First few rows:\")\n",
    "print(expr_df.head())"
   ]
  },
  {
   "cell_type": "code",
   "execution_count": 52,
   "metadata": {
    "executionInfo": {
     "elapsed": 8852,
     "status": "ok",
     "timestamp": 1759685221325,
     "user": {
      "displayName": "Ekow Mills",
      "userId": "12893291206346354513"
     },
     "user_tz": -60
    },
    "id": "JLu9QpxAZg-6"
   },
   "outputs": [],
   "source": [
    "flux = pd.read_csv('/content/drive/MyDrive/Data/Datasets/fluxomics.csv', index_col=0)"
   ]
  },
  {
   "cell_type": "code",
   "execution_count": 53,
   "metadata": {
    "colab": {
     "base_uri": "https://localhost:8080/"
    },
    "executionInfo": {
     "elapsed": 2855,
     "status": "ok",
     "timestamp": 1759685239790,
     "user": {
      "displayName": "Ekow Mills",
      "userId": "12893291206346354513"
     },
     "user_tz": -60
    },
    "id": "8mtJ5XhgZg6p",
    "outputId": "aff73c6e-4f13-4883-ea83-df682324f8de"
   },
   "outputs": [
    {
     "name": "stdout",
     "output_type": "stream",
     "text": [
      "Number of common cells: 53338\n",
      "Combined dataset shape: (53338, 2453)\n"
     ]
    }
   ],
   "source": [
    "common_cells = expr_df.index.intersection(flux.index)\n",
    "print(f\"Number of common cells: {len(common_cells)}\")\n",
    "\n",
    "# Subset both datasets to common cells\n",
    "expr_common = expr_df.loc[common_cells]\n",
    "flux_common = flux.loc[common_cells]\n",
    "\n",
    "# Combine gene expression and fluxomics side by side\n",
    "combined_df = pd.concat([expr_common, flux_common], axis=1)\n",
    "print(\"Combined dataset shape:\", combined_df.shape)"
   ]
  },
  {
   "cell_type": "code",
   "execution_count": 54,
   "metadata": {
    "colab": {
     "base_uri": "https://localhost:8080/"
    },
    "executionInfo": {
     "elapsed": 3593,
     "status": "ok",
     "timestamp": 1759685248051,
     "user": {
      "displayName": "Ekow Mills",
      "userId": "12893291206346354513"
     },
     "user_tz": -60
    },
    "id": "Mezox4dWdH95",
    "outputId": "ca5aa4d3-aed0-4c34-cf0d-1f2953434597"
   },
   "outputs": [
    {
     "name": "stdout",
     "output_type": "stream",
     "text": [
      "Number of common cells: 53338\n",
      "Combined dataset shape: (53338, 2452)\n"
     ]
    }
   ],
   "source": [
    "# Ensure flux's 'response' doesn't get duplicated\n",
    "flux_clean = flux.drop(columns=['response'], errors='ignore')\n",
    "\n",
    "# Find common cell IDs\n",
    "common_cells = expr_df.index.intersection(flux_clean.index)\n",
    "print(f\"Number of common cells: {len(common_cells)}\")\n",
    "\n",
    "# Subset both datasets to common cells\n",
    "expr_common = expr_df.loc[common_cells]\n",
    "flux_common = flux_clean.loc[common_cells]\n",
    "\n",
    "# Combine gene expression and fluxomics side by side\n",
    "combined_df = pd.concat([expr_common, flux_common], axis=1)\n",
    "print(\"Combined dataset shape:\", combined_df.shape)"
   ]
  },
  {
   "cell_type": "code",
   "execution_count": 55,
   "metadata": {
    "colab": {
     "base_uri": "https://localhost:8080/"
    },
    "executionInfo": {
     "elapsed": 5124,
     "status": "ok",
     "timestamp": 1759685267073,
     "user": {
      "displayName": "Ekow Mills",
      "userId": "12893291206346354513"
     },
     "user_tz": -60
    },
    "id": "h_P52QdEePST",
    "outputId": "d443ea9e-e0ee-4f51-f068-519828e06b68"
   },
   "outputs": [
    {
     "name": "stdout",
     "output_type": "stream",
     "text": [
      "Number of common cells: 53338\n",
      "Combined dataset shape: (53338, 2451)\n",
      "Columns at the end (metadata): ['sample_id', 'response']\n"
     ]
    }
   ],
   "source": [
    "# Drop 'patient_id' from expr_df if it exists\n",
    "expr_df = expr_df.drop(columns=['patient_id'], errors='ignore')\n",
    "\n",
    "# Keep flux features only (exclude 'response' if present)\n",
    "flux_features = flux.drop(columns=['response'], errors='ignore')\n",
    "\n",
    "# Keep metadata from expr_df (sample_id, response)\n",
    "metadata_cols = ['sample_id', 'response']\n",
    "metadata = expr_df[metadata_cols]\n",
    "\n",
    "# Keep only gene expression features (exclude metadata)\n",
    "expr_features = expr_df.drop(columns=metadata_cols)\n",
    "\n",
    "# Find common cells\n",
    "common_cells = expr_features.index.intersection(flux_features.index)\n",
    "print(f\"Number of common cells: {len(common_cells)}\")\n",
    "\n",
    "# Subset all to common cells\n",
    "expr_features = expr_features.loc[common_cells]\n",
    "flux_features = flux_features.loc[common_cells]\n",
    "metadata = metadata.loc[common_cells]\n",
    "\n",
    "# Combine features with metadata at the end\n",
    "combined_df = pd.concat([expr_features, flux_features, metadata], axis=1)\n",
    "\n",
    "# Verify\n",
    "print(\"Combined dataset shape:\", combined_df.shape)\n",
    "print(\"Columns at the end (metadata):\", combined_df.columns[-2:].tolist())\n"
   ]
  },
  {
   "cell_type": "code",
   "execution_count": 56,
   "metadata": {
    "colab": {
     "base_uri": "https://localhost:8080/",
     "height": 617
    },
    "executionInfo": {
     "elapsed": 71,
     "status": "ok",
     "timestamp": 1759685279573,
     "user": {
      "displayName": "Ekow Mills",
      "userId": "12893291206346354513"
     },
     "user_tz": -60
    },
    "id": "dBS3hc9rbNGf",
    "outputId": "c7c75d51-cde0-4cd1-b696-a4f3adfe3138"
   },
   "outputs": [
    {
     "data": {
      "application/vnd.google.colaboratory.intrinsic+json": {
       "type": "dataframe",
       "variable_name": "combined_df"
      },
      "text/html": [
       "\n",
       "  <div id=\"df-f16f1529-2d12-4d53-8c4c-a48c8529b33b\" class=\"colab-df-container\">\n",
       "    <div>\n",
       "<style scoped>\n",
       "    .dataframe tbody tr th:only-of-type {\n",
       "        vertical-align: middle;\n",
       "    }\n",
       "\n",
       "    .dataframe tbody tr th {\n",
       "        vertical-align: top;\n",
       "    }\n",
       "\n",
       "    .dataframe thead th {\n",
       "        text-align: right;\n",
       "    }\n",
       "</style>\n",
       "<table border=\"1\" class=\"dataframe\">\n",
       "  <thead>\n",
       "    <tr style=\"text-align: right;\">\n",
       "      <th></th>\n",
       "      <th>TNFRSF18</th>\n",
       "      <th>CFAP74</th>\n",
       "      <th>GABRD</th>\n",
       "      <th>CCDC27</th>\n",
       "      <th>ENSG00000284747</th>\n",
       "      <th>RBP7</th>\n",
       "      <th>ENSG00000203469</th>\n",
       "      <th>ENSG00000287727</th>\n",
       "      <th>ENSG00000287384</th>\n",
       "      <th>KAZN</th>\n",
       "      <th>...</th>\n",
       "      <th>EX_lys__L_e_#</th>\n",
       "      <th>leu_L_t</th>\n",
       "      <th>C3STDH1</th>\n",
       "      <th>EX_urea_e_#</th>\n",
       "      <th>ATPS4mi</th>\n",
       "      <th>t_Lcystin_ser__L</th>\n",
       "      <th>HMGCOAtm</th>\n",
       "      <th>EX_ala_B_e_#</th>\n",
       "      <th>sample_id</th>\n",
       "      <th>response</th>\n",
       "    </tr>\n",
       "  </thead>\n",
       "  <tbody>\n",
       "    <tr>\n",
       "      <th>AAACCTGAGACTGTAA-1</th>\n",
       "      <td>0.0</td>\n",
       "      <td>0.0</td>\n",
       "      <td>0.0</td>\n",
       "      <td>0.0</td>\n",
       "      <td>0.0</td>\n",
       "      <td>0.000000</td>\n",
       "      <td>0.0</td>\n",
       "      <td>0.0</td>\n",
       "      <td>0.0</td>\n",
       "      <td>0.0</td>\n",
       "      <td>...</td>\n",
       "      <td>-0.041857</td>\n",
       "      <td>-0.000091</td>\n",
       "      <td>0.000003</td>\n",
       "      <td>0.041613</td>\n",
       "      <td>0.004249</td>\n",
       "      <td>0.0</td>\n",
       "      <td>0.000020</td>\n",
       "      <td>0.0</td>\n",
       "      <td>GSM9061665_S1</td>\n",
       "      <td>Responder</td>\n",
       "    </tr>\n",
       "    <tr>\n",
       "      <th>AAACCTGAGCAGCGTA-1</th>\n",
       "      <td>0.0</td>\n",
       "      <td>0.0</td>\n",
       "      <td>0.0</td>\n",
       "      <td>0.0</td>\n",
       "      <td>0.0</td>\n",
       "      <td>1.940615</td>\n",
       "      <td>0.0</td>\n",
       "      <td>0.0</td>\n",
       "      <td>0.0</td>\n",
       "      <td>0.0</td>\n",
       "      <td>...</td>\n",
       "      <td>-0.041857</td>\n",
       "      <td>-0.000112</td>\n",
       "      <td>0.000004</td>\n",
       "      <td>0.041613</td>\n",
       "      <td>0.004303</td>\n",
       "      <td>0.0</td>\n",
       "      <td>0.000025</td>\n",
       "      <td>0.0</td>\n",
       "      <td>GSM9061665_S1</td>\n",
       "      <td>Responder</td>\n",
       "    </tr>\n",
       "    <tr>\n",
       "      <th>AAACCTGAGCCAACAG-1</th>\n",
       "      <td>0.0</td>\n",
       "      <td>0.0</td>\n",
       "      <td>0.0</td>\n",
       "      <td>0.0</td>\n",
       "      <td>0.0</td>\n",
       "      <td>0.000000</td>\n",
       "      <td>0.0</td>\n",
       "      <td>0.0</td>\n",
       "      <td>0.0</td>\n",
       "      <td>0.0</td>\n",
       "      <td>...</td>\n",
       "      <td>-0.041857</td>\n",
       "      <td>-0.000146</td>\n",
       "      <td>0.000000</td>\n",
       "      <td>0.041613</td>\n",
       "      <td>0.003324</td>\n",
       "      <td>0.0</td>\n",
       "      <td>0.000033</td>\n",
       "      <td>0.0</td>\n",
       "      <td>GSM9061665_S1</td>\n",
       "      <td>Responder</td>\n",
       "    </tr>\n",
       "    <tr>\n",
       "      <th>AAACCTGAGCGTGAAC-1</th>\n",
       "      <td>0.0</td>\n",
       "      <td>0.0</td>\n",
       "      <td>0.0</td>\n",
       "      <td>0.0</td>\n",
       "      <td>0.0</td>\n",
       "      <td>0.000000</td>\n",
       "      <td>0.0</td>\n",
       "      <td>0.0</td>\n",
       "      <td>0.0</td>\n",
       "      <td>0.0</td>\n",
       "      <td>...</td>\n",
       "      <td>-0.041857</td>\n",
       "      <td>-0.000128</td>\n",
       "      <td>0.000000</td>\n",
       "      <td>0.041613</td>\n",
       "      <td>0.003937</td>\n",
       "      <td>0.0</td>\n",
       "      <td>0.000029</td>\n",
       "      <td>0.0</td>\n",
       "      <td>GSM9061665_S1</td>\n",
       "      <td>Responder</td>\n",
       "    </tr>\n",
       "    <tr>\n",
       "      <th>AAACCTGAGCTACCTA-1</th>\n",
       "      <td>0.0</td>\n",
       "      <td>0.0</td>\n",
       "      <td>0.0</td>\n",
       "      <td>0.0</td>\n",
       "      <td>0.0</td>\n",
       "      <td>0.000000</td>\n",
       "      <td>0.0</td>\n",
       "      <td>0.0</td>\n",
       "      <td>0.0</td>\n",
       "      <td>0.0</td>\n",
       "      <td>...</td>\n",
       "      <td>-0.041857</td>\n",
       "      <td>-0.000128</td>\n",
       "      <td>0.000000</td>\n",
       "      <td>0.041613</td>\n",
       "      <td>0.003879</td>\n",
       "      <td>0.0</td>\n",
       "      <td>0.000029</td>\n",
       "      <td>0.0</td>\n",
       "      <td>GSM9061665_S1</td>\n",
       "      <td>Responder</td>\n",
       "    </tr>\n",
       "    <tr>\n",
       "      <th>...</th>\n",
       "      <td>...</td>\n",
       "      <td>...</td>\n",
       "      <td>...</td>\n",
       "      <td>...</td>\n",
       "      <td>...</td>\n",
       "      <td>...</td>\n",
       "      <td>...</td>\n",
       "      <td>...</td>\n",
       "      <td>...</td>\n",
       "      <td>...</td>\n",
       "      <td>...</td>\n",
       "      <td>...</td>\n",
       "      <td>...</td>\n",
       "      <td>...</td>\n",
       "      <td>...</td>\n",
       "      <td>...</td>\n",
       "      <td>...</td>\n",
       "      <td>...</td>\n",
       "      <td>...</td>\n",
       "      <td>...</td>\n",
       "      <td>...</td>\n",
       "    </tr>\n",
       "    <tr>\n",
       "      <th>TTTGTCATCAACACTG-1</th>\n",
       "      <td>0.0</td>\n",
       "      <td>0.0</td>\n",
       "      <td>0.0</td>\n",
       "      <td>0.0</td>\n",
       "      <td>0.0</td>\n",
       "      <td>0.880634</td>\n",
       "      <td>0.0</td>\n",
       "      <td>0.0</td>\n",
       "      <td>0.0</td>\n",
       "      <td>0.0</td>\n",
       "      <td>...</td>\n",
       "      <td>-0.039100</td>\n",
       "      <td>-0.000609</td>\n",
       "      <td>0.000000</td>\n",
       "      <td>0.010159</td>\n",
       "      <td>0.004278</td>\n",
       "      <td>0.0</td>\n",
       "      <td>0.000024</td>\n",
       "      <td>0.0</td>\n",
       "      <td>GSM9061674_S10</td>\n",
       "      <td>Non-responder</td>\n",
       "    </tr>\n",
       "    <tr>\n",
       "      <th>TTTGTCATCAATCACG-1</th>\n",
       "      <td>0.0</td>\n",
       "      <td>0.0</td>\n",
       "      <td>0.0</td>\n",
       "      <td>0.0</td>\n",
       "      <td>0.0</td>\n",
       "      <td>1.923326</td>\n",
       "      <td>0.0</td>\n",
       "      <td>0.0</td>\n",
       "      <td>0.0</td>\n",
       "      <td>0.0</td>\n",
       "      <td>...</td>\n",
       "      <td>-0.039100</td>\n",
       "      <td>-0.000130</td>\n",
       "      <td>0.000000</td>\n",
       "      <td>0.010159</td>\n",
       "      <td>0.003369</td>\n",
       "      <td>0.0</td>\n",
       "      <td>0.000029</td>\n",
       "      <td>0.0</td>\n",
       "      <td>GSM9061674_S10</td>\n",
       "      <td>Non-responder</td>\n",
       "    </tr>\n",
       "    <tr>\n",
       "      <th>TTTGTCATCACGATGT-1</th>\n",
       "      <td>0.0</td>\n",
       "      <td>0.0</td>\n",
       "      <td>0.0</td>\n",
       "      <td>0.0</td>\n",
       "      <td>0.0</td>\n",
       "      <td>0.000000</td>\n",
       "      <td>0.0</td>\n",
       "      <td>0.0</td>\n",
       "      <td>0.0</td>\n",
       "      <td>0.0</td>\n",
       "      <td>...</td>\n",
       "      <td>-0.039100</td>\n",
       "      <td>-0.000141</td>\n",
       "      <td>0.000000</td>\n",
       "      <td>0.010159</td>\n",
       "      <td>0.003359</td>\n",
       "      <td>0.0</td>\n",
       "      <td>0.000032</td>\n",
       "      <td>0.0</td>\n",
       "      <td>GSM9061674_S10</td>\n",
       "      <td>Non-responder</td>\n",
       "    </tr>\n",
       "    <tr>\n",
       "      <th>TTTGTCATCACTTCAT-1</th>\n",
       "      <td>0.0</td>\n",
       "      <td>0.0</td>\n",
       "      <td>0.0</td>\n",
       "      <td>0.0</td>\n",
       "      <td>0.0</td>\n",
       "      <td>0.000000</td>\n",
       "      <td>0.0</td>\n",
       "      <td>0.0</td>\n",
       "      <td>0.0</td>\n",
       "      <td>0.0</td>\n",
       "      <td>...</td>\n",
       "      <td>-0.039100</td>\n",
       "      <td>-0.000109</td>\n",
       "      <td>0.000004</td>\n",
       "      <td>0.010159</td>\n",
       "      <td>0.004334</td>\n",
       "      <td>0.0</td>\n",
       "      <td>0.000024</td>\n",
       "      <td>0.0</td>\n",
       "      <td>GSM9061674_S10</td>\n",
       "      <td>Non-responder</td>\n",
       "    </tr>\n",
       "    <tr>\n",
       "      <th>TTTGTCATCTGTTTGT-1</th>\n",
       "      <td>0.0</td>\n",
       "      <td>0.0</td>\n",
       "      <td>0.0</td>\n",
       "      <td>0.0</td>\n",
       "      <td>0.0</td>\n",
       "      <td>0.000000</td>\n",
       "      <td>0.0</td>\n",
       "      <td>0.0</td>\n",
       "      <td>0.0</td>\n",
       "      <td>0.0</td>\n",
       "      <td>...</td>\n",
       "      <td>-0.039100</td>\n",
       "      <td>-0.000609</td>\n",
       "      <td>0.000000</td>\n",
       "      <td>0.010159</td>\n",
       "      <td>0.004176</td>\n",
       "      <td>0.0</td>\n",
       "      <td>0.000023</td>\n",
       "      <td>0.0</td>\n",
       "      <td>GSM9061674_S10</td>\n",
       "      <td>Non-responder</td>\n",
       "    </tr>\n",
       "  </tbody>\n",
       "</table>\n",
       "<p>53338 rows × 2451 columns</p>\n",
       "</div>\n",
       "    <div class=\"colab-df-buttons\">\n",
       "\n",
       "  <div class=\"colab-df-container\">\n",
       "    <button class=\"colab-df-convert\" onclick=\"convertToInteractive('df-f16f1529-2d12-4d53-8c4c-a48c8529b33b')\"\n",
       "            title=\"Convert this dataframe to an interactive table.\"\n",
       "            style=\"display:none;\">\n",
       "\n",
       "  <svg xmlns=\"http://www.w3.org/2000/svg\" height=\"24px\" viewBox=\"0 -960 960 960\">\n",
       "    <path d=\"M120-120v-720h720v720H120Zm60-500h600v-160H180v160Zm220 220h160v-160H400v160Zm0 220h160v-160H400v160ZM180-400h160v-160H180v160Zm440 0h160v-160H620v160ZM180-180h160v-160H180v160Zm440 0h160v-160H620v160Z\"/>\n",
       "  </svg>\n",
       "    </button>\n",
       "\n",
       "  <style>\n",
       "    .colab-df-container {\n",
       "      display:flex;\n",
       "      gap: 12px;\n",
       "    }\n",
       "\n",
       "    .colab-df-convert {\n",
       "      background-color: #E8F0FE;\n",
       "      border: none;\n",
       "      border-radius: 50%;\n",
       "      cursor: pointer;\n",
       "      display: none;\n",
       "      fill: #1967D2;\n",
       "      height: 32px;\n",
       "      padding: 0 0 0 0;\n",
       "      width: 32px;\n",
       "    }\n",
       "\n",
       "    .colab-df-convert:hover {\n",
       "      background-color: #E2EBFA;\n",
       "      box-shadow: 0px 1px 2px rgba(60, 64, 67, 0.3), 0px 1px 3px 1px rgba(60, 64, 67, 0.15);\n",
       "      fill: #174EA6;\n",
       "    }\n",
       "\n",
       "    .colab-df-buttons div {\n",
       "      margin-bottom: 4px;\n",
       "    }\n",
       "\n",
       "    [theme=dark] .colab-df-convert {\n",
       "      background-color: #3B4455;\n",
       "      fill: #D2E3FC;\n",
       "    }\n",
       "\n",
       "    [theme=dark] .colab-df-convert:hover {\n",
       "      background-color: #434B5C;\n",
       "      box-shadow: 0px 1px 3px 1px rgba(0, 0, 0, 0.15);\n",
       "      filter: drop-shadow(0px 1px 2px rgba(0, 0, 0, 0.3));\n",
       "      fill: #FFFFFF;\n",
       "    }\n",
       "  </style>\n",
       "\n",
       "    <script>\n",
       "      const buttonEl =\n",
       "        document.querySelector('#df-f16f1529-2d12-4d53-8c4c-a48c8529b33b button.colab-df-convert');\n",
       "      buttonEl.style.display =\n",
       "        google.colab.kernel.accessAllowed ? 'block' : 'none';\n",
       "\n",
       "      async function convertToInteractive(key) {\n",
       "        const element = document.querySelector('#df-f16f1529-2d12-4d53-8c4c-a48c8529b33b');\n",
       "        const dataTable =\n",
       "          await google.colab.kernel.invokeFunction('convertToInteractive',\n",
       "                                                    [key], {});\n",
       "        if (!dataTable) return;\n",
       "\n",
       "        const docLinkHtml = 'Like what you see? Visit the ' +\n",
       "          '<a target=\"_blank\" href=https://colab.research.google.com/notebooks/data_table.ipynb>data table notebook</a>'\n",
       "          + ' to learn more about interactive tables.';\n",
       "        element.innerHTML = '';\n",
       "        dataTable['output_type'] = 'display_data';\n",
       "        await google.colab.output.renderOutput(dataTable, element);\n",
       "        const docLink = document.createElement('div');\n",
       "        docLink.innerHTML = docLinkHtml;\n",
       "        element.appendChild(docLink);\n",
       "      }\n",
       "    </script>\n",
       "  </div>\n",
       "\n",
       "\n",
       "    <div id=\"df-0c20c656-2c21-4429-9b3c-ef5b1bab744b\">\n",
       "      <button class=\"colab-df-quickchart\" onclick=\"quickchart('df-0c20c656-2c21-4429-9b3c-ef5b1bab744b')\"\n",
       "                title=\"Suggest charts\"\n",
       "                style=\"display:none;\">\n",
       "\n",
       "<svg xmlns=\"http://www.w3.org/2000/svg\" height=\"24px\"viewBox=\"0 0 24 24\"\n",
       "     width=\"24px\">\n",
       "    <g>\n",
       "        <path d=\"M19 3H5c-1.1 0-2 .9-2 2v14c0 1.1.9 2 2 2h14c1.1 0 2-.9 2-2V5c0-1.1-.9-2-2-2zM9 17H7v-7h2v7zm4 0h-2V7h2v10zm4 0h-2v-4h2v4z\"/>\n",
       "    </g>\n",
       "</svg>\n",
       "      </button>\n",
       "\n",
       "<style>\n",
       "  .colab-df-quickchart {\n",
       "      --bg-color: #E8F0FE;\n",
       "      --fill-color: #1967D2;\n",
       "      --hover-bg-color: #E2EBFA;\n",
       "      --hover-fill-color: #174EA6;\n",
       "      --disabled-fill-color: #AAA;\n",
       "      --disabled-bg-color: #DDD;\n",
       "  }\n",
       "\n",
       "  [theme=dark] .colab-df-quickchart {\n",
       "      --bg-color: #3B4455;\n",
       "      --fill-color: #D2E3FC;\n",
       "      --hover-bg-color: #434B5C;\n",
       "      --hover-fill-color: #FFFFFF;\n",
       "      --disabled-bg-color: #3B4455;\n",
       "      --disabled-fill-color: #666;\n",
       "  }\n",
       "\n",
       "  .colab-df-quickchart {\n",
       "    background-color: var(--bg-color);\n",
       "    border: none;\n",
       "    border-radius: 50%;\n",
       "    cursor: pointer;\n",
       "    display: none;\n",
       "    fill: var(--fill-color);\n",
       "    height: 32px;\n",
       "    padding: 0;\n",
       "    width: 32px;\n",
       "  }\n",
       "\n",
       "  .colab-df-quickchart:hover {\n",
       "    background-color: var(--hover-bg-color);\n",
       "    box-shadow: 0 1px 2px rgba(60, 64, 67, 0.3), 0 1px 3px 1px rgba(60, 64, 67, 0.15);\n",
       "    fill: var(--button-hover-fill-color);\n",
       "  }\n",
       "\n",
       "  .colab-df-quickchart-complete:disabled,\n",
       "  .colab-df-quickchart-complete:disabled:hover {\n",
       "    background-color: var(--disabled-bg-color);\n",
       "    fill: var(--disabled-fill-color);\n",
       "    box-shadow: none;\n",
       "  }\n",
       "\n",
       "  .colab-df-spinner {\n",
       "    border: 2px solid var(--fill-color);\n",
       "    border-color: transparent;\n",
       "    border-bottom-color: var(--fill-color);\n",
       "    animation:\n",
       "      spin 1s steps(1) infinite;\n",
       "  }\n",
       "\n",
       "  @keyframes spin {\n",
       "    0% {\n",
       "      border-color: transparent;\n",
       "      border-bottom-color: var(--fill-color);\n",
       "      border-left-color: var(--fill-color);\n",
       "    }\n",
       "    20% {\n",
       "      border-color: transparent;\n",
       "      border-left-color: var(--fill-color);\n",
       "      border-top-color: var(--fill-color);\n",
       "    }\n",
       "    30% {\n",
       "      border-color: transparent;\n",
       "      border-left-color: var(--fill-color);\n",
       "      border-top-color: var(--fill-color);\n",
       "      border-right-color: var(--fill-color);\n",
       "    }\n",
       "    40% {\n",
       "      border-color: transparent;\n",
       "      border-right-color: var(--fill-color);\n",
       "      border-top-color: var(--fill-color);\n",
       "    }\n",
       "    60% {\n",
       "      border-color: transparent;\n",
       "      border-right-color: var(--fill-color);\n",
       "    }\n",
       "    80% {\n",
       "      border-color: transparent;\n",
       "      border-right-color: var(--fill-color);\n",
       "      border-bottom-color: var(--fill-color);\n",
       "    }\n",
       "    90% {\n",
       "      border-color: transparent;\n",
       "      border-bottom-color: var(--fill-color);\n",
       "    }\n",
       "  }\n",
       "</style>\n",
       "\n",
       "      <script>\n",
       "        async function quickchart(key) {\n",
       "          const quickchartButtonEl =\n",
       "            document.querySelector('#' + key + ' button');\n",
       "          quickchartButtonEl.disabled = true;  // To prevent multiple clicks.\n",
       "          quickchartButtonEl.classList.add('colab-df-spinner');\n",
       "          try {\n",
       "            const charts = await google.colab.kernel.invokeFunction(\n",
       "                'suggestCharts', [key], {});\n",
       "          } catch (error) {\n",
       "            console.error('Error during call to suggestCharts:', error);\n",
       "          }\n",
       "          quickchartButtonEl.classList.remove('colab-df-spinner');\n",
       "          quickchartButtonEl.classList.add('colab-df-quickchart-complete');\n",
       "        }\n",
       "        (() => {\n",
       "          let quickchartButtonEl =\n",
       "            document.querySelector('#df-0c20c656-2c21-4429-9b3c-ef5b1bab744b button');\n",
       "          quickchartButtonEl.style.display =\n",
       "            google.colab.kernel.accessAllowed ? 'block' : 'none';\n",
       "        })();\n",
       "      </script>\n",
       "    </div>\n",
       "\n",
       "  <div id=\"id_1e71901c-5a81-4d93-9e26-68eee95cbc83\">\n",
       "    <style>\n",
       "      .colab-df-generate {\n",
       "        background-color: #E8F0FE;\n",
       "        border: none;\n",
       "        border-radius: 50%;\n",
       "        cursor: pointer;\n",
       "        display: none;\n",
       "        fill: #1967D2;\n",
       "        height: 32px;\n",
       "        padding: 0 0 0 0;\n",
       "        width: 32px;\n",
       "      }\n",
       "\n",
       "      .colab-df-generate:hover {\n",
       "        background-color: #E2EBFA;\n",
       "        box-shadow: 0px 1px 2px rgba(60, 64, 67, 0.3), 0px 1px 3px 1px rgba(60, 64, 67, 0.15);\n",
       "        fill: #174EA6;\n",
       "      }\n",
       "\n",
       "      [theme=dark] .colab-df-generate {\n",
       "        background-color: #3B4455;\n",
       "        fill: #D2E3FC;\n",
       "      }\n",
       "\n",
       "      [theme=dark] .colab-df-generate:hover {\n",
       "        background-color: #434B5C;\n",
       "        box-shadow: 0px 1px 3px 1px rgba(0, 0, 0, 0.15);\n",
       "        filter: drop-shadow(0px 1px 2px rgba(0, 0, 0, 0.3));\n",
       "        fill: #FFFFFF;\n",
       "      }\n",
       "    </style>\n",
       "    <button class=\"colab-df-generate\" onclick=\"generateWithVariable('combined_df')\"\n",
       "            title=\"Generate code using this dataframe.\"\n",
       "            style=\"display:none;\">\n",
       "\n",
       "  <svg xmlns=\"http://www.w3.org/2000/svg\" height=\"24px\"viewBox=\"0 0 24 24\"\n",
       "       width=\"24px\">\n",
       "    <path d=\"M7,19H8.4L18.45,9,17,7.55,7,17.6ZM5,21V16.75L18.45,3.32a2,2,0,0,1,2.83,0l1.4,1.43a1.91,1.91,0,0,1,.58,1.4,1.91,1.91,0,0,1-.58,1.4L9.25,21ZM18.45,9,17,7.55Zm-12,3A5.31,5.31,0,0,0,4.9,8.1,5.31,5.31,0,0,0,1,6.5,5.31,5.31,0,0,0,4.9,4.9,5.31,5.31,0,0,0,6.5,1,5.31,5.31,0,0,0,8.1,4.9,5.31,5.31,0,0,0,12,6.5,5.46,5.46,0,0,0,6.5,12Z\"/>\n",
       "  </svg>\n",
       "    </button>\n",
       "    <script>\n",
       "      (() => {\n",
       "      const buttonEl =\n",
       "        document.querySelector('#id_1e71901c-5a81-4d93-9e26-68eee95cbc83 button.colab-df-generate');\n",
       "      buttonEl.style.display =\n",
       "        google.colab.kernel.accessAllowed ? 'block' : 'none';\n",
       "\n",
       "      buttonEl.onclick = () => {\n",
       "        google.colab.notebook.generateWithVariable('combined_df');\n",
       "      }\n",
       "      })();\n",
       "    </script>\n",
       "  </div>\n",
       "\n",
       "    </div>\n",
       "  </div>\n"
      ],
      "text/plain": [
       "                    TNFRSF18  CFAP74  GABRD  CCDC27  ENSG00000284747  \\\n",
       "AAACCTGAGACTGTAA-1       0.0     0.0    0.0     0.0              0.0   \n",
       "AAACCTGAGCAGCGTA-1       0.0     0.0    0.0     0.0              0.0   \n",
       "AAACCTGAGCCAACAG-1       0.0     0.0    0.0     0.0              0.0   \n",
       "AAACCTGAGCGTGAAC-1       0.0     0.0    0.0     0.0              0.0   \n",
       "AAACCTGAGCTACCTA-1       0.0     0.0    0.0     0.0              0.0   \n",
       "...                      ...     ...    ...     ...              ...   \n",
       "TTTGTCATCAACACTG-1       0.0     0.0    0.0     0.0              0.0   \n",
       "TTTGTCATCAATCACG-1       0.0     0.0    0.0     0.0              0.0   \n",
       "TTTGTCATCACGATGT-1       0.0     0.0    0.0     0.0              0.0   \n",
       "TTTGTCATCACTTCAT-1       0.0     0.0    0.0     0.0              0.0   \n",
       "TTTGTCATCTGTTTGT-1       0.0     0.0    0.0     0.0              0.0   \n",
       "\n",
       "                        RBP7  ENSG00000203469  ENSG00000287727  \\\n",
       "AAACCTGAGACTGTAA-1  0.000000              0.0              0.0   \n",
       "AAACCTGAGCAGCGTA-1  1.940615              0.0              0.0   \n",
       "AAACCTGAGCCAACAG-1  0.000000              0.0              0.0   \n",
       "AAACCTGAGCGTGAAC-1  0.000000              0.0              0.0   \n",
       "AAACCTGAGCTACCTA-1  0.000000              0.0              0.0   \n",
       "...                      ...              ...              ...   \n",
       "TTTGTCATCAACACTG-1  0.880634              0.0              0.0   \n",
       "TTTGTCATCAATCACG-1  1.923326              0.0              0.0   \n",
       "TTTGTCATCACGATGT-1  0.000000              0.0              0.0   \n",
       "TTTGTCATCACTTCAT-1  0.000000              0.0              0.0   \n",
       "TTTGTCATCTGTTTGT-1  0.000000              0.0              0.0   \n",
       "\n",
       "                    ENSG00000287384  KAZN  ...  EX_lys__L_e_#   leu_L_t  \\\n",
       "AAACCTGAGACTGTAA-1              0.0   0.0  ...      -0.041857 -0.000091   \n",
       "AAACCTGAGCAGCGTA-1              0.0   0.0  ...      -0.041857 -0.000112   \n",
       "AAACCTGAGCCAACAG-1              0.0   0.0  ...      -0.041857 -0.000146   \n",
       "AAACCTGAGCGTGAAC-1              0.0   0.0  ...      -0.041857 -0.000128   \n",
       "AAACCTGAGCTACCTA-1              0.0   0.0  ...      -0.041857 -0.000128   \n",
       "...                             ...   ...  ...            ...       ...   \n",
       "TTTGTCATCAACACTG-1              0.0   0.0  ...      -0.039100 -0.000609   \n",
       "TTTGTCATCAATCACG-1              0.0   0.0  ...      -0.039100 -0.000130   \n",
       "TTTGTCATCACGATGT-1              0.0   0.0  ...      -0.039100 -0.000141   \n",
       "TTTGTCATCACTTCAT-1              0.0   0.0  ...      -0.039100 -0.000109   \n",
       "TTTGTCATCTGTTTGT-1              0.0   0.0  ...      -0.039100 -0.000609   \n",
       "\n",
       "                     C3STDH1  EX_urea_e_#   ATPS4mi  t_Lcystin_ser__L  \\\n",
       "AAACCTGAGACTGTAA-1  0.000003     0.041613  0.004249               0.0   \n",
       "AAACCTGAGCAGCGTA-1  0.000004     0.041613  0.004303               0.0   \n",
       "AAACCTGAGCCAACAG-1  0.000000     0.041613  0.003324               0.0   \n",
       "AAACCTGAGCGTGAAC-1  0.000000     0.041613  0.003937               0.0   \n",
       "AAACCTGAGCTACCTA-1  0.000000     0.041613  0.003879               0.0   \n",
       "...                      ...          ...       ...               ...   \n",
       "TTTGTCATCAACACTG-1  0.000000     0.010159  0.004278               0.0   \n",
       "TTTGTCATCAATCACG-1  0.000000     0.010159  0.003369               0.0   \n",
       "TTTGTCATCACGATGT-1  0.000000     0.010159  0.003359               0.0   \n",
       "TTTGTCATCACTTCAT-1  0.000004     0.010159  0.004334               0.0   \n",
       "TTTGTCATCTGTTTGT-1  0.000000     0.010159  0.004176               0.0   \n",
       "\n",
       "                    HMGCOAtm  EX_ala_B_e_#       sample_id       response  \n",
       "AAACCTGAGACTGTAA-1  0.000020           0.0   GSM9061665_S1      Responder  \n",
       "AAACCTGAGCAGCGTA-1  0.000025           0.0   GSM9061665_S1      Responder  \n",
       "AAACCTGAGCCAACAG-1  0.000033           0.0   GSM9061665_S1      Responder  \n",
       "AAACCTGAGCGTGAAC-1  0.000029           0.0   GSM9061665_S1      Responder  \n",
       "AAACCTGAGCTACCTA-1  0.000029           0.0   GSM9061665_S1      Responder  \n",
       "...                      ...           ...             ...            ...  \n",
       "TTTGTCATCAACACTG-1  0.000024           0.0  GSM9061674_S10  Non-responder  \n",
       "TTTGTCATCAATCACG-1  0.000029           0.0  GSM9061674_S10  Non-responder  \n",
       "TTTGTCATCACGATGT-1  0.000032           0.0  GSM9061674_S10  Non-responder  \n",
       "TTTGTCATCACTTCAT-1  0.000024           0.0  GSM9061674_S10  Non-responder  \n",
       "TTTGTCATCTGTTTGT-1  0.000023           0.0  GSM9061674_S10  Non-responder  \n",
       "\n",
       "[53338 rows x 2451 columns]"
      ]
     },
     "execution_count": 56,
     "metadata": {},
     "output_type": "execute_result"
    }
   ],
   "source": [
    "combined_df"
   ]
  },
  {
   "cell_type": "code",
   "execution_count": 57,
   "metadata": {
    "executionInfo": {
     "elapsed": 167,
     "status": "ok",
     "timestamp": 1759685291634,
     "user": {
      "displayName": "Ekow Mills",
      "userId": "12893291206346354513"
     },
     "user_tz": -60
    },
    "id": "cZh6tLROf-y1"
   },
   "outputs": [],
   "source": [
    "common_cells = expr_df.index.intersection(flux.index)\n",
    "flux_filtered = flux.loc[common_cells]"
   ]
  },
  {
   "cell_type": "code",
   "execution_count": 58,
   "metadata": {
    "colab": {
     "base_uri": "https://localhost:8080/"
    },
    "executionInfo": {
     "elapsed": 22,
     "status": "ok",
     "timestamp": 1759685296841,
     "user": {
      "displayName": "Ekow Mills",
      "userId": "12893291206346354513"
     },
     "user_tz": -60
    },
    "id": "ZK095JGiiL7h",
    "outputId": "73b30e7b-9d59-4e27-b04a-97c114fbfd82"
   },
   "outputs": [
    {
     "data": {
      "text/plain": [
       "(53338, 450)"
      ]
     },
     "execution_count": 58,
     "metadata": {},
     "output_type": "execute_result"
    }
   ],
   "source": [
    "flux_filtered.shape"
   ]
  },
  {
   "cell_type": "code",
   "execution_count": 59,
   "metadata": {
    "colab": {
     "base_uri": "https://localhost:8080/"
    },
    "executionInfo": {
     "elapsed": 8,
     "status": "ok",
     "timestamp": 1759685299971,
     "user": {
      "displayName": "Ekow Mills",
      "userId": "12893291206346354513"
     },
     "user_tz": -60
    },
    "id": "6k0f5POQk5rK",
    "outputId": "43fa8cd4-e19f-4b1f-f0cf-897e5758eaeb"
   },
   "outputs": [
    {
     "name": "stdout",
     "output_type": "stream",
     "text": [
      "Unique cell IDs in flux_filtered: 53338\n",
      "Total rows in flux_filtered: 53338\n"
     ]
    }
   ],
   "source": [
    "print(f\"Unique cell IDs in flux_filtered: {flux_filtered.index.nunique()}\")\n",
    "print(f\"Total rows in flux_filtered: {flux_filtered.shape[0]}\")\n"
   ]
  },
  {
   "cell_type": "code",
   "execution_count": 60,
   "metadata": {
    "colab": {
     "base_uri": "https://localhost:8080/",
     "height": 617
    },
    "executionInfo": {
     "elapsed": 69,
     "status": "ok",
     "timestamp": 1759685302866,
     "user": {
      "displayName": "Ekow Mills",
      "userId": "12893291206346354513"
     },
     "user_tz": -60
    },
    "id": "L7MKjUEDiL4s",
    "outputId": "9ccb6e2d-aa05-4111-93e4-c58df2dfc1bd"
   },
   "outputs": [
    {
     "data": {
      "application/vnd.google.colaboratory.intrinsic+json": {
       "type": "dataframe",
       "variable_name": "flux_filtered"
      },
      "text/html": [
       "\n",
       "  <div id=\"df-4425bb4c-67d1-49f8-8650-917ff3e6d284\" class=\"colab-df-container\">\n",
       "    <div>\n",
       "<style scoped>\n",
       "    .dataframe tbody tr th:only-of-type {\n",
       "        vertical-align: middle;\n",
       "    }\n",
       "\n",
       "    .dataframe tbody tr th {\n",
       "        vertical-align: top;\n",
       "    }\n",
       "\n",
       "    .dataframe thead th {\n",
       "        text-align: right;\n",
       "    }\n",
       "</style>\n",
       "<table border=\"1\" class=\"dataframe\">\n",
       "  <thead>\n",
       "    <tr style=\"text-align: right;\">\n",
       "      <th></th>\n",
       "      <th>NDPK2</th>\n",
       "      <th>RNDR4</th>\n",
       "      <th>ADNK1</th>\n",
       "      <th>CARN160t_m</th>\n",
       "      <th>TKT1</th>\n",
       "      <th>EX_pyr_e_#</th>\n",
       "      <th>GLNS</th>\n",
       "      <th>GLCt1</th>\n",
       "      <th>HMR_1490</th>\n",
       "      <th>PSP_L</th>\n",
       "      <th>...</th>\n",
       "      <th>FBA</th>\n",
       "      <th>EX_lys__L_e_#</th>\n",
       "      <th>leu_L_t</th>\n",
       "      <th>C3STDH1</th>\n",
       "      <th>EX_urea_e_#</th>\n",
       "      <th>ATPS4mi</th>\n",
       "      <th>t_Lcystin_ser__L</th>\n",
       "      <th>HMGCOAtm</th>\n",
       "      <th>EX_ala_B_e_#</th>\n",
       "      <th>response</th>\n",
       "    </tr>\n",
       "  </thead>\n",
       "  <tbody>\n",
       "    <tr>\n",
       "      <th>AAACCTGAGACTGTAA-1</th>\n",
       "      <td>0.000017</td>\n",
       "      <td>0.000002</td>\n",
       "      <td>0.0</td>\n",
       "      <td>0.0</td>\n",
       "      <td>-0.000013</td>\n",
       "      <td>0.073298</td>\n",
       "      <td>0.0</td>\n",
       "      <td>-0.001</td>\n",
       "      <td>0.000003</td>\n",
       "      <td>0.000000</td>\n",
       "      <td>...</td>\n",
       "      <td>0.000929</td>\n",
       "      <td>-0.041857</td>\n",
       "      <td>-0.000091</td>\n",
       "      <td>0.000003</td>\n",
       "      <td>0.041613</td>\n",
       "      <td>0.004249</td>\n",
       "      <td>0.0</td>\n",
       "      <td>0.000020</td>\n",
       "      <td>0.0</td>\n",
       "      <td>Responder</td>\n",
       "    </tr>\n",
       "    <tr>\n",
       "      <th>AAACCTGAGCAGCGTA-1</th>\n",
       "      <td>0.000021</td>\n",
       "      <td>0.000003</td>\n",
       "      <td>0.0</td>\n",
       "      <td>0.0</td>\n",
       "      <td>-0.000016</td>\n",
       "      <td>0.073298</td>\n",
       "      <td>0.0</td>\n",
       "      <td>-0.001</td>\n",
       "      <td>0.000004</td>\n",
       "      <td>0.000000</td>\n",
       "      <td>...</td>\n",
       "      <td>0.000912</td>\n",
       "      <td>-0.041857</td>\n",
       "      <td>-0.000112</td>\n",
       "      <td>0.000004</td>\n",
       "      <td>0.041613</td>\n",
       "      <td>0.004303</td>\n",
       "      <td>0.0</td>\n",
       "      <td>0.000025</td>\n",
       "      <td>0.0</td>\n",
       "      <td>Responder</td>\n",
       "    </tr>\n",
       "    <tr>\n",
       "      <th>AAACCTGAGCCAACAG-1</th>\n",
       "      <td>0.000027</td>\n",
       "      <td>0.000003</td>\n",
       "      <td>0.0</td>\n",
       "      <td>0.0</td>\n",
       "      <td>-0.000020</td>\n",
       "      <td>0.073298</td>\n",
       "      <td>0.0</td>\n",
       "      <td>-0.001</td>\n",
       "      <td>0.000005</td>\n",
       "      <td>0.000000</td>\n",
       "      <td>...</td>\n",
       "      <td>0.000886</td>\n",
       "      <td>-0.041857</td>\n",
       "      <td>-0.000146</td>\n",
       "      <td>0.000000</td>\n",
       "      <td>0.041613</td>\n",
       "      <td>0.003324</td>\n",
       "      <td>0.0</td>\n",
       "      <td>0.000033</td>\n",
       "      <td>0.0</td>\n",
       "      <td>Responder</td>\n",
       "    </tr>\n",
       "    <tr>\n",
       "      <th>AAACCTGAGCGTGAAC-1</th>\n",
       "      <td>0.000024</td>\n",
       "      <td>0.000003</td>\n",
       "      <td>0.0</td>\n",
       "      <td>0.0</td>\n",
       "      <td>-0.000018</td>\n",
       "      <td>0.073298</td>\n",
       "      <td>0.0</td>\n",
       "      <td>-0.001</td>\n",
       "      <td>0.000005</td>\n",
       "      <td>0.000143</td>\n",
       "      <td>...</td>\n",
       "      <td>0.000900</td>\n",
       "      <td>-0.041857</td>\n",
       "      <td>-0.000128</td>\n",
       "      <td>0.000000</td>\n",
       "      <td>0.041613</td>\n",
       "      <td>0.003937</td>\n",
       "      <td>0.0</td>\n",
       "      <td>0.000029</td>\n",
       "      <td>0.0</td>\n",
       "      <td>Responder</td>\n",
       "    </tr>\n",
       "    <tr>\n",
       "      <th>AAACCTGAGCTACCTA-1</th>\n",
       "      <td>0.000024</td>\n",
       "      <td>0.000003</td>\n",
       "      <td>0.0</td>\n",
       "      <td>0.0</td>\n",
       "      <td>-0.000018</td>\n",
       "      <td>0.073298</td>\n",
       "      <td>0.0</td>\n",
       "      <td>-0.001</td>\n",
       "      <td>0.000005</td>\n",
       "      <td>0.000000</td>\n",
       "      <td>...</td>\n",
       "      <td>0.000900</td>\n",
       "      <td>-0.041857</td>\n",
       "      <td>-0.000128</td>\n",
       "      <td>0.000000</td>\n",
       "      <td>0.041613</td>\n",
       "      <td>0.003879</td>\n",
       "      <td>0.0</td>\n",
       "      <td>0.000029</td>\n",
       "      <td>0.0</td>\n",
       "      <td>Responder</td>\n",
       "    </tr>\n",
       "    <tr>\n",
       "      <th>...</th>\n",
       "      <td>...</td>\n",
       "      <td>...</td>\n",
       "      <td>...</td>\n",
       "      <td>...</td>\n",
       "      <td>...</td>\n",
       "      <td>...</td>\n",
       "      <td>...</td>\n",
       "      <td>...</td>\n",
       "      <td>...</td>\n",
       "      <td>...</td>\n",
       "      <td>...</td>\n",
       "      <td>...</td>\n",
       "      <td>...</td>\n",
       "      <td>...</td>\n",
       "      <td>...</td>\n",
       "      <td>...</td>\n",
       "      <td>...</td>\n",
       "      <td>...</td>\n",
       "      <td>...</td>\n",
       "      <td>...</td>\n",
       "      <td>...</td>\n",
       "    </tr>\n",
       "    <tr>\n",
       "      <th>TTTGTCATCAACACTG-1</th>\n",
       "      <td>0.000020</td>\n",
       "      <td>0.000003</td>\n",
       "      <td>0.0</td>\n",
       "      <td>0.0</td>\n",
       "      <td>-0.000015</td>\n",
       "      <td>0.050245</td>\n",
       "      <td>0.0</td>\n",
       "      <td>-0.001</td>\n",
       "      <td>0.000004</td>\n",
       "      <td>0.000000</td>\n",
       "      <td>...</td>\n",
       "      <td>0.000918</td>\n",
       "      <td>-0.039100</td>\n",
       "      <td>-0.000609</td>\n",
       "      <td>0.000000</td>\n",
       "      <td>0.010159</td>\n",
       "      <td>0.004278</td>\n",
       "      <td>0.0</td>\n",
       "      <td>0.000024</td>\n",
       "      <td>0.0</td>\n",
       "      <td>Non-responder</td>\n",
       "    </tr>\n",
       "    <tr>\n",
       "      <th>TTTGTCATCAATCACG-1</th>\n",
       "      <td>0.000024</td>\n",
       "      <td>0.000003</td>\n",
       "      <td>0.0</td>\n",
       "      <td>0.0</td>\n",
       "      <td>-0.000018</td>\n",
       "      <td>0.050245</td>\n",
       "      <td>0.0</td>\n",
       "      <td>-0.001</td>\n",
       "      <td>0.000005</td>\n",
       "      <td>0.000000</td>\n",
       "      <td>...</td>\n",
       "      <td>0.000898</td>\n",
       "      <td>-0.039100</td>\n",
       "      <td>-0.000130</td>\n",
       "      <td>0.000000</td>\n",
       "      <td>0.010159</td>\n",
       "      <td>0.003369</td>\n",
       "      <td>0.0</td>\n",
       "      <td>0.000029</td>\n",
       "      <td>0.0</td>\n",
       "      <td>Non-responder</td>\n",
       "    </tr>\n",
       "    <tr>\n",
       "      <th>TTTGTCATCACGATGT-1</th>\n",
       "      <td>0.000026</td>\n",
       "      <td>0.000003</td>\n",
       "      <td>0.0</td>\n",
       "      <td>0.0</td>\n",
       "      <td>-0.000020</td>\n",
       "      <td>0.050245</td>\n",
       "      <td>0.0</td>\n",
       "      <td>-0.001</td>\n",
       "      <td>0.000005</td>\n",
       "      <td>0.000000</td>\n",
       "      <td>...</td>\n",
       "      <td>0.000890</td>\n",
       "      <td>-0.039100</td>\n",
       "      <td>-0.000141</td>\n",
       "      <td>0.000000</td>\n",
       "      <td>0.010159</td>\n",
       "      <td>0.003359</td>\n",
       "      <td>0.0</td>\n",
       "      <td>0.000032</td>\n",
       "      <td>0.0</td>\n",
       "      <td>Non-responder</td>\n",
       "    </tr>\n",
       "    <tr>\n",
       "      <th>TTTGTCATCACTTCAT-1</th>\n",
       "      <td>0.000020</td>\n",
       "      <td>0.000003</td>\n",
       "      <td>0.0</td>\n",
       "      <td>0.0</td>\n",
       "      <td>-0.000015</td>\n",
       "      <td>0.050245</td>\n",
       "      <td>0.0</td>\n",
       "      <td>-0.001</td>\n",
       "      <td>0.000004</td>\n",
       "      <td>0.000122</td>\n",
       "      <td>...</td>\n",
       "      <td>0.000915</td>\n",
       "      <td>-0.039100</td>\n",
       "      <td>-0.000109</td>\n",
       "      <td>0.000004</td>\n",
       "      <td>0.010159</td>\n",
       "      <td>0.004334</td>\n",
       "      <td>0.0</td>\n",
       "      <td>0.000024</td>\n",
       "      <td>0.0</td>\n",
       "      <td>Non-responder</td>\n",
       "    </tr>\n",
       "    <tr>\n",
       "      <th>TTTGTCATCTGTTTGT-1</th>\n",
       "      <td>0.000019</td>\n",
       "      <td>0.000003</td>\n",
       "      <td>0.0</td>\n",
       "      <td>0.0</td>\n",
       "      <td>-0.000015</td>\n",
       "      <td>0.050245</td>\n",
       "      <td>0.0</td>\n",
       "      <td>-0.001</td>\n",
       "      <td>0.000004</td>\n",
       "      <td>0.001173</td>\n",
       "      <td>...</td>\n",
       "      <td>0.000918</td>\n",
       "      <td>-0.039100</td>\n",
       "      <td>-0.000609</td>\n",
       "      <td>0.000000</td>\n",
       "      <td>0.010159</td>\n",
       "      <td>0.004176</td>\n",
       "      <td>0.0</td>\n",
       "      <td>0.000023</td>\n",
       "      <td>0.0</td>\n",
       "      <td>Non-responder</td>\n",
       "    </tr>\n",
       "  </tbody>\n",
       "</table>\n",
       "<p>53338 rows × 450 columns</p>\n",
       "</div>\n",
       "    <div class=\"colab-df-buttons\">\n",
       "\n",
       "  <div class=\"colab-df-container\">\n",
       "    <button class=\"colab-df-convert\" onclick=\"convertToInteractive('df-4425bb4c-67d1-49f8-8650-917ff3e6d284')\"\n",
       "            title=\"Convert this dataframe to an interactive table.\"\n",
       "            style=\"display:none;\">\n",
       "\n",
       "  <svg xmlns=\"http://www.w3.org/2000/svg\" height=\"24px\" viewBox=\"0 -960 960 960\">\n",
       "    <path d=\"M120-120v-720h720v720H120Zm60-500h600v-160H180v160Zm220 220h160v-160H400v160Zm0 220h160v-160H400v160ZM180-400h160v-160H180v160Zm440 0h160v-160H620v160ZM180-180h160v-160H180v160Zm440 0h160v-160H620v160Z\"/>\n",
       "  </svg>\n",
       "    </button>\n",
       "\n",
       "  <style>\n",
       "    .colab-df-container {\n",
       "      display:flex;\n",
       "      gap: 12px;\n",
       "    }\n",
       "\n",
       "    .colab-df-convert {\n",
       "      background-color: #E8F0FE;\n",
       "      border: none;\n",
       "      border-radius: 50%;\n",
       "      cursor: pointer;\n",
       "      display: none;\n",
       "      fill: #1967D2;\n",
       "      height: 32px;\n",
       "      padding: 0 0 0 0;\n",
       "      width: 32px;\n",
       "    }\n",
       "\n",
       "    .colab-df-convert:hover {\n",
       "      background-color: #E2EBFA;\n",
       "      box-shadow: 0px 1px 2px rgba(60, 64, 67, 0.3), 0px 1px 3px 1px rgba(60, 64, 67, 0.15);\n",
       "      fill: #174EA6;\n",
       "    }\n",
       "\n",
       "    .colab-df-buttons div {\n",
       "      margin-bottom: 4px;\n",
       "    }\n",
       "\n",
       "    [theme=dark] .colab-df-convert {\n",
       "      background-color: #3B4455;\n",
       "      fill: #D2E3FC;\n",
       "    }\n",
       "\n",
       "    [theme=dark] .colab-df-convert:hover {\n",
       "      background-color: #434B5C;\n",
       "      box-shadow: 0px 1px 3px 1px rgba(0, 0, 0, 0.15);\n",
       "      filter: drop-shadow(0px 1px 2px rgba(0, 0, 0, 0.3));\n",
       "      fill: #FFFFFF;\n",
       "    }\n",
       "  </style>\n",
       "\n",
       "    <script>\n",
       "      const buttonEl =\n",
       "        document.querySelector('#df-4425bb4c-67d1-49f8-8650-917ff3e6d284 button.colab-df-convert');\n",
       "      buttonEl.style.display =\n",
       "        google.colab.kernel.accessAllowed ? 'block' : 'none';\n",
       "\n",
       "      async function convertToInteractive(key) {\n",
       "        const element = document.querySelector('#df-4425bb4c-67d1-49f8-8650-917ff3e6d284');\n",
       "        const dataTable =\n",
       "          await google.colab.kernel.invokeFunction('convertToInteractive',\n",
       "                                                    [key], {});\n",
       "        if (!dataTable) return;\n",
       "\n",
       "        const docLinkHtml = 'Like what you see? Visit the ' +\n",
       "          '<a target=\"_blank\" href=https://colab.research.google.com/notebooks/data_table.ipynb>data table notebook</a>'\n",
       "          + ' to learn more about interactive tables.';\n",
       "        element.innerHTML = '';\n",
       "        dataTable['output_type'] = 'display_data';\n",
       "        await google.colab.output.renderOutput(dataTable, element);\n",
       "        const docLink = document.createElement('div');\n",
       "        docLink.innerHTML = docLinkHtml;\n",
       "        element.appendChild(docLink);\n",
       "      }\n",
       "    </script>\n",
       "  </div>\n",
       "\n",
       "\n",
       "    <div id=\"df-183ca1ee-2dc3-4489-8104-168c33dca92d\">\n",
       "      <button class=\"colab-df-quickchart\" onclick=\"quickchart('df-183ca1ee-2dc3-4489-8104-168c33dca92d')\"\n",
       "                title=\"Suggest charts\"\n",
       "                style=\"display:none;\">\n",
       "\n",
       "<svg xmlns=\"http://www.w3.org/2000/svg\" height=\"24px\"viewBox=\"0 0 24 24\"\n",
       "     width=\"24px\">\n",
       "    <g>\n",
       "        <path d=\"M19 3H5c-1.1 0-2 .9-2 2v14c0 1.1.9 2 2 2h14c1.1 0 2-.9 2-2V5c0-1.1-.9-2-2-2zM9 17H7v-7h2v7zm4 0h-2V7h2v10zm4 0h-2v-4h2v4z\"/>\n",
       "    </g>\n",
       "</svg>\n",
       "      </button>\n",
       "\n",
       "<style>\n",
       "  .colab-df-quickchart {\n",
       "      --bg-color: #E8F0FE;\n",
       "      --fill-color: #1967D2;\n",
       "      --hover-bg-color: #E2EBFA;\n",
       "      --hover-fill-color: #174EA6;\n",
       "      --disabled-fill-color: #AAA;\n",
       "      --disabled-bg-color: #DDD;\n",
       "  }\n",
       "\n",
       "  [theme=dark] .colab-df-quickchart {\n",
       "      --bg-color: #3B4455;\n",
       "      --fill-color: #D2E3FC;\n",
       "      --hover-bg-color: #434B5C;\n",
       "      --hover-fill-color: #FFFFFF;\n",
       "      --disabled-bg-color: #3B4455;\n",
       "      --disabled-fill-color: #666;\n",
       "  }\n",
       "\n",
       "  .colab-df-quickchart {\n",
       "    background-color: var(--bg-color);\n",
       "    border: none;\n",
       "    border-radius: 50%;\n",
       "    cursor: pointer;\n",
       "    display: none;\n",
       "    fill: var(--fill-color);\n",
       "    height: 32px;\n",
       "    padding: 0;\n",
       "    width: 32px;\n",
       "  }\n",
       "\n",
       "  .colab-df-quickchart:hover {\n",
       "    background-color: var(--hover-bg-color);\n",
       "    box-shadow: 0 1px 2px rgba(60, 64, 67, 0.3), 0 1px 3px 1px rgba(60, 64, 67, 0.15);\n",
       "    fill: var(--button-hover-fill-color);\n",
       "  }\n",
       "\n",
       "  .colab-df-quickchart-complete:disabled,\n",
       "  .colab-df-quickchart-complete:disabled:hover {\n",
       "    background-color: var(--disabled-bg-color);\n",
       "    fill: var(--disabled-fill-color);\n",
       "    box-shadow: none;\n",
       "  }\n",
       "\n",
       "  .colab-df-spinner {\n",
       "    border: 2px solid var(--fill-color);\n",
       "    border-color: transparent;\n",
       "    border-bottom-color: var(--fill-color);\n",
       "    animation:\n",
       "      spin 1s steps(1) infinite;\n",
       "  }\n",
       "\n",
       "  @keyframes spin {\n",
       "    0% {\n",
       "      border-color: transparent;\n",
       "      border-bottom-color: var(--fill-color);\n",
       "      border-left-color: var(--fill-color);\n",
       "    }\n",
       "    20% {\n",
       "      border-color: transparent;\n",
       "      border-left-color: var(--fill-color);\n",
       "      border-top-color: var(--fill-color);\n",
       "    }\n",
       "    30% {\n",
       "      border-color: transparent;\n",
       "      border-left-color: var(--fill-color);\n",
       "      border-top-color: var(--fill-color);\n",
       "      border-right-color: var(--fill-color);\n",
       "    }\n",
       "    40% {\n",
       "      border-color: transparent;\n",
       "      border-right-color: var(--fill-color);\n",
       "      border-top-color: var(--fill-color);\n",
       "    }\n",
       "    60% {\n",
       "      border-color: transparent;\n",
       "      border-right-color: var(--fill-color);\n",
       "    }\n",
       "    80% {\n",
       "      border-color: transparent;\n",
       "      border-right-color: var(--fill-color);\n",
       "      border-bottom-color: var(--fill-color);\n",
       "    }\n",
       "    90% {\n",
       "      border-color: transparent;\n",
       "      border-bottom-color: var(--fill-color);\n",
       "    }\n",
       "  }\n",
       "</style>\n",
       "\n",
       "      <script>\n",
       "        async function quickchart(key) {\n",
       "          const quickchartButtonEl =\n",
       "            document.querySelector('#' + key + ' button');\n",
       "          quickchartButtonEl.disabled = true;  // To prevent multiple clicks.\n",
       "          quickchartButtonEl.classList.add('colab-df-spinner');\n",
       "          try {\n",
       "            const charts = await google.colab.kernel.invokeFunction(\n",
       "                'suggestCharts', [key], {});\n",
       "          } catch (error) {\n",
       "            console.error('Error during call to suggestCharts:', error);\n",
       "          }\n",
       "          quickchartButtonEl.classList.remove('colab-df-spinner');\n",
       "          quickchartButtonEl.classList.add('colab-df-quickchart-complete');\n",
       "        }\n",
       "        (() => {\n",
       "          let quickchartButtonEl =\n",
       "            document.querySelector('#df-183ca1ee-2dc3-4489-8104-168c33dca92d button');\n",
       "          quickchartButtonEl.style.display =\n",
       "            google.colab.kernel.accessAllowed ? 'block' : 'none';\n",
       "        })();\n",
       "      </script>\n",
       "    </div>\n",
       "\n",
       "  <div id=\"id_848fe53b-ed9e-492a-9c35-76eca055769d\">\n",
       "    <style>\n",
       "      .colab-df-generate {\n",
       "        background-color: #E8F0FE;\n",
       "        border: none;\n",
       "        border-radius: 50%;\n",
       "        cursor: pointer;\n",
       "        display: none;\n",
       "        fill: #1967D2;\n",
       "        height: 32px;\n",
       "        padding: 0 0 0 0;\n",
       "        width: 32px;\n",
       "      }\n",
       "\n",
       "      .colab-df-generate:hover {\n",
       "        background-color: #E2EBFA;\n",
       "        box-shadow: 0px 1px 2px rgba(60, 64, 67, 0.3), 0px 1px 3px 1px rgba(60, 64, 67, 0.15);\n",
       "        fill: #174EA6;\n",
       "      }\n",
       "\n",
       "      [theme=dark] .colab-df-generate {\n",
       "        background-color: #3B4455;\n",
       "        fill: #D2E3FC;\n",
       "      }\n",
       "\n",
       "      [theme=dark] .colab-df-generate:hover {\n",
       "        background-color: #434B5C;\n",
       "        box-shadow: 0px 1px 3px 1px rgba(0, 0, 0, 0.15);\n",
       "        filter: drop-shadow(0px 1px 2px rgba(0, 0, 0, 0.3));\n",
       "        fill: #FFFFFF;\n",
       "      }\n",
       "    </style>\n",
       "    <button class=\"colab-df-generate\" onclick=\"generateWithVariable('flux_filtered')\"\n",
       "            title=\"Generate code using this dataframe.\"\n",
       "            style=\"display:none;\">\n",
       "\n",
       "  <svg xmlns=\"http://www.w3.org/2000/svg\" height=\"24px\"viewBox=\"0 0 24 24\"\n",
       "       width=\"24px\">\n",
       "    <path d=\"M7,19H8.4L18.45,9,17,7.55,7,17.6ZM5,21V16.75L18.45,3.32a2,2,0,0,1,2.83,0l1.4,1.43a1.91,1.91,0,0,1,.58,1.4,1.91,1.91,0,0,1-.58,1.4L9.25,21ZM18.45,9,17,7.55Zm-12,3A5.31,5.31,0,0,0,4.9,8.1,5.31,5.31,0,0,0,1,6.5,5.31,5.31,0,0,0,4.9,4.9,5.31,5.31,0,0,0,6.5,1,5.31,5.31,0,0,0,8.1,4.9,5.31,5.31,0,0,0,12,6.5,5.46,5.46,0,0,0,6.5,12Z\"/>\n",
       "  </svg>\n",
       "    </button>\n",
       "    <script>\n",
       "      (() => {\n",
       "      const buttonEl =\n",
       "        document.querySelector('#id_848fe53b-ed9e-492a-9c35-76eca055769d button.colab-df-generate');\n",
       "      buttonEl.style.display =\n",
       "        google.colab.kernel.accessAllowed ? 'block' : 'none';\n",
       "\n",
       "      buttonEl.onclick = () => {\n",
       "        google.colab.notebook.generateWithVariable('flux_filtered');\n",
       "      }\n",
       "      })();\n",
       "    </script>\n",
       "  </div>\n",
       "\n",
       "    </div>\n",
       "  </div>\n"
      ],
      "text/plain": [
       "                       NDPK2     RNDR4  ADNK1  CARN160t_m      TKT1  \\\n",
       "AAACCTGAGACTGTAA-1  0.000017  0.000002    0.0         0.0 -0.000013   \n",
       "AAACCTGAGCAGCGTA-1  0.000021  0.000003    0.0         0.0 -0.000016   \n",
       "AAACCTGAGCCAACAG-1  0.000027  0.000003    0.0         0.0 -0.000020   \n",
       "AAACCTGAGCGTGAAC-1  0.000024  0.000003    0.0         0.0 -0.000018   \n",
       "AAACCTGAGCTACCTA-1  0.000024  0.000003    0.0         0.0 -0.000018   \n",
       "...                      ...       ...    ...         ...       ...   \n",
       "TTTGTCATCAACACTG-1  0.000020  0.000003    0.0         0.0 -0.000015   \n",
       "TTTGTCATCAATCACG-1  0.000024  0.000003    0.0         0.0 -0.000018   \n",
       "TTTGTCATCACGATGT-1  0.000026  0.000003    0.0         0.0 -0.000020   \n",
       "TTTGTCATCACTTCAT-1  0.000020  0.000003    0.0         0.0 -0.000015   \n",
       "TTTGTCATCTGTTTGT-1  0.000019  0.000003    0.0         0.0 -0.000015   \n",
       "\n",
       "                    EX_pyr_e_#  GLNS  GLCt1  HMR_1490     PSP_L  ...  \\\n",
       "AAACCTGAGACTGTAA-1    0.073298   0.0 -0.001  0.000003  0.000000  ...   \n",
       "AAACCTGAGCAGCGTA-1    0.073298   0.0 -0.001  0.000004  0.000000  ...   \n",
       "AAACCTGAGCCAACAG-1    0.073298   0.0 -0.001  0.000005  0.000000  ...   \n",
       "AAACCTGAGCGTGAAC-1    0.073298   0.0 -0.001  0.000005  0.000143  ...   \n",
       "AAACCTGAGCTACCTA-1    0.073298   0.0 -0.001  0.000005  0.000000  ...   \n",
       "...                        ...   ...    ...       ...       ...  ...   \n",
       "TTTGTCATCAACACTG-1    0.050245   0.0 -0.001  0.000004  0.000000  ...   \n",
       "TTTGTCATCAATCACG-1    0.050245   0.0 -0.001  0.000005  0.000000  ...   \n",
       "TTTGTCATCACGATGT-1    0.050245   0.0 -0.001  0.000005  0.000000  ...   \n",
       "TTTGTCATCACTTCAT-1    0.050245   0.0 -0.001  0.000004  0.000122  ...   \n",
       "TTTGTCATCTGTTTGT-1    0.050245   0.0 -0.001  0.000004  0.001173  ...   \n",
       "\n",
       "                         FBA  EX_lys__L_e_#   leu_L_t   C3STDH1  EX_urea_e_#  \\\n",
       "AAACCTGAGACTGTAA-1  0.000929      -0.041857 -0.000091  0.000003     0.041613   \n",
       "AAACCTGAGCAGCGTA-1  0.000912      -0.041857 -0.000112  0.000004     0.041613   \n",
       "AAACCTGAGCCAACAG-1  0.000886      -0.041857 -0.000146  0.000000     0.041613   \n",
       "AAACCTGAGCGTGAAC-1  0.000900      -0.041857 -0.000128  0.000000     0.041613   \n",
       "AAACCTGAGCTACCTA-1  0.000900      -0.041857 -0.000128  0.000000     0.041613   \n",
       "...                      ...            ...       ...       ...          ...   \n",
       "TTTGTCATCAACACTG-1  0.000918      -0.039100 -0.000609  0.000000     0.010159   \n",
       "TTTGTCATCAATCACG-1  0.000898      -0.039100 -0.000130  0.000000     0.010159   \n",
       "TTTGTCATCACGATGT-1  0.000890      -0.039100 -0.000141  0.000000     0.010159   \n",
       "TTTGTCATCACTTCAT-1  0.000915      -0.039100 -0.000109  0.000004     0.010159   \n",
       "TTTGTCATCTGTTTGT-1  0.000918      -0.039100 -0.000609  0.000000     0.010159   \n",
       "\n",
       "                     ATPS4mi  t_Lcystin_ser__L  HMGCOAtm  EX_ala_B_e_#  \\\n",
       "AAACCTGAGACTGTAA-1  0.004249               0.0  0.000020           0.0   \n",
       "AAACCTGAGCAGCGTA-1  0.004303               0.0  0.000025           0.0   \n",
       "AAACCTGAGCCAACAG-1  0.003324               0.0  0.000033           0.0   \n",
       "AAACCTGAGCGTGAAC-1  0.003937               0.0  0.000029           0.0   \n",
       "AAACCTGAGCTACCTA-1  0.003879               0.0  0.000029           0.0   \n",
       "...                      ...               ...       ...           ...   \n",
       "TTTGTCATCAACACTG-1  0.004278               0.0  0.000024           0.0   \n",
       "TTTGTCATCAATCACG-1  0.003369               0.0  0.000029           0.0   \n",
       "TTTGTCATCACGATGT-1  0.003359               0.0  0.000032           0.0   \n",
       "TTTGTCATCACTTCAT-1  0.004334               0.0  0.000024           0.0   \n",
       "TTTGTCATCTGTTTGT-1  0.004176               0.0  0.000023           0.0   \n",
       "\n",
       "                         response  \n",
       "AAACCTGAGACTGTAA-1      Responder  \n",
       "AAACCTGAGCAGCGTA-1      Responder  \n",
       "AAACCTGAGCCAACAG-1      Responder  \n",
       "AAACCTGAGCGTGAAC-1      Responder  \n",
       "AAACCTGAGCTACCTA-1      Responder  \n",
       "...                           ...  \n",
       "TTTGTCATCAACACTG-1  Non-responder  \n",
       "TTTGTCATCAATCACG-1  Non-responder  \n",
       "TTTGTCATCACGATGT-1  Non-responder  \n",
       "TTTGTCATCACTTCAT-1  Non-responder  \n",
       "TTTGTCATCTGTTTGT-1  Non-responder  \n",
       "\n",
       "[53338 rows x 450 columns]"
      ]
     },
     "execution_count": 60,
     "metadata": {},
     "output_type": "execute_result"
    }
   ],
   "source": [
    "flux_filtered"
   ]
  },
  {
   "cell_type": "code",
   "execution_count": 61,
   "metadata": {
    "colab": {
     "base_uri": "https://localhost:8080/"
    },
    "executionInfo": {
     "elapsed": 319,
     "status": "ok",
     "timestamp": 1759685312226,
     "user": {
      "displayName": "Ekow Mills",
      "userId": "12893291206346354513"
     },
     "user_tz": -60
    },
    "id": "I08KzyCyiLzz",
    "outputId": "b9c62d9b-2fe9-4503-ae39-9f59ececa7a2"
   },
   "outputs": [
    {
     "name": "stdout",
     "output_type": "stream",
     "text": [
      "Columns in gene-only dataset: ['TNFRSF18', 'CFAP74', 'GABRD', 'CCDC27', 'ENSG00000284747', 'RBP7', 'ENSG00000203469', 'ENSG00000287727', 'ENSG00000287384', 'KAZN', 'LINC01783', 'PADI4', 'CDA', 'ENSG00000287192', 'ENSG00000236936', 'C1QA', 'C1QC', 'C1QB', 'LINC01355', 'GRHL3', 'CLIC4', 'RHD', 'ENSG00000225643', 'STMN1', 'ZNF683', 'LIN28A', 'ENSG00000270103', 'OPRD1', 'ENSG00000233427', 'SPOCD1', 'ENSG00000255811', 'GJA4', 'CSF3R', 'RHBDL2', 'ZMYND12', 'C1orf210', 'MPL', 'SLC6A9', 'MOB3C', 'LINC00853', 'PDZK1IP1', 'TAL1', 'ENSG00000226252', 'LINC01389', 'FOXD2-AS1', 'RNF11', 'ENSG00000272100', 'PODN', 'ENSG00000242396', 'ENSG00000234810', 'PLPP3', 'JUN', 'ENSG00000272506', 'LEPROT', 'GADD45A', 'NEXN-AS1', 'NEXN', 'IFI44L', 'LINC01781', 'TTLL7', 'SSX2IP', 'FNBP1L', 'LOC105379825', 'LRRC39', 'MYBPHL', 'GSTM5', 'ENSG00000261055', 'ENSG00000243960', 'INKA2', 'INKA2-AS1', 'KCND3', 'LINC01750', 'LINC02884', 'RHOC', 'ENSG00000287807', 'DENND2C', 'TRIM45', 'LINC00622', 'CD160', 'ITGA10', 'ENSG00000273059', 'LINC02805', 'ENSG00000272824', 'ENSG00000203812', 'ENSG00000272196', 'H2BC21', 'PLEKHO1', 'MCL1', 'CTSS', 'ENSG00000231073', 'MINDY1', 'PRUNE1', 'ENSG00000273481', 'SELENBP1', 'ENSG00000232536', 'THEM5', 'S100A11', 'ENSG00000237975', 'HRNR', 'S100A9', 'S100A12', 'S100A8', 'S100A6', 'AQP10', 'UBE2Q1-AS1', 'KCNN3', 'LMNA', 'INSRR', 'PEAR1', 'FCRL1', 'CD1C', 'MNDA', 'FCER1A', 'FCRL6', 'TAGLN2', 'CASQ1', 'ENSG00000234425', 'F11R', 'FCER1G', 'FCGR2A', 'FCGR3A', 'FCRLA', 'SH2D1B', 'PBX1', 'ENSG00000272033', 'ENSG00000273160', 'XCL2', 'XCL1', 'SELP', 'DNM3', 'DNM3OS', 'TNFSF4', 'RALGPS2', 'TEDDM1', 'LINC01686', 'NCF2', 'PRG4', 'LINC02770', 'RGS18', 'RGS13', 'RGS2', 'KCNT2', 'ASPM', 'LINC00862', 'DDX59-AS1', 'ELF3', 'SYT2-AS1', 'ADIPOR1', 'PPFIA4', 'CHI3L1', 'KISS1', 'LRRN2', 'TMCC2', 'PIGR', 'C1orf116', 'CR1L', 'CD34', 'G0S2', 'ENSG00000229832', 'ENSG00000288007', 'CENPF', 'LYPLAL1-DT', 'LOC105372984', 'ENSG00000282418', 'LEFTY1', 'C1orf198', 'DISC1-IT1', 'ENSG00000231272', 'LINC02971', 'LNCATV', 'ENSG00000273416', 'ENSG00000287516', 'ENSG00000240963', 'SMYD3-IT1', 'CNST', 'ENSG00000260698', 'ENSG00000260855', 'LINC01341', 'OR2B11', 'GCSAML', 'TRIM58', 'OR2L8', 'LINC00299', 'ENSG00000236008', 'ASAP2', 'GRHL1', 'CYS1', 'RRM2', 'ODC1', 'LOC100506405', 'MYCNOS', 'ENSG00000283031', 'MFSD2B', 'OTOF', 'AGBL5', 'ENSG00000272056', 'ENSG00000272148', 'SLC30A3', 'GCKR', 'EHD3', 'LTBP1', 'PIRAT1', 'CYP1B1', 'ENSG00000235586', 'GALM-AS1', 'ARHGEF33', 'CDKL4', 'ENSG00000233978', 'STON1', 'ENSG00000282828', 'TMEM17', 'LOC105374768', 'LGALSL', 'MEIS1', 'MEIS1-AS2', 'M1AP', 'ENSG00000230836', 'EVA1A', 'SFTPB', 'GNLY', 'CD8A', 'CD8B', 'IGKV3OR2-268', 'CYTOR', 'IGKC', 'IGKV4-1', 'IGKV5-2', 'IGKV7-3', 'IGKV1-5', 'IGKV1-6', 'IGKV3-7', 'IGKV1-8', 'IGKV1-9', 'IGKV3-11', 'IGKV1-12', 'IGKV3-15', 'IGKV1-16', 'IGKV1-17', 'IGKV2-18', 'IGKV3-20', 'IGKV6-21', 'IGKV2-24', 'IGKV2-26', 'IGKV1-27', 'IGKV2-28', 'IGKV2-29', 'IGKV2-30', 'IGKV1-33', 'IGKV1-37', 'IGKV1-39', 'IGKV2D-40', 'IGKV1D-39', 'IGKV1D-33', 'IGKV2D-30', 'IGKV2D-29', 'IGKV2D-28', 'IGKV2D-26', 'IGKV6D-21', 'IGKV3D-20', 'IGKV1D-16', 'IGKV3D-15', 'IGKV1D-13', 'IGKV1D-12', 'IGKV3D-11', 'IGKV1D-43', 'IGKV1D-8', 'IGKV3D-7', 'DUSP2', 'NEURL3', 'AFF3', 'IL1R2', 'ENSG00000236525', 'FHL2', 'NCK2', 'LIMS1', 'MALL', 'LIMS4', 'MIR4435-2HG', 'IL1B', 'LINC02936', 'ENSG00000244063', 'ENSG00000243179', 'ENSG00000286957', 'PTPN18', 'ENSG00000287463', 'ZEB2-AS1', 'NR4A2', 'CD302', 'GRB14', 'COBLL1', 'SCN1A-AS1', 'XIRP2', 'KLHL41', 'ENSG00000273258', 'LINC01116', 'ENSG00000222043', 'PDE11A-AS1', 'TTN', 'ENSG00000270277', 'ENSG00000271141', 'NCKAP1', 'ENSG00000287621', 'TFPI', 'SLC40A1', 'AKAP19', 'ENSG00000272979', 'CAVIN2', 'CAVIN2-AS1', 'LINC01923', 'ENSG00000272966', 'CTLA4', 'CMKLR2', 'CMKLR2-AS', 'DYTN', 'MDH1B', 'LINC01857', 'ENSG00000286965', 'IGFBP2', 'TNS1', 'TMBIM1', 'SLC11A1', 'VIL1', 'PLCD4', 'CYP27A1', 'TUBA4A', 'PTPRN', 'SCYGR4', 'ITM2C', 'GPR55-AS1', 'ENSG00000283164', 'ENSG00000286942', 'SNORC', 'HJURP', 'RAMP1', 'ESPNL', 'ENSG00000287049', 'CNTN4-AS1', 'ENSG00000287720', 'OXTR', 'ENSG00000269894', 'EMC3_ENSG00000206567', 'TMEM40', 'ENSG00000286689', 'ZNF385D', 'CMC1', 'ITGA9-AS1', 'CTDSPL', 'SCN11A', 'CX3CR1', 'ENSG00000235288', 'TMEM158', 'CCR9', 'LTF', 'KLHDC8B', 'CDHR4', 'INKA1', 'GRM2', 'GLYCTK-AS1', 'SEMA3G', 'SPATA12', 'ENSG00000272360', 'PTPRG', 'SCAANT1', 'FRMD4B', 'MITF', 'CADM2', 'PROS1', 'ENSG00000279658', 'TMEM45A', 'LINC00882', 'MORC1', 'CCDC80', 'FSTL1', 'HGD', 'CSTA', 'MYLK', 'ITGB5', 'UROC1', 'MGLL', 'KBTBD12', 'GATA2', 'GATA2-AS1', 'ENSG00000231305', 'GP9', 'H1-10', 'TRH', 'TMEM108', 'RAB6B', 'SLCO2A1', 'AMOTL2', 'IL20RB', 'SPSB4', 'GK5', 'ENSG00000240888', 'PLOD2', 'CPA3', 'TM4SF1', 'MINDY4B', 'ENSG00000286273', 'P2RY12', 'SUCNR1', 'P2RY1', 'MME', 'PLCH1', 'VEPH1', 'SHOX2', 'RARRES1', 'MFSD1', 'LOC100287290', 'ENSG00000269888', 'LOC102724479', 'LINC02068', 'ENSG00000237473', 'YEATS2-AS1', 'ENSG00000273181', 'LIPH', 'ENSG00000228804', 'CCDC50', 'PLAAT1', 'TMEM44-AS2', 'XXYLT1-AS2', 'APOD', 'UBXN7-AS1', 'ENSG00000286755', 'ENSG00000281016', 'SPON2', 'ENSG00000248516', 'S100P', 'AFAP1-AS1', 'LOC124900656', 'LOC107986178', 'ENSG00000250371', 'LINC01182', 'FGFBP2', 'ENSG00000286349', 'SMIM14-DT', 'UCHL1', 'PDGFRA', 'CRACD', 'HOPX', 'IGFBP7', 'ENSG00000250333', 'LOC101927297', 'JCHAIN', 'MOB1B', 'CXCL8', 'PF4V1', 'PF4', 'PPBP', 'CXCL5', 'ENSG00000287037', 'CXCL3', 'CXCL2', 'AREG', 'CXCL9', 'CXCL10', 'CXCL11', 'CXCL13', 'ANXA3', 'ENSG00000287632', 'BMP2K-DT', 'LINC00989', 'BMP3', 'HPSE', 'FAM13A', 'SNCA', 'MMRN1', 'MTTP', 'DAPP1', 'BANK1', 'ENSG00000248242', 'COL25A1', 'PLA2G12A', 'EGF', 'PDE5A', 'SMIM43', 'IL21-AS1', 'FGF2', 'FAT4', 'INTU', 'HSPA4L', 'MGARP', 'GYPB', 'GYPA', 'RPS3A', 'ENSG00000287504', 'MND1', 'GUCY1A1', 'ENSG00000260244', 'GUCY1B1', 'PDGFC', 'MFAP3L', 'GLRA3', 'VEGFC', 'ENSG00000286256', 'KLKB1', 'F11', 'PLEKHG4B', 'ENSG00000271781', 'ENSG00000287031', 'ENSG00000248968', 'ROPN1L-AS1', 'ANKRD33B', 'LINC02241', 'CDH9', 'IL7R', 'DAB2', 'OXCT1-AS1', 'ENSG00000249203', 'ITGA1', 'HSPB3', 'GZMK', 'GZMA', 'ENSG00000249697', 'ENSG00000225230', 'ENSG00000235635', 'RAB3C', 'PDE4D-AS1', 'ELOVL7', 'KIF2A', 'ENSG00000249894', 'NAIP', 'LINC02197', 'MAP1B', 'ANKDD1B', 'SV2C-AS2', 'LOC101929109', 'ENSG00000225407', 'F2R', 'LHFPL2', 'VCAN', 'MEF2C', 'LINC02161', 'ADGRV1', 'ENSG00000286638', 'MCTP1', 'FAM81B', 'MACIR', 'CDO1', 'ENSG00000272265', 'PRR16', 'LOX', 'IL5', 'ENSG00000230612', 'TGFBI', 'KIF20A', 'EGR1', 'CTNNA1-AS1', 'MZB1', 'ECSCR', 'ENSG00000253965', 'CD14', 'PCDHGA7', 'SH3TC2', 'SH3TC2-DT', 'ABLIM3', 'CSF1R', 'CD74', 'SMIM3', 'ENSG00000271795', 'SPARC', 'CLMAT3', 'FAXDC2', 'NIPAL4-DT', 'LINC02227', 'LOC102546299', 'INSYN2B', 'LINC01187', 'DUSP1', 'ENSG00000254295', 'HK3', 'FAM193B-DT', 'ENSG00000250101', 'ENSG00000249684', 'RUFY1', 'ENSG00000248514', 'IRF4', 'LINC01011', 'NQO2-AS1', 'PXDC1', 'ENSG00000270504', 'ENSG00000272248', 'F13A1', 'ENSG00000225092', 'BMP6', 'ENSG00000287593', 'LOC100130357', 'MCUR1', 'CD83', 'GMPR', 'E2F3-IT1', 'ENSG00000283480', 'SOX4', 'H3C2', 'H3C3', 'H1-2', 'H2BC4', 'H2AC6', 'H1-4', 'H2BC5', 'H2BC7', 'H2BC8', 'H2AC8', 'H2BC9', 'H4C8', 'ENSG00000272468', 'H2BC11', 'H2AC11', 'H2BC12', 'H2AC13', 'H3C10', 'H2AC14', 'H2BC17', 'ZBED9-AS1', 'ENSG00000272236', 'TRIM40', 'TRIM10', 'DDX39B-AS1', 'LST1', 'NCR3', 'AIF1', 'C6orf47-AS1', 'LY6G6F', 'LY6G6D', 'MPIG6B', 'LY6G6C', 'TNXB', 'HLA-DRA', 'HLA-DRB5', 'HLA-DRB1', 'HLA-DQA1', 'HLA-DQB1', 'HLA-DPA1', 'HLA-DPB1', 'SCUBE3-AS1', 'CDKN1A', 'DINOL', 'CPNE5', 'TREML1', 'PTCRA', 'CUL9-AS1', 'RSPH9', 'ENSG00000272114', 'CAPN11', 'TDRD6', 'RHAG', 'GSTA1', 'COL19A1', 'EEF1A1-AS1', 'CD109-AS1', 'SH3BGRL2', 'SNAP91', 'PRDM13', 'PRDM1', 'ENSG00000286562', 'ENSG00000286511', 'WASF1', 'ENSG00000272356', 'LOC105377953', 'LINC02518', 'MARCKS', 'ENSG00000234117', 'TRAPPC3L', 'CALHM5', 'ARHGAP18', 'ARG1', 'ENPP1', 'LINC01013', 'LOC124901407', 'SLC35D3', 'TNFAIP3', 'ENSG00000237851', 'LINC01277', 'ZC2HC1B', 'RAB32', 'ENSG00000283608', 'MYCT1', 'OPRM1', 'CNKSR3', 'ENSG00000234361', 'AIRN', 'SLC22A3', 'LOC124901499', 'RPS6KA2-AS1', 'TCP10L2', 'LOC101929756', 'PDGFA', 'PDGFA-DT', 'MICALL2-DT', 'ENSG00000273230', 'ENSG00000176349', 'ACTB', 'ENSG00000272719', 'EIF2AK1', 'LOC107986763', 'LINC03016', 'TSPAN13', 'TWIST1', 'STEAP1B-AS1', 'IGF2BP3', 'ENSG00000286507', 'HOXA11-AS', 'CPVL', 'MTURN', 'ENSG00000230751', 'ENSG00000251660', 'AQP1', 'NT5C3A', 'ENSG00000287249', 'TRGV10', 'TRGV9', 'TRGVA', 'TRGV8', 'TRGV5', 'TRGV4', 'TRGV3', 'TRGV2', 'RAMP3', 'LOC441239', 'ENSG00000286342', 'LOC100996437', 'STX1A', 'CLDN3', 'ELN-AS1', 'LOC107986742', 'CLIP2', 'NCF1', 'FGL2', 'CD36', 'ENSG00000228113', 'STEAP4', 'ENSG00000223969', 'ENSG00000286411', 'ENSG00000243107', 'TFPI2', 'GNG11', 'DYNC1I1', 'BRI3', 'NPTX2', 'LOC105375423', 'PILRA', 'MEPCE', 'SERPINE1', 'NFE4', 'EFCAB10', 'EFCAB10-AS1', 'NAMPT', 'LINC02577', 'PRKAR2B', 'ENSG00000228540', 'IFRD1', 'LSMEM1', 'LINC03076', 'CAV2', 'CAV1', 'ANKRD7', 'ENSG00000234418', 'FSCN3', 'KCP', 'SPMIP1', 'TSPAN33', 'STRIP2', 'CALD1', 'TMEM140', 'ENSG00000273219', 'ENSG00000224746', 'DGKI', 'KIAA1549', 'ZC3HAV1L', 'CLEC2L', 'TBXAS1', 'MGAM', 'TRBV2', 'TRBV3-1', 'TRBV4-1', 'TRBV5-1', 'TRBV6-1', 'TRBV4-2', 'TRBV6-3', 'TRBV7-2', 'TRBV6-4', 'TRBV7-3', 'TRBV9', 'TRBV10-1', 'TRBV11-1', 'TRBV10-2', 'TRBV11-2', 'TRBV12-2', 'TRBV6-5', 'TRBV7-4', 'TRBV5-4', 'TRBV6-6', 'TRBV7-5', 'TRBV5-5', 'TRBV6-7', 'TRBV7-6', 'TRBV5-6', 'TRBV6-8', 'TRBV7-7', 'TRBV5-7', 'TRBV7-9', 'TRBV13', 'TRBV10-3', 'TRBV11-3', 'TRBV12-3', 'TRBV12-4', 'TRBV12-5', 'TRBV14', 'TRBV15', 'TRBV16', 'TRBV18', 'TRBV19', 'TRBV20-1', 'TRBV21-1', 'TRBV23-1', 'TRBV24-1', 'TRBV25-1', 'TRBV27', 'TRBV28', 'TRBV29-1', 'PRSS2', 'TRBC1', 'TRBV30', 'KEL', 'TAS2R60', 'TAS2R41', 'OR2A7', 'CNTNAP2', 'ENSG00000286171', 'TMEM176B', 'TMEM176A', 'ENSG00000287865', 'LOC105375610', 'VIPR2', 'TDRP', 'ENSG00000254207', 'MYOM2', 'MCPH1-AS1', 'PPP1R3B-DT', 'SOX7-AS1', 'ENSG00000254936', 'ENSG00000269899', 'ENSG00000270154', 'DLC1', 'PSD3', 'SLC18A1', 'DMTN', 'ADAM28', 'CHRNA2', 'CLU', 'RAB11FIP1', 'PLPP5', 'ENSG00000253586', 'IDO1', 'ANK1', 'CEBPD', 'LOC105375826', 'LINC01602', 'CLVS1', 'ENSG00000287214', 'CPA6', 'PKIA-AS1', 'CHMP4C', 'CA1', 'CA3-AS1', 'CA2', 'LINC00534', 'PIP4P2', 'ENSG00000253722', 'ENSG00000272509', 'ENSG00000254364', 'LINC03090', 'KLF10', 'DPYS', 'LRP12', 'ZFPM2', 'ANGPT1', 'LOC101927413', 'PKHD1L1', 'RAD21-AS1', 'AARD', 'SAMD12-AS1', 'ENSG00000253619', 'LINC01151', 'ENSG00000253227', 'LINC00964', 'ENSG00000254028', 'PTK2', 'LYPD2', 'MAFA', 'IQANK1', 'ENSG00000288096', 'ENSG00000287480', 'ENSG00000237359', 'SLC1A1', 'GLDC', 'LURAP1L', 'NFIB', 'ENSG00000260412', 'ENSG00000260947', 'SPATA31G1', 'ENSG00000287287', 'ENSG00000231393', 'ENSG00000269900', 'TPM2', 'TLN1', 'LOC105376030', 'LOC105376070', 'FRMD3-AS1', 'FRMD3', 'ENSG00000237529', 'SLC28A3', 'GAS1RR', 'SHC3', 'ENSG00000273381', 'CARD19', 'HEMGN', 'CTNNAL1', 'RNF183', 'ENSG00000237073', 'ORM1', 'LOC105376244', 'GSN', 'STOM', 'LOC102723324', 'PTGS1', 'ENSG00000269970', 'LOC105379839', 'ENSG00000279571', 'CFAP157', 'PTGES2-DT', 'LCN2', 'DNM1', 'ASB6-AS1', 'PTGES', 'FIBCD1', 'GFI1B', 'ABO', 'FCN1', 'PPP1R26-AS1', 'EGFL7', 'DIPK1B', 'ENSG00000260190', 'PTGDS', 'CLIC3', 'LRRC26', 'LOC122513141', 'RNF208', 'ENSG00000237419', 'TUBB8', 'ENSG00000236968', 'AKR1C1', 'AKR1C2', 'AKR1C4', 'ENSG00000232638', 'PROSER2', 'PROSER2-AS1', 'ENSG00000285994', 'BEND7', 'OLAH', 'ENSG00000287925', 'RSU1', 'MALRD1-AS1', 'LOC124902388', 'PLXDC2', 'ENSG00000287613', 'NEBL-AS1', 'ENSG00000279623', 'ARMC3', 'KIAA1217', 'ARHGAP21', 'PRTFDC1', 'ENKUR', 'MYO3A', 'ODAD2', 'ENSG00000285824', 'MAP3K8', 'ITGB1', 'PARD3', 'ENSG00000269952', 'ENSG00000260137', 'ENSG00000259869', 'DEPP1', 'ZNF22-AS1', 'NCOA4', 'ENSG00000286401', 'PRKG1', 'LOC105378305', 'RHOBTB1', 'RTKN2', 'PRF1', 'PSAP', 'DDIT4', 'ENSG00000272630', 'VCL', 'ENSG00000286715', 'ENSG00000282863', 'LINC00595', 'IFIT3', 'PDLIM1', 'DNTT', 'ENSG00000231970', 'HPSE2', 'ENSG00000286489', 'GSTO1', 'RBM20', 'ADRA2A', 'DCLRE1A', 'AFAP1L2', 'SLC18A2-AS1', 'SLC18A2', 'ENSG00000263041', 'GRK5-IT1', 'RGS10', 'LINC02930', 'WDR11-DT', 'EDRF1-AS1', 'MKI67', 'JAKMIP3-AS1', 'SPRN', 'SCGB1C1', 'CIMAP1A', 'IFITM3', 'IRF7', 'SCT', 'CD151', 'CDKN1C', 'ENSG00000224091', 'HBB', 'HBD', 'HBG1', 'HBG2', 'ENSG00000239920', 'HBE1', 'ILK', 'ENSG00000254900', 'ENSG00000255351', 'ENSG00000256006', 'BDNF', 'CD44-DT', 'RAG2', 'ENSG00000285751', 'ENSG00000283341', 'ACCSL', 'ENSG00000255165', 'ENSG00000255451', 'LINC02704', 'SPI1', 'ENSG00000270072', 'C1QTNF4', 'PRG2', 'GLYATL2', 'GLYATL1-AS1', 'MPEG1', 'ENSG00000214797', 'OR5AN1', 'MS4A3', 'MS4A2', 'MS4A6A', 'MS4A7', 'MS4A1', 'TMEM132A', 'ENSG00000255931', 'RAB3IL1', 'FTH1', 'ENSG00000255126', 'ENSG00000269463', 'STX5-DT', 'LGALS12', 'FERMT3', 'SPDYC', 'CAPN1-AS1', 'NEAT1', 'CTSW', 'GLTC1', 'GAL', 'MYEOV', 'CTTN-DT', 'CTTN', 'ZNF705EP', 'FOLR3', 'PDE2A', 'ARAP1-AS1', 'ENSG00000255847', 'WNT11', 'ENSG00000254933', 'LINC02757', 'ENSG00000255479', 'ENSG00000254810', 'LRRC32-AS1', 'CCDC89', 'PRSS23', 'FZD4', 'LOC101929174', 'ENDOD1', 'TRPC6', 'MMP1', 'ENSG00000285813', 'ENSG00000287245', 'ARHGEF12', 'ENSG00000286044', 'ENSG00000286341', 'NRGN', 'ESAM', 'ESAM-AS1', 'LOC101929538', 'SENCR', 'APLP2', 'JAM3', 'B3GAT1-DT', 'SLC6A13', 'LOC124902860', 'TSPAN9', 'ANO2', 'VWF', 'CD9', 'ENSG00000256433', 'ACRBP', 'C1S', 'CLEC4C', 'NANOG', 'ENSG00000282080', 'ENSG00000286504', 'ENSG00000255801', 'KLRB1', 'KLRF1', 'CLEC12A', 'CLEC1B', 'ENSG00000256803', 'CLEC7A', 'KLRD1', 'KLRC3', 'KLRC2', 'KLRC1', 'LINC02446', 'TAS2R50', 'MANSC1', 'ENSG00000275963', 'PLBD1', 'PDE3A', 'SPX', 'ENSG00000234428', 'ENSG00000257042', 'ENSG00000273989', 'LOC645485', 'ENSG00000287388', 'ENSG00000274964', 'LRRK2', 'ANO6', 'ENSG00000276454', 'SPMIP11', 'ADCY6', 'TUBA1B', 'TUBA1C', 'ENSG00000258101', 'ENSG00000258232', 'SCN8A', 'KRT86', 'ENSG00000257829', 'KRT5', 'KRT8', 'NFE2', 'ENSG00000257870', 'ENSG00000273890', 'ENSG00000257740', 'LRP1', 'OS9-AS1', 'AVPR1A', 'MSRB3', 'HMGA2', 'IRAK3', 'RAP1B', 'LYZ', 'ENSG00000257764', 'TRHDE', 'TRHDE-AS1', 'ENSG00000257526', 'ENSG00000257837', 'KITLG', 'DUSP6', 'ENSG00000277738', 'ENSG00000257252', 'ENSG00000257715', 'PMCH', 'IGF1', 'ENSG00000257918', 'PRDM4-AS1', 'CORO1C', 'ENSG00000277595', 'HVCN1', 'ALDH2', 'ENSG00000258337', 'ENSG00000275409', 'PRKAB1-AS1', 'ENSG00000277423', 'LOC124903037', 'CFAP251', 'ENSG00000270061', 'ENSG00000256955', 'ENSG00000257000', 'ENSG00000274373', 'ZDHHC20-IT1', 'WASF3', 'ENSG00000285935', 'STARD13', 'LOC105370169', 'LHFPL6', 'LINC00598', 'ENSG00000274001', 'SMIM2-AS1', 'TSC22D1', 'CBY2', 'CPB2-AS1', 'HTR2A', 'KCNRG', 'PCDH9', 'ENSG00000279463', 'ENSG00000274898', 'SOX21-AS1', 'ENSG00000276809', 'LNCARGI', 'FGF14', 'EFNB2', 'TNFSF13B', 'PRECSIT', 'ENSG00000277159', 'ENSG00000277545', 'MCF2L', 'F10-AS2', 'GRTP1', 'RASA3-IT1', 'TMEM253', 'TRAV1-1', 'TRAV1-2', 'TRAV2', 'TRAV3', 'TRAV4', 'TRAV5', 'TRAV6', 'TRAV8-1', 'TRAV9-1', 'TRAV10', 'TRAV12-1', 'TRAV8-2', 'TRAV8-3', 'TRAV13-1', 'TRAV12-2', 'TRAV8-4', 'TRAV13-2', 'TRAV14DV4', 'TRAV9-2', 'TRAV12-3', 'TRAV8-6', 'TRAV16', 'TRAV17', 'TRAV19', 'TRAV20', 'TRAV21', 'TRAV22', 'TRAV23DV6', 'TRDV1', 'TRAV24', 'TRAV25', 'TRAV26-1', 'TRAV27', 'TRAV29DV5', 'TRAV30', 'TRAV26-2', 'TRAV34', 'TRAV35', 'TRAV36DV7', 'TRAV38-1', 'TRAV38-2DV8', 'TRAV39', 'TRAV40', 'TRAV41', 'TRDV2', 'TRDC', 'TRDV3', 'TRAJ54', 'TRAJ37', 'TRAJ33', 'TRAJ13', 'TRAJ3', 'ABHD4', 'RNF212B', 'CMTM5', 'ADCY4', 'NYNRIN', 'CTSG', 'GZMH', 'GZMB', 'COCH', 'EGLN3', 'NFKBIA', 'ENSG00000278147', 'ATL1', 'SAV1', 'PYGL', 'ENSG00000258711', 'NID2', 'PTGDR', 'SAMD4A-AS1', 'LGALS3', 'LINC00520', 'ENSG00000259483', 'LINC02284', 'ENSG00000286355', 'LINC01500', 'LRRC9', 'LOC101927702', 'SYNE2', 'SPTB', 'FNTB', 'MAX', 'LINC02324', 'GARIN2', 'ARG2', 'RDH11', 'ACTN1', 'SLC8A3', 'ENSG00000286423', 'RGS6', 'ENSG00000251393', 'PNMA1', 'MLH3', 'ENSG00000273565', 'FOS', 'TGFB3', 'TSHR-AS1', 'STON2', 'FOXN3-AS2', 'TTC7B', 'IFI27', 'SERPINA1', 'TCL1B', 'TCL1A', 'ENSG00000257275', 'LINC02291', 'WARS1', 'DLK1', 'MEG3', 'MEG8', 'LINC02320', 'ANKRD9', 'TNFAIP2', 'CKB', 'RD3L', 'ASPG', 'LINC02280', 'ENSG00000256050', 'VESTAR', 'PLD4', 'IGHA2', 'IGHE', 'IGHG2', 'IGHA1', 'IGHG1', 'IGHG3', 'IGHD', 'IGHM', 'IGHJ5', 'IGHJ4', 'FAM30A', 'IGHV6-1', 'IGHV1-2', 'IGHVIII-2-1', 'IGHV1-3', 'IGHV4-4', 'IGHV7-4-1', 'IGHV2-5', 'IGHV3-7', 'IGHV3-64D', 'IGHV5-10-1', 'IGHV3-11', 'IGHV3-13', 'IGHV1-14', 'IGHV3-15', 'IGHV1-17', 'IGHV1-18', 'IGHV3-20', 'IGHV3-21', 'IGHV3-23', 'IGHV1-24', 'IGHV2-26', 'IGHV4-28', 'IGHV3-30', 'IGHV4-30-2', 'IGHV3-33', 'IGHV4-34', 'IGHV4-39', 'IGHV3-43', 'IGHV1-45', 'IGHV1-46', 'IGHV3-48', 'IGHV3-49', 'IGHV5-51', 'IGHV3-52', 'IGHV3-53', 'IGHV4-55', 'IGHV1-58', 'IGHV4-59', 'IGHV4-61', 'IGHV3-64', 'IGHV3-66', 'IGHV1-69', 'IGHV2-70D', 'IGHV1-69-2', 'IGHV1-69D', 'IGHV2-70', 'IGHV3-72', 'IGHV3-73', 'IGHV3-74', 'IGHV7-81', 'ENSG00000270055', 'GOLGA8H', 'LINC02694', 'ENSG00000274281', 'ENSG00000259345', 'LOC105370781', 'LINC02915', 'THBS1', 'THBS1-AS1', 'FSIP1', 'ENSG00000260648', 'ENSG00000259198', 'INAFM2', 'CCDC9B', 'EXD1', 'ITPKA', 'SNAP23', 'TGM5', 'MAP1A', 'B2M', 'ENSG00000275672', 'SLC30A4-AS1', 'HDC', 'DMXL2', 'MAPK6-DT', 'ENSG00000259398', 'ENSG00000259935', 'WDR72', 'ENSG00000274765', 'ENSG00000277548', 'ENSG00000277245', 'LINC00926', 'MYZAP', 'C2CD4A', 'TPM1', 'TPM1-AS', 'RBPMS2', 'ENSG00000287494', 'ENSG00000278737', 'CILP', 'RAB11A', 'CORO2B', 'LINC02205', 'ENSG00000260672', 'CCDC33-AS1', 'ENSG00000260919', 'ETFA', 'ACSBG1', 'MINAR1', 'ENSG00000259548', 'ENSG00000286813', 'FAH', 'ENSG00000259649', 'ENSG00000277782', 'CFAP161', 'LINC01418', 'CPEB1-AS1', 'FSD2', 'SH3GL3', 'LINC02883', 'MESP2', 'ANPEP', 'ENSG00000285560', 'LINC01585', 'ENSG00000260661', 'ENSG00000260361', 'ENSG00000258831', 'SYNM', 'TTC23-AS1', 'ENSG00000254744', 'LOC124903564', 'PCSK6', 'HBM', 'HBA2', 'HBA1', 'HBQ1', 'RGS11', 'ENSG00000287855', 'LOC124903619', 'TPSB2', 'TPSD1', 'PRSS27', 'PRSS33', 'IL32', 'SEC14L5', 'ENSG00000267070', 'ENSG00000285543', 'SNN', 'ENSG00000260723', 'ENSG00000261158', 'ENSG00000262529', 'ENSG00000262380', 'ENSG00000285850', 'CRYM', 'IGSF6', 'ENSG00000260973', 'IL4R', 'CD19', 'ENSG00000261346', 'ITGAX', 'TGFB1I1', 'AHSP', 'TP53TG3', 'ENSG00000261131', 'ITFG1-AS2', 'ENSG00000260042', 'IRX3', 'LOC105371279', 'MT2A', 'MT1H', 'CETP', 'ADGRG1', 'ADGRG3', 'DRC7', 'KIFC3', 'LINC02137', 'BEAN1-AS1', 'ENSG00000277978', 'CMTM1', 'CMTM2', 'ENSG00000260465', 'ENSG00000287965', 'SLC9A5', 'ENSG00000261396', 'LOC102723786', 'ENSG00000259209', 'ENSG00000284675', 'BCAR1', 'CHST6', 'ENSG00000260922', 'LINC01228', 'ENSG00000261061', 'CMIP', 'WFDC1', 'COTL1', 'IRF8', 'ENSG00000269901', 'JPH3', 'ENSG00000277504', 'ENSG00000260498', 'ENSG00000280136', 'SCGB1C2', 'ENSG00000277491', 'LOC101927727', 'SERPINF1', 'P2RX1', 'TM4SF5', 'VMO1', 'GP1BA', 'ENSG00000263272', 'PITPNM3', 'ALOX12', 'CLEC10A', 'CD68', 'RCVRN', 'ENSG00000233852', 'MGC12916', 'ENSG00000230647', 'NT5M', 'RASD1', 'ENSG00000260647', 'LINC02076', 'ENSG00000265043', 'ENSG00000256618', 'LINC03146', 'ENSG00000265801', 'LINC01992', 'ALDOC-AS1', 'ENSG00000265287', 'ENSG00000265625', 'SLC6A4', 'ENSG00000266371', 'CCL2', 'CCL8', 'ENSG00000273687', 'ENSG00000267457', 'SLFN14', 'CCL5', 'CCL18', 'CCL3', 'CCL4', 'TBC1D3B', 'CCL4L2', 'ENSG00000275720', 'ENSG00000277501', 'ENSG00000263466', 'ENSG00000286443', 'ARL5C', 'ZPBP2', 'TOP2A', 'CCR10', 'WNK4', 'PTGES3L', 'SLC4A1', 'GRN', 'ITGA2B', 'GFAP', 'KIF18B', 'WNT3', 'ITGB3', 'SAMD14', 'ABCC3', 'ANKRD40CL', 'TOM1L1', 'MMD', 'SMIM36', 'MPO', 'SEPTIN4', 'CD79B', 'PECAM1', 'ENSG00000265912', 'ENSG00000229330', 'ENSG00000264754', 'ABCA9', 'CD300E', 'ENSG00000264659', 'CDR2L', 'SMIM5', 'ENSG00000267801', 'SPHK1', 'ENSG00000267078', 'ENSG00000283914', 'LINC01993', 'LOC101928855', 'AATK', 'PPP1R27', 'MAFG-AS1', 'NARF-IT1', 'FN3K', 'ENSG00000262410', 'ENSG00000262663', 'TYMS', 'ENSG00000264635', 'MYOM1', 'DLGAP1-AS6', 'ENSG00000265091', 'ENSG00000264596', 'TWSG1-DT', 'RAB31', 'TXNDC2', 'ENSG00000287065', 'GNAL', 'ENSG00000267199', 'ENSG00000286926', 'ENSG00000267702', 'ENSG00000274275', 'LOC101927879', 'PSTPIP2', 'LOXHD1', 'ST8SIA5', 'ST8SIA5-DT', 'RAB27B', 'RAB27B-AS1', 'TCF4', 'ENSG00000267316', 'ENSG00000267279', 'ENSG00000267175', 'ENSG00000267766', 'CD226', 'MBP-AS1', 'ENSG00000287680', 'PRSS57', 'AZU1', 'PRTN3', 'ELANE', 'CFD', 'ENSG00000275162', 'ENSG00000274177', 'ENSG00000267755', 'OAZ1', 'ENSG00000267688', 'MFSD12-AS1', 'TBXA2R', 'ENSG00000268670', 'ENSG00000269318', 'PLIN4', 'PTPRS', 'ENSG00000268204', 'STXBP2', 'RETN', 'MCEMP1', 'FCER2', 'MARCHF2', 'PRAM1', 'ENSG00000287275', 'LIMASI', 'S1PR5', 'AP1M2', 'DOCK6', 'CNN1', 'BEST2', 'JUNB', 'LYL1', 'MIR23AHG', 'MISP3', 'LOC124904642', 'ILVBL-AS1', 'CYP4F3', 'TPM4', 'ENSG00000287961', 'F2RL3', 'NIBAN3', 'IFI30', 'LRRC25', 'TSSK6', 'ENSG00000268555', 'ENSG00000268240', 'ZNF730', 'LINC01224', 'ENSG00000267243', 'ENSG00000266893', 'SLC7A10', 'CHST8', 'SCN1B', 'LGI4', 'CD22', 'FFAR3', 'UPK1A-AS1', 'HSPB6', 'TYROBP', 'ENSG00000276071', 'LINC01535', 'ENSG00000269653', 'PPP1R14A', 'C19orf33', 'CCER2', 'FBXO27', 'NCCRP1', 'ZFP36', 'ENSG00000205041', 'BLVRB', 'TGFB1', 'TMEM91', 'CD79A', 'LINC03078', 'SRRM5', 'PLAUR', 'IGSF23', 'EXOC3L2', 'RTN2', 'IGFL2', 'PTGIR', 'GNG8', 'ENSG00000269487', 'C5AR1', 'CABP5', 'SYNGR4', 'FAM83E', 'FTL', 'LOC101928295', 'SPIB', 'SMIM47', 'KLK1', 'NKG7', 'FPR1', 'ZNF350-AS1', 'ENSG00000269535', 'ZNF888-AS1', 'PRKCG', 'LILRB5', 'LILRB2', 'LILRA5', 'LILRA4', 'LAIR2', 'LILRB1', 'KIR2DL3', 'KIR2DL1', 'KIR3DL1', 'KIR3DL2', 'GP6', 'TNNI3', 'DNAAF3', 'DNAAF3-AS1', 'PTPRH', 'ENSG00000276488', 'ENSG00000267096', 'ENSG00000269106', 'FAM110A', 'TMC2', 'SMOX', 'ENSG00000276768', 'PROKR2', 'LINC00652', 'SLC24A3', 'ENSG00000268628', 'CD93', 'CST3', 'CST7', 'ENSG00000286444', 'ENSG00000274364', 'BCL2L1', 'HCK', 'BPIFB3', 'E2F1', 'ENSG00000277558', 'MYL9', 'SLA2', 'SRC', 'ENSG00000224635', 'FAM83D', 'MAFB', 'ENSG00000286100', 'SDC4', 'UBE2C', 'TNNC2', 'CTSA', 'MMP9', 'SLC13A3', 'ENSG00000273893', 'TP53RK-DT', 'PELATON', 'RIPOR3', 'ATP9A', 'ENSG00000227297', 'TUBB1', 'LOC102724701', 'ENSG00000280800', 'ENSG00000280614', 'ENSG00000281181', 'ASMER1', 'LOC105369302', 'JAM2', 'APP', 'ENSG00000233783', 'APP-DT', 'MAP3K7CL', 'BACH1-IT1', 'MIS18A-AS1', 'LOC105372791', 'RSPH1', 'C21orf58', 'S100B', 'ENSG00000283633', 'IGKV2OR22-4', 'ENSG00000273203', 'TUBA8', 'ENSG00000281530', 'CLDN5', 'SEPTIN5', 'GP1BB', 'USP41P', 'IGLVI-70', 'IGLV4-69', 'IGLV10-54', 'IGLV8-61', 'IGLV4-60', 'IGLV6-57', 'VPREB1', 'IGLV5-52', 'IGLV1-51', 'IGLV9-49', 'IGLV5-48', 'IGLV1-47', 'IGLV7-46', 'IGLV5-45', 'IGLV1-44', 'IGLV7-43', 'IGLV1-41', 'IGLV1-40', 'IGLV5-37', 'IGLV1-36', 'IGLV3-27', 'IGLV3-25', 'IGLV2-23', 'IGLV3-21', 'IGLV3-19', 'IGLV2-18', 'IGLV3-16', 'IGLV2-14', 'IGLV3-12', 'IGLV2-11', 'IGLV3-10', 'IGLV3-9', 'IGLV2-8', 'IGLV2-5', 'IGLV4-3', 'IGLV3-1', 'IGLJ1', 'IGLC1', 'IGLC2', 'IGLC3', 'IGLC5', 'IGLC6', 'IGLC7', 'GNAZ', 'IGLL1', 'VPREB3', 'DERL3', 'ENSG00000232545', 'TPST2', 'GAS2L1', 'OSBP2', 'YWHAH', 'RFPL3S', 'HMOX1', 'MYH9-DT', 'PVALB', 'TST', 'IL2RB', 'ELFN2_ENSG00000166897', 'LGALS2', 'LGALS1', 'H1-0', 'C22orf23', 'ENSG00000225450', 'APOBEC3A', 'ENTHD1', 'GRAP2', 'L3MBTL2-AS1', 'CHADL', 'SHISA8', 'ENSG00000281538', 'PNPLA3', 'PARVB', 'ENSG00000279175', 'ENSG00000273243', 'PKDREJ', 'TTC38', 'ENSG00000213279', 'MIOX', 'TYMP', 'IL3RA', 'ARSD-AS1', 'ARHGAP6', 'MSL3-DT', 'BEND2', 'SAT1', 'PCYT1B', 'GK-IT1', 'PRRG1', 'LANCL3', 'XK', 'CYBB', 'LINC03053', 'MAOB', 'EFHC2', 'TIMP1', 'CFP', 'GATA1', 'FOXP3', 'ENSG00000286031', 'DGKK', 'SHROOM4', 'EZHIP', 'PFKFB1', 'ALAS2', 'AR', 'ENSG00000260118', 'OPHN1', 'XIST', 'ENSG00000228906', 'LPAR4', 'SYTL4', 'TAF7L', 'ENSG00000286000', 'TMSB15A', 'ENSG00000270050', 'RAB40AL', 'ENSG00000286846', 'NXF3', 'TCEAL9', 'BEX3', 'NCBP2L', 'HTR2C', 'PGRMC1', 'ENSG00000286163', 'FHL1', 'FGF13', 'SPANXN4', 'FMR1-IT1', 'GABRE', 'ZNF185', 'TREX2', 'PLXNB3', 'TKTL1', 'ENSG00000261773', 'MPP1', 'MT-CO1', 'MT-CO2', 'MT-ATP8', 'MT-ATP6', 'MT-CO3', 'MT-ND3', 'MT-ND5', 'ENSG00000277856', 'LOC102723407', 'sample_id', 'response']\n",
      "Shape of gene-only dataset: (53338, 2002)\n"
     ]
    }
   ],
   "source": [
    "# Drop patient_id column if it exists\n",
    "expr_df_gene_only = expr_df.drop(columns=['patient_id'], errors='ignore')\n",
    "\n",
    "# Check the remaining columns\n",
    "print(\"Columns in gene-only dataset:\", expr_df_gene_only.columns.tolist())\n",
    "print(\"Shape of gene-only dataset:\", expr_df_gene_only.shape)\n"
   ]
  },
  {
   "cell_type": "code",
   "execution_count": 66,
   "metadata": {
    "colab": {
     "base_uri": "https://localhost:8080/"
    },
    "executionInfo": {
     "elapsed": 87634,
     "status": "ok",
     "timestamp": 1759687276935,
     "user": {
      "displayName": "Ekow Mills",
      "userId": "12893291206346354513"
     },
     "user_tz": -60
    },
    "id": "JiL7c9iyl0Ha",
    "outputId": "27e29415-c943-41d4-cea6-3043ec91fdba"
   },
   "outputs": [
    {
     "name": "stdout",
     "output_type": "stream",
     "text": [
      "Transcriptomics dataset saved!\n"
     ]
    }
   ],
   "source": [
    "# --- Save gene expression (transcriptomics) ---\n",
    "expr_df_gene_only.to_csv(\"/content/drive/MyDrive/Data/Expdatasets/transcriptomics.csv\")\n",
    "print(\"Transcriptomics dataset saved!\")"
   ]
  },
  {
   "cell_type": "code",
   "execution_count": 67,
   "metadata": {
    "colab": {
     "base_uri": "https://localhost:8080/"
    },
    "executionInfo": {
     "elapsed": 29777,
     "status": "ok",
     "timestamp": 1759687375498,
     "user": {
      "displayName": "Ekow Mills",
      "userId": "12893291206346354513"
     },
     "user_tz": -60
    },
    "id": "8dXxx2h5lz_f",
    "outputId": "723b6223-13e7-4725-dd95-597c497aca0d"
   },
   "outputs": [
    {
     "name": "stdout",
     "output_type": "stream",
     "text": [
      "Fluxomics dataset saved!\n"
     ]
    }
   ],
   "source": [
    "# --- Save fluxomics (flux only) ---\n",
    "flux_filtered.to_csv(\"/content/drive/MyDrive/Data/Expdatasets/fluxomics.csv\")\n",
    "print(\"Fluxomics dataset saved!\")"
   ]
  },
  {
   "cell_type": "code",
   "execution_count": 68,
   "metadata": {
    "colab": {
     "base_uri": "https://localhost:8080/"
    },
    "executionInfo": {
     "elapsed": 133590,
     "status": "ok",
     "timestamp": 1759687517075,
     "user": {
      "displayName": "Ekow Mills",
      "userId": "12893291206346354513"
     },
     "user_tz": -60
    },
    "id": "hkaH7-6BkGFU",
    "outputId": "07aad421-d0cb-4c03-a982-29bcf5f5d35f"
   },
   "outputs": [
    {
     "name": "stdout",
     "output_type": "stream",
     "text": [
      "Multimodal dataset saved!\n"
     ]
    }
   ],
   "source": [
    "# --- Save combined multimodal dataset ---\n",
    "combined_df.to_csv(\"/content/drive/MyDrive/Data/Expdatasets/Multimodal.csv\")\n",
    "print(\"Multimodal dataset saved!\")"
   ]
  }
 ],
 "metadata": {
  "colab": {
   "gpuType": "T4",
   "provenance": []
  },
  "kernelspec": {
   "display_name": "pytorch-gpu",
   "language": "python",
   "name": "python3"
  },
  "language_info": {
   "codemirror_mode": {
    "name": "ipython",
    "version": 3
   },
   "file_extension": ".py",
   "mimetype": "text/x-python",
   "name": "python",
   "nbconvert_exporter": "python",
   "pygments_lexer": "ipython3",
   "version": "3.10.12"
  }
 },
 "nbformat": 4,
 "nbformat_minor": 0
}
