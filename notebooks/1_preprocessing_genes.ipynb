{
 "cells": [
  {
   "cell_type": "code",
   "execution_count": 1,
   "metadata": {
    "colab": {
     "base_uri": "https://localhost:8080/"
    },
    "executionInfo": {
     "elapsed": 11448,
     "status": "ok",
     "timestamp": 1759683124445,
     "user": {
      "displayName": "Ekow Mills",
      "userId": "12893291206346354513"
     },
     "user_tz": -60
    },
    "id": "gHkmXnfxSC9u",
    "outputId": "61868abf-8587-4755-98d5-b979f8d5982d"
   },
   "outputs": [],
   "source": [
    "import scanpy as sc\n",
    "import scanpy.external as sce\n",
    "import matplotlib.pyplot as plt\n",
    "import seaborn as sns\n",
    "import numpy as np\n",
    "import pandas as pd\n",
    "from pathlib import Path\n",
    "import warnings\n",
    "import mygene\n",
    "from scipy.stats import median_abs_deviation"
   ]
  },
  {
   "cell_type": "code",
   "execution_count": 2,
   "metadata": {},
   "outputs": [],
   "source": [
    "warnings.filterwarnings(\"ignore\", category=FutureWarning)\n",
    "warnings.filterwarnings(\"ignore\", category=RuntimeWarning)\n",
    "warnings.filterwarnings(\"ignore\", category=UserWarning)\n",
    "warnings.filterwarnings(\"ignore\", message=\"ChainedAssignmentError\")"
   ]
  },
  {
   "cell_type": "code",
   "execution_count": 3,
   "metadata": {},
   "outputs": [
    {
     "data": {
      "text/plain": [
       "PosixPath('/home/sadegh/python_projects/HRplus-BC-Multimodal')"
      ]
     },
     "execution_count": 3,
     "metadata": {},
     "output_type": "execute_result"
    }
   ],
   "source": [
    "base_dir = Path().resolve().parent\n",
    "base_dir"
   ]
  },
  {
   "cell_type": "markdown",
   "metadata": {},
   "source": [
    "### Load Data and Find Gene Symbols"
   ]
  },
  {
   "cell_type": "code",
   "execution_count": 4,
   "metadata": {},
   "outputs": [
    {
     "name": "stdout",
     "output_type": "stream",
     "text": [
      "Initial Dimension: 58177 cells, 36601 genes\n"
     ]
    }
   ],
   "source": [
    "# Load annotated data and model gene data\n",
    "adata = sc.read_h5ad(base_dir / \"dataset/h5ad/gene_expression_annotated.h5ad\")\n",
    "print(f\"Initial Dimension: {adata.n_obs} cells, {adata.n_vars} genes\")\n",
    "gene_meta = pd.read_csv(base_dir / 'dataset/csv/model_genes.csv')"
   ]
  },
  {
   "cell_type": "code",
   "execution_count": 5,
   "metadata": {
    "colab": {
     "base_uri": "https://localhost:8080/"
    },
    "executionInfo": {
     "elapsed": 11,
     "status": "ok",
     "timestamp": 1759683139291,
     "user": {
      "displayName": "Ekow Mills",
      "userId": "12893291206346354513"
     },
     "user_tz": -60
    },
    "id": "1tKMEdBiF0-I",
    "outputId": "58fe5014-2cd2-4d6f-db80-dd2ab755b2b8"
   },
   "outputs": [
    {
     "data": {
      "text/plain": [
       "AnnData object with n_obs × n_vars = 58177 × 36601\n",
       "    obs: 'sample_id', 'patient_id', 'response'"
      ]
     },
     "execution_count": 5,
     "metadata": {},
     "output_type": "execute_result"
    }
   ],
   "source": [
    "adata"
   ]
  },
  {
   "cell_type": "code",
   "execution_count": 6,
   "metadata": {
    "colab": {
     "base_uri": "https://localhost:8080/"
    },
    "executionInfo": {
     "elapsed": 505,
     "status": "ok",
     "timestamp": 1759683141385,
     "user": {
      "displayName": "Ekow Mills",
      "userId": "12893291206346354513"
     },
     "user_tz": -60
    },
    "id": "RcR-8CVwNgcL",
    "outputId": "6201356c-2bb5-4ad2-8626-cbab5ea06ca9"
   },
   "outputs": [],
   "source": [
    "adata_before = adata.copy()"
   ]
  },
  {
   "cell_type": "code",
   "execution_count": 7,
   "metadata": {},
   "outputs": [
    {
     "name": "stdout",
     "output_type": "stream",
     "text": [
      "Empty DataFrame\n",
      "Columns: []\n",
      "Index: [ENSG00000243485, ENSG00000237613, ENSG00000186092, ENSG00000238009, ENSG00000239945, ENSG00000239906, ENSG00000241860, ENSG00000241599, ENSG00000286448, ENSG00000236601]\n",
      "any var names starting with 'MT-': 0\n",
      "any var names starting with 'mt-': 0\n",
      "Index([], dtype='object')\n"
     ]
    }
   ],
   "source": [
    "# show a few var rows to see what you have\n",
    "print(adata.var.head(10))\n",
    "print(\"any var names starting with 'MT-':\", adata.var_names.str.startswith(\"MT-\").sum())\n",
    "print(\"any var names starting with 'mt-':\", adata.var_names.str.startswith(\"mt-\").sum())\n",
    "# if gene symbols are in a separate column, show that column (common names: 'gene_ids' 'gene_symbols' or 'features')\n",
    "print(adata.var.columns)\n",
    "for col in adata.var.columns:\n",
    "    if adata.var[col].dtype == object:\n",
    "        s = adata.var[col].astype(str).str.startswith(\"MT-\").sum()\n",
    "        if s>0:\n",
    "            print(f\"column {col} has {s} MT- entries\")"
   ]
  },
  {
   "cell_type": "code",
   "execution_count": 8,
   "metadata": {},
   "outputs": [
    {
     "name": "stderr",
     "output_type": "stream",
     "text": [
      "Input sequence provided is already in string format. No operation performed\n",
      "Input sequence provided is already in string format. No operation performed\n",
      "28 input query terms found dup hits:\t[('ENSG00000228044', 2), ('ENSG00000226506', 2), ('ENSG00000261600', 2), ('ENSG00000234162', 2), ('E\n",
      "1148 input query terms found no hit:\t['ENSG00000238009', 'ENSG00000230699', 'ENSG00000241180', 'ENSG00000236948', 'ENSG00000271895', 'ENS\n"
     ]
    },
    {
     "name": "stdout",
     "output_type": "stream",
     "text": [
      "Mapped 26859/36601 Ensembl IDs to gene symbols (73.4%)\n"
     ]
    }
   ],
   "source": [
    "mg = mygene.MyGeneInfo()\n",
    "\n",
    "# Query gene symbols\n",
    "ids = adata.var_names.tolist()\n",
    "query = mg.querymany(ids, scopes='ensembl.gene', fields='symbol', species='human', as_dataframe=True)\n",
    "\n",
    "# Extract symbol mapping, reindex to adata.var_names\n",
    "symbol_map = query['symbol'].to_dict()\n",
    "\n",
    "# Assign mapped symbols safely\n",
    "adata.var['symbol'] = adata.var_names.map(symbol_map)\n",
    "\n",
    "# Check mapping coverage\n",
    "mapped = adata.var['symbol'].notnull().sum()\n",
    "total = adata.var.shape[0]\n",
    "print(f\"Mapped {mapped}/{total} Ensembl IDs to gene symbols ({mapped/total:.1%})\")"
   ]
  },
  {
   "cell_type": "markdown",
   "metadata": {},
   "source": [
    "### Apply QC on Transcriptomics Data"
   ]
  },
  {
   "cell_type": "code",
   "execution_count": null,
   "metadata": {
    "colab": {
     "base_uri": "https://localhost:8080/"
    },
    "executionInfo": {
     "elapsed": 98,
     "status": "ok",
     "timestamp": 1759683333886,
     "user": {
      "displayName": "Ekow Mills",
      "userId": "12893291206346354513"
     },
     "user_tz": -60
    },
    "id": "pUgKjm4VBmFK",
    "outputId": "e96b6195-7332-4e7d-95bf-cd01c34eb6b6"
   },
   "outputs": [],
   "source": [
    "adata.var['symbol'] = adata.var['symbol'].astype(str)\n",
    "\n",
    "# mitochondrial genes\n",
    "adata.var[\"mt\"] = adata.var_names.str.startswith(\"MT-\")\n",
    "adata.var['mt'] = adata.var['symbol'].str.upper().str.startswith('MT-')\n",
    "print(\"Number of mitochondrial genes found:\", adata.var['mt'].sum())\n",
    "\n",
    "# ribosomal genes\n",
    "adata.var[\"ribo\"] = adata.var['symbol'].str.upper().str.startswith((\"RPS\", \"RPL\"))\n",
    "\n",
    "# hemoglobin genes. Pls note this dataset isperipheral blood\n",
    "adata.var[\"hb\"] = adata.var['symbol'].str.upper().str.startswith(\"^HB[^(P)]\")"
   ]
  },
  {
   "cell_type": "code",
   "execution_count": null,
   "metadata": {
    "colab": {
     "base_uri": "https://localhost:8080/"
    },
    "executionInfo": {
     "elapsed": 29553,
     "status": "ok",
     "timestamp": 1759683371969,
     "user": {
      "displayName": "Ekow Mills",
      "userId": "12893291206346354513"
     },
     "user_tz": -60
    },
    "id": "4BQwO5KdB0Pt",
    "outputId": "f84f0ef1-2a25-4a40-9b6c-1a4b3c6b8420"
   },
   "outputs": [],
   "source": [
    "# mitochondrial genes are flagged\n",
    "adata.var['mt'] = adata.var['symbol'].astype(str).str.upper().str.startswith('MT-')\n",
    "\n",
    "# Compute QC metrics, including mitochondrial percentage\n",
    "sc.pp.calculate_qc_metrics(adata, qc_vars=[\"mt\", \"ribo\", \"hb\"], inplace=True,  log1p=True, percent_top=[20])\n",
    "\n",
    "print(adata.obs['pct_counts_mt'].describe())"
   ]
  },
  {
   "cell_type": "code",
   "execution_count": null,
   "metadata": {
    "colab": {
     "base_uri": "https://localhost:8080/",
     "height": 344
    },
    "executionInfo": {
     "elapsed": 2426,
     "status": "ok",
     "timestamp": 1759683378750,
     "user": {
      "displayName": "Ekow Mills",
      "userId": "12893291206346354513"
     },
     "user_tz": -60
    },
    "id": "ThWQ4623Bl8G",
    "outputId": "bbbcfbb8-d70e-4e2d-b15c-4f0fc9bf4ea6"
   },
   "outputs": [],
   "source": [
    "sc.pl.violin(\n",
    "    adata,\n",
    "    [\"n_genes_by_counts\", \"total_counts\", \"pct_counts_mt\"],\n",
    "    jitter=0.4,\n",
    "    multi_panel=True,\n",
    ")"
   ]
  },
  {
   "cell_type": "code",
   "execution_count": null,
   "metadata": {
    "colab": {
     "base_uri": "https://localhost:8080/",
     "height": 1000
    },
    "executionInfo": {
     "elapsed": 2390,
     "status": "ok",
     "timestamp": 1759683385303,
     "user": {
      "displayName": "Ekow Mills",
      "userId": "12893291206346354513"
     },
     "user_tz": -60
    },
    "id": "44fKHXfBB0Ky",
    "outputId": "17620982-9dd0-436d-d056-47d03272da49"
   },
   "outputs": [],
   "source": [
    "# sc.pl.scatter(adata, \"total_counts\", \"n_genes_by_counts\", color=\"pct_counts_mt\")\n",
    "p1 = sns.displot(adata.obs[\"total_counts\"], bins=100, kde=False)\n",
    "p2 = sc.pl.violin(adata, \"pct_counts_mt\")\n",
    "p3 = sc.pl.scatter(adata, \"total_counts\", \"n_genes_by_counts\", color=\"pct_counts_mt\")"
   ]
  },
  {
   "cell_type": "markdown",
   "metadata": {
    "id": "0eDMtkZcDqwA"
   },
   "source": [
    "Filter low quality genes"
   ]
  },
  {
   "cell_type": "code",
   "execution_count": null,
   "metadata": {
    "colab": {
     "base_uri": "https://localhost:8080/"
    },
    "executionInfo": {
     "elapsed": 4298,
     "status": "ok",
     "timestamp": 1759683401234,
     "user": {
      "displayName": "Ekow Mills",
      "userId": "12893291206346354513"
     },
     "user_tz": -60
    },
    "id": "pKSGEKhYD-Bx",
    "outputId": "e89a0ccb-c9f9-4ddd-a356-fbec88e5405e"
   },
   "outputs": [],
   "source": [
    "# Quality control\n",
    "# Follow: https://scanpy-tutorials.readthedocs.io/en/latest/basic-scrna-tutorial.html\n",
    "sc.pp.filter_cells(adata, min_genes=250)\n",
    "sc.pp.filter_genes(adata, min_cells=3)\n",
    "\n",
    "# Remove outliers if any\n",
    "# https://www.sc-best-practices.org/preprocessing_visualization/quality_control.html\n",
    "def is_outlier(adata, metric: str, nmads: int):\n",
    "    M = adata.obs[metric]\n",
    "    outlier = (M < np.median(M) - nmads * median_abs_deviation(M)) | (\n",
    "        np.median(M) + nmads * median_abs_deviation(M) < M\n",
    "    )\n",
    "    return outlier\n",
    "\n",
    "\n",
    "adata.obs[\"outlier\"] = (\n",
    "    is_outlier(adata, \"log1p_total_counts\", 5)\n",
    "    | is_outlier(adata, \"log1p_n_genes_by_counts\", 5)\n",
    "    | is_outlier(adata, \"pct_counts_in_top_20_genes\", 5)\n",
    ")\n",
    "print(adata.obs.outlier.value_counts())\n",
    "adata.obs[\"mt_outlier\"] =  adata.obs[\"pct_counts_mt\"] > 20\n",
    "\n",
    "print(adata.obs.mt_outlier.value_counts())"
   ]
  },
  {
   "cell_type": "code",
   "execution_count": null,
   "metadata": {
    "colab": {
     "base_uri": "https://localhost:8080/"
    },
    "executionInfo": {
     "elapsed": 514,
     "status": "ok",
     "timestamp": 1759683421708,
     "user": {
      "displayName": "Ekow Mills",
      "userId": "12893291206346354513"
     },
     "user_tz": -60
    },
    "id": "-wgboDX3OF57",
    "outputId": "fdea5168-1a70-4028-c1e0-a9a830271d4b"
   },
   "outputs": [],
   "source": [
    "print(f\"Total number of cells: {adata.n_obs}\")\n",
    "adata = adata[(~adata.obs.outlier) & (~adata.obs.mt_outlier)].copy()\n",
    "\n",
    "print(f\"Number of cells after filtering of low quality cells: {adata.n_obs}\")"
   ]
  },
  {
   "cell_type": "code",
   "execution_count": null,
   "metadata": {
    "colab": {
     "base_uri": "https://localhost:8080/",
     "height": 1000
    },
    "executionInfo": {
     "elapsed": 1461,
     "status": "ok",
     "timestamp": 1759683428204,
     "user": {
      "displayName": "Ekow Mills",
      "userId": "12893291206346354513"
     },
     "user_tz": -60
    },
    "id": "8f0mAEqAOF57",
    "outputId": "4abd4dc6-6af7-4fda-e7de-d6645c47494f"
   },
   "outputs": [],
   "source": [
    "p1 = sns.displot(adata.obs[\"total_counts\"], bins=100, kde=False)\n",
    "p2 = sc.pl.violin(adata, \"pct_counts_mt\")\n",
    "p3 = sc.pl.scatter(adata, \"total_counts\", \"n_genes_by_counts\", color=\"pct_counts_mt\")"
   ]
  },
  {
   "cell_type": "markdown",
   "metadata": {
    "id": "mDWOxmYTWNzJ"
   },
   "source": [
    "Checking for doublets and handling"
   ]
  },
  {
   "cell_type": "code",
   "execution_count": null,
   "metadata": {
    "colab": {
     "base_uri": "https://localhost:8080/"
    },
    "collapsed": true,
    "executionInfo": {
     "elapsed": 255962,
     "status": "ok",
     "timestamp": 1759683700745,
     "user": {
      "displayName": "Ekow Mills",
      "userId": "12893291206346354513"
     },
     "user_tz": -60
    },
    "id": "yaP3-_gjG19K",
    "outputId": "b38f1baa-f629-49ae-cf3a-eea45184094a"
   },
   "outputs": [],
   "source": [
    "# Make a copy to store results\n",
    "adata_scrub = adata.copy()\n",
    "\n",
    "# Store doublet predictions\n",
    "adata_scrub.obs['doublet_score'] = 0.0\n",
    "adata_scrub.obs['predicted_doublet'] = False\n",
    "\n",
    "# Process per batch to save memory\n",
    "batches = adata_scrub.obs['sample_id'].unique()\n",
    "for batch in batches:\n",
    "    print(f\"Processing batch: {batch}\")\n",
    "    adata_batch = adata_scrub[adata_scrub.obs['sample_id'] == batch].copy()\n",
    "\n",
    "    # Run Scrublet\n",
    "    sce.pp.scrublet(\n",
    "        adata_batch,\n",
    "        batch_key=None,  # batch already subsetted\n",
    "        expected_doublet_rate=0.06,\n",
    "        sim_doublet_ratio=1.0,\n",
    "        n_prin_comps=20\n",
    "    )\n",
    "\n",
    "    # Assign back to main AnnData\n",
    "    adata_scrub.obs.loc[adata_batch.obs_names, 'doublet_score'] = adata_batch.obs['doublet_score']\n",
    "    adata_scrub.obs.loc[adata_batch.obs_names, 'predicted_doublet'] = adata_batch.obs['predicted_doublet']"
   ]
  },
  {
   "cell_type": "code",
   "execution_count": null,
   "metadata": {
    "colab": {
     "base_uri": "https://localhost:8080/"
    },
    "executionInfo": {
     "elapsed": 869,
     "status": "ok",
     "timestamp": 1759683939793,
     "user": {
      "displayName": "Ekow Mills",
      "userId": "12893291206346354513"
     },
     "user_tz": -60
    },
    "id": "e1lroPdlXfkB",
    "outputId": "a17383ac-a305-4486-ccb3-c66c5ddd0968"
   },
   "outputs": [],
   "source": [
    "# Optional: remove predicted doublets\n",
    "adata_filtered = adata_scrub[~adata_scrub.obs['predicted_doublet']].copy()\n",
    "\n",
    "# Summary\n",
    "n_doublets = adata_scrub.obs['predicted_doublet'].sum()\n",
    "print(f\"Total predicted doublets: {n_doublets}/{adata_scrub.n_obs} ({n_doublets/adata_scrub.n_obs:.2%})\")\n",
    "print(f\"Cells after removing doublets: {adata_filtered.n_obs}\")"
   ]
  },
  {
   "cell_type": "code",
   "execution_count": null,
   "metadata": {
    "colab": {
     "base_uri": "https://localhost:8080/",
     "height": 449
    },
    "executionInfo": {
     "elapsed": 532,
     "status": "ok",
     "timestamp": 1759683948478,
     "user": {
      "displayName": "Ekow Mills",
      "userId": "12893291206346354513"
     },
     "user_tz": -60
    },
    "id": "aLoP3oO2Yst8",
    "outputId": "d3ee09db-a20a-4503-d795-697dbff0b7a7"
   },
   "outputs": [],
   "source": [
    "sns.histplot(adata_scrub.obs['doublet_score'], bins=100, color='skyblue')\n",
    "plt.axvline(0.25, color='red', linestyle='--', label='threshold')\n",
    "plt.xlabel('Doublet score')\n",
    "plt.ylabel('Number of cells')\n",
    "plt.legend()\n",
    "plt.show()"
   ]
  },
  {
   "cell_type": "code",
   "execution_count": null,
   "metadata": {
    "colab": {
     "base_uri": "https://localhost:8080/",
     "height": 487
    },
    "executionInfo": {
     "elapsed": 1726,
     "status": "ok",
     "timestamp": 1759683953666,
     "user": {
      "displayName": "Ekow Mills",
      "userId": "12893291206346354513"
     },
     "user_tz": -60
    },
    "id": "dARMBGGyYssO",
    "outputId": "2495803e-c60e-44b9-f8d7-2a764eba48b7"
   },
   "outputs": [],
   "source": [
    "# Subset to remaining cells (after doublet removal)\n",
    "adata_after = adata_scrub[~adata_scrub.obs['predicted_doublet']].copy()\n",
    "\n",
    "# Plot histogram\n",
    "plt.figure(figsize=(8,5))\n",
    "sns.histplot(adata_after.obs['doublet_score'], bins=100, color='lightgreen')\n",
    "plt.axvline(0.25, color='red', linestyle='--', label='typical threshold')\n",
    "plt.xlabel('Doublet score')\n",
    "plt.ylabel('Number of cells')\n",
    "plt.title('Doublet score distribution after removing predicted doublets')\n",
    "plt.legend()\n",
    "plt.show()"
   ]
  },
  {
   "cell_type": "code",
   "execution_count": null,
   "metadata": {
    "colab": {
     "base_uri": "https://localhost:8080/"
    },
    "executionInfo": {
     "elapsed": 1198,
     "status": "ok",
     "timestamp": 1759683958226,
     "user": {
      "displayName": "Ekow Mills",
      "userId": "12893291206346354513"
     },
     "user_tz": -60
    },
    "id": "TDvwqkfiYsox",
    "outputId": "67f00308-afe8-45af-fd7f-bae576cb4d87"
   },
   "outputs": [],
   "source": [
    "# Before removing doublets\n",
    "total_cells_before = adata_scrub.n_obs\n",
    "predicted_doublets_before = adata_scrub.obs['predicted_doublet'].sum()\n",
    "singlets_before = total_cells_before - predicted_doublets_before\n",
    "mean_score_before = adata_scrub.obs['doublet_score'].mean()\n",
    "median_score_before = adata_scrub.obs['doublet_score'].median()\n",
    "\n",
    "print(\"--- Before removing doublets ---\")\n",
    "print(f\"Total cells: {total_cells_before}\")\n",
    "print(f\"Predicted doublets: {predicted_doublets_before}\")\n",
    "print(f\"Predicted singlets: {singlets_before}\")\n",
    "print(f\"Mean doublet score: {mean_score_before:.4f}\")\n",
    "print(f\"Median doublet score: {median_score_before:.4f}\")\n",
    "print()\n",
    "\n",
    "# After removing doublets\n",
    "adata_after = adata_scrub[~adata_scrub.obs['predicted_doublet']].copy()\n",
    "total_cells_after = adata_after.n_obs\n",
    "mean_score_after = adata_after.obs['doublet_score'].mean()\n",
    "median_score_after = adata_after.obs['doublet_score'].median()\n",
    "\n",
    "print(\"--- After removing doublets ---\")\n",
    "print(f\"Total cells: {total_cells_after}\")\n",
    "print(f\"Mean doublet score: {mean_score_after:.4f}\")\n",
    "print(f\"Median doublet score: {median_score_after:.4f}\")\n"
   ]
  },
  {
   "cell_type": "code",
   "execution_count": null,
   "metadata": {
    "colab": {
     "base_uri": "https://localhost:8080/"
    },
    "executionInfo": {
     "elapsed": 303,
     "status": "ok",
     "timestamp": 1759683966690,
     "user": {
      "displayName": "Ekow Mills",
      "userId": "12893291206346354513"
     },
     "user_tz": -60
    },
    "id": "l8krUiMXbVOv",
    "outputId": "7fbc0fca-4c25-4bf0-dcbc-d09354ef6739"
   },
   "outputs": [],
   "source": [
    "adata_after.layers[\"counts\"] = adata_after.X.copy()\n",
    "print(f\"Raw counts saved. Layer keys: {adata_after.layers.keys()}\")"
   ]
  },
  {
   "cell_type": "code",
   "execution_count": null,
   "metadata": {},
   "outputs": [],
   "source": [
    "adata_after"
   ]
  },
  {
   "cell_type": "code",
   "execution_count": null,
   "metadata": {},
   "outputs": [],
   "source": [
    "# adata_after.write_h5ad(\"gene_expression_processed1.h5ad\")"
   ]
  },
  {
   "cell_type": "markdown",
   "metadata": {},
   "source": [
    "### Generate Final Transcriptomics Data for 5000 HVG"
   ]
  },
  {
   "cell_type": "code",
   "execution_count": 9,
   "metadata": {},
   "outputs": [],
   "source": [
    "adata = sc.read_h5ad(base_dir / \"dataset/h5ad/gene_expression_processed1.h5ad\")"
   ]
  },
  {
   "cell_type": "code",
   "execution_count": 10,
   "metadata": {},
   "outputs": [
    {
     "data": {
      "text/plain": [
       "AnnData object with n_obs × n_vars = 52831 × 22735\n",
       "    obs: 'sample_id', 'patient_id', 'response', 'n_genes_by_counts', 'log1p_n_genes_by_counts', 'total_counts', 'log1p_total_counts', 'pct_counts_in_top_20_genes', 'total_counts_mt', 'log1p_total_counts_mt', 'pct_counts_mt', 'total_counts_ribo', 'log1p_total_counts_ribo', 'pct_counts_ribo', 'total_counts_hb', 'log1p_total_counts_hb', 'pct_counts_hb', 'n_genes', 'outlier', 'mt_outlier', 'doublet_score', 'predicted_doublet'\n",
       "    var: 'symbol', 'mt', 'ribo', 'hb', 'n_cells_by_counts', 'mean_counts', 'log1p_mean_counts', 'pct_dropout_by_counts', 'total_counts', 'log1p_total_counts', 'n_cells'\n",
       "    layers: 'counts'"
      ]
     },
     "execution_count": 10,
     "metadata": {},
     "output_type": "execute_result"
    }
   ],
   "source": [
    "adata"
   ]
  },
  {
   "cell_type": "code",
   "execution_count": 11,
   "metadata": {
    "colab": {
     "base_uri": "https://localhost:8080/",
     "height": 709
    },
    "executionInfo": {
     "elapsed": 5240,
     "status": "ok",
     "timestamp": 1759683993609,
     "user": {
      "displayName": "Ekow Mills",
      "userId": "12893291206346354513"
     },
     "user_tz": -60
    },
    "id": "oUx0P5g9AYzC",
    "outputId": "bdea6738-2ecc-40db-b726-4ba7449ea5de"
   },
   "outputs": [
    {
     "name": "stdout",
     "output_type": "stream",
     "text": [
      "Highly Variable Genes selection counts:\n",
      "highly_variable\n",
      "False    17735\n",
      "True      5000\n",
      "Name: count, dtype: int64\n",
      "\n",
      "Summary statistics of gene means and dispersions:\n",
      "              means   dispersions  dispersions_norm\n",
      "count  2.273500e+04  22727.000000      22727.000000\n",
      "mean   1.613837e-01      1.376082          0.000044\n",
      "std    3.699218e-01      0.445417          0.999604\n",
      "min    1.000000e-12     -0.615357         -4.533753\n",
      "25%    1.435658e-03      1.220120         -0.404624\n",
      "50%    2.512826e-02      1.337774         -0.074510\n",
      "75%    1.764122e-01      1.473191          0.240613\n",
      "max    5.249661e+00      6.398817         12.816979\n"
     ]
    }
   ],
   "source": [
    "# --- Normalization and log-transform ---\n",
    "sc.pp.normalize_total(adata, target_sum=1e4)\n",
    "sc.pp.log1p(adata)\n",
    "\n",
    "# --- Compute HVGs but do NOT subset (retain all genes) ---\n",
    "sc.pp.highly_variable_genes(adata, n_top_genes=5000, subset=False)\n",
    "\n",
    "# --- Print HVG summary stats (optional but good for verification) ---\n",
    "print(\"Highly Variable Genes selection counts:\")\n",
    "print(adata.var['highly_variable'].value_counts())\n",
    "print(\"\\nSummary statistics of gene means and dispersions:\")\n",
    "print(adata.var[['means', 'dispersions', 'dispersions_norm']].describe())\n",
    "\n",
    "# --- Plot HVG selection curve ---\n",
    "# sc.pl.highly_variable_genes(adata, save=False)"
   ]
  },
  {
   "cell_type": "code",
   "execution_count": 12,
   "metadata": {},
   "outputs": [
    {
     "name": "stdout",
     "output_type": "stream",
     "text": [
      "Number of HVG genes: 75\n"
     ]
    }
   ],
   "source": [
    "hvg_check = set(adata.var[adata.var['highly_variable']==True].index) &set(gene_meta.Gene) \n",
    "print(f\"Number of HVG genes: {len(hvg_check)}\")"
   ]
  },
  {
   "cell_type": "code",
   "execution_count": 13,
   "metadata": {},
   "outputs": [
    {
     "data": {
      "text/plain": [
       "AnnData object with n_obs × n_vars = 52831 × 5000\n",
       "    obs: 'sample_id', 'patient_id', 'response', 'n_genes_by_counts', 'log1p_n_genes_by_counts', 'total_counts', 'log1p_total_counts', 'pct_counts_in_top_20_genes', 'total_counts_mt', 'log1p_total_counts_mt', 'pct_counts_mt', 'total_counts_ribo', 'log1p_total_counts_ribo', 'pct_counts_ribo', 'total_counts_hb', 'log1p_total_counts_hb', 'pct_counts_hb', 'n_genes', 'outlier', 'mt_outlier', 'doublet_score', 'predicted_doublet'\n",
       "    var: 'symbol', 'mt', 'ribo', 'hb', 'n_cells_by_counts', 'mean_counts', 'log1p_mean_counts', 'pct_dropout_by_counts', 'total_counts', 'log1p_total_counts', 'n_cells', 'highly_variable', 'means', 'dispersions', 'dispersions_norm'\n",
       "    uns: 'log1p', 'hvg'\n",
       "    layers: 'counts'"
      ]
     },
     "execution_count": 13,
     "metadata": {},
     "output_type": "execute_result"
    }
   ],
   "source": [
    "adata_hvg = adata[:, adata.var['highly_variable']].copy()\n",
    "adata_hvg"
   ]
  },
  {
   "cell_type": "code",
   "execution_count": null,
   "metadata": {},
   "outputs": [],
   "source": [
    "# Convert to dense matrix if it's sparse\n",
    "X = adata_hvg.X.toarray() if hasattr(adata_hvg.X, \"toarray\") else adata_hvg.X\n",
    "\n",
    "# Create DataFrame (rows = cells, columns = genes)\n",
    "df = pd.DataFrame(X, index=adata_hvg.obs_names, columns=adata_hvg.var_names)\n",
    "\n",
    "# Save to CSV\n",
    "df.to_csv(base_dir / \"dataset/csv/transcriptomic_features.csv\")"
   ]
  },
  {
   "cell_type": "code",
   "execution_count": null,
   "metadata": {},
   "outputs": [],
   "source": [
    "# Sort genes by normalized dispersion (descending)\n",
    "hvg_sorted = adata.var[adata.var['highly_variable']].sort_values(\n",
    "    by='dispersions_norm', ascending=False\n",
    ")\n",
    "\n",
    "# Extract gene names in sorted order\n",
    "hvg_genes = hvg_sorted.index.to_list()\n",
    "\n",
    "# Save with column name 'gene'\n",
    "pd.DataFrame({'gene': hvg_genes}).to_csv(base_dir / \"dataset/csv/hvg_genes.csv\", index=False)\n"
   ]
  },
  {
   "cell_type": "markdown",
   "metadata": {},
   "source": [
    "### DE Analysis"
   ]
  },
  {
   "cell_type": "code",
   "execution_count": null,
   "metadata": {},
   "outputs": [],
   "source": [
    "# DE genes\n",
    "# DE analysis\n",
    "# find DE genes by t-test\n",
    "key_DE = \"response\"\n",
    "sc.tl.rank_genes_groups(adata, key_DE, method=\"t-test\", key_added=key_DE, reference='Non-responder') \n",
    "\n",
    "results = adata.uns[key_DE]\n",
    "('0', '1', '2', '3', '4')\n",
    "\n",
    "out = np.array([[0,0,0,0,0]]) \n",
    "for group in results['names'].dtype.names:\n",
    "    out = np.vstack((out, np.vstack((results['names'][group],\n",
    "                                     results['scores'][group],\n",
    "                                     results['pvals_adj'][group],\n",
    "                                     results['logfoldchanges'][group],\n",
    "                                     np.array([group] * len(results['names'][group])).astype('object'))).T))\n",
    "\n",
    "\n",
    "\n",
    "markers = pd.DataFrame(out[1:], columns = ['Gene', 'scores', 'pval_adj', 'lfc', 'cluster'])\n",
    "\n"
   ]
  },
  {
   "cell_type": "code",
   "execution_count": null,
   "metadata": {},
   "outputs": [],
   "source": [
    "markers.query('Gene in @gene_meta.Gene & pval_adj < 0.05').to_csv('DE_metabolic_genes.csv')\n",
    "markers.query(' pval_adj < 0.05').to_csv('DE_genes.csv')"
   ]
  },
  {
   "cell_type": "code",
   "execution_count": null,
   "metadata": {},
   "outputs": [],
   "source": [
    "union_genes = set(markers.query('Gene in @gene_meta.Gene & pval_adj < 0.05').Gene) |hvg_check\n",
    "pd.DataFrame(union_genes).to_csv('union_5000HVG_DE_genes.csv')"
   ]
  },
  {
   "cell_type": "code",
   "execution_count": null,
   "metadata": {},
   "outputs": [],
   "source": [
    "print(\"Total metabolic genes in the model:\", len(gene_meta))\n",
    "print(\"Total metabolic genes if 5000HVG genes selected:\", len(hvg_check))\n",
    "print(\"Total DE metabolic genes :\", len(set(markers.query('Gene in @gene_meta.Gene & pval_adj < 0.05').Gene)))\n",
    "print(\"Total metabolic genes in union:\", len(set(markers.query('Gene in @gene_meta.Gene & pval_adj < 0.05').Gene) |hvg_check))\n"
   ]
  },
  {
   "cell_type": "code",
   "execution_count": null,
   "metadata": {
    "executionInfo": {
     "elapsed": 769,
     "status": "ok",
     "timestamp": 1759684958730,
     "user": {
      "displayName": "Ekow Mills",
      "userId": "12893291206346354513"
     },
     "user_tz": -60
    },
    "id": "GMSpgEWhHhC3"
   },
   "outputs": [],
   "source": [
    "# Select only HVGs for downstream analysis\n",
    "adata_hvg = adata[:, adata.var['highly_variable']].copy()"
   ]
  },
  {
   "cell_type": "code",
   "execution_count": null,
   "metadata": {},
   "outputs": [],
   "source": [
    "adata_hvg"
   ]
  }
 ],
 "metadata": {
  "colab": {
   "gpuType": "T4",
   "provenance": []
  },
  "kernelspec": {
   "display_name": "venv (3.12.3)",
   "language": "python",
   "name": "python3"
  },
  "language_info": {
   "codemirror_mode": {
    "name": "ipython",
    "version": 3
   },
   "file_extension": ".py",
   "mimetype": "text/x-python",
   "name": "python",
   "nbconvert_exporter": "python",
   "pygments_lexer": "ipython3",
   "version": "3.12.3"
  }
 },
 "nbformat": 4,
 "nbformat_minor": 0
}
